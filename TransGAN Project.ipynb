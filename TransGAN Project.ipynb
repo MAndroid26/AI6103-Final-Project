{
 "cells": [
  {
   "cell_type": "markdown",
   "id": "334367a9",
   "metadata": {},
   "source": [
    "# Import libraries"
   ]
  },
  {
   "cell_type": "code",
   "execution_count": 1,
   "id": "6fb68ebe",
   "metadata": {
    "scrolled": true
   },
   "outputs": [],
   "source": [
    "from __future__ import division\n",
    "from __future__ import print_function\n",
    "\n",
    "import time\n",
    "import argparse\n",
    "import numpy as np\n",
    "\n",
    "import torch\n",
    "import torch.nn.functional as F\n",
    "import torch.optim as optim\n",
    "from torchvision.utils import make_grid, save_image\n",
    "\n",
    "from tensorboardX import SummaryWriter\n",
    "from tqdm import tqdm\n",
    "from copy import deepcopy\n",
    "\n",
    "\n",
    "from utils import *\n",
    "from models_final import *\n",
    "from fid_score import *\n",
    "from inception_score import *"
   ]
  },
  {
   "cell_type": "code",
   "execution_count": 2,
   "id": "257a3055",
   "metadata": {
    "scrolled": true
   },
   "outputs": [
    {
     "name": "stderr",
     "output_type": "stream",
     "text": [
      "A subdirectory or file checkpoint already exists.\n",
      "A subdirectory or file generated_images already exists.\n"
     ]
    },
    {
     "name": "stdout",
     "output_type": "stream",
     "text": [
      "Requirement already satisfied: tensorboardX in c:\\users\\malin\\anaconda3\\envs\\ai6103\\lib\\site-packages (2.2)\n",
      "Requirement already satisfied: protobuf>=3.8.0 in c:\\users\\malin\\anaconda3\\envs\\ai6103\\lib\\site-packages (from tensorboardX) (3.20.1)\n",
      "Requirement already satisfied: numpy in c:\\users\\malin\\anaconda3\\envs\\ai6103\\lib\\site-packages (from tensorboardX) (1.23.1)\n",
      "C:\\Users\\malin\\TransGAN\\fid_stat\n"
     ]
    },
    {
     "name": "stderr",
     "output_type": "stream",
     "text": [
      "A subdirectory or file fid_stat already exists.\n"
     ]
    },
    {
     "name": "stdout",
     "output_type": "stream",
     "text": [
      "C:\\Users\\malin\\TransGAN\n"
     ]
    },
    {
     "name": "stderr",
     "output_type": "stream",
     "text": [
      "'wget' is not recognized as an internal or external command,\n",
      "operable program or batch file.\n"
     ]
    }
   ],
   "source": [
    "#Necessary folders and files\n",
    "!mkdir checkpoint\n",
    "!mkdir generated_images\n",
    "!pip install tensorboardX\n",
    "!mkdir fid_stat\n",
    "%cd fid_stat\n",
    "!wget bioinf.jku.at/research/ttur/ttur_stats/fid_stats_cifar10_train.npz\n",
    "%cd .."
   ]
  },
  {
   "cell_type": "markdown",
   "id": "a7bef9a6",
   "metadata": {},
   "source": [
    "# Hyperparameters for CIFAR-10 Dataset"
   ]
  },
  {
   "cell_type": "code",
   "execution_count": 2,
   "id": "377d2938",
   "metadata": {},
   "outputs": [],
   "source": [
    "# training hyperparameters given by code author\n",
    "\n",
    "lr_gen = 0.0001 #Learning rate for generator\n",
    "lr_dis = 0.0001 #Learning rate for discriminator\n",
    "latent_dim = 1024 #Latent dimension\n",
    "gener_batch_size = 32 #Batch size for generator\n",
    "dis_batch_size = 32 #Batch size for discriminator\n",
    "epoch = 300 #Number of epoch\n",
    "weight_decay = 1e-3 #Weight decay\n",
    "drop_rate = 0.5 #dropout\n",
    "n_critic = 5 #\n",
    "max_iter = 500000\n",
    "img_name = \"img_name\"\n",
    "lr_decay = True\n",
    "\n",
    "# architecture details by authors\n",
    "image_size = 32 #H,W size of image for discriminator\n",
    "img_size = 32\n",
    "initial_size = 8 #Initial size for generator\n",
    "patch_size = 4 #Patch size for generated image\n",
    "num_classes = 1 #Number of classes for discriminator \n",
    "output_dir = 'checkpoint' #saved model path\n",
    "dim = 1024 #Embedding dimension \n",
    "optimizer = 'Adam' #Optimizer\n",
    "loss = \"wgangp_eps\" #Loss function\n",
    "phi = 1 #\n",
    "beta1 = 0 # Adam Optimizer param\n",
    "beta2 = 0.99 # Adam Optimizer param\n",
    "diff_aug = \"translation,cutout,color\" #data augmentation"
   ]
  },
  {
   "cell_type": "markdown",
   "id": "53df6c92",
   "metadata": {},
   "source": [
    "# Training"
   ]
  },
  {
   "cell_type": "code",
   "execution_count": 3,
   "id": "f5c1ed00",
   "metadata": {},
   "outputs": [],
   "source": [
    "#FID\n",
    "fid_stat = 'fid_stat/fid_stats_cifar10_train.npz'\n",
    "\n",
    "writer=SummaryWriter()\n",
    "writer_dict = {'writer':writer}\n",
    "writer_dict[\"train_global_steps\"]=0\n",
    "writer_dict[\"valid_global_steps\"]=0"
   ]
  },
  {
   "cell_type": "code",
   "execution_count": 4,
   "id": "470e7ca8",
   "metadata": {},
   "outputs": [],
   "source": [
    "def compute_gradient_penalty(D, real_samples, fake_samples, phi):\n",
    "    \"\"\"Calculates the gradient penalty loss for WGAN GP\"\"\"\n",
    "    # Random weight term for interpolation between real and fake samples\n",
    "    alpha = torch.Tensor(np.random.random((real_samples.size(0), 1, 1, 1))).to(real_samples.get_device())\n",
    "    # Get random interpolation between real and fake samples\n",
    "    interpolates = (alpha * real_samples + ((1 - alpha) * fake_samples)).requires_grad_(True)\n",
    "    d_interpolates = D(interpolates)\n",
    "    fake = torch.ones([real_samples.shape[0], 1], requires_grad=False).to(real_samples.get_device())\n",
    "    # Get gradient w.r.t. interpolates\n",
    "    gradients = torch.autograd.grad(\n",
    "        outputs=d_interpolates,\n",
    "        inputs=interpolates,\n",
    "        grad_outputs=fake,\n",
    "        create_graph=True,\n",
    "        retain_graph=True,\n",
    "        only_inputs=True,\n",
    "    )[0]\n",
    "    gradients = gradients.contiguous().view(gradients.size(0), -1)\n",
    "    gradient_penalty = ((gradients.norm(2, dim=1) - phi) ** 2).mean()\n",
    "    return gradient_penalty"
   ]
  },
  {
   "cell_type": "code",
   "execution_count": 5,
   "id": "38bd8643",
   "metadata": {},
   "outputs": [],
   "source": [
    "def train(noise,generator, discriminator, optim_gen, optim_dis, train_loader,\n",
    "        epoch, writer, schedulers, img_size=32, latent_dim = latent_dim,\n",
    "        n_critic = n_critic,\n",
    "        gener_batch_size=gener_batch_size, device=\"cuda:0\"):\n",
    "\n",
    "    writer = writer_dict['writer']\n",
    "    gen_step = 0\n",
    "    dis_step = 0\n",
    "    gloss = 0.\n",
    "    dloss = 0.\n",
    "\n",
    "    generator.train()\n",
    "    discriminator.train()\n",
    "\n",
    "    for index, (img, _) in enumerate(train_loader):\n",
    "\n",
    "        global_steps = writer_dict['train_global_steps']\n",
    "        \n",
    "        #Ground truth real image\n",
    "        real_imgs = img.type(torch.cuda.FloatTensor).cuda(device, non_blocking=True)\n",
    "        \n",
    "        ###\n",
    "        #Train Discriminator\n",
    "        ###\n",
    "        \n",
    "        optim_dis.zero_grad()\n",
    "        \n",
    "        #Sample Noise for Generator\n",
    "        noise = torch.cuda.FloatTensor(np.random.normal(0, 1, (img.shape[0], latent_dim))).cuda(device, non_blocking=True)\n",
    "        \n",
    "        #Generate fake image\n",
    "        fake_imgs = generator(noise).detach()\n",
    "        \n",
    "        #Validate\n",
    "        real_valid = discriminator(real_imgs)\n",
    "        fake_valid = discriminator(fake_imgs)\n",
    "\n",
    "        #Loss calculation - WGAN GP\n",
    "        gradient_penalty = compute_gradient_penalty(discriminator, real_imgs, fake_imgs.detach(), phi)\n",
    "        loss_dis = -torch.mean(real_valid) + torch.mean(fake_valid) + gradient_penalty * 10 / (phi ** 2)         \n",
    "\n",
    "        loss_dis.backward()\n",
    "        optim_dis.step()\n",
    "\n",
    "        writer.add_scalar(\"loss_dis\", loss_dis.item(), global_steps)\n",
    "        \n",
    "        optim_dis.zero_grad()\n",
    "        \n",
    "        dis_step += 1\n",
    "        dloss += loss_dis.item()\n",
    "        \n",
    "        ###\n",
    "        #Train Generator\n",
    "        ###\n",
    "        \n",
    "        if global_steps % n_critic == 0:\n",
    "            \n",
    "            optim_gen.zero_grad()\n",
    "            \n",
    "            noise_gen = torch.cuda.FloatTensor(np.random.normal(0, 1, (gener_batch_size, latent_dim)))\n",
    "            generated_imgs= generator(noise_gen)\n",
    "            fake_valid = discriminator(generated_imgs)\n",
    "            \n",
    "            #Loss calculation\n",
    "            loss_gen = -torch.mean(fake_valid)#.to(device)\n",
    "            \n",
    "            loss_gen.backward()\n",
    "            optim_gen.step()\n",
    "            \n",
    "            writer.add_scalar(\"loss_gen\", loss_gen.item(), global_steps)\n",
    "            \n",
    "            gen_step += 1\n",
    "            gloss += loss_gen.item()\n",
    "        \n",
    "        #Log\n",
    "        if gen_step and index % 100 == 0:\n",
    "            sample_imgs = generated_imgs[:25]\n",
    "            img_grid = make_grid(sample_imgs, nrow=5, normalize=True, scale_each=True)\n",
    "            save_image(sample_imgs, f'generated_images/generated_img_{epoch}_{index % len(train_loader)}.jpg', \n",
    "                       nrow=5, normalize=True, scale_each=True)            \n",
    "            tqdm.write(\"[Epoch %d] [Batch %d/%d] [D loss: %f] [G loss: %f]\" %\n",
    "                (epoch+1, index % len(train_loader), len(train_loader), loss_dis.item(), loss_gen.item()))\n",
    "            \n",
    "        writer_dict['train_global_steps'] = global_steps + 1\n",
    "    \n",
    "    #Learning rate scheduler\n",
    "    if schedulers:\n",
    "        gen_scheduler, dis_scheduler = schedulers\n",
    "        gen_scheduler.step()\n",
    "        g_lr = gen_scheduler.get_last_lr()\n",
    "        dis_scheduler.step()\n",
    "        d_lr = dis_scheduler.get_last_lr()\n",
    "        writer.add_scalar('LR/d_lr', d_lr, global_steps)\n",
    "        writer.add_scalar('LR/g_lr', g_lr, global_steps)\n",
    "    \n",
    "    return gloss/gen_step, dloss/dis_step"
   ]
  },
  {
   "cell_type": "code",
   "execution_count": 6,
   "id": "cc206a3a",
   "metadata": {},
   "outputs": [],
   "source": [
    "def validate(generator, writer_dict, fid_stat):\n",
    "\n",
    "    writer = writer_dict['writer']\n",
    "    global_steps = writer_dict['valid_global_steps']\n",
    "\n",
    "    generator = generator.eval()\n",
    "    fid_score = get_fid(fid_stat, generator, num_img=4096, val_batch_size=16, latent_dim=1024)\n",
    "    print(f\"FID score: {fid_score}\")\n",
    "    \n",
    "    is_mean, is_std = get_is(generator, num_img=4096, val_batch_size=16, latent_dim=1024)\n",
    "    print(f\"Inception score: {is_mean}\")\n",
    "\n",
    "    writer.add_scalar('FID_score', fid_score, global_steps)\n",
    "    writer.add_scalar('Inception_score', is_mean, global_steps)\n",
    "\n",
    "    writer_dict['valid_global_steps'] = global_steps + 1\n",
    "    return fid_score, is_mean, is_std"
   ]
  },
  {
   "cell_type": "code",
   "execution_count": 7,
   "id": "34ec724f",
   "metadata": {},
   "outputs": [],
   "source": [
    "def Record_Train(epoch_record,dis_lr,gen_lr,dis_loss,gen_loss,fid_record,is_record):\n",
    "    TrainingRecord = [epoch_record,dis_lr,gen_lr,dis_loss,gen_loss,fid_record,is_record]\n",
    "    f = open(\"TrainingRecord.txt\", \"a\")\n",
    "    f.write('TrainingRecord\\n')\n",
    "    f.write('TrainingRecord = [epoch_record,dis_lr,gen_lr,dis_loss,gen_loss,fid_record,is_record]\\n')\n",
    "    f.write(str(TrainingRecord)+'\\n')\n",
    "    f.close()"
   ]
  },
  {
   "cell_type": "markdown",
   "id": "f2427604",
   "metadata": {},
   "source": [
    "# Config"
   ]
  },
  {
   "cell_type": "code",
   "execution_count": 8,
   "id": "5a5d1e54",
   "metadata": {},
   "outputs": [],
   "source": [
    "#Assign device\n",
    "if torch.cuda.is_available():\n",
    "    device = torch.device(\"cuda:0\")\n",
    "else:\n",
    "    device = torch.device(\"cpu\")"
   ]
  },
  {
   "cell_type": "code",
   "execution_count": 9,
   "id": "754f931c",
   "metadata": {},
   "outputs": [
    {
     "name": "stderr",
     "output_type": "stream",
     "text": [
      "C:\\Users\\malin\\TransGAN\\utils.py:41: UserWarning: nn.init.xavier_uniform is now deprecated in favor of nn.init.xavier_uniform_.\n",
      "  nn.init.xavier_uniform(m.weight.data, 1.)\n"
     ]
    },
    {
     "name": "stdout",
     "output_type": "stream",
     "text": [
      "Generator and Discriminator defined\n"
     ]
    }
   ],
   "source": [
    "#Generator and Discriminator\n",
    "generator= Generator(layer1=5, layer2=4, layer3=2, patch_size=8, dim=1024, heads=4, mlp_ratio=4, drop_rate=0.5)\n",
    "generator.to(device)\n",
    "\n",
    "discriminator = Discriminator(diff_aug = diff_aug, layer1=3, layer2=3, img_size=32, patch_size=4, input_channel=3, num_classes=1,\n",
    "                 dim=384, heads=4, mlp_ratio=4, drop_rate=0.5)\n",
    "discriminator.to(device)\n",
    "\n",
    "generator.apply(inits_weight)\n",
    "discriminator.apply(inits_weight)\n",
    "print('Generator and Discriminator defined')"
   ]
  },
  {
   "cell_type": "code",
   "execution_count": 9,
   "id": "4858d9a7",
   "metadata": {},
   "outputs": [
    {
     "name": "stderr",
     "output_type": "stream",
     "text": [
      "C:\\Users\\malin\\TransGAN\\utils.py:41: UserWarning: nn.init.xavier_uniform is now deprecated in favor of nn.init.xavier_uniform_.\n",
      "  nn.init.xavier_uniform(m.weight.data, 1.)\n"
     ]
    },
    {
     "name": "stdout",
     "output_type": "stream",
     "text": [
      "Generator and Discriminator defined\n"
     ]
    }
   ],
   "source": [
    "#Generator and Discriminator original\n",
    "generator= Generator(depth1=5, depth2=4, depth3=3, initial_size=initial_size, dim=384, heads=4, mlp_ratio=4, drop_rate=0.5)#,device = device)\n",
    "generator.to(device)\n",
    "\n",
    "discriminator = Discriminator(diff_aug = diff_aug, image_size=32, patch_size=4, input_channel=3, num_classes=1,\n",
    "                 dim=384, depth=8, heads=4, mlp_ratio=4,\n",
    "                 drop_rate=0.5)\n",
    "discriminator.to(device)\n",
    "\n",
    "\n",
    "generator.apply(inits_weight)\n",
    "discriminator.apply(inits_weight)\n",
    "print('Generator and Discriminator defined')"
   ]
  },
  {
   "cell_type": "code",
   "execution_count": 10,
   "id": "f69f1a69",
   "metadata": {},
   "outputs": [
    {
     "name": "stdout",
     "output_type": "stream",
     "text": [
      "optimizer: Adam\n"
     ]
    }
   ],
   "source": [
    "#Optimizer\n",
    "if optimizer == 'Adam':\n",
    "    optim_gen = optim.Adam(filter(lambda p: p.requires_grad, generator.parameters()), lr=lr_gen, betas=(beta1, beta2))\n",
    "    optim_dis = optim.Adam(filter(lambda p: p.requires_grad, discriminator.parameters()),lr=lr_dis, betas=(beta1, beta2))\n",
    "    \n",
    "elif optimizer == 'AdamW':\n",
    "    optim_gen = optim.AdamW(filter(lambda p: p.requires_grad, generator.parameters()), lr=lr_gen, betas=(beta1, beta2), \n",
    "                            weight_decay=weight_decay)\n",
    "    optim_dis = optim.AdamW(filter(lambda p: p.requires_grad, discriminator.parameters()),lr=lr_dis, betas=(beta1, beta2), \n",
    "                            weight_decay=weight_decay)\n",
    "\n",
    "\n",
    "#gen_scheduler = LinearLrDecay(optim_gen, lr_gen, 0.0, 0, max_iter * n_critic)\n",
    "#dis_scheduler = LinearLrDecay(optim_dis, lr_dis, 0.0, 0, max_iter * n_critic)\n",
    "\n",
    "gen_scheduler = optim.lr_scheduler.CosineAnnealingLR(optim_gen, T_max=epoch)\n",
    "dis_scheduler = optim.lr_scheduler.CosineAnnealingLR(optim_dis, T_max=epoch)\n",
    "\n",
    "print(\"optimizer:\",optimizer)"
   ]
  },
  {
   "cell_type": "code",
   "execution_count": 11,
   "id": "e3136656",
   "metadata": {},
   "outputs": [
    {
     "name": "stdout",
     "output_type": "stream",
     "text": [
      "Files already downloaded and verified\n"
     ]
    }
   ],
   "source": [
    "#Load dataset\n",
    "transform = transforms.Compose([transforms.Resize(size=(img_size, img_size)),\n",
    "                                transforms.RandomHorizontalFlip(),\n",
    "                                transforms.ToTensor(),\n",
    "                                transforms.Normalize((0.5, 0.5, 0.5), (0.5, 0.5, 0.5))])\n",
    "\n",
    "train_set = torchvision.datasets.CIFAR10(root='./data', train=True, download=True, transform=transform)\n",
    "train_loader = torch.utils.data.DataLoader(dataset=train_set, batch_size=32, shuffle=True)"
   ]
  },
  {
   "cell_type": "code",
   "execution_count": 12,
   "id": "a0457627",
   "metadata": {},
   "outputs": [],
   "source": [
    "best = 1e4\n",
    "best_epoch = 0\n",
    "\n",
    "epoch_record= []\n",
    "dis_lr = []\n",
    "gen_lr = []\n",
    "dis_loss = []\n",
    "gen_loss = []\n",
    "fid_record = []\n",
    "is_record = [[],[]]"
   ]
  },
  {
   "cell_type": "markdown",
   "id": "e5df0cad",
   "metadata": {},
   "source": [
    "# Main"
   ]
  },
  {
   "cell_type": "code",
   "execution_count": 13,
   "id": "6cb099f3",
   "metadata": {
    "scrolled": true
   },
   "outputs": [
    {
     "name": "stdout",
     "output_type": "stream",
     "text": [
      "------- Epoch   1 -------\n"
     ]
    },
    {
     "name": "stderr",
     "output_type": "stream",
     "text": [
      "C:\\Users\\malin\\anaconda3\\envs\\AI6103\\lib\\site-packages\\torch\\functional.py:478: UserWarning: torch.meshgrid: in an upcoming release, it will be required to pass the indexing argument. (Triggered internally at  C:\\cb\\pytorch_1000000000000\\work\\aten\\src\\ATen\\native\\TensorShape.cpp:2895.)\n",
      "  return _VF.meshgrid(tensors, **kwargs)  # type: ignore[attr-defined]\n"
     ]
    },
    {
     "name": "stdout",
     "output_type": "stream",
     "text": [
      "[Epoch 1] [Batch 0/1563] [D loss: 3.556046] [G loss: -0.744356]\n",
      "[Epoch 1] [Batch 100/1563] [D loss: -29.021587] [G loss: 8.220548]\n",
      "[Epoch 1] [Batch 200/1563] [D loss: -35.306534] [G loss: 15.706522]\n",
      "[Epoch 1] [Batch 300/1563] [D loss: -20.103798] [G loss: 4.572022]\n",
      "[Epoch 1] [Batch 400/1563] [D loss: -19.777868] [G loss: 12.333179]\n",
      "[Epoch 1] [Batch 500/1563] [D loss: -5.337823] [G loss: 7.443689]\n",
      "[Epoch 1] [Batch 600/1563] [D loss: -7.689364] [G loss: 5.157987]\n",
      "[Epoch 1] [Batch 700/1563] [D loss: -14.346274] [G loss: 9.502428]\n",
      "[Epoch 1] [Batch 800/1563] [D loss: -6.218648] [G loss: 7.400649]\n",
      "[Epoch 1] [Batch 900/1563] [D loss: -8.657193] [G loss: 8.524136]\n",
      "[Epoch 1] [Batch 1000/1563] [D loss: -7.707193] [G loss: 9.040615]\n",
      "[Epoch 1] [Batch 1100/1563] [D loss: -4.985080] [G loss: 8.176661]\n",
      "[Epoch 1] [Batch 1200/1563] [D loss: -3.068681] [G loss: 5.416013]\n",
      "[Epoch 1] [Batch 1300/1563] [D loss: -10.500183] [G loss: 6.058139]\n",
      "[Epoch 1] [Batch 1400/1563] [D loss: -1.637666] [G loss: 2.457803]\n",
      "[Epoch 1] [Batch 1500/1563] [D loss: -5.143307] [G loss: 6.786004]\n"
     ]
    },
    {
     "name": "stderr",
     "output_type": "stream",
     "text": [
      "sample images: 100%|██████████| 256/256 [00:05<00:00, 45.30it/s]\n",
      "C:\\Users\\malin\\anaconda3\\envs\\AI6103\\lib\\site-packages\\torchvision\\models\\_utils.py:208: UserWarning: The parameter 'pretrained' is deprecated since 0.13 and will be removed in 0.15, please use 'weights' instead.\n",
      "  warnings.warn(\n",
      "C:\\Users\\malin\\anaconda3\\envs\\AI6103\\lib\\site-packages\\torchvision\\models\\_utils.py:223: UserWarning: Arguments other than a weight enum or `None` for 'weights' are deprecated since 0.13 and will be removed in 0.15. The current behavior is equivalent to passing `weights=None`.\n",
      "  warnings.warn(msg)\n",
      "C:\\Users\\malin\\anaconda3\\envs\\AI6103\\lib\\site-packages\\torchvision\\models\\inception.py:43: FutureWarning: The default weight initialization of inception_v3 will be changed in future releases of torchvision. If you wish to keep the old behavior (which leads to long initialization times due to scipy/scipy#11299), please set init_weights=True.\n",
      "  warnings.warn(\n"
     ]
    },
    {
     "name": "stdout",
     "output_type": "stream",
     "text": [
      "Warning: number of images is not a multiple of the batch size. Some samples are going to be ignored.\n"
     ]
    },
    {
     "name": "stderr",
     "output_type": "stream",
     "text": [
      "100%|██████████| 81/81 [00:04<00:00, 17.46it/s]\n"
     ]
    },
    {
     "name": "stdout",
     "output_type": "stream",
     "text": [
      "FID score: nan\n"
     ]
    },
    {
     "name": "stderr",
     "output_type": "stream",
     "text": [
      "sample images: 100%|██████████| 256/256 [00:05<00:00, 46.04it/s]\n",
      "C:\\Users\\malin\\anaconda3\\envs\\AI6103\\lib\\site-packages\\torchvision\\models\\_utils.py:223: UserWarning: Arguments other than a weight enum or `None` for 'weights' are deprecated since 0.13 and will be removed in 0.15. The current behavior is equivalent to passing `weights=Inception_V3_Weights.IMAGENET1K_V1`. You can also use `weights=Inception_V3_Weights.DEFAULT` to get the most up-to-date weights.\n",
      "  warnings.warn(msg)\n",
      "C:\\Users\\malin\\TransGAN\\inception_score.py:373: UserWarning: Implicit dimension choice for softmax has been deprecated. Change the call to include dim=X as an argument.\n",
      "  return F.softmax(x).data.cpu().numpy()\n",
      "WARNING:root:NaN or Inf found in input tensor.\n"
     ]
    },
    {
     "name": "stdout",
     "output_type": "stream",
     "text": [
      "Inception score: 1.7672571630884046\n",
      "----- Epoch Summary -----\n",
      "Dis Loss: -9.619949 - Gen Loss: 8.602129 - Dis LR: 0.0001 - Gen LR: 0.0001\n",
      "FID score: nan - Inception score: 1.7672571630884046 || @ epoch 1.\n",
      "Best FID score: 10000.0 @ epoch 1\n",
      "-----      End      -----\n",
      "\n",
      "------- Epoch   2 -------\n",
      "[Epoch 2] [Batch 100/1563] [D loss: -2.481391] [G loss: 6.288790]\n",
      "[Epoch 2] [Batch 200/1563] [D loss: -0.557233] [G loss: 6.277472]\n",
      "[Epoch 2] [Batch 300/1563] [D loss: -2.661933] [G loss: -1.614112]\n",
      "[Epoch 2] [Batch 400/1563] [D loss: -2.504246] [G loss: 3.656421]\n",
      "[Epoch 2] [Batch 500/1563] [D loss: -1.327213] [G loss: 1.977930]\n",
      "[Epoch 2] [Batch 600/1563] [D loss: -0.741955] [G loss: 0.660285]\n",
      "[Epoch 2] [Batch 700/1563] [D loss: -3.250523] [G loss: 8.039284]\n",
      "[Epoch 2] [Batch 800/1563] [D loss: -2.209298] [G loss: 4.256313]\n",
      "[Epoch 2] [Batch 900/1563] [D loss: -3.719260] [G loss: 3.134342]\n",
      "[Epoch 2] [Batch 1000/1563] [D loss: -1.546381] [G loss: -0.849823]\n",
      "[Epoch 2] [Batch 1100/1563] [D loss: -2.545876] [G loss: 0.812482]\n",
      "[Epoch 2] [Batch 1200/1563] [D loss: -4.332916] [G loss: 0.377239]\n",
      "[Epoch 2] [Batch 1300/1563] [D loss: -0.671495] [G loss: 1.675586]\n",
      "[Epoch 2] [Batch 1400/1563] [D loss: -2.299613] [G loss: 4.365634]\n",
      "[Epoch 2] [Batch 1500/1563] [D loss: 2.295375] [G loss: -14.561998]\n"
     ]
    },
    {
     "name": "stderr",
     "output_type": "stream",
     "text": [
      "sample images: 100%|██████████| 256/256 [00:05<00:00, 46.48it/s]\n"
     ]
    },
    {
     "name": "stdout",
     "output_type": "stream",
     "text": [
      "Warning: number of images is not a multiple of the batch size. Some samples are going to be ignored.\n"
     ]
    },
    {
     "name": "stderr",
     "output_type": "stream",
     "text": [
      "100%|██████████| 81/81 [00:04<00:00, 19.08it/s]\n"
     ]
    },
    {
     "name": "stdout",
     "output_type": "stream",
     "text": [
      "FID score: 247.31619262695312\n"
     ]
    },
    {
     "name": "stderr",
     "output_type": "stream",
     "text": [
      "sample images: 100%|██████████| 256/256 [00:05<00:00, 45.16it/s]\n"
     ]
    },
    {
     "name": "stdout",
     "output_type": "stream",
     "text": [
      "Inception score: 1.8560524755817558\n",
      "Saved Latest Model!\n",
      "----- Epoch Summary -----\n",
      "Dis Loss: -2.048983 - Gen Loss: 2.127086 - Dis LR: 9.99973e-05 - Gen LR: 9.99973e-05\n",
      "FID score: 247.31619262695312 - Inception score: 1.8560524755817558 || @ epoch 2.\n",
      "Best FID score: 247.31619262695312 @ epoch 2\n",
      "-----      End      -----\n",
      "\n",
      "------- Epoch   3 -------\n",
      "[Epoch 3] [Batch 100/1563] [D loss: -2.341868] [G loss: -4.551669]\n",
      "[Epoch 3] [Batch 200/1563] [D loss: 0.442667] [G loss: 0.972016]\n",
      "[Epoch 3] [Batch 300/1563] [D loss: -0.383908] [G loss: -1.309771]\n",
      "[Epoch 3] [Batch 400/1563] [D loss: -0.808844] [G loss: -1.285276]\n",
      "[Epoch 3] [Batch 500/1563] [D loss: -2.088457] [G loss: -0.914315]\n",
      "[Epoch 3] [Batch 600/1563] [D loss: -1.774081] [G loss: 0.975447]\n",
      "[Epoch 3] [Batch 700/1563] [D loss: -0.969080] [G loss: 0.582072]\n",
      "[Epoch 3] [Batch 800/1563] [D loss: -0.571643] [G loss: 2.010096]\n",
      "[Epoch 3] [Batch 900/1563] [D loss: -0.302516] [G loss: 2.862986]\n",
      "[Epoch 3] [Batch 1000/1563] [D loss: 0.927218] [G loss: 2.989189]\n",
      "[Epoch 3] [Batch 1100/1563] [D loss: 0.455691] [G loss: 3.700821]\n",
      "[Epoch 3] [Batch 1200/1563] [D loss: -1.233711] [G loss: 0.240724]\n",
      "[Epoch 3] [Batch 1300/1563] [D loss: -1.171422] [G loss: 3.303061]\n",
      "[Epoch 3] [Batch 1400/1563] [D loss: -0.016121] [G loss: -0.304155]\n",
      "[Epoch 3] [Batch 1500/1563] [D loss: -0.726517] [G loss: 0.278864]\n"
     ]
    },
    {
     "name": "stderr",
     "output_type": "stream",
     "text": [
      "sample images: 100%|██████████| 256/256 [00:05<00:00, 47.45it/s]\n"
     ]
    },
    {
     "name": "stdout",
     "output_type": "stream",
     "text": [
      "Warning: number of images is not a multiple of the batch size. Some samples are going to be ignored.\n"
     ]
    },
    {
     "name": "stderr",
     "output_type": "stream",
     "text": [
      "100%|██████████| 81/81 [00:04<00:00, 19.53it/s]\n"
     ]
    },
    {
     "name": "stdout",
     "output_type": "stream",
     "text": [
      "FID score: 228.1446075439453\n"
     ]
    },
    {
     "name": "stderr",
     "output_type": "stream",
     "text": [
      "sample images: 100%|██████████| 256/256 [00:05<00:00, 47.55it/s]\n"
     ]
    },
    {
     "name": "stdout",
     "output_type": "stream",
     "text": [
      "Inception score: 1.743329178381222\n",
      "Saved Latest Model!\n",
      "----- Epoch Summary -----\n",
      "Dis Loss: -1.395553 - Gen Loss: 0.923275 - Dis LR: 9.9989e-05 - Gen LR: 9.9989e-05\n",
      "FID score: 228.1446075439453 - Inception score: 1.743329178381222 || @ epoch 3.\n",
      "Best FID score: 228.1446075439453 @ epoch 3\n",
      "-----      End      -----\n",
      "\n",
      "------- Epoch   4 -------\n",
      "[Epoch 4] [Batch 100/1563] [D loss: -0.746900] [G loss: 2.366483]\n",
      "[Epoch 4] [Batch 200/1563] [D loss: -0.693000] [G loss: -0.150930]\n",
      "[Epoch 4] [Batch 300/1563] [D loss: -0.600256] [G loss: 1.588559]\n",
      "[Epoch 4] [Batch 400/1563] [D loss: -0.609441] [G loss: 3.049771]\n",
      "[Epoch 4] [Batch 500/1563] [D loss: -0.384217] [G loss: 0.651247]\n",
      "[Epoch 4] [Batch 600/1563] [D loss: -0.329813] [G loss: -0.362076]\n",
      "[Epoch 4] [Batch 700/1563] [D loss: 0.061381] [G loss: 4.137530]\n",
      "[Epoch 4] [Batch 800/1563] [D loss: -2.734720] [G loss: 3.284729]\n",
      "[Epoch 4] [Batch 900/1563] [D loss: -1.261394] [G loss: -0.913920]\n",
      "[Epoch 4] [Batch 1000/1563] [D loss: -0.671185] [G loss: 0.516571]\n",
      "[Epoch 4] [Batch 1100/1563] [D loss: -0.362493] [G loss: 1.234447]\n",
      "[Epoch 4] [Batch 1200/1563] [D loss: 0.259701] [G loss: 2.363196]\n",
      "[Epoch 4] [Batch 1300/1563] [D loss: -0.697136] [G loss: 0.721769]\n",
      "[Epoch 4] [Batch 1400/1563] [D loss: -2.642705] [G loss: 1.878066]\n",
      "[Epoch 4] [Batch 1500/1563] [D loss: -0.322174] [G loss: 0.006224]\n"
     ]
    },
    {
     "name": "stderr",
     "output_type": "stream",
     "text": [
      "sample images: 100%|██████████| 256/256 [00:05<00:00, 47.36it/s]\n"
     ]
    },
    {
     "name": "stdout",
     "output_type": "stream",
     "text": [
      "Warning: number of images is not a multiple of the batch size. Some samples are going to be ignored.\n"
     ]
    },
    {
     "name": "stderr",
     "output_type": "stream",
     "text": [
      "100%|██████████| 81/81 [00:04<00:00, 19.51it/s]\n"
     ]
    },
    {
     "name": "stdout",
     "output_type": "stream",
     "text": [
      "FID score: 198.73460388183594\n"
     ]
    },
    {
     "name": "stderr",
     "output_type": "stream",
     "text": [
      "sample images: 100%|██████████| 256/256 [00:05<00:00, 47.36it/s]\n"
     ]
    },
    {
     "name": "stdout",
     "output_type": "stream",
     "text": [
      "Inception score: 2.141526093790193\n",
      "Saved Latest Model!\n",
      "----- Epoch Summary -----\n",
      "Dis Loss: -0.861770 - Gen Loss: 1.155089 - Dis LR: 9.99753e-05 - Gen LR: 9.99753e-05\n",
      "FID score: 198.73460388183594 - Inception score: 2.141526093790193 || @ epoch 4.\n",
      "Best FID score: 198.73460388183594 @ epoch 4\n",
      "-----      End      -----\n",
      "\n",
      "------- Epoch   5 -------\n",
      "[Epoch 5] [Batch 100/1563] [D loss: -0.059144] [G loss: 0.745772]\n",
      "[Epoch 5] [Batch 200/1563] [D loss: 0.035793] [G loss: 1.161401]\n",
      "[Epoch 5] [Batch 300/1563] [D loss: -1.054948] [G loss: 0.023323]\n",
      "[Epoch 5] [Batch 400/1563] [D loss: 0.977650] [G loss: 2.006350]\n",
      "[Epoch 5] [Batch 500/1563] [D loss: -0.329444] [G loss: 2.054723]\n",
      "[Epoch 5] [Batch 600/1563] [D loss: 2.226221] [G loss: -1.281440]\n",
      "[Epoch 5] [Batch 700/1563] [D loss: -0.040432] [G loss: 0.138243]\n",
      "[Epoch 5] [Batch 800/1563] [D loss: -1.452835] [G loss: -0.969807]\n",
      "[Epoch 5] [Batch 900/1563] [D loss: -0.975846] [G loss: 0.078720]\n",
      "[Epoch 5] [Batch 1000/1563] [D loss: -0.569872] [G loss: -0.470528]\n",
      "[Epoch 5] [Batch 1100/1563] [D loss: -0.694493] [G loss: 0.996549]\n",
      "[Epoch 5] [Batch 1200/1563] [D loss: -0.124202] [G loss: 2.416859]\n",
      "[Epoch 5] [Batch 1300/1563] [D loss: -0.262058] [G loss: -0.416333]\n",
      "[Epoch 5] [Batch 1400/1563] [D loss: -2.214451] [G loss: 1.626766]\n",
      "[Epoch 5] [Batch 1500/1563] [D loss: 0.888770] [G loss: 0.189369]\n"
     ]
    },
    {
     "name": "stderr",
     "output_type": "stream",
     "text": [
      "sample images: 100%|██████████| 256/256 [00:05<00:00, 47.42it/s]\n"
     ]
    },
    {
     "name": "stdout",
     "output_type": "stream",
     "text": [
      "Warning: number of images is not a multiple of the batch size. Some samples are going to be ignored.\n"
     ]
    },
    {
     "name": "stderr",
     "output_type": "stream",
     "text": [
      "100%|██████████| 81/81 [00:04<00:00, 19.51it/s]\n"
     ]
    },
    {
     "name": "stdout",
     "output_type": "stream",
     "text": [
      "FID score: 212.64669799804688\n"
     ]
    },
    {
     "name": "stderr",
     "output_type": "stream",
     "text": [
      "sample images: 100%|██████████| 256/256 [00:05<00:00, 47.57it/s]\n"
     ]
    },
    {
     "name": "stdout",
     "output_type": "stream",
     "text": [
      "Inception score: 2.743285079451514\n",
      "----- Epoch Summary -----\n",
      "Dis Loss: -0.710231 - Gen Loss: 0.378983 - Dis LR: 9.99561e-05 - Gen LR: 9.99561e-05\n",
      "FID score: 212.64669799804688 - Inception score: 2.743285079451514 || @ epoch 5.\n",
      "Best FID score: 198.73460388183594 @ epoch 4\n",
      "-----      End      -----\n",
      "\n",
      "------- Epoch   6 -------\n",
      "[Epoch 6] [Batch 0/1563] [D loss: -1.713953] [G loss: -0.757695]\n",
      "[Epoch 6] [Batch 100/1563] [D loss: 26.034395] [G loss: -19.999369]\n",
      "[Epoch 6] [Batch 200/1563] [D loss: 29.870052] [G loss: -19.291267]\n",
      "[Epoch 6] [Batch 300/1563] [D loss: 22.973299] [G loss: -19.214087]\n",
      "[Epoch 6] [Batch 400/1563] [D loss: 26.696053] [G loss: -18.711290]\n",
      "[Epoch 6] [Batch 500/1563] [D loss: 29.835783] [G loss: -18.307928]\n",
      "[Epoch 6] [Batch 600/1563] [D loss: 18.162804] [G loss: -14.317139]\n",
      "[Epoch 6] [Batch 700/1563] [D loss: 17.705441] [G loss: -12.206217]\n",
      "[Epoch 6] [Batch 800/1563] [D loss: 31.300411] [G loss: -14.470593]\n",
      "[Epoch 6] [Batch 900/1563] [D loss: 15.276155] [G loss: -14.991292]\n",
      "[Epoch 6] [Batch 1000/1563] [D loss: 21.492126] [G loss: -15.000881]\n",
      "[Epoch 6] [Batch 1100/1563] [D loss: 14.062099] [G loss: -14.724949]\n",
      "[Epoch 6] [Batch 1200/1563] [D loss: 16.178905] [G loss: -15.928701]\n",
      "[Epoch 6] [Batch 1300/1563] [D loss: 12.913429] [G loss: -13.554441]\n",
      "[Epoch 6] [Batch 1400/1563] [D loss: 12.498680] [G loss: -13.563381]\n",
      "[Epoch 6] [Batch 1500/1563] [D loss: 2235.280518] [G loss: -10.903453]\n"
     ]
    },
    {
     "name": "stderr",
     "output_type": "stream",
     "text": [
      "sample images: 100%|██████████| 256/256 [00:05<00:00, 47.97it/s]\n"
     ]
    },
    {
     "name": "stdout",
     "output_type": "stream",
     "text": [
      "Warning: number of images is not a multiple of the batch size. Some samples are going to be ignored.\n"
     ]
    },
    {
     "name": "stderr",
     "output_type": "stream",
     "text": [
      "100%|██████████| 81/81 [00:04<00:00, 19.72it/s]\n"
     ]
    },
    {
     "name": "stdout",
     "output_type": "stream",
     "text": [
      "FID score: nan\n"
     ]
    },
    {
     "name": "stderr",
     "output_type": "stream",
     "text": [
      "sample images: 100%|██████████| 256/256 [00:05<00:00, 47.89it/s]\n",
      "WARNING:root:NaN or Inf found in input tensor.\n"
     ]
    },
    {
     "name": "stdout",
     "output_type": "stream",
     "text": [
      "Inception score: 1.0459869527053651\n",
      "----- Epoch Summary -----\n",
      "Dis Loss: 140.732805 - Gen Loss: -14.460932 - Dis LR: 9.99315e-05 - Gen LR: 9.99315e-05\n",
      "FID score: nan - Inception score: 1.0459869527053651 || @ epoch 6.\n",
      "Best FID score: 198.73460388183594 @ epoch 4\n",
      "-----      End      -----\n",
      "\n",
      "------- Epoch   7 -------\n",
      "[Epoch 7] [Batch 100/1563] [D loss: 10.246820] [G loss: -12.460476]\n",
      "[Epoch 7] [Batch 200/1563] [D loss: 10.422051] [G loss: -14.205003]\n",
      "[Epoch 7] [Batch 300/1563] [D loss: 10.784756] [G loss: -14.196333]\n",
      "[Epoch 7] [Batch 400/1563] [D loss: 15.113299] [G loss: -13.617256]\n",
      "[Epoch 7] [Batch 500/1563] [D loss: 10.349167] [G loss: -12.429488]\n",
      "[Epoch 7] [Batch 600/1563] [D loss: 8.434788] [G loss: -11.557593]\n",
      "[Epoch 7] [Batch 700/1563] [D loss: 7.890559] [G loss: -11.676847]\n",
      "[Epoch 7] [Batch 800/1563] [D loss: 6.351632] [G loss: -10.101589]\n",
      "[Epoch 7] [Batch 900/1563] [D loss: 9.635771] [G loss: -11.344989]\n",
      "[Epoch 7] [Batch 1000/1563] [D loss: 9.466259] [G loss: -11.629366]\n",
      "[Epoch 7] [Batch 1100/1563] [D loss: 7.373620] [G loss: -11.409636]\n",
      "[Epoch 7] [Batch 1200/1563] [D loss: 21.858604] [G loss: -12.904241]\n",
      "[Epoch 7] [Batch 1300/1563] [D loss: 7.306088] [G loss: -10.477379]\n",
      "[Epoch 7] [Batch 1400/1563] [D loss: 11.435838] [G loss: -11.007660]\n",
      "[Epoch 7] [Batch 1500/1563] [D loss: 8.889647] [G loss: -11.450632]\n"
     ]
    },
    {
     "name": "stderr",
     "output_type": "stream",
     "text": [
      "sample images: 100%|██████████| 256/256 [00:05<00:00, 47.92it/s]\n"
     ]
    },
    {
     "name": "stdout",
     "output_type": "stream",
     "text": [
      "Warning: number of images is not a multiple of the batch size. Some samples are going to be ignored.\n"
     ]
    },
    {
     "name": "stderr",
     "output_type": "stream",
     "text": [
      "100%|██████████| 81/81 [00:04<00:00, 19.83it/s]\n"
     ]
    },
    {
     "name": "stdout",
     "output_type": "stream",
     "text": [
      "FID score: nan\n"
     ]
    },
    {
     "name": "stderr",
     "output_type": "stream",
     "text": [
      "sample images: 100%|██████████| 256/256 [00:05<00:00, 48.10it/s]\n",
      "WARNING:root:NaN or Inf found in input tensor.\n"
     ]
    },
    {
     "name": "stdout",
     "output_type": "stream",
     "text": [
      "Inception score: 1.4680053534358901\n",
      "----- Epoch Summary -----\n",
      "Dis Loss: 45.762266 - Gen Loss: -11.992189 - Dis LR: 9.99013e-05 - Gen LR: 9.99013e-05\n",
      "FID score: nan - Inception score: 1.4680053534358901 || @ epoch 7.\n",
      "Best FID score: 198.73460388183594 @ epoch 4\n",
      "-----      End      -----\n",
      "\n",
      "------- Epoch   8 -------\n",
      "[Epoch 8] [Batch 100/1563] [D loss: 4.887277] [G loss: -9.216893]\n",
      "[Epoch 8] [Batch 200/1563] [D loss: 5.136579] [G loss: -7.697258]\n",
      "[Epoch 8] [Batch 300/1563] [D loss: 2.171357] [G loss: -4.216552]\n",
      "[Epoch 8] [Batch 400/1563] [D loss: 3.019227] [G loss: -5.656276]\n",
      "[Epoch 8] [Batch 500/1563] [D loss: 1.500761] [G loss: -4.687350]\n",
      "[Epoch 8] [Batch 600/1563] [D loss: -0.185482] [G loss: -1.251194]\n",
      "[Epoch 8] [Batch 700/1563] [D loss: -1.333147] [G loss: 1.830975]\n",
      "[Epoch 8] [Batch 800/1563] [D loss: -0.113514] [G loss: 0.725190]\n",
      "[Epoch 8] [Batch 900/1563] [D loss: -1.674608] [G loss: 0.242753]\n",
      "[Epoch 8] [Batch 1000/1563] [D loss: -1.516483] [G loss: -1.754680]\n",
      "[Epoch 8] [Batch 1100/1563] [D loss: -0.744772] [G loss: -1.242579]\n",
      "[Epoch 8] [Batch 1200/1563] [D loss: -1.274294] [G loss: 2.059626]\n",
      "[Epoch 8] [Batch 1300/1563] [D loss: 1.254140] [G loss: 1.212525]\n",
      "[Epoch 8] [Batch 1400/1563] [D loss: -1.768090] [G loss: 1.737638]\n",
      "[Epoch 8] [Batch 1500/1563] [D loss: 0.151842] [G loss: 1.717487]\n"
     ]
    },
    {
     "name": "stderr",
     "output_type": "stream",
     "text": [
      "sample images: 100%|██████████| 256/256 [00:05<00:00, 47.89it/s]\n"
     ]
    },
    {
     "name": "stdout",
     "output_type": "stream",
     "text": [
      "Warning: number of images is not a multiple of the batch size. Some samples are going to be ignored.\n"
     ]
    },
    {
     "name": "stderr",
     "output_type": "stream",
     "text": [
      "100%|██████████| 81/81 [00:04<00:00, 19.77it/s]\n"
     ]
    },
    {
     "name": "stdout",
     "output_type": "stream",
     "text": [
      "FID score: 218.95852661132812\n"
     ]
    },
    {
     "name": "stderr",
     "output_type": "stream",
     "text": [
      "sample images: 100%|██████████| 256/256 [00:05<00:00, 47.99it/s]\n"
     ]
    },
    {
     "name": "stdout",
     "output_type": "stream",
     "text": [
      "Inception score: 2.2217257492395746\n",
      "----- Epoch Summary -----\n",
      "Dis Loss: 1.406586 - Gen Loss: -2.687214 - Dis LR: 9.98657e-05 - Gen LR: 9.98657e-05\n",
      "FID score: 218.95852661132812 - Inception score: 2.2217257492395746 || @ epoch 8.\n",
      "Best FID score: 198.73460388183594 @ epoch 4\n",
      "-----      End      -----\n",
      "\n",
      "------- Epoch   9 -------\n",
      "[Epoch 9] [Batch 100/1563] [D loss: -1.161455] [G loss: -0.167730]\n",
      "[Epoch 9] [Batch 200/1563] [D loss: 0.519280] [G loss: -1.913104]\n",
      "[Epoch 9] [Batch 300/1563] [D loss: 0.783764] [G loss: -0.127253]\n",
      "[Epoch 9] [Batch 400/1563] [D loss: -0.358585] [G loss: -4.502813]\n",
      "[Epoch 9] [Batch 500/1563] [D loss: 0.246787] [G loss: 0.830440]\n",
      "[Epoch 9] [Batch 600/1563] [D loss: 0.004600] [G loss: 2.548828]\n",
      "[Epoch 9] [Batch 700/1563] [D loss: -1.522316] [G loss: 1.690328]\n",
      "[Epoch 9] [Batch 800/1563] [D loss: 1.735062] [G loss: 1.081472]\n",
      "[Epoch 9] [Batch 900/1563] [D loss: -1.490983] [G loss: -1.470589]\n",
      "[Epoch 9] [Batch 1000/1563] [D loss: -0.084801] [G loss: 1.107551]\n",
      "[Epoch 9] [Batch 1100/1563] [D loss: 1.747578] [G loss: -0.466441]\n",
      "[Epoch 9] [Batch 1200/1563] [D loss: 0.387275] [G loss: 0.646555]\n",
      "[Epoch 9] [Batch 1300/1563] [D loss: -2.057821] [G loss: -0.204843]\n",
      "[Epoch 9] [Batch 1400/1563] [D loss: -1.804539] [G loss: -0.300156]\n",
      "[Epoch 9] [Batch 1500/1563] [D loss: -1.761838] [G loss: 0.224742]\n"
     ]
    },
    {
     "name": "stderr",
     "output_type": "stream",
     "text": [
      "sample images: 100%|██████████| 256/256 [00:05<00:00, 47.96it/s]\n"
     ]
    },
    {
     "name": "stdout",
     "output_type": "stream",
     "text": [
      "Warning: number of images is not a multiple of the batch size. Some samples are going to be ignored.\n"
     ]
    },
    {
     "name": "stderr",
     "output_type": "stream",
     "text": [
      "100%|██████████| 81/81 [00:04<00:00, 19.78it/s]\n"
     ]
    },
    {
     "name": "stdout",
     "output_type": "stream",
     "text": [
      "FID score: 211.2202606201172\n"
     ]
    },
    {
     "name": "stderr",
     "output_type": "stream",
     "text": [
      "sample images: 100%|██████████| 256/256 [00:05<00:00, 48.09it/s]\n"
     ]
    },
    {
     "name": "stdout",
     "output_type": "stream",
     "text": [
      "Inception score: 2.4044692169073127\n",
      "----- Epoch Summary -----\n",
      "Dis Loss: -0.558962 - Gen Loss: 0.215880 - Dis LR: 9.98246e-05 - Gen LR: 9.98246e-05\n",
      "FID score: 211.2202606201172 - Inception score: 2.4044692169073127 || @ epoch 9.\n",
      "Best FID score: 198.73460388183594 @ epoch 4\n",
      "-----      End      -----\n",
      "\n",
      "------- Epoch  10 -------\n",
      "[Epoch 10] [Batch 100/1563] [D loss: -1.048391] [G loss: 3.732791]\n",
      "[Epoch 10] [Batch 200/1563] [D loss: 0.331832] [G loss: 1.086559]\n",
      "[Epoch 10] [Batch 300/1563] [D loss: -1.238072] [G loss: 2.008170]\n",
      "[Epoch 10] [Batch 400/1563] [D loss: -0.625730] [G loss: -1.873150]\n",
      "[Epoch 10] [Batch 500/1563] [D loss: -0.230507] [G loss: -2.030784]\n",
      "[Epoch 10] [Batch 600/1563] [D loss: -0.120380] [G loss: -3.458001]\n",
      "[Epoch 10] [Batch 700/1563] [D loss: 0.229819] [G loss: -1.162073]\n",
      "[Epoch 10] [Batch 800/1563] [D loss: -0.864227] [G loss: -0.107210]\n",
      "[Epoch 10] [Batch 900/1563] [D loss: -0.583008] [G loss: -0.671337]\n",
      "[Epoch 10] [Batch 1000/1563] [D loss: -0.183957] [G loss: -1.445550]\n",
      "[Epoch 10] [Batch 1100/1563] [D loss: 0.344861] [G loss: -2.056450]\n",
      "[Epoch 10] [Batch 1200/1563] [D loss: 1.143204] [G loss: -0.516341]\n",
      "[Epoch 10] [Batch 1300/1563] [D loss: 0.445602] [G loss: 0.190231]\n",
      "[Epoch 10] [Batch 1400/1563] [D loss: -0.583635] [G loss: 0.945168]\n",
      "[Epoch 10] [Batch 1500/1563] [D loss: -0.459425] [G loss: 0.270402]\n"
     ]
    },
    {
     "name": "stderr",
     "output_type": "stream",
     "text": [
      "sample images: 100%|██████████| 256/256 [00:05<00:00, 47.86it/s]\n"
     ]
    },
    {
     "name": "stdout",
     "output_type": "stream",
     "text": [
      "Warning: number of images is not a multiple of the batch size. Some samples are going to be ignored.\n"
     ]
    },
    {
     "name": "stderr",
     "output_type": "stream",
     "text": [
      "100%|██████████| 81/81 [00:04<00:00, 19.80it/s]\n"
     ]
    },
    {
     "name": "stdout",
     "output_type": "stream",
     "text": [
      "FID score: 199.52354431152344\n"
     ]
    },
    {
     "name": "stderr",
     "output_type": "stream",
     "text": [
      "sample images: 100%|██████████| 256/256 [00:05<00:00, 48.04it/s]\n"
     ]
    },
    {
     "name": "stdout",
     "output_type": "stream",
     "text": [
      "Inception score: 2.409970144233425\n",
      "----- Epoch Summary -----\n",
      "Dis Loss: -0.430853 - Gen Loss: -0.594155 - Dis LR: 9.97781e-05 - Gen LR: 9.97781e-05\n",
      "FID score: 199.52354431152344 - Inception score: 2.409970144233425 || @ epoch 10.\n",
      "Best FID score: 198.73460388183594 @ epoch 4\n",
      "-----      End      -----\n",
      "\n",
      "------- Epoch  11 -------\n",
      "[Epoch 11] [Batch 0/1563] [D loss: -1.122484] [G loss: 2.481348]\n",
      "[Epoch 11] [Batch 100/1563] [D loss: -1.106659] [G loss: -1.148856]\n",
      "[Epoch 11] [Batch 200/1563] [D loss: -1.363854] [G loss: -0.191374]\n",
      "[Epoch 11] [Batch 300/1563] [D loss: -0.460009] [G loss: -0.972564]\n",
      "[Epoch 11] [Batch 400/1563] [D loss: -1.090109] [G loss: -0.192303]\n",
      "[Epoch 11] [Batch 500/1563] [D loss: -0.041100] [G loss: -0.571281]\n",
      "[Epoch 11] [Batch 600/1563] [D loss: -1.229234] [G loss: -1.395543]\n",
      "[Epoch 11] [Batch 700/1563] [D loss: -0.823214] [G loss: -1.032837]\n",
      "[Epoch 11] [Batch 800/1563] [D loss: -0.205407] [G loss: 0.685125]\n",
      "[Epoch 11] [Batch 900/1563] [D loss: 0.544296] [G loss: -2.607221]\n",
      "[Epoch 11] [Batch 1000/1563] [D loss: 0.208060] [G loss: -0.030612]\n",
      "[Epoch 11] [Batch 1100/1563] [D loss: -0.444092] [G loss: -0.713286]\n",
      "[Epoch 11] [Batch 1200/1563] [D loss: 0.217292] [G loss: -2.974940]\n",
      "[Epoch 11] [Batch 1300/1563] [D loss: 0.004243] [G loss: -2.401062]\n",
      "[Epoch 11] [Batch 1400/1563] [D loss: -1.205967] [G loss: -0.402427]\n",
      "[Epoch 11] [Batch 1500/1563] [D loss: -0.535398] [G loss: -1.320414]\n"
     ]
    },
    {
     "name": "stderr",
     "output_type": "stream",
     "text": [
      "sample images: 100%|██████████| 256/256 [00:05<00:00, 48.01it/s]\n"
     ]
    },
    {
     "name": "stdout",
     "output_type": "stream",
     "text": [
      "Warning: number of images is not a multiple of the batch size. Some samples are going to be ignored.\n"
     ]
    },
    {
     "name": "stderr",
     "output_type": "stream",
     "text": [
      "100%|██████████| 81/81 [00:04<00:00, 19.77it/s]\n"
     ]
    },
    {
     "name": "stdout",
     "output_type": "stream",
     "text": [
      "FID score: 200.268798828125\n"
     ]
    },
    {
     "name": "stderr",
     "output_type": "stream",
     "text": [
      "sample images: 100%|██████████| 256/256 [00:05<00:00, 47.96it/s]\n"
     ]
    },
    {
     "name": "stdout",
     "output_type": "stream",
     "text": [
      "Inception score: 2.5739216183172333\n",
      "----- Epoch Summary -----\n",
      "Dis Loss: -0.477450 - Gen Loss: -0.925683 - Dis LR: 9.97261e-05 - Gen LR: 9.97261e-05\n",
      "FID score: 200.268798828125 - Inception score: 2.5739216183172333 || @ epoch 11.\n",
      "Best FID score: 198.73460388183594 @ epoch 4\n",
      "-----      End      -----\n",
      "\n",
      "------- Epoch  12 -------\n",
      "[Epoch 12] [Batch 100/1563] [D loss: -0.413273] [G loss: -1.939074]\n",
      "[Epoch 12] [Batch 200/1563] [D loss: -2.085710] [G loss: -0.410310]\n",
      "[Epoch 12] [Batch 300/1563] [D loss: -0.009053] [G loss: -0.509123]\n",
      "[Epoch 12] [Batch 400/1563] [D loss: 0.828735] [G loss: -0.602535]\n",
      "[Epoch 12] [Batch 500/1563] [D loss: -1.365888] [G loss: -0.535657]\n",
      "[Epoch 12] [Batch 600/1563] [D loss: -0.794063] [G loss: -3.600073]\n",
      "[Epoch 12] [Batch 700/1563] [D loss: -0.978767] [G loss: -0.343894]\n",
      "[Epoch 12] [Batch 800/1563] [D loss: -0.012899] [G loss: -2.272506]\n",
      "[Epoch 12] [Batch 900/1563] [D loss: -1.735439] [G loss: -2.025222]\n",
      "[Epoch 12] [Batch 1000/1563] [D loss: -0.986924] [G loss: -2.549418]\n",
      "[Epoch 12] [Batch 1100/1563] [D loss: -1.478188] [G loss: -1.210654]\n",
      "[Epoch 12] [Batch 1200/1563] [D loss: -0.486485] [G loss: -3.203650]\n",
      "[Epoch 12] [Batch 1300/1563] [D loss: 0.008642] [G loss: -1.198081]\n",
      "[Epoch 12] [Batch 1400/1563] [D loss: -0.549248] [G loss: -0.200435]\n",
      "[Epoch 12] [Batch 1500/1563] [D loss: 0.078834] [G loss: -1.094061]\n"
     ]
    },
    {
     "name": "stderr",
     "output_type": "stream",
     "text": [
      "sample images: 100%|██████████| 256/256 [00:05<00:00, 47.87it/s]\n"
     ]
    },
    {
     "name": "stdout",
     "output_type": "stream",
     "text": [
      "Warning: number of images is not a multiple of the batch size. Some samples are going to be ignored.\n"
     ]
    },
    {
     "name": "stderr",
     "output_type": "stream",
     "text": [
      "100%|██████████| 81/81 [00:04<00:00, 19.80it/s]\n"
     ]
    },
    {
     "name": "stdout",
     "output_type": "stream",
     "text": [
      "FID score: 169.2735595703125\n"
     ]
    },
    {
     "name": "stderr",
     "output_type": "stream",
     "text": [
      "sample images: 100%|██████████| 256/256 [00:05<00:00, 48.02it/s]\n"
     ]
    },
    {
     "name": "stdout",
     "output_type": "stream",
     "text": [
      "Inception score: 2.444144494073074\n",
      "Saved Latest Model!\n",
      "----- Epoch Summary -----\n",
      "Dis Loss: -0.406019 - Gen Loss: -1.538915 - Dis LR: 9.96686e-05 - Gen LR: 9.96686e-05\n",
      "FID score: 169.2735595703125 - Inception score: 2.444144494073074 || @ epoch 12.\n",
      "Best FID score: 169.2735595703125 @ epoch 12\n",
      "-----      End      -----\n",
      "\n",
      "------- Epoch  13 -------\n",
      "[Epoch 13] [Batch 100/1563] [D loss: -0.100848] [G loss: -4.560649]\n",
      "[Epoch 13] [Batch 200/1563] [D loss: -0.290806] [G loss: -1.288525]\n",
      "[Epoch 13] [Batch 300/1563] [D loss: -1.214634] [G loss: -1.568011]\n",
      "[Epoch 13] [Batch 400/1563] [D loss: -1.129918] [G loss: -0.761428]\n",
      "[Epoch 13] [Batch 500/1563] [D loss: -0.631341] [G loss: 0.163085]\n",
      "[Epoch 13] [Batch 600/1563] [D loss: -0.652429] [G loss: -1.282077]\n",
      "[Epoch 13] [Batch 700/1563] [D loss: -0.112176] [G loss: -2.177011]\n",
      "[Epoch 13] [Batch 800/1563] [D loss: 0.128456] [G loss: -0.222557]\n",
      "[Epoch 13] [Batch 900/1563] [D loss: -2.193773] [G loss: -0.092398]\n",
      "[Epoch 13] [Batch 1000/1563] [D loss: -1.361111] [G loss: -1.323575]\n",
      "[Epoch 13] [Batch 1100/1563] [D loss: 1.259867] [G loss: -0.536246]\n",
      "[Epoch 13] [Batch 1200/1563] [D loss: -0.809362] [G loss: -0.332709]\n",
      "[Epoch 13] [Batch 1300/1563] [D loss: -0.860785] [G loss: 2.267086]\n",
      "[Epoch 13] [Batch 1400/1563] [D loss: -1.682415] [G loss: -3.010541]\n",
      "[Epoch 13] [Batch 1500/1563] [D loss: 0.263877] [G loss: -2.152401]\n"
     ]
    },
    {
     "name": "stderr",
     "output_type": "stream",
     "text": [
      "sample images: 100%|██████████| 256/256 [00:05<00:00, 47.85it/s]\n"
     ]
    },
    {
     "name": "stdout",
     "output_type": "stream",
     "text": [
      "Warning: number of images is not a multiple of the batch size. Some samples are going to be ignored.\n"
     ]
    },
    {
     "name": "stderr",
     "output_type": "stream",
     "text": [
      "100%|██████████| 81/81 [00:04<00:00, 19.77it/s]\n"
     ]
    },
    {
     "name": "stdout",
     "output_type": "stream",
     "text": [
      "FID score: 188.9372100830078\n"
     ]
    },
    {
     "name": "stderr",
     "output_type": "stream",
     "text": [
      "sample images: 100%|██████████| 256/256 [00:05<00:00, 47.97it/s]\n"
     ]
    },
    {
     "name": "stdout",
     "output_type": "stream",
     "text": [
      "Inception score: 3.0538311851726254\n",
      "----- Epoch Summary -----\n",
      "Dis Loss: -0.389648 - Gen Loss: -1.104713 - Dis LR: 9.96057e-05 - Gen LR: 9.96057e-05\n",
      "FID score: 188.9372100830078 - Inception score: 3.0538311851726254 || @ epoch 13.\n",
      "Best FID score: 169.2735595703125 @ epoch 12\n",
      "-----      End      -----\n",
      "\n",
      "------- Epoch  14 -------\n",
      "[Epoch 14] [Batch 100/1563] [D loss: -0.794569] [G loss: -1.669995]\n",
      "[Epoch 14] [Batch 200/1563] [D loss: -0.732094] [G loss: -1.315686]\n",
      "[Epoch 14] [Batch 300/1563] [D loss: -0.033905] [G loss: 0.607873]\n",
      "[Epoch 14] [Batch 400/1563] [D loss: -0.649817] [G loss: -1.622675]\n",
      "[Epoch 14] [Batch 500/1563] [D loss: -0.141282] [G loss: -0.730114]\n",
      "[Epoch 14] [Batch 600/1563] [D loss: -1.673142] [G loss: -0.221834]\n",
      "[Epoch 14] [Batch 700/1563] [D loss: -0.211243] [G loss: -1.715166]\n",
      "[Epoch 14] [Batch 800/1563] [D loss: -1.106854] [G loss: 0.217245]\n",
      "[Epoch 14] [Batch 900/1563] [D loss: -0.322936] [G loss: 0.274591]\n",
      "[Epoch 14] [Batch 1000/1563] [D loss: -2.140712] [G loss: -1.153058]\n",
      "[Epoch 14] [Batch 1100/1563] [D loss: -1.190133] [G loss: 0.380003]\n",
      "[Epoch 14] [Batch 1200/1563] [D loss: 0.007755] [G loss: 1.526641]\n",
      "[Epoch 14] [Batch 1300/1563] [D loss: -0.078079] [G loss: -1.514845]\n",
      "[Epoch 14] [Batch 1400/1563] [D loss: -0.301382] [G loss: 0.226988]\n",
      "[Epoch 14] [Batch 1500/1563] [D loss: 1.718026] [G loss: -23.020136]\n"
     ]
    },
    {
     "name": "stderr",
     "output_type": "stream",
     "text": [
      "sample images: 100%|██████████| 256/256 [00:05<00:00, 47.99it/s]\n"
     ]
    },
    {
     "name": "stdout",
     "output_type": "stream",
     "text": [
      "Warning: number of images is not a multiple of the batch size. Some samples are going to be ignored.\n"
     ]
    },
    {
     "name": "stderr",
     "output_type": "stream",
     "text": [
      "100%|██████████| 81/81 [00:04<00:00, 19.70it/s]\n"
     ]
    },
    {
     "name": "stdout",
     "output_type": "stream",
     "text": [
      "FID score: 221.9990234375\n"
     ]
    },
    {
     "name": "stderr",
     "output_type": "stream",
     "text": [
      "sample images: 100%|██████████| 256/256 [00:05<00:00, 48.01it/s]\n"
     ]
    },
    {
     "name": "stdout",
     "output_type": "stream",
     "text": [
      "Inception score: 2.7824545928212423\n",
      "----- Epoch Summary -----\n",
      "Dis Loss: -0.053309 - Gen Loss: -2.167505 - Dis LR: 9.95374e-05 - Gen LR: 9.95374e-05\n",
      "FID score: 221.9990234375 - Inception score: 2.7824545928212423 || @ epoch 14.\n",
      "Best FID score: 169.2735595703125 @ epoch 12\n",
      "-----      End      -----\n",
      "\n",
      "------- Epoch  15 -------\n",
      "[Epoch 15] [Batch 100/1563] [D loss: 2.441661] [G loss: -21.843790]\n",
      "[Epoch 15] [Batch 200/1563] [D loss: 2.106576] [G loss: -21.612019]\n",
      "[Epoch 15] [Batch 300/1563] [D loss: 0.609640] [G loss: -15.822066]\n",
      "[Epoch 15] [Batch 400/1563] [D loss: 0.631046] [G loss: -16.133930]\n",
      "[Epoch 15] [Batch 500/1563] [D loss: -0.031135] [G loss: -11.902491]\n",
      "[Epoch 15] [Batch 600/1563] [D loss: -0.814530] [G loss: -8.665077]\n",
      "[Epoch 15] [Batch 700/1563] [D loss: -0.015820] [G loss: -7.758487]\n",
      "[Epoch 15] [Batch 800/1563] [D loss: -0.865530] [G loss: -4.995242]\n",
      "[Epoch 15] [Batch 900/1563] [D loss: -0.346994] [G loss: -4.794748]\n",
      "[Epoch 15] [Batch 1000/1563] [D loss: -0.404810] [G loss: -2.861251]\n",
      "[Epoch 15] [Batch 1100/1563] [D loss: -1.220759] [G loss: -2.647606]\n",
      "[Epoch 15] [Batch 1200/1563] [D loss: -0.855717] [G loss: -2.826716]\n",
      "[Epoch 15] [Batch 1300/1563] [D loss: 0.059091] [G loss: -4.043528]\n",
      "[Epoch 15] [Batch 1400/1563] [D loss: 0.578584] [G loss: -4.199061]\n",
      "[Epoch 15] [Batch 1500/1563] [D loss: -1.481608] [G loss: -2.965030]\n"
     ]
    },
    {
     "name": "stderr",
     "output_type": "stream",
     "text": [
      "sample images: 100%|██████████| 256/256 [00:05<00:00, 48.00it/s]\n"
     ]
    },
    {
     "name": "stdout",
     "output_type": "stream",
     "text": [
      "Warning: number of images is not a multiple of the batch size. Some samples are going to be ignored.\n"
     ]
    },
    {
     "name": "stderr",
     "output_type": "stream",
     "text": [
      "100%|██████████| 81/81 [00:04<00:00, 19.73it/s]\n"
     ]
    },
    {
     "name": "stdout",
     "output_type": "stream",
     "text": [
      "FID score: 159.13160705566406\n"
     ]
    },
    {
     "name": "stderr",
     "output_type": "stream",
     "text": [
      "sample images: 100%|██████████| 256/256 [00:05<00:00, 47.99it/s]\n"
     ]
    },
    {
     "name": "stdout",
     "output_type": "stream",
     "text": [
      "Inception score: 2.787807965129495\n",
      "Saved Latest Model!\n",
      "----- Epoch Summary -----\n",
      "Dis Loss: -0.241550 - Gen Loss: -9.277079 - Dis LR: 9.94636e-05 - Gen LR: 9.94636e-05\n",
      "FID score: 159.13160705566406 - Inception score: 2.787807965129495 || @ epoch 15.\n",
      "Best FID score: 159.13160705566406 @ epoch 15\n",
      "-----      End      -----\n",
      "\n",
      "------- Epoch  16 -------\n",
      "[Epoch 16] [Batch 0/1563] [D loss: -0.203514] [G loss: -4.379819]\n",
      "[Epoch 16] [Batch 100/1563] [D loss: -0.408908] [G loss: -3.570153]\n",
      "[Epoch 16] [Batch 200/1563] [D loss: -0.535430] [G loss: -2.970555]\n",
      "[Epoch 16] [Batch 300/1563] [D loss: -0.436017] [G loss: -3.039645]\n",
      "[Epoch 16] [Batch 400/1563] [D loss: -1.024820] [G loss: -1.358899]\n",
      "[Epoch 16] [Batch 500/1563] [D loss: -0.856010] [G loss: -1.340327]\n",
      "[Epoch 16] [Batch 600/1563] [D loss: -0.651806] [G loss: -2.905294]\n",
      "[Epoch 16] [Batch 700/1563] [D loss: 0.124648] [G loss: 0.509209]\n",
      "[Epoch 16] [Batch 800/1563] [D loss: -0.680374] [G loss: -2.128331]\n",
      "[Epoch 16] [Batch 900/1563] [D loss: 0.126097] [G loss: -0.820811]\n",
      "[Epoch 16] [Batch 1000/1563] [D loss: -0.847280] [G loss: -2.140782]\n",
      "[Epoch 16] [Batch 1100/1563] [D loss: -1.066774] [G loss: -3.438323]\n",
      "[Epoch 16] [Batch 1200/1563] [D loss: -0.932771] [G loss: -1.838171]\n",
      "[Epoch 16] [Batch 1300/1563] [D loss: -0.361566] [G loss: -3.658636]\n",
      "[Epoch 16] [Batch 1400/1563] [D loss: -1.288535] [G loss: -3.018245]\n",
      "[Epoch 16] [Batch 1500/1563] [D loss: -0.580245] [G loss: -1.718162]\n"
     ]
    },
    {
     "name": "stderr",
     "output_type": "stream",
     "text": [
      "sample images: 100%|██████████| 256/256 [00:05<00:00, 47.92it/s]\n"
     ]
    },
    {
     "name": "stdout",
     "output_type": "stream",
     "text": [
      "Warning: number of images is not a multiple of the batch size. Some samples are going to be ignored.\n"
     ]
    },
    {
     "name": "stderr",
     "output_type": "stream",
     "text": [
      "100%|██████████| 81/81 [00:04<00:00, 19.78it/s]\n"
     ]
    },
    {
     "name": "stdout",
     "output_type": "stream",
     "text": [
      "FID score: 129.81179809570312\n"
     ]
    },
    {
     "name": "stderr",
     "output_type": "stream",
     "text": [
      "sample images: 100%|██████████| 256/256 [00:05<00:00, 47.93it/s]\n"
     ]
    },
    {
     "name": "stdout",
     "output_type": "stream",
     "text": [
      "Inception score: 3.1048729917383966\n",
      "Saved Latest Model!\n",
      "----- Epoch Summary -----\n",
      "Dis Loss: -0.346922 - Gen Loss: -2.123808 - Dis LR: 9.93844e-05 - Gen LR: 9.93844e-05\n",
      "FID score: 129.81179809570312 - Inception score: 3.1048729917383966 || @ epoch 16.\n",
      "Best FID score: 129.81179809570312 @ epoch 16\n",
      "-----      End      -----\n",
      "\n",
      "------- Epoch  17 -------\n",
      "[Epoch 17] [Batch 100/1563] [D loss: -0.196987] [G loss: -1.689815]\n",
      "[Epoch 17] [Batch 200/1563] [D loss: -1.336480] [G loss: -2.035209]\n",
      "[Epoch 17] [Batch 300/1563] [D loss: -1.203053] [G loss: -1.198405]\n",
      "[Epoch 17] [Batch 400/1563] [D loss: 0.086829] [G loss: -1.946985]\n",
      "[Epoch 17] [Batch 500/1563] [D loss: -0.545451] [G loss: -2.804909]\n",
      "[Epoch 17] [Batch 600/1563] [D loss: -0.972263] [G loss: -3.825277]\n",
      "[Epoch 17] [Batch 700/1563] [D loss: 0.013927] [G loss: -0.747330]\n",
      "[Epoch 17] [Batch 800/1563] [D loss: -0.471664] [G loss: -3.019145]\n",
      "[Epoch 17] [Batch 900/1563] [D loss: -0.402057] [G loss: -1.005096]\n",
      "[Epoch 17] [Batch 1000/1563] [D loss: 0.201509] [G loss: -0.536285]\n",
      "[Epoch 17] [Batch 1100/1563] [D loss: -0.946916] [G loss: -3.905900]\n",
      "[Epoch 17] [Batch 1200/1563] [D loss: -0.614666] [G loss: -3.607919]\n",
      "[Epoch 17] [Batch 1300/1563] [D loss: 0.916584] [G loss: -2.212323]\n",
      "[Epoch 17] [Batch 1400/1563] [D loss: -0.794424] [G loss: -1.044145]\n",
      "[Epoch 17] [Batch 1500/1563] [D loss: -0.710003] [G loss: -3.059055]\n"
     ]
    },
    {
     "name": "stderr",
     "output_type": "stream",
     "text": [
      "sample images: 100%|██████████| 256/256 [00:05<00:00, 47.87it/s]\n"
     ]
    },
    {
     "name": "stdout",
     "output_type": "stream",
     "text": [
      "Warning: number of images is not a multiple of the batch size. Some samples are going to be ignored.\n"
     ]
    },
    {
     "name": "stderr",
     "output_type": "stream",
     "text": [
      "100%|██████████| 81/81 [00:04<00:00, 19.72it/s]\n"
     ]
    },
    {
     "name": "stdout",
     "output_type": "stream",
     "text": [
      "FID score: 123.55499267578125\n"
     ]
    },
    {
     "name": "stderr",
     "output_type": "stream",
     "text": [
      "sample images: 100%|██████████| 256/256 [00:05<00:00, 47.98it/s]\n"
     ]
    },
    {
     "name": "stdout",
     "output_type": "stream",
     "text": [
      "Inception score: 3.292644911634411\n",
      "Saved Latest Model!\n",
      "----- Epoch Summary -----\n",
      "Dis Loss: -0.378943 - Gen Loss: -2.426205 - Dis LR: 9.92998e-05 - Gen LR: 9.92998e-05\n",
      "FID score: 123.55499267578125 - Inception score: 3.292644911634411 || @ epoch 17.\n",
      "Best FID score: 123.55499267578125 @ epoch 17\n",
      "-----      End      -----\n",
      "\n",
      "------- Epoch  18 -------\n",
      "[Epoch 18] [Batch 100/1563] [D loss: -0.750751] [G loss: -1.163275]\n",
      "[Epoch 18] [Batch 200/1563] [D loss: 0.472667] [G loss: -2.541864]\n",
      "[Epoch 18] [Batch 300/1563] [D loss: 0.362615] [G loss: -1.656249]\n",
      "[Epoch 18] [Batch 400/1563] [D loss: -0.857660] [G loss: -1.814343]\n",
      "[Epoch 18] [Batch 500/1563] [D loss: 1.458297] [G loss: -1.739798]\n",
      "[Epoch 18] [Batch 600/1563] [D loss: -0.020000] [G loss: -3.229733]\n",
      "[Epoch 18] [Batch 700/1563] [D loss: -0.871651] [G loss: -2.761520]\n",
      "[Epoch 18] [Batch 800/1563] [D loss: -0.605875] [G loss: -3.468284]\n",
      "[Epoch 18] [Batch 900/1563] [D loss: 0.272432] [G loss: -2.280084]\n",
      "[Epoch 18] [Batch 1000/1563] [D loss: 0.712467] [G loss: -0.819647]\n",
      "[Epoch 18] [Batch 1100/1563] [D loss: -0.577778] [G loss: -1.638398]\n",
      "[Epoch 18] [Batch 1200/1563] [D loss: 0.101231] [G loss: -0.332029]\n",
      "[Epoch 18] [Batch 1300/1563] [D loss: -0.728805] [G loss: -1.570926]\n",
      "[Epoch 18] [Batch 1400/1563] [D loss: -0.136410] [G loss: -1.004170]\n",
      "[Epoch 18] [Batch 1500/1563] [D loss: 0.555138] [G loss: -3.937562]\n"
     ]
    },
    {
     "name": "stderr",
     "output_type": "stream",
     "text": [
      "sample images: 100%|██████████| 256/256 [00:05<00:00, 47.96it/s]\n"
     ]
    },
    {
     "name": "stdout",
     "output_type": "stream",
     "text": [
      "Warning: number of images is not a multiple of the batch size. Some samples are going to be ignored.\n"
     ]
    },
    {
     "name": "stderr",
     "output_type": "stream",
     "text": [
      "100%|██████████| 81/81 [00:04<00:00, 19.75it/s]\n"
     ]
    },
    {
     "name": "stdout",
     "output_type": "stream",
     "text": [
      "FID score: 110.07183837890625\n"
     ]
    },
    {
     "name": "stderr",
     "output_type": "stream",
     "text": [
      "sample images: 100%|██████████| 256/256 [00:05<00:00, 48.00it/s]\n"
     ]
    },
    {
     "name": "stdout",
     "output_type": "stream",
     "text": [
      "Inception score: 3.250081066461104\n",
      "Saved Latest Model!\n",
      "----- Epoch Summary -----\n",
      "Dis Loss: -0.361462 - Gen Loss: -1.888613 - Dis LR: 9.92098e-05 - Gen LR: 9.92098e-05\n",
      "FID score: 110.07183837890625 - Inception score: 3.250081066461104 || @ epoch 18.\n",
      "Best FID score: 110.07183837890625 @ epoch 18\n",
      "-----      End      -----\n",
      "\n",
      "------- Epoch  19 -------\n",
      "[Epoch 19] [Batch 100/1563] [D loss: 0.335835] [G loss: -1.346839]\n",
      "[Epoch 19] [Batch 200/1563] [D loss: -0.711439] [G loss: -2.841474]\n",
      "[Epoch 19] [Batch 300/1563] [D loss: -1.350911] [G loss: -2.272710]\n",
      "[Epoch 19] [Batch 400/1563] [D loss: -0.938935] [G loss: -1.569263]\n",
      "[Epoch 19] [Batch 500/1563] [D loss: -2.421080] [G loss: -2.298777]\n",
      "[Epoch 19] [Batch 600/1563] [D loss: -0.253326] [G loss: -1.915149]\n",
      "[Epoch 19] [Batch 700/1563] [D loss: -0.750298] [G loss: -3.201144]\n",
      "[Epoch 19] [Batch 800/1563] [D loss: 0.327224] [G loss: -1.883052]\n",
      "[Epoch 19] [Batch 900/1563] [D loss: -0.689857] [G loss: -1.471066]\n",
      "[Epoch 19] [Batch 1000/1563] [D loss: -0.573000] [G loss: -0.618151]\n",
      "[Epoch 19] [Batch 1100/1563] [D loss: -1.276951] [G loss: -0.768654]\n",
      "[Epoch 19] [Batch 1200/1563] [D loss: -1.791398] [G loss: -1.746707]\n",
      "[Epoch 19] [Batch 1300/1563] [D loss: -1.105122] [G loss: -0.254808]\n",
      "[Epoch 19] [Batch 1400/1563] [D loss: -0.086253] [G loss: -0.966117]\n",
      "[Epoch 19] [Batch 1500/1563] [D loss: 0.196140] [G loss: -1.349083]\n"
     ]
    },
    {
     "name": "stderr",
     "output_type": "stream",
     "text": [
      "sample images: 100%|██████████| 256/256 [00:05<00:00, 47.91it/s]\n"
     ]
    },
    {
     "name": "stdout",
     "output_type": "stream",
     "text": [
      "Warning: number of images is not a multiple of the batch size. Some samples are going to be ignored.\n"
     ]
    },
    {
     "name": "stderr",
     "output_type": "stream",
     "text": [
      "100%|██████████| 81/81 [00:04<00:00, 19.72it/s]\n"
     ]
    },
    {
     "name": "stdout",
     "output_type": "stream",
     "text": [
      "FID score: 103.32366943359375\n"
     ]
    },
    {
     "name": "stderr",
     "output_type": "stream",
     "text": [
      "sample images: 100%|██████████| 256/256 [00:05<00:00, 48.01it/s]\n"
     ]
    },
    {
     "name": "stdout",
     "output_type": "stream",
     "text": [
      "Inception score: 3.3283811190055888\n",
      "Saved Latest Model!\n",
      "----- Epoch Summary -----\n",
      "Dis Loss: -0.342913 - Gen Loss: -1.827075 - Dis LR: 9.91144e-05 - Gen LR: 9.91144e-05\n",
      "FID score: 103.32366943359375 - Inception score: 3.3283811190055888 || @ epoch 19.\n",
      "Best FID score: 103.32366943359375 @ epoch 19\n",
      "-----      End      -----\n",
      "\n",
      "------- Epoch  20 -------\n",
      "[Epoch 20] [Batch 100/1563] [D loss: 0.174478] [G loss: -3.551293]\n",
      "[Epoch 20] [Batch 200/1563] [D loss: -0.975583] [G loss: -2.386156]\n",
      "[Epoch 20] [Batch 300/1563] [D loss: -0.553752] [G loss: -3.012858]\n",
      "[Epoch 20] [Batch 400/1563] [D loss: -0.235171] [G loss: -3.360546]\n",
      "[Epoch 20] [Batch 500/1563] [D loss: -1.047937] [G loss: -2.914799]\n",
      "[Epoch 20] [Batch 600/1563] [D loss: 0.393793] [G loss: -2.473331]\n",
      "[Epoch 20] [Batch 700/1563] [D loss: -0.005138] [G loss: -2.542253]\n",
      "[Epoch 20] [Batch 800/1563] [D loss: 1.063580] [G loss: -2.128931]\n",
      "[Epoch 20] [Batch 900/1563] [D loss: -0.092908] [G loss: -2.133921]\n",
      "[Epoch 20] [Batch 1000/1563] [D loss: 0.624582] [G loss: -0.336475]\n",
      "[Epoch 20] [Batch 1100/1563] [D loss: -0.536130] [G loss: -0.009987]\n",
      "[Epoch 20] [Batch 1200/1563] [D loss: -0.540121] [G loss: -1.570865]\n",
      "[Epoch 20] [Batch 1300/1563] [D loss: -0.079736] [G loss: -1.394279]\n",
      "[Epoch 20] [Batch 1400/1563] [D loss: -0.672633] [G loss: -2.243427]\n",
      "[Epoch 20] [Batch 1500/1563] [D loss: -1.306692] [G loss: -2.525861]\n"
     ]
    },
    {
     "name": "stderr",
     "output_type": "stream",
     "text": [
      "sample images: 100%|██████████| 256/256 [00:05<00:00, 47.84it/s]\n"
     ]
    },
    {
     "name": "stdout",
     "output_type": "stream",
     "text": [
      "Warning: number of images is not a multiple of the batch size. Some samples are going to be ignored.\n"
     ]
    },
    {
     "name": "stderr",
     "output_type": "stream",
     "text": [
      "100%|██████████| 81/81 [00:04<00:00, 19.74it/s]\n"
     ]
    },
    {
     "name": "stdout",
     "output_type": "stream",
     "text": [
      "FID score: 106.4742431640625\n"
     ]
    },
    {
     "name": "stderr",
     "output_type": "stream",
     "text": [
      "sample images: 100%|██████████| 256/256 [00:05<00:00, 47.98it/s]\n"
     ]
    },
    {
     "name": "stdout",
     "output_type": "stream",
     "text": [
      "Inception score: 3.478900994194283\n",
      "----- Epoch Summary -----\n",
      "Dis Loss: -0.298527 - Gen Loss: -2.449610 - Dis LR: 9.90136e-05 - Gen LR: 9.90136e-05\n",
      "FID score: 106.4742431640625 - Inception score: 3.478900994194283 || @ epoch 20.\n",
      "Best FID score: 103.32366943359375 @ epoch 19\n",
      "-----      End      -----\n",
      "\n",
      "------- Epoch  21 -------\n",
      "[Epoch 21] [Batch 0/1563] [D loss: -1.841595] [G loss: -0.641879]\n",
      "[Epoch 21] [Batch 100/1563] [D loss: -1.218263] [G loss: -2.230809]\n",
      "[Epoch 21] [Batch 200/1563] [D loss: -0.698103] [G loss: -1.451102]\n",
      "[Epoch 21] [Batch 300/1563] [D loss: -0.247982] [G loss: -0.256750]\n",
      "[Epoch 21] [Batch 400/1563] [D loss: 0.415892] [G loss: -1.399985]\n",
      "[Epoch 21] [Batch 500/1563] [D loss: -0.715577] [G loss: -0.255332]\n",
      "[Epoch 21] [Batch 600/1563] [D loss: -1.385243] [G loss: -0.835127]\n",
      "[Epoch 21] [Batch 700/1563] [D loss: -0.219103] [G loss: -0.528258]\n",
      "[Epoch 21] [Batch 800/1563] [D loss: -0.490938] [G loss: -0.867336]\n",
      "[Epoch 21] [Batch 900/1563] [D loss: -0.567710] [G loss: 0.438862]\n",
      "[Epoch 21] [Batch 1000/1563] [D loss: 0.064576] [G loss: 1.413793]\n",
      "[Epoch 21] [Batch 1100/1563] [D loss: -0.581070] [G loss: -0.515462]\n",
      "[Epoch 21] [Batch 1200/1563] [D loss: -0.122098] [G loss: -1.621671]\n",
      "[Epoch 21] [Batch 1300/1563] [D loss: -0.422382] [G loss: -0.994509]\n",
      "[Epoch 21] [Batch 1400/1563] [D loss: 0.208437] [G loss: -1.072984]\n",
      "[Epoch 21] [Batch 1500/1563] [D loss: -0.532616] [G loss: -1.198971]\n"
     ]
    },
    {
     "name": "stderr",
     "output_type": "stream",
     "text": [
      "sample images: 100%|██████████| 256/256 [00:05<00:00, 47.88it/s]\n"
     ]
    },
    {
     "name": "stdout",
     "output_type": "stream",
     "text": [
      "Warning: number of images is not a multiple of the batch size. Some samples are going to be ignored.\n"
     ]
    },
    {
     "name": "stderr",
     "output_type": "stream",
     "text": [
      "100%|██████████| 81/81 [00:04<00:00, 19.74it/s]\n"
     ]
    },
    {
     "name": "stdout",
     "output_type": "stream",
     "text": [
      "FID score: 110.1490478515625\n"
     ]
    },
    {
     "name": "stderr",
     "output_type": "stream",
     "text": [
      "sample images: 100%|██████████| 256/256 [00:05<00:00, 48.04it/s]\n"
     ]
    },
    {
     "name": "stdout",
     "output_type": "stream",
     "text": [
      "Inception score: 3.7095896268731936\n",
      "----- Epoch Summary -----\n",
      "Dis Loss: -0.240544 - Gen Loss: -1.010188 - Dis LR: 9.89074e-05 - Gen LR: 9.89074e-05\n",
      "FID score: 110.1490478515625 - Inception score: 3.7095896268731936 || @ epoch 21.\n",
      "Best FID score: 103.32366943359375 @ epoch 19\n",
      "-----      End      -----\n",
      "\n",
      "------- Epoch  22 -------\n",
      "[Epoch 22] [Batch 100/1563] [D loss: 0.063309] [G loss: -1.777110]\n",
      "[Epoch 22] [Batch 200/1563] [D loss: -1.414301] [G loss: -1.611232]\n",
      "[Epoch 22] [Batch 300/1563] [D loss: 0.753786] [G loss: -1.999760]\n",
      "[Epoch 22] [Batch 400/1563] [D loss: -1.485344] [G loss: 0.185611]\n",
      "[Epoch 22] [Batch 500/1563] [D loss: 0.021084] [G loss: -1.771816]\n",
      "[Epoch 22] [Batch 600/1563] [D loss: 0.795502] [G loss: -0.992484]\n",
      "[Epoch 22] [Batch 700/1563] [D loss: 0.385376] [G loss: -0.681930]\n",
      "[Epoch 22] [Batch 800/1563] [D loss: -0.192848] [G loss: -2.294878]\n",
      "[Epoch 22] [Batch 900/1563] [D loss: -1.443617] [G loss: -1.813002]\n",
      "[Epoch 22] [Batch 1000/1563] [D loss: 0.291545] [G loss: -3.532901]\n",
      "[Epoch 22] [Batch 1100/1563] [D loss: -1.413140] [G loss: -1.694559]\n",
      "[Epoch 22] [Batch 1200/1563] [D loss: -0.834033] [G loss: -2.763329]\n",
      "[Epoch 22] [Batch 1300/1563] [D loss: 0.188247] [G loss: -2.576731]\n",
      "[Epoch 22] [Batch 1400/1563] [D loss: -1.065749] [G loss: -3.155788]\n",
      "[Epoch 22] [Batch 1500/1563] [D loss: -0.459114] [G loss: -1.849380]\n"
     ]
    },
    {
     "name": "stderr",
     "output_type": "stream",
     "text": [
      "sample images: 100%|██████████| 256/256 [00:05<00:00, 47.98it/s]\n"
     ]
    },
    {
     "name": "stdout",
     "output_type": "stream",
     "text": [
      "Warning: number of images is not a multiple of the batch size. Some samples are going to be ignored.\n"
     ]
    },
    {
     "name": "stderr",
     "output_type": "stream",
     "text": [
      "100%|██████████| 81/81 [00:04<00:00, 19.70it/s]\n"
     ]
    },
    {
     "name": "stdout",
     "output_type": "stream",
     "text": [
      "FID score: 96.34942626953125\n"
     ]
    },
    {
     "name": "stderr",
     "output_type": "stream",
     "text": [
      "sample images: 100%|██████████| 256/256 [00:05<00:00, 47.93it/s]\n"
     ]
    },
    {
     "name": "stdout",
     "output_type": "stream",
     "text": [
      "Inception score: 3.6083114696781298\n",
      "Saved Latest Model!\n",
      "----- Epoch Summary -----\n",
      "Dis Loss: -0.277346 - Gen Loss: -1.985681 - Dis LR: 9.87958e-05 - Gen LR: 9.87958e-05\n",
      "FID score: 96.34942626953125 - Inception score: 3.6083114696781298 || @ epoch 22.\n",
      "Best FID score: 96.34942626953125 @ epoch 22\n",
      "-----      End      -----\n",
      "\n",
      "------- Epoch  23 -------\n",
      "[Epoch 23] [Batch 100/1563] [D loss: -0.399845] [G loss: -1.544659]\n",
      "[Epoch 23] [Batch 200/1563] [D loss: 0.076012] [G loss: -2.849406]\n",
      "[Epoch 23] [Batch 300/1563] [D loss: 0.665900] [G loss: -3.717837]\n",
      "[Epoch 23] [Batch 400/1563] [D loss: 0.256607] [G loss: -2.103671]\n",
      "[Epoch 23] [Batch 500/1563] [D loss: -0.634822] [G loss: -1.098900]\n",
      "[Epoch 23] [Batch 600/1563] [D loss: -0.536578] [G loss: -0.836439]\n",
      "[Epoch 23] [Batch 700/1563] [D loss: 0.581499] [G loss: -2.907930]\n",
      "[Epoch 23] [Batch 800/1563] [D loss: -0.104989] [G loss: -1.634378]\n",
      "[Epoch 23] [Batch 900/1563] [D loss: 0.063877] [G loss: -3.770233]\n",
      "[Epoch 23] [Batch 1000/1563] [D loss: 0.556180] [G loss: -3.188995]\n",
      "[Epoch 23] [Batch 1100/1563] [D loss: 0.880164] [G loss: -3.105291]\n",
      "[Epoch 23] [Batch 1200/1563] [D loss: -0.225664] [G loss: -4.034378]\n",
      "[Epoch 23] [Batch 1300/1563] [D loss: -0.092147] [G loss: -1.650187]\n",
      "[Epoch 23] [Batch 1400/1563] [D loss: 0.017139] [G loss: -1.887924]\n",
      "[Epoch 23] [Batch 1500/1563] [D loss: 0.717207] [G loss: -1.783725]\n"
     ]
    },
    {
     "name": "stderr",
     "output_type": "stream",
     "text": [
      "sample images: 100%|██████████| 256/256 [00:05<00:00, 47.82it/s]\n"
     ]
    },
    {
     "name": "stdout",
     "output_type": "stream",
     "text": [
      "Warning: number of images is not a multiple of the batch size. Some samples are going to be ignored.\n"
     ]
    },
    {
     "name": "stderr",
     "output_type": "stream",
     "text": [
      "100%|██████████| 81/81 [00:04<00:00, 19.75it/s]\n"
     ]
    },
    {
     "name": "stdout",
     "output_type": "stream",
     "text": [
      "FID score: 106.04559326171875\n"
     ]
    },
    {
     "name": "stderr",
     "output_type": "stream",
     "text": [
      "sample images: 100%|██████████| 256/256 [00:05<00:00, 47.98it/s]\n"
     ]
    },
    {
     "name": "stdout",
     "output_type": "stream",
     "text": [
      "Inception score: 3.228014535343944\n",
      "----- Epoch Summary -----\n",
      "Dis Loss: -0.237075 - Gen Loss: -2.434681 - Dis LR: 9.86789e-05 - Gen LR: 9.86789e-05\n",
      "FID score: 106.04559326171875 - Inception score: 3.228014535343944 || @ epoch 23.\n",
      "Best FID score: 96.34942626953125 @ epoch 22\n",
      "-----      End      -----\n",
      "\n",
      "------- Epoch  24 -------\n",
      "[Epoch 24] [Batch 100/1563] [D loss: 0.617479] [G loss: -1.384552]\n",
      "[Epoch 24] [Batch 200/1563] [D loss: 0.446328] [G loss: -2.855695]\n",
      "[Epoch 24] [Batch 300/1563] [D loss: -0.065220] [G loss: -1.460581]\n",
      "[Epoch 24] [Batch 400/1563] [D loss: -0.431192] [G loss: -2.515662]\n",
      "[Epoch 24] [Batch 500/1563] [D loss: 0.245820] [G loss: -2.498704]\n",
      "[Epoch 24] [Batch 600/1563] [D loss: 0.311295] [G loss: -2.474906]\n",
      "[Epoch 24] [Batch 700/1563] [D loss: -0.091806] [G loss: -1.899040]\n",
      "[Epoch 24] [Batch 800/1563] [D loss: -0.046340] [G loss: -3.843009]\n",
      "[Epoch 24] [Batch 900/1563] [D loss: -1.326649] [G loss: -1.678815]\n",
      "[Epoch 24] [Batch 1000/1563] [D loss: 0.484486] [G loss: -2.298115]\n",
      "[Epoch 24] [Batch 1100/1563] [D loss: -0.543123] [G loss: -2.596212]\n",
      "[Epoch 24] [Batch 1200/1563] [D loss: -1.333624] [G loss: -3.574167]\n",
      "[Epoch 24] [Batch 1300/1563] [D loss: -0.243296] [G loss: -3.162357]\n",
      "[Epoch 24] [Batch 1400/1563] [D loss: -1.893930] [G loss: -2.934961]\n",
      "[Epoch 24] [Batch 1500/1563] [D loss: 0.045297] [G loss: -1.079015]\n"
     ]
    },
    {
     "name": "stderr",
     "output_type": "stream",
     "text": [
      "sample images: 100%|██████████| 256/256 [00:05<00:00, 47.88it/s]\n"
     ]
    },
    {
     "name": "stdout",
     "output_type": "stream",
     "text": [
      "Warning: number of images is not a multiple of the batch size. Some samples are going to be ignored.\n"
     ]
    },
    {
     "name": "stderr",
     "output_type": "stream",
     "text": [
      "100%|██████████| 81/81 [00:04<00:00, 19.69it/s]\n"
     ]
    },
    {
     "name": "stdout",
     "output_type": "stream",
     "text": [
      "FID score: 89.98272705078125\n"
     ]
    },
    {
     "name": "stderr",
     "output_type": "stream",
     "text": [
      "sample images: 100%|██████████| 256/256 [00:05<00:00, 47.96it/s]\n"
     ]
    },
    {
     "name": "stdout",
     "output_type": "stream",
     "text": [
      "Inception score: 3.5856365182480645\n",
      "Saved Latest Model!\n",
      "----- Epoch Summary -----\n",
      "Dis Loss: -0.221578 - Gen Loss: -2.010791 - Dis LR: 9.85567e-05 - Gen LR: 9.85567e-05\n",
      "FID score: 89.98272705078125 - Inception score: 3.5856365182480645 || @ epoch 24.\n",
      "Best FID score: 89.98272705078125 @ epoch 24\n",
      "-----      End      -----\n",
      "\n",
      "------- Epoch  25 -------\n",
      "[Epoch 25] [Batch 100/1563] [D loss: -0.669494] [G loss: -2.431419]\n",
      "[Epoch 25] [Batch 200/1563] [D loss: 0.309246] [G loss: -2.447618]\n",
      "[Epoch 25] [Batch 300/1563] [D loss: -0.285322] [G loss: -1.561852]\n",
      "[Epoch 25] [Batch 400/1563] [D loss: -0.658298] [G loss: -2.233226]\n",
      "[Epoch 25] [Batch 500/1563] [D loss: 0.088272] [G loss: -1.955805]\n",
      "[Epoch 25] [Batch 600/1563] [D loss: 0.371384] [G loss: -2.186205]\n",
      "[Epoch 25] [Batch 700/1563] [D loss: 0.553267] [G loss: -1.978910]\n",
      "[Epoch 25] [Batch 800/1563] [D loss: 0.180787] [G loss: -1.037188]\n",
      "[Epoch 25] [Batch 900/1563] [D loss: -0.184754] [G loss: -1.392482]\n",
      "[Epoch 25] [Batch 1000/1563] [D loss: -0.277055] [G loss: -0.278380]\n",
      "[Epoch 25] [Batch 1100/1563] [D loss: -0.149931] [G loss: -1.663524]\n",
      "[Epoch 25] [Batch 1200/1563] [D loss: 0.310076] [G loss: -2.691230]\n",
      "[Epoch 25] [Batch 1300/1563] [D loss: 1.316731] [G loss: -2.939350]\n",
      "[Epoch 25] [Batch 1400/1563] [D loss: 0.986606] [G loss: -3.074987]\n",
      "[Epoch 25] [Batch 1500/1563] [D loss: 0.203924] [G loss: -1.613933]\n"
     ]
    },
    {
     "name": "stderr",
     "output_type": "stream",
     "text": [
      "sample images: 100%|██████████| 256/256 [00:05<00:00, 47.94it/s]\n"
     ]
    },
    {
     "name": "stdout",
     "output_type": "stream",
     "text": [
      "Warning: number of images is not a multiple of the batch size. Some samples are going to be ignored.\n"
     ]
    },
    {
     "name": "stderr",
     "output_type": "stream",
     "text": [
      "100%|██████████| 81/81 [00:04<00:00, 19.76it/s]\n"
     ]
    },
    {
     "name": "stdout",
     "output_type": "stream",
     "text": [
      "FID score: 89.68914794921875\n"
     ]
    },
    {
     "name": "stderr",
     "output_type": "stream",
     "text": [
      "sample images: 100%|██████████| 256/256 [00:05<00:00, 47.93it/s]\n"
     ]
    },
    {
     "name": "stdout",
     "output_type": "stream",
     "text": [
      "Inception score: 3.69113822287434\n",
      "Saved Latest Model!\n",
      "----- Epoch Summary -----\n",
      "Dis Loss: -0.225880 - Gen Loss: -1.890855 - Dis LR: 9.84292e-05 - Gen LR: 9.84292e-05\n",
      "FID score: 89.68914794921875 - Inception score: 3.69113822287434 || @ epoch 25.\n",
      "Best FID score: 89.68914794921875 @ epoch 25\n",
      "-----      End      -----\n",
      "\n",
      "------- Epoch  26 -------\n",
      "[Epoch 26] [Batch 0/1563] [D loss: -1.211971] [G loss: -1.863839]\n",
      "[Epoch 26] [Batch 100/1563] [D loss: -0.084819] [G loss: -2.154520]\n",
      "[Epoch 26] [Batch 200/1563] [D loss: -2.032765] [G loss: -1.865775]\n",
      "[Epoch 26] [Batch 300/1563] [D loss: 0.212723] [G loss: -1.934364]\n",
      "[Epoch 26] [Batch 400/1563] [D loss: 0.186746] [G loss: -2.374436]\n",
      "[Epoch 26] [Batch 500/1563] [D loss: -0.391149] [G loss: -2.144763]\n",
      "[Epoch 26] [Batch 600/1563] [D loss: -1.008461] [G loss: -1.826658]\n",
      "[Epoch 26] [Batch 700/1563] [D loss: -0.779027] [G loss: -0.995109]\n",
      "[Epoch 26] [Batch 800/1563] [D loss: -0.174762] [G loss: -1.027573]\n",
      "[Epoch 26] [Batch 900/1563] [D loss: 0.636207] [G loss: -1.613470]\n",
      "[Epoch 26] [Batch 1000/1563] [D loss: -1.477677] [G loss: -1.944276]\n",
      "[Epoch 26] [Batch 1100/1563] [D loss: -0.183290] [G loss: -2.381655]\n",
      "[Epoch 26] [Batch 1200/1563] [D loss: 0.249936] [G loss: -1.765870]\n",
      "[Epoch 26] [Batch 1300/1563] [D loss: 0.232218] [G loss: -1.231712]\n",
      "[Epoch 26] [Batch 1400/1563] [D loss: -1.111597] [G loss: -2.230860]\n",
      "[Epoch 26] [Batch 1500/1563] [D loss: 0.063167] [G loss: -0.590957]\n"
     ]
    },
    {
     "name": "stderr",
     "output_type": "stream",
     "text": [
      "sample images: 100%|██████████| 256/256 [00:05<00:00, 48.05it/s]\n"
     ]
    },
    {
     "name": "stdout",
     "output_type": "stream",
     "text": [
      "Warning: number of images is not a multiple of the batch size. Some samples are going to be ignored.\n"
     ]
    },
    {
     "name": "stderr",
     "output_type": "stream",
     "text": [
      "100%|██████████| 81/81 [00:04<00:00, 19.76it/s]\n"
     ]
    },
    {
     "name": "stdout",
     "output_type": "stream",
     "text": [
      "FID score: 104.09335327148438\n"
     ]
    },
    {
     "name": "stderr",
     "output_type": "stream",
     "text": [
      "sample images: 100%|██████████| 256/256 [00:05<00:00, 47.51it/s]\n"
     ]
    },
    {
     "name": "stdout",
     "output_type": "stream",
     "text": [
      "Inception score: 3.6911001705769024\n",
      "----- Epoch Summary -----\n",
      "Dis Loss: -0.197216 - Gen Loss: -1.867460 - Dis LR: 9.82963e-05 - Gen LR: 9.82963e-05\n",
      "FID score: 104.09335327148438 - Inception score: 3.6911001705769024 || @ epoch 26.\n",
      "Best FID score: 89.68914794921875 @ epoch 25\n",
      "-----      End      -----\n",
      "\n",
      "------- Epoch  27 -------\n",
      "[Epoch 27] [Batch 100/1563] [D loss: -0.326237] [G loss: -1.617031]\n",
      "[Epoch 27] [Batch 200/1563] [D loss: -0.732278] [G loss: 0.260744]\n",
      "[Epoch 27] [Batch 300/1563] [D loss: 0.193600] [G loss: -0.313060]\n",
      "[Epoch 27] [Batch 400/1563] [D loss: -0.914203] [G loss: -2.245600]\n",
      "[Epoch 27] [Batch 500/1563] [D loss: -0.403669] [G loss: 0.172970]\n",
      "[Epoch 27] [Batch 600/1563] [D loss: -0.438313] [G loss: -2.137118]\n",
      "[Epoch 27] [Batch 700/1563] [D loss: 0.292708] [G loss: -1.939983]\n",
      "[Epoch 27] [Batch 800/1563] [D loss: 0.840269] [G loss: -1.499147]\n",
      "[Epoch 27] [Batch 900/1563] [D loss: -0.161421] [G loss: -2.212603]\n",
      "[Epoch 27] [Batch 1000/1563] [D loss: -1.123898] [G loss: -2.003062]\n",
      "[Epoch 27] [Batch 1100/1563] [D loss: -0.194013] [G loss: -1.704466]\n",
      "[Epoch 27] [Batch 1200/1563] [D loss: 0.073706] [G loss: -3.290308]\n",
      "[Epoch 27] [Batch 1300/1563] [D loss: -1.260794] [G loss: -2.305845]\n",
      "[Epoch 27] [Batch 1400/1563] [D loss: 0.297546] [G loss: -2.320295]\n",
      "[Epoch 27] [Batch 1500/1563] [D loss: -0.713053] [G loss: -0.678498]\n"
     ]
    },
    {
     "name": "stderr",
     "output_type": "stream",
     "text": [
      "sample images: 100%|██████████| 256/256 [00:05<00:00, 47.89it/s]\n"
     ]
    },
    {
     "name": "stdout",
     "output_type": "stream",
     "text": [
      "Warning: number of images is not a multiple of the batch size. Some samples are going to be ignored.\n"
     ]
    },
    {
     "name": "stderr",
     "output_type": "stream",
     "text": [
      "100%|██████████| 81/81 [00:04<00:00, 19.73it/s]\n"
     ]
    },
    {
     "name": "stdout",
     "output_type": "stream",
     "text": [
      "FID score: 86.1051025390625\n"
     ]
    },
    {
     "name": "stderr",
     "output_type": "stream",
     "text": [
      "sample images: 100%|██████████| 256/256 [00:05<00:00, 47.98it/s]\n"
     ]
    },
    {
     "name": "stdout",
     "output_type": "stream",
     "text": [
      "Inception score: 3.9853622729237723\n",
      "Saved Latest Model!\n",
      "----- Epoch Summary -----\n",
      "Dis Loss: -0.203225 - Gen Loss: -1.909343 - Dis LR: 9.81581e-05 - Gen LR: 9.81581e-05\n",
      "FID score: 86.1051025390625 - Inception score: 3.9853622729237723 || @ epoch 27.\n",
      "Best FID score: 86.1051025390625 @ epoch 27\n",
      "-----      End      -----\n",
      "\n",
      "------- Epoch  28 -------\n",
      "[Epoch 28] [Batch 100/1563] [D loss: -0.530126] [G loss: -2.677703]\n",
      "[Epoch 28] [Batch 200/1563] [D loss: -0.088296] [G loss: -0.976587]\n",
      "[Epoch 28] [Batch 300/1563] [D loss: -0.560934] [G loss: -1.527323]\n",
      "[Epoch 28] [Batch 400/1563] [D loss: 0.626208] [G loss: -1.656678]\n",
      "[Epoch 28] [Batch 500/1563] [D loss: 0.045051] [G loss: -1.043684]\n",
      "[Epoch 28] [Batch 600/1563] [D loss: 0.658950] [G loss: -1.051098]\n",
      "[Epoch 28] [Batch 700/1563] [D loss: -0.925101] [G loss: -0.477072]\n",
      "[Epoch 28] [Batch 800/1563] [D loss: -0.189481] [G loss: -1.244826]\n",
      "[Epoch 28] [Batch 900/1563] [D loss: 0.537622] [G loss: -0.827354]\n",
      "[Epoch 28] [Batch 1000/1563] [D loss: -0.642497] [G loss: -1.096473]\n",
      "[Epoch 28] [Batch 1100/1563] [D loss: 0.460235] [G loss: -1.086787]\n",
      "[Epoch 28] [Batch 1200/1563] [D loss: 1.630717] [G loss: -1.273051]\n",
      "[Epoch 28] [Batch 1300/1563] [D loss: -1.205472] [G loss: -0.520785]\n",
      "[Epoch 28] [Batch 1400/1563] [D loss: -0.542979] [G loss: 0.392139]\n",
      "[Epoch 28] [Batch 1500/1563] [D loss: 0.794316] [G loss: 0.817988]\n"
     ]
    },
    {
     "name": "stderr",
     "output_type": "stream",
     "text": [
      "sample images: 100%|██████████| 256/256 [00:05<00:00, 47.81it/s]\n"
     ]
    },
    {
     "name": "stdout",
     "output_type": "stream",
     "text": [
      "Warning: number of images is not a multiple of the batch size. Some samples are going to be ignored.\n"
     ]
    },
    {
     "name": "stderr",
     "output_type": "stream",
     "text": [
      "100%|██████████| 81/81 [00:04<00:00, 19.70it/s]\n"
     ]
    },
    {
     "name": "stdout",
     "output_type": "stream",
     "text": [
      "FID score: 87.50030517578125\n"
     ]
    },
    {
     "name": "stderr",
     "output_type": "stream",
     "text": [
      "sample images: 100%|██████████| 256/256 [00:05<00:00, 47.91it/s]\n"
     ]
    },
    {
     "name": "stdout",
     "output_type": "stream",
     "text": [
      "Inception score: 3.578415938890816\n",
      "----- Epoch Summary -----\n",
      "Dis Loss: -0.192357 - Gen Loss: -1.409782 - Dis LR: 9.80147e-05 - Gen LR: 9.80147e-05\n",
      "FID score: 87.50030517578125 - Inception score: 3.578415938890816 || @ epoch 28.\n",
      "Best FID score: 86.1051025390625 @ epoch 27\n",
      "-----      End      -----\n",
      "\n",
      "------- Epoch  29 -------\n",
      "[Epoch 29] [Batch 100/1563] [D loss: 0.220980] [G loss: -0.463660]\n",
      "[Epoch 29] [Batch 200/1563] [D loss: 0.230976] [G loss: -1.718459]\n",
      "[Epoch 29] [Batch 300/1563] [D loss: -0.595782] [G loss: -0.395606]\n",
      "[Epoch 29] [Batch 400/1563] [D loss: -0.650508] [G loss: 0.083633]\n",
      "[Epoch 29] [Batch 500/1563] [D loss: -0.882426] [G loss: -0.686891]\n",
      "[Epoch 29] [Batch 600/1563] [D loss: 0.127735] [G loss: 0.510344]\n",
      "[Epoch 29] [Batch 700/1563] [D loss: -0.897949] [G loss: -0.975309]\n",
      "[Epoch 29] [Batch 800/1563] [D loss: -0.071619] [G loss: -1.886435]\n",
      "[Epoch 29] [Batch 900/1563] [D loss: 0.110190] [G loss: 1.089749]\n",
      "[Epoch 29] [Batch 1000/1563] [D loss: 1.180620] [G loss: 0.207749]\n",
      "[Epoch 29] [Batch 1100/1563] [D loss: -0.562193] [G loss: 0.086087]\n",
      "[Epoch 29] [Batch 1200/1563] [D loss: 0.830157] [G loss: -0.331352]\n",
      "[Epoch 29] [Batch 1300/1563] [D loss: 0.107614] [G loss: -0.762171]\n",
      "[Epoch 29] [Batch 1400/1563] [D loss: -0.356951] [G loss: -1.367021]\n",
      "[Epoch 29] [Batch 1500/1563] [D loss: 0.096835] [G loss: -0.701204]\n"
     ]
    },
    {
     "name": "stderr",
     "output_type": "stream",
     "text": [
      "sample images: 100%|██████████| 256/256 [00:05<00:00, 47.84it/s]\n"
     ]
    },
    {
     "name": "stdout",
     "output_type": "stream",
     "text": [
      "Warning: number of images is not a multiple of the batch size. Some samples are going to be ignored.\n"
     ]
    },
    {
     "name": "stderr",
     "output_type": "stream",
     "text": [
      "100%|██████████| 81/81 [00:04<00:00, 19.73it/s]\n"
     ]
    },
    {
     "name": "stdout",
     "output_type": "stream",
     "text": [
      "FID score: 92.50701904296875\n"
     ]
    },
    {
     "name": "stderr",
     "output_type": "stream",
     "text": [
      "sample images: 100%|██████████| 256/256 [00:05<00:00, 48.00it/s]\n"
     ]
    },
    {
     "name": "stdout",
     "output_type": "stream",
     "text": [
      "Inception score: 3.33140560574731\n",
      "----- Epoch Summary -----\n",
      "Dis Loss: -0.198617 - Gen Loss: -0.448994 - Dis LR: 9.7866e-05 - Gen LR: 9.7866e-05\n",
      "FID score: 92.50701904296875 - Inception score: 3.33140560574731 || @ epoch 29.\n",
      "Best FID score: 86.1051025390625 @ epoch 27\n",
      "-----      End      -----\n",
      "\n",
      "------- Epoch  30 -------\n",
      "[Epoch 30] [Batch 100/1563] [D loss: 0.231295] [G loss: -1.305723]\n",
      "[Epoch 30] [Batch 200/1563] [D loss: -0.432975] [G loss: 0.350045]\n",
      "[Epoch 30] [Batch 300/1563] [D loss: -0.517797] [G loss: -1.066564]\n",
      "[Epoch 30] [Batch 400/1563] [D loss: 0.049616] [G loss: -0.748934]\n",
      "[Epoch 30] [Batch 500/1563] [D loss: 0.679609] [G loss: -1.320802]\n",
      "[Epoch 30] [Batch 600/1563] [D loss: -0.131570] [G loss: -0.630374]\n",
      "[Epoch 30] [Batch 700/1563] [D loss: -0.863129] [G loss: -1.589045]\n",
      "[Epoch 30] [Batch 800/1563] [D loss: 0.390000] [G loss: 0.402206]\n",
      "[Epoch 30] [Batch 900/1563] [D loss: 0.596347] [G loss: -1.595570]\n",
      "[Epoch 30] [Batch 1000/1563] [D loss: 0.992212] [G loss: -0.879965]\n",
      "[Epoch 30] [Batch 1100/1563] [D loss: -0.434977] [G loss: -0.603732]\n",
      "[Epoch 30] [Batch 1200/1563] [D loss: -1.453981] [G loss: -0.656455]\n",
      "[Epoch 30] [Batch 1300/1563] [D loss: 1.467006] [G loss: -1.501778]\n",
      "[Epoch 30] [Batch 1400/1563] [D loss: 0.398178] [G loss: 0.843476]\n",
      "[Epoch 30] [Batch 1500/1563] [D loss: -1.092818] [G loss: 0.772213]\n"
     ]
    },
    {
     "name": "stderr",
     "output_type": "stream",
     "text": [
      "sample images: 100%|██████████| 256/256 [00:05<00:00, 47.82it/s]\n"
     ]
    },
    {
     "name": "stdout",
     "output_type": "stream",
     "text": [
      "Warning: number of images is not a multiple of the batch size. Some samples are going to be ignored.\n"
     ]
    },
    {
     "name": "stderr",
     "output_type": "stream",
     "text": [
      "100%|██████████| 81/81 [00:04<00:00, 19.73it/s]\n"
     ]
    },
    {
     "name": "stdout",
     "output_type": "stream",
     "text": [
      "FID score: 82.22171020507812\n"
     ]
    },
    {
     "name": "stderr",
     "output_type": "stream",
     "text": [
      "sample images: 100%|██████████| 256/256 [00:05<00:00, 48.00it/s]\n"
     ]
    },
    {
     "name": "stdout",
     "output_type": "stream",
     "text": [
      "Inception score: 3.8042089306760425\n",
      "Saved Latest Model!\n",
      "----- Epoch Summary -----\n",
      "Dis Loss: -0.196381 - Gen Loss: -0.679318 - Dis LR: 9.7712e-05 - Gen LR: 9.7712e-05\n",
      "FID score: 82.22171020507812 - Inception score: 3.8042089306760425 || @ epoch 30.\n",
      "Best FID score: 82.22171020507812 @ epoch 30\n",
      "-----      End      -----\n",
      "\n",
      "------- Epoch  31 -------\n",
      "[Epoch 31] [Batch 0/1563] [D loss: 0.456997] [G loss: -2.629344]\n",
      "[Epoch 31] [Batch 100/1563] [D loss: -0.849356] [G loss: 0.003417]\n",
      "[Epoch 31] [Batch 200/1563] [D loss: 0.261667] [G loss: 0.655431]\n",
      "[Epoch 31] [Batch 300/1563] [D loss: -1.102075] [G loss: 0.018615]\n",
      "[Epoch 31] [Batch 400/1563] [D loss: -1.215598] [G loss: -1.269065]\n",
      "[Epoch 31] [Batch 500/1563] [D loss: 0.634148] [G loss: -0.627781]\n",
      "[Epoch 31] [Batch 600/1563] [D loss: 0.016639] [G loss: -3.042601]\n",
      "[Epoch 31] [Batch 700/1563] [D loss: -0.418515] [G loss: -2.566933]\n",
      "[Epoch 31] [Batch 800/1563] [D loss: -0.539145] [G loss: -1.115792]\n",
      "[Epoch 31] [Batch 900/1563] [D loss: -0.949093] [G loss: -2.204151]\n",
      "[Epoch 31] [Batch 1000/1563] [D loss: -1.422307] [G loss: -2.575288]\n",
      "[Epoch 31] [Batch 1100/1563] [D loss: -0.693121] [G loss: -1.886575]\n",
      "[Epoch 31] [Batch 1200/1563] [D loss: -0.815233] [G loss: -2.491828]\n",
      "[Epoch 31] [Batch 1300/1563] [D loss: 0.406071] [G loss: -2.285398]\n",
      "[Epoch 31] [Batch 1400/1563] [D loss: -0.001808] [G loss: -2.778698]\n",
      "[Epoch 31] [Batch 1500/1563] [D loss: 0.106217] [G loss: -0.821671]\n"
     ]
    },
    {
     "name": "stderr",
     "output_type": "stream",
     "text": [
      "sample images: 100%|██████████| 256/256 [00:05<00:00, 47.95it/s]\n"
     ]
    },
    {
     "name": "stdout",
     "output_type": "stream",
     "text": [
      "Warning: number of images is not a multiple of the batch size. Some samples are going to be ignored.\n"
     ]
    },
    {
     "name": "stderr",
     "output_type": "stream",
     "text": [
      "100%|██████████| 81/81 [00:04<00:00, 19.75it/s]\n"
     ]
    },
    {
     "name": "stdout",
     "output_type": "stream",
     "text": [
      "FID score: 81.5748291015625\n"
     ]
    },
    {
     "name": "stderr",
     "output_type": "stream",
     "text": [
      "sample images: 100%|██████████| 256/256 [00:05<00:00, 47.84it/s]\n"
     ]
    },
    {
     "name": "stdout",
     "output_type": "stream",
     "text": [
      "Inception score: 4.1005476582692015\n",
      "Saved Latest Model!\n",
      "----- Epoch Summary -----\n",
      "Dis Loss: -0.184482 - Gen Loss: -1.675251 - Dis LR: 9.75528e-05 - Gen LR: 9.75528e-05\n",
      "FID score: 81.5748291015625 - Inception score: 4.1005476582692015 || @ epoch 31.\n",
      "Best FID score: 81.5748291015625 @ epoch 31\n",
      "-----      End      -----\n",
      "\n",
      "------- Epoch  32 -------\n",
      "[Epoch 32] [Batch 100/1563] [D loss: -0.477947] [G loss: -2.498237]\n",
      "[Epoch 32] [Batch 200/1563] [D loss: -0.387231] [G loss: -1.580830]\n",
      "[Epoch 32] [Batch 300/1563] [D loss: -0.237904] [G loss: -2.249139]\n",
      "[Epoch 32] [Batch 400/1563] [D loss: -0.241577] [G loss: -2.334575]\n",
      "[Epoch 32] [Batch 500/1563] [D loss: 0.321400] [G loss: -2.020771]\n",
      "[Epoch 32] [Batch 600/1563] [D loss: -0.563896] [G loss: -1.657194]\n",
      "[Epoch 32] [Batch 700/1563] [D loss: 1.656807] [G loss: -1.894738]\n",
      "[Epoch 32] [Batch 800/1563] [D loss: -0.548146] [G loss: -4.350226]\n",
      "[Epoch 32] [Batch 900/1563] [D loss: -0.463707] [G loss: -2.853577]\n",
      "[Epoch 32] [Batch 1000/1563] [D loss: 0.673313] [G loss: -1.138538]\n",
      "[Epoch 32] [Batch 1100/1563] [D loss: -1.267878] [G loss: -1.262529]\n",
      "[Epoch 32] [Batch 1200/1563] [D loss: 1.045117] [G loss: -2.608503]\n",
      "[Epoch 32] [Batch 1300/1563] [D loss: -0.500192] [G loss: -2.058787]\n",
      "[Epoch 32] [Batch 1400/1563] [D loss: -0.185546] [G loss: -2.412986]\n",
      "[Epoch 32] [Batch 1500/1563] [D loss: -0.673652] [G loss: -2.314880]\n"
     ]
    },
    {
     "name": "stderr",
     "output_type": "stream",
     "text": [
      "sample images: 100%|██████████| 256/256 [00:05<00:00, 47.92it/s]\n"
     ]
    },
    {
     "name": "stdout",
     "output_type": "stream",
     "text": [
      "Warning: number of images is not a multiple of the batch size. Some samples are going to be ignored.\n"
     ]
    },
    {
     "name": "stderr",
     "output_type": "stream",
     "text": [
      "100%|██████████| 81/81 [00:04<00:00, 19.77it/s]\n"
     ]
    },
    {
     "name": "stdout",
     "output_type": "stream",
     "text": [
      "FID score: 78.7388916015625\n"
     ]
    },
    {
     "name": "stderr",
     "output_type": "stream",
     "text": [
      "sample images: 100%|██████████| 256/256 [00:05<00:00, 47.92it/s]\n"
     ]
    },
    {
     "name": "stdout",
     "output_type": "stream",
     "text": [
      "Inception score: 3.7532121813253965\n",
      "Saved Latest Model!\n",
      "----- Epoch Summary -----\n",
      "Dis Loss: -0.176515 - Gen Loss: -2.149393 - Dis LR: 9.73884e-05 - Gen LR: 9.73884e-05\n",
      "FID score: 78.7388916015625 - Inception score: 3.7532121813253965 || @ epoch 32.\n",
      "Best FID score: 78.7388916015625 @ epoch 32\n",
      "-----      End      -----\n",
      "\n",
      "------- Epoch  33 -------\n",
      "[Epoch 33] [Batch 100/1563] [D loss: 0.343349] [G loss: -0.952940]\n",
      "[Epoch 33] [Batch 200/1563] [D loss: -0.151540] [G loss: -1.651760]\n",
      "[Epoch 33] [Batch 300/1563] [D loss: -0.341202] [G loss: -0.669612]\n",
      "[Epoch 33] [Batch 400/1563] [D loss: -1.312490] [G loss: -1.179488]\n",
      "[Epoch 33] [Batch 500/1563] [D loss: 0.075104] [G loss: -0.654763]\n",
      "[Epoch 33] [Batch 600/1563] [D loss: -0.612822] [G loss: -1.513559]\n",
      "[Epoch 33] [Batch 700/1563] [D loss: -0.641645] [G loss: -1.736923]\n",
      "[Epoch 33] [Batch 800/1563] [D loss: 0.082245] [G loss: -0.558932]\n",
      "[Epoch 33] [Batch 900/1563] [D loss: 0.815248] [G loss: -0.566006]\n",
      "[Epoch 33] [Batch 1000/1563] [D loss: -0.081133] [G loss: -1.741327]\n",
      "[Epoch 33] [Batch 1100/1563] [D loss: 0.686168] [G loss: -1.264924]\n",
      "[Epoch 33] [Batch 1200/1563] [D loss: -0.535917] [G loss: -2.547705]\n",
      "[Epoch 33] [Batch 1300/1563] [D loss: 0.496276] [G loss: -1.001326]\n",
      "[Epoch 33] [Batch 1400/1563] [D loss: -0.119274] [G loss: -0.527958]\n",
      "[Epoch 33] [Batch 1500/1563] [D loss: 1.517347] [G loss: -1.864107]\n"
     ]
    },
    {
     "name": "stderr",
     "output_type": "stream",
     "text": [
      "sample images: 100%|██████████| 256/256 [00:05<00:00, 48.00it/s]\n"
     ]
    },
    {
     "name": "stdout",
     "output_type": "stream",
     "text": [
      "Warning: number of images is not a multiple of the batch size. Some samples are going to be ignored.\n"
     ]
    },
    {
     "name": "stderr",
     "output_type": "stream",
     "text": [
      "100%|██████████| 81/81 [00:04<00:00, 19.71it/s]\n"
     ]
    },
    {
     "name": "stdout",
     "output_type": "stream",
     "text": [
      "FID score: 82.34759521484375\n"
     ]
    },
    {
     "name": "stderr",
     "output_type": "stream",
     "text": [
      "sample images: 100%|██████████| 256/256 [00:05<00:00, 47.75it/s]\n"
     ]
    },
    {
     "name": "stdout",
     "output_type": "stream",
     "text": [
      "Inception score: 3.6178472540609206\n",
      "----- Epoch Summary -----\n",
      "Dis Loss: -0.136008 - Gen Loss: -1.463493 - Dis LR: 9.72188e-05 - Gen LR: 9.72188e-05\n",
      "FID score: 82.34759521484375 - Inception score: 3.6178472540609206 || @ epoch 33.\n",
      "Best FID score: 78.7388916015625 @ epoch 32\n",
      "-----      End      -----\n",
      "\n",
      "------- Epoch  34 -------\n",
      "[Epoch 34] [Batch 100/1563] [D loss: -0.790883] [G loss: -1.414983]\n",
      "[Epoch 34] [Batch 200/1563] [D loss: -0.011479] [G loss: -0.248387]\n",
      "[Epoch 34] [Batch 300/1563] [D loss: 0.015030] [G loss: -0.349368]\n",
      "[Epoch 34] [Batch 400/1563] [D loss: 0.382441] [G loss: -1.169219]\n",
      "[Epoch 34] [Batch 500/1563] [D loss: 0.092801] [G loss: -0.372754]\n",
      "[Epoch 34] [Batch 600/1563] [D loss: -0.146746] [G loss: -1.194668]\n",
      "[Epoch 34] [Batch 700/1563] [D loss: -0.395071] [G loss: -1.735018]\n",
      "[Epoch 34] [Batch 800/1563] [D loss: -0.876706] [G loss: -1.020494]\n",
      "[Epoch 34] [Batch 900/1563] [D loss: 0.446913] [G loss: -0.032387]\n",
      "[Epoch 34] [Batch 1000/1563] [D loss: -0.079138] [G loss: -0.334806]\n",
      "[Epoch 34] [Batch 1100/1563] [D loss: -0.264693] [G loss: 0.349745]\n",
      "[Epoch 34] [Batch 1200/1563] [D loss: 0.661364] [G loss: -1.309832]\n",
      "[Epoch 34] [Batch 1300/1563] [D loss: -0.240828] [G loss: -0.991900]\n",
      "[Epoch 34] [Batch 1400/1563] [D loss: 0.555743] [G loss: -2.290973]\n",
      "[Epoch 34] [Batch 1500/1563] [D loss: -0.524421] [G loss: -1.913790]\n"
     ]
    },
    {
     "name": "stderr",
     "output_type": "stream",
     "text": [
      "sample images: 100%|██████████| 256/256 [00:05<00:00, 48.02it/s]\n"
     ]
    },
    {
     "name": "stdout",
     "output_type": "stream",
     "text": [
      "Warning: number of images is not a multiple of the batch size. Some samples are going to be ignored.\n"
     ]
    },
    {
     "name": "stderr",
     "output_type": "stream",
     "text": [
      "100%|██████████| 81/81 [00:04<00:00, 19.70it/s]\n"
     ]
    },
    {
     "name": "stdout",
     "output_type": "stream",
     "text": [
      "FID score: 83.68603515625\n"
     ]
    },
    {
     "name": "stderr",
     "output_type": "stream",
     "text": [
      "sample images: 100%|██████████| 256/256 [00:05<00:00, 47.91it/s]\n"
     ]
    },
    {
     "name": "stdout",
     "output_type": "stream",
     "text": [
      "Inception score: 3.667609050292437\n",
      "----- Epoch Summary -----\n",
      "Dis Loss: -0.173586 - Gen Loss: -1.080449 - Dis LR: 9.7044e-05 - Gen LR: 9.7044e-05\n",
      "FID score: 83.68603515625 - Inception score: 3.667609050292437 || @ epoch 34.\n",
      "Best FID score: 78.7388916015625 @ epoch 32\n",
      "-----      End      -----\n",
      "\n",
      "------- Epoch  35 -------\n",
      "[Epoch 35] [Batch 100/1563] [D loss: -0.592049] [G loss: -1.491484]\n",
      "[Epoch 35] [Batch 200/1563] [D loss: 0.364867] [G loss: -1.207568]\n",
      "[Epoch 35] [Batch 300/1563] [D loss: 0.735398] [G loss: -1.376441]\n",
      "[Epoch 35] [Batch 400/1563] [D loss: 0.644324] [G loss: -1.830574]\n",
      "[Epoch 35] [Batch 500/1563] [D loss: -0.287776] [G loss: -2.647157]\n",
      "[Epoch 35] [Batch 600/1563] [D loss: 0.993575] [G loss: -0.512796]\n",
      "[Epoch 35] [Batch 700/1563] [D loss: -1.562997] [G loss: -0.696262]\n",
      "[Epoch 35] [Batch 800/1563] [D loss: 0.526457] [G loss: -0.745812]\n",
      "[Epoch 35] [Batch 900/1563] [D loss: 0.057218] [G loss: 0.568357]\n",
      "[Epoch 35] [Batch 1000/1563] [D loss: -0.822406] [G loss: -0.751978]\n",
      "[Epoch 35] [Batch 1100/1563] [D loss: 0.893297] [G loss: 0.447816]\n",
      "[Epoch 35] [Batch 1200/1563] [D loss: -0.436421] [G loss: -0.505229]\n",
      "[Epoch 35] [Batch 1300/1563] [D loss: -0.179423] [G loss: -0.285223]\n",
      "[Epoch 35] [Batch 1400/1563] [D loss: 0.161674] [G loss: 0.095855]\n",
      "[Epoch 35] [Batch 1500/1563] [D loss: 0.639919] [G loss: -0.780862]\n"
     ]
    },
    {
     "name": "stderr",
     "output_type": "stream",
     "text": [
      "sample images: 100%|██████████| 256/256 [00:05<00:00, 47.82it/s]\n"
     ]
    },
    {
     "name": "stdout",
     "output_type": "stream",
     "text": [
      "Warning: number of images is not a multiple of the batch size. Some samples are going to be ignored.\n"
     ]
    },
    {
     "name": "stderr",
     "output_type": "stream",
     "text": [
      "100%|██████████| 81/81 [00:04<00:00, 19.69it/s]\n"
     ]
    },
    {
     "name": "stdout",
     "output_type": "stream",
     "text": [
      "FID score: 77.90863037109375\n"
     ]
    },
    {
     "name": "stderr",
     "output_type": "stream",
     "text": [
      "sample images: 100%|██████████| 256/256 [00:05<00:00, 47.77it/s]\n"
     ]
    },
    {
     "name": "stdout",
     "output_type": "stream",
     "text": [
      "Inception score: 3.8576773853096116\n",
      "Saved Latest Model!\n",
      "----- Epoch Summary -----\n",
      "Dis Loss: -0.135819 - Gen Loss: -0.461546 - Dis LR: 9.68641e-05 - Gen LR: 9.68641e-05\n",
      "FID score: 77.90863037109375 - Inception score: 3.8576773853096116 || @ epoch 35.\n",
      "Best FID score: 77.90863037109375 @ epoch 35\n",
      "-----      End      -----\n",
      "\n",
      "------- Epoch  36 -------\n",
      "[Epoch 36] [Batch 0/1563] [D loss: -0.209178] [G loss: -0.958381]\n",
      "[Epoch 36] [Batch 100/1563] [D loss: -0.234872] [G loss: -0.521738]\n",
      "[Epoch 36] [Batch 200/1563] [D loss: -0.355857] [G loss: 0.026650]\n",
      "[Epoch 36] [Batch 300/1563] [D loss: -0.551094] [G loss: -1.048093]\n",
      "[Epoch 36] [Batch 400/1563] [D loss: 0.090841] [G loss: -0.841965]\n",
      "[Epoch 36] [Batch 500/1563] [D loss: -0.815223] [G loss: -0.042249]\n",
      "[Epoch 36] [Batch 600/1563] [D loss: -0.267488] [G loss: 0.076675]\n",
      "[Epoch 36] [Batch 700/1563] [D loss: 0.720240] [G loss: 0.345414]\n",
      "[Epoch 36] [Batch 800/1563] [D loss: -0.602506] [G loss: 0.911797]\n",
      "[Epoch 36] [Batch 900/1563] [D loss: 0.136206] [G loss: -0.773023]\n",
      "[Epoch 36] [Batch 1000/1563] [D loss: -0.669336] [G loss: -1.348631]\n",
      "[Epoch 36] [Batch 1100/1563] [D loss: 0.399580] [G loss: -1.677096]\n",
      "[Epoch 36] [Batch 1200/1563] [D loss: -0.015584] [G loss: -1.356992]\n",
      "[Epoch 36] [Batch 1300/1563] [D loss: 0.269977] [G loss: -2.301826]\n",
      "[Epoch 36] [Batch 1400/1563] [D loss: -1.116372] [G loss: 1.240148]\n",
      "[Epoch 36] [Batch 1500/1563] [D loss: -0.268072] [G loss: -1.277182]\n"
     ]
    },
    {
     "name": "stderr",
     "output_type": "stream",
     "text": [
      "sample images: 100%|██████████| 256/256 [00:05<00:00, 47.78it/s]\n"
     ]
    },
    {
     "name": "stdout",
     "output_type": "stream",
     "text": [
      "Warning: number of images is not a multiple of the batch size. Some samples are going to be ignored.\n"
     ]
    },
    {
     "name": "stderr",
     "output_type": "stream",
     "text": [
      "100%|██████████| 81/81 [00:04<00:00, 19.74it/s]\n"
     ]
    },
    {
     "name": "stdout",
     "output_type": "stream",
     "text": [
      "FID score: 80.51666259765625\n"
     ]
    },
    {
     "name": "stderr",
     "output_type": "stream",
     "text": [
      "sample images: 100%|██████████| 256/256 [00:05<00:00, 47.99it/s]\n"
     ]
    },
    {
     "name": "stdout",
     "output_type": "stream",
     "text": [
      "Inception score: 4.137326768488916\n",
      "----- Epoch Summary -----\n",
      "Dis Loss: -0.151939 - Gen Loss: -0.587714 - Dis LR: 9.6679e-05 - Gen LR: 9.6679e-05\n",
      "FID score: 80.51666259765625 - Inception score: 4.137326768488916 || @ epoch 36.\n",
      "Best FID score: 77.90863037109375 @ epoch 35\n",
      "-----      End      -----\n",
      "\n",
      "------- Epoch  37 -------\n",
      "[Epoch 37] [Batch 100/1563] [D loss: 1.056625] [G loss: -1.195584]\n",
      "[Epoch 37] [Batch 200/1563] [D loss: -0.663445] [G loss: -1.700526]\n",
      "[Epoch 37] [Batch 300/1563] [D loss: -1.193276] [G loss: -0.476794]\n",
      "[Epoch 37] [Batch 400/1563] [D loss: -0.560560] [G loss: -0.716806]\n",
      "[Epoch 37] [Batch 500/1563] [D loss: -0.321372] [G loss: -0.621432]\n",
      "[Epoch 37] [Batch 600/1563] [D loss: -1.056413] [G loss: -1.576918]\n",
      "[Epoch 37] [Batch 700/1563] [D loss: -0.564060] [G loss: -0.647978]\n",
      "[Epoch 37] [Batch 800/1563] [D loss: 0.180772] [G loss: -0.978692]\n",
      "[Epoch 37] [Batch 900/1563] [D loss: -0.413010] [G loss: -0.478738]\n",
      "[Epoch 37] [Batch 1000/1563] [D loss: -0.407679] [G loss: -0.471012]\n",
      "[Epoch 37] [Batch 1100/1563] [D loss: 0.210939] [G loss: -0.404840]\n",
      "[Epoch 37] [Batch 1200/1563] [D loss: -0.854341] [G loss: -1.367852]\n",
      "[Epoch 37] [Batch 1300/1563] [D loss: 0.322632] [G loss: -1.004857]\n",
      "[Epoch 37] [Batch 1400/1563] [D loss: -0.835846] [G loss: 0.478527]\n",
      "[Epoch 37] [Batch 1500/1563] [D loss: -0.176486] [G loss: -0.652034]\n"
     ]
    },
    {
     "name": "stderr",
     "output_type": "stream",
     "text": [
      "sample images: 100%|██████████| 256/256 [00:05<00:00, 47.81it/s]\n"
     ]
    },
    {
     "name": "stdout",
     "output_type": "stream",
     "text": [
      "Warning: number of images is not a multiple of the batch size. Some samples are going to be ignored.\n"
     ]
    },
    {
     "name": "stderr",
     "output_type": "stream",
     "text": [
      "100%|██████████| 81/81 [00:04<00:00, 19.69it/s]\n"
     ]
    },
    {
     "name": "stdout",
     "output_type": "stream",
     "text": [
      "FID score: 83.36260986328125\n"
     ]
    },
    {
     "name": "stderr",
     "output_type": "stream",
     "text": [
      "sample images: 100%|██████████| 256/256 [00:05<00:00, 47.90it/s]\n"
     ]
    },
    {
     "name": "stdout",
     "output_type": "stream",
     "text": [
      "Inception score: 3.6662924646566073\n",
      "----- Epoch Summary -----\n",
      "Dis Loss: -0.139719 - Gen Loss: -0.780781 - Dis LR: 9.64888e-05 - Gen LR: 9.64888e-05\n",
      "FID score: 83.36260986328125 - Inception score: 3.6662924646566073 || @ epoch 37.\n",
      "Best FID score: 77.90863037109375 @ epoch 35\n",
      "-----      End      -----\n",
      "\n",
      "------- Epoch  38 -------\n",
      "[Epoch 38] [Batch 100/1563] [D loss: 0.496860] [G loss: -1.475352]\n",
      "[Epoch 38] [Batch 200/1563] [D loss: 0.831943] [G loss: -0.555717]\n",
      "[Epoch 38] [Batch 300/1563] [D loss: 0.354698] [G loss: -0.998888]\n",
      "[Epoch 38] [Batch 400/1563] [D loss: -0.158584] [G loss: -1.468751]\n",
      "[Epoch 38] [Batch 500/1563] [D loss: -0.378544] [G loss: -1.415689]\n",
      "[Epoch 38] [Batch 600/1563] [D loss: -0.516749] [G loss: -1.650791]\n",
      "[Epoch 38] [Batch 700/1563] [D loss: 0.167629] [G loss: -1.513040]\n",
      "[Epoch 38] [Batch 800/1563] [D loss: -0.314328] [G loss: -1.869718]\n",
      "[Epoch 38] [Batch 900/1563] [D loss: -0.041765] [G loss: -0.313937]\n",
      "[Epoch 38] [Batch 1000/1563] [D loss: 0.822188] [G loss: -1.538611]\n",
      "[Epoch 38] [Batch 1100/1563] [D loss: -0.837743] [G loss: -1.574801]\n",
      "[Epoch 38] [Batch 1200/1563] [D loss: -0.331777] [G loss: -0.398342]\n",
      "[Epoch 38] [Batch 1300/1563] [D loss: -0.189959] [G loss: -1.068723]\n",
      "[Epoch 38] [Batch 1400/1563] [D loss: 0.282435] [G loss: -0.957551]\n",
      "[Epoch 38] [Batch 1500/1563] [D loss: 0.407105] [G loss: -1.340921]\n"
     ]
    },
    {
     "name": "stderr",
     "output_type": "stream",
     "text": [
      "sample images: 100%|██████████| 256/256 [00:05<00:00, 47.79it/s]\n"
     ]
    },
    {
     "name": "stdout",
     "output_type": "stream",
     "text": [
      "Warning: number of images is not a multiple of the batch size. Some samples are going to be ignored.\n"
     ]
    },
    {
     "name": "stderr",
     "output_type": "stream",
     "text": [
      "100%|██████████| 81/81 [00:04<00:00, 19.73it/s]\n"
     ]
    },
    {
     "name": "stdout",
     "output_type": "stream",
     "text": [
      "FID score: 76.7886962890625\n"
     ]
    },
    {
     "name": "stderr",
     "output_type": "stream",
     "text": [
      "sample images: 100%|██████████| 256/256 [00:05<00:00, 47.99it/s]\n"
     ]
    },
    {
     "name": "stdout",
     "output_type": "stream",
     "text": [
      "Inception score: 3.796446513565018\n",
      "Saved Latest Model!\n",
      "----- Epoch Summary -----\n",
      "Dis Loss: -0.140370 - Gen Loss: -1.006612 - Dis LR: 9.62935e-05 - Gen LR: 9.62935e-05\n",
      "FID score: 76.7886962890625 - Inception score: 3.796446513565018 || @ epoch 38.\n",
      "Best FID score: 76.7886962890625 @ epoch 38\n",
      "-----      End      -----\n",
      "\n",
      "------- Epoch  39 -------\n",
      "[Epoch 39] [Batch 100/1563] [D loss: 0.361111] [G loss: 0.068651]\n",
      "[Epoch 39] [Batch 200/1563] [D loss: 0.133401] [G loss: -1.487260]\n",
      "[Epoch 39] [Batch 300/1563] [D loss: 0.191570] [G loss: 0.501880]\n",
      "[Epoch 39] [Batch 400/1563] [D loss: 0.106680] [G loss: -0.275615]\n",
      "[Epoch 39] [Batch 500/1563] [D loss: 0.417728] [G loss: -1.668751]\n",
      "[Epoch 39] [Batch 600/1563] [D loss: -0.250699] [G loss: -0.523795]\n",
      "[Epoch 39] [Batch 700/1563] [D loss: 0.056099] [G loss: -1.410344]\n",
      "[Epoch 39] [Batch 800/1563] [D loss: 0.812947] [G loss: -1.154215]\n",
      "[Epoch 39] [Batch 900/1563] [D loss: -0.538429] [G loss: -1.339006]\n",
      "[Epoch 39] [Batch 1000/1563] [D loss: 0.046874] [G loss: -1.003529]\n",
      "[Epoch 39] [Batch 1100/1563] [D loss: 0.320341] [G loss: -1.534755]\n",
      "[Epoch 39] [Batch 1200/1563] [D loss: -0.640014] [G loss: -1.193742]\n",
      "[Epoch 39] [Batch 1300/1563] [D loss: 0.184073] [G loss: -1.383929]\n",
      "[Epoch 39] [Batch 1400/1563] [D loss: 0.024604] [G loss: -2.255889]\n",
      "[Epoch 39] [Batch 1500/1563] [D loss: -0.696109] [G loss: -0.049900]\n"
     ]
    },
    {
     "name": "stderr",
     "output_type": "stream",
     "text": [
      "sample images: 100%|██████████| 256/256 [00:05<00:00, 47.78it/s]\n"
     ]
    },
    {
     "name": "stdout",
     "output_type": "stream",
     "text": [
      "Warning: number of images is not a multiple of the batch size. Some samples are going to be ignored.\n"
     ]
    },
    {
     "name": "stderr",
     "output_type": "stream",
     "text": [
      "100%|██████████| 81/81 [00:04<00:00, 19.73it/s]\n"
     ]
    },
    {
     "name": "stdout",
     "output_type": "stream",
     "text": [
      "FID score: 72.28411865234375\n"
     ]
    },
    {
     "name": "stderr",
     "output_type": "stream",
     "text": [
      "sample images: 100%|██████████| 256/256 [00:05<00:00, 48.00it/s]\n"
     ]
    },
    {
     "name": "stdout",
     "output_type": "stream",
     "text": [
      "Inception score: 3.8188506690603217\n",
      "Saved Latest Model!\n",
      "----- Epoch Summary -----\n",
      "Dis Loss: -0.134710 - Gen Loss: -0.954763 - Dis LR: 9.60932e-05 - Gen LR: 9.60932e-05\n",
      "FID score: 72.28411865234375 - Inception score: 3.8188506690603217 || @ epoch 39.\n",
      "Best FID score: 72.28411865234375 @ epoch 39\n",
      "-----      End      -----\n",
      "\n",
      "------- Epoch  40 -------\n",
      "[Epoch 40] [Batch 100/1563] [D loss: 0.195986] [G loss: 0.270686]\n",
      "[Epoch 40] [Batch 200/1563] [D loss: -0.826174] [G loss: -2.032785]\n",
      "[Epoch 40] [Batch 300/1563] [D loss: -0.612598] [G loss: -1.489084]\n",
      "[Epoch 40] [Batch 400/1563] [D loss: -0.249386] [G loss: -1.263909]\n",
      "[Epoch 40] [Batch 500/1563] [D loss: 0.819745] [G loss: -1.271440]\n",
      "[Epoch 40] [Batch 600/1563] [D loss: -0.920610] [G loss: -0.627009]\n",
      "[Epoch 40] [Batch 700/1563] [D loss: -0.067982] [G loss: -0.465579]\n",
      "[Epoch 40] [Batch 800/1563] [D loss: -0.212673] [G loss: -1.949070]\n",
      "[Epoch 40] [Batch 900/1563] [D loss: -0.002405] [G loss: -1.872097]\n",
      "[Epoch 40] [Batch 1000/1563] [D loss: 0.504473] [G loss: -1.416399]\n",
      "[Epoch 40] [Batch 1100/1563] [D loss: 0.448226] [G loss: -0.919341]\n",
      "[Epoch 40] [Batch 1200/1563] [D loss: -1.249453] [G loss: -1.705865]\n",
      "[Epoch 40] [Batch 1300/1563] [D loss: 0.452881] [G loss: -2.433027]\n",
      "[Epoch 40] [Batch 1400/1563] [D loss: 0.678132] [G loss: -2.629292]\n",
      "[Epoch 40] [Batch 1500/1563] [D loss: 0.583556] [G loss: -0.938150]\n"
     ]
    },
    {
     "name": "stderr",
     "output_type": "stream",
     "text": [
      "sample images: 100%|██████████| 256/256 [00:05<00:00, 47.92it/s]\n"
     ]
    },
    {
     "name": "stdout",
     "output_type": "stream",
     "text": [
      "Warning: number of images is not a multiple of the batch size. Some samples are going to be ignored.\n"
     ]
    },
    {
     "name": "stderr",
     "output_type": "stream",
     "text": [
      "100%|██████████| 81/81 [00:04<00:00, 19.73it/s]\n"
     ]
    },
    {
     "name": "stdout",
     "output_type": "stream",
     "text": [
      "FID score: 75.19619750976562\n"
     ]
    },
    {
     "name": "stderr",
     "output_type": "stream",
     "text": [
      "sample images: 100%|██████████| 256/256 [00:05<00:00, 47.83it/s]\n"
     ]
    },
    {
     "name": "stdout",
     "output_type": "stream",
     "text": [
      "Inception score: 3.9055533160209355\n",
      "----- Epoch Summary -----\n",
      "Dis Loss: -0.113894 - Gen Loss: -1.538918 - Dis LR: 9.58877e-05 - Gen LR: 9.58877e-05\n",
      "FID score: 75.19619750976562 - Inception score: 3.9055533160209355 || @ epoch 40.\n",
      "Best FID score: 72.28411865234375 @ epoch 39\n",
      "-----      End      -----\n",
      "\n",
      "------- Epoch  41 -------\n",
      "[Epoch 41] [Batch 0/1563] [D loss: 1.050972] [G loss: -2.190709]\n",
      "[Epoch 41] [Batch 100/1563] [D loss: -0.178084] [G loss: -1.692003]\n",
      "[Epoch 41] [Batch 200/1563] [D loss: -0.652614] [G loss: -2.447680]\n",
      "[Epoch 41] [Batch 300/1563] [D loss: -0.036203] [G loss: -0.724734]\n",
      "[Epoch 41] [Batch 400/1563] [D loss: -0.514139] [G loss: -0.062392]\n",
      "[Epoch 41] [Batch 500/1563] [D loss: -1.269322] [G loss: -0.364076]\n",
      "[Epoch 41] [Batch 600/1563] [D loss: -0.038050] [G loss: -1.574656]\n",
      "[Epoch 41] [Batch 700/1563] [D loss: 0.749695] [G loss: -2.356759]\n",
      "[Epoch 41] [Batch 800/1563] [D loss: 0.524159] [G loss: -1.895209]\n",
      "[Epoch 41] [Batch 900/1563] [D loss: 0.743519] [G loss: -1.819660]\n",
      "[Epoch 41] [Batch 1000/1563] [D loss: 0.093842] [G loss: -1.679893]\n",
      "[Epoch 41] [Batch 1100/1563] [D loss: 0.190766] [G loss: -1.125456]\n",
      "[Epoch 41] [Batch 1200/1563] [D loss: -0.505019] [G loss: -2.166427]\n",
      "[Epoch 41] [Batch 1300/1563] [D loss: 0.074609] [G loss: -0.863910]\n",
      "[Epoch 41] [Batch 1400/1563] [D loss: -0.567595] [G loss: -1.412191]\n",
      "[Epoch 41] [Batch 1500/1563] [D loss: -1.604985] [G loss: -1.876619]\n"
     ]
    },
    {
     "name": "stderr",
     "output_type": "stream",
     "text": [
      "sample images: 100%|██████████| 256/256 [00:05<00:00, 47.89it/s]\n"
     ]
    },
    {
     "name": "stdout",
     "output_type": "stream",
     "text": [
      "Warning: number of images is not a multiple of the batch size. Some samples are going to be ignored.\n"
     ]
    },
    {
     "name": "stderr",
     "output_type": "stream",
     "text": [
      "100%|██████████| 81/81 [00:04<00:00, 19.75it/s]\n"
     ]
    },
    {
     "name": "stdout",
     "output_type": "stream",
     "text": [
      "FID score: 72.4423828125\n"
     ]
    },
    {
     "name": "stderr",
     "output_type": "stream",
     "text": [
      "sample images: 100%|██████████| 256/256 [00:05<00:00, 47.98it/s]\n"
     ]
    },
    {
     "name": "stdout",
     "output_type": "stream",
     "text": [
      "Inception score: 3.8662485182557105\n",
      "----- Epoch Summary -----\n",
      "Dis Loss: -0.109528 - Gen Loss: -1.672562 - Dis LR: 9.56773e-05 - Gen LR: 9.56773e-05\n",
      "FID score: 72.4423828125 - Inception score: 3.8662485182557105 || @ epoch 41.\n",
      "Best FID score: 72.28411865234375 @ epoch 39\n",
      "-----      End      -----\n",
      "\n",
      "------- Epoch  42 -------\n",
      "[Epoch 42] [Batch 100/1563] [D loss: -0.879288] [G loss: -0.981443]\n",
      "[Epoch 42] [Batch 200/1563] [D loss: 0.157749] [G loss: -1.906900]\n",
      "[Epoch 42] [Batch 300/1563] [D loss: 0.350685] [G loss: -1.675102]\n",
      "[Epoch 42] [Batch 400/1563] [D loss: -1.060874] [G loss: 0.126974]\n",
      "[Epoch 42] [Batch 500/1563] [D loss: -1.012153] [G loss: -1.206452]\n",
      "[Epoch 42] [Batch 600/1563] [D loss: -0.071909] [G loss: -1.726954]\n",
      "[Epoch 42] [Batch 700/1563] [D loss: 1.022183] [G loss: -1.373292]\n",
      "[Epoch 42] [Batch 800/1563] [D loss: -0.080225] [G loss: -0.399017]\n",
      "[Epoch 42] [Batch 900/1563] [D loss: 0.624744] [G loss: -1.099782]\n",
      "[Epoch 42] [Batch 1000/1563] [D loss: 0.945139] [G loss: -0.383101]\n",
      "[Epoch 42] [Batch 1100/1563] [D loss: -0.319568] [G loss: -1.347097]\n",
      "[Epoch 42] [Batch 1200/1563] [D loss: -0.825200] [G loss: -1.115113]\n",
      "[Epoch 42] [Batch 1300/1563] [D loss: -0.524617] [G loss: 0.211652]\n",
      "[Epoch 42] [Batch 1400/1563] [D loss: -0.599708] [G loss: -1.122895]\n",
      "[Epoch 42] [Batch 1500/1563] [D loss: 0.833625] [G loss: -0.389976]\n"
     ]
    },
    {
     "name": "stderr",
     "output_type": "stream",
     "text": [
      "sample images: 100%|██████████| 256/256 [00:05<00:00, 47.91it/s]\n"
     ]
    },
    {
     "name": "stdout",
     "output_type": "stream",
     "text": [
      "Warning: number of images is not a multiple of the batch size. Some samples are going to be ignored.\n"
     ]
    },
    {
     "name": "stderr",
     "output_type": "stream",
     "text": [
      "100%|██████████| 81/81 [00:04<00:00, 19.72it/s]\n"
     ]
    },
    {
     "name": "stdout",
     "output_type": "stream",
     "text": [
      "FID score: 68.80487060546875\n"
     ]
    },
    {
     "name": "stderr",
     "output_type": "stream",
     "text": [
      "sample images: 100%|██████████| 256/256 [00:05<00:00, 47.85it/s]\n"
     ]
    },
    {
     "name": "stdout",
     "output_type": "stream",
     "text": [
      "Inception score: 3.978803554832886\n",
      "Saved Latest Model!\n",
      "----- Epoch Summary -----\n",
      "Dis Loss: -0.108568 - Gen Loss: -1.013264 - Dis LR: 9.54618e-05 - Gen LR: 9.54618e-05\n",
      "FID score: 68.80487060546875 - Inception score: 3.978803554832886 || @ epoch 42.\n",
      "Best FID score: 68.80487060546875 @ epoch 42\n",
      "-----      End      -----\n",
      "\n",
      "------- Epoch  43 -------\n",
      "[Epoch 43] [Batch 100/1563] [D loss: -1.480404] [G loss: -0.936854]\n",
      "[Epoch 43] [Batch 200/1563] [D loss: 0.966849] [G loss: 0.090410]\n",
      "[Epoch 43] [Batch 300/1563] [D loss: 0.835014] [G loss: -0.539085]\n",
      "[Epoch 43] [Batch 400/1563] [D loss: -0.403405] [G loss: -0.918951]\n",
      "[Epoch 43] [Batch 500/1563] [D loss: -0.065485] [G loss: 1.072996]\n",
      "[Epoch 43] [Batch 600/1563] [D loss: 0.205131] [G loss: -1.026959]\n",
      "[Epoch 43] [Batch 700/1563] [D loss: -0.292730] [G loss: -0.242340]\n",
      "[Epoch 43] [Batch 800/1563] [D loss: 0.908561] [G loss: -0.117906]\n",
      "[Epoch 43] [Batch 900/1563] [D loss: 0.285623] [G loss: -0.850438]\n",
      "[Epoch 43] [Batch 1000/1563] [D loss: 0.576960] [G loss: -1.570177]\n",
      "[Epoch 43] [Batch 1100/1563] [D loss: 0.026355] [G loss: -1.750601]\n",
      "[Epoch 43] [Batch 1200/1563] [D loss: 0.101780] [G loss: -2.102927]\n",
      "[Epoch 43] [Batch 1300/1563] [D loss: -0.620386] [G loss: -2.092689]\n",
      "[Epoch 43] [Batch 1400/1563] [D loss: 1.119361] [G loss: -1.341392]\n",
      "[Epoch 43] [Batch 1500/1563] [D loss: 0.175550] [G loss: -0.890734]\n"
     ]
    },
    {
     "name": "stderr",
     "output_type": "stream",
     "text": [
      "sample images: 100%|██████████| 256/256 [00:05<00:00, 47.78it/s]\n"
     ]
    },
    {
     "name": "stdout",
     "output_type": "stream",
     "text": [
      "Warning: number of images is not a multiple of the batch size. Some samples are going to be ignored.\n"
     ]
    },
    {
     "name": "stderr",
     "output_type": "stream",
     "text": [
      "100%|██████████| 81/81 [00:04<00:00, 19.70it/s]\n"
     ]
    },
    {
     "name": "stdout",
     "output_type": "stream",
     "text": [
      "FID score: 68.93994140625\n"
     ]
    },
    {
     "name": "stderr",
     "output_type": "stream",
     "text": [
      "sample images: 100%|██████████| 256/256 [00:05<00:00, 47.97it/s]\n"
     ]
    },
    {
     "name": "stdout",
     "output_type": "stream",
     "text": [
      "Inception score: 4.336838385174295\n",
      "----- Epoch Summary -----\n",
      "Dis Loss: -0.124385 - Gen Loss: -0.997956 - Dis LR: 9.52414e-05 - Gen LR: 9.52414e-05\n",
      "FID score: 68.93994140625 - Inception score: 4.336838385174295 || @ epoch 43.\n",
      "Best FID score: 68.80487060546875 @ epoch 42\n",
      "-----      End      -----\n",
      "\n",
      "------- Epoch  44 -------\n",
      "[Epoch 44] [Batch 100/1563] [D loss: 0.620850] [G loss: -1.973644]\n",
      "[Epoch 44] [Batch 200/1563] [D loss: 0.632322] [G loss: -0.557308]\n",
      "[Epoch 44] [Batch 300/1563] [D loss: -0.691145] [G loss: -0.489676]\n",
      "[Epoch 44] [Batch 400/1563] [D loss: 0.788351] [G loss: -0.083512]\n",
      "[Epoch 44] [Batch 500/1563] [D loss: -2.057342] [G loss: -1.127165]\n",
      "[Epoch 44] [Batch 600/1563] [D loss: 0.150600] [G loss: -1.139005]\n",
      "[Epoch 44] [Batch 700/1563] [D loss: -0.096192] [G loss: -1.377094]\n",
      "[Epoch 44] [Batch 800/1563] [D loss: -1.444713] [G loss: -0.641889]\n",
      "[Epoch 44] [Batch 900/1563] [D loss: -0.622258] [G loss: -0.936011]\n",
      "[Epoch 44] [Batch 1000/1563] [D loss: -1.322984] [G loss: 0.515130]\n",
      "[Epoch 44] [Batch 1100/1563] [D loss: -0.266359] [G loss: 0.688910]\n",
      "[Epoch 44] [Batch 1200/1563] [D loss: 0.267717] [G loss: 0.075391]\n",
      "[Epoch 44] [Batch 1300/1563] [D loss: 0.025904] [G loss: 0.191197]\n",
      "[Epoch 44] [Batch 1400/1563] [D loss: 1.020760] [G loss: -1.863535]\n",
      "[Epoch 44] [Batch 1500/1563] [D loss: -0.742383] [G loss: -1.394355]\n"
     ]
    },
    {
     "name": "stderr",
     "output_type": "stream",
     "text": [
      "sample images: 100%|██████████| 256/256 [00:05<00:00, 47.96it/s]\n"
     ]
    },
    {
     "name": "stdout",
     "output_type": "stream",
     "text": [
      "Warning: number of images is not a multiple of the batch size. Some samples are going to be ignored.\n"
     ]
    },
    {
     "name": "stderr",
     "output_type": "stream",
     "text": [
      "100%|██████████| 81/81 [00:04<00:00, 19.76it/s]\n"
     ]
    },
    {
     "name": "stdout",
     "output_type": "stream",
     "text": [
      "FID score: 72.62353515625\n"
     ]
    },
    {
     "name": "stderr",
     "output_type": "stream",
     "text": [
      "sample images: 100%|██████████| 256/256 [00:05<00:00, 47.98it/s]\n"
     ]
    },
    {
     "name": "stdout",
     "output_type": "stream",
     "text": [
      "Inception score: 3.7711563102371133\n",
      "----- Epoch Summary -----\n",
      "Dis Loss: -0.096711 - Gen Loss: -0.778918 - Dis LR: 9.50159e-05 - Gen LR: 9.50159e-05\n",
      "FID score: 72.62353515625 - Inception score: 3.7711563102371133 || @ epoch 44.\n",
      "Best FID score: 68.80487060546875 @ epoch 42\n",
      "-----      End      -----\n",
      "\n",
      "------- Epoch  45 -------\n",
      "[Epoch 45] [Batch 100/1563] [D loss: 0.152786] [G loss: -1.508002]\n",
      "[Epoch 45] [Batch 200/1563] [D loss: 1.092028] [G loss: -1.988251]\n",
      "[Epoch 45] [Batch 300/1563] [D loss: -1.421327] [G loss: -1.805385]\n",
      "[Epoch 45] [Batch 400/1563] [D loss: 0.181138] [G loss: -0.992318]\n",
      "[Epoch 45] [Batch 500/1563] [D loss: -0.983913] [G loss: -0.904611]\n",
      "[Epoch 45] [Batch 600/1563] [D loss: 0.424025] [G loss: -0.884171]\n",
      "[Epoch 45] [Batch 700/1563] [D loss: 0.611329] [G loss: 0.176638]\n",
      "[Epoch 45] [Batch 800/1563] [D loss: 0.144791] [G loss: -1.259787]\n",
      "[Epoch 45] [Batch 900/1563] [D loss: -0.450393] [G loss: -1.257792]\n",
      "[Epoch 45] [Batch 1000/1563] [D loss: -1.433452] [G loss: -0.404789]\n",
      "[Epoch 45] [Batch 1100/1563] [D loss: -0.307383] [G loss: -0.820347]\n",
      "[Epoch 45] [Batch 1200/1563] [D loss: -0.743575] [G loss: -0.692050]\n",
      "[Epoch 45] [Batch 1300/1563] [D loss: -0.264857] [G loss: -0.791323]\n",
      "[Epoch 45] [Batch 1400/1563] [D loss: -0.396580] [G loss: -1.719293]\n",
      "[Epoch 45] [Batch 1500/1563] [D loss: 0.039138] [G loss: -1.735122]\n"
     ]
    },
    {
     "name": "stderr",
     "output_type": "stream",
     "text": [
      "sample images: 100%|██████████| 256/256 [00:05<00:00, 47.86it/s]\n"
     ]
    },
    {
     "name": "stdout",
     "output_type": "stream",
     "text": [
      "Warning: number of images is not a multiple of the batch size. Some samples are going to be ignored.\n"
     ]
    },
    {
     "name": "stderr",
     "output_type": "stream",
     "text": [
      "100%|██████████| 81/81 [00:04<00:00, 19.74it/s]\n"
     ]
    },
    {
     "name": "stdout",
     "output_type": "stream",
     "text": [
      "FID score: 68.76083374023438\n"
     ]
    },
    {
     "name": "stderr",
     "output_type": "stream",
     "text": [
      "sample images: 100%|██████████| 256/256 [00:05<00:00, 47.99it/s]\n"
     ]
    },
    {
     "name": "stdout",
     "output_type": "stream",
     "text": [
      "Inception score: 3.8121764592851486\n",
      "Saved Latest Model!\n",
      "----- Epoch Summary -----\n",
      "Dis Loss: -0.133727 - Gen Loss: -0.930633 - Dis LR: 9.47856e-05 - Gen LR: 9.47856e-05\n",
      "FID score: 68.76083374023438 - Inception score: 3.8121764592851486 || @ epoch 45.\n",
      "Best FID score: 68.76083374023438 @ epoch 45\n",
      "-----      End      -----\n",
      "\n",
      "------- Epoch  46 -------\n",
      "[Epoch 46] [Batch 0/1563] [D loss: -1.188536] [G loss: -1.898805]\n",
      "[Epoch 46] [Batch 100/1563] [D loss: 1.061267] [G loss: -1.120062]\n",
      "[Epoch 46] [Batch 200/1563] [D loss: 0.634265] [G loss: -0.716677]\n",
      "[Epoch 46] [Batch 300/1563] [D loss: 0.561962] [G loss: -2.174248]\n",
      "[Epoch 46] [Batch 400/1563] [D loss: -0.828384] [G loss: -1.915010]\n",
      "[Epoch 46] [Batch 500/1563] [D loss: 0.815732] [G loss: -1.558496]\n",
      "[Epoch 46] [Batch 600/1563] [D loss: -0.119909] [G loss: -1.432779]\n",
      "[Epoch 46] [Batch 700/1563] [D loss: 0.291609] [G loss: -1.146598]\n",
      "[Epoch 46] [Batch 800/1563] [D loss: -0.606590] [G loss: -2.257375]\n",
      "[Epoch 46] [Batch 900/1563] [D loss: -1.560561] [G loss: -1.169335]\n",
      "[Epoch 46] [Batch 1000/1563] [D loss: -0.020713] [G loss: -2.380075]\n",
      "[Epoch 46] [Batch 1100/1563] [D loss: -1.576535] [G loss: -1.558592]\n",
      "[Epoch 46] [Batch 1200/1563] [D loss: -0.262457] [G loss: -1.751963]\n",
      "[Epoch 46] [Batch 1300/1563] [D loss: 0.677202] [G loss: -0.646774]\n",
      "[Epoch 46] [Batch 1400/1563] [D loss: -2.054550] [G loss: -0.797818]\n",
      "[Epoch 46] [Batch 1500/1563] [D loss: -1.430988] [G loss: -2.074105]\n"
     ]
    },
    {
     "name": "stderr",
     "output_type": "stream",
     "text": [
      "sample images: 100%|██████████| 256/256 [00:05<00:00, 47.79it/s]\n"
     ]
    },
    {
     "name": "stdout",
     "output_type": "stream",
     "text": [
      "Warning: number of images is not a multiple of the batch size. Some samples are going to be ignored.\n"
     ]
    },
    {
     "name": "stderr",
     "output_type": "stream",
     "text": [
      "100%|██████████| 81/81 [00:04<00:00, 19.71it/s]\n"
     ]
    },
    {
     "name": "stdout",
     "output_type": "stream",
     "text": [
      "FID score: 79.8704833984375\n"
     ]
    },
    {
     "name": "stderr",
     "output_type": "stream",
     "text": [
      "sample images: 100%|██████████| 256/256 [00:05<00:00, 47.99it/s]\n"
     ]
    },
    {
     "name": "stdout",
     "output_type": "stream",
     "text": [
      "Inception score: 4.212732875671671\n",
      "----- Epoch Summary -----\n",
      "Dis Loss: -0.133747 - Gen Loss: -1.200505 - Dis LR: 9.45503e-05 - Gen LR: 9.45503e-05\n",
      "FID score: 79.8704833984375 - Inception score: 4.212732875671671 || @ epoch 46.\n",
      "Best FID score: 68.76083374023438 @ epoch 45\n",
      "-----      End      -----\n",
      "\n",
      "------- Epoch  47 -------\n",
      "[Epoch 47] [Batch 100/1563] [D loss: 1.022207] [G loss: -1.689203]\n",
      "[Epoch 47] [Batch 200/1563] [D loss: -0.906678] [G loss: -0.991577]\n",
      "[Epoch 47] [Batch 300/1563] [D loss: -0.372389] [G loss: -1.181369]\n",
      "[Epoch 47] [Batch 400/1563] [D loss: 1.306216] [G loss: 0.162934]\n",
      "[Epoch 47] [Batch 500/1563] [D loss: 1.060780] [G loss: -0.641499]\n",
      "[Epoch 47] [Batch 600/1563] [D loss: 0.063459] [G loss: -0.869922]\n",
      "[Epoch 47] [Batch 700/1563] [D loss: 0.130527] [G loss: -0.642012]\n",
      "[Epoch 47] [Batch 800/1563] [D loss: -0.086112] [G loss: -0.595062]\n",
      "[Epoch 47] [Batch 900/1563] [D loss: 0.629442] [G loss: -0.262793]\n",
      "[Epoch 47] [Batch 1000/1563] [D loss: 0.054759] [G loss: -0.417104]\n",
      "[Epoch 47] [Batch 1100/1563] [D loss: -0.957130] [G loss: 0.645297]\n",
      "[Epoch 47] [Batch 1200/1563] [D loss: -0.278468] [G loss: -0.057388]\n",
      "[Epoch 47] [Batch 1300/1563] [D loss: 0.233111] [G loss: -0.631124]\n",
      "[Epoch 47] [Batch 1400/1563] [D loss: -1.424888] [G loss: -0.619276]\n",
      "[Epoch 47] [Batch 1500/1563] [D loss: -1.053608] [G loss: -0.160775]\n"
     ]
    },
    {
     "name": "stderr",
     "output_type": "stream",
     "text": [
      "sample images: 100%|██████████| 256/256 [00:05<00:00, 47.77it/s]\n"
     ]
    },
    {
     "name": "stdout",
     "output_type": "stream",
     "text": [
      "Warning: number of images is not a multiple of the batch size. Some samples are going to be ignored.\n"
     ]
    },
    {
     "name": "stderr",
     "output_type": "stream",
     "text": [
      "100%|██████████| 81/81 [00:04<00:00, 19.71it/s]\n"
     ]
    },
    {
     "name": "stdout",
     "output_type": "stream",
     "text": [
      "FID score: 76.059814453125\n"
     ]
    },
    {
     "name": "stderr",
     "output_type": "stream",
     "text": [
      "sample images: 100%|██████████| 256/256 [00:05<00:00, 47.97it/s]\n"
     ]
    },
    {
     "name": "stdout",
     "output_type": "stream",
     "text": [
      "Inception score: 4.196871158867442\n",
      "----- Epoch Summary -----\n",
      "Dis Loss: -0.088912 - Gen Loss: -0.837857 - Dis LR: 9.43102e-05 - Gen LR: 9.43102e-05\n",
      "FID score: 76.059814453125 - Inception score: 4.196871158867442 || @ epoch 47.\n",
      "Best FID score: 68.76083374023438 @ epoch 45\n",
      "-----      End      -----\n",
      "\n",
      "------- Epoch  48 -------\n",
      "[Epoch 48] [Batch 100/1563] [D loss: -0.608023] [G loss: -0.509758]\n",
      "[Epoch 48] [Batch 200/1563] [D loss: 1.085043] [G loss: -1.013510]\n",
      "[Epoch 48] [Batch 300/1563] [D loss: -1.432099] [G loss: -0.898571]\n",
      "[Epoch 48] [Batch 400/1563] [D loss: 0.670607] [G loss: -1.352048]\n",
      "[Epoch 48] [Batch 500/1563] [D loss: 1.024864] [G loss: -1.407806]\n",
      "[Epoch 48] [Batch 600/1563] [D loss: -0.894290] [G loss: -1.894342]\n",
      "[Epoch 48] [Batch 700/1563] [D loss: 0.520318] [G loss: -1.927008]\n",
      "[Epoch 48] [Batch 800/1563] [D loss: 0.442479] [G loss: -0.916492]\n",
      "[Epoch 48] [Batch 900/1563] [D loss: 1.042988] [G loss: -1.216265]\n",
      "[Epoch 48] [Batch 1000/1563] [D loss: 0.438786] [G loss: -2.487560]\n",
      "[Epoch 48] [Batch 1100/1563] [D loss: 0.809331] [G loss: -1.975091]\n",
      "[Epoch 48] [Batch 1200/1563] [D loss: 0.661219] [G loss: -1.462184]\n",
      "[Epoch 48] [Batch 1300/1563] [D loss: -0.133853] [G loss: -1.742986]\n",
      "[Epoch 48] [Batch 1400/1563] [D loss: -1.030619] [G loss: -1.934244]\n",
      "[Epoch 48] [Batch 1500/1563] [D loss: -0.116677] [G loss: -1.603437]\n"
     ]
    },
    {
     "name": "stderr",
     "output_type": "stream",
     "text": [
      "sample images: 100%|██████████| 256/256 [00:05<00:00, 47.83it/s]\n"
     ]
    },
    {
     "name": "stdout",
     "output_type": "stream",
     "text": [
      "Warning: number of images is not a multiple of the batch size. Some samples are going to be ignored.\n"
     ]
    },
    {
     "name": "stderr",
     "output_type": "stream",
     "text": [
      "100%|██████████| 81/81 [00:04<00:00, 19.72it/s]\n"
     ]
    },
    {
     "name": "stdout",
     "output_type": "stream",
     "text": [
      "FID score: 66.4932861328125\n"
     ]
    },
    {
     "name": "stderr",
     "output_type": "stream",
     "text": [
      "sample images: 100%|██████████| 256/256 [00:05<00:00, 47.99it/s]\n"
     ]
    },
    {
     "name": "stdout",
     "output_type": "stream",
     "text": [
      "Inception score: 4.170951906407006\n",
      "Saved Latest Model!\n",
      "----- Epoch Summary -----\n",
      "Dis Loss: -0.131062 - Gen Loss: -1.367906 - Dis LR: 9.40652e-05 - Gen LR: 9.40652e-05\n",
      "FID score: 66.4932861328125 - Inception score: 4.170951906407006 || @ epoch 48.\n",
      "Best FID score: 66.4932861328125 @ epoch 48\n",
      "-----      End      -----\n",
      "\n",
      "------- Epoch  49 -------\n",
      "[Epoch 49] [Batch 100/1563] [D loss: 0.380696] [G loss: -2.003764]\n",
      "[Epoch 49] [Batch 200/1563] [D loss: -1.559688] [G loss: -2.561266]\n",
      "[Epoch 49] [Batch 300/1563] [D loss: -1.061343] [G loss: -1.691647]\n",
      "[Epoch 49] [Batch 400/1563] [D loss: -1.573374] [G loss: -2.312883]\n",
      "[Epoch 49] [Batch 500/1563] [D loss: -0.223266] [G loss: -4.603913]\n",
      "[Epoch 49] [Batch 600/1563] [D loss: 1.166601] [G loss: -2.768776]\n",
      "[Epoch 49] [Batch 700/1563] [D loss: 0.242679] [G loss: -2.770293]\n",
      "[Epoch 49] [Batch 800/1563] [D loss: 0.043493] [G loss: -2.534654]\n",
      "[Epoch 49] [Batch 900/1563] [D loss: -0.594128] [G loss: -1.929763]\n",
      "[Epoch 49] [Batch 1000/1563] [D loss: -0.598207] [G loss: -2.559957]\n",
      "[Epoch 49] [Batch 1100/1563] [D loss: 0.886185] [G loss: -3.504285]\n",
      "[Epoch 49] [Batch 1200/1563] [D loss: -0.591091] [G loss: -2.262261]\n",
      "[Epoch 49] [Batch 1300/1563] [D loss: -0.268829] [G loss: -2.503603]\n",
      "[Epoch 49] [Batch 1400/1563] [D loss: 0.551237] [G loss: -1.304533]\n",
      "[Epoch 49] [Batch 1500/1563] [D loss: -0.417112] [G loss: -2.165167]\n"
     ]
    },
    {
     "name": "stderr",
     "output_type": "stream",
     "text": [
      "sample images: 100%|██████████| 256/256 [00:05<00:00, 47.76it/s]\n"
     ]
    },
    {
     "name": "stdout",
     "output_type": "stream",
     "text": [
      "Warning: number of images is not a multiple of the batch size. Some samples are going to be ignored.\n"
     ]
    },
    {
     "name": "stderr",
     "output_type": "stream",
     "text": [
      "100%|██████████| 81/81 [00:04<00:00, 19.69it/s]\n"
     ]
    },
    {
     "name": "stdout",
     "output_type": "stream",
     "text": [
      "FID score: 69.800048828125\n"
     ]
    },
    {
     "name": "stderr",
     "output_type": "stream",
     "text": [
      "sample images: 100%|██████████| 256/256 [00:05<00:00, 47.88it/s]\n"
     ]
    },
    {
     "name": "stdout",
     "output_type": "stream",
     "text": [
      "Inception score: 4.23679695063903\n",
      "----- Epoch Summary -----\n",
      "Dis Loss: -0.130601 - Gen Loss: -2.258596 - Dis LR: 9.38153e-05 - Gen LR: 9.38153e-05\n",
      "FID score: 69.800048828125 - Inception score: 4.23679695063903 || @ epoch 49.\n",
      "Best FID score: 66.4932861328125 @ epoch 48\n",
      "-----      End      -----\n",
      "\n",
      "------- Epoch  50 -------\n",
      "[Epoch 50] [Batch 100/1563] [D loss: 0.067364] [G loss: -1.221276]\n",
      "[Epoch 50] [Batch 200/1563] [D loss: -0.086196] [G loss: -2.940441]\n",
      "[Epoch 50] [Batch 300/1563] [D loss: 0.938953] [G loss: -1.819110]\n",
      "[Epoch 50] [Batch 400/1563] [D loss: -0.252908] [G loss: -2.106453]\n",
      "[Epoch 50] [Batch 500/1563] [D loss: 0.111194] [G loss: -1.521927]\n",
      "[Epoch 50] [Batch 600/1563] [D loss: -0.059752] [G loss: -1.593142]\n",
      "[Epoch 50] [Batch 700/1563] [D loss: 1.023723] [G loss: -2.650456]\n",
      "[Epoch 50] [Batch 800/1563] [D loss: 0.160002] [G loss: -2.331434]\n",
      "[Epoch 50] [Batch 900/1563] [D loss: 0.056405] [G loss: -1.071049]\n",
      "[Epoch 50] [Batch 1000/1563] [D loss: -0.045791] [G loss: -1.157841]\n",
      "[Epoch 50] [Batch 1100/1563] [D loss: -0.506671] [G loss: -0.190350]\n",
      "[Epoch 50] [Batch 1200/1563] [D loss: 0.005098] [G loss: -0.580178]\n",
      "[Epoch 50] [Batch 1300/1563] [D loss: -1.413158] [G loss: -1.709247]\n",
      "[Epoch 50] [Batch 1400/1563] [D loss: 0.035710] [G loss: 0.315717]\n",
      "[Epoch 50] [Batch 1500/1563] [D loss: -1.288298] [G loss: -2.024956]\n"
     ]
    },
    {
     "name": "stderr",
     "output_type": "stream",
     "text": [
      "sample images: 100%|██████████| 256/256 [00:05<00:00, 47.81it/s]\n"
     ]
    },
    {
     "name": "stdout",
     "output_type": "stream",
     "text": [
      "Warning: number of images is not a multiple of the batch size. Some samples are going to be ignored.\n"
     ]
    },
    {
     "name": "stderr",
     "output_type": "stream",
     "text": [
      "100%|██████████| 81/81 [00:04<00:00, 19.73it/s]\n"
     ]
    },
    {
     "name": "stdout",
     "output_type": "stream",
     "text": [
      "FID score: 71.03768920898438\n"
     ]
    },
    {
     "name": "stderr",
     "output_type": "stream",
     "text": [
      "sample images: 100%|██████████| 256/256 [00:05<00:00, 47.96it/s]\n"
     ]
    },
    {
     "name": "stdout",
     "output_type": "stream",
     "text": [
      "Inception score: 3.9743037038696523\n",
      "----- Epoch Summary -----\n",
      "Dis Loss: -0.105334 - Gen Loss: -1.385757 - Dis LR: 9.35607e-05 - Gen LR: 9.35607e-05\n",
      "FID score: 71.03768920898438 - Inception score: 3.9743037038696523 || @ epoch 50.\n",
      "Best FID score: 66.4932861328125 @ epoch 48\n",
      "-----      End      -----\n",
      "\n",
      "------- Epoch  51 -------\n",
      "[Epoch 51] [Batch 0/1563] [D loss: -1.206947] [G loss: -2.439942]\n",
      "[Epoch 51] [Batch 100/1563] [D loss: -0.313486] [G loss: -2.306642]\n",
      "[Epoch 51] [Batch 200/1563] [D loss: -0.320963] [G loss: -1.472021]\n",
      "[Epoch 51] [Batch 300/1563] [D loss: 1.167014] [G loss: -1.110679]\n",
      "[Epoch 51] [Batch 400/1563] [D loss: 0.943201] [G loss: -2.781675]\n",
      "[Epoch 51] [Batch 500/1563] [D loss: -0.111990] [G loss: -2.302773]\n",
      "[Epoch 51] [Batch 600/1563] [D loss: -0.215266] [G loss: -2.176327]\n",
      "[Epoch 51] [Batch 700/1563] [D loss: 0.654662] [G loss: -1.861836]\n",
      "[Epoch 51] [Batch 800/1563] [D loss: 1.004060] [G loss: -1.201127]\n",
      "[Epoch 51] [Batch 900/1563] [D loss: -0.477454] [G loss: -1.858385]\n",
      "[Epoch 51] [Batch 1000/1563] [D loss: -0.319182] [G loss: -2.321624]\n",
      "[Epoch 51] [Batch 1100/1563] [D loss: -0.750064] [G loss: -2.072165]\n",
      "[Epoch 51] [Batch 1200/1563] [D loss: -0.484956] [G loss: -1.247930]\n",
      "[Epoch 51] [Batch 1300/1563] [D loss: 0.064145] [G loss: -2.200116]\n",
      "[Epoch 51] [Batch 1400/1563] [D loss: -0.813960] [G loss: -1.794395]\n",
      "[Epoch 51] [Batch 1500/1563] [D loss: -0.705079] [G loss: -1.901343]\n"
     ]
    },
    {
     "name": "stderr",
     "output_type": "stream",
     "text": [
      "sample images: 100%|██████████| 256/256 [00:05<00:00, 47.82it/s]\n"
     ]
    },
    {
     "name": "stdout",
     "output_type": "stream",
     "text": [
      "Warning: number of images is not a multiple of the batch size. Some samples are going to be ignored.\n"
     ]
    },
    {
     "name": "stderr",
     "output_type": "stream",
     "text": [
      "100%|██████████| 81/81 [00:04<00:00, 19.71it/s]\n"
     ]
    },
    {
     "name": "stdout",
     "output_type": "stream",
     "text": [
      "FID score: 62.16876220703125\n"
     ]
    },
    {
     "name": "stderr",
     "output_type": "stream",
     "text": [
      "sample images: 100%|██████████| 256/256 [00:05<00:00, 47.97it/s]\n"
     ]
    },
    {
     "name": "stdout",
     "output_type": "stream",
     "text": [
      "Inception score: 4.324757173241443\n",
      "Saved Latest Model!\n",
      "----- Epoch Summary -----\n",
      "Dis Loss: -0.128881 - Gen Loss: -1.995067 - Dis LR: 9.33013e-05 - Gen LR: 9.33013e-05\n",
      "FID score: 62.16876220703125 - Inception score: 4.324757173241443 || @ epoch 51.\n",
      "Best FID score: 62.16876220703125 @ epoch 51\n",
      "-----      End      -----\n",
      "\n",
      "------- Epoch  52 -------\n",
      "[Epoch 52] [Batch 100/1563] [D loss: 0.750989] [G loss: -2.130499]\n",
      "[Epoch 52] [Batch 200/1563] [D loss: 0.267515] [G loss: -2.317557]\n",
      "[Epoch 52] [Batch 300/1563] [D loss: -0.102399] [G loss: -1.907398]\n",
      "[Epoch 52] [Batch 400/1563] [D loss: 0.099019] [G loss: -2.129451]\n",
      "[Epoch 52] [Batch 500/1563] [D loss: 1.234358] [G loss: -1.652372]\n",
      "[Epoch 52] [Batch 600/1563] [D loss: -1.045474] [G loss: -1.084785]\n",
      "[Epoch 52] [Batch 700/1563] [D loss: 0.280795] [G loss: -1.849796]\n",
      "[Epoch 52] [Batch 800/1563] [D loss: -2.750792] [G loss: -1.333149]\n",
      "[Epoch 52] [Batch 900/1563] [D loss: -0.304119] [G loss: -2.943904]\n",
      "[Epoch 52] [Batch 1000/1563] [D loss: -0.232333] [G loss: -1.417576]\n",
      "[Epoch 52] [Batch 1100/1563] [D loss: 1.000867] [G loss: -2.679150]\n",
      "[Epoch 52] [Batch 1200/1563] [D loss: 1.283115] [G loss: -0.295455]\n",
      "[Epoch 52] [Batch 1300/1563] [D loss: -1.718347] [G loss: -0.476505]\n",
      "[Epoch 52] [Batch 1400/1563] [D loss: 0.116141] [G loss: -0.309517]\n",
      "[Epoch 52] [Batch 1500/1563] [D loss: -1.153762] [G loss: -1.072042]\n"
     ]
    },
    {
     "name": "stderr",
     "output_type": "stream",
     "text": [
      "sample images: 100%|██████████| 256/256 [00:05<00:00, 47.72it/s]\n"
     ]
    },
    {
     "name": "stdout",
     "output_type": "stream",
     "text": [
      "Warning: number of images is not a multiple of the batch size. Some samples are going to be ignored.\n"
     ]
    },
    {
     "name": "stderr",
     "output_type": "stream",
     "text": [
      "100%|██████████| 81/81 [00:04<00:00, 19.76it/s]\n"
     ]
    },
    {
     "name": "stdout",
     "output_type": "stream",
     "text": [
      "FID score: 76.80673217773438\n"
     ]
    },
    {
     "name": "stderr",
     "output_type": "stream",
     "text": [
      "sample images: 100%|██████████| 256/256 [00:05<00:00, 47.87it/s]\n"
     ]
    },
    {
     "name": "stdout",
     "output_type": "stream",
     "text": [
      "Inception score: 4.345196958711022\n",
      "----- Epoch Summary -----\n",
      "Dis Loss: -0.105841 - Gen Loss: -1.569824 - Dis LR: 9.30371e-05 - Gen LR: 9.30371e-05\n",
      "FID score: 76.80673217773438 - Inception score: 4.345196958711022 || @ epoch 52.\n",
      "Best FID score: 62.16876220703125 @ epoch 51\n",
      "-----      End      -----\n",
      "\n",
      "------- Epoch  53 -------\n",
      "[Epoch 53] [Batch 100/1563] [D loss: 0.303309] [G loss: -1.163023]\n",
      "[Epoch 53] [Batch 200/1563] [D loss: -0.531096] [G loss: -2.048937]\n",
      "[Epoch 53] [Batch 300/1563] [D loss: 1.746982] [G loss: -1.304041]\n",
      "[Epoch 53] [Batch 400/1563] [D loss: 0.367951] [G loss: -0.194000]\n",
      "[Epoch 53] [Batch 500/1563] [D loss: -0.618330] [G loss: -1.534424]\n",
      "[Epoch 53] [Batch 600/1563] [D loss: -1.201936] [G loss: -2.616835]\n",
      "[Epoch 53] [Batch 700/1563] [D loss: -0.338998] [G loss: -0.712431]\n",
      "[Epoch 53] [Batch 800/1563] [D loss: 0.119941] [G loss: -2.134574]\n",
      "[Epoch 53] [Batch 900/1563] [D loss: 1.766399] [G loss: -2.180810]\n",
      "[Epoch 53] [Batch 1000/1563] [D loss: -0.822355] [G loss: -2.339889]\n",
      "[Epoch 53] [Batch 1100/1563] [D loss: 0.040623] [G loss: -1.406628]\n",
      "[Epoch 53] [Batch 1200/1563] [D loss: 0.033923] [G loss: -0.249274]\n",
      "[Epoch 53] [Batch 1300/1563] [D loss: -0.779742] [G loss: -0.377259]\n",
      "[Epoch 53] [Batch 1400/1563] [D loss: 0.158924] [G loss: -1.014413]\n",
      "[Epoch 53] [Batch 1500/1563] [D loss: 0.046963] [G loss: -0.736052]\n"
     ]
    },
    {
     "name": "stderr",
     "output_type": "stream",
     "text": [
      "sample images: 100%|██████████| 256/256 [00:05<00:00, 48.05it/s]\n"
     ]
    },
    {
     "name": "stdout",
     "output_type": "stream",
     "text": [
      "Warning: number of images is not a multiple of the batch size. Some samples are going to be ignored.\n"
     ]
    },
    {
     "name": "stderr",
     "output_type": "stream",
     "text": [
      "100%|██████████| 81/81 [00:04<00:00, 19.76it/s]\n"
     ]
    },
    {
     "name": "stdout",
     "output_type": "stream",
     "text": [
      "FID score: 69.70050048828125\n"
     ]
    },
    {
     "name": "stderr",
     "output_type": "stream",
     "text": [
      "sample images: 100%|██████████| 256/256 [00:05<00:00, 47.97it/s]\n"
     ]
    },
    {
     "name": "stdout",
     "output_type": "stream",
     "text": [
      "Inception score: 4.267674247994161\n",
      "----- Epoch Summary -----\n",
      "Dis Loss: -0.131590 - Gen Loss: -1.479322 - Dis LR: 9.27682e-05 - Gen LR: 9.27682e-05\n",
      "FID score: 69.70050048828125 - Inception score: 4.267674247994161 || @ epoch 53.\n",
      "Best FID score: 62.16876220703125 @ epoch 51\n",
      "-----      End      -----\n",
      "\n",
      "------- Epoch  54 -------\n",
      "[Epoch 54] [Batch 100/1563] [D loss: 2.074906] [G loss: -0.554090]\n",
      "[Epoch 54] [Batch 200/1563] [D loss: 0.854582] [G loss: -0.147940]\n",
      "[Epoch 54] [Batch 300/1563] [D loss: 0.527518] [G loss: -1.654765]\n",
      "[Epoch 54] [Batch 400/1563] [D loss: 0.126868] [G loss: -2.652213]\n",
      "[Epoch 54] [Batch 500/1563] [D loss: -0.721669] [G loss: -2.327962]\n",
      "[Epoch 54] [Batch 600/1563] [D loss: 1.016111] [G loss: -2.238956]\n",
      "[Epoch 54] [Batch 700/1563] [D loss: -1.074584] [G loss: -1.232938]\n",
      "[Epoch 54] [Batch 800/1563] [D loss: 0.479729] [G loss: -2.033919]\n",
      "[Epoch 54] [Batch 900/1563] [D loss: -0.076368] [G loss: -0.528242]\n",
      "[Epoch 54] [Batch 1000/1563] [D loss: -0.476320] [G loss: -1.836372]\n",
      "[Epoch 54] [Batch 1100/1563] [D loss: 0.105228] [G loss: -1.212794]\n",
      "[Epoch 54] [Batch 1200/1563] [D loss: -0.685133] [G loss: -1.632099]\n",
      "[Epoch 54] [Batch 1300/1563] [D loss: -0.435359] [G loss: -2.048029]\n",
      "[Epoch 54] [Batch 1400/1563] [D loss: -0.280066] [G loss: -0.340612]\n",
      "[Epoch 54] [Batch 1500/1563] [D loss: -0.345651] [G loss: -2.290653]\n"
     ]
    },
    {
     "name": "stderr",
     "output_type": "stream",
     "text": [
      "sample images: 100%|██████████| 256/256 [00:05<00:00, 47.88it/s]\n"
     ]
    },
    {
     "name": "stdout",
     "output_type": "stream",
     "text": [
      "Warning: number of images is not a multiple of the batch size. Some samples are going to be ignored.\n"
     ]
    },
    {
     "name": "stderr",
     "output_type": "stream",
     "text": [
      "100%|██████████| 81/81 [00:04<00:00, 19.75it/s]\n"
     ]
    },
    {
     "name": "stdout",
     "output_type": "stream",
     "text": [
      "FID score: 74.21453857421875\n"
     ]
    },
    {
     "name": "stderr",
     "output_type": "stream",
     "text": [
      "sample images: 100%|██████████| 256/256 [00:05<00:00, 47.96it/s]\n"
     ]
    },
    {
     "name": "stdout",
     "output_type": "stream",
     "text": [
      "Inception score: 3.739505981427014\n",
      "----- Epoch Summary -----\n",
      "Dis Loss: -0.098882 - Gen Loss: -1.537536 - Dis LR: 9.24946e-05 - Gen LR: 9.24946e-05\n",
      "FID score: 74.21453857421875 - Inception score: 3.739505981427014 || @ epoch 54.\n",
      "Best FID score: 62.16876220703125 @ epoch 51\n",
      "-----      End      -----\n",
      "\n",
      "------- Epoch  55 -------\n",
      "[Epoch 55] [Batch 100/1563] [D loss: 0.307760] [G loss: -2.071893]\n",
      "[Epoch 55] [Batch 200/1563] [D loss: -0.249792] [G loss: -1.293989]\n",
      "[Epoch 55] [Batch 300/1563] [D loss: -0.677693] [G loss: -2.428936]\n",
      "[Epoch 55] [Batch 400/1563] [D loss: -0.427759] [G loss: -2.322180]\n",
      "[Epoch 55] [Batch 500/1563] [D loss: -0.425275] [G loss: -2.662289]\n",
      "[Epoch 55] [Batch 600/1563] [D loss: 0.112464] [G loss: -1.710073]\n",
      "[Epoch 55] [Batch 700/1563] [D loss: -0.663826] [G loss: -1.462419]\n",
      "[Epoch 55] [Batch 800/1563] [D loss: 0.682611] [G loss: 1.080518]\n",
      "[Epoch 55] [Batch 900/1563] [D loss: -0.683575] [G loss: -1.139142]\n",
      "[Epoch 55] [Batch 1000/1563] [D loss: 0.753429] [G loss: -2.145914]\n",
      "[Epoch 55] [Batch 1100/1563] [D loss: -1.038563] [G loss: -1.000413]\n",
      "[Epoch 55] [Batch 1200/1563] [D loss: -0.135935] [G loss: -1.517586]\n",
      "[Epoch 55] [Batch 1300/1563] [D loss: -0.268846] [G loss: -1.690270]\n",
      "[Epoch 55] [Batch 1400/1563] [D loss: -0.617842] [G loss: -0.249963]\n",
      "[Epoch 55] [Batch 1500/1563] [D loss: 0.610857] [G loss: -1.218849]\n"
     ]
    },
    {
     "name": "stderr",
     "output_type": "stream",
     "text": [
      "sample images: 100%|██████████| 256/256 [00:05<00:00, 47.91it/s]\n"
     ]
    },
    {
     "name": "stdout",
     "output_type": "stream",
     "text": [
      "Warning: number of images is not a multiple of the batch size. Some samples are going to be ignored.\n"
     ]
    },
    {
     "name": "stderr",
     "output_type": "stream",
     "text": [
      "100%|██████████| 81/81 [00:04<00:00, 19.76it/s]\n"
     ]
    },
    {
     "name": "stdout",
     "output_type": "stream",
     "text": [
      "FID score: 63.1275634765625\n"
     ]
    },
    {
     "name": "stderr",
     "output_type": "stream",
     "text": [
      "sample images: 100%|██████████| 256/256 [00:05<00:00, 47.93it/s]\n"
     ]
    },
    {
     "name": "stdout",
     "output_type": "stream",
     "text": [
      "Inception score: 4.523450972021674\n",
      "----- Epoch Summary -----\n",
      "Dis Loss: -0.105101 - Gen Loss: -1.572863 - Dis LR: 9.22164e-05 - Gen LR: 9.22164e-05\n",
      "FID score: 63.1275634765625 - Inception score: 4.523450972021674 || @ epoch 55.\n",
      "Best FID score: 62.16876220703125 @ epoch 51\n",
      "-----      End      -----\n",
      "\n",
      "------- Epoch  56 -------\n",
      "[Epoch 56] [Batch 0/1563] [D loss: 1.383708] [G loss: -1.529256]\n",
      "[Epoch 56] [Batch 100/1563] [D loss: -0.871185] [G loss: -2.135822]\n",
      "[Epoch 56] [Batch 200/1563] [D loss: 0.028610] [G loss: 0.036543]\n",
      "[Epoch 56] [Batch 300/1563] [D loss: 0.166322] [G loss: -1.247842]\n",
      "[Epoch 56] [Batch 400/1563] [D loss: 1.031865] [G loss: -0.912163]\n",
      "[Epoch 56] [Batch 500/1563] [D loss: 0.677650] [G loss: -1.208419]\n",
      "[Epoch 56] [Batch 600/1563] [D loss: -0.497420] [G loss: -1.545070]\n",
      "[Epoch 56] [Batch 700/1563] [D loss: -0.210930] [G loss: -1.492359]\n",
      "[Epoch 56] [Batch 800/1563] [D loss: -0.422710] [G loss: -0.453191]\n",
      "[Epoch 56] [Batch 900/1563] [D loss: -1.818473] [G loss: -0.459255]\n",
      "[Epoch 56] [Batch 1000/1563] [D loss: -0.064290] [G loss: -2.016931]\n",
      "[Epoch 56] [Batch 1100/1563] [D loss: 0.383716] [G loss: -1.026384]\n",
      "[Epoch 56] [Batch 1200/1563] [D loss: -1.034431] [G loss: -0.285776]\n",
      "[Epoch 56] [Batch 1300/1563] [D loss: -0.690436] [G loss: -1.046747]\n",
      "[Epoch 56] [Batch 1400/1563] [D loss: 1.609084] [G loss: -0.766970]\n",
      "[Epoch 56] [Batch 1500/1563] [D loss: -1.293436] [G loss: 0.955853]\n"
     ]
    },
    {
     "name": "stderr",
     "output_type": "stream",
     "text": [
      "sample images: 100%|██████████| 256/256 [00:05<00:00, 47.89it/s]\n"
     ]
    },
    {
     "name": "stdout",
     "output_type": "stream",
     "text": [
      "Warning: number of images is not a multiple of the batch size. Some samples are going to be ignored.\n"
     ]
    },
    {
     "name": "stderr",
     "output_type": "stream",
     "text": [
      "100%|██████████| 81/81 [00:04<00:00, 19.68it/s]\n"
     ]
    },
    {
     "name": "stdout",
     "output_type": "stream",
     "text": [
      "FID score: 63.23358154296875\n"
     ]
    },
    {
     "name": "stderr",
     "output_type": "stream",
     "text": [
      "sample images: 100%|██████████| 256/256 [00:05<00:00, 47.96it/s]\n"
     ]
    },
    {
     "name": "stdout",
     "output_type": "stream",
     "text": [
      "Inception score: 4.269657163209652\n",
      "----- Epoch Summary -----\n",
      "Dis Loss: -0.051930 - Gen Loss: -0.729309 - Dis LR: 9.19335e-05 - Gen LR: 9.19335e-05\n",
      "FID score: 63.23358154296875 - Inception score: 4.269657163209652 || @ epoch 56.\n",
      "Best FID score: 62.16876220703125 @ epoch 51\n",
      "-----      End      -----\n",
      "\n",
      "------- Epoch  57 -------\n",
      "[Epoch 57] [Batch 100/1563] [D loss: 0.870735] [G loss: -0.524264]\n",
      "[Epoch 57] [Batch 200/1563] [D loss: -0.139707] [G loss: -0.172463]\n",
      "[Epoch 57] [Batch 300/1563] [D loss: 0.200266] [G loss: -0.866725]\n",
      "[Epoch 57] [Batch 400/1563] [D loss: 1.301773] [G loss: -0.363117]\n",
      "[Epoch 57] [Batch 500/1563] [D loss: -0.724643] [G loss: 0.285331]\n",
      "[Epoch 57] [Batch 600/1563] [D loss: 0.564527] [G loss: -1.724523]\n",
      "[Epoch 57] [Batch 700/1563] [D loss: -0.000900] [G loss: -0.813149]\n",
      "[Epoch 57] [Batch 800/1563] [D loss: 0.439165] [G loss: -0.243234]\n",
      "[Epoch 57] [Batch 900/1563] [D loss: -0.769921] [G loss: 0.470324]\n",
      "[Epoch 57] [Batch 1000/1563] [D loss: -0.897885] [G loss: -1.277038]\n",
      "[Epoch 57] [Batch 1100/1563] [D loss: -0.168053] [G loss: -0.446054]\n",
      "[Epoch 57] [Batch 1200/1563] [D loss: -0.050321] [G loss: -1.276131]\n",
      "[Epoch 57] [Batch 1300/1563] [D loss: -0.723900] [G loss: -0.869241]\n",
      "[Epoch 57] [Batch 1400/1563] [D loss: 0.403158] [G loss: -1.837884]\n",
      "[Epoch 57] [Batch 1500/1563] [D loss: 0.088974] [G loss: -0.504690]\n"
     ]
    },
    {
     "name": "stderr",
     "output_type": "stream",
     "text": [
      "sample images: 100%|██████████| 256/256 [00:05<00:00, 47.93it/s]\n"
     ]
    },
    {
     "name": "stdout",
     "output_type": "stream",
     "text": [
      "Warning: number of images is not a multiple of the batch size. Some samples are going to be ignored.\n"
     ]
    },
    {
     "name": "stderr",
     "output_type": "stream",
     "text": [
      "100%|██████████| 81/81 [00:04<00:00, 19.73it/s]\n"
     ]
    },
    {
     "name": "stdout",
     "output_type": "stream",
     "text": [
      "FID score: 62.093994140625\n"
     ]
    },
    {
     "name": "stderr",
     "output_type": "stream",
     "text": [
      "sample images: 100%|██████████| 256/256 [00:05<00:00, 47.87it/s]\n"
     ]
    },
    {
     "name": "stdout",
     "output_type": "stream",
     "text": [
      "Inception score: 4.535094507944088\n",
      "Saved Latest Model!\n",
      "----- Epoch Summary -----\n",
      "Dis Loss: -0.070568 - Gen Loss: -0.488415 - Dis LR: 9.16461e-05 - Gen LR: 9.16461e-05\n",
      "FID score: 62.093994140625 - Inception score: 4.535094507944088 || @ epoch 57.\n",
      "Best FID score: 62.093994140625 @ epoch 57\n",
      "-----      End      -----\n",
      "\n",
      "------- Epoch  58 -------\n",
      "[Epoch 58] [Batch 100/1563] [D loss: -0.501873] [G loss: -0.813040]\n",
      "[Epoch 58] [Batch 200/1563] [D loss: 0.128369] [G loss: -0.724307]\n",
      "[Epoch 58] [Batch 300/1563] [D loss: -0.585277] [G loss: -1.847182]\n",
      "[Epoch 58] [Batch 400/1563] [D loss: 0.165935] [G loss: -1.895392]\n",
      "[Epoch 58] [Batch 500/1563] [D loss: -0.443258] [G loss: 0.692658]\n",
      "[Epoch 58] [Batch 600/1563] [D loss: -0.399560] [G loss: -1.461934]\n",
      "[Epoch 58] [Batch 700/1563] [D loss: -0.814622] [G loss: -1.962251]\n",
      "[Epoch 58] [Batch 800/1563] [D loss: 0.746918] [G loss: -0.727197]\n",
      "[Epoch 58] [Batch 900/1563] [D loss: 0.548519] [G loss: -0.535250]\n",
      "[Epoch 58] [Batch 1000/1563] [D loss: -0.063526] [G loss: -1.220712]\n",
      "[Epoch 58] [Batch 1100/1563] [D loss: 0.256433] [G loss: -2.115731]\n",
      "[Epoch 58] [Batch 1200/1563] [D loss: -0.204273] [G loss: -1.704370]\n",
      "[Epoch 58] [Batch 1300/1563] [D loss: -0.693840] [G loss: -1.528099]\n",
      "[Epoch 58] [Batch 1400/1563] [D loss: -0.684729] [G loss: -0.802425]\n",
      "[Epoch 58] [Batch 1500/1563] [D loss: -0.960238] [G loss: -1.207814]\n"
     ]
    },
    {
     "name": "stderr",
     "output_type": "stream",
     "text": [
      "sample images: 100%|██████████| 256/256 [00:05<00:00, 47.80it/s]\n"
     ]
    },
    {
     "name": "stdout",
     "output_type": "stream",
     "text": [
      "Warning: number of images is not a multiple of the batch size. Some samples are going to be ignored.\n"
     ]
    },
    {
     "name": "stderr",
     "output_type": "stream",
     "text": [
      "100%|██████████| 81/81 [00:04<00:00, 19.72it/s]\n"
     ]
    },
    {
     "name": "stdout",
     "output_type": "stream",
     "text": [
      "FID score: 65.57290649414062\n"
     ]
    },
    {
     "name": "stderr",
     "output_type": "stream",
     "text": [
      "sample images: 100%|██████████| 256/256 [00:05<00:00, 47.92it/s]\n"
     ]
    },
    {
     "name": "stdout",
     "output_type": "stream",
     "text": [
      "Inception score: 4.307635700355516\n",
      "----- Epoch Summary -----\n",
      "Dis Loss: -0.068618 - Gen Loss: -1.458988 - Dis LR: 9.1354e-05 - Gen LR: 9.1354e-05\n",
      "FID score: 65.57290649414062 - Inception score: 4.307635700355516 || @ epoch 58.\n",
      "Best FID score: 62.093994140625 @ epoch 57\n",
      "-----      End      -----\n",
      "\n",
      "------- Epoch  59 -------\n",
      "[Epoch 59] [Batch 100/1563] [D loss: 0.740047] [G loss: -1.456330]\n",
      "[Epoch 59] [Batch 200/1563] [D loss: -0.091567] [G loss: -2.538409]\n",
      "[Epoch 59] [Batch 300/1563] [D loss: 0.391037] [G loss: -1.871809]\n",
      "[Epoch 59] [Batch 400/1563] [D loss: -0.121181] [G loss: -1.678578]\n",
      "[Epoch 59] [Batch 500/1563] [D loss: -0.427772] [G loss: -2.958827]\n",
      "[Epoch 59] [Batch 600/1563] [D loss: 0.230353] [G loss: -2.947490]\n",
      "[Epoch 59] [Batch 700/1563] [D loss: -0.759530] [G loss: -2.787771]\n",
      "[Epoch 59] [Batch 800/1563] [D loss: 0.018555] [G loss: -1.621154]\n",
      "[Epoch 59] [Batch 900/1563] [D loss: 0.413756] [G loss: -1.362327]\n",
      "[Epoch 59] [Batch 1000/1563] [D loss: 0.216117] [G loss: -3.152843]\n",
      "[Epoch 59] [Batch 1100/1563] [D loss: -0.308673] [G loss: -2.262148]\n",
      "[Epoch 59] [Batch 1200/1563] [D loss: 0.179511] [G loss: -0.615481]\n",
      "[Epoch 59] [Batch 1300/1563] [D loss: -0.241511] [G loss: -2.245552]\n",
      "[Epoch 59] [Batch 1400/1563] [D loss: -0.693865] [G loss: -2.465473]\n",
      "[Epoch 59] [Batch 1500/1563] [D loss: 0.604946] [G loss: -2.481103]\n"
     ]
    },
    {
     "name": "stderr",
     "output_type": "stream",
     "text": [
      "sample images: 100%|██████████| 256/256 [00:05<00:00, 47.80it/s]\n"
     ]
    },
    {
     "name": "stdout",
     "output_type": "stream",
     "text": [
      "Warning: number of images is not a multiple of the batch size. Some samples are going to be ignored.\n"
     ]
    },
    {
     "name": "stderr",
     "output_type": "stream",
     "text": [
      "100%|██████████| 81/81 [00:04<00:00, 19.70it/s]\n"
     ]
    },
    {
     "name": "stdout",
     "output_type": "stream",
     "text": [
      "FID score: 65.270751953125\n"
     ]
    },
    {
     "name": "stderr",
     "output_type": "stream",
     "text": [
      "sample images: 100%|██████████| 256/256 [00:05<00:00, 47.93it/s]\n"
     ]
    },
    {
     "name": "stdout",
     "output_type": "stream",
     "text": [
      "Inception score: 4.540862363575389\n",
      "----- Epoch Summary -----\n",
      "Dis Loss: -0.066829 - Gen Loss: -2.032701 - Dis LR: 9.10575e-05 - Gen LR: 9.10575e-05\n",
      "FID score: 65.270751953125 - Inception score: 4.540862363575389 || @ epoch 59.\n",
      "Best FID score: 62.093994140625 @ epoch 57\n",
      "-----      End      -----\n",
      "\n",
      "------- Epoch  60 -------\n",
      "[Epoch 60] [Batch 100/1563] [D loss: -0.303659] [G loss: -1.867906]\n",
      "[Epoch 60] [Batch 200/1563] [D loss: -1.203224] [G loss: -3.027212]\n",
      "[Epoch 60] [Batch 300/1563] [D loss: 1.094268] [G loss: -2.154120]\n",
      "[Epoch 60] [Batch 400/1563] [D loss: -0.544994] [G loss: -2.146451]\n",
      "[Epoch 60] [Batch 500/1563] [D loss: 0.528620] [G loss: -2.615973]\n",
      "[Epoch 60] [Batch 600/1563] [D loss: -1.236879] [G loss: -2.485765]\n",
      "[Epoch 60] [Batch 700/1563] [D loss: 1.498105] [G loss: -2.999049]\n",
      "[Epoch 60] [Batch 800/1563] [D loss: 0.619701] [G loss: -2.558081]\n",
      "[Epoch 60] [Batch 900/1563] [D loss: -0.534430] [G loss: -1.169713]\n",
      "[Epoch 60] [Batch 1000/1563] [D loss: -0.907607] [G loss: -2.633706]\n",
      "[Epoch 60] [Batch 1100/1563] [D loss: 0.922131] [G loss: -1.111369]\n",
      "[Epoch 60] [Batch 1200/1563] [D loss: -0.538781] [G loss: -3.019773]\n",
      "[Epoch 60] [Batch 1300/1563] [D loss: -0.935962] [G loss: -1.403021]\n",
      "[Epoch 60] [Batch 1400/1563] [D loss: -0.864449] [G loss: -2.605953]\n",
      "[Epoch 60] [Batch 1500/1563] [D loss: 0.523121] [G loss: -1.183621]\n"
     ]
    },
    {
     "name": "stderr",
     "output_type": "stream",
     "text": [
      "sample images: 100%|██████████| 256/256 [00:05<00:00, 47.80it/s]\n"
     ]
    },
    {
     "name": "stdout",
     "output_type": "stream",
     "text": [
      "Warning: number of images is not a multiple of the batch size. Some samples are going to be ignored.\n"
     ]
    },
    {
     "name": "stderr",
     "output_type": "stream",
     "text": [
      "100%|██████████| 81/81 [00:04<00:00, 19.72it/s]\n"
     ]
    },
    {
     "name": "stdout",
     "output_type": "stream",
     "text": [
      "FID score: 80.81228637695312\n"
     ]
    },
    {
     "name": "stderr",
     "output_type": "stream",
     "text": [
      "sample images: 100%|██████████| 256/256 [00:05<00:00, 47.97it/s]\n"
     ]
    },
    {
     "name": "stdout",
     "output_type": "stream",
     "text": [
      "Inception score: 4.214710171747814\n",
      "----- Epoch Summary -----\n",
      "Dis Loss: -0.074613 - Gen Loss: -1.917002 - Dis LR: 9.07564e-05 - Gen LR: 9.07564e-05\n",
      "FID score: 80.81228637695312 - Inception score: 4.214710171747814 || @ epoch 60.\n",
      "Best FID score: 62.093994140625 @ epoch 57\n",
      "-----      End      -----\n",
      "\n",
      "------- Epoch  61 -------\n",
      "[Epoch 61] [Batch 0/1563] [D loss: -0.776173] [G loss: -1.412946]\n",
      "[Epoch 61] [Batch 100/1563] [D loss: 0.219186] [G loss: -3.642284]\n",
      "[Epoch 61] [Batch 200/1563] [D loss: -0.411158] [G loss: -2.329126]\n",
      "[Epoch 61] [Batch 300/1563] [D loss: -0.600214] [G loss: -2.696957]\n",
      "[Epoch 61] [Batch 400/1563] [D loss: -0.305157] [G loss: -2.705721]\n",
      "[Epoch 61] [Batch 500/1563] [D loss: -1.295111] [G loss: -1.918554]\n",
      "[Epoch 61] [Batch 600/1563] [D loss: -0.185998] [G loss: -2.382674]\n",
      "[Epoch 61] [Batch 700/1563] [D loss: 1.053949] [G loss: -2.885839]\n",
      "[Epoch 61] [Batch 800/1563] [D loss: 0.129537] [G loss: -2.485066]\n",
      "[Epoch 61] [Batch 900/1563] [D loss: -1.282761] [G loss: -0.900945]\n",
      "[Epoch 61] [Batch 1000/1563] [D loss: -0.581110] [G loss: -1.321913]\n",
      "[Epoch 61] [Batch 1100/1563] [D loss: 0.443695] [G loss: -0.339675]\n",
      "[Epoch 61] [Batch 1200/1563] [D loss: 0.291806] [G loss: -1.743396]\n",
      "[Epoch 61] [Batch 1300/1563] [D loss: -0.023306] [G loss: -1.476967]\n",
      "[Epoch 61] [Batch 1400/1563] [D loss: -1.101961] [G loss: -2.156997]\n",
      "[Epoch 61] [Batch 1500/1563] [D loss: -0.676533] [G loss: -0.957077]\n"
     ]
    },
    {
     "name": "stderr",
     "output_type": "stream",
     "text": [
      "sample images: 100%|██████████| 256/256 [00:05<00:00, 47.70it/s]\n"
     ]
    },
    {
     "name": "stdout",
     "output_type": "stream",
     "text": [
      "Warning: number of images is not a multiple of the batch size. Some samples are going to be ignored.\n"
     ]
    },
    {
     "name": "stderr",
     "output_type": "stream",
     "text": [
      "100%|██████████| 81/81 [00:04<00:00, 19.69it/s]\n"
     ]
    },
    {
     "name": "stdout",
     "output_type": "stream",
     "text": [
      "FID score: 63.865203857421875\n"
     ]
    },
    {
     "name": "stderr",
     "output_type": "stream",
     "text": [
      "sample images: 100%|██████████| 256/256 [00:05<00:00, 47.96it/s]\n"
     ]
    },
    {
     "name": "stdout",
     "output_type": "stream",
     "text": [
      "Inception score: 4.505396623618962\n",
      "----- Epoch Summary -----\n",
      "Dis Loss: -0.079861 - Gen Loss: -1.998492 - Dis LR: 9.04508e-05 - Gen LR: 9.04508e-05\n",
      "FID score: 63.865203857421875 - Inception score: 4.505396623618962 || @ epoch 61.\n",
      "Best FID score: 62.093994140625 @ epoch 57\n",
      "-----      End      -----\n",
      "\n",
      "------- Epoch  62 -------\n",
      "[Epoch 62] [Batch 100/1563] [D loss: -0.643247] [G loss: -2.235654]\n",
      "[Epoch 62] [Batch 200/1563] [D loss: -0.392317] [G loss: -1.451206]\n",
      "[Epoch 62] [Batch 300/1563] [D loss: 0.114920] [G loss: -1.815970]\n",
      "[Epoch 62] [Batch 400/1563] [D loss: 0.563674] [G loss: -0.266305]\n",
      "[Epoch 62] [Batch 500/1563] [D loss: -0.209666] [G loss: -1.013034]\n",
      "[Epoch 62] [Batch 600/1563] [D loss: -0.905940] [G loss: -1.817475]\n",
      "[Epoch 62] [Batch 700/1563] [D loss: -0.673174] [G loss: -0.990705]\n",
      "[Epoch 62] [Batch 800/1563] [D loss: -0.503320] [G loss: -2.332590]\n",
      "[Epoch 62] [Batch 900/1563] [D loss: 0.047016] [G loss: -0.981497]\n",
      "[Epoch 62] [Batch 1000/1563] [D loss: -0.137676] [G loss: -1.873630]\n",
      "[Epoch 62] [Batch 1100/1563] [D loss: 0.138910] [G loss: -1.497890]\n",
      "[Epoch 62] [Batch 1200/1563] [D loss: 0.976089] [G loss: -1.575173]\n",
      "[Epoch 62] [Batch 1300/1563] [D loss: -0.206254] [G loss: -0.937719]\n",
      "[Epoch 62] [Batch 1400/1563] [D loss: 0.760945] [G loss: -1.200767]\n",
      "[Epoch 62] [Batch 1500/1563] [D loss: 0.230029] [G loss: -2.037020]\n"
     ]
    },
    {
     "name": "stderr",
     "output_type": "stream",
     "text": [
      "sample images: 100%|██████████| 256/256 [00:05<00:00, 47.77it/s]\n"
     ]
    },
    {
     "name": "stdout",
     "output_type": "stream",
     "text": [
      "Warning: number of images is not a multiple of the batch size. Some samples are going to be ignored.\n"
     ]
    },
    {
     "name": "stderr",
     "output_type": "stream",
     "text": [
      "100%|██████████| 81/81 [00:04<00:00, 19.71it/s]\n"
     ]
    },
    {
     "name": "stdout",
     "output_type": "stream",
     "text": [
      "FID score: 69.40655517578125\n"
     ]
    },
    {
     "name": "stderr",
     "output_type": "stream",
     "text": [
      "sample images: 100%|██████████| 256/256 [00:05<00:00, 47.71it/s]\n"
     ]
    },
    {
     "name": "stdout",
     "output_type": "stream",
     "text": [
      "Inception score: 4.52788358919987\n",
      "----- Epoch Summary -----\n",
      "Dis Loss: -0.076854 - Gen Loss: -1.390583 - Dis LR: 9.01409e-05 - Gen LR: 9.01409e-05\n",
      "FID score: 69.40655517578125 - Inception score: 4.52788358919987 || @ epoch 62.\n",
      "Best FID score: 62.093994140625 @ epoch 57\n",
      "-----      End      -----\n",
      "\n",
      "------- Epoch  63 -------\n",
      "[Epoch 63] [Batch 100/1563] [D loss: -0.889235] [G loss: -2.725043]\n",
      "[Epoch 63] [Batch 200/1563] [D loss: -0.818026] [G loss: -3.154480]\n",
      "[Epoch 63] [Batch 300/1563] [D loss: 0.211554] [G loss: -2.082324]\n",
      "[Epoch 63] [Batch 400/1563] [D loss: -0.434714] [G loss: -2.069175]\n",
      "[Epoch 63] [Batch 500/1563] [D loss: -0.943124] [G loss: -3.000149]\n",
      "[Epoch 63] [Batch 600/1563] [D loss: 0.215048] [G loss: -2.968442]\n",
      "[Epoch 63] [Batch 700/1563] [D loss: 0.786251] [G loss: -1.669803]\n",
      "[Epoch 63] [Batch 800/1563] [D loss: -0.223378] [G loss: -0.052085]\n",
      "[Epoch 63] [Batch 900/1563] [D loss: 0.429786] [G loss: -1.659834]\n",
      "[Epoch 63] [Batch 1000/1563] [D loss: -0.487767] [G loss: -2.696037]\n",
      "[Epoch 63] [Batch 1100/1563] [D loss: 0.933149] [G loss: -1.595076]\n",
      "[Epoch 63] [Batch 1200/1563] [D loss: -1.775656] [G loss: -1.863199]\n",
      "[Epoch 63] [Batch 1300/1563] [D loss: 1.574500] [G loss: -1.748734]\n",
      "[Epoch 63] [Batch 1400/1563] [D loss: -0.865447] [G loss: -1.877809]\n",
      "[Epoch 63] [Batch 1500/1563] [D loss: -0.459725] [G loss: -2.523480]\n"
     ]
    },
    {
     "name": "stderr",
     "output_type": "stream",
     "text": [
      "sample images: 100%|██████████| 256/256 [00:05<00:00, 47.79it/s]\n"
     ]
    },
    {
     "name": "stdout",
     "output_type": "stream",
     "text": [
      "Warning: number of images is not a multiple of the batch size. Some samples are going to be ignored.\n"
     ]
    },
    {
     "name": "stderr",
     "output_type": "stream",
     "text": [
      "100%|██████████| 81/81 [00:04<00:00, 19.74it/s]\n"
     ]
    },
    {
     "name": "stdout",
     "output_type": "stream",
     "text": [
      "FID score: 65.96893310546875\n"
     ]
    },
    {
     "name": "stderr",
     "output_type": "stream",
     "text": [
      "sample images: 100%|██████████| 256/256 [00:05<00:00, 47.92it/s]\n"
     ]
    },
    {
     "name": "stdout",
     "output_type": "stream",
     "text": [
      "Inception score: 4.294033871651913\n",
      "----- Epoch Summary -----\n",
      "Dis Loss: -0.108814 - Gen Loss: -2.004782 - Dis LR: 8.98265e-05 - Gen LR: 8.98265e-05\n",
      "FID score: 65.96893310546875 - Inception score: 4.294033871651913 || @ epoch 63.\n",
      "Best FID score: 62.093994140625 @ epoch 57\n",
      "-----      End      -----\n",
      "\n",
      "------- Epoch  64 -------\n",
      "[Epoch 64] [Batch 100/1563] [D loss: -0.218428] [G loss: -1.268843]\n",
      "[Epoch 64] [Batch 200/1563] [D loss: 0.032187] [G loss: -1.075960]\n",
      "[Epoch 64] [Batch 300/1563] [D loss: -0.105122] [G loss: -1.179467]\n",
      "[Epoch 64] [Batch 400/1563] [D loss: 0.320557] [G loss: 0.178485]\n",
      "[Epoch 64] [Batch 500/1563] [D loss: -0.212741] [G loss: -1.013716]\n",
      "[Epoch 64] [Batch 600/1563] [D loss: -0.155639] [G loss: -1.323503]\n",
      "[Epoch 64] [Batch 700/1563] [D loss: -0.134316] [G loss: -0.851299]\n",
      "[Epoch 64] [Batch 800/1563] [D loss: 0.382289] [G loss: -1.918066]\n",
      "[Epoch 64] [Batch 900/1563] [D loss: 0.034998] [G loss: -1.008996]\n",
      "[Epoch 64] [Batch 1000/1563] [D loss: 0.603399] [G loss: -2.790293]\n",
      "[Epoch 64] [Batch 1100/1563] [D loss: -1.120233] [G loss: -3.555122]\n",
      "[Epoch 64] [Batch 1200/1563] [D loss: 0.081495] [G loss: -1.594635]\n",
      "[Epoch 64] [Batch 1300/1563] [D loss: -0.848500] [G loss: -1.593739]\n",
      "[Epoch 64] [Batch 1400/1563] [D loss: -1.143404] [G loss: -2.718493]\n",
      "[Epoch 64] [Batch 1500/1563] [D loss: -0.448737] [G loss: -2.031627]\n"
     ]
    },
    {
     "name": "stderr",
     "output_type": "stream",
     "text": [
      "sample images: 100%|██████████| 256/256 [00:05<00:00, 47.89it/s]\n"
     ]
    },
    {
     "name": "stdout",
     "output_type": "stream",
     "text": [
      "Warning: number of images is not a multiple of the batch size. Some samples are going to be ignored.\n"
     ]
    },
    {
     "name": "stderr",
     "output_type": "stream",
     "text": [
      "100%|██████████| 81/81 [00:04<00:00, 19.77it/s]\n"
     ]
    },
    {
     "name": "stdout",
     "output_type": "stream",
     "text": [
      "FID score: 59.3665771484375\n"
     ]
    },
    {
     "name": "stderr",
     "output_type": "stream",
     "text": [
      "sample images: 100%|██████████| 256/256 [00:05<00:00, 47.95it/s]\n"
     ]
    },
    {
     "name": "stdout",
     "output_type": "stream",
     "text": [
      "Inception score: 4.357332830506374\n",
      "Saved Latest Model!\n",
      "----- Epoch Summary -----\n",
      "Dis Loss: -0.079533 - Gen Loss: -1.673492 - Dis LR: 8.95078e-05 - Gen LR: 8.95078e-05\n",
      "FID score: 59.3665771484375 - Inception score: 4.357332830506374 || @ epoch 64.\n",
      "Best FID score: 59.3665771484375 @ epoch 64\n",
      "-----      End      -----\n",
      "\n",
      "------- Epoch  65 -------\n",
      "[Epoch 65] [Batch 100/1563] [D loss: 0.452390] [G loss: -2.476929]\n",
      "[Epoch 65] [Batch 200/1563] [D loss: -1.120281] [G loss: -0.743854]\n",
      "[Epoch 65] [Batch 300/1563] [D loss: -0.120997] [G loss: -0.405312]\n",
      "[Epoch 65] [Batch 400/1563] [D loss: 0.463333] [G loss: -1.917805]\n",
      "[Epoch 65] [Batch 500/1563] [D loss: 0.294773] [G loss: -1.210257]\n",
      "[Epoch 65] [Batch 600/1563] [D loss: -0.400107] [G loss: -1.355451]\n",
      "[Epoch 65] [Batch 700/1563] [D loss: 1.416075] [G loss: -1.575191]\n",
      "[Epoch 65] [Batch 800/1563] [D loss: -0.262903] [G loss: -0.572606]\n",
      "[Epoch 65] [Batch 900/1563] [D loss: 0.758843] [G loss: -0.978664]\n",
      "[Epoch 65] [Batch 1000/1563] [D loss: -0.145026] [G loss: -1.609111]\n",
      "[Epoch 65] [Batch 1100/1563] [D loss: 0.328740] [G loss: -0.738595]\n",
      "[Epoch 65] [Batch 1200/1563] [D loss: 0.047570] [G loss: -0.375876]\n",
      "[Epoch 65] [Batch 1300/1563] [D loss: -0.053566] [G loss: -0.069869]\n",
      "[Epoch 65] [Batch 1400/1563] [D loss: -0.179853] [G loss: 0.746210]\n",
      "[Epoch 65] [Batch 1500/1563] [D loss: 0.109273] [G loss: -1.053100]\n"
     ]
    },
    {
     "name": "stderr",
     "output_type": "stream",
     "text": [
      "sample images: 100%|██████████| 256/256 [00:05<00:00, 47.92it/s]\n"
     ]
    },
    {
     "name": "stdout",
     "output_type": "stream",
     "text": [
      "Warning: number of images is not a multiple of the batch size. Some samples are going to be ignored.\n"
     ]
    },
    {
     "name": "stderr",
     "output_type": "stream",
     "text": [
      "100%|██████████| 81/81 [00:04<00:00, 19.77it/s]\n"
     ]
    },
    {
     "name": "stdout",
     "output_type": "stream",
     "text": [
      "FID score: 72.987548828125\n"
     ]
    },
    {
     "name": "stderr",
     "output_type": "stream",
     "text": [
      "sample images: 100%|██████████| 256/256 [00:05<00:00, 47.91it/s]\n"
     ]
    },
    {
     "name": "stdout",
     "output_type": "stream",
     "text": [
      "Inception score: 4.1104976143899785\n",
      "----- Epoch Summary -----\n",
      "Dis Loss: -0.069506 - Gen Loss: -1.296379 - Dis LR: 8.91847e-05 - Gen LR: 8.91847e-05\n",
      "FID score: 72.987548828125 - Inception score: 4.1104976143899785 || @ epoch 65.\n",
      "Best FID score: 59.3665771484375 @ epoch 64\n",
      "-----      End      -----\n",
      "\n",
      "------- Epoch  66 -------\n",
      "[Epoch 66] [Batch 0/1563] [D loss: -1.122546] [G loss: -1.642056]\n",
      "[Epoch 66] [Batch 100/1563] [D loss: 0.123065] [G loss: -1.831919]\n",
      "[Epoch 66] [Batch 200/1563] [D loss: 0.373789] [G loss: -1.649787]\n",
      "[Epoch 66] [Batch 300/1563] [D loss: 0.647588] [G loss: -1.978042]\n",
      "[Epoch 66] [Batch 400/1563] [D loss: -0.372137] [G loss: -0.000715]\n",
      "[Epoch 66] [Batch 500/1563] [D loss: -0.545222] [G loss: -0.315943]\n",
      "[Epoch 66] [Batch 600/1563] [D loss: -0.301329] [G loss: -1.476803]\n",
      "[Epoch 66] [Batch 700/1563] [D loss: -0.817972] [G loss: -0.206168]\n",
      "[Epoch 66] [Batch 800/1563] [D loss: 0.450270] [G loss: -0.044023]\n",
      "[Epoch 66] [Batch 900/1563] [D loss: 0.344123] [G loss: 0.310446]\n",
      "[Epoch 66] [Batch 1000/1563] [D loss: 0.626091] [G loss: -0.809193]\n",
      "[Epoch 66] [Batch 1100/1563] [D loss: 0.379338] [G loss: -0.605377]\n",
      "[Epoch 66] [Batch 1200/1563] [D loss: 0.263665] [G loss: -0.656029]\n",
      "[Epoch 66] [Batch 1300/1563] [D loss: 0.626619] [G loss: 0.199950]\n",
      "[Epoch 66] [Batch 1400/1563] [D loss: 0.485530] [G loss: -0.860473]\n",
      "[Epoch 66] [Batch 1500/1563] [D loss: 0.887832] [G loss: -0.118107]\n"
     ]
    },
    {
     "name": "stderr",
     "output_type": "stream",
     "text": [
      "sample images: 100%|██████████| 256/256 [00:05<00:00, 47.88it/s]\n"
     ]
    },
    {
     "name": "stdout",
     "output_type": "stream",
     "text": [
      "Warning: number of images is not a multiple of the batch size. Some samples are going to be ignored.\n"
     ]
    },
    {
     "name": "stderr",
     "output_type": "stream",
     "text": [
      "100%|██████████| 81/81 [00:04<00:00, 19.75it/s]\n"
     ]
    },
    {
     "name": "stdout",
     "output_type": "stream",
     "text": [
      "FID score: 64.49826049804688\n"
     ]
    },
    {
     "name": "stderr",
     "output_type": "stream",
     "text": [
      "sample images: 100%|██████████| 256/256 [00:05<00:00, 47.93it/s]\n"
     ]
    },
    {
     "name": "stdout",
     "output_type": "stream",
     "text": [
      "Inception score: 4.619497052291342\n",
      "----- Epoch Summary -----\n",
      "Dis Loss: -0.077390 - Gen Loss: -0.520383 - Dis LR: 8.88573e-05 - Gen LR: 8.88573e-05\n",
      "FID score: 64.49826049804688 - Inception score: 4.619497052291342 || @ epoch 66.\n",
      "Best FID score: 59.3665771484375 @ epoch 64\n",
      "-----      End      -----\n",
      "\n",
      "------- Epoch  67 -------\n",
      "[Epoch 67] [Batch 100/1563] [D loss: 0.268016] [G loss: 0.542049]\n",
      "[Epoch 67] [Batch 200/1563] [D loss: 0.362005] [G loss: -0.629630]\n",
      "[Epoch 67] [Batch 300/1563] [D loss: -0.308580] [G loss: -0.640366]\n",
      "[Epoch 67] [Batch 400/1563] [D loss: -0.443628] [G loss: -1.137876]\n",
      "[Epoch 67] [Batch 500/1563] [D loss: 0.099349] [G loss: -1.558990]\n",
      "[Epoch 67] [Batch 600/1563] [D loss: 0.124866] [G loss: -1.125441]\n",
      "[Epoch 67] [Batch 700/1563] [D loss: -0.898766] [G loss: -1.457945]\n",
      "[Epoch 67] [Batch 800/1563] [D loss: -1.025637] [G loss: -1.700324]\n",
      "[Epoch 67] [Batch 900/1563] [D loss: -0.412726] [G loss: -1.307000]\n",
      "[Epoch 67] [Batch 1000/1563] [D loss: -0.333366] [G loss: -1.152438]\n",
      "[Epoch 67] [Batch 1100/1563] [D loss: -0.000994] [G loss: -2.074131]\n",
      "[Epoch 67] [Batch 1200/1563] [D loss: -1.512950] [G loss: -1.607712]\n",
      "[Epoch 67] [Batch 1300/1563] [D loss: 1.296353] [G loss: -2.100543]\n",
      "[Epoch 67] [Batch 1400/1563] [D loss: 0.690441] [G loss: -1.664562]\n",
      "[Epoch 67] [Batch 1500/1563] [D loss: -0.316302] [G loss: -0.864525]\n"
     ]
    },
    {
     "name": "stderr",
     "output_type": "stream",
     "text": [
      "sample images: 100%|██████████| 256/256 [00:05<00:00, 47.87it/s]\n"
     ]
    },
    {
     "name": "stdout",
     "output_type": "stream",
     "text": [
      "Warning: number of images is not a multiple of the batch size. Some samples are going to be ignored.\n"
     ]
    },
    {
     "name": "stderr",
     "output_type": "stream",
     "text": [
      "100%|██████████| 81/81 [00:04<00:00, 19.71it/s]\n"
     ]
    },
    {
     "name": "stdout",
     "output_type": "stream",
     "text": [
      "FID score: 59.315673828125\n"
     ]
    },
    {
     "name": "stderr",
     "output_type": "stream",
     "text": [
      "sample images: 100%|██████████| 256/256 [00:05<00:00, 47.98it/s]\n"
     ]
    },
    {
     "name": "stdout",
     "output_type": "stream",
     "text": [
      "Inception score: 4.654718518040786\n",
      "Saved Latest Model!\n",
      "----- Epoch Summary -----\n",
      "Dis Loss: -0.064411 - Gen Loss: -1.057734 - Dis LR: 8.85257e-05 - Gen LR: 8.85257e-05\n",
      "FID score: 59.315673828125 - Inception score: 4.654718518040786 || @ epoch 67.\n",
      "Best FID score: 59.315673828125 @ epoch 67\n",
      "-----      End      -----\n",
      "\n",
      "------- Epoch  68 -------\n",
      "[Epoch 68] [Batch 100/1563] [D loss: 1.013219] [G loss: -1.254659]\n",
      "[Epoch 68] [Batch 200/1563] [D loss: -0.010672] [G loss: -0.407576]\n",
      "[Epoch 68] [Batch 300/1563] [D loss: 0.002753] [G loss: -1.121205]\n",
      "[Epoch 68] [Batch 400/1563] [D loss: 0.762254] [G loss: -0.675641]\n",
      "[Epoch 68] [Batch 500/1563] [D loss: -0.851407] [G loss: -0.954728]\n",
      "[Epoch 68] [Batch 600/1563] [D loss: 0.112816] [G loss: -1.718039]\n",
      "[Epoch 68] [Batch 700/1563] [D loss: -0.271213] [G loss: -1.674202]\n",
      "[Epoch 68] [Batch 800/1563] [D loss: 0.260962] [G loss: 0.532220]\n",
      "[Epoch 68] [Batch 900/1563] [D loss: 0.832455] [G loss: -1.280883]\n",
      "[Epoch 68] [Batch 1000/1563] [D loss: -0.473271] [G loss: -1.642700]\n",
      "[Epoch 68] [Batch 1100/1563] [D loss: -0.183325] [G loss: -1.188323]\n",
      "[Epoch 68] [Batch 1200/1563] [D loss: 0.237753] [G loss: -0.326770]\n",
      "[Epoch 68] [Batch 1300/1563] [D loss: 0.413434] [G loss: -1.133902]\n",
      "[Epoch 68] [Batch 1400/1563] [D loss: 0.904365] [G loss: -0.882270]\n",
      "[Epoch 68] [Batch 1500/1563] [D loss: -0.476881] [G loss: -0.702139]\n"
     ]
    },
    {
     "name": "stderr",
     "output_type": "stream",
     "text": [
      "sample images: 100%|██████████| 256/256 [00:05<00:00, 47.90it/s]\n"
     ]
    },
    {
     "name": "stdout",
     "output_type": "stream",
     "text": [
      "Warning: number of images is not a multiple of the batch size. Some samples are going to be ignored.\n"
     ]
    },
    {
     "name": "stderr",
     "output_type": "stream",
     "text": [
      "100%|██████████| 81/81 [00:04<00:00, 19.76it/s]\n"
     ]
    },
    {
     "name": "stdout",
     "output_type": "stream",
     "text": [
      "FID score: 67.2418212890625\n"
     ]
    },
    {
     "name": "stderr",
     "output_type": "stream",
     "text": [
      "sample images: 100%|██████████| 256/256 [00:05<00:00, 47.93it/s]\n"
     ]
    },
    {
     "name": "stdout",
     "output_type": "stream",
     "text": [
      "Inception score: 4.398923617823285\n",
      "----- Epoch Summary -----\n",
      "Dis Loss: -0.031371 - Gen Loss: -1.029171 - Dis LR: 8.81898e-05 - Gen LR: 8.81898e-05\n",
      "FID score: 67.2418212890625 - Inception score: 4.398923617823285 || @ epoch 68.\n",
      "Best FID score: 59.315673828125 @ epoch 67\n",
      "-----      End      -----\n",
      "\n",
      "------- Epoch  69 -------\n",
      "[Epoch 69] [Batch 100/1563] [D loss: -0.667829] [G loss: 0.571835]\n",
      "[Epoch 69] [Batch 200/1563] [D loss: -0.764617] [G loss: 0.110029]\n",
      "[Epoch 69] [Batch 300/1563] [D loss: -0.029266] [G loss: -1.034545]\n",
      "[Epoch 69] [Batch 400/1563] [D loss: 0.536434] [G loss: 0.378221]\n",
      "[Epoch 69] [Batch 500/1563] [D loss: -0.366273] [G loss: -0.262542]\n",
      "[Epoch 69] [Batch 600/1563] [D loss: -0.345417] [G loss: 0.020375]\n",
      "[Epoch 69] [Batch 700/1563] [D loss: -0.895897] [G loss: -0.085974]\n",
      "[Epoch 69] [Batch 800/1563] [D loss: -0.089868] [G loss: 0.282145]\n",
      "[Epoch 69] [Batch 900/1563] [D loss: -0.132786] [G loss: 0.052067]\n",
      "[Epoch 69] [Batch 1000/1563] [D loss: 0.408014] [G loss: -0.909996]\n",
      "[Epoch 69] [Batch 1100/1563] [D loss: -0.913358] [G loss: -0.728386]\n",
      "[Epoch 69] [Batch 1200/1563] [D loss: 0.837707] [G loss: -1.875472]\n",
      "[Epoch 69] [Batch 1300/1563] [D loss: -0.265178] [G loss: -1.446969]\n",
      "[Epoch 69] [Batch 1400/1563] [D loss: 0.722587] [G loss: -1.682979]\n",
      "[Epoch 69] [Batch 1500/1563] [D loss: 0.107074] [G loss: -1.844115]\n"
     ]
    },
    {
     "name": "stderr",
     "output_type": "stream",
     "text": [
      "sample images: 100%|██████████| 256/256 [00:05<00:00, 47.92it/s]\n"
     ]
    },
    {
     "name": "stdout",
     "output_type": "stream",
     "text": [
      "Warning: number of images is not a multiple of the batch size. Some samples are going to be ignored.\n"
     ]
    },
    {
     "name": "stderr",
     "output_type": "stream",
     "text": [
      "100%|██████████| 81/81 [00:04<00:00, 19.71it/s]\n"
     ]
    },
    {
     "name": "stdout",
     "output_type": "stream",
     "text": [
      "FID score: 60.438690185546875\n"
     ]
    },
    {
     "name": "stderr",
     "output_type": "stream",
     "text": [
      "sample images: 100%|██████████| 256/256 [00:05<00:00, 47.94it/s]\n"
     ]
    },
    {
     "name": "stdout",
     "output_type": "stream",
     "text": [
      "Inception score: 4.816783847069836\n",
      "----- Epoch Summary -----\n",
      "Dis Loss: -0.083065 - Gen Loss: -0.637368 - Dis LR: 8.78498e-05 - Gen LR: 8.78498e-05\n",
      "FID score: 60.438690185546875 - Inception score: 4.816783847069836 || @ epoch 69.\n",
      "Best FID score: 59.315673828125 @ epoch 67\n",
      "-----      End      -----\n",
      "\n",
      "------- Epoch  70 -------\n",
      "[Epoch 70] [Batch 100/1563] [D loss: 0.261239] [G loss: -0.961666]\n",
      "[Epoch 70] [Batch 200/1563] [D loss: 0.970760] [G loss: -1.737723]\n",
      "[Epoch 70] [Batch 300/1563] [D loss: -0.301491] [G loss: -1.127724]\n",
      "[Epoch 70] [Batch 400/1563] [D loss: -0.731893] [G loss: -0.943906]\n",
      "[Epoch 70] [Batch 500/1563] [D loss: -0.363908] [G loss: -2.307630]\n",
      "[Epoch 70] [Batch 600/1563] [D loss: -0.270830] [G loss: -1.794089]\n",
      "[Epoch 70] [Batch 700/1563] [D loss: 0.271144] [G loss: -1.989364]\n",
      "[Epoch 70] [Batch 800/1563] [D loss: 0.343101] [G loss: -0.543399]\n",
      "[Epoch 70] [Batch 900/1563] [D loss: -0.313692] [G loss: -1.440979]\n",
      "[Epoch 70] [Batch 1000/1563] [D loss: -0.766799] [G loss: -1.935522]\n",
      "[Epoch 70] [Batch 1100/1563] [D loss: 0.225102] [G loss: -2.271158]\n",
      "[Epoch 70] [Batch 1200/1563] [D loss: 0.133446] [G loss: -1.041867]\n",
      "[Epoch 70] [Batch 1300/1563] [D loss: -0.012265] [G loss: -1.235958]\n",
      "[Epoch 70] [Batch 1400/1563] [D loss: -0.834553] [G loss: -2.111716]\n",
      "[Epoch 70] [Batch 1500/1563] [D loss: 0.021985] [G loss: -1.632199]\n"
     ]
    },
    {
     "name": "stderr",
     "output_type": "stream",
     "text": [
      "sample images: 100%|██████████| 256/256 [00:05<00:00, 47.88it/s]\n"
     ]
    },
    {
     "name": "stdout",
     "output_type": "stream",
     "text": [
      "Warning: number of images is not a multiple of the batch size. Some samples are going to be ignored.\n"
     ]
    },
    {
     "name": "stderr",
     "output_type": "stream",
     "text": [
      "100%|██████████| 81/81 [00:04<00:00, 19.71it/s]\n"
     ]
    },
    {
     "name": "stdout",
     "output_type": "stream",
     "text": [
      "FID score: 68.56982421875\n"
     ]
    },
    {
     "name": "stderr",
     "output_type": "stream",
     "text": [
      "sample images: 100%|██████████| 256/256 [00:05<00:00, 47.94it/s]\n"
     ]
    },
    {
     "name": "stdout",
     "output_type": "stream",
     "text": [
      "Inception score: 4.547502078772617\n",
      "----- Epoch Summary -----\n",
      "Dis Loss: -0.061418 - Gen Loss: -1.254853 - Dis LR: 8.75056e-05 - Gen LR: 8.75056e-05\n",
      "FID score: 68.56982421875 - Inception score: 4.547502078772617 || @ epoch 70.\n",
      "Best FID score: 59.315673828125 @ epoch 67\n",
      "-----      End      -----\n",
      "\n",
      "------- Epoch  71 -------\n",
      "[Epoch 71] [Batch 0/1563] [D loss: 0.339814] [G loss: -1.376886]\n",
      "[Epoch 71] [Batch 100/1563] [D loss: -0.003502] [G loss: -0.712260]\n",
      "[Epoch 71] [Batch 200/1563] [D loss: -0.332356] [G loss: -0.881424]\n",
      "[Epoch 71] [Batch 300/1563] [D loss: -0.379055] [G loss: -1.077821]\n",
      "[Epoch 71] [Batch 400/1563] [D loss: 0.359103] [G loss: -0.285455]\n",
      "[Epoch 71] [Batch 500/1563] [D loss: -2.075559] [G loss: -2.811173]\n",
      "[Epoch 71] [Batch 600/1563] [D loss: -0.613643] [G loss: -0.794643]\n",
      "[Epoch 71] [Batch 700/1563] [D loss: 0.253640] [G loss: -0.920175]\n",
      "[Epoch 71] [Batch 800/1563] [D loss: -1.939641] [G loss: -1.056101]\n",
      "[Epoch 71] [Batch 900/1563] [D loss: -0.172708] [G loss: -0.388935]\n",
      "[Epoch 71] [Batch 1000/1563] [D loss: 0.364524] [G loss: -1.587425]\n",
      "[Epoch 71] [Batch 1100/1563] [D loss: -0.313327] [G loss: -0.088222]\n",
      "[Epoch 71] [Batch 1200/1563] [D loss: 0.643847] [G loss: -0.962390]\n",
      "[Epoch 71] [Batch 1300/1563] [D loss: -0.128244] [G loss: -0.802326]\n",
      "[Epoch 71] [Batch 1400/1563] [D loss: -0.231596] [G loss: -0.839309]\n",
      "[Epoch 71] [Batch 1500/1563] [D loss: 1.518546] [G loss: 0.090144]\n"
     ]
    },
    {
     "name": "stderr",
     "output_type": "stream",
     "text": [
      "sample images: 100%|██████████| 256/256 [00:05<00:00, 47.91it/s]\n"
     ]
    },
    {
     "name": "stdout",
     "output_type": "stream",
     "text": [
      "Warning: number of images is not a multiple of the batch size. Some samples are going to be ignored.\n"
     ]
    },
    {
     "name": "stderr",
     "output_type": "stream",
     "text": [
      "100%|██████████| 81/81 [00:04<00:00, 19.75it/s]\n"
     ]
    },
    {
     "name": "stdout",
     "output_type": "stream",
     "text": [
      "FID score: 74.345703125\n"
     ]
    },
    {
     "name": "stderr",
     "output_type": "stream",
     "text": [
      "sample images: 100%|██████████| 256/256 [00:05<00:00, 47.96it/s]\n"
     ]
    },
    {
     "name": "stdout",
     "output_type": "stream",
     "text": [
      "Inception score: 3.9424028232055384\n",
      "----- Epoch Summary -----\n",
      "Dis Loss: -0.080787 - Gen Loss: -1.147711 - Dis LR: 8.71572e-05 - Gen LR: 8.71572e-05\n",
      "FID score: 74.345703125 - Inception score: 3.9424028232055384 || @ epoch 71.\n",
      "Best FID score: 59.315673828125 @ epoch 67\n",
      "-----      End      -----\n",
      "\n",
      "------- Epoch  72 -------\n",
      "[Epoch 72] [Batch 100/1563] [D loss: 0.329203] [G loss: -0.613172]\n",
      "[Epoch 72] [Batch 200/1563] [D loss: -0.372528] [G loss: -1.106485]\n",
      "[Epoch 72] [Batch 300/1563] [D loss: 1.360389] [G loss: -1.496860]\n",
      "[Epoch 72] [Batch 400/1563] [D loss: -0.363008] [G loss: -1.803198]\n",
      "[Epoch 72] [Batch 500/1563] [D loss: -0.662315] [G loss: -1.248008]\n",
      "[Epoch 72] [Batch 600/1563] [D loss: 0.621789] [G loss: -1.621232]\n",
      "[Epoch 72] [Batch 700/1563] [D loss: -0.629857] [G loss: -2.986006]\n",
      "[Epoch 72] [Batch 800/1563] [D loss: 0.728124] [G loss: -0.702550]\n",
      "[Epoch 72] [Batch 900/1563] [D loss: 0.389486] [G loss: -2.449424]\n",
      "[Epoch 72] [Batch 1000/1563] [D loss: -0.576459] [G loss: -2.034849]\n",
      "[Epoch 72] [Batch 1100/1563] [D loss: -0.474309] [G loss: -1.134270]\n",
      "[Epoch 72] [Batch 1200/1563] [D loss: -0.368288] [G loss: -2.257836]\n",
      "[Epoch 72] [Batch 1300/1563] [D loss: -0.615796] [G loss: -1.542868]\n",
      "[Epoch 72] [Batch 1400/1563] [D loss: 1.100463] [G loss: -2.525239]\n",
      "[Epoch 72] [Batch 1500/1563] [D loss: 0.302492] [G loss: -2.235288]\n"
     ]
    },
    {
     "name": "stderr",
     "output_type": "stream",
     "text": [
      "sample images: 100%|██████████| 256/256 [00:05<00:00, 47.89it/s]\n"
     ]
    },
    {
     "name": "stdout",
     "output_type": "stream",
     "text": [
      "Warning: number of images is not a multiple of the batch size. Some samples are going to be ignored.\n"
     ]
    },
    {
     "name": "stderr",
     "output_type": "stream",
     "text": [
      "100%|██████████| 81/81 [00:04<00:00, 19.76it/s]\n"
     ]
    },
    {
     "name": "stdout",
     "output_type": "stream",
     "text": [
      "FID score: 74.390869140625\n"
     ]
    },
    {
     "name": "stderr",
     "output_type": "stream",
     "text": [
      "sample images: 100%|██████████| 256/256 [00:05<00:00, 47.94it/s]\n"
     ]
    },
    {
     "name": "stdout",
     "output_type": "stream",
     "text": [
      "Inception score: 4.190121498618274\n",
      "----- Epoch Summary -----\n",
      "Dis Loss: -0.043393 - Gen Loss: -1.374378 - Dis LR: 8.68049e-05 - Gen LR: 8.68049e-05\n",
      "FID score: 74.390869140625 - Inception score: 4.190121498618274 || @ epoch 72.\n",
      "Best FID score: 59.315673828125 @ epoch 67\n",
      "-----      End      -----\n",
      "\n",
      "------- Epoch  73 -------\n",
      "[Epoch 73] [Batch 100/1563] [D loss: -0.484180] [G loss: -1.290469]\n",
      "[Epoch 73] [Batch 200/1563] [D loss: -0.662800] [G loss: -1.402866]\n",
      "[Epoch 73] [Batch 300/1563] [D loss: -0.803659] [G loss: -1.357070]\n",
      "[Epoch 73] [Batch 400/1563] [D loss: 0.231759] [G loss: -0.772984]\n",
      "[Epoch 73] [Batch 500/1563] [D loss: 0.537601] [G loss: -1.802485]\n",
      "[Epoch 73] [Batch 600/1563] [D loss: -0.413798] [G loss: 0.172475]\n",
      "[Epoch 73] [Batch 700/1563] [D loss: 0.678990] [G loss: -0.443139]\n",
      "[Epoch 73] [Batch 800/1563] [D loss: 0.514334] [G loss: -0.790558]\n",
      "[Epoch 73] [Batch 900/1563] [D loss: -0.551281] [G loss: -0.951250]\n",
      "[Epoch 73] [Batch 1000/1563] [D loss: -1.019190] [G loss: -1.360826]\n",
      "[Epoch 73] [Batch 1100/1563] [D loss: 0.614223] [G loss: -0.447153]\n",
      "[Epoch 73] [Batch 1200/1563] [D loss: 0.289754] [G loss: -0.611629]\n",
      "[Epoch 73] [Batch 1300/1563] [D loss: 0.299450] [G loss: -0.741314]\n",
      "[Epoch 73] [Batch 1400/1563] [D loss: 0.520844] [G loss: -1.084759]\n",
      "[Epoch 73] [Batch 1500/1563] [D loss: -0.247343] [G loss: -1.671086]\n"
     ]
    },
    {
     "name": "stderr",
     "output_type": "stream",
     "text": [
      "sample images: 100%|██████████| 256/256 [00:05<00:00, 47.92it/s]\n"
     ]
    },
    {
     "name": "stdout",
     "output_type": "stream",
     "text": [
      "Warning: number of images is not a multiple of the batch size. Some samples are going to be ignored.\n"
     ]
    },
    {
     "name": "stderr",
     "output_type": "stream",
     "text": [
      "100%|██████████| 81/81 [00:04<00:00, 19.72it/s]\n"
     ]
    },
    {
     "name": "stdout",
     "output_type": "stream",
     "text": [
      "FID score: 62.395782470703125\n"
     ]
    },
    {
     "name": "stderr",
     "output_type": "stream",
     "text": [
      "sample images: 100%|██████████| 256/256 [00:05<00:00, 47.91it/s]\n"
     ]
    },
    {
     "name": "stdout",
     "output_type": "stream",
     "text": [
      "Inception score: 4.491003978692204\n",
      "----- Epoch Summary -----\n",
      "Dis Loss: -0.052142 - Gen Loss: -0.948041 - Dis LR: 8.64484e-05 - Gen LR: 8.64484e-05\n",
      "FID score: 62.395782470703125 - Inception score: 4.491003978692204 || @ epoch 73.\n",
      "Best FID score: 59.315673828125 @ epoch 67\n",
      "-----      End      -----\n",
      "\n",
      "------- Epoch  74 -------\n",
      "[Epoch 74] [Batch 100/1563] [D loss: -0.531499] [G loss: -0.358142]\n",
      "[Epoch 74] [Batch 200/1563] [D loss: -0.913376] [G loss: -0.615788]\n",
      "[Epoch 74] [Batch 300/1563] [D loss: 1.184717] [G loss: -0.206377]\n",
      "[Epoch 74] [Batch 400/1563] [D loss: -0.305770] [G loss: -1.510127]\n",
      "[Epoch 74] [Batch 500/1563] [D loss: -0.228412] [G loss: -1.284721]\n",
      "[Epoch 74] [Batch 600/1563] [D loss: -0.541345] [G loss: -1.493050]\n",
      "[Epoch 74] [Batch 700/1563] [D loss: -0.654377] [G loss: -0.984555]\n",
      "[Epoch 74] [Batch 800/1563] [D loss: -0.635257] [G loss: -0.534540]\n",
      "[Epoch 74] [Batch 900/1563] [D loss: 0.480632] [G loss: -1.641759]\n",
      "[Epoch 74] [Batch 1000/1563] [D loss: 0.951243] [G loss: -0.728181]\n",
      "[Epoch 74] [Batch 1100/1563] [D loss: 0.160412] [G loss: -1.670210]\n",
      "[Epoch 74] [Batch 1200/1563] [D loss: -0.257271] [G loss: -2.157553]\n",
      "[Epoch 74] [Batch 1300/1563] [D loss: 0.359081] [G loss: -0.018179]\n",
      "[Epoch 74] [Batch 1400/1563] [D loss: -0.418614] [G loss: -0.342757]\n",
      "[Epoch 74] [Batch 1500/1563] [D loss: -0.314383] [G loss: -0.973261]\n"
     ]
    },
    {
     "name": "stderr",
     "output_type": "stream",
     "text": [
      "sample images: 100%|██████████| 256/256 [00:05<00:00, 47.38it/s]\n"
     ]
    },
    {
     "name": "stdout",
     "output_type": "stream",
     "text": [
      "Warning: number of images is not a multiple of the batch size. Some samples are going to be ignored.\n"
     ]
    },
    {
     "name": "stderr",
     "output_type": "stream",
     "text": [
      "100%|██████████| 81/81 [00:04<00:00, 19.52it/s]\n"
     ]
    },
    {
     "name": "stdout",
     "output_type": "stream",
     "text": [
      "FID score: 59.726104736328125\n"
     ]
    },
    {
     "name": "stderr",
     "output_type": "stream",
     "text": [
      "sample images: 100%|██████████| 256/256 [00:05<00:00, 46.77it/s]\n"
     ]
    },
    {
     "name": "stdout",
     "output_type": "stream",
     "text": [
      "Inception score: 4.357105290466739\n",
      "----- Epoch Summary -----\n",
      "Dis Loss: -0.087417 - Gen Loss: -1.033019 - Dis LR: 8.6088e-05 - Gen LR: 8.6088e-05\n",
      "FID score: 59.726104736328125 - Inception score: 4.357105290466739 || @ epoch 74.\n",
      "Best FID score: 59.315673828125 @ epoch 67\n",
      "-----      End      -----\n",
      "\n",
      "------- Epoch  75 -------\n",
      "[Epoch 75] [Batch 100/1563] [D loss: 0.434825] [G loss: -0.605520]\n",
      "[Epoch 75] [Batch 200/1563] [D loss: 0.039497] [G loss: -1.352689]\n",
      "[Epoch 75] [Batch 300/1563] [D loss: 0.879531] [G loss: -0.638279]\n",
      "[Epoch 75] [Batch 400/1563] [D loss: -0.199097] [G loss: -0.957087]\n",
      "[Epoch 75] [Batch 500/1563] [D loss: -0.585593] [G loss: -1.327703]\n",
      "[Epoch 75] [Batch 600/1563] [D loss: -0.181805] [G loss: -1.236755]\n",
      "[Epoch 75] [Batch 700/1563] [D loss: -0.747429] [G loss: 0.109547]\n",
      "[Epoch 75] [Batch 800/1563] [D loss: 1.063950] [G loss: -0.983568]\n",
      "[Epoch 75] [Batch 900/1563] [D loss: 0.556237] [G loss: -0.413133]\n",
      "[Epoch 75] [Batch 1000/1563] [D loss: -0.203212] [G loss: -0.384406]\n",
      "[Epoch 75] [Batch 1100/1563] [D loss: 0.857223] [G loss: 0.171257]\n",
      "[Epoch 75] [Batch 1200/1563] [D loss: 1.419025] [G loss: -1.203689]\n",
      "[Epoch 75] [Batch 1300/1563] [D loss: 0.307902] [G loss: -1.131434]\n",
      "[Epoch 75] [Batch 1400/1563] [D loss: -0.693633] [G loss: -0.877088]\n",
      "[Epoch 75] [Batch 1500/1563] [D loss: -0.832101] [G loss: -0.325526]\n"
     ]
    },
    {
     "name": "stderr",
     "output_type": "stream",
     "text": [
      "sample images: 100%|██████████| 256/256 [00:05<00:00, 47.30it/s]\n"
     ]
    },
    {
     "name": "stdout",
     "output_type": "stream",
     "text": [
      "Warning: number of images is not a multiple of the batch size. Some samples are going to be ignored.\n"
     ]
    },
    {
     "name": "stderr",
     "output_type": "stream",
     "text": [
      "100%|██████████| 81/81 [00:04<00:00, 19.51it/s]\n"
     ]
    },
    {
     "name": "stdout",
     "output_type": "stream",
     "text": [
      "FID score: 66.30984497070312\n"
     ]
    },
    {
     "name": "stderr",
     "output_type": "stream",
     "text": [
      "sample images: 100%|██████████| 256/256 [00:05<00:00, 47.53it/s]\n"
     ]
    },
    {
     "name": "stdout",
     "output_type": "stream",
     "text": [
      "Inception score: 4.572190419828224\n",
      "----- Epoch Summary -----\n",
      "Dis Loss: -0.090039 - Gen Loss: -0.627881 - Dis LR: 8.57236e-05 - Gen LR: 8.57236e-05\n",
      "FID score: 66.30984497070312 - Inception score: 4.572190419828224 || @ epoch 75.\n",
      "Best FID score: 59.315673828125 @ epoch 67\n",
      "-----      End      -----\n",
      "\n",
      "------- Epoch  76 -------\n",
      "[Epoch 76] [Batch 0/1563] [D loss: -0.503612] [G loss: -1.646931]\n",
      "[Epoch 76] [Batch 100/1563] [D loss: 0.834058] [G loss: -1.281276]\n",
      "[Epoch 76] [Batch 200/1563] [D loss: 0.055317] [G loss: -0.999729]\n",
      "[Epoch 76] [Batch 300/1563] [D loss: 0.458821] [G loss: -2.068721]\n",
      "[Epoch 76] [Batch 400/1563] [D loss: -0.207129] [G loss: -1.574100]\n",
      "[Epoch 76] [Batch 500/1563] [D loss: -0.005194] [G loss: -1.990879]\n",
      "[Epoch 76] [Batch 600/1563] [D loss: -0.293461] [G loss: -1.516338]\n",
      "[Epoch 76] [Batch 700/1563] [D loss: -0.624135] [G loss: -1.297061]\n",
      "[Epoch 76] [Batch 800/1563] [D loss: 0.799746] [G loss: -1.592129]\n",
      "[Epoch 76] [Batch 900/1563] [D loss: -0.037173] [G loss: -0.729442]\n",
      "[Epoch 76] [Batch 1000/1563] [D loss: 0.222241] [G loss: 0.020299]\n",
      "[Epoch 76] [Batch 1100/1563] [D loss: 0.205477] [G loss: -0.152418]\n",
      "[Epoch 76] [Batch 1200/1563] [D loss: -1.069479] [G loss: -1.903239]\n",
      "[Epoch 76] [Batch 1300/1563] [D loss: -0.103842] [G loss: -0.319988]\n",
      "[Epoch 76] [Batch 1400/1563] [D loss: 0.506500] [G loss: -2.090767]\n",
      "[Epoch 76] [Batch 1500/1563] [D loss: -0.175327] [G loss: -0.517278]\n"
     ]
    },
    {
     "name": "stderr",
     "output_type": "stream",
     "text": [
      "sample images: 100%|██████████| 256/256 [00:05<00:00, 47.38it/s]\n"
     ]
    },
    {
     "name": "stdout",
     "output_type": "stream",
     "text": [
      "Warning: number of images is not a multiple of the batch size. Some samples are going to be ignored.\n"
     ]
    },
    {
     "name": "stderr",
     "output_type": "stream",
     "text": [
      "100%|██████████| 81/81 [00:04<00:00, 19.58it/s]\n"
     ]
    },
    {
     "name": "stdout",
     "output_type": "stream",
     "text": [
      "FID score: 66.94241333007812\n"
     ]
    },
    {
     "name": "stderr",
     "output_type": "stream",
     "text": [
      "sample images: 100%|██████████| 256/256 [00:05<00:00, 47.54it/s]\n"
     ]
    },
    {
     "name": "stdout",
     "output_type": "stream",
     "text": [
      "Inception score: 4.12117994370094\n",
      "----- Epoch Summary -----\n",
      "Dis Loss: -0.097094 - Gen Loss: -0.998807 - Dis LR: 8.53553e-05 - Gen LR: 8.53553e-05\n",
      "FID score: 66.94241333007812 - Inception score: 4.12117994370094 || @ epoch 76.\n",
      "Best FID score: 59.315673828125 @ epoch 67\n",
      "-----      End      -----\n",
      "\n",
      "------- Epoch  77 -------\n",
      "[Epoch 77] [Batch 100/1563] [D loss: 0.564111] [G loss: 0.335131]\n",
      "[Epoch 77] [Batch 200/1563] [D loss: 0.458483] [G loss: -1.186280]\n",
      "[Epoch 77] [Batch 300/1563] [D loss: -1.523006] [G loss: 0.683496]\n",
      "[Epoch 77] [Batch 400/1563] [D loss: -0.226052] [G loss: -0.906377]\n",
      "[Epoch 77] [Batch 500/1563] [D loss: -0.093886] [G loss: 0.257471]\n",
      "[Epoch 77] [Batch 600/1563] [D loss: -0.340550] [G loss: -0.520848]\n",
      "[Epoch 77] [Batch 700/1563] [D loss: -0.507907] [G loss: -1.401240]\n",
      "[Epoch 77] [Batch 800/1563] [D loss: -0.180650] [G loss: -1.092093]\n",
      "[Epoch 77] [Batch 900/1563] [D loss: -0.808926] [G loss: -0.713798]\n",
      "[Epoch 77] [Batch 1000/1563] [D loss: 0.687602] [G loss: -0.134910]\n",
      "[Epoch 77] [Batch 1100/1563] [D loss: 0.027965] [G loss: -0.445836]\n",
      "[Epoch 77] [Batch 1200/1563] [D loss: -0.970953] [G loss: -0.246904]\n",
      "[Epoch 77] [Batch 1300/1563] [D loss: 0.195449] [G loss: -0.285276]\n",
      "[Epoch 77] [Batch 1400/1563] [D loss: 1.369364] [G loss: -0.327500]\n",
      "[Epoch 77] [Batch 1500/1563] [D loss: -0.067181] [G loss: -0.516729]\n"
     ]
    },
    {
     "name": "stderr",
     "output_type": "stream",
     "text": [
      "sample images: 100%|██████████| 256/256 [00:05<00:00, 47.43it/s]\n"
     ]
    },
    {
     "name": "stdout",
     "output_type": "stream",
     "text": [
      "Warning: number of images is not a multiple of the batch size. Some samples are going to be ignored.\n"
     ]
    },
    {
     "name": "stderr",
     "output_type": "stream",
     "text": [
      "100%|██████████| 81/81 [00:04<00:00, 19.59it/s]\n"
     ]
    },
    {
     "name": "stdout",
     "output_type": "stream",
     "text": [
      "FID score: 59.4219970703125\n"
     ]
    },
    {
     "name": "stderr",
     "output_type": "stream",
     "text": [
      "sample images: 100%|██████████| 256/256 [00:05<00:00, 47.31it/s]\n"
     ]
    },
    {
     "name": "stdout",
     "output_type": "stream",
     "text": [
      "Inception score: 4.190008989069358\n",
      "----- Epoch Summary -----\n",
      "Dis Loss: -0.042436 - Gen Loss: -0.472684 - Dis LR: 8.49832e-05 - Gen LR: 8.49832e-05\n",
      "FID score: 59.4219970703125 - Inception score: 4.190008989069358 || @ epoch 77.\n",
      "Best FID score: 59.315673828125 @ epoch 67\n",
      "-----      End      -----\n",
      "\n",
      "------- Epoch  78 -------\n",
      "[Epoch 78] [Batch 100/1563] [D loss: -0.334431] [G loss: 0.037873]\n",
      "[Epoch 78] [Batch 200/1563] [D loss: -0.171881] [G loss: -0.644345]\n",
      "[Epoch 78] [Batch 300/1563] [D loss: -0.353574] [G loss: -0.554552]\n",
      "[Epoch 78] [Batch 400/1563] [D loss: -0.899036] [G loss: -1.352431]\n",
      "[Epoch 78] [Batch 500/1563] [D loss: 0.781378] [G loss: -1.465981]\n",
      "[Epoch 78] [Batch 600/1563] [D loss: 0.397986] [G loss: -1.422915]\n",
      "[Epoch 78] [Batch 700/1563] [D loss: 0.008923] [G loss: -2.155698]\n",
      "[Epoch 78] [Batch 800/1563] [D loss: -0.147817] [G loss: -0.940604]\n",
      "[Epoch 78] [Batch 900/1563] [D loss: -1.009162] [G loss: -1.249360]\n",
      "[Epoch 78] [Batch 1000/1563] [D loss: 0.986983] [G loss: -0.738065]\n",
      "[Epoch 78] [Batch 1100/1563] [D loss: 0.221387] [G loss: -0.144036]\n",
      "[Epoch 78] [Batch 1200/1563] [D loss: -0.414526] [G loss: -1.037946]\n",
      "[Epoch 78] [Batch 1300/1563] [D loss: 0.351502] [G loss: -0.438648]\n",
      "[Epoch 78] [Batch 1400/1563] [D loss: 1.050440] [G loss: -1.803482]\n",
      "[Epoch 78] [Batch 1500/1563] [D loss: -0.716173] [G loss: -0.191706]\n"
     ]
    },
    {
     "name": "stderr",
     "output_type": "stream",
     "text": [
      "sample images: 100%|██████████| 256/256 [00:05<00:00, 47.41it/s]\n"
     ]
    },
    {
     "name": "stdout",
     "output_type": "stream",
     "text": [
      "Warning: number of images is not a multiple of the batch size. Some samples are going to be ignored.\n"
     ]
    },
    {
     "name": "stderr",
     "output_type": "stream",
     "text": [
      "100%|██████████| 81/81 [00:04<00:00, 19.59it/s]\n"
     ]
    },
    {
     "name": "stdout",
     "output_type": "stream",
     "text": [
      "FID score: 71.31832885742188\n"
     ]
    },
    {
     "name": "stderr",
     "output_type": "stream",
     "text": [
      "sample images: 100%|██████████| 256/256 [00:05<00:00, 47.59it/s]\n"
     ]
    },
    {
     "name": "stdout",
     "output_type": "stream",
     "text": [
      "Inception score: 4.471193300174365\n",
      "----- Epoch Summary -----\n",
      "Dis Loss: -0.072837 - Gen Loss: -0.959912 - Dis LR: 8.46072e-05 - Gen LR: 8.46072e-05\n",
      "FID score: 71.31832885742188 - Inception score: 4.471193300174365 || @ epoch 78.\n",
      "Best FID score: 59.315673828125 @ epoch 67\n",
      "-----      End      -----\n",
      "\n",
      "------- Epoch  79 -------\n",
      "[Epoch 79] [Batch 100/1563] [D loss: -0.046553] [G loss: -0.858055]\n",
      "[Epoch 79] [Batch 200/1563] [D loss: -0.410305] [G loss: -0.522725]\n",
      "[Epoch 79] [Batch 300/1563] [D loss: 0.638058] [G loss: -0.562814]\n",
      "[Epoch 79] [Batch 400/1563] [D loss: 0.106778] [G loss: -1.362078]\n",
      "[Epoch 79] [Batch 500/1563] [D loss: -1.062740] [G loss: -0.815530]\n",
      "[Epoch 79] [Batch 600/1563] [D loss: -0.679890] [G loss: -1.083005]\n",
      "[Epoch 79] [Batch 700/1563] [D loss: -0.760539] [G loss: -0.838349]\n",
      "[Epoch 79] [Batch 800/1563] [D loss: -1.169909] [G loss: -1.310116]\n",
      "[Epoch 79] [Batch 900/1563] [D loss: 0.179700] [G loss: -2.818507]\n",
      "[Epoch 79] [Batch 1000/1563] [D loss: -1.191980] [G loss: -1.968827]\n",
      "[Epoch 79] [Batch 1100/1563] [D loss: 1.044521] [G loss: -0.712837]\n",
      "[Epoch 79] [Batch 1200/1563] [D loss: 0.008322] [G loss: -1.025887]\n",
      "[Epoch 79] [Batch 1300/1563] [D loss: 0.365387] [G loss: -1.636153]\n",
      "[Epoch 79] [Batch 1400/1563] [D loss: -0.803249] [G loss: -2.195749]\n",
      "[Epoch 79] [Batch 1500/1563] [D loss: -0.848270] [G loss: -0.281031]\n"
     ]
    },
    {
     "name": "stderr",
     "output_type": "stream",
     "text": [
      "sample images: 100%|██████████| 256/256 [00:05<00:00, 47.40it/s]\n"
     ]
    },
    {
     "name": "stdout",
     "output_type": "stream",
     "text": [
      "Warning: number of images is not a multiple of the batch size. Some samples are going to be ignored.\n"
     ]
    },
    {
     "name": "stderr",
     "output_type": "stream",
     "text": [
      "100%|██████████| 81/81 [00:04<00:00, 19.57it/s]\n"
     ]
    },
    {
     "name": "stdout",
     "output_type": "stream",
     "text": [
      "FID score: 58.63134765625\n"
     ]
    },
    {
     "name": "stderr",
     "output_type": "stream",
     "text": [
      "sample images: 100%|██████████| 256/256 [00:05<00:00, 47.55it/s]\n"
     ]
    },
    {
     "name": "stdout",
     "output_type": "stream",
     "text": [
      "Inception score: 4.553413005252893\n",
      "Saved Latest Model!\n",
      "----- Epoch Summary -----\n",
      "Dis Loss: -0.073601 - Gen Loss: -1.180161 - Dis LR: 8.42274e-05 - Gen LR: 8.42274e-05\n",
      "FID score: 58.63134765625 - Inception score: 4.553413005252893 || @ epoch 79.\n",
      "Best FID score: 58.63134765625 @ epoch 79\n",
      "-----      End      -----\n",
      "\n",
      "------- Epoch  80 -------\n",
      "[Epoch 80] [Batch 100/1563] [D loss: -1.161809] [G loss: -0.855202]\n",
      "[Epoch 80] [Batch 200/1563] [D loss: -0.418111] [G loss: -1.612196]\n",
      "[Epoch 80] [Batch 300/1563] [D loss: -0.040553] [G loss: -0.667591]\n",
      "[Epoch 80] [Batch 400/1563] [D loss: 1.519589] [G loss: -2.802098]\n",
      "[Epoch 80] [Batch 500/1563] [D loss: 0.074832] [G loss: -0.871223]\n",
      "[Epoch 80] [Batch 600/1563] [D loss: 1.271013] [G loss: -1.696338]\n",
      "[Epoch 80] [Batch 700/1563] [D loss: 0.235872] [G loss: -0.732641]\n",
      "[Epoch 80] [Batch 800/1563] [D loss: -1.079799] [G loss: -0.940804]\n",
      "[Epoch 80] [Batch 900/1563] [D loss: -1.244904] [G loss: -1.823911]\n",
      "[Epoch 80] [Batch 1000/1563] [D loss: -0.614666] [G loss: -2.358758]\n",
      "[Epoch 80] [Batch 1100/1563] [D loss: -1.339824] [G loss: -2.234951]\n",
      "[Epoch 80] [Batch 1200/1563] [D loss: -0.452221] [G loss: -1.407634]\n",
      "[Epoch 80] [Batch 1300/1563] [D loss: 0.298722] [G loss: -2.006757]\n",
      "[Epoch 80] [Batch 1400/1563] [D loss: 1.049102] [G loss: -2.134569]\n",
      "[Epoch 80] [Batch 1500/1563] [D loss: -0.702682] [G loss: -3.154883]\n"
     ]
    },
    {
     "name": "stderr",
     "output_type": "stream",
     "text": [
      "sample images: 100%|██████████| 256/256 [00:05<00:00, 47.40it/s]\n"
     ]
    },
    {
     "name": "stdout",
     "output_type": "stream",
     "text": [
      "Warning: number of images is not a multiple of the batch size. Some samples are going to be ignored.\n"
     ]
    },
    {
     "name": "stderr",
     "output_type": "stream",
     "text": [
      "100%|██████████| 81/81 [00:04<00:00, 19.60it/s]\n"
     ]
    },
    {
     "name": "stdout",
     "output_type": "stream",
     "text": [
      "FID score: 63.3746337890625\n"
     ]
    },
    {
     "name": "stderr",
     "output_type": "stream",
     "text": [
      "sample images: 100%|██████████| 256/256 [00:05<00:00, 47.51it/s]\n"
     ]
    },
    {
     "name": "stdout",
     "output_type": "stream",
     "text": [
      "Inception score: 4.5532551113239546\n",
      "----- Epoch Summary -----\n",
      "Dis Loss: -0.091111 - Gen Loss: -1.684012 - Dis LR: 8.38438e-05 - Gen LR: 8.38438e-05\n",
      "FID score: 63.3746337890625 - Inception score: 4.5532551113239546 || @ epoch 80.\n",
      "Best FID score: 58.63134765625 @ epoch 79\n",
      "-----      End      -----\n",
      "\n",
      "------- Epoch  81 -------\n",
      "[Epoch 81] [Batch 0/1563] [D loss: -0.857543] [G loss: -2.882144]\n",
      "[Epoch 81] [Batch 100/1563] [D loss: -0.067067] [G loss: -2.078077]\n",
      "[Epoch 81] [Batch 200/1563] [D loss: 1.055148] [G loss: -0.496624]\n",
      "[Epoch 81] [Batch 300/1563] [D loss: -0.694010] [G loss: -0.023126]\n",
      "[Epoch 81] [Batch 400/1563] [D loss: 0.019991] [G loss: -1.364525]\n",
      "[Epoch 81] [Batch 500/1563] [D loss: 0.297826] [G loss: -0.810996]\n",
      "[Epoch 81] [Batch 600/1563] [D loss: -0.763999] [G loss: -1.308315]\n",
      "[Epoch 81] [Batch 700/1563] [D loss: 0.065522] [G loss: -1.558908]\n",
      "[Epoch 81] [Batch 800/1563] [D loss: 0.124064] [G loss: -1.127835]\n",
      "[Epoch 81] [Batch 900/1563] [D loss: -0.823120] [G loss: -2.337786]\n",
      "[Epoch 81] [Batch 1000/1563] [D loss: -2.044796] [G loss: -0.975098]\n",
      "[Epoch 81] [Batch 1100/1563] [D loss: 0.472168] [G loss: -1.426036]\n",
      "[Epoch 81] [Batch 1200/1563] [D loss: -0.525169] [G loss: -0.190412]\n",
      "[Epoch 81] [Batch 1300/1563] [D loss: -1.431963] [G loss: -0.452341]\n",
      "[Epoch 81] [Batch 1400/1563] [D loss: 1.517538] [G loss: -1.114523]\n",
      "[Epoch 81] [Batch 1500/1563] [D loss: 0.075739] [G loss: -0.598296]\n"
     ]
    },
    {
     "name": "stderr",
     "output_type": "stream",
     "text": [
      "sample images: 100%|██████████| 256/256 [00:05<00:00, 47.37it/s]\n"
     ]
    },
    {
     "name": "stdout",
     "output_type": "stream",
     "text": [
      "Warning: number of images is not a multiple of the batch size. Some samples are going to be ignored.\n"
     ]
    },
    {
     "name": "stderr",
     "output_type": "stream",
     "text": [
      "100%|██████████| 81/81 [00:04<00:00, 19.58it/s]\n"
     ]
    },
    {
     "name": "stdout",
     "output_type": "stream",
     "text": [
      "FID score: 58.5980224609375\n"
     ]
    },
    {
     "name": "stderr",
     "output_type": "stream",
     "text": [
      "sample images: 100%|██████████| 256/256 [00:05<00:00, 47.35it/s]\n"
     ]
    },
    {
     "name": "stdout",
     "output_type": "stream",
     "text": [
      "Inception score: 4.720996222577048\n",
      "Saved Latest Model!\n",
      "----- Epoch Summary -----\n",
      "Dis Loss: -0.066023 - Gen Loss: -1.374882 - Dis LR: 8.34565e-05 - Gen LR: 8.34565e-05\n",
      "FID score: 58.5980224609375 - Inception score: 4.720996222577048 || @ epoch 81.\n",
      "Best FID score: 58.5980224609375 @ epoch 81\n",
      "-----      End      -----\n",
      "\n",
      "------- Epoch  82 -------\n",
      "[Epoch 82] [Batch 100/1563] [D loss: -0.780450] [G loss: -0.613573]\n",
      "[Epoch 82] [Batch 200/1563] [D loss: -0.462473] [G loss: -1.201346]\n",
      "[Epoch 82] [Batch 300/1563] [D loss: 0.929511] [G loss: -1.664497]\n",
      "[Epoch 82] [Batch 400/1563] [D loss: -0.499805] [G loss: -1.274299]\n",
      "[Epoch 82] [Batch 500/1563] [D loss: -0.178962] [G loss: -1.802073]\n",
      "[Epoch 82] [Batch 600/1563] [D loss: -1.258881] [G loss: -1.948031]\n",
      "[Epoch 82] [Batch 700/1563] [D loss: -0.699204] [G loss: -1.154376]\n",
      "[Epoch 82] [Batch 800/1563] [D loss: -1.377590] [G loss: -0.885617]\n",
      "[Epoch 82] [Batch 900/1563] [D loss: 0.359994] [G loss: -2.200137]\n",
      "[Epoch 82] [Batch 1000/1563] [D loss: -0.521370] [G loss: -1.531965]\n",
      "[Epoch 82] [Batch 1100/1563] [D loss: -0.090932] [G loss: -1.273114]\n",
      "[Epoch 82] [Batch 1200/1563] [D loss: -0.630189] [G loss: -0.973658]\n",
      "[Epoch 82] [Batch 1300/1563] [D loss: -0.607933] [G loss: -1.485705]\n",
      "[Epoch 82] [Batch 1400/1563] [D loss: -0.118341] [G loss: -1.497212]\n",
      "[Epoch 82] [Batch 1500/1563] [D loss: 0.366245] [G loss: -1.723570]\n"
     ]
    },
    {
     "name": "stderr",
     "output_type": "stream",
     "text": [
      "sample images: 100%|██████████| 256/256 [00:05<00:00, 47.48it/s]\n"
     ]
    },
    {
     "name": "stdout",
     "output_type": "stream",
     "text": [
      "Warning: number of images is not a multiple of the batch size. Some samples are going to be ignored.\n"
     ]
    },
    {
     "name": "stderr",
     "output_type": "stream",
     "text": [
      "100%|██████████| 81/81 [00:04<00:00, 19.60it/s]\n"
     ]
    },
    {
     "name": "stdout",
     "output_type": "stream",
     "text": [
      "FID score: 64.631591796875\n"
     ]
    },
    {
     "name": "stderr",
     "output_type": "stream",
     "text": [
      "sample images: 100%|██████████| 256/256 [00:05<00:00, 47.56it/s]\n"
     ]
    },
    {
     "name": "stdout",
     "output_type": "stream",
     "text": [
      "Inception score: 4.623617515533279\n",
      "----- Epoch Summary -----\n",
      "Dis Loss: -0.065155 - Gen Loss: -1.324526 - Dis LR: 8.30656e-05 - Gen LR: 8.30656e-05\n",
      "FID score: 64.631591796875 - Inception score: 4.623617515533279 || @ epoch 82.\n",
      "Best FID score: 58.5980224609375 @ epoch 81\n",
      "-----      End      -----\n",
      "\n",
      "------- Epoch  83 -------\n",
      "[Epoch 83] [Batch 100/1563] [D loss: 1.729109] [G loss: -2.222553]\n",
      "[Epoch 83] [Batch 200/1563] [D loss: -0.157892] [G loss: -0.310290]\n",
      "[Epoch 83] [Batch 300/1563] [D loss: -1.033606] [G loss: -0.611022]\n",
      "[Epoch 83] [Batch 400/1563] [D loss: 1.222951] [G loss: -2.005073]\n",
      "[Epoch 83] [Batch 500/1563] [D loss: -0.919372] [G loss: -0.391573]\n",
      "[Epoch 83] [Batch 600/1563] [D loss: -0.111435] [G loss: -0.502581]\n",
      "[Epoch 83] [Batch 700/1563] [D loss: -0.117521] [G loss: -0.527373]\n",
      "[Epoch 83] [Batch 800/1563] [D loss: -0.084790] [G loss: 0.206760]\n",
      "[Epoch 83] [Batch 900/1563] [D loss: 0.476074] [G loss: 0.068897]\n",
      "[Epoch 83] [Batch 1000/1563] [D loss: -0.617052] [G loss: -0.342388]\n",
      "[Epoch 83] [Batch 1100/1563] [D loss: -0.462992] [G loss: -0.047882]\n",
      "[Epoch 83] [Batch 1200/1563] [D loss: -0.304094] [G loss: -1.833274]\n",
      "[Epoch 83] [Batch 1300/1563] [D loss: 0.079527] [G loss: -2.548707]\n",
      "[Epoch 83] [Batch 1400/1563] [D loss: -0.086233] [G loss: -1.749732]\n",
      "[Epoch 83] [Batch 1500/1563] [D loss: -0.670085] [G loss: -1.716164]\n"
     ]
    },
    {
     "name": "stderr",
     "output_type": "stream",
     "text": [
      "sample images: 100%|██████████| 256/256 [00:05<00:00, 47.39it/s]\n"
     ]
    },
    {
     "name": "stdout",
     "output_type": "stream",
     "text": [
      "Warning: number of images is not a multiple of the batch size. Some samples are going to be ignored.\n"
     ]
    },
    {
     "name": "stderr",
     "output_type": "stream",
     "text": [
      "100%|██████████| 81/81 [00:04<00:00, 19.54it/s]\n"
     ]
    },
    {
     "name": "stdout",
     "output_type": "stream",
     "text": [
      "FID score: 66.744873046875\n"
     ]
    },
    {
     "name": "stderr",
     "output_type": "stream",
     "text": [
      "sample images: 100%|██████████| 256/256 [00:05<00:00, 47.55it/s]\n"
     ]
    },
    {
     "name": "stdout",
     "output_type": "stream",
     "text": [
      "Inception score: 4.664006749153085\n",
      "----- Epoch Summary -----\n",
      "Dis Loss: -0.042891 - Gen Loss: -1.209431 - Dis LR: 8.2671e-05 - Gen LR: 8.2671e-05\n",
      "FID score: 66.744873046875 - Inception score: 4.664006749153085 || @ epoch 83.\n",
      "Best FID score: 58.5980224609375 @ epoch 81\n",
      "-----      End      -----\n",
      "\n",
      "------- Epoch  84 -------\n",
      "[Epoch 84] [Batch 100/1563] [D loss: -1.645228] [G loss: -2.206619]\n",
      "[Epoch 84] [Batch 200/1563] [D loss: -0.502144] [G loss: -1.922261]\n",
      "[Epoch 84] [Batch 300/1563] [D loss: -0.178464] [G loss: -1.177700]\n",
      "[Epoch 84] [Batch 400/1563] [D loss: -0.670503] [G loss: -1.071099]\n",
      "[Epoch 84] [Batch 500/1563] [D loss: -0.372191] [G loss: -1.368814]\n",
      "[Epoch 84] [Batch 600/1563] [D loss: -0.729211] [G loss: -0.871727]\n",
      "[Epoch 84] [Batch 700/1563] [D loss: -0.634458] [G loss: -1.218741]\n",
      "[Epoch 84] [Batch 800/1563] [D loss: 0.384489] [G loss: -0.881596]\n",
      "[Epoch 84] [Batch 900/1563] [D loss: 0.469754] [G loss: 0.236572]\n",
      "[Epoch 84] [Batch 1000/1563] [D loss: 0.672670] [G loss: -0.194309]\n",
      "[Epoch 84] [Batch 1100/1563] [D loss: -0.054624] [G loss: -0.699082]\n",
      "[Epoch 84] [Batch 1200/1563] [D loss: -0.044716] [G loss: -1.668125]\n",
      "[Epoch 84] [Batch 1300/1563] [D loss: 0.592651] [G loss: -2.372702]\n",
      "[Epoch 84] [Batch 1400/1563] [D loss: -0.412221] [G loss: -1.207928]\n",
      "[Epoch 84] [Batch 1500/1563] [D loss: 1.166000] [G loss: 0.714900]\n"
     ]
    },
    {
     "name": "stderr",
     "output_type": "stream",
     "text": [
      "sample images: 100%|██████████| 256/256 [00:05<00:00, 47.42it/s]\n"
     ]
    },
    {
     "name": "stdout",
     "output_type": "stream",
     "text": [
      "Warning: number of images is not a multiple of the batch size. Some samples are going to be ignored.\n"
     ]
    },
    {
     "name": "stderr",
     "output_type": "stream",
     "text": [
      "100%|██████████| 81/81 [00:04<00:00, 19.52it/s]\n"
     ]
    },
    {
     "name": "stdout",
     "output_type": "stream",
     "text": [
      "FID score: 63.826416015625\n"
     ]
    },
    {
     "name": "stderr",
     "output_type": "stream",
     "text": [
      "sample images: 100%|██████████| 256/256 [00:05<00:00, 47.59it/s]\n"
     ]
    },
    {
     "name": "stdout",
     "output_type": "stream",
     "text": [
      "Inception score: 4.7022766066943475\n",
      "----- Epoch Summary -----\n",
      "Dis Loss: -0.070785 - Gen Loss: -1.119860 - Dis LR: 8.22729e-05 - Gen LR: 8.22729e-05\n",
      "FID score: 63.826416015625 - Inception score: 4.7022766066943475 || @ epoch 84.\n",
      "Best FID score: 58.5980224609375 @ epoch 81\n",
      "-----      End      -----\n",
      "\n",
      "------- Epoch  85 -------\n",
      "[Epoch 85] [Batch 100/1563] [D loss: 1.090383] [G loss: -0.531757]\n",
      "[Epoch 85] [Batch 200/1563] [D loss: -0.644915] [G loss: -1.491718]\n",
      "[Epoch 85] [Batch 300/1563] [D loss: -0.239113] [G loss: -0.726910]\n",
      "[Epoch 85] [Batch 400/1563] [D loss: 0.502771] [G loss: -0.770956]\n",
      "[Epoch 85] [Batch 500/1563] [D loss: -0.051444] [G loss: -1.934959]\n",
      "[Epoch 85] [Batch 600/1563] [D loss: -0.747368] [G loss: -1.044639]\n",
      "[Epoch 85] [Batch 700/1563] [D loss: -0.520685] [G loss: -2.286283]\n",
      "[Epoch 85] [Batch 800/1563] [D loss: 0.148074] [G loss: -1.518867]\n",
      "[Epoch 85] [Batch 900/1563] [D loss: -1.797350] [G loss: -0.840366]\n",
      "[Epoch 85] [Batch 1000/1563] [D loss: -0.088994] [G loss: -1.716926]\n",
      "[Epoch 85] [Batch 1100/1563] [D loss: 1.852125] [G loss: -1.634812]\n",
      "[Epoch 85] [Batch 1200/1563] [D loss: -1.722967] [G loss: -1.725107]\n",
      "[Epoch 85] [Batch 1300/1563] [D loss: -0.891869] [G loss: -1.223533]\n",
      "[Epoch 85] [Batch 1400/1563] [D loss: 0.549083] [G loss: -0.864378]\n",
      "[Epoch 85] [Batch 1500/1563] [D loss: -1.434378] [G loss: -2.520554]\n"
     ]
    },
    {
     "name": "stderr",
     "output_type": "stream",
     "text": [
      "sample images: 100%|██████████| 256/256 [00:05<00:00, 47.36it/s]\n"
     ]
    },
    {
     "name": "stdout",
     "output_type": "stream",
     "text": [
      "Warning: number of images is not a multiple of the batch size. Some samples are going to be ignored.\n"
     ]
    },
    {
     "name": "stderr",
     "output_type": "stream",
     "text": [
      "100%|██████████| 81/81 [00:04<00:00, 19.56it/s]\n"
     ]
    },
    {
     "name": "stdout",
     "output_type": "stream",
     "text": [
      "FID score: 64.26287841796875\n"
     ]
    },
    {
     "name": "stderr",
     "output_type": "stream",
     "text": [
      "sample images: 100%|██████████| 256/256 [00:05<00:00, 47.49it/s]\n"
     ]
    },
    {
     "name": "stdout",
     "output_type": "stream",
     "text": [
      "Inception score: 4.588523945390756\n",
      "----- Epoch Summary -----\n",
      "Dis Loss: -0.071163 - Gen Loss: -1.261103 - Dis LR: 8.18712e-05 - Gen LR: 8.18712e-05\n",
      "FID score: 64.26287841796875 - Inception score: 4.588523945390756 || @ epoch 85.\n",
      "Best FID score: 58.5980224609375 @ epoch 81\n",
      "-----      End      -----\n",
      "\n",
      "------- Epoch  86 -------\n",
      "[Epoch 86] [Batch 0/1563] [D loss: 1.141443] [G loss: -0.654300]\n",
      "[Epoch 86] [Batch 100/1563] [D loss: 0.771132] [G loss: -1.627362]\n",
      "[Epoch 86] [Batch 200/1563] [D loss: 0.388764] [G loss: -0.485262]\n",
      "[Epoch 86] [Batch 300/1563] [D loss: 0.028591] [G loss: -0.527756]\n",
      "[Epoch 86] [Batch 400/1563] [D loss: 0.840304] [G loss: -0.721661]\n",
      "[Epoch 86] [Batch 500/1563] [D loss: -1.058041] [G loss: 0.185977]\n",
      "[Epoch 86] [Batch 600/1563] [D loss: 0.250828] [G loss: -1.083015]\n",
      "[Epoch 86] [Batch 700/1563] [D loss: 1.003942] [G loss: -1.090180]\n",
      "[Epoch 86] [Batch 800/1563] [D loss: -0.161963] [G loss: -0.793034]\n",
      "[Epoch 86] [Batch 900/1563] [D loss: -1.180935] [G loss: -1.517764]\n",
      "[Epoch 86] [Batch 1000/1563] [D loss: 0.299938] [G loss: -1.426311]\n",
      "[Epoch 86] [Batch 1100/1563] [D loss: -0.824309] [G loss: -2.600276]\n",
      "[Epoch 86] [Batch 1200/1563] [D loss: 0.321040] [G loss: -0.882861]\n",
      "[Epoch 86] [Batch 1300/1563] [D loss: -1.010158] [G loss: -3.076369]\n",
      "[Epoch 86] [Batch 1400/1563] [D loss: -0.814579] [G loss: -1.880017]\n",
      "[Epoch 86] [Batch 1500/1563] [D loss: -1.705935] [G loss: -1.367051]\n"
     ]
    },
    {
     "name": "stderr",
     "output_type": "stream",
     "text": [
      "sample images: 100%|██████████| 256/256 [00:05<00:00, 47.52it/s]\n"
     ]
    },
    {
     "name": "stdout",
     "output_type": "stream",
     "text": [
      "Warning: number of images is not a multiple of the batch size. Some samples are going to be ignored.\n"
     ]
    },
    {
     "name": "stderr",
     "output_type": "stream",
     "text": [
      "100%|██████████| 81/81 [00:04<00:00, 19.59it/s]\n"
     ]
    },
    {
     "name": "stdout",
     "output_type": "stream",
     "text": [
      "FID score: 64.73922729492188\n"
     ]
    },
    {
     "name": "stderr",
     "output_type": "stream",
     "text": [
      "sample images: 100%|██████████| 256/256 [00:05<00:00, 47.47it/s]\n"
     ]
    },
    {
     "name": "stdout",
     "output_type": "stream",
     "text": [
      "Inception score: 4.560375937433225\n",
      "----- Epoch Summary -----\n",
      "Dis Loss: -0.072407 - Gen Loss: -1.267107 - Dis LR: 8.1466e-05 - Gen LR: 8.1466e-05\n",
      "FID score: 64.73922729492188 - Inception score: 4.560375937433225 || @ epoch 86.\n",
      "Best FID score: 58.5980224609375 @ epoch 81\n",
      "-----      End      -----\n",
      "\n",
      "------- Epoch  87 -------\n",
      "[Epoch 87] [Batch 100/1563] [D loss: -0.186499] [G loss: -2.328231]\n",
      "[Epoch 87] [Batch 200/1563] [D loss: -0.355661] [G loss: -2.805071]\n",
      "[Epoch 87] [Batch 300/1563] [D loss: 1.689312] [G loss: -1.588861]\n",
      "[Epoch 87] [Batch 400/1563] [D loss: 0.068325] [G loss: -1.947555]\n",
      "[Epoch 87] [Batch 500/1563] [D loss: 0.392014] [G loss: -1.580715]\n",
      "[Epoch 87] [Batch 600/1563] [D loss: -0.356172] [G loss: -2.348204]\n",
      "[Epoch 87] [Batch 700/1563] [D loss: 0.033032] [G loss: -2.001616]\n",
      "[Epoch 87] [Batch 800/1563] [D loss: -0.596737] [G loss: -2.104049]\n",
      "[Epoch 87] [Batch 900/1563] [D loss: -1.000696] [G loss: -1.552604]\n",
      "[Epoch 87] [Batch 1000/1563] [D loss: 0.732573] [G loss: -1.592962]\n",
      "[Epoch 87] [Batch 1100/1563] [D loss: -1.150570] [G loss: -3.717746]\n",
      "[Epoch 87] [Batch 1200/1563] [D loss: -0.868722] [G loss: -2.940932]\n",
      "[Epoch 87] [Batch 1300/1563] [D loss: 0.995061] [G loss: -1.927961]\n",
      "[Epoch 87] [Batch 1400/1563] [D loss: -0.296314] [G loss: -3.672464]\n",
      "[Epoch 87] [Batch 1500/1563] [D loss: 0.170289] [G loss: -2.252494]\n"
     ]
    },
    {
     "name": "stderr",
     "output_type": "stream",
     "text": [
      "sample images: 100%|██████████| 256/256 [00:05<00:00, 47.47it/s]\n"
     ]
    },
    {
     "name": "stdout",
     "output_type": "stream",
     "text": [
      "Warning: number of images is not a multiple of the batch size. Some samples are going to be ignored.\n"
     ]
    },
    {
     "name": "stderr",
     "output_type": "stream",
     "text": [
      "100%|██████████| 81/81 [00:04<00:00, 19.57it/s]\n"
     ]
    },
    {
     "name": "stdout",
     "output_type": "stream",
     "text": [
      "FID score: 55.94329833984375\n"
     ]
    },
    {
     "name": "stderr",
     "output_type": "stream",
     "text": [
      "sample images: 100%|██████████| 256/256 [00:05<00:00, 47.50it/s]\n"
     ]
    },
    {
     "name": "stdout",
     "output_type": "stream",
     "text": [
      "Inception score: 4.657728758624293\n",
      "Saved Latest Model!\n",
      "----- Epoch Summary -----\n",
      "Dis Loss: -0.024447 - Gen Loss: -2.042747 - Dis LR: 8.10574e-05 - Gen LR: 8.10574e-05\n",
      "FID score: 55.94329833984375 - Inception score: 4.657728758624293 || @ epoch 87.\n",
      "Best FID score: 55.94329833984375 @ epoch 87\n",
      "-----      End      -----\n",
      "\n",
      "------- Epoch  88 -------\n",
      "[Epoch 88] [Batch 100/1563] [D loss: -0.658062] [G loss: -2.227502]\n",
      "[Epoch 88] [Batch 200/1563] [D loss: -1.160789] [G loss: -2.421855]\n",
      "[Epoch 88] [Batch 300/1563] [D loss: -0.014596] [G loss: -1.027494]\n",
      "[Epoch 88] [Batch 400/1563] [D loss: 0.319860] [G loss: -1.879653]\n",
      "[Epoch 88] [Batch 500/1563] [D loss: -0.006803] [G loss: -1.649730]\n",
      "[Epoch 88] [Batch 600/1563] [D loss: 0.312516] [G loss: -1.820531]\n",
      "[Epoch 88] [Batch 700/1563] [D loss: -0.145761] [G loss: -1.639039]\n",
      "[Epoch 88] [Batch 800/1563] [D loss: 0.483117] [G loss: -1.820668]\n",
      "[Epoch 88] [Batch 900/1563] [D loss: 0.319667] [G loss: -1.153816]\n",
      "[Epoch 88] [Batch 1000/1563] [D loss: -0.450474] [G loss: -1.164306]\n",
      "[Epoch 88] [Batch 1100/1563] [D loss: -0.739644] [G loss: -0.719884]\n",
      "[Epoch 88] [Batch 1200/1563] [D loss: 0.554983] [G loss: -0.509017]\n",
      "[Epoch 88] [Batch 1300/1563] [D loss: -0.338630] [G loss: -1.440989]\n",
      "[Epoch 88] [Batch 1400/1563] [D loss: -0.527168] [G loss: -1.032980]\n",
      "[Epoch 88] [Batch 1500/1563] [D loss: -1.048670] [G loss: -0.590183]\n"
     ]
    },
    {
     "name": "stderr",
     "output_type": "stream",
     "text": [
      "sample images: 100%|██████████| 256/256 [00:05<00:00, 47.35it/s]\n"
     ]
    },
    {
     "name": "stdout",
     "output_type": "stream",
     "text": [
      "Warning: number of images is not a multiple of the batch size. Some samples are going to be ignored.\n"
     ]
    },
    {
     "name": "stderr",
     "output_type": "stream",
     "text": [
      "100%|██████████| 81/81 [00:04<00:00, 19.56it/s]\n"
     ]
    },
    {
     "name": "stdout",
     "output_type": "stream",
     "text": [
      "FID score: 63.0008544921875\n"
     ]
    },
    {
     "name": "stderr",
     "output_type": "stream",
     "text": [
      "sample images: 100%|██████████| 256/256 [00:05<00:00, 47.52it/s]\n"
     ]
    },
    {
     "name": "stdout",
     "output_type": "stream",
     "text": [
      "Inception score: 4.794589426676784\n",
      "----- Epoch Summary -----\n",
      "Dis Loss: -0.085396 - Gen Loss: -1.662109 - Dis LR: 8.06454e-05 - Gen LR: 8.06454e-05\n",
      "FID score: 63.0008544921875 - Inception score: 4.794589426676784 || @ epoch 88.\n",
      "Best FID score: 55.94329833984375 @ epoch 87\n",
      "-----      End      -----\n",
      "\n",
      "------- Epoch  89 -------\n",
      "[Epoch 89] [Batch 100/1563] [D loss: 0.711282] [G loss: -2.106597]\n",
      "[Epoch 89] [Batch 200/1563] [D loss: 1.079690] [G loss: -2.412653]\n",
      "[Epoch 89] [Batch 300/1563] [D loss: -0.755768] [G loss: -0.751822]\n",
      "[Epoch 89] [Batch 400/1563] [D loss: 0.196139] [G loss: -1.953022]\n",
      "[Epoch 89] [Batch 500/1563] [D loss: -1.388122] [G loss: -1.661999]\n",
      "[Epoch 89] [Batch 600/1563] [D loss: -1.013511] [G loss: -1.314085]\n",
      "[Epoch 89] [Batch 700/1563] [D loss: -1.287089] [G loss: -0.427427]\n",
      "[Epoch 89] [Batch 800/1563] [D loss: -0.058992] [G loss: -0.268386]\n",
      "[Epoch 89] [Batch 900/1563] [D loss: -1.110057] [G loss: -1.575277]\n",
      "[Epoch 89] [Batch 1000/1563] [D loss: 0.933000] [G loss: -2.061078]\n",
      "[Epoch 89] [Batch 1100/1563] [D loss: -0.595074] [G loss: -3.101660]\n",
      "[Epoch 89] [Batch 1200/1563] [D loss: -0.033818] [G loss: -0.702627]\n",
      "[Epoch 89] [Batch 1300/1563] [D loss: 0.069894] [G loss: -1.728025]\n",
      "[Epoch 89] [Batch 1400/1563] [D loss: 0.357019] [G loss: -1.944925]\n",
      "[Epoch 89] [Batch 1500/1563] [D loss: 1.684259] [G loss: -2.113416]\n"
     ]
    },
    {
     "name": "stderr",
     "output_type": "stream",
     "text": [
      "sample images: 100%|██████████| 256/256 [00:05<00:00, 47.40it/s]\n"
     ]
    },
    {
     "name": "stdout",
     "output_type": "stream",
     "text": [
      "Warning: number of images is not a multiple of the batch size. Some samples are going to be ignored.\n"
     ]
    },
    {
     "name": "stderr",
     "output_type": "stream",
     "text": [
      "100%|██████████| 81/81 [00:04<00:00, 19.54it/s]\n"
     ]
    },
    {
     "name": "stdout",
     "output_type": "stream",
     "text": [
      "FID score: nan\n"
     ]
    },
    {
     "name": "stderr",
     "output_type": "stream",
     "text": [
      "sample images: 100%|██████████| 256/256 [00:05<00:00, 47.45it/s]\n",
      "WARNING:root:NaN or Inf found in input tensor.\n"
     ]
    },
    {
     "name": "stdout",
     "output_type": "stream",
     "text": [
      "Inception score: 4.571940687653701\n",
      "----- Epoch Summary -----\n",
      "Dis Loss: -0.059530 - Gen Loss: -1.564293 - Dis LR: 8.023e-05 - Gen LR: 8.023e-05\n",
      "FID score: nan - Inception score: 4.571940687653701 || @ epoch 89.\n",
      "Best FID score: 55.94329833984375 @ epoch 87\n",
      "-----      End      -----\n",
      "\n",
      "------- Epoch  90 -------\n",
      "[Epoch 90] [Batch 100/1563] [D loss: -1.111097] [G loss: -2.602133]\n",
      "[Epoch 90] [Batch 200/1563] [D loss: -2.440144] [G loss: -1.766579]\n",
      "[Epoch 90] [Batch 300/1563] [D loss: -0.452423] [G loss: -1.780351]\n",
      "[Epoch 90] [Batch 400/1563] [D loss: -0.072185] [G loss: -1.371970]\n",
      "[Epoch 90] [Batch 500/1563] [D loss: 0.242715] [G loss: -2.712130]\n",
      "[Epoch 90] [Batch 600/1563] [D loss: 1.170379] [G loss: -1.167883]\n",
      "[Epoch 90] [Batch 700/1563] [D loss: -1.268381] [G loss: -2.618430]\n",
      "[Epoch 90] [Batch 800/1563] [D loss: 0.588922] [G loss: -1.308274]\n",
      "[Epoch 90] [Batch 900/1563] [D loss: -0.617784] [G loss: -0.602644]\n",
      "[Epoch 90] [Batch 1000/1563] [D loss: 1.096285] [G loss: -1.059555]\n",
      "[Epoch 90] [Batch 1100/1563] [D loss: -0.345073] [G loss: -1.136372]\n",
      "[Epoch 90] [Batch 1200/1563] [D loss: 0.578313] [G loss: -1.470771]\n",
      "[Epoch 90] [Batch 1300/1563] [D loss: -1.323867] [G loss: -2.207319]\n",
      "[Epoch 90] [Batch 1400/1563] [D loss: -0.322561] [G loss: -1.936970]\n",
      "[Epoch 90] [Batch 1500/1563] [D loss: 0.936726] [G loss: -1.600324]\n"
     ]
    },
    {
     "name": "stderr",
     "output_type": "stream",
     "text": [
      "sample images: 100%|██████████| 256/256 [00:05<00:00, 47.20it/s]\n"
     ]
    },
    {
     "name": "stdout",
     "output_type": "stream",
     "text": [
      "Warning: number of images is not a multiple of the batch size. Some samples are going to be ignored.\n"
     ]
    },
    {
     "name": "stderr",
     "output_type": "stream",
     "text": [
      "100%|██████████| 81/81 [00:04<00:00, 19.54it/s]\n"
     ]
    },
    {
     "name": "stdout",
     "output_type": "stream",
     "text": [
      "FID score: 64.03421020507812\n"
     ]
    },
    {
     "name": "stderr",
     "output_type": "stream",
     "text": [
      "sample images: 100%|██████████| 256/256 [00:05<00:00, 47.48it/s]\n"
     ]
    },
    {
     "name": "stdout",
     "output_type": "stream",
     "text": [
      "Inception score: 4.440411911306473\n",
      "----- Epoch Summary -----\n",
      "Dis Loss: -0.007573 - Gen Loss: -1.621548 - Dis LR: 7.98112e-05 - Gen LR: 7.98112e-05\n",
      "FID score: 64.03421020507812 - Inception score: 4.440411911306473 || @ epoch 90.\n",
      "Best FID score: 55.94329833984375 @ epoch 87\n",
      "-----      End      -----\n",
      "\n",
      "------- Epoch  91 -------\n",
      "[Epoch 91] [Batch 0/1563] [D loss: 0.843603] [G loss: -2.040157]\n",
      "[Epoch 91] [Batch 100/1563] [D loss: 2.460496] [G loss: -1.403250]\n",
      "[Epoch 91] [Batch 200/1563] [D loss: -0.336582] [G loss: -1.309995]\n",
      "[Epoch 91] [Batch 300/1563] [D loss: -0.650197] [G loss: -1.777224]\n",
      "[Epoch 91] [Batch 400/1563] [D loss: 0.178559] [G loss: -0.869070]\n",
      "[Epoch 91] [Batch 500/1563] [D loss: -0.322069] [G loss: -2.515036]\n",
      "[Epoch 91] [Batch 600/1563] [D loss: -0.750504] [G loss: -2.176558]\n",
      "[Epoch 91] [Batch 700/1563] [D loss: -0.414034] [G loss: -1.593109]\n",
      "[Epoch 91] [Batch 800/1563] [D loss: -0.962217] [G loss: -2.833892]\n",
      "[Epoch 91] [Batch 900/1563] [D loss: 0.413314] [G loss: -0.926964]\n",
      "[Epoch 91] [Batch 1000/1563] [D loss: -1.302401] [G loss: -2.937820]\n",
      "[Epoch 91] [Batch 1100/1563] [D loss: 0.712653] [G loss: -2.450281]\n",
      "[Epoch 91] [Batch 1200/1563] [D loss: -0.449200] [G loss: -1.902895]\n",
      "[Epoch 91] [Batch 1300/1563] [D loss: -0.865025] [G loss: -1.782588]\n",
      "[Epoch 91] [Batch 1400/1563] [D loss: -0.526104] [G loss: -2.272685]\n",
      "[Epoch 91] [Batch 1500/1563] [D loss: -0.193630] [G loss: -1.711756]\n"
     ]
    },
    {
     "name": "stderr",
     "output_type": "stream",
     "text": [
      "sample images: 100%|██████████| 256/256 [00:05<00:00, 47.43it/s]\n"
     ]
    },
    {
     "name": "stdout",
     "output_type": "stream",
     "text": [
      "Warning: number of images is not a multiple of the batch size. Some samples are going to be ignored.\n"
     ]
    },
    {
     "name": "stderr",
     "output_type": "stream",
     "text": [
      "100%|██████████| 81/81 [00:04<00:00, 19.56it/s]\n"
     ]
    },
    {
     "name": "stdout",
     "output_type": "stream",
     "text": [
      "FID score: 60.3890380859375\n"
     ]
    },
    {
     "name": "stderr",
     "output_type": "stream",
     "text": [
      "sample images: 100%|██████████| 256/256 [00:05<00:00, 47.54it/s]\n"
     ]
    },
    {
     "name": "stdout",
     "output_type": "stream",
     "text": [
      "Inception score: 4.556081967145854\n",
      "----- Epoch Summary -----\n",
      "Dis Loss: -0.091098 - Gen Loss: -1.762103 - Dis LR: 7.93893e-05 - Gen LR: 7.93893e-05\n",
      "FID score: 60.3890380859375 - Inception score: 4.556081967145854 || @ epoch 91.\n",
      "Best FID score: 55.94329833984375 @ epoch 87\n",
      "-----      End      -----\n",
      "\n",
      "------- Epoch  92 -------\n",
      "[Epoch 92] [Batch 100/1563] [D loss: 0.953483] [G loss: -3.175006]\n",
      "[Epoch 92] [Batch 200/1563] [D loss: 0.332624] [G loss: -2.063725]\n",
      "[Epoch 92] [Batch 300/1563] [D loss: -1.188008] [G loss: -3.706530]\n",
      "[Epoch 92] [Batch 400/1563] [D loss: 1.085642] [G loss: -2.954018]\n",
      "[Epoch 92] [Batch 500/1563] [D loss: -0.193188] [G loss: -1.695202]\n",
      "[Epoch 92] [Batch 600/1563] [D loss: -0.908435] [G loss: -1.715420]\n",
      "[Epoch 92] [Batch 700/1563] [D loss: -0.389966] [G loss: -2.041281]\n",
      "[Epoch 92] [Batch 800/1563] [D loss: 0.322913] [G loss: -1.899983]\n",
      "[Epoch 92] [Batch 900/1563] [D loss: 1.258794] [G loss: -2.381667]\n",
      "[Epoch 92] [Batch 1000/1563] [D loss: 0.654293] [G loss: -1.914373]\n",
      "[Epoch 92] [Batch 1100/1563] [D loss: 0.715173] [G loss: -3.071642]\n",
      "[Epoch 92] [Batch 1200/1563] [D loss: -0.022573] [G loss: -1.781831]\n",
      "[Epoch 92] [Batch 1300/1563] [D loss: 0.731142] [G loss: -0.565027]\n",
      "[Epoch 92] [Batch 1400/1563] [D loss: 0.355614] [G loss: -0.848214]\n",
      "[Epoch 92] [Batch 1500/1563] [D loss: 0.473019] [G loss: -2.032141]\n"
     ]
    },
    {
     "name": "stderr",
     "output_type": "stream",
     "text": [
      "sample images: 100%|██████████| 256/256 [00:05<00:00, 47.48it/s]\n"
     ]
    },
    {
     "name": "stdout",
     "output_type": "stream",
     "text": [
      "Warning: number of images is not a multiple of the batch size. Some samples are going to be ignored.\n"
     ]
    },
    {
     "name": "stderr",
     "output_type": "stream",
     "text": [
      "100%|██████████| 81/81 [00:04<00:00, 19.57it/s]\n"
     ]
    },
    {
     "name": "stdout",
     "output_type": "stream",
     "text": [
      "FID score: 63.713165283203125\n"
     ]
    },
    {
     "name": "stderr",
     "output_type": "stream",
     "text": [
      "sample images: 100%|██████████| 256/256 [00:05<00:00, 47.44it/s]\n"
     ]
    },
    {
     "name": "stdout",
     "output_type": "stream",
     "text": [
      "Inception score: 5.105600205194992\n",
      "----- Epoch Summary -----\n",
      "Dis Loss: -0.054495 - Gen Loss: -1.739833 - Dis LR: 7.89641e-05 - Gen LR: 7.89641e-05\n",
      "FID score: 63.713165283203125 - Inception score: 5.105600205194992 || @ epoch 92.\n",
      "Best FID score: 55.94329833984375 @ epoch 87\n",
      "-----      End      -----\n",
      "\n",
      "------- Epoch  93 -------\n",
      "[Epoch 93] [Batch 100/1563] [D loss: -0.428574] [G loss: -1.603409]\n",
      "[Epoch 93] [Batch 200/1563] [D loss: -0.114359] [G loss: -2.203498]\n",
      "[Epoch 93] [Batch 300/1563] [D loss: 0.586816] [G loss: -0.340594]\n",
      "[Epoch 93] [Batch 400/1563] [D loss: 0.240528] [G loss: -0.738335]\n",
      "[Epoch 93] [Batch 500/1563] [D loss: -0.196401] [G loss: -0.435629]\n",
      "[Epoch 93] [Batch 600/1563] [D loss: 0.199064] [G loss: -1.698127]\n",
      "[Epoch 93] [Batch 700/1563] [D loss: -0.051353] [G loss: -1.086486]\n",
      "[Epoch 93] [Batch 800/1563] [D loss: 0.553904] [G loss: -1.126587]\n",
      "[Epoch 93] [Batch 900/1563] [D loss: -0.672811] [G loss: -0.831027]\n",
      "[Epoch 93] [Batch 1000/1563] [D loss: -0.783908] [G loss: -0.961142]\n",
      "[Epoch 93] [Batch 1100/1563] [D loss: 1.315888] [G loss: -1.160948]\n",
      "[Epoch 93] [Batch 1200/1563] [D loss: -0.271785] [G loss: -0.615132]\n",
      "[Epoch 93] [Batch 1300/1563] [D loss: 0.542201] [G loss: -0.651491]\n",
      "[Epoch 93] [Batch 1400/1563] [D loss: 1.777312] [G loss: -0.852741]\n",
      "[Epoch 93] [Batch 1500/1563] [D loss: 0.630458] [G loss: -0.290322]\n"
     ]
    },
    {
     "name": "stderr",
     "output_type": "stream",
     "text": [
      "sample images: 100%|██████████| 256/256 [00:05<00:00, 47.53it/s]\n"
     ]
    },
    {
     "name": "stdout",
     "output_type": "stream",
     "text": [
      "Warning: number of images is not a multiple of the batch size. Some samples are going to be ignored.\n"
     ]
    },
    {
     "name": "stderr",
     "output_type": "stream",
     "text": [
      "100%|██████████| 81/81 [00:04<00:00, 19.54it/s]\n"
     ]
    },
    {
     "name": "stdout",
     "output_type": "stream",
     "text": [
      "FID score: 55.8404541015625\n"
     ]
    },
    {
     "name": "stderr",
     "output_type": "stream",
     "text": [
      "sample images: 100%|██████████| 256/256 [00:05<00:00, 47.44it/s]\n"
     ]
    },
    {
     "name": "stdout",
     "output_type": "stream",
     "text": [
      "Inception score: 4.64613489628048\n",
      "Saved Latest Model!\n",
      "----- Epoch Summary -----\n",
      "Dis Loss: -0.069166 - Gen Loss: -0.723531 - Dis LR: 7.85357e-05 - Gen LR: 7.85357e-05\n",
      "FID score: 55.8404541015625 - Inception score: 4.64613489628048 || @ epoch 93.\n",
      "Best FID score: 55.8404541015625 @ epoch 93\n",
      "-----      End      -----\n",
      "\n",
      "------- Epoch  94 -------\n",
      "[Epoch 94] [Batch 100/1563] [D loss: -0.379084] [G loss: -0.163550]\n",
      "[Epoch 94] [Batch 200/1563] [D loss: -1.198839] [G loss: -1.162401]\n",
      "[Epoch 94] [Batch 300/1563] [D loss: -0.228218] [G loss: -1.073142]\n",
      "[Epoch 94] [Batch 400/1563] [D loss: 0.566450] [G loss: -1.335150]\n",
      "[Epoch 94] [Batch 500/1563] [D loss: -0.043733] [G loss: -1.743907]\n",
      "[Epoch 94] [Batch 600/1563] [D loss: 0.360725] [G loss: -1.204225]\n",
      "[Epoch 94] [Batch 700/1563] [D loss: 0.109973] [G loss: -0.833325]\n",
      "[Epoch 94] [Batch 800/1563] [D loss: -0.249799] [G loss: 0.144741]\n",
      "[Epoch 94] [Batch 900/1563] [D loss: -0.246648] [G loss: -0.198234]\n",
      "[Epoch 94] [Batch 1000/1563] [D loss: 0.084142] [G loss: 0.133338]\n",
      "[Epoch 94] [Batch 1100/1563] [D loss: 0.143371] [G loss: -0.224306]\n",
      "[Epoch 94] [Batch 1200/1563] [D loss: 0.221750] [G loss: -0.527664]\n",
      "[Epoch 94] [Batch 1300/1563] [D loss: -0.453984] [G loss: 1.108379]\n",
      "[Epoch 94] [Batch 1400/1563] [D loss: 0.188837] [G loss: 0.026628]\n",
      "[Epoch 94] [Batch 1500/1563] [D loss: -0.298897] [G loss: -0.398147]\n"
     ]
    },
    {
     "name": "stderr",
     "output_type": "stream",
     "text": [
      "sample images: 100%|██████████| 256/256 [00:05<00:00, 47.43it/s]\n"
     ]
    },
    {
     "name": "stdout",
     "output_type": "stream",
     "text": [
      "Warning: number of images is not a multiple of the batch size. Some samples are going to be ignored.\n"
     ]
    },
    {
     "name": "stderr",
     "output_type": "stream",
     "text": [
      "100%|██████████| 81/81 [00:04<00:00, 19.55it/s]\n"
     ]
    },
    {
     "name": "stdout",
     "output_type": "stream",
     "text": [
      "FID score: 56.48126220703125\n"
     ]
    },
    {
     "name": "stderr",
     "output_type": "stream",
     "text": [
      "sample images: 100%|██████████| 256/256 [00:05<00:00, 47.49it/s]\n"
     ]
    },
    {
     "name": "stdout",
     "output_type": "stream",
     "text": [
      "Inception score: 4.650835117367586\n",
      "----- Epoch Summary -----\n",
      "Dis Loss: -0.069676 - Gen Loss: -0.434399 - Dis LR: 7.81042e-05 - Gen LR: 7.81042e-05\n",
      "FID score: 56.48126220703125 - Inception score: 4.650835117367586 || @ epoch 94.\n",
      "Best FID score: 55.8404541015625 @ epoch 93\n",
      "-----      End      -----\n",
      "\n",
      "------- Epoch  95 -------\n",
      "[Epoch 95] [Batch 100/1563] [D loss: 0.365500] [G loss: -1.513850]\n",
      "[Epoch 95] [Batch 200/1563] [D loss: -0.404290] [G loss: -1.426614]\n",
      "[Epoch 95] [Batch 300/1563] [D loss: 0.472704] [G loss: -0.445530]\n",
      "[Epoch 95] [Batch 400/1563] [D loss: 0.929210] [G loss: -0.776832]\n",
      "[Epoch 95] [Batch 500/1563] [D loss: -0.133153] [G loss: -1.584249]\n",
      "[Epoch 95] [Batch 600/1563] [D loss: 0.742719] [G loss: -1.177960]\n",
      "[Epoch 95] [Batch 700/1563] [D loss: -0.427406] [G loss: -0.705099]\n",
      "[Epoch 95] [Batch 800/1563] [D loss: 0.474854] [G loss: -0.225228]\n",
      "[Epoch 95] [Batch 900/1563] [D loss: -0.938002] [G loss: -0.811477]\n",
      "[Epoch 95] [Batch 1000/1563] [D loss: -0.903342] [G loss: -1.810009]\n",
      "[Epoch 95] [Batch 1100/1563] [D loss: -0.451751] [G loss: -0.555334]\n",
      "[Epoch 95] [Batch 1200/1563] [D loss: -1.512529] [G loss: -0.247776]\n",
      "[Epoch 95] [Batch 1300/1563] [D loss: -0.640110] [G loss: -0.627978]\n",
      "[Epoch 95] [Batch 1400/1563] [D loss: 0.520626] [G loss: -0.739262]\n",
      "[Epoch 95] [Batch 1500/1563] [D loss: 0.604491] [G loss: -0.353541]\n"
     ]
    },
    {
     "name": "stderr",
     "output_type": "stream",
     "text": [
      "sample images: 100%|██████████| 256/256 [00:05<00:00, 47.37it/s]\n"
     ]
    },
    {
     "name": "stdout",
     "output_type": "stream",
     "text": [
      "Warning: number of images is not a multiple of the batch size. Some samples are going to be ignored.\n"
     ]
    },
    {
     "name": "stderr",
     "output_type": "stream",
     "text": [
      "100%|██████████| 81/81 [00:04<00:00, 19.57it/s]\n"
     ]
    },
    {
     "name": "stdout",
     "output_type": "stream",
     "text": [
      "FID score: 61.6297607421875\n"
     ]
    },
    {
     "name": "stderr",
     "output_type": "stream",
     "text": [
      "sample images: 100%|██████████| 256/256 [00:05<00:00, 47.49it/s]\n"
     ]
    },
    {
     "name": "stdout",
     "output_type": "stream",
     "text": [
      "Inception score: 4.45892011027692\n",
      "----- Epoch Summary -----\n",
      "Dis Loss: -0.059226 - Gen Loss: -0.691179 - Dis LR: 7.76696e-05 - Gen LR: 7.76696e-05\n",
      "FID score: 61.6297607421875 - Inception score: 4.45892011027692 || @ epoch 95.\n",
      "Best FID score: 55.8404541015625 @ epoch 93\n",
      "-----      End      -----\n",
      "\n",
      "------- Epoch  96 -------\n",
      "[Epoch 96] [Batch 0/1563] [D loss: 0.623703] [G loss: -1.311698]\n",
      "[Epoch 96] [Batch 100/1563] [D loss: 1.378404] [G loss: -1.165817]\n",
      "[Epoch 96] [Batch 200/1563] [D loss: -0.262445] [G loss: -0.529797]\n",
      "[Epoch 96] [Batch 300/1563] [D loss: -1.002707] [G loss: -0.888806]\n",
      "[Epoch 96] [Batch 400/1563] [D loss: 0.876444] [G loss: -0.635295]\n",
      "[Epoch 96] [Batch 500/1563] [D loss: -1.119439] [G loss: -0.123732]\n",
      "[Epoch 96] [Batch 600/1563] [D loss: -1.519253] [G loss: -0.864060]\n",
      "[Epoch 96] [Batch 700/1563] [D loss: 0.183444] [G loss: -1.294057]\n",
      "[Epoch 96] [Batch 800/1563] [D loss: -1.051527] [G loss: -1.394674]\n",
      "[Epoch 96] [Batch 900/1563] [D loss: -1.212477] [G loss: -0.214548]\n",
      "[Epoch 96] [Batch 1000/1563] [D loss: 0.057168] [G loss: -1.401191]\n",
      "[Epoch 96] [Batch 1100/1563] [D loss: -0.867377] [G loss: -0.809899]\n",
      "[Epoch 96] [Batch 1200/1563] [D loss: -0.014612] [G loss: -0.573941]\n",
      "[Epoch 96] [Batch 1300/1563] [D loss: -1.831046] [G loss: -0.930400]\n",
      "[Epoch 96] [Batch 1400/1563] [D loss: -0.712383] [G loss: -2.139764]\n",
      "[Epoch 96] [Batch 1500/1563] [D loss: -0.068596] [G loss: -0.580132]\n"
     ]
    },
    {
     "name": "stderr",
     "output_type": "stream",
     "text": [
      "sample images: 100%|██████████| 256/256 [00:05<00:00, 47.50it/s]\n"
     ]
    },
    {
     "name": "stdout",
     "output_type": "stream",
     "text": [
      "Warning: number of images is not a multiple of the batch size. Some samples are going to be ignored.\n"
     ]
    },
    {
     "name": "stderr",
     "output_type": "stream",
     "text": [
      "100%|██████████| 81/81 [00:04<00:00, 19.56it/s]\n"
     ]
    },
    {
     "name": "stdout",
     "output_type": "stream",
     "text": [
      "FID score: 52.11676025390625\n"
     ]
    },
    {
     "name": "stderr",
     "output_type": "stream",
     "text": [
      "sample images: 100%|██████████| 256/256 [00:05<00:00, 47.54it/s]\n"
     ]
    },
    {
     "name": "stdout",
     "output_type": "stream",
     "text": [
      "Inception score: 5.007919742258627\n",
      "Saved Latest Model!\n",
      "----- Epoch Summary -----\n",
      "Dis Loss: -0.103795 - Gen Loss: -0.924100 - Dis LR: 7.7232e-05 - Gen LR: 7.7232e-05\n",
      "FID score: 52.11676025390625 - Inception score: 5.007919742258627 || @ epoch 96.\n",
      "Best FID score: 52.11676025390625 @ epoch 96\n",
      "-----      End      -----\n",
      "\n",
      "------- Epoch  97 -------\n",
      "[Epoch 97] [Batch 100/1563] [D loss: 0.926675] [G loss: -0.469749]\n",
      "[Epoch 97] [Batch 200/1563] [D loss: -1.913179] [G loss: 0.033426]\n",
      "[Epoch 97] [Batch 300/1563] [D loss: -0.366833] [G loss: -0.032941]\n",
      "[Epoch 97] [Batch 400/1563] [D loss: -1.866318] [G loss: -0.798873]\n",
      "[Epoch 97] [Batch 500/1563] [D loss: -0.432065] [G loss: -1.307582]\n",
      "[Epoch 97] [Batch 600/1563] [D loss: -1.895935] [G loss: -1.865566]\n",
      "[Epoch 97] [Batch 700/1563] [D loss: -2.139716] [G loss: -0.927608]\n",
      "[Epoch 97] [Batch 800/1563] [D loss: 0.303587] [G loss: -0.776407]\n",
      "[Epoch 97] [Batch 900/1563] [D loss: -1.251134] [G loss: -0.734423]\n",
      "[Epoch 97] [Batch 1000/1563] [D loss: -1.824614] [G loss: 0.429028]\n",
      "[Epoch 97] [Batch 1100/1563] [D loss: -0.773113] [G loss: 0.431441]\n",
      "[Epoch 97] [Batch 1200/1563] [D loss: -1.473790] [G loss: -0.619040]\n",
      "[Epoch 97] [Batch 1300/1563] [D loss: 0.007612] [G loss: -0.760346]\n",
      "[Epoch 97] [Batch 1400/1563] [D loss: 0.234284] [G loss: -0.653985]\n",
      "[Epoch 97] [Batch 1500/1563] [D loss: 0.250650] [G loss: -0.688354]\n"
     ]
    },
    {
     "name": "stderr",
     "output_type": "stream",
     "text": [
      "sample images: 100%|██████████| 256/256 [00:05<00:00, 47.38it/s]\n"
     ]
    },
    {
     "name": "stdout",
     "output_type": "stream",
     "text": [
      "Warning: number of images is not a multiple of the batch size. Some samples are going to be ignored.\n"
     ]
    },
    {
     "name": "stderr",
     "output_type": "stream",
     "text": [
      "100%|██████████| 81/81 [00:04<00:00, 19.55it/s]\n"
     ]
    },
    {
     "name": "stdout",
     "output_type": "stream",
     "text": [
      "FID score: 64.4007568359375\n"
     ]
    },
    {
     "name": "stderr",
     "output_type": "stream",
     "text": [
      "sample images: 100%|██████████| 256/256 [00:05<00:00, 47.21it/s]\n"
     ]
    },
    {
     "name": "stdout",
     "output_type": "stream",
     "text": [
      "Inception score: 4.70258188953409\n",
      "----- Epoch Summary -----\n",
      "Dis Loss: -0.108463 - Gen Loss: -0.815854 - Dis LR: 7.67913e-05 - Gen LR: 7.67913e-05\n",
      "FID score: 64.4007568359375 - Inception score: 4.70258188953409 || @ epoch 97.\n",
      "Best FID score: 52.11676025390625 @ epoch 96\n",
      "-----      End      -----\n",
      "\n",
      "------- Epoch  98 -------\n",
      "[Epoch 98] [Batch 100/1563] [D loss: 0.421404] [G loss: -0.574085]\n",
      "[Epoch 98] [Batch 200/1563] [D loss: 0.258979] [G loss: -0.405874]\n",
      "[Epoch 98] [Batch 300/1563] [D loss: 0.085943] [G loss: -0.912927]\n",
      "[Epoch 98] [Batch 400/1563] [D loss: -0.052342] [G loss: -0.225615]\n",
      "[Epoch 98] [Batch 500/1563] [D loss: 0.099436] [G loss: 0.182825]\n",
      "[Epoch 98] [Batch 600/1563] [D loss: 0.826359] [G loss: -1.556158]\n",
      "[Epoch 98] [Batch 700/1563] [D loss: -0.175012] [G loss: -1.132106]\n",
      "[Epoch 98] [Batch 800/1563] [D loss: -0.130944] [G loss: -1.111693]\n",
      "[Epoch 98] [Batch 900/1563] [D loss: 0.485700] [G loss: 0.094148]\n",
      "[Epoch 98] [Batch 1000/1563] [D loss: 0.402007] [G loss: 0.066995]\n",
      "[Epoch 98] [Batch 1100/1563] [D loss: -1.209863] [G loss: -0.898508]\n",
      "[Epoch 98] [Batch 1200/1563] [D loss: 1.233519] [G loss: -0.784917]\n",
      "[Epoch 98] [Batch 1300/1563] [D loss: 0.397537] [G loss: 0.057703]\n",
      "[Epoch 98] [Batch 1400/1563] [D loss: -0.816305] [G loss: 0.441838]\n",
      "[Epoch 98] [Batch 1500/1563] [D loss: 0.878200] [G loss: -0.077345]\n"
     ]
    },
    {
     "name": "stderr",
     "output_type": "stream",
     "text": [
      "sample images: 100%|██████████| 256/256 [00:05<00:00, 47.52it/s]\n"
     ]
    },
    {
     "name": "stdout",
     "output_type": "stream",
     "text": [
      "Warning: number of images is not a multiple of the batch size. Some samples are going to be ignored.\n"
     ]
    },
    {
     "name": "stderr",
     "output_type": "stream",
     "text": [
      "100%|██████████| 81/81 [00:04<00:00, 19.56it/s]\n"
     ]
    },
    {
     "name": "stdout",
     "output_type": "stream",
     "text": [
      "FID score: 60.656158447265625\n"
     ]
    },
    {
     "name": "stderr",
     "output_type": "stream",
     "text": [
      "sample images: 100%|██████████| 256/256 [00:05<00:00, 47.52it/s]\n"
     ]
    },
    {
     "name": "stdout",
     "output_type": "stream",
     "text": [
      "Inception score: 4.574846310746603\n",
      "----- Epoch Summary -----\n",
      "Dis Loss: -0.043036 - Gen Loss: -0.466156 - Dis LR: 7.63478e-05 - Gen LR: 7.63478e-05\n",
      "FID score: 60.656158447265625 - Inception score: 4.574846310746603 || @ epoch 98.\n",
      "Best FID score: 52.11676025390625 @ epoch 96\n",
      "-----      End      -----\n",
      "\n",
      "------- Epoch  99 -------\n",
      "[Epoch 99] [Batch 100/1563] [D loss: -0.010808] [G loss: 0.103130]\n",
      "[Epoch 99] [Batch 200/1563] [D loss: 1.016986] [G loss: 0.817550]\n",
      "[Epoch 99] [Batch 300/1563] [D loss: 0.374710] [G loss: -1.508696]\n",
      "[Epoch 99] [Batch 400/1563] [D loss: -1.602272] [G loss: 0.828509]\n",
      "[Epoch 99] [Batch 500/1563] [D loss: -1.323832] [G loss: 0.447760]\n",
      "[Epoch 99] [Batch 600/1563] [D loss: 0.915564] [G loss: 0.105213]\n",
      "[Epoch 99] [Batch 700/1563] [D loss: -0.006784] [G loss: 0.581886]\n",
      "[Epoch 99] [Batch 800/1563] [D loss: -0.733609] [G loss: -0.167311]\n",
      "[Epoch 99] [Batch 900/1563] [D loss: 0.509229] [G loss: 0.191074]\n",
      "[Epoch 99] [Batch 1000/1563] [D loss: -0.052700] [G loss: -0.289252]\n",
      "[Epoch 99] [Batch 1100/1563] [D loss: -0.218087] [G loss: -0.044535]\n",
      "[Epoch 99] [Batch 1200/1563] [D loss: 1.048358] [G loss: 0.104269]\n",
      "[Epoch 99] [Batch 1300/1563] [D loss: -1.421995] [G loss: -0.549038]\n",
      "[Epoch 99] [Batch 1400/1563] [D loss: 0.884201] [G loss: -0.351136]\n",
      "[Epoch 99] [Batch 1500/1563] [D loss: -0.598152] [G loss: 0.101738]\n"
     ]
    },
    {
     "name": "stderr",
     "output_type": "stream",
     "text": [
      "sample images: 100%|██████████| 256/256 [00:05<00:00, 47.47it/s]\n"
     ]
    },
    {
     "name": "stdout",
     "output_type": "stream",
     "text": [
      "Warning: number of images is not a multiple of the batch size. Some samples are going to be ignored.\n"
     ]
    },
    {
     "name": "stderr",
     "output_type": "stream",
     "text": [
      "100%|██████████| 81/81 [00:04<00:00, 19.53it/s]\n"
     ]
    },
    {
     "name": "stdout",
     "output_type": "stream",
     "text": [
      "FID score: 59.29937744140625\n"
     ]
    },
    {
     "name": "stderr",
     "output_type": "stream",
     "text": [
      "sample images: 100%|██████████| 256/256 [00:05<00:00, 47.50it/s]\n"
     ]
    },
    {
     "name": "stdout",
     "output_type": "stream",
     "text": [
      "Inception score: 4.874648435306996\n",
      "----- Epoch Summary -----\n",
      "Dis Loss: -0.036029 - Gen Loss: 0.018362 - Dis LR: 7.59014e-05 - Gen LR: 7.59014e-05\n",
      "FID score: 59.29937744140625 - Inception score: 4.874648435306996 || @ epoch 99.\n",
      "Best FID score: 52.11676025390625 @ epoch 96\n",
      "-----      End      -----\n",
      "\n",
      "------- Epoch 100 -------\n",
      "[Epoch 100] [Batch 100/1563] [D loss: -0.379146] [G loss: -0.283134]\n",
      "[Epoch 100] [Batch 200/1563] [D loss: 0.177310] [G loss: 0.225675]\n",
      "[Epoch 100] [Batch 300/1563] [D loss: 0.810001] [G loss: -0.729099]\n",
      "[Epoch 100] [Batch 400/1563] [D loss: -0.914333] [G loss: -1.474785]\n",
      "[Epoch 100] [Batch 500/1563] [D loss: 0.196799] [G loss: -0.616958]\n",
      "[Epoch 100] [Batch 600/1563] [D loss: 0.396760] [G loss: -0.794726]\n",
      "[Epoch 100] [Batch 700/1563] [D loss: 0.330982] [G loss: 0.509057]\n",
      "[Epoch 100] [Batch 800/1563] [D loss: 0.765373] [G loss: -0.919920]\n",
      "[Epoch 100] [Batch 900/1563] [D loss: -0.320257] [G loss: -0.252301]\n",
      "[Epoch 100] [Batch 1000/1563] [D loss: 0.230794] [G loss: 1.275465]\n",
      "[Epoch 100] [Batch 1100/1563] [D loss: -0.519231] [G loss: -1.535549]\n",
      "[Epoch 100] [Batch 1200/1563] [D loss: 0.206410] [G loss: -0.361625]\n",
      "[Epoch 100] [Batch 1300/1563] [D loss: -0.579213] [G loss: 1.897433]\n",
      "[Epoch 100] [Batch 1400/1563] [D loss: -0.318155] [G loss: -0.251087]\n",
      "[Epoch 100] [Batch 1500/1563] [D loss: -0.270822] [G loss: 0.717554]\n"
     ]
    },
    {
     "name": "stderr",
     "output_type": "stream",
     "text": [
      "sample images: 100%|██████████| 256/256 [00:05<00:00, 47.22it/s]\n"
     ]
    },
    {
     "name": "stdout",
     "output_type": "stream",
     "text": [
      "Warning: number of images is not a multiple of the batch size. Some samples are going to be ignored.\n"
     ]
    },
    {
     "name": "stderr",
     "output_type": "stream",
     "text": [
      "100%|██████████| 81/81 [00:04<00:00, 19.56it/s]\n"
     ]
    },
    {
     "name": "stdout",
     "output_type": "stream",
     "text": [
      "FID score: 57.177093505859375\n"
     ]
    },
    {
     "name": "stderr",
     "output_type": "stream",
     "text": [
      "sample images: 100%|██████████| 256/256 [00:05<00:00, 47.48it/s]\n"
     ]
    },
    {
     "name": "stdout",
     "output_type": "stream",
     "text": [
      "Inception score: 4.896104000673474\n",
      "----- Epoch Summary -----\n",
      "Dis Loss: -0.054381 - Gen Loss: -0.022501 - Dis LR: 7.54521e-05 - Gen LR: 7.54521e-05\n",
      "FID score: 57.177093505859375 - Inception score: 4.896104000673474 || @ epoch 100.\n",
      "Best FID score: 52.11676025390625 @ epoch 96\n",
      "-----      End      -----\n",
      "\n",
      "------- Epoch 101 -------\n",
      "[Epoch 101] [Batch 0/1563] [D loss: -0.670411] [G loss: 0.663339]\n",
      "[Epoch 101] [Batch 100/1563] [D loss: -1.208807] [G loss: -0.051550]\n",
      "[Epoch 101] [Batch 200/1563] [D loss: -0.098170] [G loss: 0.635438]\n",
      "[Epoch 101] [Batch 300/1563] [D loss: -0.787825] [G loss: -0.311583]\n",
      "[Epoch 101] [Batch 400/1563] [D loss: -1.049759] [G loss: -1.101707]\n",
      "[Epoch 101] [Batch 500/1563] [D loss: -0.132553] [G loss: -0.413756]\n",
      "[Epoch 101] [Batch 600/1563] [D loss: -0.764027] [G loss: 0.048919]\n",
      "[Epoch 101] [Batch 700/1563] [D loss: 1.284385] [G loss: 0.348592]\n",
      "[Epoch 101] [Batch 800/1563] [D loss: 1.141642] [G loss: 0.440644]\n",
      "[Epoch 101] [Batch 900/1563] [D loss: -0.074877] [G loss: 0.478103]\n",
      "[Epoch 101] [Batch 1000/1563] [D loss: 0.509192] [G loss: -0.366445]\n",
      "[Epoch 101] [Batch 1100/1563] [D loss: 0.732529] [G loss: -0.935990]\n",
      "[Epoch 101] [Batch 1200/1563] [D loss: -1.248394] [G loss: -0.098901]\n",
      "[Epoch 101] [Batch 1300/1563] [D loss: 0.318174] [G loss: 0.465364]\n",
      "[Epoch 101] [Batch 1400/1563] [D loss: -0.714006] [G loss: -0.176758]\n",
      "[Epoch 101] [Batch 1500/1563] [D loss: -0.868082] [G loss: -0.888897]\n"
     ]
    },
    {
     "name": "stderr",
     "output_type": "stream",
     "text": [
      "sample images: 100%|██████████| 256/256 [00:05<00:00, 47.45it/s]\n"
     ]
    },
    {
     "name": "stdout",
     "output_type": "stream",
     "text": [
      "Warning: number of images is not a multiple of the batch size. Some samples are going to be ignored.\n"
     ]
    },
    {
     "name": "stderr",
     "output_type": "stream",
     "text": [
      "100%|██████████| 81/81 [00:04<00:00, 19.53it/s]\n"
     ]
    },
    {
     "name": "stdout",
     "output_type": "stream",
     "text": [
      "FID score: 54.2056884765625\n"
     ]
    },
    {
     "name": "stderr",
     "output_type": "stream",
     "text": [
      "sample images: 100%|██████████| 256/256 [00:05<00:00, 47.45it/s]\n"
     ]
    },
    {
     "name": "stdout",
     "output_type": "stream",
     "text": [
      "Inception score: 4.536411436220151\n",
      "----- Epoch Summary -----\n",
      "Dis Loss: -0.031938 - Gen Loss: 0.161872 - Dis LR: 7.5e-05 - Gen LR: 7.5e-05\n",
      "FID score: 54.2056884765625 - Inception score: 4.536411436220151 || @ epoch 101.\n",
      "Best FID score: 52.11676025390625 @ epoch 96\n",
      "-----      End      -----\n",
      "\n",
      "------- Epoch 102 -------\n",
      "[Epoch 102] [Batch 100/1563] [D loss: 0.450892] [G loss: 0.159764]\n",
      "[Epoch 102] [Batch 200/1563] [D loss: 0.058504] [G loss: 0.521480]\n",
      "[Epoch 102] [Batch 300/1563] [D loss: -0.866568] [G loss: -0.313799]\n",
      "[Epoch 102] [Batch 400/1563] [D loss: 0.841722] [G loss: -0.070800]\n",
      "[Epoch 102] [Batch 500/1563] [D loss: -1.065187] [G loss: -0.282983]\n",
      "[Epoch 102] [Batch 600/1563] [D loss: 0.089361] [G loss: -0.183544]\n",
      "[Epoch 102] [Batch 700/1563] [D loss: -0.293189] [G loss: 0.189484]\n",
      "[Epoch 102] [Batch 800/1563] [D loss: 1.039492] [G loss: -0.094593]\n",
      "[Epoch 102] [Batch 900/1563] [D loss: -0.448961] [G loss: 0.331451]\n",
      "[Epoch 102] [Batch 1000/1563] [D loss: -0.953158] [G loss: 0.227749]\n",
      "[Epoch 102] [Batch 1100/1563] [D loss: -0.011858] [G loss: 0.504442]\n",
      "[Epoch 102] [Batch 1200/1563] [D loss: -0.727837] [G loss: 1.495023]\n",
      "[Epoch 102] [Batch 1300/1563] [D loss: -0.570645] [G loss: 0.542767]\n",
      "[Epoch 102] [Batch 1400/1563] [D loss: -0.706756] [G loss: 0.589300]\n",
      "[Epoch 102] [Batch 1500/1563] [D loss: 0.508103] [G loss: 0.213467]\n"
     ]
    },
    {
     "name": "stderr",
     "output_type": "stream",
     "text": [
      "sample images: 100%|██████████| 256/256 [00:05<00:00, 47.30it/s]\n"
     ]
    },
    {
     "name": "stdout",
     "output_type": "stream",
     "text": [
      "Warning: number of images is not a multiple of the batch size. Some samples are going to be ignored.\n"
     ]
    },
    {
     "name": "stderr",
     "output_type": "stream",
     "text": [
      "100%|██████████| 81/81 [00:04<00:00, 19.54it/s]\n"
     ]
    },
    {
     "name": "stdout",
     "output_type": "stream",
     "text": [
      "FID score: 63.2841796875\n"
     ]
    },
    {
     "name": "stderr",
     "output_type": "stream",
     "text": [
      "sample images: 100%|██████████| 256/256 [00:05<00:00, 47.46it/s]\n"
     ]
    },
    {
     "name": "stdout",
     "output_type": "stream",
     "text": [
      "Inception score: 5.0659009416815675\n",
      "----- Epoch Summary -----\n",
      "Dis Loss: -0.057742 - Gen Loss: -0.162769 - Dis LR: 7.45452e-05 - Gen LR: 7.45452e-05\n",
      "FID score: 63.2841796875 - Inception score: 5.0659009416815675 || @ epoch 102.\n",
      "Best FID score: 52.11676025390625 @ epoch 96\n",
      "-----      End      -----\n",
      "\n",
      "------- Epoch 103 -------\n",
      "[Epoch 103] [Batch 100/1563] [D loss: -0.670045] [G loss: -1.840926]\n",
      "[Epoch 103] [Batch 200/1563] [D loss: 0.184468] [G loss: 0.105358]\n",
      "[Epoch 103] [Batch 300/1563] [D loss: -0.110850] [G loss: 0.044036]\n",
      "[Epoch 103] [Batch 400/1563] [D loss: -0.293879] [G loss: 0.168828]\n",
      "[Epoch 103] [Batch 500/1563] [D loss: 0.136092] [G loss: 0.453831]\n",
      "[Epoch 103] [Batch 600/1563] [D loss: -0.979050] [G loss: 0.390664]\n",
      "[Epoch 103] [Batch 700/1563] [D loss: 0.328069] [G loss: 0.977023]\n",
      "[Epoch 103] [Batch 800/1563] [D loss: 0.346329] [G loss: 0.399110]\n",
      "[Epoch 103] [Batch 900/1563] [D loss: 0.689171] [G loss: 0.665575]\n",
      "[Epoch 103] [Batch 1000/1563] [D loss: 0.597508] [G loss: -0.913347]\n",
      "[Epoch 103] [Batch 1100/1563] [D loss: -0.342411] [G loss: -1.188129]\n",
      "[Epoch 103] [Batch 1200/1563] [D loss: -0.767031] [G loss: 0.740807]\n",
      "[Epoch 103] [Batch 1300/1563] [D loss: 1.044181] [G loss: -0.977362]\n",
      "[Epoch 103] [Batch 1400/1563] [D loss: -0.224117] [G loss: -1.369264]\n",
      "[Epoch 103] [Batch 1500/1563] [D loss: 0.647800] [G loss: -0.270659]\n"
     ]
    },
    {
     "name": "stderr",
     "output_type": "stream",
     "text": [
      "sample images: 100%|██████████| 256/256 [00:05<00:00, 47.35it/s]\n"
     ]
    },
    {
     "name": "stdout",
     "output_type": "stream",
     "text": [
      "Warning: number of images is not a multiple of the batch size. Some samples are going to be ignored.\n"
     ]
    },
    {
     "name": "stderr",
     "output_type": "stream",
     "text": [
      "100%|██████████| 81/81 [00:04<00:00, 19.55it/s]\n"
     ]
    },
    {
     "name": "stdout",
     "output_type": "stream",
     "text": [
      "FID score: 60.56378173828125\n"
     ]
    },
    {
     "name": "stderr",
     "output_type": "stream",
     "text": [
      "sample images: 100%|██████████| 256/256 [00:05<00:00, 47.52it/s]\n"
     ]
    },
    {
     "name": "stdout",
     "output_type": "stream",
     "text": [
      "Inception score: 4.653481644695022\n",
      "----- Epoch Summary -----\n",
      "Dis Loss: -0.050936 - Gen Loss: -0.078744 - Dis LR: 7.40877e-05 - Gen LR: 7.40877e-05\n",
      "FID score: 60.56378173828125 - Inception score: 4.653481644695022 || @ epoch 103.\n",
      "Best FID score: 52.11676025390625 @ epoch 96\n",
      "-----      End      -----\n",
      "\n",
      "------- Epoch 104 -------\n",
      "[Epoch 104] [Batch 100/1563] [D loss: -1.398516] [G loss: -0.707498]\n",
      "[Epoch 104] [Batch 200/1563] [D loss: 1.698224] [G loss: -1.496178]\n",
      "[Epoch 104] [Batch 300/1563] [D loss: 0.667421] [G loss: -0.506187]\n",
      "[Epoch 104] [Batch 400/1563] [D loss: -0.151675] [G loss: -1.266124]\n",
      "[Epoch 104] [Batch 500/1563] [D loss: 0.003382] [G loss: -0.768846]\n",
      "[Epoch 104] [Batch 600/1563] [D loss: -0.928664] [G loss: -1.180474]\n",
      "[Epoch 104] [Batch 700/1563] [D loss: 0.223916] [G loss: -1.544663]\n",
      "[Epoch 104] [Batch 800/1563] [D loss: -0.494362] [G loss: -1.761347]\n",
      "[Epoch 104] [Batch 900/1563] [D loss: 0.198447] [G loss: 0.026196]\n",
      "[Epoch 104] [Batch 1000/1563] [D loss: 0.251683] [G loss: -1.014611]\n",
      "[Epoch 104] [Batch 1100/1563] [D loss: -0.686582] [G loss: -0.344244]\n",
      "[Epoch 104] [Batch 1200/1563] [D loss: -0.049369] [G loss: -0.509503]\n",
      "[Epoch 104] [Batch 1300/1563] [D loss: -0.062077] [G loss: 0.302123]\n",
      "[Epoch 104] [Batch 1400/1563] [D loss: -1.148273] [G loss: -0.850352]\n",
      "[Epoch 104] [Batch 1500/1563] [D loss: 1.190565] [G loss: -0.556464]\n"
     ]
    },
    {
     "name": "stderr",
     "output_type": "stream",
     "text": [
      "sample images: 100%|██████████| 256/256 [00:05<00:00, 47.55it/s]\n"
     ]
    },
    {
     "name": "stdout",
     "output_type": "stream",
     "text": [
      "Warning: number of images is not a multiple of the batch size. Some samples are going to be ignored.\n"
     ]
    },
    {
     "name": "stderr",
     "output_type": "stream",
     "text": [
      "100%|██████████| 81/81 [00:04<00:00, 19.56it/s]\n"
     ]
    },
    {
     "name": "stdout",
     "output_type": "stream",
     "text": [
      "FID score: 56.263031005859375\n"
     ]
    },
    {
     "name": "stderr",
     "output_type": "stream",
     "text": [
      "sample images: 100%|██████████| 256/256 [00:05<00:00, 47.62it/s]\n"
     ]
    },
    {
     "name": "stdout",
     "output_type": "stream",
     "text": [
      "Inception score: 5.00204516441733\n",
      "----- Epoch Summary -----\n",
      "Dis Loss: -0.061092 - Gen Loss: -0.387474 - Dis LR: 7.36275e-05 - Gen LR: 7.36275e-05\n",
      "FID score: 56.263031005859375 - Inception score: 5.00204516441733 || @ epoch 104.\n",
      "Best FID score: 52.11676025390625 @ epoch 96\n",
      "-----      End      -----\n",
      "\n",
      "------- Epoch 105 -------\n",
      "[Epoch 105] [Batch 100/1563] [D loss: -0.341545] [G loss: -0.921203]\n",
      "[Epoch 105] [Batch 200/1563] [D loss: -0.432862] [G loss: -1.572858]\n",
      "[Epoch 105] [Batch 300/1563] [D loss: 1.179806] [G loss: -0.477957]\n",
      "[Epoch 105] [Batch 400/1563] [D loss: 0.544756] [G loss: 0.089934]\n",
      "[Epoch 105] [Batch 500/1563] [D loss: -0.123612] [G loss: -1.281894]\n",
      "[Epoch 105] [Batch 600/1563] [D loss: -0.996933] [G loss: -0.266811]\n",
      "[Epoch 105] [Batch 700/1563] [D loss: -0.477123] [G loss: -1.564190]\n",
      "[Epoch 105] [Batch 800/1563] [D loss: 1.041583] [G loss: -0.629322]\n",
      "[Epoch 105] [Batch 900/1563] [D loss: 0.011849] [G loss: -0.580189]\n",
      "[Epoch 105] [Batch 1000/1563] [D loss: 0.776502] [G loss: -0.626181]\n",
      "[Epoch 105] [Batch 1100/1563] [D loss: -0.486798] [G loss: 0.254201]\n",
      "[Epoch 105] [Batch 1200/1563] [D loss: 2.834576] [G loss: -0.435493]\n",
      "[Epoch 105] [Batch 1300/1563] [D loss: 1.043676] [G loss: -0.604834]\n",
      "[Epoch 105] [Batch 1400/1563] [D loss: 0.460858] [G loss: 0.069654]\n",
      "[Epoch 105] [Batch 1500/1563] [D loss: -1.041838] [G loss: 0.485531]\n"
     ]
    },
    {
     "name": "stderr",
     "output_type": "stream",
     "text": [
      "sample images: 100%|██████████| 256/256 [00:05<00:00, 47.26it/s]\n"
     ]
    },
    {
     "name": "stdout",
     "output_type": "stream",
     "text": [
      "Warning: number of images is not a multiple of the batch size. Some samples are going to be ignored.\n"
     ]
    },
    {
     "name": "stderr",
     "output_type": "stream",
     "text": [
      "100%|██████████| 81/81 [00:04<00:00, 19.57it/s]\n"
     ]
    },
    {
     "name": "stdout",
     "output_type": "stream",
     "text": [
      "FID score: 59.840850830078125\n"
     ]
    },
    {
     "name": "stderr",
     "output_type": "stream",
     "text": [
      "sample images: 100%|██████████| 256/256 [00:05<00:00, 47.30it/s]\n"
     ]
    },
    {
     "name": "stdout",
     "output_type": "stream",
     "text": [
      "Inception score: 4.2142186765526946\n",
      "----- Epoch Summary -----\n",
      "Dis Loss: -0.045023 - Gen Loss: -0.551761 - Dis LR: 7.31648e-05 - Gen LR: 7.31648e-05\n",
      "FID score: 59.840850830078125 - Inception score: 4.2142186765526946 || @ epoch 105.\n",
      "Best FID score: 52.11676025390625 @ epoch 96\n",
      "-----      End      -----\n",
      "\n",
      "------- Epoch 106 -------\n",
      "[Epoch 106] [Batch 0/1563] [D loss: -0.541367] [G loss: -0.997423]\n",
      "[Epoch 106] [Batch 100/1563] [D loss: -0.901393] [G loss: 0.289229]\n",
      "[Epoch 106] [Batch 200/1563] [D loss: 0.238476] [G loss: -0.348280]\n",
      "[Epoch 106] [Batch 300/1563] [D loss: -0.307405] [G loss: -0.431039]\n",
      "[Epoch 106] [Batch 400/1563] [D loss: 1.200100] [G loss: -0.803071]\n",
      "[Epoch 106] [Batch 500/1563] [D loss: 0.383637] [G loss: 0.025442]\n",
      "[Epoch 106] [Batch 600/1563] [D loss: -0.625663] [G loss: -1.220741]\n",
      "[Epoch 106] [Batch 700/1563] [D loss: -0.483998] [G loss: 0.741307]\n",
      "[Epoch 106] [Batch 800/1563] [D loss: 0.243883] [G loss: -0.307019]\n",
      "[Epoch 106] [Batch 900/1563] [D loss: -0.758572] [G loss: 0.143774]\n",
      "[Epoch 106] [Batch 1000/1563] [D loss: 0.278320] [G loss: 1.598670]\n",
      "[Epoch 106] [Batch 1100/1563] [D loss: -1.571003] [G loss: -0.312547]\n",
      "[Epoch 106] [Batch 1200/1563] [D loss: 0.002141] [G loss: -1.314894]\n",
      "[Epoch 106] [Batch 1300/1563] [D loss: -1.114822] [G loss: 0.752851]\n",
      "[Epoch 106] [Batch 1400/1563] [D loss: 1.100174] [G loss: 1.052137]\n",
      "[Epoch 106] [Batch 1500/1563] [D loss: -0.513810] [G loss: 0.810033]\n"
     ]
    },
    {
     "name": "stderr",
     "output_type": "stream",
     "text": [
      "sample images: 100%|██████████| 256/256 [00:05<00:00, 47.40it/s]\n"
     ]
    },
    {
     "name": "stdout",
     "output_type": "stream",
     "text": [
      "Warning: number of images is not a multiple of the batch size. Some samples are going to be ignored.\n"
     ]
    },
    {
     "name": "stderr",
     "output_type": "stream",
     "text": [
      "100%|██████████| 81/81 [00:04<00:00, 19.57it/s]\n"
     ]
    },
    {
     "name": "stdout",
     "output_type": "stream",
     "text": [
      "FID score: 63.11962890625\n"
     ]
    },
    {
     "name": "stderr",
     "output_type": "stream",
     "text": [
      "sample images: 100%|██████████| 256/256 [00:05<00:00, 47.59it/s]\n"
     ]
    },
    {
     "name": "stdout",
     "output_type": "stream",
     "text": [
      "Inception score: 4.894447893831229\n",
      "----- Epoch Summary -----\n",
      "Dis Loss: -0.047031 - Gen Loss: -0.345711 - Dis LR: 7.26995e-05 - Gen LR: 7.26995e-05\n",
      "FID score: 63.11962890625 - Inception score: 4.894447893831229 || @ epoch 106.\n",
      "Best FID score: 52.11676025390625 @ epoch 96\n",
      "-----      End      -----\n",
      "\n",
      "------- Epoch 107 -------\n",
      "[Epoch 107] [Batch 100/1563] [D loss: 0.253040] [G loss: -0.835801]\n",
      "[Epoch 107] [Batch 200/1563] [D loss: 0.096674] [G loss: 0.758097]\n",
      "[Epoch 107] [Batch 300/1563] [D loss: 0.321167] [G loss: -0.052610]\n",
      "[Epoch 107] [Batch 400/1563] [D loss: -0.554871] [G loss: 0.687960]\n",
      "[Epoch 107] [Batch 500/1563] [D loss: 0.666973] [G loss: -0.721707]\n",
      "[Epoch 107] [Batch 600/1563] [D loss: -1.215579] [G loss: 0.548775]\n",
      "[Epoch 107] [Batch 700/1563] [D loss: 1.244347] [G loss: 0.420218]\n",
      "[Epoch 107] [Batch 800/1563] [D loss: -0.464067] [G loss: 0.311684]\n",
      "[Epoch 107] [Batch 900/1563] [D loss: -0.499634] [G loss: -0.414047]\n",
      "[Epoch 107] [Batch 1000/1563] [D loss: -0.096357] [G loss: 0.341117]\n",
      "[Epoch 107] [Batch 1100/1563] [D loss: 0.282041] [G loss: -0.123243]\n",
      "[Epoch 107] [Batch 1200/1563] [D loss: -0.088531] [G loss: 0.516374]\n",
      "[Epoch 107] [Batch 1300/1563] [D loss: -0.299486] [G loss: 1.346513]\n",
      "[Epoch 107] [Batch 1400/1563] [D loss: -1.069702] [G loss: 0.683598]\n",
      "[Epoch 107] [Batch 1500/1563] [D loss: 1.314967] [G loss: -0.287025]\n"
     ]
    },
    {
     "name": "stderr",
     "output_type": "stream",
     "text": [
      "sample images: 100%|██████████| 256/256 [00:05<00:00, 47.41it/s]\n"
     ]
    },
    {
     "name": "stdout",
     "output_type": "stream",
     "text": [
      "Warning: number of images is not a multiple of the batch size. Some samples are going to be ignored.\n"
     ]
    },
    {
     "name": "stderr",
     "output_type": "stream",
     "text": [
      "100%|██████████| 81/81 [00:04<00:00, 19.57it/s]\n"
     ]
    },
    {
     "name": "stdout",
     "output_type": "stream",
     "text": [
      "FID score: 58.93743896484375\n"
     ]
    },
    {
     "name": "stderr",
     "output_type": "stream",
     "text": [
      "sample images: 100%|██████████| 256/256 [00:05<00:00, 47.56it/s]\n"
     ]
    },
    {
     "name": "stdout",
     "output_type": "stream",
     "text": [
      "Inception score: 4.810556340167663\n",
      "----- Epoch Summary -----\n",
      "Dis Loss: -0.016232 - Gen Loss: 0.239184 - Dis LR: 7.22318e-05 - Gen LR: 7.22318e-05\n",
      "FID score: 58.93743896484375 - Inception score: 4.810556340167663 || @ epoch 107.\n",
      "Best FID score: 52.11676025390625 @ epoch 96\n",
      "-----      End      -----\n",
      "\n",
      "------- Epoch 108 -------\n",
      "[Epoch 108] [Batch 100/1563] [D loss: -1.828605] [G loss: 1.006431]\n",
      "[Epoch 108] [Batch 200/1563] [D loss: 0.447227] [G loss: -0.095043]\n",
      "[Epoch 108] [Batch 300/1563] [D loss: -0.713065] [G loss: -0.268423]\n",
      "[Epoch 108] [Batch 400/1563] [D loss: -0.175898] [G loss: -0.685219]\n",
      "[Epoch 108] [Batch 500/1563] [D loss: 1.211509] [G loss: 1.870928]\n",
      "[Epoch 108] [Batch 600/1563] [D loss: 0.307050] [G loss: 0.329436]\n",
      "[Epoch 108] [Batch 700/1563] [D loss: -0.580446] [G loss: 1.273073]\n",
      "[Epoch 108] [Batch 800/1563] [D loss: -0.475096] [G loss: 0.994136]\n",
      "[Epoch 108] [Batch 900/1563] [D loss: -0.586643] [G loss: 1.306030]\n",
      "[Epoch 108] [Batch 1000/1563] [D loss: 1.739305] [G loss: 1.034792]\n",
      "[Epoch 108] [Batch 1100/1563] [D loss: 0.103973] [G loss: 0.475941]\n",
      "[Epoch 108] [Batch 1200/1563] [D loss: 1.149921] [G loss: 0.621282]\n",
      "[Epoch 108] [Batch 1300/1563] [D loss: 0.150478] [G loss: 1.013070]\n",
      "[Epoch 108] [Batch 1400/1563] [D loss: 0.284214] [G loss: 1.810541]\n",
      "[Epoch 108] [Batch 1500/1563] [D loss: 0.348570] [G loss: 1.293642]\n"
     ]
    },
    {
     "name": "stderr",
     "output_type": "stream",
     "text": [
      "sample images: 100%|██████████| 256/256 [00:05<00:00, 47.48it/s]\n"
     ]
    },
    {
     "name": "stdout",
     "output_type": "stream",
     "text": [
      "Warning: number of images is not a multiple of the batch size. Some samples are going to be ignored.\n"
     ]
    },
    {
     "name": "stderr",
     "output_type": "stream",
     "text": [
      "100%|██████████| 81/81 [00:04<00:00, 19.58it/s]\n"
     ]
    },
    {
     "name": "stdout",
     "output_type": "stream",
     "text": [
      "FID score: 56.93670654296875\n"
     ]
    },
    {
     "name": "stderr",
     "output_type": "stream",
     "text": [
      "sample images: 100%|██████████| 256/256 [00:05<00:00, 47.36it/s]\n"
     ]
    },
    {
     "name": "stdout",
     "output_type": "stream",
     "text": [
      "Inception score: 5.090478868284676\n",
      "----- Epoch Summary -----\n",
      "Dis Loss: -0.048275 - Gen Loss: 0.891700 - Dis LR: 7.17616e-05 - Gen LR: 7.17616e-05\n",
      "FID score: 56.93670654296875 - Inception score: 5.090478868284676 || @ epoch 108.\n",
      "Best FID score: 52.11676025390625 @ epoch 96\n",
      "-----      End      -----\n",
      "\n",
      "------- Epoch 109 -------\n",
      "[Epoch 109] [Batch 100/1563] [D loss: 1.963306] [G loss: 1.356841]\n",
      "[Epoch 109] [Batch 200/1563] [D loss: -0.458066] [G loss: -0.220736]\n",
      "[Epoch 109] [Batch 300/1563] [D loss: -0.938218] [G loss: 0.391493]\n",
      "[Epoch 109] [Batch 400/1563] [D loss: -2.245359] [G loss: 0.237282]\n",
      "[Epoch 109] [Batch 500/1563] [D loss: 0.620964] [G loss: 0.648869]\n",
      "[Epoch 109] [Batch 600/1563] [D loss: -1.139767] [G loss: 0.432176]\n",
      "[Epoch 109] [Batch 700/1563] [D loss: 0.754214] [G loss: 0.121762]\n",
      "[Epoch 109] [Batch 800/1563] [D loss: 1.298761] [G loss: 1.466045]\n",
      "[Epoch 109] [Batch 900/1563] [D loss: -0.010542] [G loss: 1.398581]\n",
      "[Epoch 109] [Batch 1000/1563] [D loss: -0.082678] [G loss: 0.650102]\n",
      "[Epoch 109] [Batch 1100/1563] [D loss: -0.602189] [G loss: 1.667594]\n",
      "[Epoch 109] [Batch 1200/1563] [D loss: 0.604304] [G loss: 2.110129]\n",
      "[Epoch 109] [Batch 1300/1563] [D loss: -1.026260] [G loss: 0.611376]\n",
      "[Epoch 109] [Batch 1400/1563] [D loss: 0.684200] [G loss: 0.511415]\n",
      "[Epoch 109] [Batch 1500/1563] [D loss: -1.125273] [G loss: -0.037207]\n"
     ]
    },
    {
     "name": "stderr",
     "output_type": "stream",
     "text": [
      "sample images: 100%|██████████| 256/256 [00:05<00:00, 47.43it/s]\n"
     ]
    },
    {
     "name": "stdout",
     "output_type": "stream",
     "text": [
      "Warning: number of images is not a multiple of the batch size. Some samples are going to be ignored.\n"
     ]
    },
    {
     "name": "stderr",
     "output_type": "stream",
     "text": [
      "100%|██████████| 81/81 [00:04<00:00, 19.62it/s]\n"
     ]
    },
    {
     "name": "stdout",
     "output_type": "stream",
     "text": [
      "FID score: 54.126922607421875\n"
     ]
    },
    {
     "name": "stderr",
     "output_type": "stream",
     "text": [
      "sample images: 100%|██████████| 256/256 [00:05<00:00, 47.37it/s]\n"
     ]
    },
    {
     "name": "stdout",
     "output_type": "stream",
     "text": [
      "Inception score: 5.188748761423921\n",
      "----- Epoch Summary -----\n",
      "Dis Loss: -0.034075 - Gen Loss: 0.840327 - Dis LR: 7.1289e-05 - Gen LR: 7.1289e-05\n",
      "FID score: 54.126922607421875 - Inception score: 5.188748761423921 || @ epoch 109.\n",
      "Best FID score: 52.11676025390625 @ epoch 96\n",
      "-----      End      -----\n",
      "\n",
      "------- Epoch 110 -------\n",
      "[Epoch 110] [Batch 100/1563] [D loss: 1.576203] [G loss: 0.729022]\n",
      "[Epoch 110] [Batch 200/1563] [D loss: 0.131805] [G loss: 1.211296]\n",
      "[Epoch 110] [Batch 300/1563] [D loss: 0.954596] [G loss: 0.668206]\n",
      "[Epoch 110] [Batch 400/1563] [D loss: 1.069065] [G loss: -1.021013]\n",
      "[Epoch 110] [Batch 500/1563] [D loss: 0.114428] [G loss: 1.422089]\n",
      "[Epoch 110] [Batch 600/1563] [D loss: -0.854395] [G loss: 1.229748]\n",
      "[Epoch 110] [Batch 700/1563] [D loss: 0.774098] [G loss: -0.296306]\n",
      "[Epoch 110] [Batch 800/1563] [D loss: -0.249987] [G loss: 0.943675]\n",
      "[Epoch 110] [Batch 900/1563] [D loss: -0.272143] [G loss: 1.201913]\n",
      "[Epoch 110] [Batch 1000/1563] [D loss: -0.081337] [G loss: -0.154674]\n",
      "[Epoch 110] [Batch 1100/1563] [D loss: -0.496591] [G loss: 0.455689]\n",
      "[Epoch 110] [Batch 1200/1563] [D loss: 0.286577] [G loss: -0.242292]\n",
      "[Epoch 110] [Batch 1300/1563] [D loss: 0.096344] [G loss: 0.690690]\n",
      "[Epoch 110] [Batch 1400/1563] [D loss: 0.331416] [G loss: 0.080193]\n",
      "[Epoch 110] [Batch 1500/1563] [D loss: -0.116720] [G loss: -0.372442]\n"
     ]
    },
    {
     "name": "stderr",
     "output_type": "stream",
     "text": [
      "sample images: 100%|██████████| 256/256 [00:05<00:00, 47.43it/s]\n"
     ]
    },
    {
     "name": "stdout",
     "output_type": "stream",
     "text": [
      "Warning: number of images is not a multiple of the batch size. Some samples are going to be ignored.\n"
     ]
    },
    {
     "name": "stderr",
     "output_type": "stream",
     "text": [
      "100%|██████████| 81/81 [00:04<00:00, 19.58it/s]\n"
     ]
    },
    {
     "name": "stdout",
     "output_type": "stream",
     "text": [
      "FID score: 61.3092041015625\n"
     ]
    },
    {
     "name": "stderr",
     "output_type": "stream",
     "text": [
      "sample images: 100%|██████████| 256/256 [00:05<00:00, 47.59it/s]\n"
     ]
    },
    {
     "name": "stdout",
     "output_type": "stream",
     "text": [
      "Inception score: 4.869408918480585\n",
      "----- Epoch Summary -----\n",
      "Dis Loss: -0.048161 - Gen Loss: 0.453999 - Dis LR: 7.0814e-05 - Gen LR: 7.0814e-05\n",
      "FID score: 61.3092041015625 - Inception score: 4.869408918480585 || @ epoch 110.\n",
      "Best FID score: 52.11676025390625 @ epoch 96\n",
      "-----      End      -----\n",
      "\n",
      "------- Epoch 111 -------\n",
      "[Epoch 111] [Batch 0/1563] [D loss: 0.763998] [G loss: -0.083723]\n",
      "[Epoch 111] [Batch 100/1563] [D loss: -0.458465] [G loss: 0.773644]\n",
      "[Epoch 111] [Batch 200/1563] [D loss: -0.916111] [G loss: 0.749982]\n",
      "[Epoch 111] [Batch 300/1563] [D loss: -0.396315] [G loss: 0.768643]\n",
      "[Epoch 111] [Batch 400/1563] [D loss: -0.091191] [G loss: 0.783837]\n",
      "[Epoch 111] [Batch 500/1563] [D loss: -0.531239] [G loss: -0.297827]\n",
      "[Epoch 111] [Batch 600/1563] [D loss: 0.507462] [G loss: -0.127816]\n",
      "[Epoch 111] [Batch 700/1563] [D loss: 0.126060] [G loss: -0.497525]\n",
      "[Epoch 111] [Batch 800/1563] [D loss: 0.080844] [G loss: -1.043445]\n",
      "[Epoch 111] [Batch 900/1563] [D loss: -1.645225] [G loss: -0.782182]\n",
      "[Epoch 111] [Batch 1000/1563] [D loss: 0.408588] [G loss: -0.264848]\n",
      "[Epoch 111] [Batch 1100/1563] [D loss: 0.706330] [G loss: 0.585105]\n",
      "[Epoch 111] [Batch 1200/1563] [D loss: 1.266150] [G loss: -0.106611]\n",
      "[Epoch 111] [Batch 1300/1563] [D loss: 0.469771] [G loss: -0.756884]\n",
      "[Epoch 111] [Batch 1400/1563] [D loss: -0.141886] [G loss: -0.585314]\n",
      "[Epoch 111] [Batch 1500/1563] [D loss: 0.519992] [G loss: -0.223169]\n"
     ]
    },
    {
     "name": "stderr",
     "output_type": "stream",
     "text": [
      "sample images: 100%|██████████| 256/256 [00:05<00:00, 47.48it/s]\n"
     ]
    },
    {
     "name": "stdout",
     "output_type": "stream",
     "text": [
      "Warning: number of images is not a multiple of the batch size. Some samples are going to be ignored.\n"
     ]
    },
    {
     "name": "stderr",
     "output_type": "stream",
     "text": [
      "100%|██████████| 81/81 [00:04<00:00, 19.62it/s]\n"
     ]
    },
    {
     "name": "stdout",
     "output_type": "stream",
     "text": [
      "FID score: 57.637451171875\n"
     ]
    },
    {
     "name": "stderr",
     "output_type": "stream",
     "text": [
      "sample images: 100%|██████████| 256/256 [00:05<00:00, 47.52it/s]\n"
     ]
    },
    {
     "name": "stdout",
     "output_type": "stream",
     "text": [
      "Inception score: 4.479087885780076\n",
      "----- Epoch Summary -----\n",
      "Dis Loss: -0.042780 - Gen Loss: 0.113122 - Dis LR: 7.03368e-05 - Gen LR: 7.03368e-05\n",
      "FID score: 57.637451171875 - Inception score: 4.479087885780076 || @ epoch 111.\n",
      "Best FID score: 52.11676025390625 @ epoch 96\n",
      "-----      End      -----\n",
      "\n",
      "------- Epoch 112 -------\n",
      "[Epoch 112] [Batch 100/1563] [D loss: 0.558285] [G loss: 0.765271]\n",
      "[Epoch 112] [Batch 200/1563] [D loss: 0.083519] [G loss: 0.623181]\n",
      "[Epoch 112] [Batch 300/1563] [D loss: -0.492971] [G loss: 0.758184]\n",
      "[Epoch 112] [Batch 400/1563] [D loss: 0.819995] [G loss: 0.130713]\n",
      "[Epoch 112] [Batch 500/1563] [D loss: 0.422415] [G loss: -0.570733]\n",
      "[Epoch 112] [Batch 600/1563] [D loss: 0.146011] [G loss: 0.135924]\n",
      "[Epoch 112] [Batch 700/1563] [D loss: -0.325863] [G loss: 0.002345]\n",
      "[Epoch 112] [Batch 800/1563] [D loss: -0.351481] [G loss: 0.439466]\n",
      "[Epoch 112] [Batch 900/1563] [D loss: -0.619493] [G loss: 0.475911]\n",
      "[Epoch 112] [Batch 1000/1563] [D loss: 0.555477] [G loss: 0.457804]\n",
      "[Epoch 112] [Batch 1100/1563] [D loss: -1.317460] [G loss: 0.706182]\n",
      "[Epoch 112] [Batch 1200/1563] [D loss: 0.085349] [G loss: -0.462344]\n",
      "[Epoch 112] [Batch 1300/1563] [D loss: -0.752490] [G loss: -0.281887]\n",
      "[Epoch 112] [Batch 1400/1563] [D loss: -1.928797] [G loss: -1.198512]\n",
      "[Epoch 112] [Batch 1500/1563] [D loss: 0.959112] [G loss: -0.711364]\n"
     ]
    },
    {
     "name": "stderr",
     "output_type": "stream",
     "text": [
      "sample images: 100%|██████████| 256/256 [00:05<00:00, 47.47it/s]\n"
     ]
    },
    {
     "name": "stdout",
     "output_type": "stream",
     "text": [
      "Warning: number of images is not a multiple of the batch size. Some samples are going to be ignored.\n"
     ]
    },
    {
     "name": "stderr",
     "output_type": "stream",
     "text": [
      "100%|██████████| 81/81 [00:04<00:00, 19.59it/s]\n"
     ]
    },
    {
     "name": "stdout",
     "output_type": "stream",
     "text": [
      "FID score: 57.33294677734375\n"
     ]
    },
    {
     "name": "stderr",
     "output_type": "stream",
     "text": [
      "sample images: 100%|██████████| 256/256 [00:05<00:00, 47.45it/s]\n"
     ]
    },
    {
     "name": "stdout",
     "output_type": "stream",
     "text": [
      "Inception score: 5.053403007443255\n",
      "----- Epoch Summary -----\n",
      "Dis Loss: -0.040675 - Gen Loss: -0.176183 - Dis LR: 6.98574e-05 - Gen LR: 6.98574e-05\n",
      "FID score: 57.33294677734375 - Inception score: 5.053403007443255 || @ epoch 112.\n",
      "Best FID score: 52.11676025390625 @ epoch 96\n",
      "-----      End      -----\n",
      "\n",
      "------- Epoch 113 -------\n",
      "[Epoch 113] [Batch 100/1563] [D loss: 1.289443] [G loss: -0.362625]\n",
      "[Epoch 113] [Batch 200/1563] [D loss: 1.046283] [G loss: -0.324621]\n",
      "[Epoch 113] [Batch 300/1563] [D loss: -0.166701] [G loss: -0.848926]\n",
      "[Epoch 113] [Batch 400/1563] [D loss: -0.627295] [G loss: -0.830394]\n",
      "[Epoch 113] [Batch 500/1563] [D loss: -1.444647] [G loss: -0.799846]\n",
      "[Epoch 113] [Batch 600/1563] [D loss: -0.518293] [G loss: -0.419763]\n",
      "[Epoch 113] [Batch 700/1563] [D loss: 0.816474] [G loss: -1.603086]\n",
      "[Epoch 113] [Batch 800/1563] [D loss: 0.297801] [G loss: -1.147688]\n",
      "[Epoch 113] [Batch 900/1563] [D loss: -1.016452] [G loss: -0.616950]\n",
      "[Epoch 113] [Batch 1000/1563] [D loss: -1.612256] [G loss: -1.664300]\n",
      "[Epoch 113] [Batch 1100/1563] [D loss: -0.236238] [G loss: -0.428855]\n",
      "[Epoch 113] [Batch 1200/1563] [D loss: -0.372076] [G loss: -1.252558]\n",
      "[Epoch 113] [Batch 1300/1563] [D loss: 0.179476] [G loss: -0.600355]\n",
      "[Epoch 113] [Batch 1400/1563] [D loss: 0.413116] [G loss: 0.141372]\n",
      "[Epoch 113] [Batch 1500/1563] [D loss: 0.120890] [G loss: -0.885644]\n"
     ]
    },
    {
     "name": "stderr",
     "output_type": "stream",
     "text": [
      "sample images: 100%|██████████| 256/256 [00:05<00:00, 47.52it/s]\n"
     ]
    },
    {
     "name": "stdout",
     "output_type": "stream",
     "text": [
      "Warning: number of images is not a multiple of the batch size. Some samples are going to be ignored.\n"
     ]
    },
    {
     "name": "stderr",
     "output_type": "stream",
     "text": [
      "100%|██████████| 81/81 [00:04<00:00, 19.56it/s]\n"
     ]
    },
    {
     "name": "stdout",
     "output_type": "stream",
     "text": [
      "FID score: 61.147857666015625\n"
     ]
    },
    {
     "name": "stderr",
     "output_type": "stream",
     "text": [
      "sample images: 100%|██████████| 256/256 [00:05<00:00, 47.52it/s]\n"
     ]
    },
    {
     "name": "stdout",
     "output_type": "stream",
     "text": [
      "Inception score: 4.659246096146366\n",
      "----- Epoch Summary -----\n",
      "Dis Loss: -0.056197 - Gen Loss: -0.831172 - Dis LR: 6.93758e-05 - Gen LR: 6.93758e-05\n",
      "FID score: 61.147857666015625 - Inception score: 4.659246096146366 || @ epoch 113.\n",
      "Best FID score: 52.11676025390625 @ epoch 96\n",
      "-----      End      -----\n",
      "\n",
      "------- Epoch 114 -------\n",
      "[Epoch 114] [Batch 100/1563] [D loss: -0.009815] [G loss: -0.047623]\n",
      "[Epoch 114] [Batch 200/1563] [D loss: -0.347232] [G loss: 0.060626]\n",
      "[Epoch 114] [Batch 300/1563] [D loss: 0.079998] [G loss: 0.337812]\n",
      "[Epoch 114] [Batch 400/1563] [D loss: -0.800836] [G loss: -1.756500]\n",
      "[Epoch 114] [Batch 500/1563] [D loss: 0.866551] [G loss: -0.151202]\n",
      "[Epoch 114] [Batch 600/1563] [D loss: 0.474209] [G loss: -0.222950]\n",
      "[Epoch 114] [Batch 700/1563] [D loss: -0.141944] [G loss: -0.583014]\n",
      "[Epoch 114] [Batch 800/1563] [D loss: 1.141342] [G loss: -0.632189]\n",
      "[Epoch 114] [Batch 900/1563] [D loss: 0.040574] [G loss: -0.793732]\n",
      "[Epoch 114] [Batch 1000/1563] [D loss: 0.203872] [G loss: -0.902309]\n",
      "[Epoch 114] [Batch 1100/1563] [D loss: -0.881446] [G loss: 0.283859]\n",
      "[Epoch 114] [Batch 1200/1563] [D loss: -0.297115] [G loss: 0.428292]\n",
      "[Epoch 114] [Batch 1300/1563] [D loss: 0.709721] [G loss: -0.757402]\n",
      "[Epoch 114] [Batch 1400/1563] [D loss: -0.203129] [G loss: -1.024011]\n",
      "[Epoch 114] [Batch 1500/1563] [D loss: 0.468551] [G loss: -0.728296]\n"
     ]
    },
    {
     "name": "stderr",
     "output_type": "stream",
     "text": [
      "sample images: 100%|██████████| 256/256 [00:05<00:00, 47.45it/s]\n"
     ]
    },
    {
     "name": "stdout",
     "output_type": "stream",
     "text": [
      "Warning: number of images is not a multiple of the batch size. Some samples are going to be ignored.\n"
     ]
    },
    {
     "name": "stderr",
     "output_type": "stream",
     "text": [
      "100%|██████████| 81/81 [00:04<00:00, 19.58it/s]\n"
     ]
    },
    {
     "name": "stdout",
     "output_type": "stream",
     "text": [
      "FID score: 54.866485595703125\n"
     ]
    },
    {
     "name": "stderr",
     "output_type": "stream",
     "text": [
      "sample images: 100%|██████████| 256/256 [00:05<00:00, 47.57it/s]\n"
     ]
    },
    {
     "name": "stdout",
     "output_type": "stream",
     "text": [
      "Inception score: 5.122827602319954\n",
      "----- Epoch Summary -----\n",
      "Dis Loss: -0.030437 - Gen Loss: -0.695571 - Dis LR: 6.8892e-05 - Gen LR: 6.8892e-05\n",
      "FID score: 54.866485595703125 - Inception score: 5.122827602319954 || @ epoch 114.\n",
      "Best FID score: 52.11676025390625 @ epoch 96\n",
      "-----      End      -----\n",
      "\n",
      "------- Epoch 115 -------\n",
      "[Epoch 115] [Batch 100/1563] [D loss: -1.360967] [G loss: -2.237876]\n",
      "[Epoch 115] [Batch 200/1563] [D loss: 0.358782] [G loss: -0.221694]\n",
      "[Epoch 115] [Batch 300/1563] [D loss: -0.110351] [G loss: -0.177252]\n",
      "[Epoch 115] [Batch 400/1563] [D loss: 0.227974] [G loss: -1.147156]\n",
      "[Epoch 115] [Batch 500/1563] [D loss: -0.300042] [G loss: -0.367413]\n",
      "[Epoch 115] [Batch 600/1563] [D loss: -0.078576] [G loss: -0.417601]\n",
      "[Epoch 115] [Batch 700/1563] [D loss: 0.102575] [G loss: -1.892810]\n",
      "[Epoch 115] [Batch 800/1563] [D loss: 0.575710] [G loss: -0.284373]\n",
      "[Epoch 115] [Batch 900/1563] [D loss: -0.727458] [G loss: 0.136565]\n",
      "[Epoch 115] [Batch 1000/1563] [D loss: -1.273596] [G loss: -0.369031]\n",
      "[Epoch 115] [Batch 1100/1563] [D loss: 0.882118] [G loss: -1.620484]\n",
      "[Epoch 115] [Batch 1200/1563] [D loss: 0.698629] [G loss: -1.318666]\n",
      "[Epoch 115] [Batch 1300/1563] [D loss: 1.321063] [G loss: -0.781567]\n",
      "[Epoch 115] [Batch 1400/1563] [D loss: 0.727846] [G loss: 0.511258]\n",
      "[Epoch 115] [Batch 1500/1563] [D loss: 0.522958] [G loss: -0.527405]\n"
     ]
    },
    {
     "name": "stderr",
     "output_type": "stream",
     "text": [
      "sample images: 100%|██████████| 256/256 [00:05<00:00, 47.53it/s]\n"
     ]
    },
    {
     "name": "stdout",
     "output_type": "stream",
     "text": [
      "Warning: number of images is not a multiple of the batch size. Some samples are going to be ignored.\n"
     ]
    },
    {
     "name": "stderr",
     "output_type": "stream",
     "text": [
      "100%|██████████| 81/81 [00:04<00:00, 19.58it/s]\n"
     ]
    },
    {
     "name": "stdout",
     "output_type": "stream",
     "text": [
      "FID score: 60.298614501953125\n"
     ]
    },
    {
     "name": "stderr",
     "output_type": "stream",
     "text": [
      "sample images: 100%|██████████| 256/256 [00:05<00:00, 47.46it/s]\n"
     ]
    },
    {
     "name": "stdout",
     "output_type": "stream",
     "text": [
      "Inception score: 4.720168769782393\n",
      "----- Epoch Summary -----\n",
      "Dis Loss: -0.047988 - Gen Loss: -0.759049 - Dis LR: 6.84062e-05 - Gen LR: 6.84062e-05\n",
      "FID score: 60.298614501953125 - Inception score: 4.720168769782393 || @ epoch 115.\n",
      "Best FID score: 52.11676025390625 @ epoch 96\n",
      "-----      End      -----\n",
      "\n",
      "------- Epoch 116 -------\n",
      "[Epoch 116] [Batch 0/1563] [D loss: 0.519582] [G loss: -0.591733]\n",
      "[Epoch 116] [Batch 100/1563] [D loss: -0.165847] [G loss: -0.673183]\n",
      "[Epoch 116] [Batch 200/1563] [D loss: -0.385830] [G loss: -0.190852]\n",
      "[Epoch 116] [Batch 300/1563] [D loss: -0.331474] [G loss: -1.347689]\n",
      "[Epoch 116] [Batch 400/1563] [D loss: 1.148268] [G loss: -1.439722]\n",
      "[Epoch 116] [Batch 500/1563] [D loss: -0.145204] [G loss: -1.520230]\n",
      "[Epoch 116] [Batch 600/1563] [D loss: 0.090773] [G loss: -0.135637]\n",
      "[Epoch 116] [Batch 700/1563] [D loss: 0.664329] [G loss: -0.782801]\n",
      "[Epoch 116] [Batch 800/1563] [D loss: -0.643781] [G loss: 0.455045]\n",
      "[Epoch 116] [Batch 900/1563] [D loss: -0.148006] [G loss: -0.529504]\n",
      "[Epoch 116] [Batch 1000/1563] [D loss: -1.082559] [G loss: -0.808866]\n",
      "[Epoch 116] [Batch 1100/1563] [D loss: -0.432772] [G loss: -0.033434]\n",
      "[Epoch 116] [Batch 1200/1563] [D loss: -0.353527] [G loss: 0.601378]\n",
      "[Epoch 116] [Batch 1300/1563] [D loss: 0.239027] [G loss: -0.500110]\n",
      "[Epoch 116] [Batch 1400/1563] [D loss: -0.447651] [G loss: 0.265768]\n",
      "[Epoch 116] [Batch 1500/1563] [D loss: 1.951571] [G loss: -1.178584]\n"
     ]
    },
    {
     "name": "stderr",
     "output_type": "stream",
     "text": [
      "sample images: 100%|██████████| 256/256 [00:05<00:00, 47.58it/s]\n"
     ]
    },
    {
     "name": "stdout",
     "output_type": "stream",
     "text": [
      "Warning: number of images is not a multiple of the batch size. Some samples are going to be ignored.\n"
     ]
    },
    {
     "name": "stderr",
     "output_type": "stream",
     "text": [
      "100%|██████████| 81/81 [00:04<00:00, 19.56it/s]\n"
     ]
    },
    {
     "name": "stdout",
     "output_type": "stream",
     "text": [
      "FID score: 55.146942138671875\n"
     ]
    },
    {
     "name": "stderr",
     "output_type": "stream",
     "text": [
      "sample images: 100%|██████████| 256/256 [00:05<00:00, 47.56it/s]\n"
     ]
    },
    {
     "name": "stdout",
     "output_type": "stream",
     "text": [
      "Inception score: 5.160982224156252\n",
      "----- Epoch Summary -----\n",
      "Dis Loss: -0.068184 - Gen Loss: -0.508740 - Dis LR: 6.79184e-05 - Gen LR: 6.79184e-05\n",
      "FID score: 55.146942138671875 - Inception score: 5.160982224156252 || @ epoch 116.\n",
      "Best FID score: 52.11676025390625 @ epoch 96\n",
      "-----      End      -----\n",
      "\n",
      "------- Epoch 117 -------\n",
      "[Epoch 117] [Batch 100/1563] [D loss: 0.438695] [G loss: -0.412980]\n",
      "[Epoch 117] [Batch 200/1563] [D loss: -0.023083] [G loss: -1.301402]\n",
      "[Epoch 117] [Batch 300/1563] [D loss: -0.106543] [G loss: -1.029522]\n",
      "[Epoch 117] [Batch 400/1563] [D loss: 0.267268] [G loss: -1.142722]\n",
      "[Epoch 117] [Batch 500/1563] [D loss: 1.456179] [G loss: -1.321523]\n",
      "[Epoch 117] [Batch 600/1563] [D loss: 1.804820] [G loss: -2.195039]\n",
      "[Epoch 117] [Batch 700/1563] [D loss: 0.834905] [G loss: -0.651761]\n",
      "[Epoch 117] [Batch 800/1563] [D loss: 0.015342] [G loss: -0.464518]\n",
      "[Epoch 117] [Batch 900/1563] [D loss: -1.187869] [G loss: 0.212783]\n",
      "[Epoch 117] [Batch 1000/1563] [D loss: -0.657056] [G loss: -1.267364]\n",
      "[Epoch 117] [Batch 1100/1563] [D loss: 0.168592] [G loss: -0.515164]\n",
      "[Epoch 117] [Batch 1200/1563] [D loss: -0.166947] [G loss: -0.574457]\n",
      "[Epoch 117] [Batch 1300/1563] [D loss: 0.127156] [G loss: -2.588143]\n",
      "[Epoch 117] [Batch 1400/1563] [D loss: 0.468230] [G loss: -1.611037]\n",
      "[Epoch 117] [Batch 1500/1563] [D loss: 1.026951] [G loss: -0.346277]\n"
     ]
    },
    {
     "name": "stderr",
     "output_type": "stream",
     "text": [
      "sample images: 100%|██████████| 256/256 [00:05<00:00, 47.47it/s]\n"
     ]
    },
    {
     "name": "stdout",
     "output_type": "stream",
     "text": [
      "Warning: number of images is not a multiple of the batch size. Some samples are going to be ignored.\n"
     ]
    },
    {
     "name": "stderr",
     "output_type": "stream",
     "text": [
      "100%|██████████| 81/81 [00:04<00:00, 19.58it/s]\n"
     ]
    },
    {
     "name": "stdout",
     "output_type": "stream",
     "text": [
      "FID score: 55.07147216796875\n"
     ]
    },
    {
     "name": "stderr",
     "output_type": "stream",
     "text": [
      "sample images: 100%|██████████| 256/256 [00:05<00:00, 47.34it/s]\n"
     ]
    },
    {
     "name": "stdout",
     "output_type": "stream",
     "text": [
      "Inception score: 4.892361740198447\n",
      "----- Epoch Summary -----\n",
      "Dis Loss: -0.067970 - Gen Loss: -0.765152 - Dis LR: 6.74286e-05 - Gen LR: 6.74286e-05\n",
      "FID score: 55.07147216796875 - Inception score: 4.892361740198447 || @ epoch 117.\n",
      "Best FID score: 52.11676025390625 @ epoch 96\n",
      "-----      End      -----\n",
      "\n",
      "------- Epoch 118 -------\n",
      "[Epoch 118] [Batch 100/1563] [D loss: 2.592879] [G loss: 0.838521]\n",
      "[Epoch 118] [Batch 200/1563] [D loss: 1.198575] [G loss: -1.233242]\n",
      "[Epoch 118] [Batch 300/1563] [D loss: -1.067766] [G loss: -1.848709]\n",
      "[Epoch 118] [Batch 400/1563] [D loss: -0.988592] [G loss: -0.743174]\n",
      "[Epoch 118] [Batch 500/1563] [D loss: -0.262822] [G loss: -0.984520]\n",
      "[Epoch 118] [Batch 600/1563] [D loss: 0.089227] [G loss: 0.306823]\n",
      "[Epoch 118] [Batch 700/1563] [D loss: -1.060484] [G loss: -0.476151]\n",
      "[Epoch 118] [Batch 800/1563] [D loss: -0.093613] [G loss: -1.122478]\n",
      "[Epoch 118] [Batch 900/1563] [D loss: -1.053463] [G loss: 0.302763]\n",
      "[Epoch 118] [Batch 1000/1563] [D loss: 0.486540] [G loss: -0.824459]\n",
      "[Epoch 118] [Batch 1100/1563] [D loss: 0.179553] [G loss: 0.558589]\n",
      "[Epoch 118] [Batch 1200/1563] [D loss: -1.750410] [G loss: 0.813131]\n",
      "[Epoch 118] [Batch 1300/1563] [D loss: -0.143834] [G loss: -1.829046]\n",
      "[Epoch 118] [Batch 1400/1563] [D loss: 1.579475] [G loss: -0.291757]\n",
      "[Epoch 118] [Batch 1500/1563] [D loss: -1.032020] [G loss: 0.171095]\n"
     ]
    },
    {
     "name": "stderr",
     "output_type": "stream",
     "text": [
      "sample images: 100%|██████████| 256/256 [00:05<00:00, 47.57it/s]\n"
     ]
    },
    {
     "name": "stdout",
     "output_type": "stream",
     "text": [
      "Warning: number of images is not a multiple of the batch size. Some samples are going to be ignored.\n"
     ]
    },
    {
     "name": "stderr",
     "output_type": "stream",
     "text": [
      "100%|██████████| 81/81 [00:04<00:00, 19.60it/s]\n"
     ]
    },
    {
     "name": "stdout",
     "output_type": "stream",
     "text": [
      "FID score: 54.4300537109375\n"
     ]
    },
    {
     "name": "stderr",
     "output_type": "stream",
     "text": [
      "sample images: 100%|██████████| 256/256 [00:05<00:00, 47.65it/s]\n"
     ]
    },
    {
     "name": "stdout",
     "output_type": "stream",
     "text": [
      "Inception score: 5.226362424487364\n",
      "----- Epoch Summary -----\n",
      "Dis Loss: -0.095389 - Gen Loss: -0.448839 - Dis LR: 6.69369e-05 - Gen LR: 6.69369e-05\n",
      "FID score: 54.4300537109375 - Inception score: 5.226362424487364 || @ epoch 118.\n",
      "Best FID score: 52.11676025390625 @ epoch 96\n",
      "-----      End      -----\n",
      "\n",
      "------- Epoch 119 -------\n",
      "[Epoch 119] [Batch 100/1563] [D loss: -1.389408] [G loss: -1.358434]\n",
      "[Epoch 119] [Batch 200/1563] [D loss: 1.090738] [G loss: -0.168485]\n",
      "[Epoch 119] [Batch 300/1563] [D loss: 0.057408] [G loss: -0.857034]\n",
      "[Epoch 119] [Batch 400/1563] [D loss: 0.197093] [G loss: 0.272592]\n",
      "[Epoch 119] [Batch 500/1563] [D loss: -0.048432] [G loss: -1.138479]\n",
      "[Epoch 119] [Batch 600/1563] [D loss: 1.801730] [G loss: -0.024159]\n",
      "[Epoch 119] [Batch 700/1563] [D loss: 0.243157] [G loss: -0.248869]\n",
      "[Epoch 119] [Batch 800/1563] [D loss: -0.508712] [G loss: -0.826896]\n",
      "[Epoch 119] [Batch 900/1563] [D loss: 0.876670] [G loss: -1.162267]\n",
      "[Epoch 119] [Batch 1000/1563] [D loss: -1.035653] [G loss: -1.503150]\n",
      "[Epoch 119] [Batch 1100/1563] [D loss: 0.227962] [G loss: -1.439854]\n",
      "[Epoch 119] [Batch 1200/1563] [D loss: 0.352240] [G loss: -1.781241]\n",
      "[Epoch 119] [Batch 1300/1563] [D loss: 0.979191] [G loss: -0.709776]\n",
      "[Epoch 119] [Batch 1400/1563] [D loss: -0.209220] [G loss: -0.939218]\n",
      "[Epoch 119] [Batch 1500/1563] [D loss: -0.332037] [G loss: -0.621844]\n"
     ]
    },
    {
     "name": "stderr",
     "output_type": "stream",
     "text": [
      "sample images: 100%|██████████| 256/256 [00:05<00:00, 47.61it/s]\n"
     ]
    },
    {
     "name": "stdout",
     "output_type": "stream",
     "text": [
      "Warning: number of images is not a multiple of the batch size. Some samples are going to be ignored.\n"
     ]
    },
    {
     "name": "stderr",
     "output_type": "stream",
     "text": [
      "100%|██████████| 81/81 [00:04<00:00, 19.61it/s]\n"
     ]
    },
    {
     "name": "stdout",
     "output_type": "stream",
     "text": [
      "FID score: 60.056884765625\n"
     ]
    },
    {
     "name": "stderr",
     "output_type": "stream",
     "text": [
      "sample images: 100%|██████████| 256/256 [00:05<00:00, 47.59it/s]\n"
     ]
    },
    {
     "name": "stdout",
     "output_type": "stream",
     "text": [
      "Inception score: 4.885105139939635\n",
      "----- Epoch Summary -----\n",
      "Dis Loss: -0.067926 - Gen Loss: -0.824955 - Dis LR: 6.64433e-05 - Gen LR: 6.64433e-05\n",
      "FID score: 60.056884765625 - Inception score: 4.885105139939635 || @ epoch 119.\n",
      "Best FID score: 52.11676025390625 @ epoch 96\n",
      "-----      End      -----\n",
      "\n",
      "------- Epoch 120 -------\n",
      "[Epoch 120] [Batch 100/1563] [D loss: 0.735391] [G loss: -1.966103]\n",
      "[Epoch 120] [Batch 200/1563] [D loss: -1.039249] [G loss: 0.783619]\n",
      "[Epoch 120] [Batch 300/1563] [D loss: 0.130649] [G loss: -0.506158]\n",
      "[Epoch 120] [Batch 400/1563] [D loss: -1.927308] [G loss: -0.065456]\n",
      "[Epoch 120] [Batch 500/1563] [D loss: -1.171570] [G loss: -1.032442]\n",
      "[Epoch 120] [Batch 600/1563] [D loss: -0.179054] [G loss: -1.546145]\n",
      "[Epoch 120] [Batch 700/1563] [D loss: 0.939528] [G loss: -1.881480]\n",
      "[Epoch 120] [Batch 800/1563] [D loss: 0.455316] [G loss: -1.542947]\n",
      "[Epoch 120] [Batch 900/1563] [D loss: 0.844110] [G loss: -1.123765]\n",
      "[Epoch 120] [Batch 1000/1563] [D loss: -0.321185] [G loss: -1.546401]\n",
      "[Epoch 120] [Batch 1100/1563] [D loss: -0.449953] [G loss: -2.435279]\n",
      "[Epoch 120] [Batch 1200/1563] [D loss: 1.149867] [G loss: -1.465921]\n",
      "[Epoch 120] [Batch 1300/1563] [D loss: 0.169785] [G loss: -1.509280]\n",
      "[Epoch 120] [Batch 1400/1563] [D loss: 0.747759] [G loss: -1.306383]\n",
      "[Epoch 120] [Batch 1500/1563] [D loss: 0.129963] [G loss: -1.743750]\n"
     ]
    },
    {
     "name": "stderr",
     "output_type": "stream",
     "text": [
      "sample images: 100%|██████████| 256/256 [00:05<00:00, 47.61it/s]\n"
     ]
    },
    {
     "name": "stdout",
     "output_type": "stream",
     "text": [
      "Warning: number of images is not a multiple of the batch size. Some samples are going to be ignored.\n"
     ]
    },
    {
     "name": "stderr",
     "output_type": "stream",
     "text": [
      "100%|██████████| 81/81 [00:04<00:00, 19.57it/s]\n"
     ]
    },
    {
     "name": "stdout",
     "output_type": "stream",
     "text": [
      "FID score: 68.88970947265625\n"
     ]
    },
    {
     "name": "stderr",
     "output_type": "stream",
     "text": [
      "sample images: 100%|██████████| 256/256 [00:05<00:00, 47.56it/s]\n"
     ]
    },
    {
     "name": "stdout",
     "output_type": "stream",
     "text": [
      "Inception score: 4.57404630214813\n",
      "----- Epoch Summary -----\n",
      "Dis Loss: -0.044726 - Gen Loss: -0.951748 - Dis LR: 6.5948e-05 - Gen LR: 6.5948e-05\n",
      "FID score: 68.88970947265625 - Inception score: 4.57404630214813 || @ epoch 120.\n",
      "Best FID score: 52.11676025390625 @ epoch 96\n",
      "-----      End      -----\n",
      "\n",
      "------- Epoch 121 -------\n",
      "[Epoch 121] [Batch 0/1563] [D loss: 0.759740] [G loss: -1.235272]\n",
      "[Epoch 121] [Batch 100/1563] [D loss: 1.103986] [G loss: -0.908989]\n",
      "[Epoch 121] [Batch 200/1563] [D loss: -0.791519] [G loss: -0.797530]\n",
      "[Epoch 121] [Batch 300/1563] [D loss: -0.402852] [G loss: -0.514459]\n",
      "[Epoch 121] [Batch 400/1563] [D loss: -0.581535] [G loss: -0.713890]\n",
      "[Epoch 121] [Batch 500/1563] [D loss: 0.924009] [G loss: 0.195745]\n",
      "[Epoch 121] [Batch 600/1563] [D loss: -1.284491] [G loss: -0.776824]\n",
      "[Epoch 121] [Batch 700/1563] [D loss: -0.218513] [G loss: -1.383960]\n",
      "[Epoch 121] [Batch 800/1563] [D loss: 0.145379] [G loss: 0.161587]\n",
      "[Epoch 121] [Batch 900/1563] [D loss: -0.393694] [G loss: -0.233626]\n",
      "[Epoch 121] [Batch 1000/1563] [D loss: -1.967680] [G loss: -0.972345]\n",
      "[Epoch 121] [Batch 1100/1563] [D loss: -0.851781] [G loss: 0.009984]\n",
      "[Epoch 121] [Batch 1200/1563] [D loss: 1.246292] [G loss: -0.076527]\n",
      "[Epoch 121] [Batch 1300/1563] [D loss: -0.773212] [G loss: 2.062985]\n",
      "[Epoch 121] [Batch 1400/1563] [D loss: 0.425841] [G loss: 0.116995]\n",
      "[Epoch 121] [Batch 1500/1563] [D loss: -0.805699] [G loss: -1.326039]\n"
     ]
    },
    {
     "name": "stderr",
     "output_type": "stream",
     "text": [
      "sample images: 100%|██████████| 256/256 [00:05<00:00, 47.56it/s]\n"
     ]
    },
    {
     "name": "stdout",
     "output_type": "stream",
     "text": [
      "Warning: number of images is not a multiple of the batch size. Some samples are going to be ignored.\n"
     ]
    },
    {
     "name": "stderr",
     "output_type": "stream",
     "text": [
      "100%|██████████| 81/81 [00:04<00:00, 19.57it/s]\n"
     ]
    },
    {
     "name": "stdout",
     "output_type": "stream",
     "text": [
      "FID score: 64.85867309570312\n"
     ]
    },
    {
     "name": "stderr",
     "output_type": "stream",
     "text": [
      "sample images: 100%|██████████| 256/256 [00:05<00:00, 47.61it/s]\n"
     ]
    },
    {
     "name": "stdout",
     "output_type": "stream",
     "text": [
      "Inception score: 4.92366400706282\n",
      "----- Epoch Summary -----\n",
      "Dis Loss: -0.089379 - Gen Loss: -0.651268 - Dis LR: 6.54508e-05 - Gen LR: 6.54508e-05\n",
      "FID score: 64.85867309570312 - Inception score: 4.92366400706282 || @ epoch 121.\n",
      "Best FID score: 52.11676025390625 @ epoch 96\n",
      "-----      End      -----\n",
      "\n",
      "------- Epoch 122 -------\n",
      "[Epoch 122] [Batch 100/1563] [D loss: 1.172950] [G loss: -1.917810]\n",
      "[Epoch 122] [Batch 200/1563] [D loss: -0.111708] [G loss: -0.708910]\n",
      "[Epoch 122] [Batch 300/1563] [D loss: -0.908473] [G loss: -0.432662]\n",
      "[Epoch 122] [Batch 400/1563] [D loss: 0.094612] [G loss: -1.806018]\n",
      "[Epoch 122] [Batch 500/1563] [D loss: -0.234237] [G loss: -0.529544]\n",
      "[Epoch 122] [Batch 600/1563] [D loss: -0.334210] [G loss: -1.880233]\n",
      "[Epoch 122] [Batch 700/1563] [D loss: 1.082350] [G loss: -1.541639]\n",
      "[Epoch 122] [Batch 800/1563] [D loss: 0.072432] [G loss: -2.282529]\n",
      "[Epoch 122] [Batch 900/1563] [D loss: 0.234863] [G loss: -1.748266]\n",
      "[Epoch 122] [Batch 1000/1563] [D loss: -0.461202] [G loss: -0.011103]\n",
      "[Epoch 122] [Batch 1100/1563] [D loss: -2.253411] [G loss: -1.138311]\n",
      "[Epoch 122] [Batch 1200/1563] [D loss: -1.054003] [G loss: 0.123677]\n",
      "[Epoch 122] [Batch 1300/1563] [D loss: -0.177726] [G loss: -0.534439]\n",
      "[Epoch 122] [Batch 1400/1563] [D loss: -0.805193] [G loss: -1.089236]\n",
      "[Epoch 122] [Batch 1500/1563] [D loss: 0.836505] [G loss: -0.656662]\n"
     ]
    },
    {
     "name": "stderr",
     "output_type": "stream",
     "text": [
      "sample images: 100%|██████████| 256/256 [00:05<00:00, 47.35it/s]\n"
     ]
    },
    {
     "name": "stdout",
     "output_type": "stream",
     "text": [
      "Warning: number of images is not a multiple of the batch size. Some samples are going to be ignored.\n"
     ]
    },
    {
     "name": "stderr",
     "output_type": "stream",
     "text": [
      "100%|██████████| 81/81 [00:04<00:00, 19.58it/s]\n"
     ]
    },
    {
     "name": "stdout",
     "output_type": "stream",
     "text": [
      "FID score: 56.9410400390625\n"
     ]
    },
    {
     "name": "stderr",
     "output_type": "stream",
     "text": [
      "sample images: 100%|██████████| 256/256 [00:05<00:00, 47.57it/s]\n"
     ]
    },
    {
     "name": "stdout",
     "output_type": "stream",
     "text": [
      "Inception score: 4.845541981007212\n",
      "----- Epoch Summary -----\n",
      "Dis Loss: -0.082709 - Gen Loss: -0.895171 - Dis LR: 6.4952e-05 - Gen LR: 6.4952e-05\n",
      "FID score: 56.9410400390625 - Inception score: 4.845541981007212 || @ epoch 122.\n",
      "Best FID score: 52.11676025390625 @ epoch 96\n",
      "-----      End      -----\n",
      "\n",
      "------- Epoch 123 -------\n",
      "[Epoch 123] [Batch 100/1563] [D loss: -0.501194] [G loss: 1.560443]\n",
      "[Epoch 123] [Batch 200/1563] [D loss: 0.802347] [G loss: -0.395956]\n",
      "[Epoch 123] [Batch 300/1563] [D loss: -0.442425] [G loss: 0.052075]\n",
      "[Epoch 123] [Batch 400/1563] [D loss: 0.667413] [G loss: -0.293934]\n",
      "[Epoch 123] [Batch 500/1563] [D loss: 0.628390] [G loss: 0.985986]\n",
      "[Epoch 123] [Batch 600/1563] [D loss: -0.417901] [G loss: -0.577350]\n",
      "[Epoch 123] [Batch 700/1563] [D loss: 0.280809] [G loss: -0.449493]\n",
      "[Epoch 123] [Batch 800/1563] [D loss: -0.688822] [G loss: 0.061874]\n",
      "[Epoch 123] [Batch 900/1563] [D loss: -1.096792] [G loss: -0.445760]\n",
      "[Epoch 123] [Batch 1000/1563] [D loss: 0.508928] [G loss: -0.035327]\n",
      "[Epoch 123] [Batch 1100/1563] [D loss: 0.789798] [G loss: 1.175671]\n",
      "[Epoch 123] [Batch 1200/1563] [D loss: -0.570939] [G loss: 1.477847]\n",
      "[Epoch 123] [Batch 1300/1563] [D loss: 1.519287] [G loss: 0.840792]\n",
      "[Epoch 123] [Batch 1400/1563] [D loss: -1.878800] [G loss: -0.075229]\n",
      "[Epoch 123] [Batch 1500/1563] [D loss: -1.791827] [G loss: -0.565603]\n"
     ]
    },
    {
     "name": "stderr",
     "output_type": "stream",
     "text": [
      "sample images: 100%|██████████| 256/256 [00:05<00:00, 46.56it/s]\n"
     ]
    },
    {
     "name": "stdout",
     "output_type": "stream",
     "text": [
      "Warning: number of images is not a multiple of the batch size. Some samples are going to be ignored.\n"
     ]
    },
    {
     "name": "stderr",
     "output_type": "stream",
     "text": [
      "100%|██████████| 81/81 [00:04<00:00, 19.13it/s]\n"
     ]
    },
    {
     "name": "stdout",
     "output_type": "stream",
     "text": [
      "FID score: 62.740936279296875\n"
     ]
    },
    {
     "name": "stderr",
     "output_type": "stream",
     "text": [
      "sample images: 100%|██████████| 256/256 [00:05<00:00, 47.17it/s]\n"
     ]
    },
    {
     "name": "stdout",
     "output_type": "stream",
     "text": [
      "Inception score: 4.738263656894621\n",
      "----- Epoch Summary -----\n",
      "Dis Loss: -0.042873 - Gen Loss: -0.187984 - Dis LR: 6.44516e-05 - Gen LR: 6.44516e-05\n",
      "FID score: 62.740936279296875 - Inception score: 4.738263656894621 || @ epoch 123.\n",
      "Best FID score: 52.11676025390625 @ epoch 96\n",
      "-----      End      -----\n",
      "\n",
      "------- Epoch 124 -------\n",
      "[Epoch 124] [Batch 100/1563] [D loss: -0.581208] [G loss: 0.246687]\n",
      "[Epoch 124] [Batch 200/1563] [D loss: 0.777053] [G loss: 0.032396]\n",
      "[Epoch 124] [Batch 300/1563] [D loss: -1.077841] [G loss: 0.213499]\n",
      "[Epoch 124] [Batch 400/1563] [D loss: -0.012603] [G loss: -0.437782]\n",
      "[Epoch 124] [Batch 500/1563] [D loss: 0.967110] [G loss: -0.680820]\n",
      "[Epoch 124] [Batch 600/1563] [D loss: -0.871975] [G loss: 0.757962]\n",
      "[Epoch 124] [Batch 700/1563] [D loss: 0.209177] [G loss: 0.552520]\n",
      "[Epoch 124] [Batch 800/1563] [D loss: -0.132724] [G loss: 0.915538]\n",
      "[Epoch 124] [Batch 900/1563] [D loss: 0.848184] [G loss: -0.367759]\n",
      "[Epoch 124] [Batch 1000/1563] [D loss: 1.434050] [G loss: 0.492630]\n",
      "[Epoch 124] [Batch 1100/1563] [D loss: -0.105497] [G loss: -0.668276]\n",
      "[Epoch 124] [Batch 1200/1563] [D loss: -0.371376] [G loss: 1.332534]\n",
      "[Epoch 124] [Batch 1300/1563] [D loss: 0.125350] [G loss: -0.869567]\n",
      "[Epoch 124] [Batch 1400/1563] [D loss: -1.926216] [G loss: 0.154572]\n",
      "[Epoch 124] [Batch 1500/1563] [D loss: -0.360027] [G loss: -0.713905]\n"
     ]
    },
    {
     "name": "stderr",
     "output_type": "stream",
     "text": [
      "sample images: 100%|██████████| 256/256 [00:05<00:00, 47.54it/s]\n"
     ]
    },
    {
     "name": "stdout",
     "output_type": "stream",
     "text": [
      "Warning: number of images is not a multiple of the batch size. Some samples are going to be ignored.\n"
     ]
    },
    {
     "name": "stderr",
     "output_type": "stream",
     "text": [
      "100%|██████████| 81/81 [00:04<00:00, 19.57it/s]\n"
     ]
    },
    {
     "name": "stdout",
     "output_type": "stream",
     "text": [
      "FID score: 55.108642578125\n"
     ]
    },
    {
     "name": "stderr",
     "output_type": "stream",
     "text": [
      "sample images: 100%|██████████| 256/256 [00:05<00:00, 47.64it/s]\n"
     ]
    },
    {
     "name": "stdout",
     "output_type": "stream",
     "text": [
      "Inception score: 5.136326551526164\n",
      "----- Epoch Summary -----\n",
      "Dis Loss: -0.068902 - Gen Loss: -0.105598 - Dis LR: 6.39496e-05 - Gen LR: 6.39496e-05\n",
      "FID score: 55.108642578125 - Inception score: 5.136326551526164 || @ epoch 124.\n",
      "Best FID score: 52.11676025390625 @ epoch 96\n",
      "-----      End      -----\n",
      "\n",
      "------- Epoch 125 -------\n",
      "[Epoch 125] [Batch 100/1563] [D loss: 0.182226] [G loss: 0.268878]\n",
      "[Epoch 125] [Batch 200/1563] [D loss: 0.884377] [G loss: -0.970292]\n",
      "[Epoch 125] [Batch 300/1563] [D loss: -0.142072] [G loss: -0.409043]\n",
      "[Epoch 125] [Batch 400/1563] [D loss: -1.413454] [G loss: 0.282967]\n",
      "[Epoch 125] [Batch 500/1563] [D loss: -0.797287] [G loss: -0.139314]\n",
      "[Epoch 125] [Batch 600/1563] [D loss: -1.169152] [G loss: -1.262712]\n",
      "[Epoch 125] [Batch 700/1563] [D loss: 1.492081] [G loss: 0.111603]\n",
      "[Epoch 125] [Batch 800/1563] [D loss: 1.135506] [G loss: -1.902657]\n",
      "[Epoch 125] [Batch 900/1563] [D loss: -0.726782] [G loss: -0.274828]\n",
      "[Epoch 125] [Batch 1000/1563] [D loss: 0.382366] [G loss: -0.849016]\n",
      "[Epoch 125] [Batch 1100/1563] [D loss: 0.280940] [G loss: 0.477006]\n",
      "[Epoch 125] [Batch 1200/1563] [D loss: -1.307139] [G loss: 1.836846]\n",
      "[Epoch 125] [Batch 1300/1563] [D loss: -1.601381] [G loss: 0.486102]\n",
      "[Epoch 125] [Batch 1400/1563] [D loss: -1.382414] [G loss: 1.119436]\n",
      "[Epoch 125] [Batch 1500/1563] [D loss: -0.757794] [G loss: 0.039538]\n"
     ]
    },
    {
     "name": "stderr",
     "output_type": "stream",
     "text": [
      "sample images: 100%|██████████| 256/256 [00:05<00:00, 47.69it/s]\n"
     ]
    },
    {
     "name": "stdout",
     "output_type": "stream",
     "text": [
      "Warning: number of images is not a multiple of the batch size. Some samples are going to be ignored.\n"
     ]
    },
    {
     "name": "stderr",
     "output_type": "stream",
     "text": [
      "100%|██████████| 81/81 [00:04<00:00, 19.59it/s]\n"
     ]
    },
    {
     "name": "stdout",
     "output_type": "stream",
     "text": [
      "FID score: 56.39599609375\n"
     ]
    },
    {
     "name": "stderr",
     "output_type": "stream",
     "text": [
      "sample images: 100%|██████████| 256/256 [00:05<00:00, 47.64it/s]\n"
     ]
    },
    {
     "name": "stdout",
     "output_type": "stream",
     "text": [
      "Inception score: 4.949351998143477\n",
      "----- Epoch Summary -----\n",
      "Dis Loss: -0.068141 - Gen Loss: 0.131731 - Dis LR: 6.3446e-05 - Gen LR: 6.3446e-05\n",
      "FID score: 56.39599609375 - Inception score: 4.949351998143477 || @ epoch 125.\n",
      "Best FID score: 52.11676025390625 @ epoch 96\n",
      "-----      End      -----\n",
      "\n",
      "------- Epoch 126 -------\n",
      "[Epoch 126] [Batch 0/1563] [D loss: -0.234332] [G loss: -0.544956]\n",
      "[Epoch 126] [Batch 100/1563] [D loss: -1.558038] [G loss: -0.124700]\n",
      "[Epoch 126] [Batch 200/1563] [D loss: -0.187306] [G loss: -0.549200]\n",
      "[Epoch 126] [Batch 300/1563] [D loss: -0.070284] [G loss: -1.664460]\n",
      "[Epoch 126] [Batch 400/1563] [D loss: 2.148964] [G loss: 0.778208]\n",
      "[Epoch 126] [Batch 500/1563] [D loss: -0.714378] [G loss: -2.063662]\n",
      "[Epoch 126] [Batch 600/1563] [D loss: -0.316052] [G loss: -1.792158]\n",
      "[Epoch 126] [Batch 700/1563] [D loss: -1.630099] [G loss: -2.400959]\n",
      "[Epoch 126] [Batch 800/1563] [D loss: 0.118308] [G loss: -0.188942]\n",
      "[Epoch 126] [Batch 900/1563] [D loss: -1.891393] [G loss: -1.856010]\n",
      "[Epoch 126] [Batch 1000/1563] [D loss: -1.263996] [G loss: 0.675627]\n",
      "[Epoch 126] [Batch 1100/1563] [D loss: -0.426212] [G loss: -1.958077]\n",
      "[Epoch 126] [Batch 1200/1563] [D loss: 0.849493] [G loss: -0.807947]\n",
      "[Epoch 126] [Batch 1300/1563] [D loss: 0.774202] [G loss: -0.974288]\n",
      "[Epoch 126] [Batch 1400/1563] [D loss: 0.505465] [G loss: -0.081661]\n",
      "[Epoch 126] [Batch 1500/1563] [D loss: 0.560443] [G loss: -0.673797]\n"
     ]
    },
    {
     "name": "stderr",
     "output_type": "stream",
     "text": [
      "sample images: 100%|██████████| 256/256 [00:05<00:00, 47.72it/s]\n"
     ]
    },
    {
     "name": "stdout",
     "output_type": "stream",
     "text": [
      "Warning: number of images is not a multiple of the batch size. Some samples are going to be ignored.\n"
     ]
    },
    {
     "name": "stderr",
     "output_type": "stream",
     "text": [
      "100%|██████████| 81/81 [00:04<00:00, 19.60it/s]\n"
     ]
    },
    {
     "name": "stdout",
     "output_type": "stream",
     "text": [
      "FID score: 58.317169189453125\n"
     ]
    },
    {
     "name": "stderr",
     "output_type": "stream",
     "text": [
      "sample images: 100%|██████████| 256/256 [00:05<00:00, 47.59it/s]\n"
     ]
    },
    {
     "name": "stdout",
     "output_type": "stream",
     "text": [
      "Inception score: 5.119501879218814\n",
      "----- Epoch Summary -----\n",
      "Dis Loss: -0.082897 - Gen Loss: -0.538572 - Dis LR: 6.2941e-05 - Gen LR: 6.2941e-05\n",
      "FID score: 58.317169189453125 - Inception score: 5.119501879218814 || @ epoch 126.\n",
      "Best FID score: 52.11676025390625 @ epoch 96\n",
      "-----      End      -----\n",
      "\n",
      "------- Epoch 127 -------\n",
      "[Epoch 127] [Batch 100/1563] [D loss: -0.519108] [G loss: -1.259457]\n",
      "[Epoch 127] [Batch 200/1563] [D loss: -1.242616] [G loss: 0.323170]\n",
      "[Epoch 127] [Batch 300/1563] [D loss: -1.504177] [G loss: -1.665535]\n",
      "[Epoch 127] [Batch 400/1563] [D loss: -0.019639] [G loss: -1.392805]\n",
      "[Epoch 127] [Batch 500/1563] [D loss: -0.926234] [G loss: 0.740282]\n",
      "[Epoch 127] [Batch 600/1563] [D loss: -1.016972] [G loss: 0.597162]\n",
      "[Epoch 127] [Batch 700/1563] [D loss: -0.397918] [G loss: 0.645025]\n",
      "[Epoch 127] [Batch 800/1563] [D loss: -0.910318] [G loss: -0.142380]\n",
      "[Epoch 127] [Batch 900/1563] [D loss: 0.937448] [G loss: 0.521477]\n",
      "[Epoch 127] [Batch 1000/1563] [D loss: 0.007820] [G loss: -0.622431]\n",
      "[Epoch 127] [Batch 1100/1563] [D loss: 0.034741] [G loss: 0.825436]\n",
      "[Epoch 127] [Batch 1200/1563] [D loss: -0.463921] [G loss: -0.340345]\n",
      "[Epoch 127] [Batch 1300/1563] [D loss: -0.224598] [G loss: 0.459334]\n",
      "[Epoch 127] [Batch 1400/1563] [D loss: -0.626876] [G loss: -0.396146]\n",
      "[Epoch 127] [Batch 1500/1563] [D loss: 1.262743] [G loss: 0.347770]\n"
     ]
    },
    {
     "name": "stderr",
     "output_type": "stream",
     "text": [
      "sample images: 100%|██████████| 256/256 [00:05<00:00, 47.54it/s]\n"
     ]
    },
    {
     "name": "stdout",
     "output_type": "stream",
     "text": [
      "Warning: number of images is not a multiple of the batch size. Some samples are going to be ignored.\n"
     ]
    },
    {
     "name": "stderr",
     "output_type": "stream",
     "text": [
      "100%|██████████| 81/81 [00:04<00:00, 19.60it/s]\n"
     ]
    },
    {
     "name": "stdout",
     "output_type": "stream",
     "text": [
      "FID score: 53.7156982421875\n"
     ]
    },
    {
     "name": "stderr",
     "output_type": "stream",
     "text": [
      "sample images: 100%|██████████| 256/256 [00:05<00:00, 47.59it/s]\n"
     ]
    },
    {
     "name": "stdout",
     "output_type": "stream",
     "text": [
      "Inception score: 4.879380200259743\n",
      "----- Epoch Summary -----\n",
      "Dis Loss: -0.023149 - Gen Loss: -0.389894 - Dis LR: 6.24345e-05 - Gen LR: 6.24345e-05\n",
      "FID score: 53.7156982421875 - Inception score: 4.879380200259743 || @ epoch 127.\n",
      "Best FID score: 52.11676025390625 @ epoch 96\n",
      "-----      End      -----\n",
      "\n",
      "------- Epoch 128 -------\n",
      "[Epoch 128] [Batch 100/1563] [D loss: 0.555331] [G loss: -0.831769]\n",
      "[Epoch 128] [Batch 200/1563] [D loss: -0.117322] [G loss: -0.336124]\n",
      "[Epoch 128] [Batch 300/1563] [D loss: -1.139258] [G loss: 0.867705]\n",
      "[Epoch 128] [Batch 400/1563] [D loss: 1.092777] [G loss: 1.121745]\n",
      "[Epoch 128] [Batch 500/1563] [D loss: 0.395665] [G loss: -1.318595]\n",
      "[Epoch 128] [Batch 600/1563] [D loss: 0.737200] [G loss: -0.418931]\n",
      "[Epoch 128] [Batch 700/1563] [D loss: 0.367705] [G loss: 0.119085]\n",
      "[Epoch 128] [Batch 800/1563] [D loss: 1.492143] [G loss: -1.729315]\n",
      "[Epoch 128] [Batch 900/1563] [D loss: -1.933617] [G loss: -0.255589]\n",
      "[Epoch 128] [Batch 1000/1563] [D loss: 0.306441] [G loss: -1.074337]\n",
      "[Epoch 128] [Batch 1100/1563] [D loss: 0.419291] [G loss: 0.669290]\n",
      "[Epoch 128] [Batch 1200/1563] [D loss: 0.046084] [G loss: 0.880818]\n",
      "[Epoch 128] [Batch 1300/1563] [D loss: 0.459146] [G loss: 0.991045]\n",
      "[Epoch 128] [Batch 1400/1563] [D loss: 0.552552] [G loss: -0.044538]\n",
      "[Epoch 128] [Batch 1500/1563] [D loss: 0.280108] [G loss: 0.156575]\n"
     ]
    },
    {
     "name": "stderr",
     "output_type": "stream",
     "text": [
      "sample images: 100%|██████████| 256/256 [00:05<00:00, 47.59it/s]\n"
     ]
    },
    {
     "name": "stdout",
     "output_type": "stream",
     "text": [
      "Warning: number of images is not a multiple of the batch size. Some samples are going to be ignored.\n"
     ]
    },
    {
     "name": "stderr",
     "output_type": "stream",
     "text": [
      "100%|██████████| 81/81 [00:04<00:00, 19.59it/s]\n"
     ]
    },
    {
     "name": "stdout",
     "output_type": "stream",
     "text": [
      "FID score: 57.704437255859375\n"
     ]
    },
    {
     "name": "stderr",
     "output_type": "stream",
     "text": [
      "sample images: 100%|██████████| 256/256 [00:05<00:00, 47.59it/s]\n"
     ]
    },
    {
     "name": "stdout",
     "output_type": "stream",
     "text": [
      "Inception score: 5.201813956386214\n",
      "----- Epoch Summary -----\n",
      "Dis Loss: -0.073650 - Gen Loss: -0.316967 - Dis LR: 6.19267e-05 - Gen LR: 6.19267e-05\n",
      "FID score: 57.704437255859375 - Inception score: 5.201813956386214 || @ epoch 128.\n",
      "Best FID score: 52.11676025390625 @ epoch 96\n",
      "-----      End      -----\n",
      "\n",
      "------- Epoch 129 -------\n",
      "[Epoch 129] [Batch 100/1563] [D loss: -1.048880] [G loss: -0.117875]\n",
      "[Epoch 129] [Batch 200/1563] [D loss: 0.295857] [G loss: -0.605426]\n",
      "[Epoch 129] [Batch 300/1563] [D loss: -0.684707] [G loss: -0.121822]\n",
      "[Epoch 129] [Batch 400/1563] [D loss: -0.594580] [G loss: -0.471378]\n",
      "[Epoch 129] [Batch 500/1563] [D loss: -0.797483] [G loss: 1.751805]\n",
      "[Epoch 129] [Batch 600/1563] [D loss: -1.193821] [G loss: -0.555978]\n",
      "[Epoch 129] [Batch 700/1563] [D loss: 0.680325] [G loss: 1.368283]\n",
      "[Epoch 129] [Batch 800/1563] [D loss: 0.778329] [G loss: -0.878463]\n",
      "[Epoch 129] [Batch 900/1563] [D loss: 1.457112] [G loss: 0.530923]\n",
      "[Epoch 129] [Batch 1000/1563] [D loss: -2.284272] [G loss: -0.433764]\n",
      "[Epoch 129] [Batch 1100/1563] [D loss: -0.340806] [G loss: 0.589413]\n",
      "[Epoch 129] [Batch 1200/1563] [D loss: 1.712339] [G loss: -1.128386]\n",
      "[Epoch 129] [Batch 1300/1563] [D loss: -0.878152] [G loss: -1.421265]\n",
      "[Epoch 129] [Batch 1400/1563] [D loss: 0.462940] [G loss: -1.463112]\n",
      "[Epoch 129] [Batch 1500/1563] [D loss: -1.963621] [G loss: 0.101125]\n"
     ]
    },
    {
     "name": "stderr",
     "output_type": "stream",
     "text": [
      "sample images: 100%|██████████| 256/256 [00:05<00:00, 47.61it/s]\n"
     ]
    },
    {
     "name": "stdout",
     "output_type": "stream",
     "text": [
      "Warning: number of images is not a multiple of the batch size. Some samples are going to be ignored.\n"
     ]
    },
    {
     "name": "stderr",
     "output_type": "stream",
     "text": [
      "100%|██████████| 81/81 [00:04<00:00, 19.61it/s]\n"
     ]
    },
    {
     "name": "stdout",
     "output_type": "stream",
     "text": [
      "FID score: 62.04681396484375\n"
     ]
    },
    {
     "name": "stderr",
     "output_type": "stream",
     "text": [
      "sample images: 100%|██████████| 256/256 [00:05<00:00, 47.35it/s]\n"
     ]
    },
    {
     "name": "stdout",
     "output_type": "stream",
     "text": [
      "Inception score: 4.898750574544413\n",
      "----- Epoch Summary -----\n",
      "Dis Loss: -0.079666 - Gen Loss: -0.013134 - Dis LR: 6.14175e-05 - Gen LR: 6.14175e-05\n",
      "FID score: 62.04681396484375 - Inception score: 4.898750574544413 || @ epoch 129.\n",
      "Best FID score: 52.11676025390625 @ epoch 96\n",
      "-----      End      -----\n",
      "\n",
      "------- Epoch 130 -------\n",
      "[Epoch 130] [Batch 100/1563] [D loss: 0.459008] [G loss: -0.698118]\n",
      "[Epoch 130] [Batch 200/1563] [D loss: 0.275173] [G loss: -0.843333]\n",
      "[Epoch 130] [Batch 300/1563] [D loss: 1.544537] [G loss: -0.458635]\n",
      "[Epoch 130] [Batch 400/1563] [D loss: -0.207440] [G loss: -0.342234]\n",
      "[Epoch 130] [Batch 500/1563] [D loss: 0.634433] [G loss: -1.168708]\n",
      "[Epoch 130] [Batch 600/1563] [D loss: -1.176948] [G loss: -1.164763]\n",
      "[Epoch 130] [Batch 700/1563] [D loss: -0.158219] [G loss: -1.971096]\n",
      "[Epoch 130] [Batch 800/1563] [D loss: 1.370115] [G loss: -1.943168]\n",
      "[Epoch 130] [Batch 900/1563] [D loss: -0.838604] [G loss: -0.036926]\n",
      "[Epoch 130] [Batch 1000/1563] [D loss: -1.505433] [G loss: -1.719353]\n",
      "[Epoch 130] [Batch 1100/1563] [D loss: -0.085651] [G loss: -1.418545]\n",
      "[Epoch 130] [Batch 1200/1563] [D loss: -0.064976] [G loss: -0.132987]\n",
      "[Epoch 130] [Batch 1300/1563] [D loss: 0.135023] [G loss: -1.314477]\n",
      "[Epoch 130] [Batch 1400/1563] [D loss: -0.095879] [G loss: -1.584843]\n",
      "[Epoch 130] [Batch 1500/1563] [D loss: 0.587990] [G loss: -1.459795]\n"
     ]
    },
    {
     "name": "stderr",
     "output_type": "stream",
     "text": [
      "sample images: 100%|██████████| 256/256 [00:05<00:00, 47.63it/s]\n"
     ]
    },
    {
     "name": "stdout",
     "output_type": "stream",
     "text": [
      "Warning: number of images is not a multiple of the batch size. Some samples are going to be ignored.\n"
     ]
    },
    {
     "name": "stderr",
     "output_type": "stream",
     "text": [
      "100%|██████████| 81/81 [00:04<00:00, 19.56it/s]\n"
     ]
    },
    {
     "name": "stdout",
     "output_type": "stream",
     "text": [
      "FID score: 62.0804443359375\n"
     ]
    },
    {
     "name": "stderr",
     "output_type": "stream",
     "text": [
      "sample images: 100%|██████████| 256/256 [00:05<00:00, 47.64it/s]\n"
     ]
    },
    {
     "name": "stdout",
     "output_type": "stream",
     "text": [
      "Inception score: 4.998209320724002\n",
      "----- Epoch Summary -----\n",
      "Dis Loss: -0.008569 - Gen Loss: -1.123743 - Dis LR: 6.09072e-05 - Gen LR: 6.09072e-05\n",
      "FID score: 62.0804443359375 - Inception score: 4.998209320724002 || @ epoch 130.\n",
      "Best FID score: 52.11676025390625 @ epoch 96\n",
      "-----      End      -----\n",
      "\n",
      "------- Epoch 131 -------\n",
      "[Epoch 131] [Batch 0/1563] [D loss: -0.102829] [G loss: -0.946675]\n",
      "[Epoch 131] [Batch 100/1563] [D loss: -1.837602] [G loss: -0.068915]\n",
      "[Epoch 131] [Batch 200/1563] [D loss: 0.529686] [G loss: -1.568740]\n",
      "[Epoch 131] [Batch 300/1563] [D loss: 0.679330] [G loss: -0.662133]\n",
      "[Epoch 131] [Batch 400/1563] [D loss: 0.096669] [G loss: -1.365633]\n",
      "[Epoch 131] [Batch 500/1563] [D loss: 0.089323] [G loss: -2.005758]\n",
      "[Epoch 131] [Batch 600/1563] [D loss: -0.062187] [G loss: -0.639393]\n",
      "[Epoch 131] [Batch 700/1563] [D loss: 1.642599] [G loss: -0.317468]\n",
      "[Epoch 131] [Batch 800/1563] [D loss: -0.256996] [G loss: -1.658996]\n",
      "[Epoch 131] [Batch 900/1563] [D loss: -0.296254] [G loss: -1.261017]\n",
      "[Epoch 131] [Batch 1000/1563] [D loss: 1.735136] [G loss: -0.571789]\n",
      "[Epoch 131] [Batch 1100/1563] [D loss: 0.260392] [G loss: -1.454274]\n",
      "[Epoch 131] [Batch 1200/1563] [D loss: -0.355854] [G loss: -1.300504]\n",
      "[Epoch 131] [Batch 1300/1563] [D loss: 0.022539] [G loss: -2.219692]\n",
      "[Epoch 131] [Batch 1400/1563] [D loss: -0.633191] [G loss: -2.183803]\n",
      "[Epoch 131] [Batch 1500/1563] [D loss: 0.650941] [G loss: -1.162571]\n"
     ]
    },
    {
     "name": "stderr",
     "output_type": "stream",
     "text": [
      "sample images: 100%|██████████| 256/256 [00:05<00:00, 47.55it/s]\n"
     ]
    },
    {
     "name": "stdout",
     "output_type": "stream",
     "text": [
      "Warning: number of images is not a multiple of the batch size. Some samples are going to be ignored.\n"
     ]
    },
    {
     "name": "stderr",
     "output_type": "stream",
     "text": [
      "100%|██████████| 81/81 [00:04<00:00, 19.61it/s]\n"
     ]
    },
    {
     "name": "stdout",
     "output_type": "stream",
     "text": [
      "FID score: 62.19720458984375\n"
     ]
    },
    {
     "name": "stderr",
     "output_type": "stream",
     "text": [
      "sample images: 100%|██████████| 256/256 [00:05<00:00, 47.58it/s]\n"
     ]
    },
    {
     "name": "stdout",
     "output_type": "stream",
     "text": [
      "Inception score: 5.004629903709593\n",
      "----- Epoch Summary -----\n",
      "Dis Loss: -0.064201 - Gen Loss: -1.206735 - Dis LR: 6.03956e-05 - Gen LR: 6.03956e-05\n",
      "FID score: 62.19720458984375 - Inception score: 5.004629903709593 || @ epoch 131.\n",
      "Best FID score: 52.11676025390625 @ epoch 96\n",
      "-----      End      -----\n",
      "\n",
      "------- Epoch 132 -------\n",
      "[Epoch 132] [Batch 100/1563] [D loss: 0.246441] [G loss: -1.877540]\n",
      "[Epoch 132] [Batch 200/1563] [D loss: -0.544037] [G loss: -1.716382]\n",
      "[Epoch 132] [Batch 300/1563] [D loss: 0.794268] [G loss: -3.156490]\n",
      "[Epoch 132] [Batch 400/1563] [D loss: -0.556210] [G loss: -2.303262]\n",
      "[Epoch 132] [Batch 500/1563] [D loss: 0.165370] [G loss: -3.136656]\n",
      "[Epoch 132] [Batch 600/1563] [D loss: 0.418802] [G loss: -2.948487]\n",
      "[Epoch 132] [Batch 700/1563] [D loss: -0.392384] [G loss: -1.882621]\n",
      "[Epoch 132] [Batch 800/1563] [D loss: 0.652561] [G loss: -1.079783]\n",
      "[Epoch 132] [Batch 900/1563] [D loss: -0.714198] [G loss: -1.455523]\n",
      "[Epoch 132] [Batch 1000/1563] [D loss: -0.298132] [G loss: -3.172630]\n",
      "[Epoch 132] [Batch 1100/1563] [D loss: -0.471642] [G loss: -1.629051]\n",
      "[Epoch 132] [Batch 1200/1563] [D loss: -0.106441] [G loss: -1.826410]\n",
      "[Epoch 132] [Batch 1300/1563] [D loss: -1.689919] [G loss: -2.649731]\n",
      "[Epoch 132] [Batch 1400/1563] [D loss: -1.784476] [G loss: -1.384907]\n",
      "[Epoch 132] [Batch 1500/1563] [D loss: 0.220380] [G loss: -2.005876]\n"
     ]
    },
    {
     "name": "stderr",
     "output_type": "stream",
     "text": [
      "sample images: 100%|██████████| 256/256 [00:05<00:00, 47.52it/s]\n"
     ]
    },
    {
     "name": "stdout",
     "output_type": "stream",
     "text": [
      "Warning: number of images is not a multiple of the batch size. Some samples are going to be ignored.\n"
     ]
    },
    {
     "name": "stderr",
     "output_type": "stream",
     "text": [
      "100%|██████████| 81/81 [00:04<00:00, 19.59it/s]\n"
     ]
    },
    {
     "name": "stdout",
     "output_type": "stream",
     "text": [
      "FID score: 58.5054931640625\n"
     ]
    },
    {
     "name": "stderr",
     "output_type": "stream",
     "text": [
      "sample images: 100%|██████████| 256/256 [00:05<00:00, 47.65it/s]\n"
     ]
    },
    {
     "name": "stdout",
     "output_type": "stream",
     "text": [
      "Inception score: 5.180884171785844\n",
      "----- Epoch Summary -----\n",
      "Dis Loss: -0.055574 - Gen Loss: -1.812614 - Dis LR: 5.98829e-05 - Gen LR: 5.98829e-05\n",
      "FID score: 58.5054931640625 - Inception score: 5.180884171785844 || @ epoch 132.\n",
      "Best FID score: 52.11676025390625 @ epoch 96\n",
      "-----      End      -----\n",
      "\n",
      "------- Epoch 133 -------\n",
      "[Epoch 133] [Batch 100/1563] [D loss: -1.212721] [G loss: -3.135580]\n",
      "[Epoch 133] [Batch 200/1563] [D loss: 0.440962] [G loss: -2.445494]\n",
      "[Epoch 133] [Batch 300/1563] [D loss: -0.224442] [G loss: -3.167881]\n",
      "[Epoch 133] [Batch 400/1563] [D loss: 1.015073] [G loss: -3.093760]\n",
      "[Epoch 133] [Batch 500/1563] [D loss: 1.268996] [G loss: -1.948092]\n",
      "[Epoch 133] [Batch 600/1563] [D loss: -0.573047] [G loss: -1.845257]\n",
      "[Epoch 133] [Batch 700/1563] [D loss: -0.233284] [G loss: -1.634120]\n",
      "[Epoch 133] [Batch 800/1563] [D loss: -1.112637] [G loss: -0.876758]\n",
      "[Epoch 133] [Batch 900/1563] [D loss: -0.350275] [G loss: -0.345319]\n",
      "[Epoch 133] [Batch 1000/1563] [D loss: -0.015339] [G loss: -2.188338]\n",
      "[Epoch 133] [Batch 1100/1563] [D loss: 0.596097] [G loss: -2.261273]\n",
      "[Epoch 133] [Batch 1200/1563] [D loss: 2.001015] [G loss: -2.493736]\n",
      "[Epoch 133] [Batch 1300/1563] [D loss: -1.481037] [G loss: -2.430118]\n",
      "[Epoch 133] [Batch 1400/1563] [D loss: 0.694307] [G loss: -2.261670]\n",
      "[Epoch 133] [Batch 1500/1563] [D loss: -0.736467] [G loss: -2.220069]\n"
     ]
    },
    {
     "name": "stderr",
     "output_type": "stream",
     "text": [
      "sample images: 100%|██████████| 256/256 [00:05<00:00, 47.51it/s]\n"
     ]
    },
    {
     "name": "stdout",
     "output_type": "stream",
     "text": [
      "Warning: number of images is not a multiple of the batch size. Some samples are going to be ignored.\n"
     ]
    },
    {
     "name": "stderr",
     "output_type": "stream",
     "text": [
      "100%|██████████| 81/81 [00:04<00:00, 19.60it/s]\n"
     ]
    },
    {
     "name": "stdout",
     "output_type": "stream",
     "text": [
      "FID score: 60.66876220703125\n"
     ]
    },
    {
     "name": "stderr",
     "output_type": "stream",
     "text": [
      "sample images: 100%|██████████| 256/256 [00:05<00:00, 47.64it/s]\n"
     ]
    },
    {
     "name": "stdout",
     "output_type": "stream",
     "text": [
      "Inception score: 5.0946587502187715\n",
      "----- Epoch Summary -----\n",
      "Dis Loss: -0.079269 - Gen Loss: -1.930862 - Dis LR: 5.93691e-05 - Gen LR: 5.93691e-05\n",
      "FID score: 60.66876220703125 - Inception score: 5.0946587502187715 || @ epoch 133.\n",
      "Best FID score: 52.11676025390625 @ epoch 96\n",
      "-----      End      -----\n",
      "\n",
      "------- Epoch 134 -------\n",
      "[Epoch 134] [Batch 100/1563] [D loss: 0.369872] [G loss: -1.207814]\n",
      "[Epoch 134] [Batch 200/1563] [D loss: -0.140557] [G loss: -1.788779]\n",
      "[Epoch 134] [Batch 300/1563] [D loss: -0.884710] [G loss: -1.401191]\n",
      "[Epoch 134] [Batch 400/1563] [D loss: -2.031416] [G loss: -0.184040]\n",
      "[Epoch 134] [Batch 500/1563] [D loss: -0.219936] [G loss: -1.822038]\n",
      "[Epoch 134] [Batch 600/1563] [D loss: -0.490187] [G loss: -1.090504]\n",
      "[Epoch 134] [Batch 700/1563] [D loss: -1.110189] [G loss: -1.399362]\n",
      "[Epoch 134] [Batch 800/1563] [D loss: 0.084940] [G loss: -1.299884]\n",
      "[Epoch 134] [Batch 900/1563] [D loss: 1.469806] [G loss: -2.020267]\n",
      "[Epoch 134] [Batch 1000/1563] [D loss: -0.100296] [G loss: -1.177008]\n",
      "[Epoch 134] [Batch 1100/1563] [D loss: 0.669653] [G loss: -1.411065]\n",
      "[Epoch 134] [Batch 1200/1563] [D loss: -1.848114] [G loss: -2.394177]\n",
      "[Epoch 134] [Batch 1300/1563] [D loss: -2.760714] [G loss: 1.038373]\n",
      "[Epoch 134] [Batch 1400/1563] [D loss: -0.598199] [G loss: -1.928392]\n",
      "[Epoch 134] [Batch 1500/1563] [D loss: 1.796728] [G loss: -1.322611]\n"
     ]
    },
    {
     "name": "stderr",
     "output_type": "stream",
     "text": [
      "sample images: 100%|██████████| 256/256 [00:05<00:00, 47.49it/s]\n"
     ]
    },
    {
     "name": "stdout",
     "output_type": "stream",
     "text": [
      "Warning: number of images is not a multiple of the batch size. Some samples are going to be ignored.\n"
     ]
    },
    {
     "name": "stderr",
     "output_type": "stream",
     "text": [
      "100%|██████████| 81/81 [00:04<00:00, 19.59it/s]\n"
     ]
    },
    {
     "name": "stdout",
     "output_type": "stream",
     "text": [
      "FID score: 55.260040283203125\n"
     ]
    },
    {
     "name": "stderr",
     "output_type": "stream",
     "text": [
      "sample images: 100%|██████████| 256/256 [00:05<00:00, 47.13it/s]\n"
     ]
    },
    {
     "name": "stdout",
     "output_type": "stream",
     "text": [
      "Inception score: 5.242825690407392\n",
      "----- Epoch Summary -----\n",
      "Dis Loss: -0.045788 - Gen Loss: -1.093051 - Dis LR: 5.88542e-05 - Gen LR: 5.88542e-05\n",
      "FID score: 55.260040283203125 - Inception score: 5.242825690407392 || @ epoch 134.\n",
      "Best FID score: 52.11676025390625 @ epoch 96\n",
      "-----      End      -----\n",
      "\n",
      "------- Epoch 135 -------\n",
      "[Epoch 135] [Batch 100/1563] [D loss: -1.150503] [G loss: -0.211810]\n",
      "[Epoch 135] [Batch 200/1563] [D loss: 0.486761] [G loss: -0.668076]\n",
      "[Epoch 135] [Batch 300/1563] [D loss: 0.080028] [G loss: -1.163480]\n",
      "[Epoch 135] [Batch 400/1563] [D loss: 1.303366] [G loss: -0.552289]\n",
      "[Epoch 135] [Batch 500/1563] [D loss: 0.116759] [G loss: -2.049045]\n",
      "[Epoch 135] [Batch 600/1563] [D loss: -0.297593] [G loss: -0.908415]\n",
      "[Epoch 135] [Batch 700/1563] [D loss: 0.198287] [G loss: -0.394818]\n",
      "[Epoch 135] [Batch 800/1563] [D loss: -0.035079] [G loss: -2.306244]\n",
      "[Epoch 135] [Batch 900/1563] [D loss: 0.087951] [G loss: -1.251159]\n",
      "[Epoch 135] [Batch 1000/1563] [D loss: 0.111920] [G loss: -2.898815]\n",
      "[Epoch 135] [Batch 1100/1563] [D loss: -0.450219] [G loss: -1.275792]\n",
      "[Epoch 135] [Batch 1200/1563] [D loss: -1.391153] [G loss: -1.191595]\n",
      "[Epoch 135] [Batch 1300/1563] [D loss: -2.098140] [G loss: -1.682290]\n",
      "[Epoch 135] [Batch 1400/1563] [D loss: -0.250288] [G loss: -1.699296]\n",
      "[Epoch 135] [Batch 1500/1563] [D loss: 1.107188] [G loss: -1.346141]\n"
     ]
    },
    {
     "name": "stderr",
     "output_type": "stream",
     "text": [
      "sample images: 100%|██████████| 256/256 [00:05<00:00, 47.57it/s]\n"
     ]
    },
    {
     "name": "stdout",
     "output_type": "stream",
     "text": [
      "Warning: number of images is not a multiple of the batch size. Some samples are going to be ignored.\n"
     ]
    },
    {
     "name": "stderr",
     "output_type": "stream",
     "text": [
      "100%|██████████| 81/81 [00:04<00:00, 19.55it/s]\n"
     ]
    },
    {
     "name": "stdout",
     "output_type": "stream",
     "text": [
      "FID score: 53.84771728515625\n"
     ]
    },
    {
     "name": "stderr",
     "output_type": "stream",
     "text": [
      "sample images: 100%|██████████| 256/256 [00:05<00:00, 47.65it/s]\n"
     ]
    },
    {
     "name": "stdout",
     "output_type": "stream",
     "text": [
      "Inception score: 5.345182136451037\n",
      "----- Epoch Summary -----\n",
      "Dis Loss: -0.061309 - Gen Loss: -1.482743 - Dis LR: 5.83384e-05 - Gen LR: 5.83384e-05\n",
      "FID score: 53.84771728515625 - Inception score: 5.345182136451037 || @ epoch 135.\n",
      "Best FID score: 52.11676025390625 @ epoch 96\n",
      "-----      End      -----\n",
      "\n",
      "------- Epoch 136 -------\n",
      "[Epoch 136] [Batch 0/1563] [D loss: 1.323164] [G loss: -1.875554]\n",
      "[Epoch 136] [Batch 100/1563] [D loss: -0.155467] [G loss: -1.126480]\n",
      "[Epoch 136] [Batch 200/1563] [D loss: -1.787061] [G loss: -1.579457]\n",
      "[Epoch 136] [Batch 300/1563] [D loss: 0.658388] [G loss: -0.702708]\n",
      "[Epoch 136] [Batch 400/1563] [D loss: -0.407782] [G loss: -2.014918]\n",
      "[Epoch 136] [Batch 500/1563] [D loss: -0.360458] [G loss: -2.045963]\n",
      "[Epoch 136] [Batch 600/1563] [D loss: 0.146132] [G loss: -1.959430]\n",
      "[Epoch 136] [Batch 700/1563] [D loss: 0.016233] [G loss: -1.788861]\n",
      "[Epoch 136] [Batch 800/1563] [D loss: -1.721984] [G loss: -2.213577]\n",
      "[Epoch 136] [Batch 900/1563] [D loss: 1.371698] [G loss: -0.764809]\n",
      "[Epoch 136] [Batch 1000/1563] [D loss: -0.049307] [G loss: -0.300687]\n",
      "[Epoch 136] [Batch 1100/1563] [D loss: 0.336089] [G loss: -2.439463]\n",
      "[Epoch 136] [Batch 1200/1563] [D loss: 0.387750] [G loss: -1.415906]\n",
      "[Epoch 136] [Batch 1300/1563] [D loss: -0.437919] [G loss: -1.660567]\n",
      "[Epoch 136] [Batch 1400/1563] [D loss: 0.852100] [G loss: -1.927603]\n",
      "[Epoch 136] [Batch 1500/1563] [D loss: -0.122157] [G loss: -2.299382]\n"
     ]
    },
    {
     "name": "stderr",
     "output_type": "stream",
     "text": [
      "sample images: 100%|██████████| 256/256 [00:05<00:00, 47.59it/s]\n"
     ]
    },
    {
     "name": "stdout",
     "output_type": "stream",
     "text": [
      "Warning: number of images is not a multiple of the batch size. Some samples are going to be ignored.\n"
     ]
    },
    {
     "name": "stderr",
     "output_type": "stream",
     "text": [
      "100%|██████████| 81/81 [00:04<00:00, 19.60it/s]\n"
     ]
    },
    {
     "name": "stdout",
     "output_type": "stream",
     "text": [
      "FID score: 62.42303466796875\n"
     ]
    },
    {
     "name": "stderr",
     "output_type": "stream",
     "text": [
      "sample images: 100%|██████████| 256/256 [00:05<00:00, 47.63it/s]\n"
     ]
    },
    {
     "name": "stdout",
     "output_type": "stream",
     "text": [
      "Inception score: 5.092817373482709\n",
      "----- Epoch Summary -----\n",
      "Dis Loss: -0.037450 - Gen Loss: -1.776284 - Dis LR: 5.78217e-05 - Gen LR: 5.78217e-05\n",
      "FID score: 62.42303466796875 - Inception score: 5.092817373482709 || @ epoch 136.\n",
      "Best FID score: 52.11676025390625 @ epoch 96\n",
      "-----      End      -----\n",
      "\n",
      "------- Epoch 137 -------\n",
      "[Epoch 137] [Batch 100/1563] [D loss: -0.909144] [G loss: 0.353108]\n",
      "[Epoch 137] [Batch 200/1563] [D loss: -1.017736] [G loss: -1.536441]\n",
      "[Epoch 137] [Batch 300/1563] [D loss: 0.208512] [G loss: 0.201015]\n",
      "[Epoch 137] [Batch 400/1563] [D loss: -0.046163] [G loss: -1.075200]\n",
      "[Epoch 137] [Batch 500/1563] [D loss: 1.060265] [G loss: 0.024977]\n",
      "[Epoch 137] [Batch 600/1563] [D loss: 0.686788] [G loss: -1.470402]\n",
      "[Epoch 137] [Batch 700/1563] [D loss: -0.067093] [G loss: -1.573221]\n",
      "[Epoch 137] [Batch 800/1563] [D loss: -1.084864] [G loss: -2.877961]\n",
      "[Epoch 137] [Batch 900/1563] [D loss: 1.373202] [G loss: -2.261263]\n",
      "[Epoch 137] [Batch 1000/1563] [D loss: 0.227465] [G loss: -2.102740]\n",
      "[Epoch 137] [Batch 1100/1563] [D loss: -0.032367] [G loss: -1.767452]\n",
      "[Epoch 137] [Batch 1200/1563] [D loss: -0.080927] [G loss: -2.768170]\n",
      "[Epoch 137] [Batch 1300/1563] [D loss: -0.266887] [G loss: -2.172948]\n",
      "[Epoch 137] [Batch 1400/1563] [D loss: 0.365698] [G loss: -1.512725]\n",
      "[Epoch 137] [Batch 1500/1563] [D loss: 1.705072] [G loss: -0.068717]\n"
     ]
    },
    {
     "name": "stderr",
     "output_type": "stream",
     "text": [
      "sample images: 100%|██████████| 256/256 [00:05<00:00, 47.66it/s]\n"
     ]
    },
    {
     "name": "stdout",
     "output_type": "stream",
     "text": [
      "Warning: number of images is not a multiple of the batch size. Some samples are going to be ignored.\n"
     ]
    },
    {
     "name": "stderr",
     "output_type": "stream",
     "text": [
      "100%|██████████| 81/81 [00:04<00:00, 19.59it/s]\n"
     ]
    },
    {
     "name": "stdout",
     "output_type": "stream",
     "text": [
      "FID score: 56.48876953125\n"
     ]
    },
    {
     "name": "stderr",
     "output_type": "stream",
     "text": [
      "sample images: 100%|██████████| 256/256 [00:05<00:00, 47.62it/s]\n"
     ]
    },
    {
     "name": "stdout",
     "output_type": "stream",
     "text": [
      "Inception score: 5.178982254469056\n",
      "----- Epoch Summary -----\n",
      "Dis Loss: -0.050421 - Gen Loss: -1.687281 - Dis LR: 5.73042e-05 - Gen LR: 5.73042e-05\n",
      "FID score: 56.48876953125 - Inception score: 5.178982254469056 || @ epoch 137.\n",
      "Best FID score: 52.11676025390625 @ epoch 96\n",
      "-----      End      -----\n",
      "\n",
      "------- Epoch 138 -------\n",
      "[Epoch 138] [Batch 100/1563] [D loss: -1.669561] [G loss: -2.458632]\n",
      "[Epoch 138] [Batch 200/1563] [D loss: -0.328659] [G loss: -2.223012]\n",
      "[Epoch 138] [Batch 300/1563] [D loss: -0.045065] [G loss: -1.870793]\n",
      "[Epoch 138] [Batch 400/1563] [D loss: 0.442671] [G loss: -2.471587]\n",
      "[Epoch 138] [Batch 500/1563] [D loss: -0.319780] [G loss: -2.037271]\n",
      "[Epoch 138] [Batch 600/1563] [D loss: -0.840346] [G loss: -1.748896]\n",
      "[Epoch 138] [Batch 700/1563] [D loss: 0.494117] [G loss: -2.008123]\n",
      "[Epoch 138] [Batch 800/1563] [D loss: -0.028759] [G loss: -1.808841]\n",
      "[Epoch 138] [Batch 900/1563] [D loss: -0.682698] [G loss: -1.906468]\n",
      "[Epoch 138] [Batch 1000/1563] [D loss: -0.603760] [G loss: -2.950185]\n",
      "[Epoch 138] [Batch 1100/1563] [D loss: 1.546998] [G loss: -2.908709]\n",
      "[Epoch 138] [Batch 1200/1563] [D loss: 0.129704] [G loss: -1.145775]\n",
      "[Epoch 138] [Batch 1300/1563] [D loss: -1.048228] [G loss: -2.740425]\n",
      "[Epoch 138] [Batch 1400/1563] [D loss: 1.390178] [G loss: -1.334056]\n",
      "[Epoch 138] [Batch 1500/1563] [D loss: -1.558638] [G loss: -3.219202]\n"
     ]
    },
    {
     "name": "stderr",
     "output_type": "stream",
     "text": [
      "sample images: 100%|██████████| 256/256 [00:05<00:00, 47.65it/s]\n"
     ]
    },
    {
     "name": "stdout",
     "output_type": "stream",
     "text": [
      "Warning: number of images is not a multiple of the batch size. Some samples are going to be ignored.\n"
     ]
    },
    {
     "name": "stderr",
     "output_type": "stream",
     "text": [
      "100%|██████████| 81/81 [00:04<00:00, 19.59it/s]\n"
     ]
    },
    {
     "name": "stdout",
     "output_type": "stream",
     "text": [
      "FID score: 69.97128295898438\n"
     ]
    },
    {
     "name": "stderr",
     "output_type": "stream",
     "text": [
      "sample images: 100%|██████████| 256/256 [00:05<00:00, 47.64it/s]\n"
     ]
    },
    {
     "name": "stdout",
     "output_type": "stream",
     "text": [
      "Inception score: 4.986883818460513\n",
      "----- Epoch Summary -----\n",
      "Dis Loss: -0.021421 - Gen Loss: -1.852955 - Dis LR: 5.67858e-05 - Gen LR: 5.67858e-05\n",
      "FID score: 69.97128295898438 - Inception score: 4.986883818460513 || @ epoch 138.\n",
      "Best FID score: 52.11676025390625 @ epoch 96\n",
      "-----      End      -----\n",
      "\n",
      "------- Epoch 139 -------\n",
      "[Epoch 139] [Batch 100/1563] [D loss: -1.634104] [G loss: -1.681862]\n",
      "[Epoch 139] [Batch 200/1563] [D loss: 0.361315] [G loss: -2.198363]\n",
      "[Epoch 139] [Batch 300/1563] [D loss: 0.295676] [G loss: -2.073575]\n",
      "[Epoch 139] [Batch 400/1563] [D loss: 0.411278] [G loss: -3.063189]\n",
      "[Epoch 139] [Batch 500/1563] [D loss: -0.168662] [G loss: -2.533945]\n",
      "[Epoch 139] [Batch 600/1563] [D loss: -0.453854] [G loss: -2.448665]\n",
      "[Epoch 139] [Batch 700/1563] [D loss: -0.132721] [G loss: -2.517034]\n",
      "[Epoch 139] [Batch 800/1563] [D loss: -1.625792] [G loss: -2.370174]\n",
      "[Epoch 139] [Batch 900/1563] [D loss: -0.296224] [G loss: -2.602654]\n",
      "[Epoch 139] [Batch 1000/1563] [D loss: 0.133277] [G loss: -2.145615]\n",
      "[Epoch 139] [Batch 1100/1563] [D loss: 0.243368] [G loss: -2.392606]\n",
      "[Epoch 139] [Batch 1200/1563] [D loss: 0.337423] [G loss: -3.287991]\n",
      "[Epoch 139] [Batch 1300/1563] [D loss: -1.693167] [G loss: -3.415405]\n",
      "[Epoch 139] [Batch 1400/1563] [D loss: -0.495881] [G loss: -3.323275]\n",
      "[Epoch 139] [Batch 1500/1563] [D loss: -0.079682] [G loss: -1.993237]\n"
     ]
    },
    {
     "name": "stderr",
     "output_type": "stream",
     "text": [
      "sample images: 100%|██████████| 256/256 [00:05<00:00, 47.64it/s]\n"
     ]
    },
    {
     "name": "stdout",
     "output_type": "stream",
     "text": [
      "Warning: number of images is not a multiple of the batch size. Some samples are going to be ignored.\n"
     ]
    },
    {
     "name": "stderr",
     "output_type": "stream",
     "text": [
      "100%|██████████| 81/81 [00:04<00:00, 19.60it/s]\n"
     ]
    },
    {
     "name": "stdout",
     "output_type": "stream",
     "text": [
      "FID score: 58.138916015625\n"
     ]
    },
    {
     "name": "stderr",
     "output_type": "stream",
     "text": [
      "sample images: 100%|██████████| 256/256 [00:05<00:00, 47.62it/s]\n"
     ]
    },
    {
     "name": "stdout",
     "output_type": "stream",
     "text": [
      "Inception score: 5.302537780660345\n",
      "----- Epoch Summary -----\n",
      "Dis Loss: -0.054881 - Gen Loss: -2.544350 - Dis LR: 5.62667e-05 - Gen LR: 5.62667e-05\n",
      "FID score: 58.138916015625 - Inception score: 5.302537780660345 || @ epoch 139.\n",
      "Best FID score: 52.11676025390625 @ epoch 96\n",
      "-----      End      -----\n",
      "\n",
      "------- Epoch 140 -------\n",
      "[Epoch 140] [Batch 100/1563] [D loss: -1.216964] [G loss: -2.677794]\n",
      "[Epoch 140] [Batch 200/1563] [D loss: -2.376237] [G loss: -3.669699]\n",
      "[Epoch 140] [Batch 300/1563] [D loss: 1.556343] [G loss: -2.327163]\n",
      "[Epoch 140] [Batch 400/1563] [D loss: 1.212280] [G loss: -2.240401]\n",
      "[Epoch 140] [Batch 500/1563] [D loss: -0.217854] [G loss: -2.743711]\n",
      "[Epoch 140] [Batch 600/1563] [D loss: -0.583943] [G loss: -2.546329]\n",
      "[Epoch 140] [Batch 700/1563] [D loss: -0.219743] [G loss: -2.393318]\n",
      "[Epoch 140] [Batch 800/1563] [D loss: 1.124455] [G loss: -2.341445]\n",
      "[Epoch 140] [Batch 900/1563] [D loss: 0.184221] [G loss: -1.748981]\n",
      "[Epoch 140] [Batch 1000/1563] [D loss: 1.230263] [G loss: -2.311984]\n",
      "[Epoch 140] [Batch 1100/1563] [D loss: 0.293998] [G loss: -3.063298]\n",
      "[Epoch 140] [Batch 1200/1563] [D loss: 0.903577] [G loss: -1.884175]\n",
      "[Epoch 140] [Batch 1300/1563] [D loss: 0.287365] [G loss: -1.562462]\n",
      "[Epoch 140] [Batch 1400/1563] [D loss: -1.345307] [G loss: -1.695520]\n",
      "[Epoch 140] [Batch 1500/1563] [D loss: -1.116510] [G loss: -2.582997]\n"
     ]
    },
    {
     "name": "stderr",
     "output_type": "stream",
     "text": [
      "sample images: 100%|██████████| 256/256 [00:05<00:00, 47.54it/s]\n"
     ]
    },
    {
     "name": "stdout",
     "output_type": "stream",
     "text": [
      "Warning: number of images is not a multiple of the batch size. Some samples are going to be ignored.\n"
     ]
    },
    {
     "name": "stderr",
     "output_type": "stream",
     "text": [
      "100%|██████████| 81/81 [00:04<00:00, 19.58it/s]\n"
     ]
    },
    {
     "name": "stdout",
     "output_type": "stream",
     "text": [
      "FID score: 53.484649658203125\n"
     ]
    },
    {
     "name": "stderr",
     "output_type": "stream",
     "text": [
      "sample images: 100%|██████████| 256/256 [00:05<00:00, 47.62it/s]\n"
     ]
    },
    {
     "name": "stdout",
     "output_type": "stream",
     "text": [
      "Inception score: 5.12142311046769\n",
      "----- Epoch Summary -----\n",
      "Dis Loss: -0.026867 - Gen Loss: -2.271139 - Dis LR: 5.57469e-05 - Gen LR: 5.57469e-05\n",
      "FID score: 53.484649658203125 - Inception score: 5.12142311046769 || @ epoch 140.\n",
      "Best FID score: 52.11676025390625 @ epoch 96\n",
      "-----      End      -----\n",
      "\n",
      "------- Epoch 141 -------\n",
      "[Epoch 141] [Batch 0/1563] [D loss: -0.216000] [G loss: -2.129934]\n",
      "[Epoch 141] [Batch 100/1563] [D loss: -0.974966] [G loss: -2.459193]\n",
      "[Epoch 141] [Batch 200/1563] [D loss: 1.444650] [G loss: -1.505377]\n",
      "[Epoch 141] [Batch 300/1563] [D loss: 0.798127] [G loss: -1.098121]\n",
      "[Epoch 141] [Batch 400/1563] [D loss: -0.745004] [G loss: -1.757476]\n",
      "[Epoch 141] [Batch 500/1563] [D loss: -0.193544] [G loss: -1.344198]\n",
      "[Epoch 141] [Batch 600/1563] [D loss: 0.335889] [G loss: -1.774606]\n",
      "[Epoch 141] [Batch 700/1563] [D loss: 0.148042] [G loss: -2.586659]\n",
      "[Epoch 141] [Batch 800/1563] [D loss: 0.534636] [G loss: -1.908173]\n",
      "[Epoch 141] [Batch 900/1563] [D loss: -0.011474] [G loss: -1.183086]\n",
      "[Epoch 141] [Batch 1000/1563] [D loss: -0.599411] [G loss: -1.488032]\n",
      "[Epoch 141] [Batch 1100/1563] [D loss: 0.267357] [G loss: -1.215943]\n",
      "[Epoch 141] [Batch 1200/1563] [D loss: 0.289057] [G loss: -2.519030]\n",
      "[Epoch 141] [Batch 1300/1563] [D loss: 0.393754] [G loss: -2.639907]\n",
      "[Epoch 141] [Batch 1400/1563] [D loss: -0.351277] [G loss: -2.233981]\n",
      "[Epoch 141] [Batch 1500/1563] [D loss: -0.887280] [G loss: -3.024917]\n"
     ]
    },
    {
     "name": "stderr",
     "output_type": "stream",
     "text": [
      "sample images: 100%|██████████| 256/256 [00:05<00:00, 47.45it/s]\n"
     ]
    },
    {
     "name": "stdout",
     "output_type": "stream",
     "text": [
      "Warning: number of images is not a multiple of the batch size. Some samples are going to be ignored.\n"
     ]
    },
    {
     "name": "stderr",
     "output_type": "stream",
     "text": [
      "100%|██████████| 81/81 [00:04<00:00, 19.61it/s]\n"
     ]
    },
    {
     "name": "stdout",
     "output_type": "stream",
     "text": [
      "FID score: 58.85760498046875\n"
     ]
    },
    {
     "name": "stderr",
     "output_type": "stream",
     "text": [
      "sample images: 100%|██████████| 256/256 [00:05<00:00, 47.56it/s]\n"
     ]
    },
    {
     "name": "stdout",
     "output_type": "stream",
     "text": [
      "Inception score: 4.895633429350821\n",
      "----- Epoch Summary -----\n",
      "Dis Loss: -0.046199 - Gen Loss: -1.887451 - Dis LR: 5.52264e-05 - Gen LR: 5.52264e-05\n",
      "FID score: 58.85760498046875 - Inception score: 4.895633429350821 || @ epoch 141.\n",
      "Best FID score: 52.11676025390625 @ epoch 96\n",
      "-----      End      -----\n",
      "\n",
      "------- Epoch 142 -------\n",
      "[Epoch 142] [Batch 100/1563] [D loss: -0.787964] [G loss: -2.995527]\n",
      "[Epoch 142] [Batch 200/1563] [D loss: 0.968357] [G loss: -1.521738]\n",
      "[Epoch 142] [Batch 300/1563] [D loss: 1.619251] [G loss: -1.704268]\n",
      "[Epoch 142] [Batch 400/1563] [D loss: 0.760126] [G loss: -2.460346]\n",
      "[Epoch 142] [Batch 500/1563] [D loss: -0.625038] [G loss: -1.445804]\n",
      "[Epoch 142] [Batch 600/1563] [D loss: 0.185729] [G loss: -1.229911]\n",
      "[Epoch 142] [Batch 700/1563] [D loss: -1.157431] [G loss: -1.067868]\n",
      "[Epoch 142] [Batch 800/1563] [D loss: -0.079361] [G loss: -1.587784]\n",
      "[Epoch 142] [Batch 900/1563] [D loss: -1.378334] [G loss: -1.593650]\n",
      "[Epoch 142] [Batch 1000/1563] [D loss: -1.043009] [G loss: -1.290388]\n",
      "[Epoch 142] [Batch 1100/1563] [D loss: -0.350713] [G loss: -1.691042]\n",
      "[Epoch 142] [Batch 1200/1563] [D loss: 0.320013] [G loss: -1.650887]\n",
      "[Epoch 142] [Batch 1300/1563] [D loss: -0.221865] [G loss: -1.634474]\n",
      "[Epoch 142] [Batch 1400/1563] [D loss: -1.120305] [G loss: -1.335880]\n",
      "[Epoch 142] [Batch 1500/1563] [D loss: 0.371343] [G loss: -1.751907]\n"
     ]
    },
    {
     "name": "stderr",
     "output_type": "stream",
     "text": [
      "sample images: 100%|██████████| 256/256 [00:05<00:00, 47.64it/s]\n"
     ]
    },
    {
     "name": "stdout",
     "output_type": "stream",
     "text": [
      "Warning: number of images is not a multiple of the batch size. Some samples are going to be ignored.\n"
     ]
    },
    {
     "name": "stderr",
     "output_type": "stream",
     "text": [
      "100%|██████████| 81/81 [00:04<00:00, 19.59it/s]\n"
     ]
    },
    {
     "name": "stdout",
     "output_type": "stream",
     "text": [
      "FID score: 57.73602294921875\n"
     ]
    },
    {
     "name": "stderr",
     "output_type": "stream",
     "text": [
      "sample images: 100%|██████████| 256/256 [00:05<00:00, 47.57it/s]\n"
     ]
    },
    {
     "name": "stdout",
     "output_type": "stream",
     "text": [
      "Inception score: 4.985134928012206\n",
      "----- Epoch Summary -----\n",
      "Dis Loss: -0.033408 - Gen Loss: -1.835508 - Dis LR: 5.47054e-05 - Gen LR: 5.47054e-05\n",
      "FID score: 57.73602294921875 - Inception score: 4.985134928012206 || @ epoch 142.\n",
      "Best FID score: 52.11676025390625 @ epoch 96\n",
      "-----      End      -----\n",
      "\n",
      "------- Epoch 143 -------\n",
      "[Epoch 143] [Batch 100/1563] [D loss: -0.596819] [G loss: -0.946533]\n",
      "[Epoch 143] [Batch 200/1563] [D loss: -0.757268] [G loss: -1.547930]\n",
      "[Epoch 143] [Batch 300/1563] [D loss: 0.438348] [G loss: -1.672259]\n",
      "[Epoch 143] [Batch 400/1563] [D loss: -0.063102] [G loss: -0.882380]\n",
      "[Epoch 143] [Batch 500/1563] [D loss: -0.408658] [G loss: -0.144235]\n",
      "[Epoch 143] [Batch 600/1563] [D loss: -2.143921] [G loss: -0.680682]\n",
      "[Epoch 143] [Batch 700/1563] [D loss: 1.141335] [G loss: -0.521099]\n",
      "[Epoch 143] [Batch 800/1563] [D loss: 1.132581] [G loss: -2.357565]\n",
      "[Epoch 143] [Batch 900/1563] [D loss: -0.634656] [G loss: -1.868189]\n",
      "[Epoch 143] [Batch 1000/1563] [D loss: 1.355396] [G loss: -0.896271]\n",
      "[Epoch 143] [Batch 1100/1563] [D loss: 1.040785] [G loss: -1.551075]\n",
      "[Epoch 143] [Batch 1200/1563] [D loss: 0.511357] [G loss: -0.655218]\n",
      "[Epoch 143] [Batch 1300/1563] [D loss: -1.084509] [G loss: -1.816365]\n",
      "[Epoch 143] [Batch 1400/1563] [D loss: -0.538432] [G loss: -0.301574]\n",
      "[Epoch 143] [Batch 1500/1563] [D loss: -0.395279] [G loss: -2.081267]\n"
     ]
    },
    {
     "name": "stderr",
     "output_type": "stream",
     "text": [
      "sample images: 100%|██████████| 256/256 [00:05<00:00, 47.55it/s]\n"
     ]
    },
    {
     "name": "stdout",
     "output_type": "stream",
     "text": [
      "Warning: number of images is not a multiple of the batch size. Some samples are going to be ignored.\n"
     ]
    },
    {
     "name": "stderr",
     "output_type": "stream",
     "text": [
      "100%|██████████| 81/81 [00:04<00:00, 19.57it/s]\n"
     ]
    },
    {
     "name": "stdout",
     "output_type": "stream",
     "text": [
      "FID score: 57.04046630859375\n"
     ]
    },
    {
     "name": "stderr",
     "output_type": "stream",
     "text": [
      "sample images: 100%|██████████| 256/256 [00:05<00:00, 47.43it/s]\n"
     ]
    },
    {
     "name": "stdout",
     "output_type": "stream",
     "text": [
      "Inception score: 5.028009409965277\n",
      "----- Epoch Summary -----\n",
      "Dis Loss: -0.089365 - Gen Loss: -1.369672 - Dis LR: 5.41839e-05 - Gen LR: 5.41839e-05\n",
      "FID score: 57.04046630859375 - Inception score: 5.028009409965277 || @ epoch 143.\n",
      "Best FID score: 52.11676025390625 @ epoch 96\n",
      "-----      End      -----\n",
      "\n",
      "------- Epoch 144 -------\n",
      "[Epoch 144] [Batch 100/1563] [D loss: -0.677781] [G loss: -1.171759]\n",
      "[Epoch 144] [Batch 200/1563] [D loss: 2.061001] [G loss: -1.136187]\n",
      "[Epoch 144] [Batch 300/1563] [D loss: -1.365820] [G loss: -2.488734]\n",
      "[Epoch 144] [Batch 400/1563] [D loss: 0.424702] [G loss: -3.138424]\n",
      "[Epoch 144] [Batch 500/1563] [D loss: -0.541626] [G loss: -1.231879]\n",
      "[Epoch 144] [Batch 600/1563] [D loss: 1.361980] [G loss: -2.563375]\n",
      "[Epoch 144] [Batch 700/1563] [D loss: 1.007770] [G loss: -1.956016]\n",
      "[Epoch 144] [Batch 800/1563] [D loss: -0.948872] [G loss: -2.690620]\n",
      "[Epoch 144] [Batch 900/1563] [D loss: -0.254131] [G loss: -2.679078]\n",
      "[Epoch 144] [Batch 1000/1563] [D loss: -0.106518] [G loss: -1.942928]\n",
      "[Epoch 144] [Batch 1100/1563] [D loss: 0.558018] [G loss: -2.377582]\n",
      "[Epoch 144] [Batch 1200/1563] [D loss: 0.102811] [G loss: -0.733060]\n",
      "[Epoch 144] [Batch 1300/1563] [D loss: -0.117096] [G loss: -2.757005]\n",
      "[Epoch 144] [Batch 1400/1563] [D loss: -1.473513] [G loss: -2.575350]\n",
      "[Epoch 144] [Batch 1500/1563] [D loss: -0.381569] [G loss: -1.991751]\n"
     ]
    },
    {
     "name": "stderr",
     "output_type": "stream",
     "text": [
      "sample images: 100%|██████████| 256/256 [00:05<00:00, 47.65it/s]\n"
     ]
    },
    {
     "name": "stdout",
     "output_type": "stream",
     "text": [
      "Warning: number of images is not a multiple of the batch size. Some samples are going to be ignored.\n"
     ]
    },
    {
     "name": "stderr",
     "output_type": "stream",
     "text": [
      "100%|██████████| 81/81 [00:04<00:00, 19.59it/s]\n"
     ]
    },
    {
     "name": "stdout",
     "output_type": "stream",
     "text": [
      "FID score: 59.456512451171875\n"
     ]
    },
    {
     "name": "stderr",
     "output_type": "stream",
     "text": [
      "sample images: 100%|██████████| 256/256 [00:05<00:00, 47.58it/s]\n"
     ]
    },
    {
     "name": "stdout",
     "output_type": "stream",
     "text": [
      "Inception score: 5.146070209231111\n",
      "----- Epoch Summary -----\n",
      "Dis Loss: -0.079982 - Gen Loss: -1.726210 - Dis LR: 5.36619e-05 - Gen LR: 5.36619e-05\n",
      "FID score: 59.456512451171875 - Inception score: 5.146070209231111 || @ epoch 144.\n",
      "Best FID score: 52.11676025390625 @ epoch 96\n",
      "-----      End      -----\n",
      "\n",
      "------- Epoch 145 -------\n",
      "[Epoch 145] [Batch 100/1563] [D loss: -0.019171] [G loss: -1.538816]\n",
      "[Epoch 145] [Batch 200/1563] [D loss: -0.543999] [G loss: -2.564357]\n",
      "[Epoch 145] [Batch 300/1563] [D loss: -1.868079] [G loss: -2.904313]\n",
      "[Epoch 145] [Batch 400/1563] [D loss: -1.232823] [G loss: -0.565423]\n",
      "[Epoch 145] [Batch 500/1563] [D loss: -0.069613] [G loss: -2.016947]\n",
      "[Epoch 145] [Batch 600/1563] [D loss: 0.012224] [G loss: -2.693321]\n",
      "[Epoch 145] [Batch 700/1563] [D loss: 0.580928] [G loss: -2.009117]\n",
      "[Epoch 145] [Batch 800/1563] [D loss: 0.210732] [G loss: -2.936377]\n",
      "[Epoch 145] [Batch 900/1563] [D loss: 0.704804] [G loss: -2.212504]\n",
      "[Epoch 145] [Batch 1000/1563] [D loss: -0.855620] [G loss: -3.073046]\n",
      "[Epoch 145] [Batch 1100/1563] [D loss: -0.328290] [G loss: -2.893088]\n",
      "[Epoch 145] [Batch 1200/1563] [D loss: 0.265463] [G loss: -2.296046]\n",
      "[Epoch 145] [Batch 1300/1563] [D loss: -1.696514] [G loss: -1.743002]\n",
      "[Epoch 145] [Batch 1400/1563] [D loss: 0.488763] [G loss: -1.834085]\n",
      "[Epoch 145] [Batch 1500/1563] [D loss: 0.270275] [G loss: -1.232985]\n"
     ]
    },
    {
     "name": "stderr",
     "output_type": "stream",
     "text": [
      "sample images: 100%|██████████| 256/256 [00:05<00:00, 47.63it/s]\n"
     ]
    },
    {
     "name": "stdout",
     "output_type": "stream",
     "text": [
      "Warning: number of images is not a multiple of the batch size. Some samples are going to be ignored.\n"
     ]
    },
    {
     "name": "stderr",
     "output_type": "stream",
     "text": [
      "100%|██████████| 81/81 [00:04<00:00, 19.60it/s]\n"
     ]
    },
    {
     "name": "stdout",
     "output_type": "stream",
     "text": [
      "FID score: 55.0841064453125\n"
     ]
    },
    {
     "name": "stderr",
     "output_type": "stream",
     "text": [
      "sample images: 100%|██████████| 256/256 [00:05<00:00, 47.68it/s]\n"
     ]
    },
    {
     "name": "stdout",
     "output_type": "stream",
     "text": [
      "Inception score: 5.095348221380682\n",
      "----- Epoch Summary -----\n",
      "Dis Loss: -0.062002 - Gen Loss: -2.119891 - Dis LR: 5.31395e-05 - Gen LR: 5.31395e-05\n",
      "FID score: 55.0841064453125 - Inception score: 5.095348221380682 || @ epoch 145.\n",
      "Best FID score: 52.11676025390625 @ epoch 96\n",
      "-----      End      -----\n",
      "\n",
      "------- Epoch 146 -------\n",
      "[Epoch 146] [Batch 0/1563] [D loss: -0.183109] [G loss: -2.934432]\n",
      "[Epoch 146] [Batch 100/1563] [D loss: -1.331776] [G loss: -2.646099]\n",
      "[Epoch 146] [Batch 200/1563] [D loss: 0.188920] [G loss: -1.496407]\n",
      "[Epoch 146] [Batch 300/1563] [D loss: -0.142373] [G loss: -0.565660]\n",
      "[Epoch 146] [Batch 400/1563] [D loss: -0.168064] [G loss: -1.800214]\n",
      "[Epoch 146] [Batch 500/1563] [D loss: -1.020387] [G loss: -1.488487]\n",
      "[Epoch 146] [Batch 600/1563] [D loss: -0.705957] [G loss: -1.644902]\n",
      "[Epoch 146] [Batch 700/1563] [D loss: -1.020838] [G loss: -1.316363]\n",
      "[Epoch 146] [Batch 800/1563] [D loss: -0.374249] [G loss: -2.219902]\n",
      "[Epoch 146] [Batch 900/1563] [D loss: 0.710584] [G loss: -2.635611]\n",
      "[Epoch 146] [Batch 1000/1563] [D loss: -0.348785] [G loss: -1.881680]\n",
      "[Epoch 146] [Batch 1100/1563] [D loss: -0.781488] [G loss: -3.778923]\n",
      "[Epoch 146] [Batch 1200/1563] [D loss: 0.068487] [G loss: -1.991518]\n",
      "[Epoch 146] [Batch 1300/1563] [D loss: -0.729759] [G loss: -1.416625]\n",
      "[Epoch 146] [Batch 1400/1563] [D loss: -1.071739] [G loss: -2.579859]\n",
      "[Epoch 146] [Batch 1500/1563] [D loss: -0.126008] [G loss: -1.844614]\n"
     ]
    },
    {
     "name": "stderr",
     "output_type": "stream",
     "text": [
      "sample images: 100%|██████████| 256/256 [00:05<00:00, 47.68it/s]\n"
     ]
    },
    {
     "name": "stdout",
     "output_type": "stream",
     "text": [
      "Warning: number of images is not a multiple of the batch size. Some samples are going to be ignored.\n"
     ]
    },
    {
     "name": "stderr",
     "output_type": "stream",
     "text": [
      "100%|██████████| 81/81 [00:04<00:00, 19.58it/s]\n"
     ]
    },
    {
     "name": "stdout",
     "output_type": "stream",
     "text": [
      "FID score: 51.113006591796875\n"
     ]
    },
    {
     "name": "stderr",
     "output_type": "stream",
     "text": [
      "sample images: 100%|██████████| 256/256 [00:05<00:00, 47.68it/s]\n"
     ]
    },
    {
     "name": "stdout",
     "output_type": "stream",
     "text": [
      "Inception score: 4.93923936038992\n",
      "Saved Latest Model!\n",
      "----- Epoch Summary -----\n",
      "Dis Loss: -0.065616 - Gen Loss: -1.874661 - Dis LR: 5.26168e-05 - Gen LR: 5.26168e-05\n",
      "FID score: 51.113006591796875 - Inception score: 4.93923936038992 || @ epoch 146.\n",
      "Best FID score: 51.113006591796875 @ epoch 146\n",
      "-----      End      -----\n",
      "\n",
      "------- Epoch 147 -------\n",
      "[Epoch 147] [Batch 100/1563] [D loss: -0.514286] [G loss: -1.497783]\n",
      "[Epoch 147] [Batch 200/1563] [D loss: -2.258816] [G loss: -2.240689]\n",
      "[Epoch 147] [Batch 300/1563] [D loss: -0.333051] [G loss: -1.232939]\n",
      "[Epoch 147] [Batch 400/1563] [D loss: -1.729517] [G loss: -1.853004]\n",
      "[Epoch 147] [Batch 500/1563] [D loss: 0.998342] [G loss: -1.952398]\n",
      "[Epoch 147] [Batch 600/1563] [D loss: 0.906349] [G loss: -2.410495]\n",
      "[Epoch 147] [Batch 700/1563] [D loss: -0.388834] [G loss: -1.306195]\n",
      "[Epoch 147] [Batch 800/1563] [D loss: 0.791732] [G loss: -3.574589]\n",
      "[Epoch 147] [Batch 900/1563] [D loss: -0.642757] [G loss: -2.579134]\n",
      "[Epoch 147] [Batch 1000/1563] [D loss: -0.642741] [G loss: -2.628101]\n",
      "[Epoch 147] [Batch 1100/1563] [D loss: -0.865384] [G loss: -2.101738]\n",
      "[Epoch 147] [Batch 1200/1563] [D loss: 0.006361] [G loss: -2.287123]\n",
      "[Epoch 147] [Batch 1300/1563] [D loss: 0.551392] [G loss: -3.369697]\n",
      "[Epoch 147] [Batch 1400/1563] [D loss: -0.243350] [G loss: -2.341449]\n",
      "[Epoch 147] [Batch 1500/1563] [D loss: -0.666870] [G loss: -1.875074]\n"
     ]
    },
    {
     "name": "stderr",
     "output_type": "stream",
     "text": [
      "sample images: 100%|██████████| 256/256 [00:05<00:00, 47.65it/s]\n"
     ]
    },
    {
     "name": "stdout",
     "output_type": "stream",
     "text": [
      "Warning: number of images is not a multiple of the batch size. Some samples are going to be ignored.\n"
     ]
    },
    {
     "name": "stderr",
     "output_type": "stream",
     "text": [
      "100%|██████████| 81/81 [00:04<00:00, 19.54it/s]\n"
     ]
    },
    {
     "name": "stdout",
     "output_type": "stream",
     "text": [
      "FID score: 54.556396484375\n"
     ]
    },
    {
     "name": "stderr",
     "output_type": "stream",
     "text": [
      "sample images: 100%|██████████| 256/256 [00:05<00:00, 47.53it/s]\n"
     ]
    },
    {
     "name": "stdout",
     "output_type": "stream",
     "text": [
      "Inception score: 5.150096103160953\n",
      "----- Epoch Summary -----\n",
      "Dis Loss: -0.043544 - Gen Loss: -2.146175 - Dis LR: 5.20938e-05 - Gen LR: 5.20938e-05\n",
      "FID score: 54.556396484375 - Inception score: 5.150096103160953 || @ epoch 147.\n",
      "Best FID score: 51.113006591796875 @ epoch 146\n",
      "-----      End      -----\n",
      "\n",
      "------- Epoch 148 -------\n",
      "[Epoch 148] [Batch 100/1563] [D loss: 0.828761] [G loss: -2.280466]\n",
      "[Epoch 148] [Batch 200/1563] [D loss: 1.349731] [G loss: -2.139664]\n",
      "[Epoch 148] [Batch 300/1563] [D loss: 1.212201] [G loss: -2.262492]\n",
      "[Epoch 148] [Batch 400/1563] [D loss: 0.180348] [G loss: -2.207803]\n",
      "[Epoch 148] [Batch 500/1563] [D loss: 0.294759] [G loss: -2.088298]\n",
      "[Epoch 148] [Batch 600/1563] [D loss: 1.432455] [G loss: -0.253706]\n",
      "[Epoch 148] [Batch 700/1563] [D loss: 1.541448] [G loss: -1.436290]\n",
      "[Epoch 148] [Batch 800/1563] [D loss: -1.358968] [G loss: -1.129691]\n",
      "[Epoch 148] [Batch 900/1563] [D loss: 1.589669] [G loss: -2.094063]\n",
      "[Epoch 148] [Batch 1000/1563] [D loss: 0.230960] [G loss: -2.934037]\n",
      "[Epoch 148] [Batch 1100/1563] [D loss: 0.503039] [G loss: -1.756735]\n",
      "[Epoch 148] [Batch 1200/1563] [D loss: 1.330859] [G loss: -2.674586]\n",
      "[Epoch 148] [Batch 1300/1563] [D loss: 1.847390] [G loss: -1.593220]\n",
      "[Epoch 148] [Batch 1400/1563] [D loss: -0.192404] [G loss: -2.984913]\n",
      "[Epoch 148] [Batch 1500/1563] [D loss: 0.462362] [G loss: -1.857538]\n"
     ]
    },
    {
     "name": "stderr",
     "output_type": "stream",
     "text": [
      "sample images: 100%|██████████| 256/256 [00:05<00:00, 47.57it/s]\n"
     ]
    },
    {
     "name": "stdout",
     "output_type": "stream",
     "text": [
      "Warning: number of images is not a multiple of the batch size. Some samples are going to be ignored.\n"
     ]
    },
    {
     "name": "stderr",
     "output_type": "stream",
     "text": [
      "100%|██████████| 81/81 [00:04<00:00, 19.58it/s]\n"
     ]
    },
    {
     "name": "stdout",
     "output_type": "stream",
     "text": [
      "FID score: 58.663238525390625\n"
     ]
    },
    {
     "name": "stderr",
     "output_type": "stream",
     "text": [
      "sample images: 100%|██████████| 256/256 [00:05<00:00, 47.61it/s]\n"
     ]
    },
    {
     "name": "stdout",
     "output_type": "stream",
     "text": [
      "Inception score: 4.91007311582654\n",
      "----- Epoch Summary -----\n",
      "Dis Loss: -0.034083 - Gen Loss: -2.126948 - Dis LR: 5.15705e-05 - Gen LR: 5.15705e-05\n",
      "FID score: 58.663238525390625 - Inception score: 4.91007311582654 || @ epoch 148.\n",
      "Best FID score: 51.113006591796875 @ epoch 146\n",
      "-----      End      -----\n",
      "\n",
      "------- Epoch 149 -------\n",
      "[Epoch 149] [Batch 100/1563] [D loss: -0.089361] [G loss: -2.555122]\n",
      "[Epoch 149] [Batch 200/1563] [D loss: -0.924271] [G loss: -2.872257]\n",
      "[Epoch 149] [Batch 300/1563] [D loss: -0.375302] [G loss: -2.456113]\n",
      "[Epoch 149] [Batch 400/1563] [D loss: 0.902551] [G loss: -2.385479]\n",
      "[Epoch 149] [Batch 500/1563] [D loss: -0.306696] [G loss: -1.315328]\n",
      "[Epoch 149] [Batch 600/1563] [D loss: 0.064007] [G loss: -2.408159]\n",
      "[Epoch 149] [Batch 700/1563] [D loss: 0.813053] [G loss: -2.495130]\n",
      "[Epoch 149] [Batch 800/1563] [D loss: -0.047878] [G loss: -2.125461]\n",
      "[Epoch 149] [Batch 900/1563] [D loss: 0.292322] [G loss: -2.237221]\n",
      "[Epoch 149] [Batch 1000/1563] [D loss: -0.661300] [G loss: -2.865456]\n",
      "[Epoch 149] [Batch 1100/1563] [D loss: 0.669755] [G loss: -2.971742]\n",
      "[Epoch 149] [Batch 1200/1563] [D loss: 0.670443] [G loss: -3.423064]\n",
      "[Epoch 149] [Batch 1300/1563] [D loss: -0.745181] [G loss: -3.946127]\n",
      "[Epoch 149] [Batch 1400/1563] [D loss: 0.589537] [G loss: -1.751901]\n",
      "[Epoch 149] [Batch 1500/1563] [D loss: -0.904085] [G loss: -2.867346]\n"
     ]
    },
    {
     "name": "stderr",
     "output_type": "stream",
     "text": [
      "sample images: 100%|██████████| 256/256 [00:05<00:00, 47.62it/s]\n"
     ]
    },
    {
     "name": "stdout",
     "output_type": "stream",
     "text": [
      "Warning: number of images is not a multiple of the batch size. Some samples are going to be ignored.\n"
     ]
    },
    {
     "name": "stderr",
     "output_type": "stream",
     "text": [
      "100%|██████████| 81/81 [00:04<00:00, 19.58it/s]\n"
     ]
    },
    {
     "name": "stdout",
     "output_type": "stream",
     "text": [
      "FID score: 58.437957763671875\n"
     ]
    },
    {
     "name": "stderr",
     "output_type": "stream",
     "text": [
      "sample images: 100%|██████████| 256/256 [00:05<00:00, 47.58it/s]\n"
     ]
    },
    {
     "name": "stdout",
     "output_type": "stream",
     "text": [
      "Inception score: 4.514081155457547\n",
      "----- Epoch Summary -----\n",
      "Dis Loss: -0.065180 - Gen Loss: -2.582758 - Dis LR: 5.10471e-05 - Gen LR: 5.10471e-05\n",
      "FID score: 58.437957763671875 - Inception score: 4.514081155457547 || @ epoch 149.\n",
      "Best FID score: 51.113006591796875 @ epoch 146\n",
      "-----      End      -----\n",
      "\n",
      "------- Epoch 150 -------\n",
      "[Epoch 150] [Batch 100/1563] [D loss: -0.194892] [G loss: -3.481211]\n",
      "[Epoch 150] [Batch 200/1563] [D loss: 1.090139] [G loss: -3.761726]\n",
      "[Epoch 150] [Batch 300/1563] [D loss: -0.331928] [G loss: -2.209510]\n",
      "[Epoch 150] [Batch 400/1563] [D loss: 0.209009] [G loss: -2.812287]\n",
      "[Epoch 150] [Batch 500/1563] [D loss: 0.243701] [G loss: -3.473367]\n",
      "[Epoch 150] [Batch 600/1563] [D loss: -0.071364] [G loss: -3.450112]\n",
      "[Epoch 150] [Batch 700/1563] [D loss: 0.706858] [G loss: -3.450113]\n",
      "[Epoch 150] [Batch 800/1563] [D loss: 2.132764] [G loss: -2.377267]\n",
      "[Epoch 150] [Batch 900/1563] [D loss: -0.298181] [G loss: -3.254106]\n",
      "[Epoch 150] [Batch 1000/1563] [D loss: -0.126068] [G loss: -3.388826]\n",
      "[Epoch 150] [Batch 1100/1563] [D loss: 1.017437] [G loss: -2.524604]\n",
      "[Epoch 150] [Batch 1200/1563] [D loss: 0.675821] [G loss: -2.130666]\n",
      "[Epoch 150] [Batch 1300/1563] [D loss: -0.988654] [G loss: -1.599052]\n",
      "[Epoch 150] [Batch 1400/1563] [D loss: -0.212910] [G loss: -1.560963]\n",
      "[Epoch 150] [Batch 1500/1563] [D loss: -0.133729] [G loss: -2.206116]\n"
     ]
    },
    {
     "name": "stderr",
     "output_type": "stream",
     "text": [
      "sample images: 100%|██████████| 256/256 [00:05<00:00, 47.44it/s]\n"
     ]
    },
    {
     "name": "stdout",
     "output_type": "stream",
     "text": [
      "Warning: number of images is not a multiple of the batch size. Some samples are going to be ignored.\n"
     ]
    },
    {
     "name": "stderr",
     "output_type": "stream",
     "text": [
      "100%|██████████| 81/81 [00:04<00:00, 19.50it/s]\n"
     ]
    },
    {
     "name": "stdout",
     "output_type": "stream",
     "text": [
      "FID score: 51.6868896484375\n"
     ]
    },
    {
     "name": "stderr",
     "output_type": "stream",
     "text": [
      "sample images: 100%|██████████| 256/256 [00:05<00:00, 47.61it/s]\n"
     ]
    },
    {
     "name": "stdout",
     "output_type": "stream",
     "text": [
      "Inception score: 5.2171306882234285\n",
      "----- Epoch Summary -----\n",
      "Dis Loss: -0.043856 - Gen Loss: -2.630710 - Dis LR: 5.05236e-05 - Gen LR: 5.05236e-05\n",
      "FID score: 51.6868896484375 - Inception score: 5.2171306882234285 || @ epoch 150.\n",
      "Best FID score: 51.113006591796875 @ epoch 146\n",
      "-----      End      -----\n",
      "\n",
      "------- Epoch 151 -------\n",
      "[Epoch 151] [Batch 0/1563] [D loss: 0.779728] [G loss: -2.528969]\n",
      "[Epoch 151] [Batch 100/1563] [D loss: 0.427786] [G loss: -1.941646]\n",
      "[Epoch 151] [Batch 200/1563] [D loss: 0.132204] [G loss: -1.623224]\n",
      "[Epoch 151] [Batch 300/1563] [D loss: 0.089550] [G loss: -3.712659]\n",
      "[Epoch 151] [Batch 400/1563] [D loss: -0.411370] [G loss: -2.680227]\n",
      "[Epoch 151] [Batch 500/1563] [D loss: 1.276192] [G loss: -2.201554]\n",
      "[Epoch 151] [Batch 600/1563] [D loss: -1.594873] [G loss: -2.952662]\n",
      "[Epoch 151] [Batch 700/1563] [D loss: -1.016198] [G loss: -2.692895]\n",
      "[Epoch 151] [Batch 800/1563] [D loss: 0.178936] [G loss: -3.136856]\n",
      "[Epoch 151] [Batch 900/1563] [D loss: -1.107988] [G loss: -2.398655]\n",
      "[Epoch 151] [Batch 1000/1563] [D loss: -0.870542] [G loss: -1.728891]\n",
      "[Epoch 151] [Batch 1100/1563] [D loss: -0.648247] [G loss: -1.200210]\n",
      "[Epoch 151] [Batch 1200/1563] [D loss: 0.649842] [G loss: -3.204423]\n",
      "[Epoch 151] [Batch 1300/1563] [D loss: 0.766834] [G loss: -3.507528]\n",
      "[Epoch 151] [Batch 1400/1563] [D loss: 0.885163] [G loss: -3.411957]\n",
      "[Epoch 151] [Batch 1500/1563] [D loss: -0.636844] [G loss: -2.009104]\n"
     ]
    },
    {
     "name": "stderr",
     "output_type": "stream",
     "text": [
      "sample images: 100%|██████████| 256/256 [00:05<00:00, 48.14it/s]\n"
     ]
    },
    {
     "name": "stdout",
     "output_type": "stream",
     "text": [
      "Warning: number of images is not a multiple of the batch size. Some samples are going to be ignored.\n"
     ]
    },
    {
     "name": "stderr",
     "output_type": "stream",
     "text": [
      "100%|██████████| 81/81 [00:04<00:00, 19.77it/s]\n"
     ]
    },
    {
     "name": "stdout",
     "output_type": "stream",
     "text": [
      "FID score: 52.726104736328125\n"
     ]
    },
    {
     "name": "stderr",
     "output_type": "stream",
     "text": [
      "sample images: 100%|██████████| 256/256 [00:05<00:00, 48.17it/s]\n"
     ]
    },
    {
     "name": "stdout",
     "output_type": "stream",
     "text": [
      "Inception score: 5.280788826507679\n",
      "----- Epoch Summary -----\n",
      "Dis Loss: -0.055423 - Gen Loss: -2.565050 - Dis LR: 5e-05 - Gen LR: 5e-05\n",
      "FID score: 52.726104736328125 - Inception score: 5.280788826507679 || @ epoch 151.\n",
      "Best FID score: 51.113006591796875 @ epoch 146\n",
      "-----      End      -----\n",
      "\n",
      "------- Epoch 152 -------\n",
      "[Epoch 152] [Batch 100/1563] [D loss: -0.231152] [G loss: -1.791926]\n",
      "[Epoch 152] [Batch 200/1563] [D loss: -1.742078] [G loss: -3.989115]\n",
      "[Epoch 152] [Batch 300/1563] [D loss: 1.228608] [G loss: -2.810749]\n",
      "[Epoch 152] [Batch 400/1563] [D loss: -0.125903] [G loss: -2.873461]\n",
      "[Epoch 152] [Batch 500/1563] [D loss: -1.288388] [G loss: -3.055182]\n",
      "[Epoch 152] [Batch 600/1563] [D loss: 0.063903] [G loss: -2.941393]\n",
      "[Epoch 152] [Batch 700/1563] [D loss: -2.774246] [G loss: -2.562223]\n",
      "[Epoch 152] [Batch 800/1563] [D loss: 0.876455] [G loss: -3.524931]\n",
      "[Epoch 152] [Batch 900/1563] [D loss: 1.132715] [G loss: -2.171833]\n",
      "[Epoch 152] [Batch 1000/1563] [D loss: 0.061363] [G loss: -2.180805]\n",
      "[Epoch 152] [Batch 1100/1563] [D loss: 0.985644] [G loss: -2.557193]\n",
      "[Epoch 152] [Batch 1200/1563] [D loss: -0.759104] [G loss: -3.249821]\n",
      "[Epoch 152] [Batch 1300/1563] [D loss: -0.310195] [G loss: -2.120964]\n",
      "[Epoch 152] [Batch 1400/1563] [D loss: -0.405095] [G loss: -3.337857]\n",
      "[Epoch 152] [Batch 1500/1563] [D loss: -0.389534] [G loss: -3.519786]\n"
     ]
    },
    {
     "name": "stderr",
     "output_type": "stream",
     "text": [
      "sample images: 100%|██████████| 256/256 [00:05<00:00, 48.06it/s]\n"
     ]
    },
    {
     "name": "stdout",
     "output_type": "stream",
     "text": [
      "Warning: number of images is not a multiple of the batch size. Some samples are going to be ignored.\n"
     ]
    },
    {
     "name": "stderr",
     "output_type": "stream",
     "text": [
      "100%|██████████| 81/81 [00:04<00:00, 19.77it/s]\n"
     ]
    },
    {
     "name": "stdout",
     "output_type": "stream",
     "text": [
      "FID score: 48.766998291015625\n"
     ]
    },
    {
     "name": "stderr",
     "output_type": "stream",
     "text": [
      "sample images: 100%|██████████| 256/256 [00:05<00:00, 48.11it/s]\n"
     ]
    },
    {
     "name": "stdout",
     "output_type": "stream",
     "text": [
      "Inception score: 5.324522853810296\n",
      "Saved Latest Model!\n",
      "----- Epoch Summary -----\n",
      "Dis Loss: -0.005070 - Gen Loss: -2.843986 - Dis LR: 4.94764e-05 - Gen LR: 4.94764e-05\n",
      "FID score: 48.766998291015625 - Inception score: 5.324522853810296 || @ epoch 152.\n",
      "Best FID score: 48.766998291015625 @ epoch 152\n",
      "-----      End      -----\n",
      "\n",
      "------- Epoch 153 -------\n",
      "[Epoch 153] [Batch 100/1563] [D loss: -0.063053] [G loss: -3.279802]\n",
      "[Epoch 153] [Batch 200/1563] [D loss: 0.042219] [G loss: -3.297165]\n",
      "[Epoch 153] [Batch 300/1563] [D loss: 1.314859] [G loss: -2.533040]\n",
      "[Epoch 153] [Batch 400/1563] [D loss: 0.007326] [G loss: -2.635760]\n",
      "[Epoch 153] [Batch 500/1563] [D loss: -0.995470] [G loss: -3.510455]\n",
      "[Epoch 153] [Batch 600/1563] [D loss: -0.132550] [G loss: -3.208556]\n",
      "[Epoch 153] [Batch 700/1563] [D loss: 1.072006] [G loss: -2.331411]\n",
      "[Epoch 153] [Batch 800/1563] [D loss: -0.682190] [G loss: -2.750074]\n",
      "[Epoch 153] [Batch 900/1563] [D loss: -0.836837] [G loss: -2.492326]\n",
      "[Epoch 153] [Batch 1000/1563] [D loss: 0.679132] [G loss: -3.053513]\n",
      "[Epoch 153] [Batch 1100/1563] [D loss: 0.689215] [G loss: -2.367667]\n",
      "[Epoch 153] [Batch 1200/1563] [D loss: 0.094865] [G loss: -4.471278]\n",
      "[Epoch 153] [Batch 1300/1563] [D loss: 0.962227] [G loss: -2.524223]\n",
      "[Epoch 153] [Batch 1400/1563] [D loss: 0.341207] [G loss: -1.782750]\n",
      "[Epoch 153] [Batch 1500/1563] [D loss: -0.137174] [G loss: -3.214033]\n"
     ]
    },
    {
     "name": "stderr",
     "output_type": "stream",
     "text": [
      "sample images: 100%|██████████| 256/256 [00:05<00:00, 48.12it/s]\n"
     ]
    },
    {
     "name": "stdout",
     "output_type": "stream",
     "text": [
      "Warning: number of images is not a multiple of the batch size. Some samples are going to be ignored.\n"
     ]
    },
    {
     "name": "stderr",
     "output_type": "stream",
     "text": [
      "100%|██████████| 81/81 [00:04<00:00, 19.76it/s]\n"
     ]
    },
    {
     "name": "stdout",
     "output_type": "stream",
     "text": [
      "FID score: 51.09228515625\n"
     ]
    },
    {
     "name": "stderr",
     "output_type": "stream",
     "text": [
      "sample images: 100%|██████████| 256/256 [00:05<00:00, 48.09it/s]\n"
     ]
    },
    {
     "name": "stdout",
     "output_type": "stream",
     "text": [
      "Inception score: 5.185548363819683\n",
      "----- Epoch Summary -----\n",
      "Dis Loss: -0.004885 - Gen Loss: -3.149464 - Dis LR: 4.89529e-05 - Gen LR: 4.89529e-05\n",
      "FID score: 51.09228515625 - Inception score: 5.185548363819683 || @ epoch 153.\n",
      "Best FID score: 48.766998291015625 @ epoch 152\n",
      "-----      End      -----\n",
      "\n",
      "------- Epoch 154 -------\n",
      "[Epoch 154] [Batch 100/1563] [D loss: -0.124220] [G loss: -3.051414]\n",
      "[Epoch 154] [Batch 200/1563] [D loss: -0.071248] [G loss: -3.071197]\n",
      "[Epoch 154] [Batch 300/1563] [D loss: 0.213023] [G loss: -3.538538]\n",
      "[Epoch 154] [Batch 400/1563] [D loss: -0.585517] [G loss: -1.743301]\n",
      "[Epoch 154] [Batch 500/1563] [D loss: -0.465672] [G loss: -2.368790]\n",
      "[Epoch 154] [Batch 600/1563] [D loss: 1.181071] [G loss: -4.014580]\n",
      "[Epoch 154] [Batch 700/1563] [D loss: 0.302266] [G loss: -2.839805]\n",
      "[Epoch 154] [Batch 800/1563] [D loss: 0.273875] [G loss: -2.941279]\n",
      "[Epoch 154] [Batch 900/1563] [D loss: -0.789183] [G loss: -2.691341]\n",
      "[Epoch 154] [Batch 1000/1563] [D loss: -0.323919] [G loss: -2.663669]\n",
      "[Epoch 154] [Batch 1100/1563] [D loss: 0.367793] [G loss: -3.381876]\n",
      "[Epoch 154] [Batch 1200/1563] [D loss: 1.272455] [G loss: -3.130641]\n",
      "[Epoch 154] [Batch 1300/1563] [D loss: -1.288327] [G loss: -3.347435]\n",
      "[Epoch 154] [Batch 1400/1563] [D loss: -1.135985] [G loss: -3.502854]\n",
      "[Epoch 154] [Batch 1500/1563] [D loss: -0.324661] [G loss: -3.901921]\n"
     ]
    },
    {
     "name": "stderr",
     "output_type": "stream",
     "text": [
      "sample images: 100%|██████████| 256/256 [00:05<00:00, 48.21it/s]\n"
     ]
    },
    {
     "name": "stdout",
     "output_type": "stream",
     "text": [
      "Warning: number of images is not a multiple of the batch size. Some samples are going to be ignored.\n"
     ]
    },
    {
     "name": "stderr",
     "output_type": "stream",
     "text": [
      "100%|██████████| 81/81 [00:04<00:00, 19.78it/s]\n"
     ]
    },
    {
     "name": "stdout",
     "output_type": "stream",
     "text": [
      "FID score: 56.861572265625\n"
     ]
    },
    {
     "name": "stderr",
     "output_type": "stream",
     "text": [
      "sample images: 100%|██████████| 256/256 [00:05<00:00, 48.13it/s]\n"
     ]
    },
    {
     "name": "stdout",
     "output_type": "stream",
     "text": [
      "Inception score: 5.182115977388175\n",
      "----- Epoch Summary -----\n",
      "Dis Loss: -0.030317 - Gen Loss: -3.042958 - Dis LR: 4.84295e-05 - Gen LR: 4.84295e-05\n",
      "FID score: 56.861572265625 - Inception score: 5.182115977388175 || @ epoch 154.\n",
      "Best FID score: 48.766998291015625 @ epoch 152\n",
      "-----      End      -----\n",
      "\n",
      "------- Epoch 155 -------\n",
      "[Epoch 155] [Batch 100/1563] [D loss: 0.815987] [G loss: -2.862286]\n",
      "[Epoch 155] [Batch 200/1563] [D loss: 0.422481] [G loss: -2.479893]\n",
      "[Epoch 155] [Batch 300/1563] [D loss: 1.197120] [G loss: -4.170303]\n",
      "[Epoch 155] [Batch 400/1563] [D loss: 0.842426] [G loss: -2.139893]\n",
      "[Epoch 155] [Batch 500/1563] [D loss: 0.052602] [G loss: -2.042422]\n",
      "[Epoch 155] [Batch 600/1563] [D loss: -0.264765] [G loss: -3.525164]\n",
      "[Epoch 155] [Batch 700/1563] [D loss: -0.943227] [G loss: -3.766443]\n",
      "[Epoch 155] [Batch 800/1563] [D loss: -1.461663] [G loss: -3.572636]\n",
      "[Epoch 155] [Batch 900/1563] [D loss: -1.079378] [G loss: -2.611347]\n",
      "[Epoch 155] [Batch 1000/1563] [D loss: -1.412133] [G loss: -2.086794]\n",
      "[Epoch 155] [Batch 1100/1563] [D loss: 1.026497] [G loss: -2.537856]\n",
      "[Epoch 155] [Batch 1200/1563] [D loss: 0.612175] [G loss: -2.399580]\n",
      "[Epoch 155] [Batch 1300/1563] [D loss: -0.797245] [G loss: -2.943404]\n",
      "[Epoch 155] [Batch 1400/1563] [D loss: 0.398969] [G loss: -2.244373]\n",
      "[Epoch 155] [Batch 1500/1563] [D loss: 0.113923] [G loss: -2.617608]\n"
     ]
    },
    {
     "name": "stderr",
     "output_type": "stream",
     "text": [
      "sample images: 100%|██████████| 256/256 [00:05<00:00, 48.09it/s]\n"
     ]
    },
    {
     "name": "stdout",
     "output_type": "stream",
     "text": [
      "Warning: number of images is not a multiple of the batch size. Some samples are going to be ignored.\n"
     ]
    },
    {
     "name": "stderr",
     "output_type": "stream",
     "text": [
      "100%|██████████| 81/81 [00:04<00:00, 19.79it/s]\n"
     ]
    },
    {
     "name": "stdout",
     "output_type": "stream",
     "text": [
      "FID score: 56.539947509765625\n"
     ]
    },
    {
     "name": "stderr",
     "output_type": "stream",
     "text": [
      "sample images: 100%|██████████| 256/256 [00:05<00:00, 48.16it/s]\n"
     ]
    },
    {
     "name": "stdout",
     "output_type": "stream",
     "text": [
      "Inception score: 5.4559587279114155\n",
      "----- Epoch Summary -----\n",
      "Dis Loss: -0.010204 - Gen Loss: -2.876996 - Dis LR: 4.79062e-05 - Gen LR: 4.79062e-05\n",
      "FID score: 56.539947509765625 - Inception score: 5.4559587279114155 || @ epoch 155.\n",
      "Best FID score: 48.766998291015625 @ epoch 152\n",
      "-----      End      -----\n",
      "\n",
      "------- Epoch 156 -------\n",
      "[Epoch 156] [Batch 0/1563] [D loss: 0.888220] [G loss: -2.211185]\n",
      "[Epoch 156] [Batch 100/1563] [D loss: -1.012333] [G loss: -2.395942]\n",
      "[Epoch 156] [Batch 200/1563] [D loss: -0.733375] [G loss: -3.211665]\n",
      "[Epoch 156] [Batch 300/1563] [D loss: 0.543913] [G loss: -3.584322]\n",
      "[Epoch 156] [Batch 400/1563] [D loss: 0.020141] [G loss: -1.946185]\n",
      "[Epoch 156] [Batch 500/1563] [D loss: 0.956744] [G loss: -3.255862]\n",
      "[Epoch 156] [Batch 600/1563] [D loss: 0.375188] [G loss: -3.157654]\n",
      "[Epoch 156] [Batch 700/1563] [D loss: -0.765720] [G loss: -1.750057]\n",
      "[Epoch 156] [Batch 800/1563] [D loss: -0.212488] [G loss: -4.395927]\n",
      "[Epoch 156] [Batch 900/1563] [D loss: -0.641955] [G loss: -2.255522]\n",
      "[Epoch 156] [Batch 1000/1563] [D loss: 0.357549] [G loss: -2.279664]\n",
      "[Epoch 156] [Batch 1100/1563] [D loss: -1.041938] [G loss: -3.292380]\n",
      "[Epoch 156] [Batch 1200/1563] [D loss: -0.559194] [G loss: -2.943439]\n",
      "[Epoch 156] [Batch 1300/1563] [D loss: 0.159305] [G loss: -2.349992]\n",
      "[Epoch 156] [Batch 1400/1563] [D loss: 0.678210] [G loss: -3.510130]\n",
      "[Epoch 156] [Batch 1500/1563] [D loss: 0.664500] [G loss: -3.412957]\n"
     ]
    },
    {
     "name": "stderr",
     "output_type": "stream",
     "text": [
      "sample images: 100%|██████████| 256/256 [00:05<00:00, 48.02it/s]\n"
     ]
    },
    {
     "name": "stdout",
     "output_type": "stream",
     "text": [
      "Warning: number of images is not a multiple of the batch size. Some samples are going to be ignored.\n"
     ]
    },
    {
     "name": "stderr",
     "output_type": "stream",
     "text": [
      "100%|██████████| 81/81 [00:04<00:00, 19.78it/s]\n"
     ]
    },
    {
     "name": "stdout",
     "output_type": "stream",
     "text": [
      "FID score: 54.840118408203125\n"
     ]
    },
    {
     "name": "stderr",
     "output_type": "stream",
     "text": [
      "sample images: 100%|██████████| 256/256 [00:05<00:00, 48.06it/s]\n"
     ]
    },
    {
     "name": "stdout",
     "output_type": "stream",
     "text": [
      "Inception score: 5.077725528104532\n",
      "----- Epoch Summary -----\n",
      "Dis Loss: -0.043510 - Gen Loss: -2.962632 - Dis LR: 4.73832e-05 - Gen LR: 4.73832e-05\n",
      "FID score: 54.840118408203125 - Inception score: 5.077725528104532 || @ epoch 156.\n",
      "Best FID score: 48.766998291015625 @ epoch 152\n",
      "-----      End      -----\n",
      "\n",
      "------- Epoch 157 -------\n",
      "[Epoch 157] [Batch 100/1563] [D loss: 0.759701] [G loss: -4.236738]\n",
      "[Epoch 157] [Batch 200/1563] [D loss: 0.264085] [G loss: -3.238700]\n",
      "[Epoch 157] [Batch 300/1563] [D loss: 1.644643] [G loss: -2.652843]\n",
      "[Epoch 157] [Batch 400/1563] [D loss: -1.217331] [G loss: -2.603595]\n",
      "[Epoch 157] [Batch 500/1563] [D loss: -0.171150] [G loss: -3.358870]\n",
      "[Epoch 157] [Batch 600/1563] [D loss: -0.121343] [G loss: -3.377276]\n",
      "[Epoch 157] [Batch 700/1563] [D loss: -0.184349] [G loss: -1.693968]\n",
      "[Epoch 157] [Batch 800/1563] [D loss: -0.144937] [G loss: -3.305123]\n",
      "[Epoch 157] [Batch 900/1563] [D loss: 0.008648] [G loss: -2.466911]\n",
      "[Epoch 157] [Batch 1000/1563] [D loss: 0.352269] [G loss: -3.807045]\n",
      "[Epoch 157] [Batch 1100/1563] [D loss: -0.275058] [G loss: -2.803942]\n",
      "[Epoch 157] [Batch 1200/1563] [D loss: -0.127912] [G loss: -3.378785]\n",
      "[Epoch 157] [Batch 1300/1563] [D loss: -0.106908] [G loss: -2.389059]\n",
      "[Epoch 157] [Batch 1400/1563] [D loss: 1.565232] [G loss: -4.043797]\n",
      "[Epoch 157] [Batch 1500/1563] [D loss: 0.730612] [G loss: -2.978290]\n"
     ]
    },
    {
     "name": "stderr",
     "output_type": "stream",
     "text": [
      "sample images: 100%|██████████| 256/256 [00:05<00:00, 48.05it/s]\n"
     ]
    },
    {
     "name": "stdout",
     "output_type": "stream",
     "text": [
      "Warning: number of images is not a multiple of the batch size. Some samples are going to be ignored.\n"
     ]
    },
    {
     "name": "stderr",
     "output_type": "stream",
     "text": [
      "100%|██████████| 81/81 [00:04<00:00, 19.75it/s]\n"
     ]
    },
    {
     "name": "stdout",
     "output_type": "stream",
     "text": [
      "FID score: 57.189605712890625\n"
     ]
    },
    {
     "name": "stderr",
     "output_type": "stream",
     "text": [
      "sample images: 100%|██████████| 256/256 [00:05<00:00, 48.13it/s]\n"
     ]
    },
    {
     "name": "stdout",
     "output_type": "stream",
     "text": [
      "Inception score: 4.76579248962607\n",
      "----- Epoch Summary -----\n",
      "Dis Loss: -0.059238 - Gen Loss: -3.366955 - Dis LR: 4.68605e-05 - Gen LR: 4.68605e-05\n",
      "FID score: 57.189605712890625 - Inception score: 4.76579248962607 || @ epoch 157.\n",
      "Best FID score: 48.766998291015625 @ epoch 152\n",
      "-----      End      -----\n",
      "\n",
      "------- Epoch 158 -------\n",
      "[Epoch 158] [Batch 100/1563] [D loss: -0.544216] [G loss: -2.526820]\n",
      "[Epoch 158] [Batch 200/1563] [D loss: -1.788157] [G loss: -2.434307]\n",
      "[Epoch 158] [Batch 300/1563] [D loss: -0.995195] [G loss: -4.024698]\n",
      "[Epoch 158] [Batch 400/1563] [D loss: 0.803186] [G loss: -3.194623]\n",
      "[Epoch 158] [Batch 500/1563] [D loss: -0.171269] [G loss: -3.815046]\n",
      "[Epoch 158] [Batch 600/1563] [D loss: 0.630808] [G loss: -3.140130]\n",
      "[Epoch 158] [Batch 700/1563] [D loss: 0.495606] [G loss: -3.111466]\n",
      "[Epoch 158] [Batch 800/1563] [D loss: -0.610607] [G loss: -2.368601]\n",
      "[Epoch 158] [Batch 900/1563] [D loss: 0.367621] [G loss: -2.033925]\n",
      "[Epoch 158] [Batch 1000/1563] [D loss: -0.739861] [G loss: -2.519905]\n",
      "[Epoch 158] [Batch 1100/1563] [D loss: 0.452532] [G loss: -2.440117]\n",
      "[Epoch 158] [Batch 1200/1563] [D loss: 1.850344] [G loss: -2.587000]\n",
      "[Epoch 158] [Batch 1300/1563] [D loss: -0.784688] [G loss: -2.142727]\n",
      "[Epoch 158] [Batch 1400/1563] [D loss: 0.372871] [G loss: -4.000822]\n",
      "[Epoch 158] [Batch 1500/1563] [D loss: -0.119170] [G loss: -3.526806]\n"
     ]
    },
    {
     "name": "stderr",
     "output_type": "stream",
     "text": [
      "sample images: 100%|██████████| 256/256 [00:05<00:00, 48.08it/s]\n"
     ]
    },
    {
     "name": "stdout",
     "output_type": "stream",
     "text": [
      "Warning: number of images is not a multiple of the batch size. Some samples are going to be ignored.\n"
     ]
    },
    {
     "name": "stderr",
     "output_type": "stream",
     "text": [
      "100%|██████████| 81/81 [00:04<00:00, 19.78it/s]\n"
     ]
    },
    {
     "name": "stdout",
     "output_type": "stream",
     "text": [
      "FID score: 53.3011474609375\n"
     ]
    },
    {
     "name": "stderr",
     "output_type": "stream",
     "text": [
      "sample images: 100%|██████████| 256/256 [00:05<00:00, 48.16it/s]\n"
     ]
    },
    {
     "name": "stdout",
     "output_type": "stream",
     "text": [
      "Inception score: 5.2425190715522545\n",
      "----- Epoch Summary -----\n",
      "Dis Loss: -0.087060 - Gen Loss: -2.975483 - Dis LR: 4.63381e-05 - Gen LR: 4.63381e-05\n",
      "FID score: 53.3011474609375 - Inception score: 5.2425190715522545 || @ epoch 158.\n",
      "Best FID score: 48.766998291015625 @ epoch 152\n",
      "-----      End      -----\n",
      "\n",
      "------- Epoch 159 -------\n",
      "[Epoch 159] [Batch 100/1563] [D loss: -1.274282] [G loss: -2.238824]\n",
      "[Epoch 159] [Batch 200/1563] [D loss: 0.263694] [G loss: -2.808339]\n",
      "[Epoch 159] [Batch 300/1563] [D loss: 0.574727] [G loss: -3.204759]\n",
      "[Epoch 159] [Batch 400/1563] [D loss: -0.473739] [G loss: -1.514712]\n",
      "[Epoch 159] [Batch 500/1563] [D loss: -0.668066] [G loss: -2.605648]\n",
      "[Epoch 159] [Batch 600/1563] [D loss: 0.308210] [G loss: -3.757394]\n",
      "[Epoch 159] [Batch 700/1563] [D loss: -1.523170] [G loss: -1.482764]\n",
      "[Epoch 159] [Batch 800/1563] [D loss: -1.210508] [G loss: -1.556239]\n",
      "[Epoch 159] [Batch 900/1563] [D loss: 0.140205] [G loss: -2.089783]\n",
      "[Epoch 159] [Batch 1000/1563] [D loss: 0.633142] [G loss: -2.373519]\n",
      "[Epoch 159] [Batch 1100/1563] [D loss: -1.006508] [G loss: -2.742299]\n",
      "[Epoch 159] [Batch 1200/1563] [D loss: 0.834629] [G loss: -0.834835]\n",
      "[Epoch 159] [Batch 1300/1563] [D loss: -0.859564] [G loss: -3.057585]\n",
      "[Epoch 159] [Batch 1400/1563] [D loss: -0.209538] [G loss: -2.014856]\n",
      "[Epoch 159] [Batch 1500/1563] [D loss: 0.300785] [G loss: -1.792710]\n"
     ]
    },
    {
     "name": "stderr",
     "output_type": "stream",
     "text": [
      "sample images: 100%|██████████| 256/256 [00:05<00:00, 48.09it/s]\n"
     ]
    },
    {
     "name": "stdout",
     "output_type": "stream",
     "text": [
      "Warning: number of images is not a multiple of the batch size. Some samples are going to be ignored.\n"
     ]
    },
    {
     "name": "stderr",
     "output_type": "stream",
     "text": [
      "100%|██████████| 81/81 [00:04<00:00, 19.79it/s]\n"
     ]
    },
    {
     "name": "stdout",
     "output_type": "stream",
     "text": [
      "FID score: 49.0220947265625\n"
     ]
    },
    {
     "name": "stderr",
     "output_type": "stream",
     "text": [
      "sample images: 100%|██████████| 256/256 [00:05<00:00, 48.07it/s]\n"
     ]
    },
    {
     "name": "stdout",
     "output_type": "stream",
     "text": [
      "Inception score: 5.461571795932929\n",
      "----- Epoch Summary -----\n",
      "Dis Loss: -0.055816 - Gen Loss: -2.323602 - Dis LR: 4.58161e-05 - Gen LR: 4.58161e-05\n",
      "FID score: 49.0220947265625 - Inception score: 5.461571795932929 || @ epoch 159.\n",
      "Best FID score: 48.766998291015625 @ epoch 152\n",
      "-----      End      -----\n",
      "\n",
      "------- Epoch 160 -------\n",
      "[Epoch 160] [Batch 100/1563] [D loss: 0.685811] [G loss: -1.875198]\n",
      "[Epoch 160] [Batch 200/1563] [D loss: -1.463524] [G loss: -1.987632]\n",
      "[Epoch 160] [Batch 300/1563] [D loss: 0.483935] [G loss: -1.226162]\n",
      "[Epoch 160] [Batch 400/1563] [D loss: -2.290523] [G loss: -1.876919]\n",
      "[Epoch 160] [Batch 500/1563] [D loss: 0.527226] [G loss: -2.353955]\n",
      "[Epoch 160] [Batch 600/1563] [D loss: -0.394997] [G loss: -0.910286]\n",
      "[Epoch 160] [Batch 700/1563] [D loss: -0.286129] [G loss: -1.099539]\n",
      "[Epoch 160] [Batch 800/1563] [D loss: 0.521040] [G loss: -2.758001]\n",
      "[Epoch 160] [Batch 900/1563] [D loss: 0.230365] [G loss: -1.051535]\n",
      "[Epoch 160] [Batch 1000/1563] [D loss: 1.062158] [G loss: -1.574626]\n",
      "[Epoch 160] [Batch 1100/1563] [D loss: -0.748481] [G loss: -1.020937]\n",
      "[Epoch 160] [Batch 1200/1563] [D loss: 0.821546] [G loss: -1.790054]\n",
      "[Epoch 160] [Batch 1300/1563] [D loss: -0.665456] [G loss: -1.961850]\n",
      "[Epoch 160] [Batch 1400/1563] [D loss: -0.452931] [G loss: -1.940108]\n",
      "[Epoch 160] [Batch 1500/1563] [D loss: 0.584256] [G loss: -1.313920]\n"
     ]
    },
    {
     "name": "stderr",
     "output_type": "stream",
     "text": [
      "sample images: 100%|██████████| 256/256 [00:05<00:00, 48.15it/s]\n"
     ]
    },
    {
     "name": "stdout",
     "output_type": "stream",
     "text": [
      "Warning: number of images is not a multiple of the batch size. Some samples are going to be ignored.\n"
     ]
    },
    {
     "name": "stderr",
     "output_type": "stream",
     "text": [
      "100%|██████████| 81/81 [00:04<00:00, 19.76it/s]\n"
     ]
    },
    {
     "name": "stdout",
     "output_type": "stream",
     "text": [
      "FID score: 54.60833740234375\n"
     ]
    },
    {
     "name": "stderr",
     "output_type": "stream",
     "text": [
      "sample images: 100%|██████████| 256/256 [00:05<00:00, 48.14it/s]\n"
     ]
    },
    {
     "name": "stdout",
     "output_type": "stream",
     "text": [
      "Inception score: 5.26559736258581\n",
      "----- Epoch Summary -----\n",
      "Dis Loss: -0.038826 - Gen Loss: -1.582401 - Dis LR: 4.52946e-05 - Gen LR: 4.52946e-05\n",
      "FID score: 54.60833740234375 - Inception score: 5.26559736258581 || @ epoch 160.\n",
      "Best FID score: 48.766998291015625 @ epoch 152\n",
      "-----      End      -----\n",
      "\n",
      "------- Epoch 161 -------\n",
      "[Epoch 161] [Batch 0/1563] [D loss: -0.448934] [G loss: -2.630198]\n",
      "[Epoch 161] [Batch 100/1563] [D loss: 0.371566] [G loss: -1.275295]\n",
      "[Epoch 161] [Batch 200/1563] [D loss: -0.739814] [G loss: -2.181626]\n",
      "[Epoch 161] [Batch 300/1563] [D loss: -0.856852] [G loss: -1.272730]\n",
      "[Epoch 161] [Batch 400/1563] [D loss: 0.361337] [G loss: -1.462360]\n",
      "[Epoch 161] [Batch 500/1563] [D loss: 0.950061] [G loss: -1.919847]\n",
      "[Epoch 161] [Batch 600/1563] [D loss: -0.077082] [G loss: -1.392971]\n",
      "[Epoch 161] [Batch 700/1563] [D loss: -1.381747] [G loss: -1.082441]\n",
      "[Epoch 161] [Batch 800/1563] [D loss: -0.561532] [G loss: -1.031686]\n",
      "[Epoch 161] [Batch 900/1563] [D loss: -1.772905] [G loss: -0.079514]\n",
      "[Epoch 161] [Batch 1000/1563] [D loss: 1.700611] [G loss: -1.485977]\n",
      "[Epoch 161] [Batch 1100/1563] [D loss: -0.755436] [G loss: -2.323509]\n",
      "[Epoch 161] [Batch 1200/1563] [D loss: -1.391425] [G loss: -2.851285]\n",
      "[Epoch 161] [Batch 1300/1563] [D loss: 0.416592] [G loss: -0.100180]\n",
      "[Epoch 161] [Batch 1400/1563] [D loss: -0.287665] [G loss: -1.488439]\n",
      "[Epoch 161] [Batch 1500/1563] [D loss: 1.347630] [G loss: -0.691778]\n"
     ]
    },
    {
     "name": "stderr",
     "output_type": "stream",
     "text": [
      "sample images: 100%|██████████| 256/256 [00:05<00:00, 47.73it/s]\n"
     ]
    },
    {
     "name": "stdout",
     "output_type": "stream",
     "text": [
      "Warning: number of images is not a multiple of the batch size. Some samples are going to be ignored.\n"
     ]
    },
    {
     "name": "stderr",
     "output_type": "stream",
     "text": [
      "100%|██████████| 81/81 [00:04<00:00, 19.74it/s]\n"
     ]
    },
    {
     "name": "stdout",
     "output_type": "stream",
     "text": [
      "FID score: 47.57659912109375\n"
     ]
    },
    {
     "name": "stderr",
     "output_type": "stream",
     "text": [
      "sample images: 100%|██████████| 256/256 [00:05<00:00, 48.17it/s]\n"
     ]
    },
    {
     "name": "stdout",
     "output_type": "stream",
     "text": [
      "Inception score: 5.333531234424815\n",
      "Saved Latest Model!\n",
      "----- Epoch Summary -----\n",
      "Dis Loss: -0.059088 - Gen Loss: -1.485773 - Dis LR: 4.47736e-05 - Gen LR: 4.47736e-05\n",
      "FID score: 47.57659912109375 - Inception score: 5.333531234424815 || @ epoch 161.\n",
      "Best FID score: 47.57659912109375 @ epoch 161\n",
      "-----      End      -----\n",
      "\n",
      "------- Epoch 162 -------\n",
      "[Epoch 162] [Batch 100/1563] [D loss: 1.269487] [G loss: -1.704008]\n",
      "[Epoch 162] [Batch 200/1563] [D loss: -0.412298] [G loss: -0.509446]\n",
      "[Epoch 162] [Batch 300/1563] [D loss: -0.331826] [G loss: -0.719767]\n",
      "[Epoch 162] [Batch 400/1563] [D loss: -0.541301] [G loss: -1.518173]\n",
      "[Epoch 162] [Batch 500/1563] [D loss: -1.602405] [G loss: -0.982656]\n",
      "[Epoch 162] [Batch 600/1563] [D loss: 1.883675] [G loss: -1.839933]\n",
      "[Epoch 162] [Batch 700/1563] [D loss: 0.122781] [G loss: -1.533509]\n",
      "[Epoch 162] [Batch 800/1563] [D loss: -0.264634] [G loss: -0.389276]\n",
      "[Epoch 162] [Batch 900/1563] [D loss: 0.061128] [G loss: -1.967527]\n",
      "[Epoch 162] [Batch 1000/1563] [D loss: 0.539162] [G loss: -2.154832]\n",
      "[Epoch 162] [Batch 1100/1563] [D loss: 0.202050] [G loss: -2.023415]\n",
      "[Epoch 162] [Batch 1200/1563] [D loss: -0.740969] [G loss: -1.493474]\n",
      "[Epoch 162] [Batch 1300/1563] [D loss: -0.453173] [G loss: -2.869651]\n",
      "[Epoch 162] [Batch 1400/1563] [D loss: 0.314777] [G loss: -2.509482]\n",
      "[Epoch 162] [Batch 1500/1563] [D loss: -0.193561] [G loss: -1.335922]\n"
     ]
    },
    {
     "name": "stderr",
     "output_type": "stream",
     "text": [
      "sample images: 100%|██████████| 256/256 [00:05<00:00, 48.09it/s]\n"
     ]
    },
    {
     "name": "stdout",
     "output_type": "stream",
     "text": [
      "Warning: number of images is not a multiple of the batch size. Some samples are going to be ignored.\n"
     ]
    },
    {
     "name": "stderr",
     "output_type": "stream",
     "text": [
      "100%|██████████| 81/81 [00:04<00:00, 19.76it/s]\n"
     ]
    },
    {
     "name": "stdout",
     "output_type": "stream",
     "text": [
      "FID score: 57.060516357421875\n"
     ]
    },
    {
     "name": "stderr",
     "output_type": "stream",
     "text": [
      "sample images: 100%|██████████| 256/256 [00:05<00:00, 48.14it/s]\n"
     ]
    },
    {
     "name": "stdout",
     "output_type": "stream",
     "text": [
      "Inception score: 5.239040191550827\n",
      "----- Epoch Summary -----\n",
      "Dis Loss: -0.018486 - Gen Loss: -1.534972 - Dis LR: 4.42531e-05 - Gen LR: 4.42531e-05\n",
      "FID score: 57.060516357421875 - Inception score: 5.239040191550827 || @ epoch 162.\n",
      "Best FID score: 47.57659912109375 @ epoch 161\n",
      "-----      End      -----\n",
      "\n",
      "------- Epoch 163 -------\n",
      "[Epoch 163] [Batch 100/1563] [D loss: -0.798967] [G loss: -2.424302]\n",
      "[Epoch 163] [Batch 200/1563] [D loss: -0.958187] [G loss: -1.001923]\n",
      "[Epoch 163] [Batch 300/1563] [D loss: -0.220573] [G loss: -2.654037]\n",
      "[Epoch 163] [Batch 400/1563] [D loss: 0.556981] [G loss: -2.606045]\n",
      "[Epoch 163] [Batch 500/1563] [D loss: -0.377531] [G loss: -1.505208]\n",
      "[Epoch 163] [Batch 600/1563] [D loss: 1.454616] [G loss: -1.076957]\n",
      "[Epoch 163] [Batch 700/1563] [D loss: 0.413249] [G loss: -1.050218]\n",
      "[Epoch 163] [Batch 800/1563] [D loss: -0.390323] [G loss: -2.219154]\n",
      "[Epoch 163] [Batch 900/1563] [D loss: 0.054691] [G loss: -0.959515]\n",
      "[Epoch 163] [Batch 1000/1563] [D loss: 1.447411] [G loss: -2.052192]\n",
      "[Epoch 163] [Batch 1100/1563] [D loss: 1.237306] [G loss: -1.625807]\n",
      "[Epoch 163] [Batch 1200/1563] [D loss: -0.085434] [G loss: -1.797330]\n",
      "[Epoch 163] [Batch 1300/1563] [D loss: -0.159102] [G loss: -0.914698]\n",
      "[Epoch 163] [Batch 1400/1563] [D loss: 0.058358] [G loss: -0.965143]\n",
      "[Epoch 163] [Batch 1500/1563] [D loss: 0.567633] [G loss: -2.454243]\n"
     ]
    },
    {
     "name": "stderr",
     "output_type": "stream",
     "text": [
      "sample images: 100%|██████████| 256/256 [00:05<00:00, 48.12it/s]\n"
     ]
    },
    {
     "name": "stdout",
     "output_type": "stream",
     "text": [
      "Warning: number of images is not a multiple of the batch size. Some samples are going to be ignored.\n"
     ]
    },
    {
     "name": "stderr",
     "output_type": "stream",
     "text": [
      "100%|██████████| 81/81 [00:04<00:00, 19.76it/s]\n"
     ]
    },
    {
     "name": "stdout",
     "output_type": "stream",
     "text": [
      "FID score: 59.899627685546875\n"
     ]
    },
    {
     "name": "stderr",
     "output_type": "stream",
     "text": [
      "sample images: 100%|██████████| 256/256 [00:05<00:00, 48.13it/s]\n"
     ]
    },
    {
     "name": "stdout",
     "output_type": "stream",
     "text": [
      "Inception score: 5.097796480529941\n",
      "----- Epoch Summary -----\n",
      "Dis Loss: -0.040777 - Gen Loss: -1.538641 - Dis LR: 4.37333e-05 - Gen LR: 4.37333e-05\n",
      "FID score: 59.899627685546875 - Inception score: 5.097796480529941 || @ epoch 163.\n",
      "Best FID score: 47.57659912109375 @ epoch 161\n",
      "-----      End      -----\n",
      "\n",
      "------- Epoch 164 -------\n",
      "[Epoch 164] [Batch 100/1563] [D loss: 0.413849] [G loss: -3.159451]\n",
      "[Epoch 164] [Batch 200/1563] [D loss: -1.657712] [G loss: -0.198853]\n",
      "[Epoch 164] [Batch 300/1563] [D loss: 0.560950] [G loss: -1.169023]\n",
      "[Epoch 164] [Batch 400/1563] [D loss: -0.280554] [G loss: -2.559378]\n",
      "[Epoch 164] [Batch 500/1563] [D loss: 0.539866] [G loss: -1.616006]\n",
      "[Epoch 164] [Batch 600/1563] [D loss: -0.075442] [G loss: -0.381548]\n",
      "[Epoch 164] [Batch 700/1563] [D loss: -1.173185] [G loss: -1.156455]\n",
      "[Epoch 164] [Batch 800/1563] [D loss: 0.169469] [G loss: -0.331203]\n",
      "[Epoch 164] [Batch 900/1563] [D loss: -0.433620] [G loss: -1.464013]\n",
      "[Epoch 164] [Batch 1000/1563] [D loss: 0.748056] [G loss: -2.259099]\n",
      "[Epoch 164] [Batch 1100/1563] [D loss: -0.761339] [G loss: -2.591323]\n",
      "[Epoch 164] [Batch 1200/1563] [D loss: 0.937545] [G loss: -1.610749]\n",
      "[Epoch 164] [Batch 1300/1563] [D loss: 0.110914] [G loss: -2.634498]\n",
      "[Epoch 164] [Batch 1400/1563] [D loss: -0.751932] [G loss: -2.240614]\n",
      "[Epoch 164] [Batch 1500/1563] [D loss: 0.004874] [G loss: -1.388916]\n"
     ]
    },
    {
     "name": "stderr",
     "output_type": "stream",
     "text": [
      "sample images: 100%|██████████| 256/256 [00:05<00:00, 48.11it/s]\n"
     ]
    },
    {
     "name": "stdout",
     "output_type": "stream",
     "text": [
      "Warning: number of images is not a multiple of the batch size. Some samples are going to be ignored.\n"
     ]
    },
    {
     "name": "stderr",
     "output_type": "stream",
     "text": [
      "100%|██████████| 81/81 [00:04<00:00, 19.78it/s]\n"
     ]
    },
    {
     "name": "stdout",
     "output_type": "stream",
     "text": [
      "FID score: 57.21624755859375\n"
     ]
    },
    {
     "name": "stderr",
     "output_type": "stream",
     "text": [
      "sample images: 100%|██████████| 256/256 [00:05<00:00, 48.13it/s]\n"
     ]
    },
    {
     "name": "stdout",
     "output_type": "stream",
     "text": [
      "Inception score: 5.4473131390497835\n",
      "----- Epoch Summary -----\n",
      "Dis Loss: -0.046341 - Gen Loss: -1.685261 - Dis LR: 4.32142e-05 - Gen LR: 4.32142e-05\n",
      "FID score: 57.21624755859375 - Inception score: 5.4473131390497835 || @ epoch 164.\n",
      "Best FID score: 47.57659912109375 @ epoch 161\n",
      "-----      End      -----\n",
      "\n",
      "------- Epoch 165 -------\n",
      "[Epoch 165] [Batch 100/1563] [D loss: -0.271650] [G loss: -2.884079]\n",
      "[Epoch 165] [Batch 200/1563] [D loss: -1.435275] [G loss: -1.777570]\n",
      "[Epoch 165] [Batch 300/1563] [D loss: 0.471264] [G loss: -2.534253]\n",
      "[Epoch 165] [Batch 400/1563] [D loss: -1.593885] [G loss: -3.102030]\n",
      "[Epoch 165] [Batch 500/1563] [D loss: -0.091714] [G loss: -1.963458]\n",
      "[Epoch 165] [Batch 600/1563] [D loss: -1.095819] [G loss: -2.104995]\n",
      "[Epoch 165] [Batch 700/1563] [D loss: -0.869990] [G loss: -2.172670]\n",
      "[Epoch 165] [Batch 800/1563] [D loss: 0.875150] [G loss: -2.849200]\n",
      "[Epoch 165] [Batch 900/1563] [D loss: -0.142036] [G loss: -1.088994]\n",
      "[Epoch 165] [Batch 1000/1563] [D loss: 1.130503] [G loss: -1.569820]\n",
      "[Epoch 165] [Batch 1100/1563] [D loss: -0.489062] [G loss: -2.146804]\n",
      "[Epoch 165] [Batch 1200/1563] [D loss: -0.519484] [G loss: -1.147562]\n",
      "[Epoch 165] [Batch 1300/1563] [D loss: 0.102635] [G loss: -2.802560]\n",
      "[Epoch 165] [Batch 1400/1563] [D loss: -0.172920] [G loss: -1.545372]\n",
      "[Epoch 165] [Batch 1500/1563] [D loss: 0.283921] [G loss: -2.281305]\n"
     ]
    },
    {
     "name": "stderr",
     "output_type": "stream",
     "text": [
      "sample images: 100%|██████████| 256/256 [00:05<00:00, 48.11it/s]\n"
     ]
    },
    {
     "name": "stdout",
     "output_type": "stream",
     "text": [
      "Warning: number of images is not a multiple of the batch size. Some samples are going to be ignored.\n"
     ]
    },
    {
     "name": "stderr",
     "output_type": "stream",
     "text": [
      "100%|██████████| 81/81 [00:04<00:00, 19.75it/s]\n"
     ]
    },
    {
     "name": "stdout",
     "output_type": "stream",
     "text": [
      "FID score: 55.436065673828125\n"
     ]
    },
    {
     "name": "stderr",
     "output_type": "stream",
     "text": [
      "sample images: 100%|██████████| 256/256 [00:05<00:00, 48.08it/s]\n"
     ]
    },
    {
     "name": "stdout",
     "output_type": "stream",
     "text": [
      "Inception score: 5.254898485088187\n",
      "----- Epoch Summary -----\n",
      "Dis Loss: -0.032733 - Gen Loss: -2.107991 - Dis LR: 4.26958e-05 - Gen LR: 4.26958e-05\n",
      "FID score: 55.436065673828125 - Inception score: 5.254898485088187 || @ epoch 165.\n",
      "Best FID score: 47.57659912109375 @ epoch 161\n",
      "-----      End      -----\n",
      "\n",
      "------- Epoch 166 -------\n",
      "[Epoch 166] [Batch 0/1563] [D loss: 1.496822] [G loss: -2.740612]\n",
      "[Epoch 166] [Batch 100/1563] [D loss: -0.660601] [G loss: -1.782867]\n",
      "[Epoch 166] [Batch 200/1563] [D loss: 0.781169] [G loss: -2.243402]\n",
      "[Epoch 166] [Batch 300/1563] [D loss: 2.419255] [G loss: -1.604818]\n",
      "[Epoch 166] [Batch 400/1563] [D loss: -0.704516] [G loss: -2.761875]\n",
      "[Epoch 166] [Batch 500/1563] [D loss: -0.968100] [G loss: -2.004576]\n",
      "[Epoch 166] [Batch 600/1563] [D loss: 0.454584] [G loss: -1.999856]\n",
      "[Epoch 166] [Batch 700/1563] [D loss: 0.538197] [G loss: -2.006799]\n",
      "[Epoch 166] [Batch 800/1563] [D loss: -0.176269] [G loss: -1.626874]\n",
      "[Epoch 166] [Batch 900/1563] [D loss: -1.231584] [G loss: -0.721016]\n",
      "[Epoch 166] [Batch 1000/1563] [D loss: 0.825227] [G loss: -1.181176]\n",
      "[Epoch 166] [Batch 1100/1563] [D loss: -0.433331] [G loss: -1.914556]\n",
      "[Epoch 166] [Batch 1200/1563] [D loss: 1.068437] [G loss: -1.594860]\n",
      "[Epoch 166] [Batch 1300/1563] [D loss: 0.438477] [G loss: -2.284689]\n",
      "[Epoch 166] [Batch 1400/1563] [D loss: -0.917493] [G loss: -1.265707]\n",
      "[Epoch 166] [Batch 1500/1563] [D loss: 0.729575] [G loss: -1.538833]\n"
     ]
    },
    {
     "name": "stderr",
     "output_type": "stream",
     "text": [
      "sample images: 100%|██████████| 256/256 [00:05<00:00, 48.09it/s]\n"
     ]
    },
    {
     "name": "stdout",
     "output_type": "stream",
     "text": [
      "Warning: number of images is not a multiple of the batch size. Some samples are going to be ignored.\n"
     ]
    },
    {
     "name": "stderr",
     "output_type": "stream",
     "text": [
      "100%|██████████| 81/81 [00:04<00:00, 19.79it/s]\n"
     ]
    },
    {
     "name": "stdout",
     "output_type": "stream",
     "text": [
      "FID score: 51.222381591796875\n"
     ]
    },
    {
     "name": "stderr",
     "output_type": "stream",
     "text": [
      "sample images: 100%|██████████| 256/256 [00:05<00:00, 48.18it/s]\n"
     ]
    },
    {
     "name": "stdout",
     "output_type": "stream",
     "text": [
      "Inception score: 5.212791346163391\n",
      "----- Epoch Summary -----\n",
      "Dis Loss: -0.005081 - Gen Loss: -1.710096 - Dis LR: 4.21783e-05 - Gen LR: 4.21783e-05\n",
      "FID score: 51.222381591796875 - Inception score: 5.212791346163391 || @ epoch 166.\n",
      "Best FID score: 47.57659912109375 @ epoch 161\n",
      "-----      End      -----\n",
      "\n",
      "------- Epoch 167 -------\n",
      "[Epoch 167] [Batch 100/1563] [D loss: -0.690370] [G loss: -0.974492]\n",
      "[Epoch 167] [Batch 200/1563] [D loss: -1.200467] [G loss: -1.720271]\n",
      "[Epoch 167] [Batch 300/1563] [D loss: -0.769565] [G loss: -1.671042]\n",
      "[Epoch 167] [Batch 400/1563] [D loss: 2.273902] [G loss: -1.515178]\n",
      "[Epoch 167] [Batch 500/1563] [D loss: -0.652907] [G loss: -2.107555]\n",
      "[Epoch 167] [Batch 600/1563] [D loss: 0.932992] [G loss: -1.622321]\n",
      "[Epoch 167] [Batch 700/1563] [D loss: -0.967923] [G loss: -0.571997]\n",
      "[Epoch 167] [Batch 800/1563] [D loss: -0.738924] [G loss: -0.400965]\n",
      "[Epoch 167] [Batch 900/1563] [D loss: 0.160453] [G loss: -1.095261]\n",
      "[Epoch 167] [Batch 1000/1563] [D loss: -0.288934] [G loss: -1.542372]\n",
      "[Epoch 167] [Batch 1100/1563] [D loss: -0.598749] [G loss: -1.849663]\n",
      "[Epoch 167] [Batch 1200/1563] [D loss: -0.142287] [G loss: -1.197044]\n",
      "[Epoch 167] [Batch 1300/1563] [D loss: 0.196942] [G loss: -1.933230]\n",
      "[Epoch 167] [Batch 1400/1563] [D loss: -0.469463] [G loss: -1.066903]\n",
      "[Epoch 167] [Batch 1500/1563] [D loss: 1.141029] [G loss: -1.056262]\n"
     ]
    },
    {
     "name": "stderr",
     "output_type": "stream",
     "text": [
      "sample images: 100%|██████████| 256/256 [00:05<00:00, 48.08it/s]\n"
     ]
    },
    {
     "name": "stdout",
     "output_type": "stream",
     "text": [
      "Warning: number of images is not a multiple of the batch size. Some samples are going to be ignored.\n"
     ]
    },
    {
     "name": "stderr",
     "output_type": "stream",
     "text": [
      "100%|██████████| 81/81 [00:04<00:00, 19.76it/s]\n"
     ]
    },
    {
     "name": "stdout",
     "output_type": "stream",
     "text": [
      "FID score: 51.953399658203125\n"
     ]
    },
    {
     "name": "stderr",
     "output_type": "stream",
     "text": [
      "sample images: 100%|██████████| 256/256 [00:05<00:00, 48.07it/s]\n"
     ]
    },
    {
     "name": "stdout",
     "output_type": "stream",
     "text": [
      "Inception score: 5.429741443000423\n",
      "----- Epoch Summary -----\n",
      "Dis Loss: -0.054823 - Gen Loss: -1.590977 - Dis LR: 4.16616e-05 - Gen LR: 4.16616e-05\n",
      "FID score: 51.953399658203125 - Inception score: 5.429741443000423 || @ epoch 167.\n",
      "Best FID score: 47.57659912109375 @ epoch 161\n",
      "-----      End      -----\n",
      "\n",
      "------- Epoch 168 -------\n",
      "[Epoch 168] [Batch 100/1563] [D loss: 0.272680] [G loss: -1.980560]\n",
      "[Epoch 168] [Batch 200/1563] [D loss: -1.553199] [G loss: -2.457897]\n",
      "[Epoch 168] [Batch 300/1563] [D loss: 1.371121] [G loss: -1.258324]\n",
      "[Epoch 168] [Batch 400/1563] [D loss: -0.958741] [G loss: -1.984497]\n",
      "[Epoch 168] [Batch 500/1563] [D loss: 0.403557] [G loss: -2.054937]\n",
      "[Epoch 168] [Batch 600/1563] [D loss: 0.395465] [G loss: -2.450541]\n",
      "[Epoch 168] [Batch 700/1563] [D loss: -1.165153] [G loss: -1.589070]\n",
      "[Epoch 168] [Batch 800/1563] [D loss: -0.865175] [G loss: -0.588697]\n",
      "[Epoch 168] [Batch 900/1563] [D loss: 0.932884] [G loss: -2.503512]\n",
      "[Epoch 168] [Batch 1000/1563] [D loss: -0.630551] [G loss: -2.140461]\n",
      "[Epoch 168] [Batch 1100/1563] [D loss: 0.266945] [G loss: -1.402550]\n",
      "[Epoch 168] [Batch 1200/1563] [D loss: 0.423968] [G loss: -2.211524]\n",
      "[Epoch 168] [Batch 1300/1563] [D loss: 1.149275] [G loss: -1.523219]\n",
      "[Epoch 168] [Batch 1400/1563] [D loss: 0.788351] [G loss: -2.663155]\n",
      "[Epoch 168] [Batch 1500/1563] [D loss: -0.127995] [G loss: -1.669280]\n"
     ]
    },
    {
     "name": "stderr",
     "output_type": "stream",
     "text": [
      "sample images: 100%|██████████| 256/256 [00:05<00:00, 48.17it/s]\n"
     ]
    },
    {
     "name": "stdout",
     "output_type": "stream",
     "text": [
      "Warning: number of images is not a multiple of the batch size. Some samples are going to be ignored.\n"
     ]
    },
    {
     "name": "stderr",
     "output_type": "stream",
     "text": [
      "100%|██████████| 81/81 [00:04<00:00, 19.77it/s]\n"
     ]
    },
    {
     "name": "stdout",
     "output_type": "stream",
     "text": [
      "FID score: 56.215911865234375\n"
     ]
    },
    {
     "name": "stderr",
     "output_type": "stream",
     "text": [
      "sample images: 100%|██████████| 256/256 [00:05<00:00, 48.17it/s]\n"
     ]
    },
    {
     "name": "stdout",
     "output_type": "stream",
     "text": [
      "Inception score: 5.085237834549502\n",
      "----- Epoch Summary -----\n",
      "Dis Loss: -0.069520 - Gen Loss: -1.860392 - Dis LR: 4.11458e-05 - Gen LR: 4.11458e-05\n",
      "FID score: 56.215911865234375 - Inception score: 5.085237834549502 || @ epoch 168.\n",
      "Best FID score: 47.57659912109375 @ epoch 161\n",
      "-----      End      -----\n",
      "\n",
      "------- Epoch 169 -------\n",
      "[Epoch 169] [Batch 100/1563] [D loss: 0.919369] [G loss: -2.198194]\n",
      "[Epoch 169] [Batch 200/1563] [D loss: 1.234473] [G loss: -2.737270]\n",
      "[Epoch 169] [Batch 300/1563] [D loss: 0.537388] [G loss: -1.533405]\n",
      "[Epoch 169] [Batch 400/1563] [D loss: -0.467333] [G loss: -1.129885]\n",
      "[Epoch 169] [Batch 500/1563] [D loss: -0.183780] [G loss: -0.550228]\n",
      "[Epoch 169] [Batch 600/1563] [D loss: 1.694623] [G loss: -3.301658]\n",
      "[Epoch 169] [Batch 700/1563] [D loss: 1.072785] [G loss: -2.695074]\n",
      "[Epoch 169] [Batch 800/1563] [D loss: 0.621871] [G loss: -3.556803]\n",
      "[Epoch 169] [Batch 900/1563] [D loss: 1.358784] [G loss: -1.180875]\n",
      "[Epoch 169] [Batch 1000/1563] [D loss: -0.793619] [G loss: -1.710880]\n",
      "[Epoch 169] [Batch 1100/1563] [D loss: 0.127252] [G loss: -1.622652]\n",
      "[Epoch 169] [Batch 1200/1563] [D loss: 1.085901] [G loss: -2.956721]\n",
      "[Epoch 169] [Batch 1300/1563] [D loss: 1.035353] [G loss: -1.222787]\n",
      "[Epoch 169] [Batch 1400/1563] [D loss: 0.317990] [G loss: -3.273748]\n",
      "[Epoch 169] [Batch 1500/1563] [D loss: 0.145392] [G loss: -1.622470]\n"
     ]
    },
    {
     "name": "stderr",
     "output_type": "stream",
     "text": [
      "sample images: 100%|██████████| 256/256 [00:05<00:00, 48.12it/s]\n"
     ]
    },
    {
     "name": "stdout",
     "output_type": "stream",
     "text": [
      "Warning: number of images is not a multiple of the batch size. Some samples are going to be ignored.\n"
     ]
    },
    {
     "name": "stderr",
     "output_type": "stream",
     "text": [
      "100%|██████████| 81/81 [00:04<00:00, 19.77it/s]\n"
     ]
    },
    {
     "name": "stdout",
     "output_type": "stream",
     "text": [
      "FID score: 65.9979248046875\n"
     ]
    },
    {
     "name": "stderr",
     "output_type": "stream",
     "text": [
      "sample images: 100%|██████████| 256/256 [00:05<00:00, 48.02it/s]\n"
     ]
    },
    {
     "name": "stdout",
     "output_type": "stream",
     "text": [
      "Inception score: 4.777441539281053\n",
      "----- Epoch Summary -----\n",
      "Dis Loss: -0.023880 - Gen Loss: -1.847521 - Dis LR: 4.06309e-05 - Gen LR: 4.06309e-05\n",
      "FID score: 65.9979248046875 - Inception score: 4.777441539281053 || @ epoch 169.\n",
      "Best FID score: 47.57659912109375 @ epoch 161\n",
      "-----      End      -----\n",
      "\n",
      "------- Epoch 170 -------\n",
      "[Epoch 170] [Batch 100/1563] [D loss: 1.069795] [G loss: -1.261930]\n",
      "[Epoch 170] [Batch 200/1563] [D loss: -0.502104] [G loss: -1.499841]\n",
      "[Epoch 170] [Batch 300/1563] [D loss: 1.847932] [G loss: -2.684175]\n",
      "[Epoch 170] [Batch 400/1563] [D loss: 0.666192] [G loss: -2.027182]\n",
      "[Epoch 170] [Batch 500/1563] [D loss: 1.305040] [G loss: -1.827492]\n",
      "[Epoch 170] [Batch 600/1563] [D loss: -0.323033] [G loss: -2.131560]\n",
      "[Epoch 170] [Batch 700/1563] [D loss: -0.280296] [G loss: -2.937934]\n",
      "[Epoch 170] [Batch 800/1563] [D loss: 1.311829] [G loss: -2.208849]\n",
      "[Epoch 170] [Batch 900/1563] [D loss: 0.152176] [G loss: -2.533624]\n",
      "[Epoch 170] [Batch 1000/1563] [D loss: 0.597183] [G loss: -2.841039]\n",
      "[Epoch 170] [Batch 1100/1563] [D loss: -0.714796] [G loss: -2.128929]\n",
      "[Epoch 170] [Batch 1200/1563] [D loss: 0.184784] [G loss: -2.636391]\n",
      "[Epoch 170] [Batch 1300/1563] [D loss: -1.419580] [G loss: -2.735465]\n",
      "[Epoch 170] [Batch 1400/1563] [D loss: -0.623010] [G loss: -3.026514]\n",
      "[Epoch 170] [Batch 1500/1563] [D loss: -0.174081] [G loss: -1.719775]\n"
     ]
    },
    {
     "name": "stderr",
     "output_type": "stream",
     "text": [
      "sample images: 100%|██████████| 256/256 [00:05<00:00, 48.11it/s]\n"
     ]
    },
    {
     "name": "stdout",
     "output_type": "stream",
     "text": [
      "Warning: number of images is not a multiple of the batch size. Some samples are going to be ignored.\n"
     ]
    },
    {
     "name": "stderr",
     "output_type": "stream",
     "text": [
      "100%|██████████| 81/81 [00:04<00:00, 19.79it/s]\n"
     ]
    },
    {
     "name": "stdout",
     "output_type": "stream",
     "text": [
      "FID score: 60.800262451171875\n"
     ]
    },
    {
     "name": "stderr",
     "output_type": "stream",
     "text": [
      "sample images: 100%|██████████| 256/256 [00:05<00:00, 48.16it/s]\n"
     ]
    },
    {
     "name": "stdout",
     "output_type": "stream",
     "text": [
      "Inception score: 4.937124543195519\n",
      "----- Epoch Summary -----\n",
      "Dis Loss: -0.045568 - Gen Loss: -2.140392 - Dis LR: 4.01171e-05 - Gen LR: 4.01171e-05\n",
      "FID score: 60.800262451171875 - Inception score: 4.937124543195519 || @ epoch 170.\n",
      "Best FID score: 47.57659912109375 @ epoch 161\n",
      "-----      End      -----\n",
      "\n",
      "------- Epoch 171 -------\n",
      "[Epoch 171] [Batch 0/1563] [D loss: -2.613627] [G loss: -3.053052]\n",
      "[Epoch 171] [Batch 100/1563] [D loss: 0.033603] [G loss: -3.393485]\n",
      "[Epoch 171] [Batch 200/1563] [D loss: 1.051724] [G loss: -2.659987]\n",
      "[Epoch 171] [Batch 300/1563] [D loss: 0.184779] [G loss: -1.883288]\n",
      "[Epoch 171] [Batch 400/1563] [D loss: -1.118858] [G loss: -1.684981]\n",
      "[Epoch 171] [Batch 500/1563] [D loss: 0.535371] [G loss: -1.941437]\n",
      "[Epoch 171] [Batch 600/1563] [D loss: 0.030380] [G loss: -2.701901]\n",
      "[Epoch 171] [Batch 700/1563] [D loss: -0.637496] [G loss: -2.534371]\n",
      "[Epoch 171] [Batch 800/1563] [D loss: 1.059099] [G loss: -1.906551]\n",
      "[Epoch 171] [Batch 900/1563] [D loss: -0.144821] [G loss: -2.655843]\n",
      "[Epoch 171] [Batch 1000/1563] [D loss: -0.253149] [G loss: -2.890681]\n",
      "[Epoch 171] [Batch 1100/1563] [D loss: 0.618259] [G loss: -2.129154]\n",
      "[Epoch 171] [Batch 1200/1563] [D loss: 0.618924] [G loss: -1.086006]\n",
      "[Epoch 171] [Batch 1300/1563] [D loss: 0.223058] [G loss: -1.519241]\n",
      "[Epoch 171] [Batch 1400/1563] [D loss: -0.563502] [G loss: -0.707810]\n",
      "[Epoch 171] [Batch 1500/1563] [D loss: 0.356919] [G loss: -2.104682]\n"
     ]
    },
    {
     "name": "stderr",
     "output_type": "stream",
     "text": [
      "sample images: 100%|██████████| 256/256 [00:05<00:00, 48.05it/s]\n"
     ]
    },
    {
     "name": "stdout",
     "output_type": "stream",
     "text": [
      "Warning: number of images is not a multiple of the batch size. Some samples are going to be ignored.\n"
     ]
    },
    {
     "name": "stderr",
     "output_type": "stream",
     "text": [
      "100%|██████████| 81/81 [00:04<00:00, 19.75it/s]\n"
     ]
    },
    {
     "name": "stdout",
     "output_type": "stream",
     "text": [
      "FID score: 62.58502197265625\n"
     ]
    },
    {
     "name": "stderr",
     "output_type": "stream",
     "text": [
      "sample images: 100%|██████████| 256/256 [00:05<00:00, 48.11it/s]\n"
     ]
    },
    {
     "name": "stdout",
     "output_type": "stream",
     "text": [
      "Inception score: 4.910053670078538\n",
      "----- Epoch Summary -----\n",
      "Dis Loss: -0.054452 - Gen Loss: -2.114128 - Dis LR: 3.96044e-05 - Gen LR: 3.96044e-05\n",
      "FID score: 62.58502197265625 - Inception score: 4.910053670078538 || @ epoch 171.\n",
      "Best FID score: 47.57659912109375 @ epoch 161\n",
      "-----      End      -----\n",
      "\n",
      "------- Epoch 172 -------\n",
      "[Epoch 172] [Batch 100/1563] [D loss: 0.763295] [G loss: -1.557799]\n",
      "[Epoch 172] [Batch 200/1563] [D loss: -0.364422] [G loss: -1.622513]\n",
      "[Epoch 172] [Batch 300/1563] [D loss: 0.648371] [G loss: -1.626517]\n",
      "[Epoch 172] [Batch 400/1563] [D loss: 1.111724] [G loss: -2.423731]\n",
      "[Epoch 172] [Batch 500/1563] [D loss: 0.198611] [G loss: -1.391105]\n",
      "[Epoch 172] [Batch 600/1563] [D loss: -0.109425] [G loss: -2.178794]\n",
      "[Epoch 172] [Batch 700/1563] [D loss: 1.545214] [G loss: -3.098566]\n",
      "[Epoch 172] [Batch 800/1563] [D loss: 1.056865] [G loss: -2.949750]\n",
      "[Epoch 172] [Batch 900/1563] [D loss: 0.658671] [G loss: -0.842394]\n",
      "[Epoch 172] [Batch 1000/1563] [D loss: -0.469567] [G loss: -2.532027]\n",
      "[Epoch 172] [Batch 1100/1563] [D loss: 0.344435] [G loss: -2.373822]\n",
      "[Epoch 172] [Batch 1200/1563] [D loss: 0.512134] [G loss: -1.765643]\n",
      "[Epoch 172] [Batch 1300/1563] [D loss: -1.650382] [G loss: -2.380139]\n",
      "[Epoch 172] [Batch 1400/1563] [D loss: -0.173615] [G loss: -2.732536]\n",
      "[Epoch 172] [Batch 1500/1563] [D loss: -1.719129] [G loss: -1.775955]\n"
     ]
    },
    {
     "name": "stderr",
     "output_type": "stream",
     "text": [
      "sample images: 100%|██████████| 256/256 [00:05<00:00, 48.15it/s]\n"
     ]
    },
    {
     "name": "stdout",
     "output_type": "stream",
     "text": [
      "Warning: number of images is not a multiple of the batch size. Some samples are going to be ignored.\n"
     ]
    },
    {
     "name": "stderr",
     "output_type": "stream",
     "text": [
      "100%|██████████| 81/81 [00:04<00:00, 19.78it/s]\n"
     ]
    },
    {
     "name": "stdout",
     "output_type": "stream",
     "text": [
      "FID score: 56.31353759765625\n"
     ]
    },
    {
     "name": "stderr",
     "output_type": "stream",
     "text": [
      "sample images: 100%|██████████| 256/256 [00:05<00:00, 48.11it/s]\n"
     ]
    },
    {
     "name": "stdout",
     "output_type": "stream",
     "text": [
      "Inception score: 5.110752324229468\n",
      "----- Epoch Summary -----\n",
      "Dis Loss: -0.052629 - Gen Loss: -1.972705 - Dis LR: 3.90928e-05 - Gen LR: 3.90928e-05\n",
      "FID score: 56.31353759765625 - Inception score: 5.110752324229468 || @ epoch 172.\n",
      "Best FID score: 47.57659912109375 @ epoch 161\n",
      "-----      End      -----\n",
      "\n",
      "------- Epoch 173 -------\n",
      "[Epoch 173] [Batch 100/1563] [D loss: -1.162624] [G loss: -0.734796]\n",
      "[Epoch 173] [Batch 200/1563] [D loss: 0.916779] [G loss: -2.565186]\n",
      "[Epoch 173] [Batch 300/1563] [D loss: -0.501548] [G loss: -2.228316]\n",
      "[Epoch 173] [Batch 400/1563] [D loss: 1.792416] [G loss: -2.277246]\n",
      "[Epoch 173] [Batch 500/1563] [D loss: -0.310700] [G loss: -1.723113]\n",
      "[Epoch 173] [Batch 600/1563] [D loss: -0.533228] [G loss: -2.839340]\n",
      "[Epoch 173] [Batch 700/1563] [D loss: 0.641598] [G loss: -2.136376]\n",
      "[Epoch 173] [Batch 800/1563] [D loss: -0.683969] [G loss: -2.023272]\n",
      "[Epoch 173] [Batch 900/1563] [D loss: 0.823159] [G loss: -1.162851]\n",
      "[Epoch 173] [Batch 1000/1563] [D loss: -0.076835] [G loss: -1.702899]\n",
      "[Epoch 173] [Batch 1100/1563] [D loss: -0.723319] [G loss: -0.977048]\n",
      "[Epoch 173] [Batch 1200/1563] [D loss: -0.934760] [G loss: -1.540937]\n",
      "[Epoch 173] [Batch 1300/1563] [D loss: 0.143376] [G loss: -1.685077]\n",
      "[Epoch 173] [Batch 1400/1563] [D loss: 1.114784] [G loss: -2.854013]\n",
      "[Epoch 173] [Batch 1500/1563] [D loss: 1.088842] [G loss: -0.878773]\n"
     ]
    },
    {
     "name": "stderr",
     "output_type": "stream",
     "text": [
      "sample images: 100%|██████████| 256/256 [00:05<00:00, 47.74it/s]\n"
     ]
    },
    {
     "name": "stdout",
     "output_type": "stream",
     "text": [
      "Warning: number of images is not a multiple of the batch size. Some samples are going to be ignored.\n"
     ]
    },
    {
     "name": "stderr",
     "output_type": "stream",
     "text": [
      "100%|██████████| 81/81 [00:04<00:00, 19.61it/s]\n"
     ]
    },
    {
     "name": "stdout",
     "output_type": "stream",
     "text": [
      "FID score: 57.761932373046875\n"
     ]
    },
    {
     "name": "stderr",
     "output_type": "stream",
     "text": [
      "sample images: 100%|██████████| 256/256 [00:05<00:00, 47.70it/s]\n"
     ]
    },
    {
     "name": "stdout",
     "output_type": "stream",
     "text": [
      "Inception score: 5.013013859997384\n",
      "----- Epoch Summary -----\n",
      "Dis Loss: -0.027163 - Gen Loss: -2.010214 - Dis LR: 3.85825e-05 - Gen LR: 3.85825e-05\n",
      "FID score: 57.761932373046875 - Inception score: 5.013013859997384 || @ epoch 173.\n",
      "Best FID score: 47.57659912109375 @ epoch 161\n",
      "-----      End      -----\n",
      "\n",
      "------- Epoch 174 -------\n",
      "[Epoch 174] [Batch 100/1563] [D loss: 0.699609] [G loss: -2.332871]\n",
      "[Epoch 174] [Batch 200/1563] [D loss: -0.198477] [G loss: -1.644824]\n",
      "[Epoch 174] [Batch 300/1563] [D loss: -0.589952] [G loss: -2.081397]\n",
      "[Epoch 174] [Batch 400/1563] [D loss: 0.751771] [G loss: -1.928581]\n",
      "[Epoch 174] [Batch 500/1563] [D loss: 0.107384] [G loss: -2.995022]\n",
      "[Epoch 174] [Batch 600/1563] [D loss: -0.379464] [G loss: -2.605153]\n",
      "[Epoch 174] [Batch 700/1563] [D loss: -1.240206] [G loss: -4.273748]\n",
      "[Epoch 174] [Batch 800/1563] [D loss: 0.354449] [G loss: -2.289210]\n",
      "[Epoch 174] [Batch 900/1563] [D loss: -0.080615] [G loss: -2.776711]\n",
      "[Epoch 174] [Batch 1000/1563] [D loss: -0.280464] [G loss: -2.837587]\n",
      "[Epoch 174] [Batch 1100/1563] [D loss: 1.263212] [G loss: -2.595714]\n",
      "[Epoch 174] [Batch 1200/1563] [D loss: 1.517851] [G loss: -3.284989]\n",
      "[Epoch 174] [Batch 1300/1563] [D loss: 0.386266] [G loss: -2.248860]\n",
      "[Epoch 174] [Batch 1400/1563] [D loss: 0.898948] [G loss: -1.584408]\n",
      "[Epoch 174] [Batch 1500/1563] [D loss: 0.197051] [G loss: -2.002110]\n"
     ]
    },
    {
     "name": "stderr",
     "output_type": "stream",
     "text": [
      "sample images: 100%|██████████| 256/256 [00:05<00:00, 47.74it/s]\n"
     ]
    },
    {
     "name": "stdout",
     "output_type": "stream",
     "text": [
      "Warning: number of images is not a multiple of the batch size. Some samples are going to be ignored.\n"
     ]
    },
    {
     "name": "stderr",
     "output_type": "stream",
     "text": [
      "100%|██████████| 81/81 [00:04<00:00, 19.59it/s]\n"
     ]
    },
    {
     "name": "stdout",
     "output_type": "stream",
     "text": [
      "FID score: 52.420166015625\n"
     ]
    },
    {
     "name": "stderr",
     "output_type": "stream",
     "text": [
      "sample images: 100%|██████████| 256/256 [00:05<00:00, 47.71it/s]\n"
     ]
    },
    {
     "name": "stdout",
     "output_type": "stream",
     "text": [
      "Inception score: 4.832224235933071\n",
      "----- Epoch Summary -----\n",
      "Dis Loss: -0.090385 - Gen Loss: -2.346304 - Dis LR: 3.80733e-05 - Gen LR: 3.80733e-05\n",
      "FID score: 52.420166015625 - Inception score: 4.832224235933071 || @ epoch 174.\n",
      "Best FID score: 47.57659912109375 @ epoch 161\n",
      "-----      End      -----\n",
      "\n",
      "------- Epoch 175 -------\n",
      "[Epoch 175] [Batch 100/1563] [D loss: -1.348771] [G loss: -1.128683]\n",
      "[Epoch 175] [Batch 200/1563] [D loss: -1.363832] [G loss: -2.270137]\n",
      "[Epoch 175] [Batch 300/1563] [D loss: -1.223740] [G loss: -3.309605]\n",
      "[Epoch 175] [Batch 400/1563] [D loss: 0.697682] [G loss: -2.571846]\n",
      "[Epoch 175] [Batch 500/1563] [D loss: 1.877356] [G loss: -2.466056]\n",
      "[Epoch 175] [Batch 600/1563] [D loss: -1.176974] [G loss: -1.805270]\n",
      "[Epoch 175] [Batch 700/1563] [D loss: -0.380455] [G loss: -1.940786]\n",
      "[Epoch 175] [Batch 800/1563] [D loss: 0.365599] [G loss: -1.299921]\n",
      "[Epoch 175] [Batch 900/1563] [D loss: -0.839907] [G loss: -2.279785]\n",
      "[Epoch 175] [Batch 1000/1563] [D loss: 1.983210] [G loss: -1.979063]\n",
      "[Epoch 175] [Batch 1100/1563] [D loss: 0.063287] [G loss: -1.645997]\n",
      "[Epoch 175] [Batch 1200/1563] [D loss: -1.690851] [G loss: -1.979422]\n",
      "[Epoch 175] [Batch 1300/1563] [D loss: -1.016290] [G loss: -2.949951]\n",
      "[Epoch 175] [Batch 1400/1563] [D loss: 0.008877] [G loss: -2.250718]\n",
      "[Epoch 175] [Batch 1500/1563] [D loss: -0.556512] [G loss: -2.406991]\n"
     ]
    },
    {
     "name": "stderr",
     "output_type": "stream",
     "text": [
      "sample images: 100%|██████████| 256/256 [00:05<00:00, 47.60it/s]\n"
     ]
    },
    {
     "name": "stdout",
     "output_type": "stream",
     "text": [
      "Warning: number of images is not a multiple of the batch size. Some samples are going to be ignored.\n"
     ]
    },
    {
     "name": "stderr",
     "output_type": "stream",
     "text": [
      "100%|██████████| 81/81 [00:04<00:00, 19.61it/s]\n"
     ]
    },
    {
     "name": "stdout",
     "output_type": "stream",
     "text": [
      "FID score: 54.39385986328125\n"
     ]
    },
    {
     "name": "stderr",
     "output_type": "stream",
     "text": [
      "sample images: 100%|██████████| 256/256 [00:05<00:00, 47.61it/s]\n"
     ]
    },
    {
     "name": "stdout",
     "output_type": "stream",
     "text": [
      "Inception score: 4.981307688022447\n",
      "----- Epoch Summary -----\n",
      "Dis Loss: -0.034091 - Gen Loss: -2.388729 - Dis LR: 3.75655e-05 - Gen LR: 3.75655e-05\n",
      "FID score: 54.39385986328125 - Inception score: 4.981307688022447 || @ epoch 175.\n",
      "Best FID score: 47.57659912109375 @ epoch 161\n",
      "-----      End      -----\n",
      "\n",
      "------- Epoch 176 -------\n",
      "[Epoch 176] [Batch 0/1563] [D loss: -0.341013] [G loss: -2.972163]\n",
      "[Epoch 176] [Batch 100/1563] [D loss: -0.116486] [G loss: -2.282214]\n",
      "[Epoch 176] [Batch 200/1563] [D loss: 0.009206] [G loss: -2.945495]\n",
      "[Epoch 176] [Batch 300/1563] [D loss: -0.202860] [G loss: -2.911091]\n",
      "[Epoch 176] [Batch 400/1563] [D loss: 1.186508] [G loss: -2.629045]\n",
      "[Epoch 176] [Batch 500/1563] [D loss: 0.817301] [G loss: -0.304221]\n",
      "[Epoch 176] [Batch 600/1563] [D loss: 0.492521] [G loss: -3.211023]\n",
      "[Epoch 176] [Batch 700/1563] [D loss: -0.353187] [G loss: -1.478413]\n",
      "[Epoch 176] [Batch 800/1563] [D loss: -0.920833] [G loss: -2.001217]\n",
      "[Epoch 176] [Batch 900/1563] [D loss: -3.004026] [G loss: -2.309926]\n",
      "[Epoch 176] [Batch 1000/1563] [D loss: -0.447866] [G loss: -1.983836]\n",
      "[Epoch 176] [Batch 1100/1563] [D loss: 0.754717] [G loss: -3.835227]\n",
      "[Epoch 176] [Batch 1200/1563] [D loss: 0.247163] [G loss: -2.671984]\n",
      "[Epoch 176] [Batch 1300/1563] [D loss: -0.547942] [G loss: -1.888206]\n",
      "[Epoch 176] [Batch 1400/1563] [D loss: -0.532545] [G loss: -1.602436]\n",
      "[Epoch 176] [Batch 1500/1563] [D loss: -0.008984] [G loss: -2.822273]\n"
     ]
    },
    {
     "name": "stderr",
     "output_type": "stream",
     "text": [
      "sample images: 100%|██████████| 256/256 [00:05<00:00, 47.65it/s]\n"
     ]
    },
    {
     "name": "stdout",
     "output_type": "stream",
     "text": [
      "Warning: number of images is not a multiple of the batch size. Some samples are going to be ignored.\n"
     ]
    },
    {
     "name": "stderr",
     "output_type": "stream",
     "text": [
      "100%|██████████| 81/81 [00:04<00:00, 19.59it/s]\n"
     ]
    },
    {
     "name": "stdout",
     "output_type": "stream",
     "text": [
      "FID score: 52.4989013671875\n"
     ]
    },
    {
     "name": "stderr",
     "output_type": "stream",
     "text": [
      "sample images: 100%|██████████| 256/256 [00:05<00:00, 47.61it/s]\n"
     ]
    },
    {
     "name": "stdout",
     "output_type": "stream",
     "text": [
      "Inception score: 5.176793062416849\n",
      "----- Epoch Summary -----\n",
      "Dis Loss: -0.027944 - Gen Loss: -2.430563 - Dis LR: 3.7059e-05 - Gen LR: 3.7059e-05\n",
      "FID score: 52.4989013671875 - Inception score: 5.176793062416849 || @ epoch 176.\n",
      "Best FID score: 47.57659912109375 @ epoch 161\n",
      "-----      End      -----\n",
      "\n",
      "------- Epoch 177 -------\n",
      "[Epoch 177] [Batch 100/1563] [D loss: 0.643370] [G loss: -2.594115]\n",
      "[Epoch 177] [Batch 200/1563] [D loss: 0.986185] [G loss: -2.072600]\n",
      "[Epoch 177] [Batch 300/1563] [D loss: -1.765407] [G loss: -3.678609]\n",
      "[Epoch 177] [Batch 400/1563] [D loss: -1.845420] [G loss: -2.312277]\n",
      "[Epoch 177] [Batch 500/1563] [D loss: -0.945296] [G loss: -2.539653]\n",
      "[Epoch 177] [Batch 600/1563] [D loss: -0.949697] [G loss: -2.759495]\n",
      "[Epoch 177] [Batch 700/1563] [D loss: 1.044116] [G loss: -1.785372]\n",
      "[Epoch 177] [Batch 800/1563] [D loss: 0.374259] [G loss: -1.381819]\n",
      "[Epoch 177] [Batch 900/1563] [D loss: 1.027988] [G loss: -2.223507]\n",
      "[Epoch 177] [Batch 1000/1563] [D loss: -0.291142] [G loss: -2.762554]\n",
      "[Epoch 177] [Batch 1100/1563] [D loss: -1.362271] [G loss: -3.183661]\n",
      "[Epoch 177] [Batch 1200/1563] [D loss: -0.345718] [G loss: -2.358928]\n",
      "[Epoch 177] [Batch 1300/1563] [D loss: 0.173280] [G loss: -2.750831]\n",
      "[Epoch 177] [Batch 1400/1563] [D loss: 0.063088] [G loss: -2.308129]\n",
      "[Epoch 177] [Batch 1500/1563] [D loss: 0.051357] [G loss: -2.369314]\n"
     ]
    },
    {
     "name": "stderr",
     "output_type": "stream",
     "text": [
      "sample images: 100%|██████████| 256/256 [00:05<00:00, 47.72it/s]\n"
     ]
    },
    {
     "name": "stdout",
     "output_type": "stream",
     "text": [
      "Warning: number of images is not a multiple of the batch size. Some samples are going to be ignored.\n"
     ]
    },
    {
     "name": "stderr",
     "output_type": "stream",
     "text": [
      "100%|██████████| 81/81 [00:04<00:00, 19.61it/s]\n"
     ]
    },
    {
     "name": "stdout",
     "output_type": "stream",
     "text": [
      "FID score: 49.516845703125\n"
     ]
    },
    {
     "name": "stderr",
     "output_type": "stream",
     "text": [
      "sample images: 100%|██████████| 256/256 [00:05<00:00, 47.71it/s]\n"
     ]
    },
    {
     "name": "stdout",
     "output_type": "stream",
     "text": [
      "Inception score: 5.5424494070807055\n",
      "----- Epoch Summary -----\n",
      "Dis Loss: -0.102642 - Gen Loss: -2.458421 - Dis LR: 3.6554e-05 - Gen LR: 3.6554e-05\n",
      "FID score: 49.516845703125 - Inception score: 5.5424494070807055 || @ epoch 177.\n",
      "Best FID score: 47.57659912109375 @ epoch 161\n",
      "-----      End      -----\n",
      "\n",
      "------- Epoch 178 -------\n",
      "[Epoch 178] [Batch 100/1563] [D loss: -2.975676] [G loss: -0.956084]\n",
      "[Epoch 178] [Batch 200/1563] [D loss: 0.754334] [G loss: -2.088068]\n",
      "[Epoch 178] [Batch 300/1563] [D loss: 0.146653] [G loss: -2.369702]\n",
      "[Epoch 178] [Batch 400/1563] [D loss: -0.411407] [G loss: -4.248475]\n",
      "[Epoch 178] [Batch 500/1563] [D loss: -0.192802] [G loss: -2.876223]\n",
      "[Epoch 178] [Batch 600/1563] [D loss: 0.467580] [G loss: -1.557985]\n",
      "[Epoch 178] [Batch 700/1563] [D loss: 1.521822] [G loss: -1.807797]\n",
      "[Epoch 178] [Batch 800/1563] [D loss: 1.386003] [G loss: -3.653989]\n",
      "[Epoch 178] [Batch 900/1563] [D loss: -0.021104] [G loss: -3.195477]\n",
      "[Epoch 178] [Batch 1000/1563] [D loss: 1.661459] [G loss: -4.661032]\n",
      "[Epoch 178] [Batch 1100/1563] [D loss: -0.985849] [G loss: -2.935838]\n",
      "[Epoch 178] [Batch 1200/1563] [D loss: -1.383481] [G loss: -2.649289]\n",
      "[Epoch 178] [Batch 1300/1563] [D loss: 0.643073] [G loss: -2.436857]\n",
      "[Epoch 178] [Batch 1400/1563] [D loss: 0.355201] [G loss: -2.647671]\n",
      "[Epoch 178] [Batch 1500/1563] [D loss: -0.882626] [G loss: -2.469280]\n"
     ]
    },
    {
     "name": "stderr",
     "output_type": "stream",
     "text": [
      "sample images: 100%|██████████| 256/256 [00:05<00:00, 47.68it/s]\n"
     ]
    },
    {
     "name": "stdout",
     "output_type": "stream",
     "text": [
      "Warning: number of images is not a multiple of the batch size. Some samples are going to be ignored.\n"
     ]
    },
    {
     "name": "stderr",
     "output_type": "stream",
     "text": [
      "100%|██████████| 81/81 [00:04<00:00, 19.58it/s]\n"
     ]
    },
    {
     "name": "stdout",
     "output_type": "stream",
     "text": [
      "FID score: 54.4697265625\n"
     ]
    },
    {
     "name": "stderr",
     "output_type": "stream",
     "text": [
      "sample images: 100%|██████████| 256/256 [00:05<00:00, 47.60it/s]\n"
     ]
    },
    {
     "name": "stdout",
     "output_type": "stream",
     "text": [
      "Inception score: 5.523214545958402\n",
      "----- Epoch Summary -----\n",
      "Dis Loss: -0.053515 - Gen Loss: -2.367529 - Dis LR: 3.60504e-05 - Gen LR: 3.60504e-05\n",
      "FID score: 54.4697265625 - Inception score: 5.523214545958402 || @ epoch 178.\n",
      "Best FID score: 47.57659912109375 @ epoch 161\n",
      "-----      End      -----\n",
      "\n",
      "------- Epoch 179 -------\n",
      "[Epoch 179] [Batch 100/1563] [D loss: 0.786420] [G loss: -3.571315]\n",
      "[Epoch 179] [Batch 200/1563] [D loss: -0.330541] [G loss: -2.425593]\n",
      "[Epoch 179] [Batch 300/1563] [D loss: 0.154134] [G loss: -2.680625]\n",
      "[Epoch 179] [Batch 400/1563] [D loss: -0.626910] [G loss: -2.224346]\n",
      "[Epoch 179] [Batch 500/1563] [D loss: 2.391208] [G loss: -2.640482]\n",
      "[Epoch 179] [Batch 600/1563] [D loss: -0.689130] [G loss: -2.964392]\n",
      "[Epoch 179] [Batch 700/1563] [D loss: 1.735993] [G loss: -2.627532]\n",
      "[Epoch 179] [Batch 800/1563] [D loss: -0.182280] [G loss: -1.346529]\n",
      "[Epoch 179] [Batch 900/1563] [D loss: 0.505790] [G loss: -1.712388]\n",
      "[Epoch 179] [Batch 1000/1563] [D loss: 1.293740] [G loss: -3.429046]\n",
      "[Epoch 179] [Batch 1100/1563] [D loss: -0.829966] [G loss: -2.751102]\n",
      "[Epoch 179] [Batch 1200/1563] [D loss: 0.760373] [G loss: -1.868557]\n",
      "[Epoch 179] [Batch 1300/1563] [D loss: -1.022467] [G loss: -2.742041]\n",
      "[Epoch 179] [Batch 1400/1563] [D loss: -0.795937] [G loss: -1.891538]\n",
      "[Epoch 179] [Batch 1500/1563] [D loss: 0.274238] [G loss: -3.451649]\n"
     ]
    },
    {
     "name": "stderr",
     "output_type": "stream",
     "text": [
      "sample images: 100%|██████████| 256/256 [00:05<00:00, 47.65it/s]\n"
     ]
    },
    {
     "name": "stdout",
     "output_type": "stream",
     "text": [
      "Warning: number of images is not a multiple of the batch size. Some samples are going to be ignored.\n"
     ]
    },
    {
     "name": "stderr",
     "output_type": "stream",
     "text": [
      "100%|██████████| 81/81 [00:04<00:00, 19.60it/s]\n"
     ]
    },
    {
     "name": "stdout",
     "output_type": "stream",
     "text": [
      "FID score: 52.999237060546875\n"
     ]
    },
    {
     "name": "stderr",
     "output_type": "stream",
     "text": [
      "sample images: 100%|██████████| 256/256 [00:05<00:00, 47.66it/s]\n"
     ]
    },
    {
     "name": "stdout",
     "output_type": "stream",
     "text": [
      "Inception score: 5.336389526773905\n",
      "----- Epoch Summary -----\n",
      "Dis Loss: 0.001655 - Gen Loss: -2.346695 - Dis LR: 3.55484e-05 - Gen LR: 3.55484e-05\n",
      "FID score: 52.999237060546875 - Inception score: 5.336389526773905 || @ epoch 179.\n",
      "Best FID score: 47.57659912109375 @ epoch 161\n",
      "-----      End      -----\n",
      "\n",
      "------- Epoch 180 -------\n",
      "[Epoch 180] [Batch 100/1563] [D loss: -0.795236] [G loss: -0.690972]\n",
      "[Epoch 180] [Batch 200/1563] [D loss: 0.879167] [G loss: -2.706362]\n",
      "[Epoch 180] [Batch 300/1563] [D loss: 0.649826] [G loss: -1.662746]\n",
      "[Epoch 180] [Batch 400/1563] [D loss: -0.572873] [G loss: -2.746346]\n",
      "[Epoch 180] [Batch 500/1563] [D loss: 0.769557] [G loss: -3.150367]\n",
      "[Epoch 180] [Batch 600/1563] [D loss: 0.990696] [G loss: -0.878041]\n",
      "[Epoch 180] [Batch 700/1563] [D loss: -1.547698] [G loss: -2.960527]\n",
      "[Epoch 180] [Batch 800/1563] [D loss: -0.138033] [G loss: -2.301650]\n",
      "[Epoch 180] [Batch 900/1563] [D loss: 0.153430] [G loss: -2.508639]\n",
      "[Epoch 180] [Batch 1000/1563] [D loss: -1.595871] [G loss: -3.255740]\n",
      "[Epoch 180] [Batch 1100/1563] [D loss: 0.654593] [G loss: -2.257066]\n",
      "[Epoch 180] [Batch 1200/1563] [D loss: 0.017639] [G loss: -3.111284]\n",
      "[Epoch 180] [Batch 1300/1563] [D loss: 0.392629] [G loss: -0.381238]\n",
      "[Epoch 180] [Batch 1400/1563] [D loss: -0.799077] [G loss: -0.993030]\n",
      "[Epoch 180] [Batch 1500/1563] [D loss: 1.655642] [G loss: -0.617882]\n"
     ]
    },
    {
     "name": "stderr",
     "output_type": "stream",
     "text": [
      "sample images: 100%|██████████| 256/256 [00:05<00:00, 47.56it/s]\n"
     ]
    },
    {
     "name": "stdout",
     "output_type": "stream",
     "text": [
      "Warning: number of images is not a multiple of the batch size. Some samples are going to be ignored.\n"
     ]
    },
    {
     "name": "stderr",
     "output_type": "stream",
     "text": [
      "100%|██████████| 81/81 [00:04<00:00, 19.60it/s]\n"
     ]
    },
    {
     "name": "stdout",
     "output_type": "stream",
     "text": [
      "FID score: 50.15716552734375\n"
     ]
    },
    {
     "name": "stderr",
     "output_type": "stream",
     "text": [
      "sample images: 100%|██████████| 256/256 [00:05<00:00, 47.54it/s]\n"
     ]
    },
    {
     "name": "stdout",
     "output_type": "stream",
     "text": [
      "Inception score: 5.250538928577998\n",
      "----- Epoch Summary -----\n",
      "Dis Loss: -0.035452 - Gen Loss: -2.161537 - Dis LR: 3.5048e-05 - Gen LR: 3.5048e-05\n",
      "FID score: 50.15716552734375 - Inception score: 5.250538928577998 || @ epoch 180.\n",
      "Best FID score: 47.57659912109375 @ epoch 161\n",
      "-----      End      -----\n",
      "\n",
      "------- Epoch 181 -------\n",
      "[Epoch 181] [Batch 0/1563] [D loss: 1.064720] [G loss: -1.626597]\n",
      "[Epoch 181] [Batch 100/1563] [D loss: -0.813163] [G loss: -1.558992]\n",
      "[Epoch 181] [Batch 200/1563] [D loss: -0.865106] [G loss: -3.711361]\n",
      "[Epoch 181] [Batch 300/1563] [D loss: -0.792460] [G loss: -1.846683]\n",
      "[Epoch 181] [Batch 400/1563] [D loss: -0.399611] [G loss: -2.553750]\n",
      "[Epoch 181] [Batch 500/1563] [D loss: 0.787953] [G loss: -1.128139]\n",
      "[Epoch 181] [Batch 600/1563] [D loss: 1.113475] [G loss: -2.816609]\n",
      "[Epoch 181] [Batch 700/1563] [D loss: 0.674354] [G loss: -1.441853]\n",
      "[Epoch 181] [Batch 800/1563] [D loss: 0.225183] [G loss: -2.342391]\n",
      "[Epoch 181] [Batch 900/1563] [D loss: 0.544128] [G loss: -2.030968]\n",
      "[Epoch 181] [Batch 1000/1563] [D loss: 1.285532] [G loss: -2.663767]\n",
      "[Epoch 181] [Batch 1100/1563] [D loss: -1.258983] [G loss: -2.230996]\n",
      "[Epoch 181] [Batch 1200/1563] [D loss: -1.071869] [G loss: -1.692766]\n",
      "[Epoch 181] [Batch 1300/1563] [D loss: 1.883789] [G loss: -1.372596]\n",
      "[Epoch 181] [Batch 1400/1563] [D loss: 0.958151] [G loss: -1.413367]\n",
      "[Epoch 181] [Batch 1500/1563] [D loss: 0.277936] [G loss: -1.800857]\n"
     ]
    },
    {
     "name": "stderr",
     "output_type": "stream",
     "text": [
      "sample images: 100%|██████████| 256/256 [00:05<00:00, 47.61it/s]\n"
     ]
    },
    {
     "name": "stdout",
     "output_type": "stream",
     "text": [
      "Warning: number of images is not a multiple of the batch size. Some samples are going to be ignored.\n"
     ]
    },
    {
     "name": "stderr",
     "output_type": "stream",
     "text": [
      "100%|██████████| 81/81 [00:04<00:00, 19.56it/s]\n"
     ]
    },
    {
     "name": "stdout",
     "output_type": "stream",
     "text": [
      "FID score: 47.301239013671875\n"
     ]
    },
    {
     "name": "stderr",
     "output_type": "stream",
     "text": [
      "sample images: 100%|██████████| 256/256 [00:05<00:00, 47.60it/s]\n"
     ]
    },
    {
     "name": "stdout",
     "output_type": "stream",
     "text": [
      "Inception score: 5.503172179356623\n",
      "Saved Latest Model!\n",
      "----- Epoch Summary -----\n",
      "Dis Loss: -0.045450 - Gen Loss: -1.983328 - Dis LR: 3.45492e-05 - Gen LR: 3.45492e-05\n",
      "FID score: 47.301239013671875 - Inception score: 5.503172179356623 || @ epoch 181.\n",
      "Best FID score: 47.301239013671875 @ epoch 181\n",
      "-----      End      -----\n",
      "\n",
      "------- Epoch 182 -------\n",
      "[Epoch 182] [Batch 100/1563] [D loss: -1.169360] [G loss: -2.095724]\n",
      "[Epoch 182] [Batch 200/1563] [D loss: -0.014155] [G loss: -2.476366]\n",
      "[Epoch 182] [Batch 300/1563] [D loss: 0.700553] [G loss: -2.205210]\n",
      "[Epoch 182] [Batch 400/1563] [D loss: 0.653735] [G loss: -1.922092]\n",
      "[Epoch 182] [Batch 500/1563] [D loss: -0.422934] [G loss: -2.359629]\n",
      "[Epoch 182] [Batch 600/1563] [D loss: 0.257815] [G loss: -2.745829]\n",
      "[Epoch 182] [Batch 700/1563] [D loss: -0.542561] [G loss: -1.451772]\n",
      "[Epoch 182] [Batch 800/1563] [D loss: 1.034617] [G loss: -1.940537]\n",
      "[Epoch 182] [Batch 900/1563] [D loss: -1.752797] [G loss: -0.771751]\n",
      "[Epoch 182] [Batch 1000/1563] [D loss: 0.852154] [G loss: -1.947640]\n",
      "[Epoch 182] [Batch 1100/1563] [D loss: 0.621260] [G loss: -2.016064]\n",
      "[Epoch 182] [Batch 1200/1563] [D loss: -0.493048] [G loss: -1.605820]\n",
      "[Epoch 182] [Batch 1300/1563] [D loss: -0.739285] [G loss: -1.971008]\n",
      "[Epoch 182] [Batch 1400/1563] [D loss: -1.540401] [G loss: -1.857593]\n",
      "[Epoch 182] [Batch 1500/1563] [D loss: -0.791106] [G loss: -1.087598]\n"
     ]
    },
    {
     "name": "stderr",
     "output_type": "stream",
     "text": [
      "sample images: 100%|██████████| 256/256 [00:05<00:00, 47.58it/s]\n"
     ]
    },
    {
     "name": "stdout",
     "output_type": "stream",
     "text": [
      "Warning: number of images is not a multiple of the batch size. Some samples are going to be ignored.\n"
     ]
    },
    {
     "name": "stderr",
     "output_type": "stream",
     "text": [
      "100%|██████████| 81/81 [00:04<00:00, 19.61it/s]\n"
     ]
    },
    {
     "name": "stdout",
     "output_type": "stream",
     "text": [
      "FID score: 52.069091796875\n"
     ]
    },
    {
     "name": "stderr",
     "output_type": "stream",
     "text": [
      "sample images: 100%|██████████| 256/256 [00:05<00:00, 47.61it/s]\n"
     ]
    },
    {
     "name": "stdout",
     "output_type": "stream",
     "text": [
      "Inception score: 5.490608631576446\n",
      "----- Epoch Summary -----\n",
      "Dis Loss: -0.067280 - Gen Loss: -2.098549 - Dis LR: 3.4052e-05 - Gen LR: 3.4052e-05\n",
      "FID score: 52.069091796875 - Inception score: 5.490608631576446 || @ epoch 182.\n",
      "Best FID score: 47.301239013671875 @ epoch 181\n",
      "-----      End      -----\n",
      "\n",
      "------- Epoch 183 -------\n",
      "[Epoch 183] [Batch 100/1563] [D loss: 0.412814] [G loss: -1.907092]\n",
      "[Epoch 183] [Batch 200/1563] [D loss: 0.042306] [G loss: -2.440891]\n",
      "[Epoch 183] [Batch 300/1563] [D loss: -1.662066] [G loss: -2.465005]\n",
      "[Epoch 183] [Batch 400/1563] [D loss: 0.523722] [G loss: -2.110288]\n",
      "[Epoch 183] [Batch 500/1563] [D loss: -0.016732] [G loss: -1.227792]\n",
      "[Epoch 183] [Batch 600/1563] [D loss: -1.591287] [G loss: -2.026242]\n",
      "[Epoch 183] [Batch 700/1563] [D loss: -0.220394] [G loss: -1.872701]\n",
      "[Epoch 183] [Batch 800/1563] [D loss: -0.138891] [G loss: -2.488657]\n",
      "[Epoch 183] [Batch 900/1563] [D loss: -0.691400] [G loss: -4.163138]\n",
      "[Epoch 183] [Batch 1000/1563] [D loss: 0.517675] [G loss: -2.124452]\n",
      "[Epoch 183] [Batch 1100/1563] [D loss: -0.972641] [G loss: -2.881365]\n",
      "[Epoch 183] [Batch 1200/1563] [D loss: 0.284038] [G loss: -2.874267]\n",
      "[Epoch 183] [Batch 1300/1563] [D loss: -0.389912] [G loss: -2.556325]\n",
      "[Epoch 183] [Batch 1400/1563] [D loss: -1.259984] [G loss: -3.167038]\n",
      "[Epoch 183] [Batch 1500/1563] [D loss: -1.043256] [G loss: -2.655137]\n"
     ]
    },
    {
     "name": "stderr",
     "output_type": "stream",
     "text": [
      "sample images: 100%|██████████| 256/256 [00:05<00:00, 47.64it/s]\n"
     ]
    },
    {
     "name": "stdout",
     "output_type": "stream",
     "text": [
      "Warning: number of images is not a multiple of the batch size. Some samples are going to be ignored.\n"
     ]
    },
    {
     "name": "stderr",
     "output_type": "stream",
     "text": [
      "100%|██████████| 81/81 [00:04<00:00, 19.57it/s]\n"
     ]
    },
    {
     "name": "stdout",
     "output_type": "stream",
     "text": [
      "FID score: 53.67340087890625\n"
     ]
    },
    {
     "name": "stderr",
     "output_type": "stream",
     "text": [
      "sample images: 100%|██████████| 256/256 [00:05<00:00, 47.53it/s]\n"
     ]
    },
    {
     "name": "stdout",
     "output_type": "stream",
     "text": [
      "Inception score: 5.267448542559551\n",
      "----- Epoch Summary -----\n",
      "Dis Loss: -0.075092 - Gen Loss: -2.219315 - Dis LR: 3.35567e-05 - Gen LR: 3.35567e-05\n",
      "FID score: 53.67340087890625 - Inception score: 5.267448542559551 || @ epoch 183.\n",
      "Best FID score: 47.301239013671875 @ epoch 181\n",
      "-----      End      -----\n",
      "\n",
      "------- Epoch 184 -------\n",
      "[Epoch 184] [Batch 100/1563] [D loss: -0.455810] [G loss: -1.630500]\n",
      "[Epoch 184] [Batch 200/1563] [D loss: -1.602285] [G loss: -1.716668]\n",
      "[Epoch 184] [Batch 300/1563] [D loss: 0.342854] [G loss: -2.001073]\n",
      "[Epoch 184] [Batch 400/1563] [D loss: 0.692446] [G loss: -1.655096]\n",
      "[Epoch 184] [Batch 500/1563] [D loss: 0.456296] [G loss: -3.654027]\n",
      "[Epoch 184] [Batch 600/1563] [D loss: -1.406376] [G loss: -2.751858]\n",
      "[Epoch 184] [Batch 700/1563] [D loss: 0.198548] [G loss: -2.823875]\n",
      "[Epoch 184] [Batch 800/1563] [D loss: -0.205957] [G loss: -2.161520]\n",
      "[Epoch 184] [Batch 900/1563] [D loss: 0.014506] [G loss: -1.715240]\n",
      "[Epoch 184] [Batch 1000/1563] [D loss: -1.775004] [G loss: -3.178870]\n",
      "[Epoch 184] [Batch 1100/1563] [D loss: 0.206433] [G loss: -2.940785]\n",
      "[Epoch 184] [Batch 1200/1563] [D loss: 2.767156] [G loss: -1.689433]\n",
      "[Epoch 184] [Batch 1300/1563] [D loss: -0.354068] [G loss: -2.748535]\n",
      "[Epoch 184] [Batch 1400/1563] [D loss: 0.304285] [G loss: -3.862026]\n",
      "[Epoch 184] [Batch 1500/1563] [D loss: 0.815333] [G loss: -0.298233]\n"
     ]
    },
    {
     "name": "stderr",
     "output_type": "stream",
     "text": [
      "sample images: 100%|██████████| 256/256 [00:05<00:00, 47.65it/s]\n"
     ]
    },
    {
     "name": "stdout",
     "output_type": "stream",
     "text": [
      "Warning: number of images is not a multiple of the batch size. Some samples are going to be ignored.\n"
     ]
    },
    {
     "name": "stderr",
     "output_type": "stream",
     "text": [
      "100%|██████████| 81/81 [00:04<00:00, 19.60it/s]\n"
     ]
    },
    {
     "name": "stdout",
     "output_type": "stream",
     "text": [
      "FID score: 53.226654052734375\n"
     ]
    },
    {
     "name": "stderr",
     "output_type": "stream",
     "text": [
      "sample images: 100%|██████████| 256/256 [00:05<00:00, 47.59it/s]\n"
     ]
    },
    {
     "name": "stdout",
     "output_type": "stream",
     "text": [
      "Inception score: 5.439991459935685\n",
      "----- Epoch Summary -----\n",
      "Dis Loss: -0.038683 - Gen Loss: -2.383257 - Dis LR: 3.30631e-05 - Gen LR: 3.30631e-05\n",
      "FID score: 53.226654052734375 - Inception score: 5.439991459935685 || @ epoch 184.\n",
      "Best FID score: 47.301239013671875 @ epoch 181\n",
      "-----      End      -----\n",
      "\n",
      "------- Epoch 185 -------\n",
      "[Epoch 185] [Batch 100/1563] [D loss: -1.637980] [G loss: -1.858553]\n",
      "[Epoch 185] [Batch 200/1563] [D loss: -0.069266] [G loss: -1.415333]\n",
      "[Epoch 185] [Batch 300/1563] [D loss: 0.538366] [G loss: -3.106471]\n",
      "[Epoch 185] [Batch 400/1563] [D loss: -0.167856] [G loss: -0.962337]\n",
      "[Epoch 185] [Batch 500/1563] [D loss: -1.256437] [G loss: -0.602375]\n",
      "[Epoch 185] [Batch 600/1563] [D loss: -0.610664] [G loss: -1.887796]\n",
      "[Epoch 185] [Batch 700/1563] [D loss: -0.828063] [G loss: -2.732194]\n",
      "[Epoch 185] [Batch 800/1563] [D loss: -0.957030] [G loss: -3.334728]\n",
      "[Epoch 185] [Batch 900/1563] [D loss: -0.847595] [G loss: -1.057456]\n",
      "[Epoch 185] [Batch 1000/1563] [D loss: -1.059959] [G loss: -1.435255]\n",
      "[Epoch 185] [Batch 1100/1563] [D loss: -0.814339] [G loss: -1.739482]\n",
      "[Epoch 185] [Batch 1200/1563] [D loss: -1.966201] [G loss: -1.643461]\n",
      "[Epoch 185] [Batch 1300/1563] [D loss: 1.179985] [G loss: -1.909309]\n",
      "[Epoch 185] [Batch 1400/1563] [D loss: -0.893534] [G loss: -2.996405]\n",
      "[Epoch 185] [Batch 1500/1563] [D loss: -0.017332] [G loss: -1.177257]\n"
     ]
    },
    {
     "name": "stderr",
     "output_type": "stream",
     "text": [
      "sample images: 100%|██████████| 256/256 [00:05<00:00, 47.23it/s]\n"
     ]
    },
    {
     "name": "stdout",
     "output_type": "stream",
     "text": [
      "Warning: number of images is not a multiple of the batch size. Some samples are going to be ignored.\n"
     ]
    },
    {
     "name": "stderr",
     "output_type": "stream",
     "text": [
      "100%|██████████| 81/81 [00:04<00:00, 19.57it/s]\n"
     ]
    },
    {
     "name": "stdout",
     "output_type": "stream",
     "text": [
      "FID score: 59.40875244140625\n"
     ]
    },
    {
     "name": "stderr",
     "output_type": "stream",
     "text": [
      "sample images: 100%|██████████| 256/256 [00:05<00:00, 47.51it/s]\n"
     ]
    },
    {
     "name": "stdout",
     "output_type": "stream",
     "text": [
      "Inception score: 5.245381601855392\n",
      "----- Epoch Summary -----\n",
      "Dis Loss: -0.051703 - Gen Loss: -1.777125 - Dis LR: 3.25714e-05 - Gen LR: 3.25714e-05\n",
      "FID score: 59.40875244140625 - Inception score: 5.245381601855392 || @ epoch 185.\n",
      "Best FID score: 47.301239013671875 @ epoch 181\n",
      "-----      End      -----\n",
      "\n",
      "------- Epoch 186 -------\n",
      "[Epoch 186] [Batch 0/1563] [D loss: 0.197881] [G loss: -0.788336]\n",
      "[Epoch 186] [Batch 100/1563] [D loss: -1.628247] [G loss: -1.615196]\n",
      "[Epoch 186] [Batch 200/1563] [D loss: -0.883116] [G loss: -1.670975]\n",
      "[Epoch 186] [Batch 300/1563] [D loss: 0.598175] [G loss: -0.433027]\n",
      "[Epoch 186] [Batch 400/1563] [D loss: -1.415380] [G loss: -1.339516]\n",
      "[Epoch 186] [Batch 500/1563] [D loss: -0.607161] [G loss: -1.390037]\n",
      "[Epoch 186] [Batch 600/1563] [D loss: 0.584891] [G loss: -2.447257]\n",
      "[Epoch 186] [Batch 700/1563] [D loss: -1.106046] [G loss: -2.258835]\n",
      "[Epoch 186] [Batch 800/1563] [D loss: 2.245139] [G loss: -1.857258]\n",
      "[Epoch 186] [Batch 900/1563] [D loss: -1.067825] [G loss: -1.383680]\n",
      "[Epoch 186] [Batch 1000/1563] [D loss: -0.172547] [G loss: -1.888372]\n",
      "[Epoch 186] [Batch 1100/1563] [D loss: -0.551405] [G loss: -2.127889]\n",
      "[Epoch 186] [Batch 1200/1563] [D loss: -0.557087] [G loss: -0.865188]\n",
      "[Epoch 186] [Batch 1300/1563] [D loss: 0.015424] [G loss: -3.189556]\n",
      "[Epoch 186] [Batch 1400/1563] [D loss: -1.651172] [G loss: -0.235154]\n",
      "[Epoch 186] [Batch 1500/1563] [D loss: 0.162260] [G loss: -2.505598]\n"
     ]
    },
    {
     "name": "stderr",
     "output_type": "stream",
     "text": [
      "sample images: 100%|██████████| 256/256 [00:05<00:00, 47.62it/s]\n"
     ]
    },
    {
     "name": "stdout",
     "output_type": "stream",
     "text": [
      "Warning: number of images is not a multiple of the batch size. Some samples are going to be ignored.\n"
     ]
    },
    {
     "name": "stderr",
     "output_type": "stream",
     "text": [
      "100%|██████████| 81/81 [00:04<00:00, 19.56it/s]\n"
     ]
    },
    {
     "name": "stdout",
     "output_type": "stream",
     "text": [
      "FID score: 56.2830810546875\n"
     ]
    },
    {
     "name": "stderr",
     "output_type": "stream",
     "text": [
      "sample images: 100%|██████████| 256/256 [00:05<00:00, 47.52it/s]\n"
     ]
    },
    {
     "name": "stdout",
     "output_type": "stream",
     "text": [
      "Inception score: 5.039879866426848\n",
      "----- Epoch Summary -----\n",
      "Dis Loss: -0.050621 - Gen Loss: -1.610189 - Dis LR: 3.20816e-05 - Gen LR: 3.20816e-05\n",
      "FID score: 56.2830810546875 - Inception score: 5.039879866426848 || @ epoch 186.\n",
      "Best FID score: 47.301239013671875 @ epoch 181\n",
      "-----      End      -----\n",
      "\n",
      "------- Epoch 187 -------\n",
      "[Epoch 187] [Batch 100/1563] [D loss: -2.005838] [G loss: -2.069522]\n",
      "[Epoch 187] [Batch 200/1563] [D loss: -0.456825] [G loss: -1.595393]\n",
      "[Epoch 187] [Batch 300/1563] [D loss: 0.981915] [G loss: -1.764696]\n",
      "[Epoch 187] [Batch 400/1563] [D loss: -0.577461] [G loss: -1.526476]\n",
      "[Epoch 187] [Batch 500/1563] [D loss: 0.789201] [G loss: -3.833156]\n",
      "[Epoch 187] [Batch 600/1563] [D loss: -0.629178] [G loss: -1.693088]\n",
      "[Epoch 187] [Batch 700/1563] [D loss: 2.415437] [G loss: -1.236687]\n",
      "[Epoch 187] [Batch 800/1563] [D loss: 1.069347] [G loss: -1.418374]\n",
      "[Epoch 187] [Batch 900/1563] [D loss: -0.415987] [G loss: -2.033666]\n",
      "[Epoch 187] [Batch 1000/1563] [D loss: -0.922513] [G loss: -0.884977]\n",
      "[Epoch 187] [Batch 1100/1563] [D loss: 0.847921] [G loss: -1.238524]\n",
      "[Epoch 187] [Batch 1200/1563] [D loss: -0.270954] [G loss: -1.135215]\n",
      "[Epoch 187] [Batch 1300/1563] [D loss: 0.606310] [G loss: -0.623842]\n",
      "[Epoch 187] [Batch 1400/1563] [D loss: 1.197619] [G loss: -1.236573]\n",
      "[Epoch 187] [Batch 1500/1563] [D loss: -0.452531] [G loss: -2.275231]\n"
     ]
    },
    {
     "name": "stderr",
     "output_type": "stream",
     "text": [
      "sample images: 100%|██████████| 256/256 [00:05<00:00, 47.59it/s]\n"
     ]
    },
    {
     "name": "stdout",
     "output_type": "stream",
     "text": [
      "Warning: number of images is not a multiple of the batch size. Some samples are going to be ignored.\n"
     ]
    },
    {
     "name": "stderr",
     "output_type": "stream",
     "text": [
      "100%|██████████| 81/81 [00:04<00:00, 19.49it/s]\n"
     ]
    },
    {
     "name": "stdout",
     "output_type": "stream",
     "text": [
      "FID score: 56.095672607421875\n"
     ]
    },
    {
     "name": "stderr",
     "output_type": "stream",
     "text": [
      "sample images: 100%|██████████| 256/256 [00:05<00:00, 47.45it/s]\n"
     ]
    },
    {
     "name": "stdout",
     "output_type": "stream",
     "text": [
      "Inception score: 5.183178052309855\n",
      "----- Epoch Summary -----\n",
      "Dis Loss: -0.033019 - Gen Loss: -1.755726 - Dis LR: 3.15938e-05 - Gen LR: 3.15938e-05\n",
      "FID score: 56.095672607421875 - Inception score: 5.183178052309855 || @ epoch 187.\n",
      "Best FID score: 47.301239013671875 @ epoch 181\n",
      "-----      End      -----\n",
      "\n",
      "------- Epoch 188 -------\n",
      "[Epoch 188] [Batch 100/1563] [D loss: 0.700929] [G loss: -1.572294]\n",
      "[Epoch 188] [Batch 200/1563] [D loss: 0.685284] [G loss: -1.016111]\n",
      "[Epoch 188] [Batch 300/1563] [D loss: -0.729235] [G loss: -1.820826]\n",
      "[Epoch 188] [Batch 400/1563] [D loss: -1.507872] [G loss: -1.183878]\n",
      "[Epoch 188] [Batch 500/1563] [D loss: 0.349661] [G loss: -2.568415]\n",
      "[Epoch 188] [Batch 600/1563] [D loss: -0.694838] [G loss: -2.144926]\n",
      "[Epoch 188] [Batch 700/1563] [D loss: 1.033676] [G loss: -0.719905]\n",
      "[Epoch 188] [Batch 800/1563] [D loss: 0.764778] [G loss: -0.604432]\n",
      "[Epoch 188] [Batch 900/1563] [D loss: 0.437270] [G loss: -1.180503]\n",
      "[Epoch 188] [Batch 1000/1563] [D loss: -1.438286] [G loss: -0.355220]\n",
      "[Epoch 188] [Batch 1100/1563] [D loss: -0.289743] [G loss: -0.614200]\n",
      "[Epoch 188] [Batch 1200/1563] [D loss: 0.481185] [G loss: -1.771397]\n",
      "[Epoch 188] [Batch 1300/1563] [D loss: -0.002131] [G loss: -0.981420]\n",
      "[Epoch 188] [Batch 1400/1563] [D loss: 0.084618] [G loss: -1.012142]\n",
      "[Epoch 188] [Batch 1500/1563] [D loss: -1.499295] [G loss: -0.680817]\n"
     ]
    },
    {
     "name": "stderr",
     "output_type": "stream",
     "text": [
      "sample images: 100%|██████████| 256/256 [00:05<00:00, 47.52it/s]\n"
     ]
    },
    {
     "name": "stdout",
     "output_type": "stream",
     "text": [
      "Warning: number of images is not a multiple of the batch size. Some samples are going to be ignored.\n"
     ]
    },
    {
     "name": "stderr",
     "output_type": "stream",
     "text": [
      "100%|██████████| 81/81 [00:04<00:00, 19.59it/s]\n"
     ]
    },
    {
     "name": "stdout",
     "output_type": "stream",
     "text": [
      "FID score: 50.303863525390625\n"
     ]
    },
    {
     "name": "stderr",
     "output_type": "stream",
     "text": [
      "sample images: 100%|██████████| 256/256 [00:05<00:00, 47.50it/s]\n"
     ]
    },
    {
     "name": "stdout",
     "output_type": "stream",
     "text": [
      "Inception score: 5.541231112759141\n",
      "----- Epoch Summary -----\n",
      "Dis Loss: -0.012547 - Gen Loss: -1.100932 - Dis LR: 3.1108e-05 - Gen LR: 3.1108e-05\n",
      "FID score: 50.303863525390625 - Inception score: 5.541231112759141 || @ epoch 188.\n",
      "Best FID score: 47.301239013671875 @ epoch 181\n",
      "-----      End      -----\n",
      "\n",
      "------- Epoch 189 -------\n",
      "[Epoch 189] [Batch 100/1563] [D loss: 0.180818] [G loss: -2.270837]\n",
      "[Epoch 189] [Batch 200/1563] [D loss: -0.094597] [G loss: -1.281475]\n",
      "[Epoch 189] [Batch 300/1563] [D loss: 0.241610] [G loss: -1.197139]\n",
      "[Epoch 189] [Batch 400/1563] [D loss: 0.094741] [G loss: -2.253586]\n",
      "[Epoch 189] [Batch 500/1563] [D loss: 2.276690] [G loss: -2.149599]\n",
      "[Epoch 189] [Batch 600/1563] [D loss: 0.619103] [G loss: -1.714125]\n",
      "[Epoch 189] [Batch 700/1563] [D loss: -0.429618] [G loss: -1.161345]\n",
      "[Epoch 189] [Batch 800/1563] [D loss: 1.484063] [G loss: -1.367341]\n",
      "[Epoch 189] [Batch 900/1563] [D loss: -2.617806] [G loss: -1.945944]\n",
      "[Epoch 189] [Batch 1000/1563] [D loss: 0.494320] [G loss: -2.452764]\n",
      "[Epoch 189] [Batch 1100/1563] [D loss: 0.049811] [G loss: -0.192556]\n",
      "[Epoch 189] [Batch 1200/1563] [D loss: 0.211429] [G loss: -1.365446]\n",
      "[Epoch 189] [Batch 1300/1563] [D loss: 1.399487] [G loss: -2.161312]\n",
      "[Epoch 189] [Batch 1400/1563] [D loss: -2.267285] [G loss: -1.215078]\n",
      "[Epoch 189] [Batch 1500/1563] [D loss: 1.045050] [G loss: -1.596295]\n"
     ]
    },
    {
     "name": "stderr",
     "output_type": "stream",
     "text": [
      "sample images: 100%|██████████| 256/256 [00:05<00:00, 47.66it/s]\n"
     ]
    },
    {
     "name": "stdout",
     "output_type": "stream",
     "text": [
      "Warning: number of images is not a multiple of the batch size. Some samples are going to be ignored.\n"
     ]
    },
    {
     "name": "stderr",
     "output_type": "stream",
     "text": [
      "100%|██████████| 81/81 [00:04<00:00, 19.60it/s]\n"
     ]
    },
    {
     "name": "stdout",
     "output_type": "stream",
     "text": [
      "FID score: 55.4842529296875\n"
     ]
    },
    {
     "name": "stderr",
     "output_type": "stream",
     "text": [
      "sample images: 100%|██████████| 256/256 [00:05<00:00, 47.56it/s]\n"
     ]
    },
    {
     "name": "stdout",
     "output_type": "stream",
     "text": [
      "Inception score: 5.148005369956196\n",
      "----- Epoch Summary -----\n",
      "Dis Loss: -0.056709 - Gen Loss: -1.468996 - Dis LR: 3.06242e-05 - Gen LR: 3.06242e-05\n",
      "FID score: 55.4842529296875 - Inception score: 5.148005369956196 || @ epoch 189.\n",
      "Best FID score: 47.301239013671875 @ epoch 181\n",
      "-----      End      -----\n",
      "\n",
      "------- Epoch 190 -------\n",
      "[Epoch 190] [Batch 100/1563] [D loss: 0.702494] [G loss: -0.947344]\n",
      "[Epoch 190] [Batch 200/1563] [D loss: 2.505060] [G loss: -1.947679]\n",
      "[Epoch 190] [Batch 300/1563] [D loss: -0.011498] [G loss: -1.641093]\n",
      "[Epoch 190] [Batch 400/1563] [D loss: -1.254076] [G loss: -1.654923]\n",
      "[Epoch 190] [Batch 500/1563] [D loss: 1.011129] [G loss: -3.064253]\n",
      "[Epoch 190] [Batch 600/1563] [D loss: -1.018494] [G loss: -1.671123]\n",
      "[Epoch 190] [Batch 700/1563] [D loss: -0.664984] [G loss: -1.619225]\n",
      "[Epoch 190] [Batch 800/1563] [D loss: 0.014800] [G loss: -0.975740]\n",
      "[Epoch 190] [Batch 900/1563] [D loss: 0.455098] [G loss: -2.827124]\n",
      "[Epoch 190] [Batch 1000/1563] [D loss: -0.662997] [G loss: -1.345041]\n",
      "[Epoch 190] [Batch 1100/1563] [D loss: 0.418891] [G loss: -1.757149]\n",
      "[Epoch 190] [Batch 1200/1563] [D loss: 1.126918] [G loss: -0.637296]\n",
      "[Epoch 190] [Batch 1300/1563] [D loss: -0.575996] [G loss: -2.755707]\n",
      "[Epoch 190] [Batch 1400/1563] [D loss: 1.047010] [G loss: -2.298402]\n",
      "[Epoch 190] [Batch 1500/1563] [D loss: 1.055614] [G loss: -1.256872]\n"
     ]
    },
    {
     "name": "stderr",
     "output_type": "stream",
     "text": [
      "sample images: 100%|██████████| 256/256 [00:05<00:00, 47.52it/s]\n"
     ]
    },
    {
     "name": "stdout",
     "output_type": "stream",
     "text": [
      "Warning: number of images is not a multiple of the batch size. Some samples are going to be ignored.\n"
     ]
    },
    {
     "name": "stderr",
     "output_type": "stream",
     "text": [
      "100%|██████████| 81/81 [00:04<00:00, 19.61it/s]\n"
     ]
    },
    {
     "name": "stdout",
     "output_type": "stream",
     "text": [
      "FID score: 54.896209716796875\n"
     ]
    },
    {
     "name": "stderr",
     "output_type": "stream",
     "text": [
      "sample images: 100%|██████████| 256/256 [00:05<00:00, 47.56it/s]\n"
     ]
    },
    {
     "name": "stdout",
     "output_type": "stream",
     "text": [
      "Inception score: 5.146932555019176\n",
      "----- Epoch Summary -----\n",
      "Dis Loss: -0.068548 - Gen Loss: -1.599504 - Dis LR: 3.01426e-05 - Gen LR: 3.01426e-05\n",
      "FID score: 54.896209716796875 - Inception score: 5.146932555019176 || @ epoch 190.\n",
      "Best FID score: 47.301239013671875 @ epoch 181\n",
      "-----      End      -----\n",
      "\n",
      "------- Epoch 191 -------\n",
      "[Epoch 191] [Batch 0/1563] [D loss: -0.191254] [G loss: -1.518815]\n",
      "[Epoch 191] [Batch 100/1563] [D loss: 2.587636] [G loss: -1.284172]\n",
      "[Epoch 191] [Batch 200/1563] [D loss: -1.270270] [G loss: -1.388668]\n",
      "[Epoch 191] [Batch 300/1563] [D loss: -0.682248] [G loss: -0.398628]\n",
      "[Epoch 191] [Batch 400/1563] [D loss: -2.607490] [G loss: -0.956890]\n",
      "[Epoch 191] [Batch 500/1563] [D loss: 0.494361] [G loss: -0.831488]\n",
      "[Epoch 191] [Batch 600/1563] [D loss: 0.666020] [G loss: -1.065554]\n",
      "[Epoch 191] [Batch 700/1563] [D loss: 0.061702] [G loss: -3.801484]\n",
      "[Epoch 191] [Batch 800/1563] [D loss: 0.075522] [G loss: -2.026889]\n",
      "[Epoch 191] [Batch 900/1563] [D loss: 0.812827] [G loss: -1.424209]\n",
      "[Epoch 191] [Batch 1000/1563] [D loss: -0.232233] [G loss: -1.887725]\n",
      "[Epoch 191] [Batch 1100/1563] [D loss: -1.991781] [G loss: -1.946020]\n",
      "[Epoch 191] [Batch 1200/1563] [D loss: 0.816101] [G loss: -0.854132]\n",
      "[Epoch 191] [Batch 1300/1563] [D loss: -0.390107] [G loss: -1.808059]\n",
      "[Epoch 191] [Batch 1400/1563] [D loss: -1.300463] [G loss: 0.181956]\n",
      "[Epoch 191] [Batch 1500/1563] [D loss: -0.087735] [G loss: -1.078222]\n"
     ]
    },
    {
     "name": "stderr",
     "output_type": "stream",
     "text": [
      "sample images: 100%|██████████| 256/256 [00:05<00:00, 47.46it/s]\n"
     ]
    },
    {
     "name": "stdout",
     "output_type": "stream",
     "text": [
      "Warning: number of images is not a multiple of the batch size. Some samples are going to be ignored.\n"
     ]
    },
    {
     "name": "stderr",
     "output_type": "stream",
     "text": [
      "100%|██████████| 81/81 [00:04<00:00, 19.63it/s]\n"
     ]
    },
    {
     "name": "stdout",
     "output_type": "stream",
     "text": [
      "FID score: 51.387451171875\n"
     ]
    },
    {
     "name": "stderr",
     "output_type": "stream",
     "text": [
      "sample images: 100%|██████████| 256/256 [00:05<00:00, 47.54it/s]\n"
     ]
    },
    {
     "name": "stdout",
     "output_type": "stream",
     "text": [
      "Inception score: 5.164843635162229\n",
      "----- Epoch Summary -----\n",
      "Dis Loss: -0.024144 - Gen Loss: -1.234542 - Dis LR: 2.96632e-05 - Gen LR: 2.96632e-05\n",
      "FID score: 51.387451171875 - Inception score: 5.164843635162229 || @ epoch 191.\n",
      "Best FID score: 47.301239013671875 @ epoch 181\n",
      "-----      End      -----\n",
      "\n",
      "------- Epoch 192 -------\n",
      "[Epoch 192] [Batch 100/1563] [D loss: -0.033777] [G loss: -0.069781]\n",
      "[Epoch 192] [Batch 200/1563] [D loss: -0.829109] [G loss: -0.808953]\n",
      "[Epoch 192] [Batch 300/1563] [D loss: 1.021884] [G loss: 0.093192]\n",
      "[Epoch 192] [Batch 400/1563] [D loss: 0.605084] [G loss: -0.074412]\n",
      "[Epoch 192] [Batch 500/1563] [D loss: 0.981070] [G loss: -1.262888]\n",
      "[Epoch 192] [Batch 600/1563] [D loss: -2.540747] [G loss: -0.973817]\n",
      "[Epoch 192] [Batch 700/1563] [D loss: 1.329492] [G loss: -1.606526]\n",
      "[Epoch 192] [Batch 800/1563] [D loss: 2.131613] [G loss: -2.017750]\n",
      "[Epoch 192] [Batch 900/1563] [D loss: -0.549161] [G loss: -2.178411]\n",
      "[Epoch 192] [Batch 1000/1563] [D loss: 0.687820] [G loss: 0.069245]\n",
      "[Epoch 192] [Batch 1100/1563] [D loss: 0.162571] [G loss: -2.148463]\n",
      "[Epoch 192] [Batch 1200/1563] [D loss: -0.848343] [G loss: -1.091861]\n",
      "[Epoch 192] [Batch 1300/1563] [D loss: -0.624531] [G loss: -1.556140]\n",
      "[Epoch 192] [Batch 1400/1563] [D loss: -2.450412] [G loss: -1.323396]\n",
      "[Epoch 192] [Batch 1500/1563] [D loss: 1.081140] [G loss: -1.620177]\n"
     ]
    },
    {
     "name": "stderr",
     "output_type": "stream",
     "text": [
      "sample images: 100%|██████████| 256/256 [00:05<00:00, 47.57it/s]\n"
     ]
    },
    {
     "name": "stdout",
     "output_type": "stream",
     "text": [
      "Warning: number of images is not a multiple of the batch size. Some samples are going to be ignored.\n"
     ]
    },
    {
     "name": "stderr",
     "output_type": "stream",
     "text": [
      "100%|██████████| 81/81 [00:04<00:00, 19.57it/s]\n"
     ]
    },
    {
     "name": "stdout",
     "output_type": "stream",
     "text": [
      "FID score: 50.5308837890625\n"
     ]
    },
    {
     "name": "stderr",
     "output_type": "stream",
     "text": [
      "sample images: 100%|██████████| 256/256 [00:05<00:00, 47.50it/s]\n"
     ]
    },
    {
     "name": "stdout",
     "output_type": "stream",
     "text": [
      "Inception score: 5.3648244732453545\n",
      "----- Epoch Summary -----\n",
      "Dis Loss: -0.074418 - Gen Loss: -1.063036 - Dis LR: 2.9186e-05 - Gen LR: 2.9186e-05\n",
      "FID score: 50.5308837890625 - Inception score: 5.3648244732453545 || @ epoch 192.\n",
      "Best FID score: 47.301239013671875 @ epoch 181\n",
      "-----      End      -----\n",
      "\n",
      "------- Epoch 193 -------\n",
      "[Epoch 193] [Batch 100/1563] [D loss: 0.322131] [G loss: -1.436856]\n",
      "[Epoch 193] [Batch 200/1563] [D loss: -2.259324] [G loss: -0.146620]\n",
      "[Epoch 193] [Batch 300/1563] [D loss: 0.128709] [G loss: -1.418093]\n",
      "[Epoch 193] [Batch 400/1563] [D loss: -0.833422] [G loss: -0.594013]\n",
      "[Epoch 193] [Batch 500/1563] [D loss: 0.289470] [G loss: -0.859813]\n",
      "[Epoch 193] [Batch 600/1563] [D loss: -1.531014] [G loss: -0.712224]\n",
      "[Epoch 193] [Batch 700/1563] [D loss: -0.107423] [G loss: -0.894730]\n",
      "[Epoch 193] [Batch 800/1563] [D loss: -0.239600] [G loss: -0.303371]\n",
      "[Epoch 193] [Batch 900/1563] [D loss: -1.455116] [G loss: -0.849214]\n",
      "[Epoch 193] [Batch 1000/1563] [D loss: 1.337610] [G loss: -0.808845]\n",
      "[Epoch 193] [Batch 1100/1563] [D loss: -0.214716] [G loss: -1.473921]\n",
      "[Epoch 193] [Batch 1200/1563] [D loss: -1.572499] [G loss: -2.439587]\n",
      "[Epoch 193] [Batch 1300/1563] [D loss: -0.513139] [G loss: -1.527222]\n",
      "[Epoch 193] [Batch 1400/1563] [D loss: 0.345534] [G loss: -1.578793]\n",
      "[Epoch 193] [Batch 1500/1563] [D loss: -0.956710] [G loss: -0.386788]\n"
     ]
    },
    {
     "name": "stderr",
     "output_type": "stream",
     "text": [
      "sample images: 100%|██████████| 256/256 [00:05<00:00, 47.66it/s]\n"
     ]
    },
    {
     "name": "stdout",
     "output_type": "stream",
     "text": [
      "Warning: number of images is not a multiple of the batch size. Some samples are going to be ignored.\n"
     ]
    },
    {
     "name": "stderr",
     "output_type": "stream",
     "text": [
      "100%|██████████| 81/81 [00:04<00:00, 19.57it/s]\n"
     ]
    },
    {
     "name": "stdout",
     "output_type": "stream",
     "text": [
      "FID score: 54.22808837890625\n"
     ]
    },
    {
     "name": "stderr",
     "output_type": "stream",
     "text": [
      "sample images: 100%|██████████| 256/256 [00:05<00:00, 47.55it/s]\n"
     ]
    },
    {
     "name": "stdout",
     "output_type": "stream",
     "text": [
      "Inception score: 5.294155574096528\n",
      "----- Epoch Summary -----\n",
      "Dis Loss: -0.006156 - Gen Loss: -1.122203 - Dis LR: 2.8711e-05 - Gen LR: 2.8711e-05\n",
      "FID score: 54.22808837890625 - Inception score: 5.294155574096528 || @ epoch 193.\n",
      "Best FID score: 47.301239013671875 @ epoch 181\n",
      "-----      End      -----\n",
      "\n",
      "------- Epoch 194 -------\n",
      "[Epoch 194] [Batch 100/1563] [D loss: 0.858709] [G loss: -1.796685]\n",
      "[Epoch 194] [Batch 200/1563] [D loss: -0.113396] [G loss: -1.092383]\n",
      "[Epoch 194] [Batch 300/1563] [D loss: 1.491059] [G loss: -1.829946]\n",
      "[Epoch 194] [Batch 400/1563] [D loss: 0.310995] [G loss: 0.073533]\n",
      "[Epoch 194] [Batch 500/1563] [D loss: -2.233478] [G loss: -0.699224]\n",
      "[Epoch 194] [Batch 600/1563] [D loss: -1.094448] [G loss: -1.409728]\n",
      "[Epoch 194] [Batch 700/1563] [D loss: 0.102362] [G loss: -1.054423]\n",
      "[Epoch 194] [Batch 800/1563] [D loss: 2.179719] [G loss: 0.444318]\n",
      "[Epoch 194] [Batch 900/1563] [D loss: 0.191352] [G loss: -0.363008]\n",
      "[Epoch 194] [Batch 1000/1563] [D loss: 0.960523] [G loss: -0.984130]\n",
      "[Epoch 194] [Batch 1100/1563] [D loss: 0.023021] [G loss: -0.097005]\n",
      "[Epoch 194] [Batch 1200/1563] [D loss: 0.834222] [G loss: 0.607904]\n",
      "[Epoch 194] [Batch 1300/1563] [D loss: -1.821322] [G loss: -1.374670]\n",
      "[Epoch 194] [Batch 1400/1563] [D loss: -1.470608] [G loss: -0.034506]\n",
      "[Epoch 194] [Batch 1500/1563] [D loss: 1.051748] [G loss: -0.382189]\n"
     ]
    },
    {
     "name": "stderr",
     "output_type": "stream",
     "text": [
      "sample images: 100%|██████████| 256/256 [00:05<00:00, 47.50it/s]\n"
     ]
    },
    {
     "name": "stdout",
     "output_type": "stream",
     "text": [
      "Warning: number of images is not a multiple of the batch size. Some samples are going to be ignored.\n"
     ]
    },
    {
     "name": "stderr",
     "output_type": "stream",
     "text": [
      "100%|██████████| 81/81 [00:04<00:00, 19.58it/s]\n"
     ]
    },
    {
     "name": "stdout",
     "output_type": "stream",
     "text": [
      "FID score: 58.087677001953125\n"
     ]
    },
    {
     "name": "stderr",
     "output_type": "stream",
     "text": [
      "sample images: 100%|██████████| 256/256 [00:05<00:00, 47.56it/s]\n"
     ]
    },
    {
     "name": "stdout",
     "output_type": "stream",
     "text": [
      "Inception score: 5.265263431619827\n",
      "----- Epoch Summary -----\n",
      "Dis Loss: -0.003430 - Gen Loss: -0.753094 - Dis LR: 2.82384e-05 - Gen LR: 2.82384e-05\n",
      "FID score: 58.087677001953125 - Inception score: 5.265263431619827 || @ epoch 194.\n",
      "Best FID score: 47.301239013671875 @ epoch 181\n",
      "-----      End      -----\n",
      "\n",
      "------- Epoch 195 -------\n",
      "[Epoch 195] [Batch 100/1563] [D loss: -1.141155] [G loss: -1.082040]\n",
      "[Epoch 195] [Batch 200/1563] [D loss: -0.370003] [G loss: -0.816041]\n",
      "[Epoch 195] [Batch 300/1563] [D loss: -0.801109] [G loss: -0.945261]\n",
      "[Epoch 195] [Batch 400/1563] [D loss: 2.287569] [G loss: 0.048013]\n",
      "[Epoch 195] [Batch 500/1563] [D loss: 1.139260] [G loss: -0.795017]\n",
      "[Epoch 195] [Batch 600/1563] [D loss: -0.588239] [G loss: -0.026671]\n",
      "[Epoch 195] [Batch 700/1563] [D loss: -0.236171] [G loss: -0.853784]\n",
      "[Epoch 195] [Batch 800/1563] [D loss: -0.887005] [G loss: -0.175387]\n",
      "[Epoch 195] [Batch 900/1563] [D loss: -0.516693] [G loss: 0.005344]\n",
      "[Epoch 195] [Batch 1000/1563] [D loss: -0.568464] [G loss: 0.001440]\n",
      "[Epoch 195] [Batch 1100/1563] [D loss: -0.188662] [G loss: -0.776355]\n",
      "[Epoch 195] [Batch 1200/1563] [D loss: 1.709014] [G loss: -1.182784]\n",
      "[Epoch 195] [Batch 1300/1563] [D loss: -0.205279] [G loss: -1.387011]\n",
      "[Epoch 195] [Batch 1400/1563] [D loss: -0.350794] [G loss: -1.903488]\n",
      "[Epoch 195] [Batch 1500/1563] [D loss: -0.305235] [G loss: -1.573949]\n"
     ]
    },
    {
     "name": "stderr",
     "output_type": "stream",
     "text": [
      "sample images: 100%|██████████| 256/256 [00:05<00:00, 47.52it/s]\n"
     ]
    },
    {
     "name": "stdout",
     "output_type": "stream",
     "text": [
      "Warning: number of images is not a multiple of the batch size. Some samples are going to be ignored.\n"
     ]
    },
    {
     "name": "stderr",
     "output_type": "stream",
     "text": [
      "100%|██████████| 81/81 [00:04<00:00, 19.61it/s]\n"
     ]
    },
    {
     "name": "stdout",
     "output_type": "stream",
     "text": [
      "FID score: 54.09222412109375\n"
     ]
    },
    {
     "name": "stderr",
     "output_type": "stream",
     "text": [
      "sample images: 100%|██████████| 256/256 [00:05<00:00, 47.59it/s]\n"
     ]
    },
    {
     "name": "stdout",
     "output_type": "stream",
     "text": [
      "Inception score: 5.421978139001425\n",
      "----- Epoch Summary -----\n",
      "Dis Loss: -0.092700 - Gen Loss: -0.958677 - Dis LR: 2.77682e-05 - Gen LR: 2.77682e-05\n",
      "FID score: 54.09222412109375 - Inception score: 5.421978139001425 || @ epoch 195.\n",
      "Best FID score: 47.301239013671875 @ epoch 181\n",
      "-----      End      -----\n",
      "\n",
      "------- Epoch 196 -------\n",
      "[Epoch 196] [Batch 0/1563] [D loss: 0.687950] [G loss: -0.914581]\n",
      "[Epoch 196] [Batch 100/1563] [D loss: -0.330141] [G loss: -0.045218]\n",
      "[Epoch 196] [Batch 200/1563] [D loss: -0.085090] [G loss: -0.442995]\n",
      "[Epoch 196] [Batch 300/1563] [D loss: -0.255789] [G loss: -0.830354]\n",
      "[Epoch 196] [Batch 400/1563] [D loss: 0.762028] [G loss: -0.675423]\n",
      "[Epoch 196] [Batch 500/1563] [D loss: -1.468985] [G loss: -0.566732]\n",
      "[Epoch 196] [Batch 600/1563] [D loss: 0.747373] [G loss: -2.068280]\n",
      "[Epoch 196] [Batch 700/1563] [D loss: 0.470958] [G loss: -0.956762]\n",
      "[Epoch 196] [Batch 800/1563] [D loss: 1.956153] [G loss: -0.942803]\n",
      "[Epoch 196] [Batch 900/1563] [D loss: -2.635837] [G loss: -0.961010]\n",
      "[Epoch 196] [Batch 1000/1563] [D loss: 1.018413] [G loss: -1.096173]\n",
      "[Epoch 196] [Batch 1100/1563] [D loss: 0.508159] [G loss: -0.566234]\n",
      "[Epoch 196] [Batch 1200/1563] [D loss: -0.668883] [G loss: -2.604424]\n",
      "[Epoch 196] [Batch 1300/1563] [D loss: 0.152721] [G loss: -1.606111]\n",
      "[Epoch 196] [Batch 1400/1563] [D loss: -0.764510] [G loss: -1.695189]\n",
      "[Epoch 196] [Batch 1500/1563] [D loss: 0.972813] [G loss: -0.183261]\n"
     ]
    },
    {
     "name": "stderr",
     "output_type": "stream",
     "text": [
      "sample images: 100%|██████████| 256/256 [00:05<00:00, 47.54it/s]\n"
     ]
    },
    {
     "name": "stdout",
     "output_type": "stream",
     "text": [
      "Warning: number of images is not a multiple of the batch size. Some samples are going to be ignored.\n"
     ]
    },
    {
     "name": "stderr",
     "output_type": "stream",
     "text": [
      "100%|██████████| 81/81 [00:04<00:00, 19.59it/s]\n"
     ]
    },
    {
     "name": "stdout",
     "output_type": "stream",
     "text": [
      "FID score: 54.29852294921875\n"
     ]
    },
    {
     "name": "stderr",
     "output_type": "stream",
     "text": [
      "sample images: 100%|██████████| 256/256 [00:05<00:00, 47.53it/s]\n"
     ]
    },
    {
     "name": "stdout",
     "output_type": "stream",
     "text": [
      "Inception score: 5.283202866370829\n",
      "----- Epoch Summary -----\n",
      "Dis Loss: 0.011966 - Gen Loss: -1.037334 - Dis LR: 2.73005e-05 - Gen LR: 2.73005e-05\n",
      "FID score: 54.29852294921875 - Inception score: 5.283202866370829 || @ epoch 196.\n",
      "Best FID score: 47.301239013671875 @ epoch 181\n",
      "-----      End      -----\n",
      "\n",
      "------- Epoch 197 -------\n",
      "[Epoch 197] [Batch 100/1563] [D loss: 0.511582] [G loss: -1.088027]\n",
      "[Epoch 197] [Batch 200/1563] [D loss: 0.988176] [G loss: -1.448902]\n",
      "[Epoch 197] [Batch 300/1563] [D loss: 0.085660] [G loss: -1.404478]\n",
      "[Epoch 197] [Batch 400/1563] [D loss: 0.731591] [G loss: -1.872156]\n",
      "[Epoch 197] [Batch 500/1563] [D loss: -0.385510] [G loss: -1.301350]\n",
      "[Epoch 197] [Batch 600/1563] [D loss: 0.932762] [G loss: -3.744419]\n",
      "[Epoch 197] [Batch 700/1563] [D loss: -1.270785] [G loss: -1.918869]\n",
      "[Epoch 197] [Batch 800/1563] [D loss: 0.325689] [G loss: -1.585219]\n",
      "[Epoch 197] [Batch 900/1563] [D loss: -0.502665] [G loss: -1.150971]\n",
      "[Epoch 197] [Batch 1000/1563] [D loss: -1.348241] [G loss: -1.186232]\n",
      "[Epoch 197] [Batch 1100/1563] [D loss: 0.139253] [G loss: -1.105526]\n",
      "[Epoch 197] [Batch 1200/1563] [D loss: 1.201209] [G loss: -0.899676]\n",
      "[Epoch 197] [Batch 1300/1563] [D loss: 0.523272] [G loss: -1.055528]\n",
      "[Epoch 197] [Batch 1400/1563] [D loss: 0.561160] [G loss: -1.521858]\n",
      "[Epoch 197] [Batch 1500/1563] [D loss: -0.637187] [G loss: -2.149664]\n"
     ]
    },
    {
     "name": "stderr",
     "output_type": "stream",
     "text": [
      "sample images: 100%|██████████| 256/256 [00:05<00:00, 47.65it/s]\n"
     ]
    },
    {
     "name": "stdout",
     "output_type": "stream",
     "text": [
      "Warning: number of images is not a multiple of the batch size. Some samples are going to be ignored.\n"
     ]
    },
    {
     "name": "stderr",
     "output_type": "stream",
     "text": [
      "100%|██████████| 81/81 [00:04<00:00, 19.59it/s]\n"
     ]
    },
    {
     "name": "stdout",
     "output_type": "stream",
     "text": [
      "FID score: 56.367767333984375\n"
     ]
    },
    {
     "name": "stderr",
     "output_type": "stream",
     "text": [
      "sample images: 100%|██████████| 256/256 [00:05<00:00, 47.59it/s]\n"
     ]
    },
    {
     "name": "stdout",
     "output_type": "stream",
     "text": [
      "Inception score: 5.350212932668503\n",
      "----- Epoch Summary -----\n",
      "Dis Loss: -0.050977 - Gen Loss: -1.364566 - Dis LR: 2.68352e-05 - Gen LR: 2.68352e-05\n",
      "FID score: 56.367767333984375 - Inception score: 5.350212932668503 || @ epoch 197.\n",
      "Best FID score: 47.301239013671875 @ epoch 181\n",
      "-----      End      -----\n",
      "\n",
      "------- Epoch 198 -------\n",
      "[Epoch 198] [Batch 100/1563] [D loss: -0.095786] [G loss: -1.125844]\n",
      "[Epoch 198] [Batch 200/1563] [D loss: -0.694436] [G loss: -2.309819]\n",
      "[Epoch 198] [Batch 300/1563] [D loss: -1.312197] [G loss: -0.373032]\n",
      "[Epoch 198] [Batch 400/1563] [D loss: -0.536872] [G loss: -2.067685]\n",
      "[Epoch 198] [Batch 500/1563] [D loss: 1.714864] [G loss: -1.290685]\n",
      "[Epoch 198] [Batch 600/1563] [D loss: 1.851717] [G loss: -1.876523]\n",
      "[Epoch 198] [Batch 700/1563] [D loss: -0.552448] [G loss: -1.326099]\n",
      "[Epoch 198] [Batch 800/1563] [D loss: 0.468469] [G loss: -2.397172]\n",
      "[Epoch 198] [Batch 900/1563] [D loss: -1.400744] [G loss: -2.641582]\n",
      "[Epoch 198] [Batch 1000/1563] [D loss: 0.713572] [G loss: -1.005479]\n",
      "[Epoch 198] [Batch 1100/1563] [D loss: 0.277579] [G loss: -1.526800]\n",
      "[Epoch 198] [Batch 1200/1563] [D loss: -1.612195] [G loss: -1.007576]\n",
      "[Epoch 198] [Batch 1300/1563] [D loss: -0.853272] [G loss: -1.769892]\n",
      "[Epoch 198] [Batch 1400/1563] [D loss: -0.261170] [G loss: -1.688834]\n",
      "[Epoch 198] [Batch 1500/1563] [D loss: -1.136138] [G loss: -0.296177]\n"
     ]
    },
    {
     "name": "stderr",
     "output_type": "stream",
     "text": [
      "sample images: 100%|██████████| 256/256 [00:05<00:00, 47.59it/s]\n"
     ]
    },
    {
     "name": "stdout",
     "output_type": "stream",
     "text": [
      "Warning: number of images is not a multiple of the batch size. Some samples are going to be ignored.\n"
     ]
    },
    {
     "name": "stderr",
     "output_type": "stream",
     "text": [
      "100%|██████████| 81/81 [00:04<00:00, 19.58it/s]\n"
     ]
    },
    {
     "name": "stdout",
     "output_type": "stream",
     "text": [
      "FID score: 51.54620361328125\n"
     ]
    },
    {
     "name": "stderr",
     "output_type": "stream",
     "text": [
      "sample images: 100%|██████████| 256/256 [00:05<00:00, 47.50it/s]\n"
     ]
    },
    {
     "name": "stdout",
     "output_type": "stream",
     "text": [
      "Inception score: 5.273812323979379\n",
      "----- Epoch Summary -----\n",
      "Dis Loss: -0.068568 - Gen Loss: -1.478125 - Dis LR: 2.63725e-05 - Gen LR: 2.63725e-05\n",
      "FID score: 51.54620361328125 - Inception score: 5.273812323979379 || @ epoch 198.\n",
      "Best FID score: 47.301239013671875 @ epoch 181\n",
      "-----      End      -----\n",
      "\n",
      "------- Epoch 199 -------\n",
      "[Epoch 199] [Batch 100/1563] [D loss: -1.189754] [G loss: -2.150046]\n",
      "[Epoch 199] [Batch 200/1563] [D loss: -1.922303] [G loss: -0.675959]\n",
      "[Epoch 199] [Batch 300/1563] [D loss: -0.161078] [G loss: -0.530138]\n",
      "[Epoch 199] [Batch 400/1563] [D loss: -1.087534] [G loss: -1.327639]\n",
      "[Epoch 199] [Batch 500/1563] [D loss: 0.870972] [G loss: -0.488857]\n",
      "[Epoch 199] [Batch 600/1563] [D loss: -0.327910] [G loss: -0.438916]\n",
      "[Epoch 199] [Batch 700/1563] [D loss: -1.983889] [G loss: -1.012796]\n",
      "[Epoch 199] [Batch 800/1563] [D loss: -0.977162] [G loss: -1.624671]\n",
      "[Epoch 199] [Batch 900/1563] [D loss: 0.188396] [G loss: -0.208017]\n",
      "[Epoch 199] [Batch 1000/1563] [D loss: -0.109387] [G loss: -1.805509]\n",
      "[Epoch 199] [Batch 1100/1563] [D loss: 0.758240] [G loss: -1.385847]\n",
      "[Epoch 199] [Batch 1200/1563] [D loss: 0.581866] [G loss: -0.653482]\n",
      "[Epoch 199] [Batch 1300/1563] [D loss: 0.455064] [G loss: -1.763690]\n",
      "[Epoch 199] [Batch 1400/1563] [D loss: 1.557199] [G loss: -0.923013]\n",
      "[Epoch 199] [Batch 1500/1563] [D loss: 0.052107] [G loss: -0.479576]\n"
     ]
    },
    {
     "name": "stderr",
     "output_type": "stream",
     "text": [
      "sample images: 100%|██████████| 256/256 [00:05<00:00, 47.54it/s]\n"
     ]
    },
    {
     "name": "stdout",
     "output_type": "stream",
     "text": [
      "Warning: number of images is not a multiple of the batch size. Some samples are going to be ignored.\n"
     ]
    },
    {
     "name": "stderr",
     "output_type": "stream",
     "text": [
      "100%|██████████| 81/81 [00:04<00:00, 19.55it/s]\n"
     ]
    },
    {
     "name": "stdout",
     "output_type": "stream",
     "text": [
      "FID score: 55.0704345703125\n"
     ]
    },
    {
     "name": "stderr",
     "output_type": "stream",
     "text": [
      "sample images: 100%|██████████| 256/256 [00:05<00:00, 47.57it/s]\n"
     ]
    },
    {
     "name": "stdout",
     "output_type": "stream",
     "text": [
      "Inception score: 5.190299497123124\n",
      "----- Epoch Summary -----\n",
      "Dis Loss: -0.006473 - Gen Loss: -1.152130 - Dis LR: 2.59123e-05 - Gen LR: 2.59123e-05\n",
      "FID score: 55.0704345703125 - Inception score: 5.190299497123124 || @ epoch 199.\n",
      "Best FID score: 47.301239013671875 @ epoch 181\n",
      "-----      End      -----\n",
      "\n",
      "------- Epoch 200 -------\n",
      "[Epoch 200] [Batch 100/1563] [D loss: -1.176206] [G loss: -1.065384]\n",
      "[Epoch 200] [Batch 200/1563] [D loss: -0.220906] [G loss: -1.221391]\n",
      "[Epoch 200] [Batch 300/1563] [D loss: 1.028031] [G loss: -1.169212]\n",
      "[Epoch 200] [Batch 400/1563] [D loss: 0.644921] [G loss: -2.113850]\n",
      "[Epoch 200] [Batch 500/1563] [D loss: 0.999052] [G loss: -2.216662]\n",
      "[Epoch 200] [Batch 600/1563] [D loss: -1.184769] [G loss: -0.228613]\n",
      "[Epoch 200] [Batch 700/1563] [D loss: -0.747324] [G loss: -2.381080]\n",
      "[Epoch 200] [Batch 800/1563] [D loss: -0.281757] [G loss: -2.250949]\n",
      "[Epoch 200] [Batch 900/1563] [D loss: 0.337347] [G loss: -1.714243]\n",
      "[Epoch 200] [Batch 1000/1563] [D loss: -0.632422] [G loss: -0.572115]\n",
      "[Epoch 200] [Batch 1100/1563] [D loss: 1.848937] [G loss: -0.423107]\n",
      "[Epoch 200] [Batch 1200/1563] [D loss: 0.736697] [G loss: -1.683407]\n",
      "[Epoch 200] [Batch 1300/1563] [D loss: 0.297160] [G loss: -0.838126]\n",
      "[Epoch 200] [Batch 1400/1563] [D loss: 0.662012] [G loss: -2.002338]\n",
      "[Epoch 200] [Batch 1500/1563] [D loss: -0.458894] [G loss: -0.395014]\n"
     ]
    },
    {
     "name": "stderr",
     "output_type": "stream",
     "text": [
      "sample images: 100%|██████████| 256/256 [00:05<00:00, 47.60it/s]\n"
     ]
    },
    {
     "name": "stdout",
     "output_type": "stream",
     "text": [
      "Warning: number of images is not a multiple of the batch size. Some samples are going to be ignored.\n"
     ]
    },
    {
     "name": "stderr",
     "output_type": "stream",
     "text": [
      "100%|██████████| 81/81 [00:04<00:00, 19.61it/s]\n"
     ]
    },
    {
     "name": "stdout",
     "output_type": "stream",
     "text": [
      "FID score: 53.55413818359375\n"
     ]
    },
    {
     "name": "stderr",
     "output_type": "stream",
     "text": [
      "sample images: 100%|██████████| 256/256 [00:05<00:00, 47.47it/s]\n"
     ]
    },
    {
     "name": "stdout",
     "output_type": "stream",
     "text": [
      "Inception score: 5.139251881880118\n",
      "----- Epoch Summary -----\n",
      "Dis Loss: -0.069508 - Gen Loss: -1.249426 - Dis LR: 2.54548e-05 - Gen LR: 2.54548e-05\n",
      "FID score: 53.55413818359375 - Inception score: 5.139251881880118 || @ epoch 200.\n",
      "Best FID score: 47.301239013671875 @ epoch 181\n",
      "-----      End      -----\n",
      "\n",
      "------- Epoch 201 -------\n",
      "[Epoch 201] [Batch 0/1563] [D loss: -1.207926] [G loss: -2.075985]\n",
      "[Epoch 201] [Batch 100/1563] [D loss: -0.056262] [G loss: -1.779028]\n",
      "[Epoch 201] [Batch 200/1563] [D loss: 0.461248] [G loss: -0.489147]\n",
      "[Epoch 201] [Batch 300/1563] [D loss: -0.803648] [G loss: -0.801523]\n",
      "[Epoch 201] [Batch 400/1563] [D loss: -1.425846] [G loss: -2.882669]\n",
      "[Epoch 201] [Batch 500/1563] [D loss: -0.067855] [G loss: -0.377981]\n",
      "[Epoch 201] [Batch 600/1563] [D loss: -0.843561] [G loss: -1.006624]\n",
      "[Epoch 201] [Batch 700/1563] [D loss: -1.488592] [G loss: -1.576093]\n",
      "[Epoch 201] [Batch 800/1563] [D loss: 0.967536] [G loss: -0.958944]\n",
      "[Epoch 201] [Batch 900/1563] [D loss: 0.037019] [G loss: -1.204201]\n",
      "[Epoch 201] [Batch 1000/1563] [D loss: -1.313463] [G loss: -1.660616]\n",
      "[Epoch 201] [Batch 1100/1563] [D loss: 1.982853] [G loss: -1.885178]\n",
      "[Epoch 201] [Batch 1200/1563] [D loss: -1.866170] [G loss: -0.496508]\n",
      "[Epoch 201] [Batch 1300/1563] [D loss: 0.443592] [G loss: -2.149194]\n",
      "[Epoch 201] [Batch 1400/1563] [D loss: -1.269097] [G loss: -1.118112]\n",
      "[Epoch 201] [Batch 1500/1563] [D loss: 0.551363] [G loss: -1.076614]\n"
     ]
    },
    {
     "name": "stderr",
     "output_type": "stream",
     "text": [
      "sample images: 100%|██████████| 256/256 [00:05<00:00, 47.54it/s]\n"
     ]
    },
    {
     "name": "stdout",
     "output_type": "stream",
     "text": [
      "Warning: number of images is not a multiple of the batch size. Some samples are going to be ignored.\n"
     ]
    },
    {
     "name": "stderr",
     "output_type": "stream",
     "text": [
      "100%|██████████| 81/81 [00:04<00:00, 19.56it/s]\n"
     ]
    },
    {
     "name": "stdout",
     "output_type": "stream",
     "text": [
      "FID score: 48.023193359375\n"
     ]
    },
    {
     "name": "stderr",
     "output_type": "stream",
     "text": [
      "sample images: 100%|██████████| 256/256 [00:05<00:00, 47.54it/s]\n"
     ]
    },
    {
     "name": "stdout",
     "output_type": "stream",
     "text": [
      "Inception score: 5.686705333713408\n",
      "----- Epoch Summary -----\n",
      "Dis Loss: -0.030431 - Gen Loss: -1.300731 - Dis LR: 2.5e-05 - Gen LR: 2.5e-05\n",
      "FID score: 48.023193359375 - Inception score: 5.686705333713408 || @ epoch 201.\n",
      "Best FID score: 47.301239013671875 @ epoch 181\n",
      "-----      End      -----\n",
      "\n",
      "------- Epoch 202 -------\n",
      "[Epoch 202] [Batch 100/1563] [D loss: -1.501851] [G loss: -1.011556]\n",
      "[Epoch 202] [Batch 200/1563] [D loss: 1.102311] [G loss: -1.909938]\n",
      "[Epoch 202] [Batch 300/1563] [D loss: 0.626031] [G loss: -1.797031]\n",
      "[Epoch 202] [Batch 400/1563] [D loss: -0.550377] [G loss: -2.480723]\n",
      "[Epoch 202] [Batch 500/1563] [D loss: -0.652819] [G loss: -1.537715]\n",
      "[Epoch 202] [Batch 600/1563] [D loss: 1.804814] [G loss: -0.614894]\n",
      "[Epoch 202] [Batch 700/1563] [D loss: -0.634530] [G loss: -1.918227]\n",
      "[Epoch 202] [Batch 800/1563] [D loss: 1.877712] [G loss: -1.754189]\n",
      "[Epoch 202] [Batch 900/1563] [D loss: 0.152834] [G loss: -1.030521]\n",
      "[Epoch 202] [Batch 1000/1563] [D loss: -0.452616] [G loss: -0.957446]\n",
      "[Epoch 202] [Batch 1100/1563] [D loss: -0.401693] [G loss: -2.583625]\n",
      "[Epoch 202] [Batch 1200/1563] [D loss: -1.418325] [G loss: -1.868340]\n",
      "[Epoch 202] [Batch 1300/1563] [D loss: -0.825421] [G loss: -0.960607]\n",
      "[Epoch 202] [Batch 1400/1563] [D loss: 1.821667] [G loss: -2.255240]\n",
      "[Epoch 202] [Batch 1500/1563] [D loss: -1.911213] [G loss: -1.548606]\n"
     ]
    },
    {
     "name": "stderr",
     "output_type": "stream",
     "text": [
      "sample images: 100%|██████████| 256/256 [00:05<00:00, 47.56it/s]\n"
     ]
    },
    {
     "name": "stdout",
     "output_type": "stream",
     "text": [
      "Warning: number of images is not a multiple of the batch size. Some samples are going to be ignored.\n"
     ]
    },
    {
     "name": "stderr",
     "output_type": "stream",
     "text": [
      "100%|██████████| 81/81 [00:04<00:00, 19.61it/s]\n"
     ]
    },
    {
     "name": "stdout",
     "output_type": "stream",
     "text": [
      "FID score: 50.56427001953125\n"
     ]
    },
    {
     "name": "stderr",
     "output_type": "stream",
     "text": [
      "sample images: 100%|██████████| 256/256 [00:05<00:00, 47.54it/s]\n"
     ]
    },
    {
     "name": "stdout",
     "output_type": "stream",
     "text": [
      "Inception score: 5.3023530293414805\n",
      "----- Epoch Summary -----\n",
      "Dis Loss: -0.063870 - Gen Loss: -1.483723 - Dis LR: 2.45479e-05 - Gen LR: 2.45479e-05\n",
      "FID score: 50.56427001953125 - Inception score: 5.3023530293414805 || @ epoch 202.\n",
      "Best FID score: 47.301239013671875 @ epoch 181\n",
      "-----      End      -----\n",
      "\n",
      "------- Epoch 203 -------\n",
      "[Epoch 203] [Batch 100/1563] [D loss: 1.166158] [G loss: -1.803938]\n",
      "[Epoch 203] [Batch 200/1563] [D loss: -0.874155] [G loss: -1.916361]\n",
      "[Epoch 203] [Batch 300/1563] [D loss: -0.928596] [G loss: -2.269153]\n",
      "[Epoch 203] [Batch 400/1563] [D loss: -0.817506] [G loss: -1.488394]\n",
      "[Epoch 203] [Batch 500/1563] [D loss: -1.443282] [G loss: -1.666480]\n",
      "[Epoch 203] [Batch 600/1563] [D loss: -0.129416] [G loss: -2.341807]\n",
      "[Epoch 203] [Batch 700/1563] [D loss: -0.079492] [G loss: -2.245768]\n",
      "[Epoch 203] [Batch 800/1563] [D loss: 0.053601] [G loss: -0.586809]\n",
      "[Epoch 203] [Batch 900/1563] [D loss: -0.519465] [G loss: -0.814522]\n",
      "[Epoch 203] [Batch 1000/1563] [D loss: -2.700747] [G loss: -1.049162]\n",
      "[Epoch 203] [Batch 1100/1563] [D loss: 1.492569] [G loss: -2.959088]\n",
      "[Epoch 203] [Batch 1200/1563] [D loss: 1.984895] [G loss: -1.902435]\n",
      "[Epoch 203] [Batch 1300/1563] [D loss: -0.082607] [G loss: -2.655192]\n",
      "[Epoch 203] [Batch 1400/1563] [D loss: 0.838938] [G loss: -1.971255]\n",
      "[Epoch 203] [Batch 1500/1563] [D loss: -1.454849] [G loss: -1.858199]\n"
     ]
    },
    {
     "name": "stderr",
     "output_type": "stream",
     "text": [
      "sample images: 100%|██████████| 256/256 [00:05<00:00, 47.58it/s]\n"
     ]
    },
    {
     "name": "stdout",
     "output_type": "stream",
     "text": [
      "Warning: number of images is not a multiple of the batch size. Some samples are going to be ignored.\n"
     ]
    },
    {
     "name": "stderr",
     "output_type": "stream",
     "text": [
      "100%|██████████| 81/81 [00:04<00:00, 19.58it/s]\n"
     ]
    },
    {
     "name": "stdout",
     "output_type": "stream",
     "text": [
      "FID score: 50.906402587890625\n"
     ]
    },
    {
     "name": "stderr",
     "output_type": "stream",
     "text": [
      "sample images: 100%|██████████| 256/256 [00:05<00:00, 47.52it/s]\n"
     ]
    },
    {
     "name": "stdout",
     "output_type": "stream",
     "text": [
      "Inception score: 5.477395290281637\n",
      "----- Epoch Summary -----\n",
      "Dis Loss: -0.090499 - Gen Loss: -1.678453 - Dis LR: 2.40986e-05 - Gen LR: 2.40986e-05\n",
      "FID score: 50.906402587890625 - Inception score: 5.477395290281637 || @ epoch 203.\n",
      "Best FID score: 47.301239013671875 @ epoch 181\n",
      "-----      End      -----\n",
      "\n",
      "------- Epoch 204 -------\n",
      "[Epoch 204] [Batch 100/1563] [D loss: -1.920379] [G loss: -1.682044]\n",
      "[Epoch 204] [Batch 200/1563] [D loss: -0.147754] [G loss: -0.784715]\n",
      "[Epoch 204] [Batch 300/1563] [D loss: -1.270685] [G loss: -1.362866]\n",
      "[Epoch 204] [Batch 400/1563] [D loss: 0.398022] [G loss: -1.610930]\n",
      "[Epoch 204] [Batch 500/1563] [D loss: -1.598044] [G loss: -1.537127]\n",
      "[Epoch 204] [Batch 600/1563] [D loss: -2.037690] [G loss: -2.489919]\n",
      "[Epoch 204] [Batch 700/1563] [D loss: -0.504972] [G loss: -2.230905]\n",
      "[Epoch 204] [Batch 800/1563] [D loss: 0.080272] [G loss: -2.856345]\n",
      "[Epoch 204] [Batch 900/1563] [D loss: -0.560403] [G loss: -3.527990]\n",
      "[Epoch 204] [Batch 1000/1563] [D loss: 0.205705] [G loss: -1.637326]\n",
      "[Epoch 204] [Batch 1100/1563] [D loss: 0.989387] [G loss: -1.929260]\n",
      "[Epoch 204] [Batch 1200/1563] [D loss: -2.638271] [G loss: -1.983744]\n",
      "[Epoch 204] [Batch 1300/1563] [D loss: -0.701083] [G loss: -1.181279]\n",
      "[Epoch 204] [Batch 1400/1563] [D loss: -2.071924] [G loss: -1.489252]\n",
      "[Epoch 204] [Batch 1500/1563] [D loss: -2.076532] [G loss: -2.572615]\n"
     ]
    },
    {
     "name": "stderr",
     "output_type": "stream",
     "text": [
      "sample images: 100%|██████████| 256/256 [00:05<00:00, 47.41it/s]\n"
     ]
    },
    {
     "name": "stdout",
     "output_type": "stream",
     "text": [
      "Warning: number of images is not a multiple of the batch size. Some samples are going to be ignored.\n"
     ]
    },
    {
     "name": "stderr",
     "output_type": "stream",
     "text": [
      "100%|██████████| 81/81 [00:04<00:00, 19.62it/s]\n"
     ]
    },
    {
     "name": "stdout",
     "output_type": "stream",
     "text": [
      "FID score: 53.61846923828125\n"
     ]
    },
    {
     "name": "stderr",
     "output_type": "stream",
     "text": [
      "sample images: 100%|██████████| 256/256 [00:05<00:00, 47.51it/s]\n"
     ]
    },
    {
     "name": "stdout",
     "output_type": "stream",
     "text": [
      "Inception score: 5.291658594067454\n",
      "----- Epoch Summary -----\n",
      "Dis Loss: -0.034899 - Gen Loss: -1.731405 - Dis LR: 2.36522e-05 - Gen LR: 2.36522e-05\n",
      "FID score: 53.61846923828125 - Inception score: 5.291658594067454 || @ epoch 204.\n",
      "Best FID score: 47.301239013671875 @ epoch 181\n",
      "-----      End      -----\n",
      "\n",
      "------- Epoch 205 -------\n",
      "[Epoch 205] [Batch 100/1563] [D loss: 0.510484] [G loss: -2.502430]\n",
      "[Epoch 205] [Batch 200/1563] [D loss: -0.681082] [G loss: -2.544392]\n",
      "[Epoch 205] [Batch 300/1563] [D loss: -0.257759] [G loss: -1.129118]\n",
      "[Epoch 205] [Batch 400/1563] [D loss: -1.166135] [G loss: -1.091989]\n",
      "[Epoch 205] [Batch 500/1563] [D loss: 0.303553] [G loss: -0.366069]\n",
      "[Epoch 205] [Batch 600/1563] [D loss: -2.959987] [G loss: -3.321119]\n",
      "[Epoch 205] [Batch 700/1563] [D loss: 0.253541] [G loss: -0.864628]\n",
      "[Epoch 205] [Batch 800/1563] [D loss: 1.542108] [G loss: -1.720598]\n",
      "[Epoch 205] [Batch 900/1563] [D loss: -0.394826] [G loss: -1.934687]\n",
      "[Epoch 205] [Batch 1000/1563] [D loss: -1.524462] [G loss: -3.026109]\n",
      "[Epoch 205] [Batch 1100/1563] [D loss: 0.858612] [G loss: -0.634267]\n",
      "[Epoch 205] [Batch 1200/1563] [D loss: 1.660648] [G loss: -1.121901]\n",
      "[Epoch 205] [Batch 1300/1563] [D loss: 0.466499] [G loss: -1.117497]\n",
      "[Epoch 205] [Batch 1400/1563] [D loss: 0.104305] [G loss: -1.077555]\n",
      "[Epoch 205] [Batch 1500/1563] [D loss: -0.692047] [G loss: -0.695822]\n"
     ]
    },
    {
     "name": "stderr",
     "output_type": "stream",
     "text": [
      "sample images: 100%|██████████| 256/256 [00:05<00:00, 47.59it/s]\n"
     ]
    },
    {
     "name": "stdout",
     "output_type": "stream",
     "text": [
      "Warning: number of images is not a multiple of the batch size. Some samples are going to be ignored.\n"
     ]
    },
    {
     "name": "stderr",
     "output_type": "stream",
     "text": [
      "100%|██████████| 81/81 [00:04<00:00, 19.59it/s]\n"
     ]
    },
    {
     "name": "stdout",
     "output_type": "stream",
     "text": [
      "FID score: 52.34283447265625\n"
     ]
    },
    {
     "name": "stderr",
     "output_type": "stream",
     "text": [
      "sample images: 100%|██████████| 256/256 [00:05<00:00, 47.43it/s]\n"
     ]
    },
    {
     "name": "stdout",
     "output_type": "stream",
     "text": [
      "Inception score: 5.384633658977442\n",
      "----- Epoch Summary -----\n",
      "Dis Loss: -0.028932 - Gen Loss: -1.628067 - Dis LR: 2.32087e-05 - Gen LR: 2.32087e-05\n",
      "FID score: 52.34283447265625 - Inception score: 5.384633658977442 || @ epoch 205.\n",
      "Best FID score: 47.301239013671875 @ epoch 181\n",
      "-----      End      -----\n",
      "\n",
      "------- Epoch 206 -------\n",
      "[Epoch 206] [Batch 0/1563] [D loss: -1.028928] [G loss: -1.200247]\n",
      "[Epoch 206] [Batch 100/1563] [D loss: -0.230519] [G loss: -3.285624]\n",
      "[Epoch 206] [Batch 200/1563] [D loss: -0.287223] [G loss: -1.398250]\n",
      "[Epoch 206] [Batch 300/1563] [D loss: 2.183153] [G loss: -2.707160]\n",
      "[Epoch 206] [Batch 400/1563] [D loss: -1.618273] [G loss: -0.370379]\n",
      "[Epoch 206] [Batch 500/1563] [D loss: 3.824605] [G loss: -0.081507]\n",
      "[Epoch 206] [Batch 600/1563] [D loss: 1.195326] [G loss: -1.364297]\n",
      "[Epoch 206] [Batch 700/1563] [D loss: 1.635755] [G loss: -0.509155]\n",
      "[Epoch 206] [Batch 800/1563] [D loss: 0.386337] [G loss: -1.318983]\n",
      "[Epoch 206] [Batch 900/1563] [D loss: 1.441759] [G loss: -2.007395]\n",
      "[Epoch 206] [Batch 1000/1563] [D loss: 0.205887] [G loss: -1.894059]\n",
      "[Epoch 206] [Batch 1100/1563] [D loss: 0.230117] [G loss: -2.980522]\n",
      "[Epoch 206] [Batch 1200/1563] [D loss: 1.014374] [G loss: -1.003458]\n",
      "[Epoch 206] [Batch 1300/1563] [D loss: 0.151212] [G loss: -1.381057]\n",
      "[Epoch 206] [Batch 1400/1563] [D loss: -0.560592] [G loss: -1.018569]\n",
      "[Epoch 206] [Batch 1500/1563] [D loss: -1.551805] [G loss: -1.508049]\n"
     ]
    },
    {
     "name": "stderr",
     "output_type": "stream",
     "text": [
      "sample images: 100%|██████████| 256/256 [00:05<00:00, 47.21it/s]\n"
     ]
    },
    {
     "name": "stdout",
     "output_type": "stream",
     "text": [
      "Warning: number of images is not a multiple of the batch size. Some samples are going to be ignored.\n"
     ]
    },
    {
     "name": "stderr",
     "output_type": "stream",
     "text": [
      "100%|██████████| 81/81 [00:04<00:00, 19.56it/s]\n"
     ]
    },
    {
     "name": "stdout",
     "output_type": "stream",
     "text": [
      "FID score: 51.25299072265625\n"
     ]
    },
    {
     "name": "stderr",
     "output_type": "stream",
     "text": [
      "sample images: 100%|██████████| 256/256 [00:05<00:00, 47.45it/s]\n"
     ]
    },
    {
     "name": "stdout",
     "output_type": "stream",
     "text": [
      "Inception score: 5.393304882172411\n",
      "----- Epoch Summary -----\n",
      "Dis Loss: -0.048066 - Gen Loss: -1.433712 - Dis LR: 2.2768e-05 - Gen LR: 2.2768e-05\n",
      "FID score: 51.25299072265625 - Inception score: 5.393304882172411 || @ epoch 206.\n",
      "Best FID score: 47.301239013671875 @ epoch 181\n",
      "-----      End      -----\n",
      "\n",
      "------- Epoch 207 -------\n",
      "[Epoch 207] [Batch 100/1563] [D loss: -1.306061] [G loss: -1.628919]\n",
      "[Epoch 207] [Batch 200/1563] [D loss: -2.940532] [G loss: -2.180957]\n",
      "[Epoch 207] [Batch 300/1563] [D loss: -0.115789] [G loss: -2.903937]\n",
      "[Epoch 207] [Batch 400/1563] [D loss: -0.710521] [G loss: -1.337763]\n",
      "[Epoch 207] [Batch 500/1563] [D loss: 2.149892] [G loss: -2.616558]\n",
      "[Epoch 207] [Batch 600/1563] [D loss: -1.050140] [G loss: -1.571982]\n",
      "[Epoch 207] [Batch 700/1563] [D loss: -2.120799] [G loss: -2.056834]\n",
      "[Epoch 207] [Batch 800/1563] [D loss: -1.829349] [G loss: -1.653270]\n",
      "[Epoch 207] [Batch 900/1563] [D loss: -1.648654] [G loss: -1.831927]\n",
      "[Epoch 207] [Batch 1000/1563] [D loss: -1.153757] [G loss: -1.854007]\n",
      "[Epoch 207] [Batch 1100/1563] [D loss: -0.421181] [G loss: -4.565367]\n",
      "[Epoch 207] [Batch 1200/1563] [D loss: 0.034770] [G loss: -1.149086]\n",
      "[Epoch 207] [Batch 1300/1563] [D loss: 1.040421] [G loss: -2.208653]\n",
      "[Epoch 207] [Batch 1400/1563] [D loss: -1.296087] [G loss: -1.505045]\n",
      "[Epoch 207] [Batch 1500/1563] [D loss: -1.453891] [G loss: -1.083682]\n"
     ]
    },
    {
     "name": "stderr",
     "output_type": "stream",
     "text": [
      "sample images: 100%|██████████| 256/256 [00:05<00:00, 47.56it/s]\n"
     ]
    },
    {
     "name": "stdout",
     "output_type": "stream",
     "text": [
      "Warning: number of images is not a multiple of the batch size. Some samples are going to be ignored.\n"
     ]
    },
    {
     "name": "stderr",
     "output_type": "stream",
     "text": [
      "100%|██████████| 81/81 [00:04<00:00, 19.58it/s]\n"
     ]
    },
    {
     "name": "stdout",
     "output_type": "stream",
     "text": [
      "FID score: 54.357269287109375\n"
     ]
    },
    {
     "name": "stderr",
     "output_type": "stream",
     "text": [
      "sample images: 100%|██████████| 256/256 [00:05<00:00, 47.53it/s]\n"
     ]
    },
    {
     "name": "stdout",
     "output_type": "stream",
     "text": [
      "Inception score: 5.434140686947663\n",
      "----- Epoch Summary -----\n",
      "Dis Loss: -0.046392 - Gen Loss: -1.421196 - Dis LR: 2.23304e-05 - Gen LR: 2.23304e-05\n",
      "FID score: 54.357269287109375 - Inception score: 5.434140686947663 || @ epoch 207.\n",
      "Best FID score: 47.301239013671875 @ epoch 181\n",
      "-----      End      -----\n",
      "\n",
      "------- Epoch 208 -------\n",
      "[Epoch 208] [Batch 100/1563] [D loss: -0.876545] [G loss: -0.202301]\n",
      "[Epoch 208] [Batch 200/1563] [D loss: -0.355640] [G loss: 0.304451]\n",
      "[Epoch 208] [Batch 300/1563] [D loss: -0.309735] [G loss: -1.493968]\n",
      "[Epoch 208] [Batch 400/1563] [D loss: -0.020951] [G loss: -1.299060]\n",
      "[Epoch 208] [Batch 500/1563] [D loss: 0.447533] [G loss: -2.840591]\n",
      "[Epoch 208] [Batch 600/1563] [D loss: -0.536156] [G loss: -2.319127]\n",
      "[Epoch 208] [Batch 700/1563] [D loss: 0.411774] [G loss: -0.018360]\n",
      "[Epoch 208] [Batch 800/1563] [D loss: -1.004632] [G loss: 0.051291]\n",
      "[Epoch 208] [Batch 900/1563] [D loss: 0.082085] [G loss: -2.799556]\n",
      "[Epoch 208] [Batch 1000/1563] [D loss: -0.998874] [G loss: -2.629412]\n",
      "[Epoch 208] [Batch 1100/1563] [D loss: 0.942882] [G loss: -2.070058]\n",
      "[Epoch 208] [Batch 1200/1563] [D loss: -1.408559] [G loss: -0.395357]\n",
      "[Epoch 208] [Batch 1300/1563] [D loss: 0.099464] [G loss: -1.789879]\n",
      "[Epoch 208] [Batch 1400/1563] [D loss: -1.123932] [G loss: -1.714640]\n",
      "[Epoch 208] [Batch 1500/1563] [D loss: 1.217687] [G loss: -0.497547]\n"
     ]
    },
    {
     "name": "stderr",
     "output_type": "stream",
     "text": [
      "sample images: 100%|██████████| 256/256 [00:05<00:00, 47.54it/s]\n"
     ]
    },
    {
     "name": "stdout",
     "output_type": "stream",
     "text": [
      "Warning: number of images is not a multiple of the batch size. Some samples are going to be ignored.\n"
     ]
    },
    {
     "name": "stderr",
     "output_type": "stream",
     "text": [
      "100%|██████████| 81/81 [00:04<00:00, 19.53it/s]\n"
     ]
    },
    {
     "name": "stdout",
     "output_type": "stream",
     "text": [
      "FID score: 54.4552001953125\n"
     ]
    },
    {
     "name": "stderr",
     "output_type": "stream",
     "text": [
      "sample images: 100%|██████████| 256/256 [00:05<00:00, 47.38it/s]\n"
     ]
    },
    {
     "name": "stdout",
     "output_type": "stream",
     "text": [
      "Inception score: 5.332202562022378\n",
      "----- Epoch Summary -----\n",
      "Dis Loss: -0.005068 - Gen Loss: -1.463921 - Dis LR: 2.18958e-05 - Gen LR: 2.18958e-05\n",
      "FID score: 54.4552001953125 - Inception score: 5.332202562022378 || @ epoch 208.\n",
      "Best FID score: 47.301239013671875 @ epoch 181\n",
      "-----      End      -----\n",
      "\n",
      "------- Epoch 209 -------\n",
      "[Epoch 209] [Batch 100/1563] [D loss: 2.003286] [G loss: -3.312075]\n",
      "[Epoch 209] [Batch 200/1563] [D loss: -0.528563] [G loss: -0.673197]\n",
      "[Epoch 209] [Batch 300/1563] [D loss: 2.872859] [G loss: -1.512202]\n",
      "[Epoch 209] [Batch 400/1563] [D loss: -0.559218] [G loss: -0.789866]\n",
      "[Epoch 209] [Batch 500/1563] [D loss: -0.779970] [G loss: -1.858425]\n",
      "[Epoch 209] [Batch 600/1563] [D loss: -0.459309] [G loss: -2.024102]\n",
      "[Epoch 209] [Batch 700/1563] [D loss: 0.031311] [G loss: -1.799568]\n",
      "[Epoch 209] [Batch 800/1563] [D loss: 0.736603] [G loss: -2.097638]\n",
      "[Epoch 209] [Batch 900/1563] [D loss: 0.095521] [G loss: -1.422365]\n",
      "[Epoch 209] [Batch 1000/1563] [D loss: -1.763458] [G loss: -2.157049]\n",
      "[Epoch 209] [Batch 1100/1563] [D loss: 0.149895] [G loss: -1.705783]\n",
      "[Epoch 209] [Batch 1200/1563] [D loss: -0.964723] [G loss: -0.502768]\n",
      "[Epoch 209] [Batch 1300/1563] [D loss: 1.909394] [G loss: -0.683351]\n",
      "[Epoch 209] [Batch 1400/1563] [D loss: 0.872123] [G loss: -0.370497]\n",
      "[Epoch 209] [Batch 1500/1563] [D loss: -0.064958] [G loss: -0.195256]\n"
     ]
    },
    {
     "name": "stderr",
     "output_type": "stream",
     "text": [
      "sample images: 100%|██████████| 256/256 [00:05<00:00, 47.61it/s]\n"
     ]
    },
    {
     "name": "stdout",
     "output_type": "stream",
     "text": [
      "Warning: number of images is not a multiple of the batch size. Some samples are going to be ignored.\n"
     ]
    },
    {
     "name": "stderr",
     "output_type": "stream",
     "text": [
      "100%|██████████| 81/81 [00:04<00:00, 19.60it/s]\n"
     ]
    },
    {
     "name": "stdout",
     "output_type": "stream",
     "text": [
      "FID score: 58.404388427734375\n"
     ]
    },
    {
     "name": "stderr",
     "output_type": "stream",
     "text": [
      "sample images: 100%|██████████| 256/256 [00:05<00:00, 47.55it/s]\n"
     ]
    },
    {
     "name": "stdout",
     "output_type": "stream",
     "text": [
      "Inception score: 5.298324741604393\n",
      "----- Epoch Summary -----\n",
      "Dis Loss: -0.028589 - Gen Loss: -1.509534 - Dis LR: 2.14643e-05 - Gen LR: 2.14643e-05\n",
      "FID score: 58.404388427734375 - Inception score: 5.298324741604393 || @ epoch 209.\n",
      "Best FID score: 47.301239013671875 @ epoch 181\n",
      "-----      End      -----\n",
      "\n",
      "------- Epoch 210 -------\n",
      "[Epoch 210] [Batch 100/1563] [D loss: -1.711712] [G loss: -1.919387]\n",
      "[Epoch 210] [Batch 200/1563] [D loss: -0.076606] [G loss: -3.379032]\n",
      "[Epoch 210] [Batch 300/1563] [D loss: -0.408834] [G loss: -0.666306]\n",
      "[Epoch 210] [Batch 400/1563] [D loss: -1.402887] [G loss: 0.129122]\n",
      "[Epoch 210] [Batch 500/1563] [D loss: -1.000740] [G loss: -2.574558]\n",
      "[Epoch 210] [Batch 600/1563] [D loss: -1.657251] [G loss: -0.445761]\n",
      "[Epoch 210] [Batch 700/1563] [D loss: -0.535383] [G loss: -2.344162]\n",
      "[Epoch 210] [Batch 800/1563] [D loss: -0.525784] [G loss: -0.646727]\n",
      "[Epoch 210] [Batch 900/1563] [D loss: -0.036436] [G loss: 0.114781]\n",
      "[Epoch 210] [Batch 1000/1563] [D loss: -0.144825] [G loss: -1.613909]\n",
      "[Epoch 210] [Batch 1100/1563] [D loss: 0.405922] [G loss: -0.853867]\n",
      "[Epoch 210] [Batch 1200/1563] [D loss: -0.307175] [G loss: -1.456647]\n",
      "[Epoch 210] [Batch 1300/1563] [D loss: -0.352220] [G loss: -1.159609]\n",
      "[Epoch 210] [Batch 1400/1563] [D loss: -0.108163] [G loss: -2.309516]\n",
      "[Epoch 210] [Batch 1500/1563] [D loss: -0.574906] [G loss: -2.126689]\n"
     ]
    },
    {
     "name": "stderr",
     "output_type": "stream",
     "text": [
      "sample images: 100%|██████████| 256/256 [00:05<00:00, 47.27it/s]\n"
     ]
    },
    {
     "name": "stdout",
     "output_type": "stream",
     "text": [
      "Warning: number of images is not a multiple of the batch size. Some samples are going to be ignored.\n"
     ]
    },
    {
     "name": "stderr",
     "output_type": "stream",
     "text": [
      "100%|██████████| 81/81 [00:04<00:00, 19.59it/s]\n"
     ]
    },
    {
     "name": "stdout",
     "output_type": "stream",
     "text": [
      "FID score: 47.992919921875\n"
     ]
    },
    {
     "name": "stderr",
     "output_type": "stream",
     "text": [
      "sample images: 100%|██████████| 256/256 [00:05<00:00, 47.32it/s]\n"
     ]
    },
    {
     "name": "stdout",
     "output_type": "stream",
     "text": [
      "Inception score: 5.493498309497351\n",
      "----- Epoch Summary -----\n",
      "Dis Loss: -0.058938 - Gen Loss: -1.330554 - Dis LR: 2.10359e-05 - Gen LR: 2.10359e-05\n",
      "FID score: 47.992919921875 - Inception score: 5.493498309497351 || @ epoch 210.\n",
      "Best FID score: 47.301239013671875 @ epoch 181\n",
      "-----      End      -----\n",
      "\n",
      "------- Epoch 211 -------\n",
      "[Epoch 211] [Batch 0/1563] [D loss: 0.937819] [G loss: -1.706540]\n",
      "[Epoch 211] [Batch 100/1563] [D loss: 0.872845] [G loss: -2.109134]\n",
      "[Epoch 211] [Batch 200/1563] [D loss: -0.143117] [G loss: -1.179388]\n",
      "[Epoch 211] [Batch 300/1563] [D loss: 0.857937] [G loss: -2.907759]\n",
      "[Epoch 211] [Batch 400/1563] [D loss: 0.930874] [G loss: -0.419262]\n",
      "[Epoch 211] [Batch 500/1563] [D loss: 0.619650] [G loss: -2.457864]\n",
      "[Epoch 211] [Batch 600/1563] [D loss: -1.157896] [G loss: -2.716502]\n",
      "[Epoch 211] [Batch 700/1563] [D loss: -0.824096] [G loss: -0.546099]\n",
      "[Epoch 211] [Batch 800/1563] [D loss: 0.863721] [G loss: -0.427759]\n",
      "[Epoch 211] [Batch 900/1563] [D loss: -0.276694] [G loss: -1.884646]\n",
      "[Epoch 211] [Batch 1000/1563] [D loss: 0.534144] [G loss: -1.055535]\n",
      "[Epoch 211] [Batch 1100/1563] [D loss: 0.041185] [G loss: -0.965485]\n",
      "[Epoch 211] [Batch 1200/1563] [D loss: 0.770217] [G loss: -2.006724]\n",
      "[Epoch 211] [Batch 1300/1563] [D loss: -0.014080] [G loss: -2.587170]\n",
      "[Epoch 211] [Batch 1400/1563] [D loss: 0.895075] [G loss: -1.107239]\n",
      "[Epoch 211] [Batch 1500/1563] [D loss: -1.107206] [G loss: -2.068881]\n"
     ]
    },
    {
     "name": "stderr",
     "output_type": "stream",
     "text": [
      "sample images: 100%|██████████| 256/256 [00:05<00:00, 47.59it/s]\n"
     ]
    },
    {
     "name": "stdout",
     "output_type": "stream",
     "text": [
      "Warning: number of images is not a multiple of the batch size. Some samples are going to be ignored.\n"
     ]
    },
    {
     "name": "stderr",
     "output_type": "stream",
     "text": [
      "100%|██████████| 81/81 [00:04<00:00, 19.61it/s]\n"
     ]
    },
    {
     "name": "stdout",
     "output_type": "stream",
     "text": [
      "FID score: 54.60382080078125\n"
     ]
    },
    {
     "name": "stderr",
     "output_type": "stream",
     "text": [
      "sample images: 100%|██████████| 256/256 [00:05<00:00, 47.56it/s]\n"
     ]
    },
    {
     "name": "stdout",
     "output_type": "stream",
     "text": [
      "Inception score: 5.038392936441275\n",
      "----- Epoch Summary -----\n",
      "Dis Loss: -0.022926 - Gen Loss: -1.385662 - Dis LR: 2.06107e-05 - Gen LR: 2.06107e-05\n",
      "FID score: 54.60382080078125 - Inception score: 5.038392936441275 || @ epoch 211.\n",
      "Best FID score: 47.301239013671875 @ epoch 181\n",
      "-----      End      -----\n",
      "\n",
      "------- Epoch 212 -------\n",
      "[Epoch 212] [Batch 100/1563] [D loss: -0.591728] [G loss: -0.226104]\n",
      "[Epoch 212] [Batch 200/1563] [D loss: -0.372669] [G loss: -1.354337]\n",
      "[Epoch 212] [Batch 300/1563] [D loss: 0.107348] [G loss: -0.734074]\n",
      "[Epoch 212] [Batch 400/1563] [D loss: -2.017366] [G loss: -2.848235]\n",
      "[Epoch 212] [Batch 500/1563] [D loss: -0.390686] [G loss: -2.211859]\n",
      "[Epoch 212] [Batch 600/1563] [D loss: 0.351167] [G loss: -1.117657]\n",
      "[Epoch 212] [Batch 700/1563] [D loss: -0.820935] [G loss: -2.491632]\n",
      "[Epoch 212] [Batch 800/1563] [D loss: 0.469643] [G loss: -2.674590]\n",
      "[Epoch 212] [Batch 900/1563] [D loss: 1.675689] [G loss: -1.424953]\n",
      "[Epoch 212] [Batch 1000/1563] [D loss: -1.679003] [G loss: -3.176545]\n",
      "[Epoch 212] [Batch 1100/1563] [D loss: -1.876448] [G loss: -2.298666]\n",
      "[Epoch 212] [Batch 1200/1563] [D loss: -0.962249] [G loss: -1.163084]\n",
      "[Epoch 212] [Batch 1300/1563] [D loss: -1.576389] [G loss: 0.350018]\n",
      "[Epoch 212] [Batch 1400/1563] [D loss: -1.611650] [G loss: -0.348904]\n",
      "[Epoch 212] [Batch 1500/1563] [D loss: -0.183258] [G loss: -1.734927]\n"
     ]
    },
    {
     "name": "stderr",
     "output_type": "stream",
     "text": [
      "sample images: 100%|██████████| 256/256 [00:05<00:00, 47.57it/s]\n"
     ]
    },
    {
     "name": "stdout",
     "output_type": "stream",
     "text": [
      "Warning: number of images is not a multiple of the batch size. Some samples are going to be ignored.\n"
     ]
    },
    {
     "name": "stderr",
     "output_type": "stream",
     "text": [
      "100%|██████████| 81/81 [00:04<00:00, 19.57it/s]\n"
     ]
    },
    {
     "name": "stdout",
     "output_type": "stream",
     "text": [
      "FID score: 55.13824462890625\n"
     ]
    },
    {
     "name": "stderr",
     "output_type": "stream",
     "text": [
      "sample images: 100%|██████████| 256/256 [00:05<00:00, 47.26it/s]\n"
     ]
    },
    {
     "name": "stdout",
     "output_type": "stream",
     "text": [
      "Inception score: 5.628914194747689\n",
      "----- Epoch Summary -----\n",
      "Dis Loss: -0.029099 - Gen Loss: -1.472759 - Dis LR: 2.01888e-05 - Gen LR: 2.01888e-05\n",
      "FID score: 55.13824462890625 - Inception score: 5.628914194747689 || @ epoch 212.\n",
      "Best FID score: 47.301239013671875 @ epoch 181\n",
      "-----      End      -----\n",
      "\n",
      "------- Epoch 213 -------\n",
      "[Epoch 213] [Batch 100/1563] [D loss: 0.222200] [G loss: -1.451403]\n",
      "[Epoch 213] [Batch 200/1563] [D loss: -1.410209] [G loss: -0.969988]\n",
      "[Epoch 213] [Batch 300/1563] [D loss: -0.091086] [G loss: -0.879719]\n",
      "[Epoch 213] [Batch 400/1563] [D loss: -0.066645] [G loss: -2.061818]\n",
      "[Epoch 213] [Batch 500/1563] [D loss: -1.891161] [G loss: -0.360715]\n",
      "[Epoch 213] [Batch 600/1563] [D loss: 0.578137] [G loss: -1.878474]\n",
      "[Epoch 213] [Batch 700/1563] [D loss: 0.792699] [G loss: -0.169908]\n",
      "[Epoch 213] [Batch 800/1563] [D loss: 1.160108] [G loss: -0.759210]\n",
      "[Epoch 213] [Batch 900/1563] [D loss: -0.933239] [G loss: -1.625073]\n",
      "[Epoch 213] [Batch 1000/1563] [D loss: -2.698496] [G loss: -0.415694]\n",
      "[Epoch 213] [Batch 1100/1563] [D loss: -1.594374] [G loss: -1.253801]\n",
      "[Epoch 213] [Batch 1200/1563] [D loss: 0.892751] [G loss: -1.752129]\n",
      "[Epoch 213] [Batch 1300/1563] [D loss: 1.005429] [G loss: -2.241601]\n",
      "[Epoch 213] [Batch 1400/1563] [D loss: 1.594315] [G loss: -1.181864]\n",
      "[Epoch 213] [Batch 1500/1563] [D loss: 0.870981] [G loss: -2.654344]\n"
     ]
    },
    {
     "name": "stderr",
     "output_type": "stream",
     "text": [
      "sample images: 100%|██████████| 256/256 [00:05<00:00, 47.60it/s]\n"
     ]
    },
    {
     "name": "stdout",
     "output_type": "stream",
     "text": [
      "Warning: number of images is not a multiple of the batch size. Some samples are going to be ignored.\n"
     ]
    },
    {
     "name": "stderr",
     "output_type": "stream",
     "text": [
      "100%|██████████| 81/81 [00:04<00:00, 19.61it/s]\n"
     ]
    },
    {
     "name": "stdout",
     "output_type": "stream",
     "text": [
      "FID score: 50.508514404296875\n"
     ]
    },
    {
     "name": "stderr",
     "output_type": "stream",
     "text": [
      "sample images: 100%|██████████| 256/256 [00:05<00:00, 47.61it/s]\n"
     ]
    },
    {
     "name": "stdout",
     "output_type": "stream",
     "text": [
      "Inception score: 5.370232741863205\n",
      "----- Epoch Summary -----\n",
      "Dis Loss: -0.082542 - Gen Loss: -1.308059 - Dis LR: 1.977e-05 - Gen LR: 1.977e-05\n",
      "FID score: 50.508514404296875 - Inception score: 5.370232741863205 || @ epoch 213.\n",
      "Best FID score: 47.301239013671875 @ epoch 181\n",
      "-----      End      -----\n",
      "\n",
      "------- Epoch 214 -------\n",
      "[Epoch 214] [Batch 100/1563] [D loss: -0.052278] [G loss: -1.440592]\n",
      "[Epoch 214] [Batch 200/1563] [D loss: 0.392864] [G loss: -2.460436]\n",
      "[Epoch 214] [Batch 300/1563] [D loss: 0.362641] [G loss: -1.801318]\n",
      "[Epoch 214] [Batch 400/1563] [D loss: -1.669423] [G loss: -2.574056]\n",
      "[Epoch 214] [Batch 500/1563] [D loss: 1.238886] [G loss: -2.700250]\n",
      "[Epoch 214] [Batch 600/1563] [D loss: 2.092359] [G loss: -0.561157]\n",
      "[Epoch 214] [Batch 700/1563] [D loss: -1.679465] [G loss: -2.255524]\n",
      "[Epoch 214] [Batch 800/1563] [D loss: -2.182432] [G loss: -1.755543]\n",
      "[Epoch 214] [Batch 900/1563] [D loss: 1.334457] [G loss: -3.534152]\n",
      "[Epoch 214] [Batch 1000/1563] [D loss: -0.690844] [G loss: -2.645187]\n",
      "[Epoch 214] [Batch 1100/1563] [D loss: -1.804075] [G loss: -1.283783]\n",
      "[Epoch 214] [Batch 1200/1563] [D loss: 0.550315] [G loss: -2.359020]\n",
      "[Epoch 214] [Batch 1300/1563] [D loss: 1.727659] [G loss: -1.698509]\n",
      "[Epoch 214] [Batch 1400/1563] [D loss: 0.142407] [G loss: -1.788416]\n",
      "[Epoch 214] [Batch 1500/1563] [D loss: 0.878815] [G loss: -0.858760]\n"
     ]
    },
    {
     "name": "stderr",
     "output_type": "stream",
     "text": [
      "sample images: 100%|██████████| 256/256 [00:05<00:00, 47.59it/s]\n"
     ]
    },
    {
     "name": "stdout",
     "output_type": "stream",
     "text": [
      "Warning: number of images is not a multiple of the batch size. Some samples are going to be ignored.\n"
     ]
    },
    {
     "name": "stderr",
     "output_type": "stream",
     "text": [
      "100%|██████████| 81/81 [00:04<00:00, 19.61it/s]\n"
     ]
    },
    {
     "name": "stdout",
     "output_type": "stream",
     "text": [
      "FID score: 59.96905517578125\n"
     ]
    },
    {
     "name": "stderr",
     "output_type": "stream",
     "text": [
      "sample images: 100%|██████████| 256/256 [00:05<00:00, 47.45it/s]\n"
     ]
    },
    {
     "name": "stdout",
     "output_type": "stream",
     "text": [
      "Inception score: 4.959874774861005\n",
      "----- Epoch Summary -----\n",
      "Dis Loss: -0.025723 - Gen Loss: -1.751230 - Dis LR: 1.93546e-05 - Gen LR: 1.93546e-05\n",
      "FID score: 59.96905517578125 - Inception score: 4.959874774861005 || @ epoch 214.\n",
      "Best FID score: 47.301239013671875 @ epoch 181\n",
      "-----      End      -----\n",
      "\n",
      "------- Epoch 215 -------\n",
      "[Epoch 215] [Batch 100/1563] [D loss: 1.781982] [G loss: -1.745556]\n",
      "[Epoch 215] [Batch 200/1563] [D loss: 0.348631] [G loss: -1.896114]\n",
      "[Epoch 215] [Batch 300/1563] [D loss: -0.806411] [G loss: -1.752703]\n",
      "[Epoch 215] [Batch 400/1563] [D loss: 0.009167] [G loss: -0.686543]\n",
      "[Epoch 215] [Batch 500/1563] [D loss: -0.933035] [G loss: -0.985160]\n",
      "[Epoch 215] [Batch 600/1563] [D loss: -0.142363] [G loss: -2.028061]\n",
      "[Epoch 215] [Batch 700/1563] [D loss: 0.238376] [G loss: -0.263459]\n",
      "[Epoch 215] [Batch 800/1563] [D loss: 0.410676] [G loss: -1.923898]\n",
      "[Epoch 215] [Batch 900/1563] [D loss: -0.585722] [G loss: -2.115329]\n",
      "[Epoch 215] [Batch 1000/1563] [D loss: -0.450284] [G loss: -1.336670]\n",
      "[Epoch 215] [Batch 1100/1563] [D loss: -1.385918] [G loss: -2.020748]\n",
      "[Epoch 215] [Batch 1200/1563] [D loss: -2.362583] [G loss: -0.957473]\n",
      "[Epoch 215] [Batch 1300/1563] [D loss: 1.475368] [G loss: -0.245401]\n",
      "[Epoch 215] [Batch 1400/1563] [D loss: -1.434546] [G loss: -0.418849]\n",
      "[Epoch 215] [Batch 1500/1563] [D loss: -1.859991] [G loss: -1.581006]\n"
     ]
    },
    {
     "name": "stderr",
     "output_type": "stream",
     "text": [
      "sample images: 100%|██████████| 256/256 [00:05<00:00, 47.54it/s]\n"
     ]
    },
    {
     "name": "stdout",
     "output_type": "stream",
     "text": [
      "Warning: number of images is not a multiple of the batch size. Some samples are going to be ignored.\n"
     ]
    },
    {
     "name": "stderr",
     "output_type": "stream",
     "text": [
      "100%|██████████| 81/81 [00:04<00:00, 19.57it/s]\n"
     ]
    },
    {
     "name": "stdout",
     "output_type": "stream",
     "text": [
      "FID score: 51.81732177734375\n"
     ]
    },
    {
     "name": "stderr",
     "output_type": "stream",
     "text": [
      "sample images: 100%|██████████| 256/256 [00:05<00:00, 47.65it/s]\n"
     ]
    },
    {
     "name": "stdout",
     "output_type": "stream",
     "text": [
      "Inception score: 5.380914056966855\n",
      "----- Epoch Summary -----\n",
      "Dis Loss: -0.021032 - Gen Loss: -1.459420 - Dis LR: 1.89426e-05 - Gen LR: 1.89426e-05\n",
      "FID score: 51.81732177734375 - Inception score: 5.380914056966855 || @ epoch 215.\n",
      "Best FID score: 47.301239013671875 @ epoch 181\n",
      "-----      End      -----\n",
      "\n",
      "------- Epoch 216 -------\n",
      "[Epoch 216] [Batch 0/1563] [D loss: -0.122657] [G loss: 0.073071]\n",
      "[Epoch 216] [Batch 100/1563] [D loss: -2.506433] [G loss: -0.287154]\n",
      "[Epoch 216] [Batch 200/1563] [D loss: -0.329597] [G loss: -2.212281]\n",
      "[Epoch 216] [Batch 300/1563] [D loss: 2.473422] [G loss: -1.504905]\n",
      "[Epoch 216] [Batch 400/1563] [D loss: 0.920249] [G loss: -1.135420]\n",
      "[Epoch 216] [Batch 500/1563] [D loss: 2.494939] [G loss: -2.414692]\n",
      "[Epoch 216] [Batch 600/1563] [D loss: -0.695770] [G loss: -1.365727]\n",
      "[Epoch 216] [Batch 700/1563] [D loss: 1.104870] [G loss: -3.116785]\n",
      "[Epoch 216] [Batch 800/1563] [D loss: -1.799967] [G loss: -2.820502]\n",
      "[Epoch 216] [Batch 900/1563] [D loss: 1.785961] [G loss: -2.337336]\n",
      "[Epoch 216] [Batch 1000/1563] [D loss: 0.634958] [G loss: -0.391102]\n",
      "[Epoch 216] [Batch 1100/1563] [D loss: 0.637458] [G loss: -1.412513]\n",
      "[Epoch 216] [Batch 1200/1563] [D loss: 1.407431] [G loss: -0.159661]\n",
      "[Epoch 216] [Batch 1300/1563] [D loss: 1.006710] [G loss: -1.287714]\n",
      "[Epoch 216] [Batch 1400/1563] [D loss: -0.420772] [G loss: -1.218795]\n",
      "[Epoch 216] [Batch 1500/1563] [D loss: 0.444353] [G loss: -0.756573]\n"
     ]
    },
    {
     "name": "stderr",
     "output_type": "stream",
     "text": [
      "sample images: 100%|██████████| 256/256 [00:05<00:00, 47.42it/s]\n"
     ]
    },
    {
     "name": "stdout",
     "output_type": "stream",
     "text": [
      "Warning: number of images is not a multiple of the batch size. Some samples are going to be ignored.\n"
     ]
    },
    {
     "name": "stderr",
     "output_type": "stream",
     "text": [
      "100%|██████████| 81/81 [00:04<00:00, 19.54it/s]\n"
     ]
    },
    {
     "name": "stdout",
     "output_type": "stream",
     "text": [
      "FID score: 50.182525634765625\n"
     ]
    },
    {
     "name": "stderr",
     "output_type": "stream",
     "text": [
      "sample images: 100%|██████████| 256/256 [00:05<00:00, 47.52it/s]\n"
     ]
    },
    {
     "name": "stdout",
     "output_type": "stream",
     "text": [
      "Inception score: 5.558441186888827\n",
      "----- Epoch Summary -----\n",
      "Dis Loss: -0.036463 - Gen Loss: -1.539415 - Dis LR: 1.8534e-05 - Gen LR: 1.8534e-05\n",
      "FID score: 50.182525634765625 - Inception score: 5.558441186888827 || @ epoch 216.\n",
      "Best FID score: 47.301239013671875 @ epoch 181\n",
      "-----      End      -----\n",
      "\n",
      "------- Epoch 217 -------\n",
      "[Epoch 217] [Batch 100/1563] [D loss: 0.247034] [G loss: -2.158809]\n",
      "[Epoch 217] [Batch 200/1563] [D loss: -0.713640] [G loss: -0.924884]\n",
      "[Epoch 217] [Batch 300/1563] [D loss: 0.655004] [G loss: -1.723705]\n",
      "[Epoch 217] [Batch 400/1563] [D loss: 1.352759] [G loss: -0.975796]\n",
      "[Epoch 217] [Batch 500/1563] [D loss: -0.328176] [G loss: -1.276852]\n",
      "[Epoch 217] [Batch 600/1563] [D loss: -0.842367] [G loss: -0.881287]\n",
      "[Epoch 217] [Batch 700/1563] [D loss: -1.348249] [G loss: -1.038134]\n",
      "[Epoch 217] [Batch 800/1563] [D loss: -0.114598] [G loss: -2.707862]\n",
      "[Epoch 217] [Batch 900/1563] [D loss: 0.096198] [G loss: -1.168391]\n",
      "[Epoch 217] [Batch 1000/1563] [D loss: 0.749004] [G loss: -1.193973]\n",
      "[Epoch 217] [Batch 1100/1563] [D loss: -1.634520] [G loss: -1.831175]\n",
      "[Epoch 217] [Batch 1200/1563] [D loss: 0.718699] [G loss: -1.682650]\n",
      "[Epoch 217] [Batch 1300/1563] [D loss: 1.507985] [G loss: -0.296826]\n",
      "[Epoch 217] [Batch 1400/1563] [D loss: -1.699837] [G loss: -2.926663]\n",
      "[Epoch 217] [Batch 1500/1563] [D loss: -0.697699] [G loss: -1.441390]\n"
     ]
    },
    {
     "name": "stderr",
     "output_type": "stream",
     "text": [
      "sample images: 100%|██████████| 256/256 [00:05<00:00, 47.54it/s]\n"
     ]
    },
    {
     "name": "stdout",
     "output_type": "stream",
     "text": [
      "Warning: number of images is not a multiple of the batch size. Some samples are going to be ignored.\n"
     ]
    },
    {
     "name": "stderr",
     "output_type": "stream",
     "text": [
      "100%|██████████| 81/81 [00:04<00:00, 19.54it/s]\n"
     ]
    },
    {
     "name": "stdout",
     "output_type": "stream",
     "text": [
      "FID score: 46.537933349609375\n"
     ]
    },
    {
     "name": "stderr",
     "output_type": "stream",
     "text": [
      "sample images: 100%|██████████| 256/256 [00:05<00:00, 47.49it/s]\n"
     ]
    },
    {
     "name": "stdout",
     "output_type": "stream",
     "text": [
      "Inception score: 5.53690035368901\n",
      "Saved Latest Model!\n",
      "----- Epoch Summary -----\n",
      "Dis Loss: -0.032917 - Gen Loss: -1.582873 - Dis LR: 1.81288e-05 - Gen LR: 1.81288e-05\n",
      "FID score: 46.537933349609375 - Inception score: 5.53690035368901 || @ epoch 217.\n",
      "Best FID score: 46.537933349609375 @ epoch 217\n",
      "-----      End      -----\n",
      "\n",
      "------- Epoch 218 -------\n",
      "[Epoch 218] [Batch 100/1563] [D loss: 1.061765] [G loss: -0.846743]\n",
      "[Epoch 218] [Batch 200/1563] [D loss: 2.597247] [G loss: -0.070703]\n",
      "[Epoch 218] [Batch 300/1563] [D loss: 1.346368] [G loss: -1.865874]\n",
      "[Epoch 218] [Batch 400/1563] [D loss: -1.651906] [G loss: -0.831635]\n",
      "[Epoch 218] [Batch 500/1563] [D loss: 1.299885] [G loss: -2.116063]\n",
      "[Epoch 218] [Batch 600/1563] [D loss: 0.735208] [G loss: -0.835485]\n",
      "[Epoch 218] [Batch 700/1563] [D loss: -1.512502] [G loss: -1.279860]\n",
      "[Epoch 218] [Batch 800/1563] [D loss: 0.896054] [G loss: -2.560757]\n",
      "[Epoch 218] [Batch 900/1563] [D loss: 3.566328] [G loss: -0.851309]\n",
      "[Epoch 218] [Batch 1000/1563] [D loss: -2.739907] [G loss: -1.409328]\n",
      "[Epoch 218] [Batch 1100/1563] [D loss: -0.229927] [G loss: -3.906443]\n",
      "[Epoch 218] [Batch 1200/1563] [D loss: -2.217508] [G loss: -1.768786]\n",
      "[Epoch 218] [Batch 1300/1563] [D loss: 0.675045] [G loss: -0.303126]\n",
      "[Epoch 218] [Batch 1400/1563] [D loss: -1.781934] [G loss: -1.478429]\n",
      "[Epoch 218] [Batch 1500/1563] [D loss: -1.094976] [G loss: -1.245111]\n"
     ]
    },
    {
     "name": "stderr",
     "output_type": "stream",
     "text": [
      "sample images: 100%|██████████| 256/256 [00:05<00:00, 47.53it/s]\n"
     ]
    },
    {
     "name": "stdout",
     "output_type": "stream",
     "text": [
      "Warning: number of images is not a multiple of the batch size. Some samples are going to be ignored.\n"
     ]
    },
    {
     "name": "stderr",
     "output_type": "stream",
     "text": [
      "100%|██████████| 81/81 [00:04<00:00, 19.58it/s]\n"
     ]
    },
    {
     "name": "stdout",
     "output_type": "stream",
     "text": [
      "FID score: 46.6580810546875\n"
     ]
    },
    {
     "name": "stderr",
     "output_type": "stream",
     "text": [
      "sample images: 100%|██████████| 256/256 [00:05<00:00, 47.52it/s]\n"
     ]
    },
    {
     "name": "stdout",
     "output_type": "stream",
     "text": [
      "Inception score: 5.5112098555284765\n",
      "----- Epoch Summary -----\n",
      "Dis Loss: -0.032532 - Gen Loss: -1.580766 - Dis LR: 1.77271e-05 - Gen LR: 1.77271e-05\n",
      "FID score: 46.6580810546875 - Inception score: 5.5112098555284765 || @ epoch 218.\n",
      "Best FID score: 46.537933349609375 @ epoch 217\n",
      "-----      End      -----\n",
      "\n",
      "------- Epoch 219 -------\n",
      "[Epoch 219] [Batch 100/1563] [D loss: 0.780135] [G loss: -1.795727]\n",
      "[Epoch 219] [Batch 200/1563] [D loss: 2.681291] [G loss: -0.556462]\n",
      "[Epoch 219] [Batch 300/1563] [D loss: -1.308345] [G loss: -1.275339]\n",
      "[Epoch 219] [Batch 400/1563] [D loss: 0.880984] [G loss: -1.962316]\n",
      "[Epoch 219] [Batch 500/1563] [D loss: -0.606844] [G loss: -2.429294]\n",
      "[Epoch 219] [Batch 600/1563] [D loss: 1.458670] [G loss: 0.188686]\n",
      "[Epoch 219] [Batch 700/1563] [D loss: 0.555901] [G loss: -1.574257]\n",
      "[Epoch 219] [Batch 800/1563] [D loss: 1.233666] [G loss: 0.181306]\n",
      "[Epoch 219] [Batch 900/1563] [D loss: -2.720891] [G loss: -3.138084]\n",
      "[Epoch 219] [Batch 1000/1563] [D loss: -1.315909] [G loss: -0.518964]\n",
      "[Epoch 219] [Batch 1100/1563] [D loss: 0.236998] [G loss: -1.891428]\n",
      "[Epoch 219] [Batch 1200/1563] [D loss: -1.101035] [G loss: -1.814666]\n",
      "[Epoch 219] [Batch 1300/1563] [D loss: 0.706935] [G loss: -1.879503]\n",
      "[Epoch 219] [Batch 1400/1563] [D loss: -0.654385] [G loss: -2.261464]\n",
      "[Epoch 219] [Batch 1500/1563] [D loss: -2.693439] [G loss: -1.376890]\n"
     ]
    },
    {
     "name": "stderr",
     "output_type": "stream",
     "text": [
      "sample images: 100%|██████████| 256/256 [00:05<00:00, 47.48it/s]\n"
     ]
    },
    {
     "name": "stdout",
     "output_type": "stream",
     "text": [
      "Warning: number of images is not a multiple of the batch size. Some samples are going to be ignored.\n"
     ]
    },
    {
     "name": "stderr",
     "output_type": "stream",
     "text": [
      "100%|██████████| 81/81 [00:04<00:00, 19.55it/s]\n"
     ]
    },
    {
     "name": "stdout",
     "output_type": "stream",
     "text": [
      "FID score: 53.48858642578125\n"
     ]
    },
    {
     "name": "stderr",
     "output_type": "stream",
     "text": [
      "sample images: 100%|██████████| 256/256 [00:05<00:00, 47.48it/s]\n"
     ]
    },
    {
     "name": "stdout",
     "output_type": "stream",
     "text": [
      "Inception score: 5.451477104916293\n",
      "----- Epoch Summary -----\n",
      "Dis Loss: -0.022472 - Gen Loss: -1.582220 - Dis LR: 1.7329e-05 - Gen LR: 1.7329e-05\n",
      "FID score: 53.48858642578125 - Inception score: 5.451477104916293 || @ epoch 219.\n",
      "Best FID score: 46.537933349609375 @ epoch 217\n",
      "-----      End      -----\n",
      "\n",
      "------- Epoch 220 -------\n",
      "[Epoch 220] [Batch 100/1563] [D loss: 0.889273] [G loss: -0.446735]\n",
      "[Epoch 220] [Batch 200/1563] [D loss: -0.284059] [G loss: -1.953765]\n",
      "[Epoch 220] [Batch 300/1563] [D loss: 0.530258] [G loss: -2.002688]\n",
      "[Epoch 220] [Batch 400/1563] [D loss: 1.872968] [G loss: -0.965949]\n",
      "[Epoch 220] [Batch 500/1563] [D loss: 0.736400] [G loss: -1.454725]\n",
      "[Epoch 220] [Batch 600/1563] [D loss: 0.742617] [G loss: -1.582671]\n",
      "[Epoch 220] [Batch 700/1563] [D loss: -1.296982] [G loss: -0.709236]\n",
      "[Epoch 220] [Batch 800/1563] [D loss: -0.072272] [G loss: -1.275012]\n",
      "[Epoch 220] [Batch 900/1563] [D loss: 1.677711] [G loss: -2.413754]\n",
      "[Epoch 220] [Batch 1000/1563] [D loss: 0.474198] [G loss: -1.428979]\n",
      "[Epoch 220] [Batch 1100/1563] [D loss: -0.222508] [G loss: -1.400544]\n",
      "[Epoch 220] [Batch 1200/1563] [D loss: -1.009391] [G loss: -2.635030]\n",
      "[Epoch 220] [Batch 1300/1563] [D loss: -1.904991] [G loss: -1.817360]\n",
      "[Epoch 220] [Batch 1400/1563] [D loss: -0.570041] [G loss: 0.074838]\n",
      "[Epoch 220] [Batch 1500/1563] [D loss: -1.451774] [G loss: -0.592946]\n"
     ]
    },
    {
     "name": "stderr",
     "output_type": "stream",
     "text": [
      "sample images: 100%|██████████| 256/256 [00:05<00:00, 47.49it/s]\n"
     ]
    },
    {
     "name": "stdout",
     "output_type": "stream",
     "text": [
      "Warning: number of images is not a multiple of the batch size. Some samples are going to be ignored.\n"
     ]
    },
    {
     "name": "stderr",
     "output_type": "stream",
     "text": [
      "100%|██████████| 81/81 [00:04<00:00, 19.56it/s]\n"
     ]
    },
    {
     "name": "stdout",
     "output_type": "stream",
     "text": [
      "FID score: 51.75225830078125\n"
     ]
    },
    {
     "name": "stderr",
     "output_type": "stream",
     "text": [
      "sample images: 100%|██████████| 256/256 [00:05<00:00, 47.50it/s]\n"
     ]
    },
    {
     "name": "stdout",
     "output_type": "stream",
     "text": [
      "Inception score: 5.536262910798591\n",
      "----- Epoch Summary -----\n",
      "Dis Loss: -0.019467 - Gen Loss: -1.484244 - Dis LR: 1.69344e-05 - Gen LR: 1.69344e-05\n",
      "FID score: 51.75225830078125 - Inception score: 5.536262910798591 || @ epoch 220.\n",
      "Best FID score: 46.537933349609375 @ epoch 217\n",
      "-----      End      -----\n",
      "\n",
      "------- Epoch 221 -------\n",
      "[Epoch 221] [Batch 0/1563] [D loss: 0.934983] [G loss: -0.159391]\n",
      "[Epoch 221] [Batch 100/1563] [D loss: -0.226223] [G loss: -2.271893]\n",
      "[Epoch 221] [Batch 200/1563] [D loss: -0.766718] [G loss: -1.256333]\n",
      "[Epoch 221] [Batch 300/1563] [D loss: 0.014065] [G loss: -1.831065]\n",
      "[Epoch 221] [Batch 400/1563] [D loss: -0.468607] [G loss: 0.100635]\n",
      "[Epoch 221] [Batch 500/1563] [D loss: -0.769078] [G loss: -1.426922]\n",
      "[Epoch 221] [Batch 600/1563] [D loss: -0.306852] [G loss: -0.328561]\n",
      "[Epoch 221] [Batch 700/1563] [D loss: 2.359663] [G loss: 0.301260]\n",
      "[Epoch 221] [Batch 800/1563] [D loss: 0.268435] [G loss: -3.117738]\n",
      "[Epoch 221] [Batch 900/1563] [D loss: -0.777197] [G loss: -0.959315]\n",
      "[Epoch 221] [Batch 1000/1563] [D loss: -0.477365] [G loss: -2.021620]\n",
      "[Epoch 221] [Batch 1100/1563] [D loss: -1.572092] [G loss: -2.186644]\n",
      "[Epoch 221] [Batch 1200/1563] [D loss: -2.069078] [G loss: -0.949774]\n",
      "[Epoch 221] [Batch 1300/1563] [D loss: 0.481295] [G loss: -0.419660]\n",
      "[Epoch 221] [Batch 1400/1563] [D loss: -0.019304] [G loss: -1.374500]\n",
      "[Epoch 221] [Batch 1500/1563] [D loss: -0.322615] [G loss: -1.739758]\n"
     ]
    },
    {
     "name": "stderr",
     "output_type": "stream",
     "text": [
      "sample images: 100%|██████████| 256/256 [00:05<00:00, 47.49it/s]\n"
     ]
    },
    {
     "name": "stdout",
     "output_type": "stream",
     "text": [
      "Warning: number of images is not a multiple of the batch size. Some samples are going to be ignored.\n"
     ]
    },
    {
     "name": "stderr",
     "output_type": "stream",
     "text": [
      "100%|██████████| 81/81 [00:04<00:00, 19.56it/s]\n"
     ]
    },
    {
     "name": "stdout",
     "output_type": "stream",
     "text": [
      "FID score: 51.41436767578125\n"
     ]
    },
    {
     "name": "stderr",
     "output_type": "stream",
     "text": [
      "sample images: 100%|██████████| 256/256 [00:05<00:00, 47.52it/s]\n"
     ]
    },
    {
     "name": "stdout",
     "output_type": "stream",
     "text": [
      "Inception score: 5.4073805240965545\n",
      "----- Epoch Summary -----\n",
      "Dis Loss: -0.023582 - Gen Loss: -1.342675 - Dis LR: 1.65435e-05 - Gen LR: 1.65435e-05\n",
      "FID score: 51.41436767578125 - Inception score: 5.4073805240965545 || @ epoch 221.\n",
      "Best FID score: 46.537933349609375 @ epoch 217\n",
      "-----      End      -----\n",
      "\n",
      "------- Epoch 222 -------\n",
      "[Epoch 222] [Batch 100/1563] [D loss: 0.083692] [G loss: -0.589141]\n",
      "[Epoch 222] [Batch 200/1563] [D loss: 0.762207] [G loss: -0.837826]\n",
      "[Epoch 222] [Batch 300/1563] [D loss: -0.840572] [G loss: -2.214974]\n",
      "[Epoch 222] [Batch 400/1563] [D loss: -1.772229] [G loss: -1.146233]\n",
      "[Epoch 222] [Batch 500/1563] [D loss: 0.636662] [G loss: -1.016755]\n",
      "[Epoch 222] [Batch 600/1563] [D loss: -0.565201] [G loss: -0.366500]\n",
      "[Epoch 222] [Batch 700/1563] [D loss: -2.572046] [G loss: -1.412999]\n",
      "[Epoch 222] [Batch 800/1563] [D loss: -1.035325] [G loss: -1.073630]\n",
      "[Epoch 222] [Batch 900/1563] [D loss: -0.159205] [G loss: -0.083508]\n",
      "[Epoch 222] [Batch 1000/1563] [D loss: -0.550892] [G loss: -0.342147]\n",
      "[Epoch 222] [Batch 1100/1563] [D loss: -0.397895] [G loss: -1.470819]\n",
      "[Epoch 222] [Batch 1200/1563] [D loss: -0.208281] [G loss: -0.992772]\n",
      "[Epoch 222] [Batch 1300/1563] [D loss: -0.154015] [G loss: -3.221918]\n",
      "[Epoch 222] [Batch 1400/1563] [D loss: 0.330984] [G loss: 0.463039]\n",
      "[Epoch 222] [Batch 1500/1563] [D loss: -0.316683] [G loss: -1.369431]\n"
     ]
    },
    {
     "name": "stderr",
     "output_type": "stream",
     "text": [
      "sample images: 100%|██████████| 256/256 [00:05<00:00, 47.65it/s]\n"
     ]
    },
    {
     "name": "stdout",
     "output_type": "stream",
     "text": [
      "Warning: number of images is not a multiple of the batch size. Some samples are going to be ignored.\n"
     ]
    },
    {
     "name": "stderr",
     "output_type": "stream",
     "text": [
      "100%|██████████| 81/81 [00:04<00:00, 19.55it/s]\n"
     ]
    },
    {
     "name": "stdout",
     "output_type": "stream",
     "text": [
      "FID score: 54.647674560546875\n"
     ]
    },
    {
     "name": "stderr",
     "output_type": "stream",
     "text": [
      "sample images: 100%|██████████| 256/256 [00:05<00:00, 47.50it/s]\n"
     ]
    },
    {
     "name": "stdout",
     "output_type": "stream",
     "text": [
      "Inception score: 5.588753829823236\n",
      "----- Epoch Summary -----\n",
      "Dis Loss: -0.001315 - Gen Loss: -1.243316 - Dis LR: 1.61562e-05 - Gen LR: 1.61562e-05\n",
      "FID score: 54.647674560546875 - Inception score: 5.588753829823236 || @ epoch 222.\n",
      "Best FID score: 46.537933349609375 @ epoch 217\n",
      "-----      End      -----\n",
      "\n",
      "------- Epoch 223 -------\n",
      "[Epoch 223] [Batch 100/1563] [D loss: -0.844013] [G loss: -1.081585]\n",
      "[Epoch 223] [Batch 200/1563] [D loss: -0.256839] [G loss: -1.150313]\n",
      "[Epoch 223] [Batch 300/1563] [D loss: -1.713294] [G loss: -3.053476]\n",
      "[Epoch 223] [Batch 400/1563] [D loss: 0.148229] [G loss: -1.339540]\n",
      "[Epoch 223] [Batch 500/1563] [D loss: -1.657146] [G loss: -0.661000]\n",
      "[Epoch 223] [Batch 600/1563] [D loss: -0.568412] [G loss: -0.859345]\n",
      "[Epoch 223] [Batch 700/1563] [D loss: 0.229110] [G loss: -0.111894]\n",
      "[Epoch 223] [Batch 800/1563] [D loss: 0.783356] [G loss: -0.201127]\n",
      "[Epoch 223] [Batch 900/1563] [D loss: -0.297444] [G loss: -0.895346]\n",
      "[Epoch 223] [Batch 1000/1563] [D loss: -0.642258] [G loss: -2.287299]\n",
      "[Epoch 223] [Batch 1100/1563] [D loss: -1.014787] [G loss: -1.120566]\n",
      "[Epoch 223] [Batch 1200/1563] [D loss: -1.484128] [G loss: -0.718084]\n",
      "[Epoch 223] [Batch 1300/1563] [D loss: 1.289271] [G loss: -1.350837]\n",
      "[Epoch 223] [Batch 1400/1563] [D loss: -0.037063] [G loss: -1.047594]\n",
      "[Epoch 223] [Batch 1500/1563] [D loss: -0.161088] [G loss: -1.765645]\n"
     ]
    },
    {
     "name": "stderr",
     "output_type": "stream",
     "text": [
      "sample images: 100%|██████████| 256/256 [00:05<00:00, 47.57it/s]\n"
     ]
    },
    {
     "name": "stdout",
     "output_type": "stream",
     "text": [
      "Warning: number of images is not a multiple of the batch size. Some samples are going to be ignored.\n"
     ]
    },
    {
     "name": "stderr",
     "output_type": "stream",
     "text": [
      "100%|██████████| 81/81 [00:04<00:00, 19.55it/s]\n"
     ]
    },
    {
     "name": "stdout",
     "output_type": "stream",
     "text": [
      "FID score: 51.222808837890625\n"
     ]
    },
    {
     "name": "stderr",
     "output_type": "stream",
     "text": [
      "sample images: 100%|██████████| 256/256 [00:05<00:00, 47.65it/s]\n"
     ]
    },
    {
     "name": "stdout",
     "output_type": "stream",
     "text": [
      "Inception score: 5.349608418917852\n",
      "----- Epoch Summary -----\n",
      "Dis Loss: -0.061721 - Gen Loss: -1.482849 - Dis LR: 1.57726e-05 - Gen LR: 1.57726e-05\n",
      "FID score: 51.222808837890625 - Inception score: 5.349608418917852 || @ epoch 223.\n",
      "Best FID score: 46.537933349609375 @ epoch 217\n",
      "-----      End      -----\n",
      "\n",
      "------- Epoch 224 -------\n",
      "[Epoch 224] [Batch 100/1563] [D loss: -0.903071] [G loss: -1.100964]\n",
      "[Epoch 224] [Batch 200/1563] [D loss: 0.867700] [G loss: -2.002781]\n",
      "[Epoch 224] [Batch 300/1563] [D loss: 1.112000] [G loss: -1.122759]\n",
      "[Epoch 224] [Batch 400/1563] [D loss: 0.546065] [G loss: -2.572804]\n",
      "[Epoch 224] [Batch 500/1563] [D loss: 0.199277] [G loss: -1.329048]\n",
      "[Epoch 224] [Batch 600/1563] [D loss: -0.205354] [G loss: -1.994573]\n",
      "[Epoch 224] [Batch 700/1563] [D loss: -2.166170] [G loss: -1.260644]\n",
      "[Epoch 224] [Batch 800/1563] [D loss: 0.742630] [G loss: -2.751320]\n",
      "[Epoch 224] [Batch 900/1563] [D loss: 0.460558] [G loss: -2.202795]\n",
      "[Epoch 224] [Batch 1000/1563] [D loss: 1.122315] [G loss: -1.249441]\n",
      "[Epoch 224] [Batch 1100/1563] [D loss: -0.339759] [G loss: -2.188996]\n",
      "[Epoch 224] [Batch 1200/1563] [D loss: 0.161285] [G loss: -1.517569]\n",
      "[Epoch 224] [Batch 1300/1563] [D loss: -0.060250] [G loss: -1.489892]\n",
      "[Epoch 224] [Batch 1400/1563] [D loss: -1.669372] [G loss: -1.479094]\n",
      "[Epoch 224] [Batch 1500/1563] [D loss: 1.176081] [G loss: -0.679585]\n"
     ]
    },
    {
     "name": "stderr",
     "output_type": "stream",
     "text": [
      "sample images: 100%|██████████| 256/256 [00:05<00:00, 47.48it/s]\n"
     ]
    },
    {
     "name": "stdout",
     "output_type": "stream",
     "text": [
      "Warning: number of images is not a multiple of the batch size. Some samples are going to be ignored.\n"
     ]
    },
    {
     "name": "stderr",
     "output_type": "stream",
     "text": [
      "100%|██████████| 81/81 [00:04<00:00, 19.51it/s]\n"
     ]
    },
    {
     "name": "stdout",
     "output_type": "stream",
     "text": [
      "FID score: 49.0460205078125\n"
     ]
    },
    {
     "name": "stderr",
     "output_type": "stream",
     "text": [
      "sample images: 100%|██████████| 256/256 [00:05<00:00, 47.39it/s]\n"
     ]
    },
    {
     "name": "stdout",
     "output_type": "stream",
     "text": [
      "Inception score: 5.71726514152293\n",
      "----- Epoch Summary -----\n",
      "Dis Loss: 0.003915 - Gen Loss: -1.512369 - Dis LR: 1.53928e-05 - Gen LR: 1.53928e-05\n",
      "FID score: 49.0460205078125 - Inception score: 5.71726514152293 || @ epoch 224.\n",
      "Best FID score: 46.537933349609375 @ epoch 217\n",
      "-----      End      -----\n",
      "\n",
      "------- Epoch 225 -------\n",
      "[Epoch 225] [Batch 100/1563] [D loss: -0.015062] [G loss: -0.830873]\n",
      "[Epoch 225] [Batch 200/1563] [D loss: 0.884859] [G loss: -2.958061]\n",
      "[Epoch 225] [Batch 300/1563] [D loss: 1.013084] [G loss: -1.901885]\n",
      "[Epoch 225] [Batch 400/1563] [D loss: -0.486061] [G loss: -1.416425]\n",
      "[Epoch 225] [Batch 500/1563] [D loss: 0.475158] [G loss: -0.505053]\n",
      "[Epoch 225] [Batch 600/1563] [D loss: -0.750533] [G loss: -1.358711]\n",
      "[Epoch 225] [Batch 700/1563] [D loss: -0.011949] [G loss: -1.447638]\n",
      "[Epoch 225] [Batch 800/1563] [D loss: 1.477260] [G loss: -1.866801]\n",
      "[Epoch 225] [Batch 900/1563] [D loss: 0.200522] [G loss: -3.190749]\n",
      "[Epoch 225] [Batch 1000/1563] [D loss: 1.448798] [G loss: -1.961684]\n",
      "[Epoch 225] [Batch 1100/1563] [D loss: -0.240071] [G loss: -3.008001]\n",
      "[Epoch 225] [Batch 1200/1563] [D loss: 2.340070] [G loss: -2.650519]\n",
      "[Epoch 225] [Batch 1300/1563] [D loss: -1.443761] [G loss: -0.684864]\n",
      "[Epoch 225] [Batch 1400/1563] [D loss: 0.458162] [G loss: -1.290465]\n",
      "[Epoch 225] [Batch 1500/1563] [D loss: 1.630254] [G loss: -2.264609]\n"
     ]
    },
    {
     "name": "stderr",
     "output_type": "stream",
     "text": [
      "sample images: 100%|██████████| 256/256 [00:05<00:00, 47.59it/s]\n"
     ]
    },
    {
     "name": "stdout",
     "output_type": "stream",
     "text": [
      "Warning: number of images is not a multiple of the batch size. Some samples are going to be ignored.\n"
     ]
    },
    {
     "name": "stderr",
     "output_type": "stream",
     "text": [
      "100%|██████████| 81/81 [00:04<00:00, 19.55it/s]\n"
     ]
    },
    {
     "name": "stdout",
     "output_type": "stream",
     "text": [
      "FID score: 55.605560302734375\n"
     ]
    },
    {
     "name": "stderr",
     "output_type": "stream",
     "text": [
      "sample images: 100%|██████████| 256/256 [00:05<00:00, 47.52it/s]\n"
     ]
    },
    {
     "name": "stdout",
     "output_type": "stream",
     "text": [
      "Inception score: 5.314261171721776\n",
      "----- Epoch Summary -----\n",
      "Dis Loss: -0.068183 - Gen Loss: -1.516716 - Dis LR: 1.50168e-05 - Gen LR: 1.50168e-05\n",
      "FID score: 55.605560302734375 - Inception score: 5.314261171721776 || @ epoch 225.\n",
      "Best FID score: 46.537933349609375 @ epoch 217\n",
      "-----      End      -----\n",
      "\n",
      "------- Epoch 226 -------\n",
      "[Epoch 226] [Batch 0/1563] [D loss: -0.161695] [G loss: -1.995285]\n",
      "[Epoch 226] [Batch 100/1563] [D loss: -0.640533] [G loss: -2.369408]\n",
      "[Epoch 226] [Batch 200/1563] [D loss: -2.160852] [G loss: -1.737947]\n",
      "[Epoch 226] [Batch 300/1563] [D loss: 1.416535] [G loss: -2.264556]\n",
      "[Epoch 226] [Batch 400/1563] [D loss: -0.196194] [G loss: -1.784968]\n",
      "[Epoch 226] [Batch 500/1563] [D loss: 1.479987] [G loss: -1.631400]\n",
      "[Epoch 226] [Batch 600/1563] [D loss: -2.398495] [G loss: -3.909802]\n",
      "[Epoch 226] [Batch 700/1563] [D loss: 0.483555] [G loss: -1.717524]\n",
      "[Epoch 226] [Batch 800/1563] [D loss: 1.623824] [G loss: -1.990474]\n",
      "[Epoch 226] [Batch 900/1563] [D loss: -0.441505] [G loss: -2.169279]\n",
      "[Epoch 226] [Batch 1000/1563] [D loss: -1.430025] [G loss: -1.151720]\n",
      "[Epoch 226] [Batch 1100/1563] [D loss: -2.059667] [G loss: -3.068313]\n",
      "[Epoch 226] [Batch 1200/1563] [D loss: -2.819436] [G loss: -2.913445]\n",
      "[Epoch 226] [Batch 1300/1563] [D loss: -0.100469] [G loss: -2.326262]\n",
      "[Epoch 226] [Batch 1400/1563] [D loss: 1.916940] [G loss: -1.664821]\n",
      "[Epoch 226] [Batch 1500/1563] [D loss: 0.265477] [G loss: -1.190563]\n"
     ]
    },
    {
     "name": "stderr",
     "output_type": "stream",
     "text": [
      "sample images: 100%|██████████| 256/256 [00:05<00:00, 47.66it/s]\n"
     ]
    },
    {
     "name": "stdout",
     "output_type": "stream",
     "text": [
      "Warning: number of images is not a multiple of the batch size. Some samples are going to be ignored.\n"
     ]
    },
    {
     "name": "stderr",
     "output_type": "stream",
     "text": [
      "100%|██████████| 81/81 [00:04<00:00, 19.56it/s]\n"
     ]
    },
    {
     "name": "stdout",
     "output_type": "stream",
     "text": [
      "FID score: 51.9349365234375\n"
     ]
    },
    {
     "name": "stderr",
     "output_type": "stream",
     "text": [
      "sample images: 100%|██████████| 256/256 [00:05<00:00, 47.24it/s]\n"
     ]
    },
    {
     "name": "stdout",
     "output_type": "stream",
     "text": [
      "Inception score: 5.431633852282005\n",
      "----- Epoch Summary -----\n",
      "Dis Loss: -0.098831 - Gen Loss: -1.757777 - Dis LR: 1.46447e-05 - Gen LR: 1.46447e-05\n",
      "FID score: 51.9349365234375 - Inception score: 5.431633852282005 || @ epoch 226.\n",
      "Best FID score: 46.537933349609375 @ epoch 217\n",
      "-----      End      -----\n",
      "\n",
      "------- Epoch 227 -------\n",
      "[Epoch 227] [Batch 100/1563] [D loss: -2.719059] [G loss: -2.650066]\n",
      "[Epoch 227] [Batch 200/1563] [D loss: -1.655004] [G loss: -4.140944]\n",
      "[Epoch 227] [Batch 300/1563] [D loss: 0.074595] [G loss: -1.541667]\n",
      "[Epoch 227] [Batch 400/1563] [D loss: -1.643780] [G loss: -2.007881]\n",
      "[Epoch 227] [Batch 500/1563] [D loss: -1.519657] [G loss: -1.939512]\n",
      "[Epoch 227] [Batch 600/1563] [D loss: -2.137062] [G loss: -1.626230]\n",
      "[Epoch 227] [Batch 700/1563] [D loss: 0.098419] [G loss: -3.087866]\n",
      "[Epoch 227] [Batch 800/1563] [D loss: -0.203813] [G loss: -2.392116]\n",
      "[Epoch 227] [Batch 900/1563] [D loss: 1.708141] [G loss: -3.087368]\n",
      "[Epoch 227] [Batch 1000/1563] [D loss: -0.111932] [G loss: -1.463584]\n",
      "[Epoch 227] [Batch 1100/1563] [D loss: -0.438775] [G loss: -1.592818]\n",
      "[Epoch 227] [Batch 1200/1563] [D loss: 0.109913] [G loss: -1.939845]\n",
      "[Epoch 227] [Batch 1300/1563] [D loss: -1.823345] [G loss: 0.906331]\n",
      "[Epoch 227] [Batch 1400/1563] [D loss: 2.270779] [G loss: -2.133811]\n",
      "[Epoch 227] [Batch 1500/1563] [D loss: -0.295597] [G loss: -3.080749]\n"
     ]
    },
    {
     "name": "stderr",
     "output_type": "stream",
     "text": [
      "sample images: 100%|██████████| 256/256 [00:05<00:00, 47.73it/s]\n"
     ]
    },
    {
     "name": "stdout",
     "output_type": "stream",
     "text": [
      "Warning: number of images is not a multiple of the batch size. Some samples are going to be ignored.\n"
     ]
    },
    {
     "name": "stderr",
     "output_type": "stream",
     "text": [
      "100%|██████████| 81/81 [00:04<00:00, 19.61it/s]\n"
     ]
    },
    {
     "name": "stdout",
     "output_type": "stream",
     "text": [
      "FID score: 47.4534912109375\n"
     ]
    },
    {
     "name": "stderr",
     "output_type": "stream",
     "text": [
      "sample images: 100%|██████████| 256/256 [00:05<00:00, 47.62it/s]\n"
     ]
    },
    {
     "name": "stdout",
     "output_type": "stream",
     "text": [
      "Inception score: 5.569583446026198\n",
      "----- Epoch Summary -----\n",
      "Dis Loss: -0.091106 - Gen Loss: -1.896415 - Dis LR: 1.42764e-05 - Gen LR: 1.42764e-05\n",
      "FID score: 47.4534912109375 - Inception score: 5.569583446026198 || @ epoch 227.\n",
      "Best FID score: 46.537933349609375 @ epoch 217\n",
      "-----      End      -----\n",
      "\n",
      "------- Epoch 228 -------\n",
      "[Epoch 228] [Batch 100/1563] [D loss: -1.437998] [G loss: -1.123880]\n",
      "[Epoch 228] [Batch 200/1563] [D loss: 0.438612] [G loss: -2.665054]\n",
      "[Epoch 228] [Batch 300/1563] [D loss: -0.025773] [G loss: -2.830018]\n",
      "[Epoch 228] [Batch 400/1563] [D loss: -0.974949] [G loss: -1.141922]\n",
      "[Epoch 228] [Batch 500/1563] [D loss: -1.044210] [G loss: -0.877343]\n",
      "[Epoch 228] [Batch 600/1563] [D loss: -1.299993] [G loss: -2.481920]\n",
      "[Epoch 228] [Batch 700/1563] [D loss: 1.813226] [G loss: -1.523077]\n",
      "[Epoch 228] [Batch 800/1563] [D loss: 0.260274] [G loss: -3.148357]\n",
      "[Epoch 228] [Batch 900/1563] [D loss: 0.119929] [G loss: -1.171505]\n",
      "[Epoch 228] [Batch 1000/1563] [D loss: 0.091836] [G loss: -1.310808]\n",
      "[Epoch 228] [Batch 1100/1563] [D loss: -1.446094] [G loss: -1.312060]\n",
      "[Epoch 228] [Batch 1200/1563] [D loss: -2.201091] [G loss: -2.130965]\n",
      "[Epoch 228] [Batch 1300/1563] [D loss: 0.928460] [G loss: -0.609134]\n",
      "[Epoch 228] [Batch 1400/1563] [D loss: 0.421898] [G loss: 0.489824]\n",
      "[Epoch 228] [Batch 1500/1563] [D loss: 0.835650] [G loss: -0.190810]\n"
     ]
    },
    {
     "name": "stderr",
     "output_type": "stream",
     "text": [
      "sample images: 100%|██████████| 256/256 [00:05<00:00, 47.67it/s]\n"
     ]
    },
    {
     "name": "stdout",
     "output_type": "stream",
     "text": [
      "Warning: number of images is not a multiple of the batch size. Some samples are going to be ignored.\n"
     ]
    },
    {
     "name": "stderr",
     "output_type": "stream",
     "text": [
      "100%|██████████| 81/81 [00:04<00:00, 19.62it/s]\n"
     ]
    },
    {
     "name": "stdout",
     "output_type": "stream",
     "text": [
      "FID score: 49.48028564453125\n"
     ]
    },
    {
     "name": "stderr",
     "output_type": "stream",
     "text": [
      "sample images: 100%|██████████| 256/256 [00:05<00:00, 47.49it/s]\n"
     ]
    },
    {
     "name": "stdout",
     "output_type": "stream",
     "text": [
      "Inception score: 5.470381672246236\n",
      "----- Epoch Summary -----\n",
      "Dis Loss: -0.008283 - Gen Loss: -1.586738 - Dis LR: 1.3912e-05 - Gen LR: 1.3912e-05\n",
      "FID score: 49.48028564453125 - Inception score: 5.470381672246236 || @ epoch 228.\n",
      "Best FID score: 46.537933349609375 @ epoch 217\n",
      "-----      End      -----\n",
      "\n",
      "------- Epoch 229 -------\n",
      "[Epoch 229] [Batch 100/1563] [D loss: -0.420866] [G loss: 0.047111]\n",
      "[Epoch 229] [Batch 200/1563] [D loss: -1.211869] [G loss: -4.137482]\n",
      "[Epoch 229] [Batch 300/1563] [D loss: 1.165787] [G loss: -0.213529]\n",
      "[Epoch 229] [Batch 400/1563] [D loss: 0.559546] [G loss: -3.155176]\n",
      "[Epoch 229] [Batch 500/1563] [D loss: 0.522074] [G loss: -0.305239]\n",
      "[Epoch 229] [Batch 600/1563] [D loss: -0.954394] [G loss: -1.591418]\n",
      "[Epoch 229] [Batch 700/1563] [D loss: 0.684118] [G loss: -1.476609]\n",
      "[Epoch 229] [Batch 800/1563] [D loss: 1.913635] [G loss: -2.924481]\n",
      "[Epoch 229] [Batch 900/1563] [D loss: -0.828849] [G loss: -2.123715]\n",
      "[Epoch 229] [Batch 1000/1563] [D loss: 0.171430] [G loss: -1.623856]\n",
      "[Epoch 229] [Batch 1100/1563] [D loss: -1.928689] [G loss: -1.096058]\n",
      "[Epoch 229] [Batch 1200/1563] [D loss: -2.088700] [G loss: -1.788564]\n",
      "[Epoch 229] [Batch 1300/1563] [D loss: -1.266974] [G loss: 0.414773]\n",
      "[Epoch 229] [Batch 1400/1563] [D loss: 2.386314] [G loss: -0.129475]\n",
      "[Epoch 229] [Batch 1500/1563] [D loss: -1.738656] [G loss: -2.460880]\n"
     ]
    },
    {
     "name": "stderr",
     "output_type": "stream",
     "text": [
      "sample images: 100%|██████████| 256/256 [00:05<00:00, 47.68it/s]\n"
     ]
    },
    {
     "name": "stdout",
     "output_type": "stream",
     "text": [
      "Warning: number of images is not a multiple of the batch size. Some samples are going to be ignored.\n"
     ]
    },
    {
     "name": "stderr",
     "output_type": "stream",
     "text": [
      "100%|██████████| 81/81 [00:04<00:00, 19.60it/s]\n"
     ]
    },
    {
     "name": "stdout",
     "output_type": "stream",
     "text": [
      "FID score: 48.51727294921875\n"
     ]
    },
    {
     "name": "stderr",
     "output_type": "stream",
     "text": [
      "sample images: 100%|██████████| 256/256 [00:05<00:00, 47.67it/s]\n"
     ]
    },
    {
     "name": "stdout",
     "output_type": "stream",
     "text": [
      "Inception score: 5.4302243601347415\n",
      "----- Epoch Summary -----\n",
      "Dis Loss: 0.018070 - Gen Loss: -1.397371 - Dis LR: 1.35516e-05 - Gen LR: 1.35516e-05\n",
      "FID score: 48.51727294921875 - Inception score: 5.4302243601347415 || @ epoch 229.\n",
      "Best FID score: 46.537933349609375 @ epoch 217\n",
      "-----      End      -----\n",
      "\n",
      "------- Epoch 230 -------\n",
      "[Epoch 230] [Batch 100/1563] [D loss: -0.889224] [G loss: -1.831233]\n",
      "[Epoch 230] [Batch 200/1563] [D loss: 0.480340] [G loss: -1.060892]\n",
      "[Epoch 230] [Batch 300/1563] [D loss: 2.206167] [G loss: -3.271424]\n",
      "[Epoch 230] [Batch 400/1563] [D loss: -0.131779] [G loss: -0.986194]\n",
      "[Epoch 230] [Batch 500/1563] [D loss: -1.398688] [G loss: -1.480002]\n",
      "[Epoch 230] [Batch 600/1563] [D loss: 0.672198] [G loss: -1.225958]\n",
      "[Epoch 230] [Batch 700/1563] [D loss: -0.553312] [G loss: -1.883668]\n",
      "[Epoch 230] [Batch 800/1563] [D loss: 0.798868] [G loss: -0.430656]\n",
      "[Epoch 230] [Batch 900/1563] [D loss: -0.254373] [G loss: -0.045458]\n",
      "[Epoch 230] [Batch 1000/1563] [D loss: 1.894604] [G loss: 0.235267]\n",
      "[Epoch 230] [Batch 1100/1563] [D loss: -0.633823] [G loss: -1.368858]\n",
      "[Epoch 230] [Batch 1200/1563] [D loss: -0.492868] [G loss: -0.745461]\n",
      "[Epoch 230] [Batch 1300/1563] [D loss: 1.505064] [G loss: -0.673711]\n",
      "[Epoch 230] [Batch 1400/1563] [D loss: -0.274472] [G loss: -3.254113]\n",
      "[Epoch 230] [Batch 1500/1563] [D loss: 1.488639] [G loss: -1.348641]\n"
     ]
    },
    {
     "name": "stderr",
     "output_type": "stream",
     "text": [
      "sample images: 100%|██████████| 256/256 [00:05<00:00, 47.72it/s]\n"
     ]
    },
    {
     "name": "stdout",
     "output_type": "stream",
     "text": [
      "Warning: number of images is not a multiple of the batch size. Some samples are going to be ignored.\n"
     ]
    },
    {
     "name": "stderr",
     "output_type": "stream",
     "text": [
      "100%|██████████| 81/81 [00:04<00:00, 19.59it/s]\n"
     ]
    },
    {
     "name": "stdout",
     "output_type": "stream",
     "text": [
      "FID score: 48.99346923828125\n"
     ]
    },
    {
     "name": "stderr",
     "output_type": "stream",
     "text": [
      "sample images: 100%|██████████| 256/256 [00:05<00:00, 47.33it/s]\n"
     ]
    },
    {
     "name": "stdout",
     "output_type": "stream",
     "text": [
      "Inception score: 5.5619378931529235\n",
      "----- Epoch Summary -----\n",
      "Dis Loss: -0.032491 - Gen Loss: -1.323005 - Dis LR: 1.31951e-05 - Gen LR: 1.31951e-05\n",
      "FID score: 48.99346923828125 - Inception score: 5.5619378931529235 || @ epoch 230.\n",
      "Best FID score: 46.537933349609375 @ epoch 217\n",
      "-----      End      -----\n",
      "\n",
      "------- Epoch 231 -------\n",
      "[Epoch 231] [Batch 0/1563] [D loss: -0.322847] [G loss: -0.124749]\n",
      "[Epoch 231] [Batch 100/1563] [D loss: 0.983073] [G loss: -1.863052]\n",
      "[Epoch 231] [Batch 200/1563] [D loss: -1.762248] [G loss: -1.971353]\n",
      "[Epoch 231] [Batch 300/1563] [D loss: -1.926546] [G loss: -0.801586]\n",
      "[Epoch 231] [Batch 400/1563] [D loss: 1.033332] [G loss: 0.082686]\n",
      "[Epoch 231] [Batch 500/1563] [D loss: -1.569152] [G loss: -1.535299]\n",
      "[Epoch 231] [Batch 600/1563] [D loss: -0.969610] [G loss: 0.402066]\n",
      "[Epoch 231] [Batch 700/1563] [D loss: 1.389690] [G loss: -2.024483]\n",
      "[Epoch 231] [Batch 800/1563] [D loss: -0.425893] [G loss: -1.621781]\n",
      "[Epoch 231] [Batch 900/1563] [D loss: 0.562374] [G loss: -0.682723]\n",
      "[Epoch 231] [Batch 1000/1563] [D loss: -0.808824] [G loss: -0.673380]\n",
      "[Epoch 231] [Batch 1100/1563] [D loss: -2.433564] [G loss: -1.363458]\n",
      "[Epoch 231] [Batch 1200/1563] [D loss: -0.131772] [G loss: -0.711323]\n",
      "[Epoch 231] [Batch 1300/1563] [D loss: 0.035776] [G loss: -1.337560]\n",
      "[Epoch 231] [Batch 1400/1563] [D loss: -2.763606] [G loss: -0.886523]\n",
      "[Epoch 231] [Batch 1500/1563] [D loss: 0.047708] [G loss: -0.400376]\n"
     ]
    },
    {
     "name": "stderr",
     "output_type": "stream",
     "text": [
      "sample images: 100%|██████████| 256/256 [00:05<00:00, 47.58it/s]\n"
     ]
    },
    {
     "name": "stdout",
     "output_type": "stream",
     "text": [
      "Warning: number of images is not a multiple of the batch size. Some samples are going to be ignored.\n"
     ]
    },
    {
     "name": "stderr",
     "output_type": "stream",
     "text": [
      "100%|██████████| 81/81 [00:04<00:00, 19.56it/s]\n"
     ]
    },
    {
     "name": "stdout",
     "output_type": "stream",
     "text": [
      "FID score: 50.720367431640625\n"
     ]
    },
    {
     "name": "stderr",
     "output_type": "stream",
     "text": [
      "sample images: 100%|██████████| 256/256 [00:05<00:00, 47.58it/s]\n"
     ]
    },
    {
     "name": "stdout",
     "output_type": "stream",
     "text": [
      "Inception score: 5.619027705684138\n",
      "----- Epoch Summary -----\n",
      "Dis Loss: -0.044944 - Gen Loss: -1.075827 - Dis LR: 1.28428e-05 - Gen LR: 1.28428e-05\n",
      "FID score: 50.720367431640625 - Inception score: 5.619027705684138 || @ epoch 231.\n",
      "Best FID score: 46.537933349609375 @ epoch 217\n",
      "-----      End      -----\n",
      "\n",
      "------- Epoch 232 -------\n",
      "[Epoch 232] [Batch 100/1563] [D loss: -0.064668] [G loss: 0.203997]\n",
      "[Epoch 232] [Batch 200/1563] [D loss: -0.802441] [G loss: -0.946100]\n",
      "[Epoch 232] [Batch 300/1563] [D loss: -0.312608] [G loss: -1.176712]\n",
      "[Epoch 232] [Batch 400/1563] [D loss: -1.167404] [G loss: -3.015403]\n",
      "[Epoch 232] [Batch 500/1563] [D loss: 1.730537] [G loss: -1.111966]\n",
      "[Epoch 232] [Batch 600/1563] [D loss: 1.523057] [G loss: -0.442067]\n",
      "[Epoch 232] [Batch 700/1563] [D loss: -0.105229] [G loss: -0.429845]\n",
      "[Epoch 232] [Batch 800/1563] [D loss: -0.118051] [G loss: -1.163722]\n",
      "[Epoch 232] [Batch 900/1563] [D loss: -0.038502] [G loss: -0.250469]\n",
      "[Epoch 232] [Batch 1000/1563] [D loss: -0.996830] [G loss: -0.906757]\n",
      "[Epoch 232] [Batch 1100/1563] [D loss: 3.350434] [G loss: -0.807162]\n",
      "[Epoch 232] [Batch 1200/1563] [D loss: 1.023442] [G loss: -1.811790]\n",
      "[Epoch 232] [Batch 1300/1563] [D loss: 0.357869] [G loss: -0.460706]\n",
      "[Epoch 232] [Batch 1400/1563] [D loss: -0.712400] [G loss: -0.972419]\n",
      "[Epoch 232] [Batch 1500/1563] [D loss: 0.874389] [G loss: -1.992744]\n"
     ]
    },
    {
     "name": "stderr",
     "output_type": "stream",
     "text": [
      "sample images: 100%|██████████| 256/256 [00:05<00:00, 47.70it/s]\n"
     ]
    },
    {
     "name": "stdout",
     "output_type": "stream",
     "text": [
      "Warning: number of images is not a multiple of the batch size. Some samples are going to be ignored.\n"
     ]
    },
    {
     "name": "stderr",
     "output_type": "stream",
     "text": [
      "100%|██████████| 81/81 [00:04<00:00, 19.41it/s]\n"
     ]
    },
    {
     "name": "stdout",
     "output_type": "stream",
     "text": [
      "FID score: 48.079010009765625\n"
     ]
    },
    {
     "name": "stderr",
     "output_type": "stream",
     "text": [
      "sample images: 100%|██████████| 256/256 [00:05<00:00, 47.66it/s]\n"
     ]
    },
    {
     "name": "stdout",
     "output_type": "stream",
     "text": [
      "Inception score: 5.531439770401753\n",
      "----- Epoch Summary -----\n",
      "Dis Loss: 0.016182 - Gen Loss: -1.108304 - Dis LR: 1.24944e-05 - Gen LR: 1.24944e-05\n",
      "FID score: 48.079010009765625 - Inception score: 5.531439770401753 || @ epoch 232.\n",
      "Best FID score: 46.537933349609375 @ epoch 217\n",
      "-----      End      -----\n",
      "\n",
      "------- Epoch 233 -------\n",
      "[Epoch 233] [Batch 100/1563] [D loss: -0.995184] [G loss: -1.562647]\n",
      "[Epoch 233] [Batch 200/1563] [D loss: -0.018633] [G loss: -0.953285]\n",
      "[Epoch 233] [Batch 300/1563] [D loss: -0.244002] [G loss: 0.442375]\n",
      "[Epoch 233] [Batch 400/1563] [D loss: 1.390557] [G loss: -0.564691]\n",
      "[Epoch 233] [Batch 500/1563] [D loss: 1.691723] [G loss: -0.226252]\n",
      "[Epoch 233] [Batch 600/1563] [D loss: -0.459143] [G loss: -0.443443]\n",
      "[Epoch 233] [Batch 700/1563] [D loss: -1.332021] [G loss: -0.629157]\n",
      "[Epoch 233] [Batch 800/1563] [D loss: -1.060917] [G loss: -1.863088]\n",
      "[Epoch 233] [Batch 900/1563] [D loss: 0.361088] [G loss: -0.231924]\n",
      "[Epoch 233] [Batch 1000/1563] [D loss: 0.108649] [G loss: -0.926129]\n",
      "[Epoch 233] [Batch 1100/1563] [D loss: -0.243462] [G loss: -0.811669]\n",
      "[Epoch 233] [Batch 1200/1563] [D loss: -0.968404] [G loss: -0.554194]\n",
      "[Epoch 233] [Batch 1300/1563] [D loss: -0.322008] [G loss: -0.097286]\n",
      "[Epoch 233] [Batch 1400/1563] [D loss: -0.410937] [G loss: -0.566715]\n",
      "[Epoch 233] [Batch 1500/1563] [D loss: 0.110593] [G loss: -1.032932]\n"
     ]
    },
    {
     "name": "stderr",
     "output_type": "stream",
     "text": [
      "sample images: 100%|██████████| 256/256 [00:05<00:00, 47.61it/s]\n"
     ]
    },
    {
     "name": "stdout",
     "output_type": "stream",
     "text": [
      "Warning: number of images is not a multiple of the batch size. Some samples are going to be ignored.\n"
     ]
    },
    {
     "name": "stderr",
     "output_type": "stream",
     "text": [
      "100%|██████████| 81/81 [00:04<00:00, 19.62it/s]\n"
     ]
    },
    {
     "name": "stdout",
     "output_type": "stream",
     "text": [
      "FID score: 56.36181640625\n"
     ]
    },
    {
     "name": "stderr",
     "output_type": "stream",
     "text": [
      "sample images: 100%|██████████| 256/256 [00:05<00:00, 47.60it/s]\n"
     ]
    },
    {
     "name": "stdout",
     "output_type": "stream",
     "text": [
      "Inception score: 5.352099102843333\n",
      "----- Epoch Summary -----\n",
      "Dis Loss: -0.014192 - Gen Loss: -0.579024 - Dis LR: 1.21502e-05 - Gen LR: 1.21502e-05\n",
      "FID score: 56.36181640625 - Inception score: 5.352099102843333 || @ epoch 233.\n",
      "Best FID score: 46.537933349609375 @ epoch 217\n",
      "-----      End      -----\n",
      "\n",
      "------- Epoch 234 -------\n",
      "[Epoch 234] [Batch 100/1563] [D loss: -0.746907] [G loss: 0.440607]\n",
      "[Epoch 234] [Batch 200/1563] [D loss: 0.187611] [G loss: -0.791442]\n",
      "[Epoch 234] [Batch 300/1563] [D loss: 2.132937] [G loss: -0.877479]\n",
      "[Epoch 234] [Batch 400/1563] [D loss: 1.178041] [G loss: -1.036740]\n",
      "[Epoch 234] [Batch 500/1563] [D loss: -0.105579] [G loss: -2.028018]\n",
      "[Epoch 234] [Batch 600/1563] [D loss: 0.706622] [G loss: -0.976254]\n",
      "[Epoch 234] [Batch 700/1563] [D loss: 0.715601] [G loss: -0.481422]\n",
      "[Epoch 234] [Batch 800/1563] [D loss: 0.523451] [G loss: -1.918872]\n",
      "[Epoch 234] [Batch 900/1563] [D loss: -1.055974] [G loss: -0.843715]\n",
      "[Epoch 234] [Batch 1000/1563] [D loss: -0.475405] [G loss: -1.527891]\n",
      "[Epoch 234] [Batch 1100/1563] [D loss: -0.857164] [G loss: -1.039001]\n",
      "[Epoch 234] [Batch 1200/1563] [D loss: -0.621401] [G loss: -1.501525]\n",
      "[Epoch 234] [Batch 1300/1563] [D loss: -2.001740] [G loss: -1.291708]\n",
      "[Epoch 234] [Batch 1400/1563] [D loss: 0.105531] [G loss: -0.131808]\n",
      "[Epoch 234] [Batch 1500/1563] [D loss: 1.259816] [G loss: -2.231922]\n"
     ]
    },
    {
     "name": "stderr",
     "output_type": "stream",
     "text": [
      "sample images: 100%|██████████| 256/256 [00:05<00:00, 48.15it/s]\n"
     ]
    },
    {
     "name": "stdout",
     "output_type": "stream",
     "text": [
      "Warning: number of images is not a multiple of the batch size. Some samples are going to be ignored.\n"
     ]
    },
    {
     "name": "stderr",
     "output_type": "stream",
     "text": [
      "100%|██████████| 81/81 [00:04<00:00, 19.77it/s]\n"
     ]
    },
    {
     "name": "stdout",
     "output_type": "stream",
     "text": [
      "FID score: 51.0050048828125\n"
     ]
    },
    {
     "name": "stderr",
     "output_type": "stream",
     "text": [
      "sample images: 100%|██████████| 256/256 [00:05<00:00, 48.14it/s]\n"
     ]
    },
    {
     "name": "stdout",
     "output_type": "stream",
     "text": [
      "Inception score: 5.618495788193622\n",
      "----- Epoch Summary -----\n",
      "Dis Loss: -0.035427 - Gen Loss: -0.764313 - Dis LR: 1.18102e-05 - Gen LR: 1.18102e-05\n",
      "FID score: 51.0050048828125 - Inception score: 5.618495788193622 || @ epoch 234.\n",
      "Best FID score: 46.537933349609375 @ epoch 217\n",
      "-----      End      -----\n",
      "\n",
      "------- Epoch 235 -------\n",
      "[Epoch 235] [Batch 100/1563] [D loss: -1.662394] [G loss: -2.232764]\n",
      "[Epoch 235] [Batch 200/1563] [D loss: 0.693831] [G loss: -1.404430]\n",
      "[Epoch 235] [Batch 300/1563] [D loss: -1.899002] [G loss: -0.230285]\n",
      "[Epoch 235] [Batch 400/1563] [D loss: -0.195318] [G loss: 0.595400]\n",
      "[Epoch 235] [Batch 500/1563] [D loss: -0.077376] [G loss: -0.855610]\n",
      "[Epoch 235] [Batch 600/1563] [D loss: -0.806077] [G loss: -0.730434]\n",
      "[Epoch 235] [Batch 700/1563] [D loss: 0.617373] [G loss: -0.512487]\n",
      "[Epoch 235] [Batch 800/1563] [D loss: -0.570059] [G loss: -1.102387]\n",
      "[Epoch 235] [Batch 900/1563] [D loss: -1.920958] [G loss: -0.647887]\n",
      "[Epoch 235] [Batch 1000/1563] [D loss: -1.126601] [G loss: -1.007694]\n",
      "[Epoch 235] [Batch 1100/1563] [D loss: 0.798354] [G loss: -0.909607]\n",
      "[Epoch 235] [Batch 1200/1563] [D loss: 2.402886] [G loss: -1.184584]\n",
      "[Epoch 235] [Batch 1300/1563] [D loss: -0.289269] [G loss: -1.104300]\n",
      "[Epoch 235] [Batch 1400/1563] [D loss: 1.162838] [G loss: -0.701118]\n",
      "[Epoch 235] [Batch 1500/1563] [D loss: 0.170826] [G loss: 0.208359]\n"
     ]
    },
    {
     "name": "stderr",
     "output_type": "stream",
     "text": [
      "sample images: 100%|██████████| 256/256 [00:05<00:00, 48.05it/s]\n"
     ]
    },
    {
     "name": "stdout",
     "output_type": "stream",
     "text": [
      "Warning: number of images is not a multiple of the batch size. Some samples are going to be ignored.\n"
     ]
    },
    {
     "name": "stderr",
     "output_type": "stream",
     "text": [
      "100%|██████████| 81/81 [00:04<00:00, 19.79it/s]\n"
     ]
    },
    {
     "name": "stdout",
     "output_type": "stream",
     "text": [
      "FID score: 51.73162841796875\n"
     ]
    },
    {
     "name": "stderr",
     "output_type": "stream",
     "text": [
      "sample images: 100%|██████████| 256/256 [00:05<00:00, 47.94it/s]\n"
     ]
    },
    {
     "name": "stdout",
     "output_type": "stream",
     "text": [
      "Inception score: 5.4881455741502005\n",
      "----- Epoch Summary -----\n",
      "Dis Loss: -0.013183 - Gen Loss: -0.856286 - Dis LR: 1.14743e-05 - Gen LR: 1.14743e-05\n",
      "FID score: 51.73162841796875 - Inception score: 5.4881455741502005 || @ epoch 235.\n",
      "Best FID score: 46.537933349609375 @ epoch 217\n",
      "-----      End      -----\n",
      "\n",
      "------- Epoch 236 -------\n",
      "[Epoch 236] [Batch 0/1563] [D loss: 0.902796] [G loss: -0.365810]\n",
      "[Epoch 236] [Batch 100/1563] [D loss: 0.236019] [G loss: -1.745351]\n",
      "[Epoch 236] [Batch 200/1563] [D loss: -0.255684] [G loss: -1.709915]\n",
      "[Epoch 236] [Batch 300/1563] [D loss: 0.767216] [G loss: -0.684182]\n",
      "[Epoch 236] [Batch 400/1563] [D loss: 1.638231] [G loss: -1.416559]\n",
      "[Epoch 236] [Batch 500/1563] [D loss: 0.178035] [G loss: 0.850622]\n",
      "[Epoch 236] [Batch 600/1563] [D loss: 0.350388] [G loss: -1.426076]\n",
      "[Epoch 236] [Batch 700/1563] [D loss: 1.342409] [G loss: 0.264505]\n",
      "[Epoch 236] [Batch 800/1563] [D loss: -0.653808] [G loss: -1.671548]\n",
      "[Epoch 236] [Batch 900/1563] [D loss: -2.795834] [G loss: -2.593125]\n",
      "[Epoch 236] [Batch 1000/1563] [D loss: -0.442705] [G loss: -1.296875]\n",
      "[Epoch 236] [Batch 1100/1563] [D loss: -0.445681] [G loss: 0.649431]\n",
      "[Epoch 236] [Batch 1200/1563] [D loss: 2.205844] [G loss: -2.617207]\n",
      "[Epoch 236] [Batch 1300/1563] [D loss: -0.345117] [G loss: -0.210396]\n",
      "[Epoch 236] [Batch 1400/1563] [D loss: -0.668259] [G loss: -1.191952]\n",
      "[Epoch 236] [Batch 1500/1563] [D loss: 0.664684] [G loss: -2.317310]\n"
     ]
    },
    {
     "name": "stderr",
     "output_type": "stream",
     "text": [
      "sample images: 100%|██████████| 256/256 [00:05<00:00, 48.12it/s]\n"
     ]
    },
    {
     "name": "stdout",
     "output_type": "stream",
     "text": [
      "Warning: number of images is not a multiple of the batch size. Some samples are going to be ignored.\n"
     ]
    },
    {
     "name": "stderr",
     "output_type": "stream",
     "text": [
      "100%|██████████| 81/81 [00:04<00:00, 19.74it/s]\n"
     ]
    },
    {
     "name": "stdout",
     "output_type": "stream",
     "text": [
      "FID score: 52.872406005859375\n"
     ]
    },
    {
     "name": "stderr",
     "output_type": "stream",
     "text": [
      "sample images: 100%|██████████| 256/256 [00:05<00:00, 48.01it/s]\n"
     ]
    },
    {
     "name": "stdout",
     "output_type": "stream",
     "text": [
      "Inception score: 5.526719676893635\n",
      "----- Epoch Summary -----\n",
      "Dis Loss: -0.013921 - Gen Loss: -0.977205 - Dis LR: 1.11427e-05 - Gen LR: 1.11427e-05\n",
      "FID score: 52.872406005859375 - Inception score: 5.526719676893635 || @ epoch 236.\n",
      "Best FID score: 46.537933349609375 @ epoch 217\n",
      "-----      End      -----\n",
      "\n",
      "------- Epoch 237 -------\n",
      "[Epoch 237] [Batch 100/1563] [D loss: 1.740530] [G loss: -0.395276]\n",
      "[Epoch 237] [Batch 200/1563] [D loss: 1.491502] [G loss: -1.127596]\n",
      "[Epoch 237] [Batch 300/1563] [D loss: 1.153394] [G loss: -0.863891]\n",
      "[Epoch 237] [Batch 400/1563] [D loss: -0.535476] [G loss: -1.771072]\n",
      "[Epoch 237] [Batch 500/1563] [D loss: -2.474353] [G loss: -0.944978]\n",
      "[Epoch 237] [Batch 600/1563] [D loss: 0.175486] [G loss: -0.624305]\n",
      "[Epoch 237] [Batch 700/1563] [D loss: -0.753192] [G loss: -0.446095]\n",
      "[Epoch 237] [Batch 800/1563] [D loss: -1.190380] [G loss: -0.960447]\n",
      "[Epoch 237] [Batch 900/1563] [D loss: -0.345370] [G loss: -1.254838]\n",
      "[Epoch 237] [Batch 1000/1563] [D loss: -1.619551] [G loss: -0.291053]\n",
      "[Epoch 237] [Batch 1100/1563] [D loss: -0.155414] [G loss: -0.841047]\n",
      "[Epoch 237] [Batch 1200/1563] [D loss: -1.093497] [G loss: -1.379119]\n",
      "[Epoch 237] [Batch 1300/1563] [D loss: -1.073038] [G loss: 0.618243]\n",
      "[Epoch 237] [Batch 1400/1563] [D loss: -0.201897] [G loss: -0.796442]\n",
      "[Epoch 237] [Batch 1500/1563] [D loss: -0.082756] [G loss: -0.723853]\n"
     ]
    },
    {
     "name": "stderr",
     "output_type": "stream",
     "text": [
      "sample images: 100%|██████████| 256/256 [00:05<00:00, 48.14it/s]\n"
     ]
    },
    {
     "name": "stdout",
     "output_type": "stream",
     "text": [
      "Warning: number of images is not a multiple of the batch size. Some samples are going to be ignored.\n"
     ]
    },
    {
     "name": "stderr",
     "output_type": "stream",
     "text": [
      "100%|██████████| 81/81 [00:04<00:00, 19.77it/s]\n"
     ]
    },
    {
     "name": "stdout",
     "output_type": "stream",
     "text": [
      "FID score: 55.78594970703125\n"
     ]
    },
    {
     "name": "stderr",
     "output_type": "stream",
     "text": [
      "sample images: 100%|██████████| 256/256 [00:05<00:00, 48.09it/s]\n"
     ]
    },
    {
     "name": "stdout",
     "output_type": "stream",
     "text": [
      "Inception score: 5.281460071199999\n",
      "----- Epoch Summary -----\n",
      "Dis Loss: -0.051615 - Gen Loss: -0.844873 - Dis LR: 1.08153e-05 - Gen LR: 1.08153e-05\n",
      "FID score: 55.78594970703125 - Inception score: 5.281460071199999 || @ epoch 237.\n",
      "Best FID score: 46.537933349609375 @ epoch 217\n",
      "-----      End      -----\n",
      "\n",
      "------- Epoch 238 -------\n",
      "[Epoch 238] [Batch 100/1563] [D loss: -1.229415] [G loss: -0.993854]\n",
      "[Epoch 238] [Batch 200/1563] [D loss: 1.750140] [G loss: -2.238791]\n",
      "[Epoch 238] [Batch 300/1563] [D loss: 1.059741] [G loss: -1.607200]\n",
      "[Epoch 238] [Batch 400/1563] [D loss: 0.820947] [G loss: 0.116522]\n",
      "[Epoch 238] [Batch 500/1563] [D loss: 0.604654] [G loss: -1.138499]\n",
      "[Epoch 238] [Batch 600/1563] [D loss: -0.491082] [G loss: -1.406384]\n",
      "[Epoch 238] [Batch 700/1563] [D loss: 0.512051] [G loss: 0.396707]\n",
      "[Epoch 238] [Batch 800/1563] [D loss: 1.012609] [G loss: 0.151038]\n",
      "[Epoch 238] [Batch 900/1563] [D loss: -2.069585] [G loss: -0.765716]\n",
      "[Epoch 238] [Batch 1000/1563] [D loss: 1.578461] [G loss: -1.114136]\n",
      "[Epoch 238] [Batch 1100/1563] [D loss: -0.350875] [G loss: -1.254954]\n",
      "[Epoch 238] [Batch 1200/1563] [D loss: -0.974240] [G loss: -1.594809]\n",
      "[Epoch 238] [Batch 1300/1563] [D loss: 1.233973] [G loss: -2.122496]\n",
      "[Epoch 238] [Batch 1400/1563] [D loss: 0.204718] [G loss: -0.895450]\n",
      "[Epoch 238] [Batch 1500/1563] [D loss: 0.063362] [G loss: -1.256658]\n"
     ]
    },
    {
     "name": "stderr",
     "output_type": "stream",
     "text": [
      "sample images: 100%|██████████| 256/256 [00:05<00:00, 48.13it/s]\n"
     ]
    },
    {
     "name": "stdout",
     "output_type": "stream",
     "text": [
      "Warning: number of images is not a multiple of the batch size. Some samples are going to be ignored.\n"
     ]
    },
    {
     "name": "stderr",
     "output_type": "stream",
     "text": [
      "100%|██████████| 81/81 [00:04<00:00, 19.78it/s]\n"
     ]
    },
    {
     "name": "stdout",
     "output_type": "stream",
     "text": [
      "FID score: 55.91864013671875\n"
     ]
    },
    {
     "name": "stderr",
     "output_type": "stream",
     "text": [
      "sample images: 100%|██████████| 256/256 [00:05<00:00, 48.07it/s]\n"
     ]
    },
    {
     "name": "stdout",
     "output_type": "stream",
     "text": [
      "Inception score: 5.498478037721265\n",
      "----- Epoch Summary -----\n",
      "Dis Loss: -0.046999 - Gen Loss: -0.719282 - Dis LR: 1.04922e-05 - Gen LR: 1.04922e-05\n",
      "FID score: 55.91864013671875 - Inception score: 5.498478037721265 || @ epoch 238.\n",
      "Best FID score: 46.537933349609375 @ epoch 217\n",
      "-----      End      -----\n",
      "\n",
      "------- Epoch 239 -------\n",
      "[Epoch 239] [Batch 100/1563] [D loss: -0.596409] [G loss: -2.168442]\n",
      "[Epoch 239] [Batch 200/1563] [D loss: -0.591618] [G loss: -1.243152]\n",
      "[Epoch 239] [Batch 300/1563] [D loss: 0.533718] [G loss: -1.088712]\n",
      "[Epoch 239] [Batch 400/1563] [D loss: 0.659524] [G loss: -0.029314]\n",
      "[Epoch 239] [Batch 500/1563] [D loss: 0.036477] [G loss: -0.506465]\n",
      "[Epoch 239] [Batch 600/1563] [D loss: 0.195729] [G loss: -2.481566]\n",
      "[Epoch 239] [Batch 700/1563] [D loss: -1.035930] [G loss: -1.048256]\n",
      "[Epoch 239] [Batch 800/1563] [D loss: 0.469688] [G loss: 0.351226]\n",
      "[Epoch 239] [Batch 900/1563] [D loss: -1.560049] [G loss: -0.495552]\n",
      "[Epoch 239] [Batch 1000/1563] [D loss: -0.179070] [G loss: -1.846990]\n",
      "[Epoch 239] [Batch 1100/1563] [D loss: -0.505490] [G loss: -0.603241]\n",
      "[Epoch 239] [Batch 1200/1563] [D loss: 0.738990] [G loss: -0.480431]\n",
      "[Epoch 239] [Batch 1300/1563] [D loss: 0.120765] [G loss: -1.648633]\n",
      "[Epoch 239] [Batch 1400/1563] [D loss: -2.196699] [G loss: -1.384883]\n",
      "[Epoch 239] [Batch 1500/1563] [D loss: 0.703132] [G loss: -0.569002]\n"
     ]
    },
    {
     "name": "stderr",
     "output_type": "stream",
     "text": [
      "sample images: 100%|██████████| 256/256 [00:05<00:00, 48.15it/s]\n"
     ]
    },
    {
     "name": "stdout",
     "output_type": "stream",
     "text": [
      "Warning: number of images is not a multiple of the batch size. Some samples are going to be ignored.\n"
     ]
    },
    {
     "name": "stderr",
     "output_type": "stream",
     "text": [
      "100%|██████████| 81/81 [00:04<00:00, 19.80it/s]\n"
     ]
    },
    {
     "name": "stdout",
     "output_type": "stream",
     "text": [
      "FID score: 56.838836669921875\n"
     ]
    },
    {
     "name": "stderr",
     "output_type": "stream",
     "text": [
      "sample images: 100%|██████████| 256/256 [00:05<00:00, 48.11it/s]\n"
     ]
    },
    {
     "name": "stdout",
     "output_type": "stream",
     "text": [
      "Inception score: 5.537825263846469\n",
      "----- Epoch Summary -----\n",
      "Dis Loss: -0.002527 - Gen Loss: -0.752652 - Dis LR: 1.01735e-05 - Gen LR: 1.01735e-05\n",
      "FID score: 56.838836669921875 - Inception score: 5.537825263846469 || @ epoch 239.\n",
      "Best FID score: 46.537933349609375 @ epoch 217\n",
      "-----      End      -----\n",
      "\n",
      "------- Epoch 240 -------\n",
      "[Epoch 240] [Batch 100/1563] [D loss: -0.606187] [G loss: -0.371103]\n",
      "[Epoch 240] [Batch 200/1563] [D loss: -0.344450] [G loss: -0.362738]\n",
      "[Epoch 240] [Batch 300/1563] [D loss: -1.359306] [G loss: -0.995866]\n",
      "[Epoch 240] [Batch 400/1563] [D loss: 0.518455] [G loss: -0.120516]\n",
      "[Epoch 240] [Batch 500/1563] [D loss: 1.250061] [G loss: -2.438280]\n",
      "[Epoch 240] [Batch 600/1563] [D loss: -0.390342] [G loss: -0.329549]\n",
      "[Epoch 240] [Batch 700/1563] [D loss: 0.032608] [G loss: -1.368680]\n",
      "[Epoch 240] [Batch 800/1563] [D loss: -0.849371] [G loss: 0.792417]\n",
      "[Epoch 240] [Batch 900/1563] [D loss: 0.278812] [G loss: -1.648106]\n",
      "[Epoch 240] [Batch 1000/1563] [D loss: -0.260331] [G loss: -0.596247]\n",
      "[Epoch 240] [Batch 1100/1563] [D loss: -0.662203] [G loss: -0.711738]\n",
      "[Epoch 240] [Batch 1200/1563] [D loss: -0.813851] [G loss: 0.072544]\n",
      "[Epoch 240] [Batch 1300/1563] [D loss: 2.188042] [G loss: -0.015265]\n",
      "[Epoch 240] [Batch 1400/1563] [D loss: -1.046909] [G loss: 0.859974]\n",
      "[Epoch 240] [Batch 1500/1563] [D loss: 1.463767] [G loss: -2.422665]\n"
     ]
    },
    {
     "name": "stderr",
     "output_type": "stream",
     "text": [
      "sample images: 100%|██████████| 256/256 [00:05<00:00, 48.16it/s]\n"
     ]
    },
    {
     "name": "stdout",
     "output_type": "stream",
     "text": [
      "Warning: number of images is not a multiple of the batch size. Some samples are going to be ignored.\n"
     ]
    },
    {
     "name": "stderr",
     "output_type": "stream",
     "text": [
      "100%|██████████| 81/81 [00:04<00:00, 19.73it/s]\n"
     ]
    },
    {
     "name": "stdout",
     "output_type": "stream",
     "text": [
      "FID score: 51.821319580078125\n"
     ]
    },
    {
     "name": "stderr",
     "output_type": "stream",
     "text": [
      "sample images: 100%|██████████| 256/256 [00:05<00:00, 48.04it/s]\n"
     ]
    },
    {
     "name": "stdout",
     "output_type": "stream",
     "text": [
      "Inception score: 5.3359204966386775\n",
      "----- Epoch Summary -----\n",
      "Dis Loss: -0.026275 - Gen Loss: -0.624797 - Dis LR: 9.85913e-06 - Gen LR: 9.85913e-06\n",
      "FID score: 51.821319580078125 - Inception score: 5.3359204966386775 || @ epoch 240.\n",
      "Best FID score: 46.537933349609375 @ epoch 217\n",
      "-----      End      -----\n",
      "\n",
      "------- Epoch 241 -------\n",
      "[Epoch 241] [Batch 0/1563] [D loss: 1.174917] [G loss: -0.315787]\n",
      "[Epoch 241] [Batch 100/1563] [D loss: -0.792286] [G loss: -1.322856]\n",
      "[Epoch 241] [Batch 200/1563] [D loss: -1.865828] [G loss: 0.252190]\n",
      "[Epoch 241] [Batch 300/1563] [D loss: 0.084097] [G loss: -0.325237]\n",
      "[Epoch 241] [Batch 400/1563] [D loss: -1.289197] [G loss: -0.307260]\n",
      "[Epoch 241] [Batch 500/1563] [D loss: -1.146529] [G loss: 0.195765]\n",
      "[Epoch 241] [Batch 600/1563] [D loss: -1.655629] [G loss: -0.330315]\n",
      "[Epoch 241] [Batch 700/1563] [D loss: -0.703679] [G loss: 0.168701]\n",
      "[Epoch 241] [Batch 800/1563] [D loss: -0.336948] [G loss: -2.322001]\n",
      "[Epoch 241] [Batch 900/1563] [D loss: 1.344661] [G loss: -1.075926]\n",
      "[Epoch 241] [Batch 1000/1563] [D loss: -0.151473] [G loss: 0.004549]\n",
      "[Epoch 241] [Batch 1100/1563] [D loss: 0.076107] [G loss: -1.228565]\n",
      "[Epoch 241] [Batch 1200/1563] [D loss: -2.241099] [G loss: -0.506911]\n",
      "[Epoch 241] [Batch 1300/1563] [D loss: -0.012790] [G loss: -1.279399]\n",
      "[Epoch 241] [Batch 1400/1563] [D loss: 1.550080] [G loss: -1.081296]\n",
      "[Epoch 241] [Batch 1500/1563] [D loss: -1.645237] [G loss: 0.170700]\n"
     ]
    },
    {
     "name": "stderr",
     "output_type": "stream",
     "text": [
      "sample images: 100%|██████████| 256/256 [00:05<00:00, 48.15it/s]\n"
     ]
    },
    {
     "name": "stdout",
     "output_type": "stream",
     "text": [
      "Warning: number of images is not a multiple of the batch size. Some samples are going to be ignored.\n"
     ]
    },
    {
     "name": "stderr",
     "output_type": "stream",
     "text": [
      "100%|██████████| 81/81 [00:04<00:00, 19.81it/s]\n"
     ]
    },
    {
     "name": "stdout",
     "output_type": "stream",
     "text": [
      "FID score: 49.849884033203125\n"
     ]
    },
    {
     "name": "stderr",
     "output_type": "stream",
     "text": [
      "sample images: 100%|██████████| 256/256 [00:05<00:00, 48.06it/s]\n"
     ]
    },
    {
     "name": "stdout",
     "output_type": "stream",
     "text": [
      "Inception score: 5.362839183406756\n",
      "----- Epoch Summary -----\n",
      "Dis Loss: -0.051437 - Gen Loss: -0.526000 - Dis LR: 9.54915e-06 - Gen LR: 9.54915e-06\n",
      "FID score: 49.849884033203125 - Inception score: 5.362839183406756 || @ epoch 241.\n",
      "Best FID score: 46.537933349609375 @ epoch 217\n",
      "-----      End      -----\n",
      "\n",
      "------- Epoch 242 -------\n",
      "[Epoch 242] [Batch 100/1563] [D loss: 2.284007] [G loss: -0.076390]\n",
      "[Epoch 242] [Batch 200/1563] [D loss: 0.320528] [G loss: -0.571582]\n",
      "[Epoch 242] [Batch 300/1563] [D loss: 0.077534] [G loss: -0.698166]\n",
      "[Epoch 242] [Batch 400/1563] [D loss: -0.698653] [G loss: -1.316103]\n",
      "[Epoch 242] [Batch 500/1563] [D loss: 2.446448] [G loss: 0.385866]\n",
      "[Epoch 242] [Batch 600/1563] [D loss: 1.268075] [G loss: -1.812403]\n",
      "[Epoch 242] [Batch 700/1563] [D loss: -1.096034] [G loss: 0.153967]\n",
      "[Epoch 242] [Batch 800/1563] [D loss: -0.493036] [G loss: -1.477863]\n",
      "[Epoch 242] [Batch 900/1563] [D loss: 0.085212] [G loss: -0.947526]\n",
      "[Epoch 242] [Batch 1000/1563] [D loss: -0.601230] [G loss: 0.228449]\n",
      "[Epoch 242] [Batch 1100/1563] [D loss: 0.848464] [G loss: 0.066891]\n",
      "[Epoch 242] [Batch 1200/1563] [D loss: -0.604540] [G loss: -1.003767]\n",
      "[Epoch 242] [Batch 1300/1563] [D loss: 0.051352] [G loss: -0.357887]\n",
      "[Epoch 242] [Batch 1400/1563] [D loss: 0.207068] [G loss: -0.052002]\n",
      "[Epoch 242] [Batch 1500/1563] [D loss: -2.128732] [G loss: -0.613979]\n"
     ]
    },
    {
     "name": "stderr",
     "output_type": "stream",
     "text": [
      "sample images: 100%|██████████| 256/256 [00:05<00:00, 48.05it/s]\n"
     ]
    },
    {
     "name": "stdout",
     "output_type": "stream",
     "text": [
      "Warning: number of images is not a multiple of the batch size. Some samples are going to be ignored.\n"
     ]
    },
    {
     "name": "stderr",
     "output_type": "stream",
     "text": [
      "100%|██████████| 81/81 [00:04<00:00, 19.76it/s]\n"
     ]
    },
    {
     "name": "stdout",
     "output_type": "stream",
     "text": [
      "FID score: 52.927734375\n"
     ]
    },
    {
     "name": "stderr",
     "output_type": "stream",
     "text": [
      "sample images: 100%|██████████| 256/256 [00:05<00:00, 48.02it/s]\n"
     ]
    },
    {
     "name": "stdout",
     "output_type": "stream",
     "text": [
      "Inception score: 5.381712947112903\n",
      "----- Epoch Summary -----\n",
      "Dis Loss: -0.015579 - Gen Loss: -0.470019 - Dis LR: 9.24361e-06 - Gen LR: 9.24361e-06\n",
      "FID score: 52.927734375 - Inception score: 5.381712947112903 || @ epoch 242.\n",
      "Best FID score: 46.537933349609375 @ epoch 217\n",
      "-----      End      -----\n",
      "\n",
      "------- Epoch 243 -------\n",
      "[Epoch 243] [Batch 100/1563] [D loss: -0.589492] [G loss: -0.082983]\n",
      "[Epoch 243] [Batch 200/1563] [D loss: 0.002793] [G loss: -0.463435]\n",
      "[Epoch 243] [Batch 300/1563] [D loss: 1.322302] [G loss: -0.953249]\n",
      "[Epoch 243] [Batch 400/1563] [D loss: 0.661023] [G loss: -0.796845]\n",
      "[Epoch 243] [Batch 500/1563] [D loss: -0.826330] [G loss: 0.039008]\n",
      "[Epoch 243] [Batch 600/1563] [D loss: 0.393025] [G loss: -0.527032]\n",
      "[Epoch 243] [Batch 700/1563] [D loss: -1.131298] [G loss: 0.593796]\n",
      "[Epoch 243] [Batch 800/1563] [D loss: -2.370502] [G loss: -1.413768]\n",
      "[Epoch 243] [Batch 900/1563] [D loss: 0.413021] [G loss: 0.290558]\n",
      "[Epoch 243] [Batch 1000/1563] [D loss: -0.328606] [G loss: 0.093801]\n",
      "[Epoch 243] [Batch 1100/1563] [D loss: 0.460524] [G loss: -0.183668]\n",
      "[Epoch 243] [Batch 1200/1563] [D loss: -1.299124] [G loss: 0.202621]\n",
      "[Epoch 243] [Batch 1300/1563] [D loss: 0.932619] [G loss: -0.254365]\n",
      "[Epoch 243] [Batch 1400/1563] [D loss: -1.453480] [G loss: -1.847264]\n",
      "[Epoch 243] [Batch 1500/1563] [D loss: 1.037256] [G loss: -0.810757]\n"
     ]
    },
    {
     "name": "stderr",
     "output_type": "stream",
     "text": [
      "sample images: 100%|██████████| 256/256 [00:05<00:00, 48.12it/s]\n"
     ]
    },
    {
     "name": "stdout",
     "output_type": "stream",
     "text": [
      "Warning: number of images is not a multiple of the batch size. Some samples are going to be ignored.\n"
     ]
    },
    {
     "name": "stderr",
     "output_type": "stream",
     "text": [
      "100%|██████████| 81/81 [00:04<00:00, 19.76it/s]\n"
     ]
    },
    {
     "name": "stdout",
     "output_type": "stream",
     "text": [
      "FID score: 50.18902587890625\n"
     ]
    },
    {
     "name": "stderr",
     "output_type": "stream",
     "text": [
      "sample images: 100%|██████████| 256/256 [00:05<00:00, 48.04it/s]\n"
     ]
    },
    {
     "name": "stdout",
     "output_type": "stream",
     "text": [
      "Inception score: 5.638496254491433\n",
      "----- Epoch Summary -----\n",
      "Dis Loss: -0.006651 - Gen Loss: -0.528886 - Dis LR: 8.94254e-06 - Gen LR: 8.94254e-06\n",
      "FID score: 50.18902587890625 - Inception score: 5.638496254491433 || @ epoch 243.\n",
      "Best FID score: 46.537933349609375 @ epoch 217\n",
      "-----      End      -----\n",
      "\n",
      "------- Epoch 244 -------\n",
      "[Epoch 244] [Batch 100/1563] [D loss: 0.246350] [G loss: -1.177802]\n",
      "[Epoch 244] [Batch 200/1563] [D loss: -0.672784] [G loss: -0.389820]\n",
      "[Epoch 244] [Batch 300/1563] [D loss: 0.903693] [G loss: -0.241692]\n",
      "[Epoch 244] [Batch 400/1563] [D loss: 1.102902] [G loss: -0.957769]\n",
      "[Epoch 244] [Batch 500/1563] [D loss: -0.358863] [G loss: -1.064148]\n",
      "[Epoch 244] [Batch 600/1563] [D loss: -0.725628] [G loss: -0.524671]\n",
      "[Epoch 244] [Batch 700/1563] [D loss: -1.229460] [G loss: -1.302355]\n",
      "[Epoch 244] [Batch 800/1563] [D loss: 0.865870] [G loss: -0.044664]\n",
      "[Epoch 244] [Batch 900/1563] [D loss: 0.238663] [G loss: 0.137096]\n",
      "[Epoch 244] [Batch 1000/1563] [D loss: -0.473098] [G loss: 0.503564]\n",
      "[Epoch 244] [Batch 1100/1563] [D loss: -0.610620] [G loss: -1.517200]\n",
      "[Epoch 244] [Batch 1200/1563] [D loss: 0.977682] [G loss: -0.160126]\n",
      "[Epoch 244] [Batch 1300/1563] [D loss: 1.440274] [G loss: 0.105496]\n",
      "[Epoch 244] [Batch 1400/1563] [D loss: 0.188571] [G loss: 0.020260]\n",
      "[Epoch 244] [Batch 1500/1563] [D loss: -0.193307] [G loss: 0.878036]\n"
     ]
    },
    {
     "name": "stderr",
     "output_type": "stream",
     "text": [
      "sample images: 100%|██████████| 256/256 [00:05<00:00, 47.92it/s]\n"
     ]
    },
    {
     "name": "stdout",
     "output_type": "stream",
     "text": [
      "Warning: number of images is not a multiple of the batch size. Some samples are going to be ignored.\n"
     ]
    },
    {
     "name": "stderr",
     "output_type": "stream",
     "text": [
      "100%|██████████| 81/81 [00:04<00:00, 19.77it/s]\n"
     ]
    },
    {
     "name": "stdout",
     "output_type": "stream",
     "text": [
      "FID score: 51.806793212890625\n"
     ]
    },
    {
     "name": "stderr",
     "output_type": "stream",
     "text": [
      "sample images: 100%|██████████| 256/256 [00:05<00:00, 47.94it/s]\n"
     ]
    },
    {
     "name": "stdout",
     "output_type": "stream",
     "text": [
      "Inception score: 5.522370776838673\n",
      "----- Epoch Summary -----\n",
      "Dis Loss: -0.005006 - Gen Loss: -0.590092 - Dis LR: 8.64597e-06 - Gen LR: 8.64597e-06\n",
      "FID score: 51.806793212890625 - Inception score: 5.522370776838673 || @ epoch 244.\n",
      "Best FID score: 46.537933349609375 @ epoch 217\n",
      "-----      End      -----\n",
      "\n",
      "------- Epoch 245 -------\n",
      "[Epoch 245] [Batch 100/1563] [D loss: -1.873159] [G loss: -1.774646]\n",
      "[Epoch 245] [Batch 200/1563] [D loss: -0.926959] [G loss: -0.433972]\n",
      "[Epoch 245] [Batch 300/1563] [D loss: -0.709535] [G loss: -4.364459]\n",
      "[Epoch 245] [Batch 400/1563] [D loss: 0.998227] [G loss: -0.167359]\n",
      "[Epoch 245] [Batch 500/1563] [D loss: 1.825620] [G loss: -0.629136]\n",
      "[Epoch 245] [Batch 600/1563] [D loss: -1.664237] [G loss: -1.733634]\n",
      "[Epoch 245] [Batch 700/1563] [D loss: -0.547765] [G loss: -0.071733]\n",
      "[Epoch 245] [Batch 800/1563] [D loss: -0.036998] [G loss: 0.098655]\n",
      "[Epoch 245] [Batch 900/1563] [D loss: -0.151727] [G loss: -1.089616]\n",
      "[Epoch 245] [Batch 1000/1563] [D loss: -0.537465] [G loss: 0.181439]\n",
      "[Epoch 245] [Batch 1100/1563] [D loss: -0.168028] [G loss: 0.567855]\n",
      "[Epoch 245] [Batch 1200/1563] [D loss: 1.057608] [G loss: -1.055996]\n",
      "[Epoch 245] [Batch 1300/1563] [D loss: -1.036680] [G loss: -0.967051]\n",
      "[Epoch 245] [Batch 1400/1563] [D loss: 0.529360] [G loss: -0.213256]\n",
      "[Epoch 245] [Batch 1500/1563] [D loss: -1.023492] [G loss: -1.361788]\n"
     ]
    },
    {
     "name": "stderr",
     "output_type": "stream",
     "text": [
      "sample images: 100%|██████████| 256/256 [00:05<00:00, 48.05it/s]\n"
     ]
    },
    {
     "name": "stdout",
     "output_type": "stream",
     "text": [
      "Warning: number of images is not a multiple of the batch size. Some samples are going to be ignored.\n"
     ]
    },
    {
     "name": "stderr",
     "output_type": "stream",
     "text": [
      "100%|██████████| 81/81 [00:04<00:00, 19.77it/s]\n"
     ]
    },
    {
     "name": "stdout",
     "output_type": "stream",
     "text": [
      "FID score: 56.415191650390625\n"
     ]
    },
    {
     "name": "stderr",
     "output_type": "stream",
     "text": [
      "sample images: 100%|██████████| 256/256 [00:05<00:00, 48.03it/s]\n"
     ]
    },
    {
     "name": "stdout",
     "output_type": "stream",
     "text": [
      "Inception score: 5.438828955147666\n",
      "----- Epoch Summary -----\n",
      "Dis Loss: -0.001548 - Gen Loss: -0.478369 - Dis LR: 8.35394e-06 - Gen LR: 8.35394e-06\n",
      "FID score: 56.415191650390625 - Inception score: 5.438828955147666 || @ epoch 245.\n",
      "Best FID score: 46.537933349609375 @ epoch 217\n",
      "-----      End      -----\n",
      "\n",
      "------- Epoch 246 -------\n",
      "[Epoch 246] [Batch 0/1563] [D loss: -2.262218] [G loss: 0.039073]\n",
      "[Epoch 246] [Batch 100/1563] [D loss: -2.125600] [G loss: 0.000575]\n",
      "[Epoch 246] [Batch 200/1563] [D loss: 0.360848] [G loss: -0.298681]\n",
      "[Epoch 246] [Batch 300/1563] [D loss: 0.729793] [G loss: 0.485188]\n",
      "[Epoch 246] [Batch 400/1563] [D loss: 0.538355] [G loss: -0.317803]\n",
      "[Epoch 246] [Batch 500/1563] [D loss: -0.851209] [G loss: -0.816243]\n",
      "[Epoch 246] [Batch 600/1563] [D loss: -0.852378] [G loss: 0.426340]\n",
      "[Epoch 246] [Batch 700/1563] [D loss: 0.758963] [G loss: -1.850847]\n",
      "[Epoch 246] [Batch 800/1563] [D loss: 1.316306] [G loss: -1.349972]\n",
      "[Epoch 246] [Batch 900/1563] [D loss: 0.791986] [G loss: -1.761796]\n",
      "[Epoch 246] [Batch 1000/1563] [D loss: -0.819606] [G loss: -0.606787]\n",
      "[Epoch 246] [Batch 1100/1563] [D loss: -0.099532] [G loss: -1.004437]\n",
      "[Epoch 246] [Batch 1200/1563] [D loss: 0.059901] [G loss: -1.081990]\n",
      "[Epoch 246] [Batch 1300/1563] [D loss: -2.051883] [G loss: -1.411203]\n",
      "[Epoch 246] [Batch 1400/1563] [D loss: -1.262478] [G loss: -0.824921]\n",
      "[Epoch 246] [Batch 1500/1563] [D loss: 0.582839] [G loss: -0.296997]\n"
     ]
    },
    {
     "name": "stderr",
     "output_type": "stream",
     "text": [
      "sample images: 100%|██████████| 256/256 [00:05<00:00, 48.01it/s]\n"
     ]
    },
    {
     "name": "stdout",
     "output_type": "stream",
     "text": [
      "Warning: number of images is not a multiple of the batch size. Some samples are going to be ignored.\n"
     ]
    },
    {
     "name": "stderr",
     "output_type": "stream",
     "text": [
      "100%|██████████| 81/81 [00:04<00:00, 19.78it/s]\n"
     ]
    },
    {
     "name": "stdout",
     "output_type": "stream",
     "text": [
      "FID score: 55.787200927734375\n"
     ]
    },
    {
     "name": "stderr",
     "output_type": "stream",
     "text": [
      "sample images: 100%|██████████| 256/256 [00:05<00:00, 47.95it/s]\n"
     ]
    },
    {
     "name": "stdout",
     "output_type": "stream",
     "text": [
      "Inception score: 5.4185035053614605\n",
      "----- Epoch Summary -----\n",
      "Dis Loss: -0.028227 - Gen Loss: -0.424104 - Dis LR: 8.06647e-06 - Gen LR: 8.06647e-06\n",
      "FID score: 55.787200927734375 - Inception score: 5.4185035053614605 || @ epoch 246.\n",
      "Best FID score: 46.537933349609375 @ epoch 217\n",
      "-----      End      -----\n",
      "\n",
      "------- Epoch 247 -------\n",
      "[Epoch 247] [Batch 100/1563] [D loss: 0.380622] [G loss: -1.587188]\n",
      "[Epoch 247] [Batch 200/1563] [D loss: 0.632578] [G loss: -1.145301]\n",
      "[Epoch 247] [Batch 300/1563] [D loss: -1.348948] [G loss: -0.217406]\n",
      "[Epoch 247] [Batch 400/1563] [D loss: 0.362764] [G loss: -0.332796]\n",
      "[Epoch 247] [Batch 500/1563] [D loss: 0.328920] [G loss: -0.223272]\n",
      "[Epoch 247] [Batch 600/1563] [D loss: 1.339527] [G loss: -0.954378]\n",
      "[Epoch 247] [Batch 700/1563] [D loss: 1.038888] [G loss: -1.388917]\n",
      "[Epoch 247] [Batch 800/1563] [D loss: 1.920598] [G loss: -0.138032]\n",
      "[Epoch 247] [Batch 900/1563] [D loss: -0.197015] [G loss: -0.326530]\n",
      "[Epoch 247] [Batch 1000/1563] [D loss: 0.908441] [G loss: 0.304817]\n",
      "[Epoch 247] [Batch 1100/1563] [D loss: 1.183357] [G loss: -1.224511]\n",
      "[Epoch 247] [Batch 1200/1563] [D loss: 0.389424] [G loss: -0.687836]\n",
      "[Epoch 247] [Batch 1300/1563] [D loss: -0.959488] [G loss: -0.031469]\n",
      "[Epoch 247] [Batch 1400/1563] [D loss: 0.227560] [G loss: 0.511641]\n",
      "[Epoch 247] [Batch 1500/1563] [D loss: 0.487515] [G loss: -1.472080]\n"
     ]
    },
    {
     "name": "stderr",
     "output_type": "stream",
     "text": [
      "sample images: 100%|██████████| 256/256 [00:05<00:00, 48.18it/s]\n"
     ]
    },
    {
     "name": "stdout",
     "output_type": "stream",
     "text": [
      "Warning: number of images is not a multiple of the batch size. Some samples are going to be ignored.\n"
     ]
    },
    {
     "name": "stderr",
     "output_type": "stream",
     "text": [
      "100%|██████████| 81/81 [00:04<00:00, 19.77it/s]\n"
     ]
    },
    {
     "name": "stdout",
     "output_type": "stream",
     "text": [
      "FID score: 53.28607177734375\n"
     ]
    },
    {
     "name": "stderr",
     "output_type": "stream",
     "text": [
      "sample images: 100%|██████████| 256/256 [00:05<00:00, 48.04it/s]\n"
     ]
    },
    {
     "name": "stdout",
     "output_type": "stream",
     "text": [
      "Inception score: 5.489001965415242\n",
      "----- Epoch Summary -----\n",
      "Dis Loss: -0.075217 - Gen Loss: -0.439751 - Dis LR: 7.7836e-06 - Gen LR: 7.7836e-06\n",
      "FID score: 53.28607177734375 - Inception score: 5.489001965415242 || @ epoch 247.\n",
      "Best FID score: 46.537933349609375 @ epoch 217\n",
      "-----      End      -----\n",
      "\n",
      "------- Epoch 248 -------\n",
      "[Epoch 248] [Batch 100/1563] [D loss: -0.193964] [G loss: 0.042071]\n",
      "[Epoch 248] [Batch 200/1563] [D loss: -0.324508] [G loss: -0.593287]\n",
      "[Epoch 248] [Batch 300/1563] [D loss: -2.190557] [G loss: -0.680890]\n",
      "[Epoch 248] [Batch 400/1563] [D loss: -0.589979] [G loss: 0.080925]\n",
      "[Epoch 248] [Batch 500/1563] [D loss: 0.591198] [G loss: 0.585174]\n",
      "[Epoch 248] [Batch 600/1563] [D loss: -0.803118] [G loss: -0.714627]\n",
      "[Epoch 248] [Batch 700/1563] [D loss: -0.075071] [G loss: -0.941693]\n",
      "[Epoch 248] [Batch 800/1563] [D loss: -1.375697] [G loss: -0.524041]\n",
      "[Epoch 248] [Batch 900/1563] [D loss: 0.259922] [G loss: -1.225406]\n",
      "[Epoch 248] [Batch 1000/1563] [D loss: -0.761988] [G loss: -1.521117]\n",
      "[Epoch 248] [Batch 1100/1563] [D loss: -0.013133] [G loss: 0.259023]\n",
      "[Epoch 248] [Batch 1200/1563] [D loss: -2.472392] [G loss: -0.761761]\n",
      "[Epoch 248] [Batch 1300/1563] [D loss: -0.897009] [G loss: -0.626962]\n",
      "[Epoch 248] [Batch 1400/1563] [D loss: -0.927059] [G loss: -1.172989]\n",
      "[Epoch 248] [Batch 1500/1563] [D loss: -0.492622] [G loss: -1.183997]\n"
     ]
    },
    {
     "name": "stderr",
     "output_type": "stream",
     "text": [
      "sample images: 100%|██████████| 256/256 [00:05<00:00, 48.06it/s]\n"
     ]
    },
    {
     "name": "stdout",
     "output_type": "stream",
     "text": [
      "Warning: number of images is not a multiple of the batch size. Some samples are going to be ignored.\n"
     ]
    },
    {
     "name": "stderr",
     "output_type": "stream",
     "text": [
      "100%|██████████| 81/81 [00:04<00:00, 19.78it/s]\n"
     ]
    },
    {
     "name": "stdout",
     "output_type": "stream",
     "text": [
      "FID score: 50.727325439453125\n"
     ]
    },
    {
     "name": "stderr",
     "output_type": "stream",
     "text": [
      "sample images: 100%|██████████| 256/256 [00:05<00:00, 48.03it/s]\n"
     ]
    },
    {
     "name": "stdout",
     "output_type": "stream",
     "text": [
      "Inception score: 5.650106000090557\n",
      "----- Epoch Summary -----\n",
      "Dis Loss: -0.065027 - Gen Loss: -0.651323 - Dis LR: 7.50537e-06 - Gen LR: 7.50537e-06\n",
      "FID score: 50.727325439453125 - Inception score: 5.650106000090557 || @ epoch 248.\n",
      "Best FID score: 46.537933349609375 @ epoch 217\n",
      "-----      End      -----\n",
      "\n",
      "------- Epoch 249 -------\n",
      "[Epoch 249] [Batch 100/1563] [D loss: 1.541824] [G loss: -0.772296]\n",
      "[Epoch 249] [Batch 200/1563] [D loss: -0.583397] [G loss: -0.952665]\n",
      "[Epoch 249] [Batch 300/1563] [D loss: -0.942745] [G loss: -0.179738]\n",
      "[Epoch 249] [Batch 400/1563] [D loss: 1.387836] [G loss: -0.106698]\n",
      "[Epoch 249] [Batch 500/1563] [D loss: 0.660857] [G loss: -1.801991]\n",
      "[Epoch 249] [Batch 600/1563] [D loss: 0.509209] [G loss: -0.736593]\n",
      "[Epoch 249] [Batch 700/1563] [D loss: 0.121237] [G loss: -1.753126]\n",
      "[Epoch 249] [Batch 800/1563] [D loss: -0.993571] [G loss: 0.231866]\n",
      "[Epoch 249] [Batch 900/1563] [D loss: 0.323761] [G loss: 0.697301]\n",
      "[Epoch 249] [Batch 1000/1563] [D loss: 1.027061] [G loss: -0.207353]\n",
      "[Epoch 249] [Batch 1100/1563] [D loss: 0.022713] [G loss: -2.815847]\n",
      "[Epoch 249] [Batch 1200/1563] [D loss: 0.760644] [G loss: 0.638744]\n",
      "[Epoch 249] [Batch 1300/1563] [D loss: 1.320461] [G loss: -0.775466]\n",
      "[Epoch 249] [Batch 1400/1563] [D loss: -0.217471] [G loss: 0.123629]\n",
      "[Epoch 249] [Batch 1500/1563] [D loss: -0.702992] [G loss: -0.112536]\n"
     ]
    },
    {
     "name": "stderr",
     "output_type": "stream",
     "text": [
      "sample images: 100%|██████████| 256/256 [00:05<00:00, 47.93it/s]\n"
     ]
    },
    {
     "name": "stdout",
     "output_type": "stream",
     "text": [
      "Warning: number of images is not a multiple of the batch size. Some samples are going to be ignored.\n"
     ]
    },
    {
     "name": "stderr",
     "output_type": "stream",
     "text": [
      "100%|██████████| 81/81 [00:04<00:00, 19.77it/s]\n"
     ]
    },
    {
     "name": "stdout",
     "output_type": "stream",
     "text": [
      "FID score: 48.069122314453125\n"
     ]
    },
    {
     "name": "stderr",
     "output_type": "stream",
     "text": [
      "sample images: 100%|██████████| 256/256 [00:05<00:00, 48.02it/s]\n"
     ]
    },
    {
     "name": "stdout",
     "output_type": "stream",
     "text": [
      "Inception score: 5.708643006606102\n",
      "----- Epoch Summary -----\n",
      "Dis Loss: 0.026687 - Gen Loss: -0.684087 - Dis LR: 7.23179e-06 - Gen LR: 7.23179e-06\n",
      "FID score: 48.069122314453125 - Inception score: 5.708643006606102 || @ epoch 249.\n",
      "Best FID score: 46.537933349609375 @ epoch 217\n",
      "-----      End      -----\n",
      "\n",
      "------- Epoch 250 -------\n",
      "[Epoch 250] [Batch 100/1563] [D loss: -0.361360] [G loss: -0.636932]\n",
      "[Epoch 250] [Batch 200/1563] [D loss: -1.605892] [G loss: -0.240649]\n",
      "[Epoch 250] [Batch 300/1563] [D loss: -1.518899] [G loss: -0.887042]\n",
      "[Epoch 250] [Batch 400/1563] [D loss: -1.034922] [G loss: -0.908311]\n",
      "[Epoch 250] [Batch 500/1563] [D loss: 0.898150] [G loss: -0.205716]\n",
      "[Epoch 250] [Batch 600/1563] [D loss: 0.857835] [G loss: -1.293500]\n",
      "[Epoch 250] [Batch 700/1563] [D loss: -1.830991] [G loss: 0.721888]\n",
      "[Epoch 250] [Batch 800/1563] [D loss: 0.530590] [G loss: 0.621238]\n",
      "[Epoch 250] [Batch 900/1563] [D loss: -0.269900] [G loss: -0.164228]\n",
      "[Epoch 250] [Batch 1000/1563] [D loss: 1.036369] [G loss: 0.142180]\n",
      "[Epoch 250] [Batch 1100/1563] [D loss: -1.089049] [G loss: -1.263407]\n",
      "[Epoch 250] [Batch 1200/1563] [D loss: -1.102387] [G loss: -0.722567]\n",
      "[Epoch 250] [Batch 1300/1563] [D loss: 1.150998] [G loss: -0.938602]\n",
      "[Epoch 250] [Batch 1400/1563] [D loss: -1.856039] [G loss: 0.112308]\n",
      "[Epoch 250] [Batch 1500/1563] [D loss: -0.284850] [G loss: -1.348374]\n"
     ]
    },
    {
     "name": "stderr",
     "output_type": "stream",
     "text": [
      "sample images: 100%|██████████| 256/256 [00:05<00:00, 47.99it/s]\n"
     ]
    },
    {
     "name": "stdout",
     "output_type": "stream",
     "text": [
      "Warning: number of images is not a multiple of the batch size. Some samples are going to be ignored.\n"
     ]
    },
    {
     "name": "stderr",
     "output_type": "stream",
     "text": [
      "100%|██████████| 81/81 [00:04<00:00, 19.80it/s]\n"
     ]
    },
    {
     "name": "stdout",
     "output_type": "stream",
     "text": [
      "FID score: 53.073333740234375\n"
     ]
    },
    {
     "name": "stderr",
     "output_type": "stream",
     "text": [
      "sample images: 100%|██████████| 256/256 [00:05<00:00, 48.05it/s]\n"
     ]
    },
    {
     "name": "stdout",
     "output_type": "stream",
     "text": [
      "Inception score: 5.467799797810183\n",
      "----- Epoch Summary -----\n",
      "Dis Loss: -0.015139 - Gen Loss: -0.546577 - Dis LR: 6.9629e-06 - Gen LR: 6.9629e-06\n",
      "FID score: 53.073333740234375 - Inception score: 5.467799797810183 || @ epoch 250.\n",
      "Best FID score: 46.537933349609375 @ epoch 217\n",
      "-----      End      -----\n",
      "\n",
      "------- Epoch 251 -------\n",
      "[Epoch 251] [Batch 0/1563] [D loss: 0.469381] [G loss: -1.964252]\n",
      "[Epoch 251] [Batch 100/1563] [D loss: 0.591238] [G loss: -0.401758]\n",
      "[Epoch 251] [Batch 200/1563] [D loss: -1.329753] [G loss: 0.450779]\n",
      "[Epoch 251] [Batch 300/1563] [D loss: -1.158910] [G loss: -0.647931]\n",
      "[Epoch 251] [Batch 400/1563] [D loss: -3.011995] [G loss: 1.015982]\n",
      "[Epoch 251] [Batch 500/1563] [D loss: 0.183858] [G loss: -0.511680]\n",
      "[Epoch 251] [Batch 600/1563] [D loss: 1.505263] [G loss: -0.815162]\n",
      "[Epoch 251] [Batch 700/1563] [D loss: 0.063945] [G loss: -1.833286]\n",
      "[Epoch 251] [Batch 800/1563] [D loss: -0.512659] [G loss: -0.063638]\n",
      "[Epoch 251] [Batch 900/1563] [D loss: -0.952110] [G loss: -1.151304]\n",
      "[Epoch 251] [Batch 1000/1563] [D loss: 1.259034] [G loss: -0.589314]\n",
      "[Epoch 251] [Batch 1100/1563] [D loss: -1.119274] [G loss: -0.333018]\n",
      "[Epoch 251] [Batch 1200/1563] [D loss: 0.563493] [G loss: -0.843430]\n",
      "[Epoch 251] [Batch 1300/1563] [D loss: 0.407413] [G loss: -1.769384]\n",
      "[Epoch 251] [Batch 1400/1563] [D loss: 0.936670] [G loss: -0.067614]\n",
      "[Epoch 251] [Batch 1500/1563] [D loss: -0.473605] [G loss: -0.018882]\n"
     ]
    },
    {
     "name": "stderr",
     "output_type": "stream",
     "text": [
      "sample images: 100%|██████████| 256/256 [00:05<00:00, 48.02it/s]\n"
     ]
    },
    {
     "name": "stdout",
     "output_type": "stream",
     "text": [
      "Warning: number of images is not a multiple of the batch size. Some samples are going to be ignored.\n"
     ]
    },
    {
     "name": "stderr",
     "output_type": "stream",
     "text": [
      "100%|██████████| 81/81 [00:04<00:00, 19.77it/s]\n"
     ]
    },
    {
     "name": "stdout",
     "output_type": "stream",
     "text": [
      "FID score: 51.14532470703125\n"
     ]
    },
    {
     "name": "stderr",
     "output_type": "stream",
     "text": [
      "sample images: 100%|██████████| 256/256 [00:05<00:00, 48.06it/s]\n"
     ]
    },
    {
     "name": "stdout",
     "output_type": "stream",
     "text": [
      "Inception score: 5.532071169472901\n",
      "----- Epoch Summary -----\n",
      "Dis Loss: -0.018103 - Gen Loss: -0.621792 - Dis LR: 6.69873e-06 - Gen LR: 6.69873e-06\n",
      "FID score: 51.14532470703125 - Inception score: 5.532071169472901 || @ epoch 251.\n",
      "Best FID score: 46.537933349609375 @ epoch 217\n",
      "-----      End      -----\n",
      "\n",
      "------- Epoch 252 -------\n",
      "[Epoch 252] [Batch 100/1563] [D loss: -0.789983] [G loss: -0.420895]\n",
      "[Epoch 252] [Batch 200/1563] [D loss: 0.013052] [G loss: -0.660865]\n",
      "[Epoch 252] [Batch 300/1563] [D loss: -0.469704] [G loss: 0.422407]\n",
      "[Epoch 252] [Batch 400/1563] [D loss: -0.029195] [G loss: 0.475370]\n",
      "[Epoch 252] [Batch 500/1563] [D loss: 1.967417] [G loss: -2.559661]\n",
      "[Epoch 252] [Batch 600/1563] [D loss: -1.056078] [G loss: -1.188697]\n",
      "[Epoch 252] [Batch 700/1563] [D loss: 0.667268] [G loss: -0.985602]\n",
      "[Epoch 252] [Batch 800/1563] [D loss: 0.854598] [G loss: -1.464955]\n",
      "[Epoch 252] [Batch 900/1563] [D loss: 0.483021] [G loss: -0.513657]\n",
      "[Epoch 252] [Batch 1000/1563] [D loss: 1.725604] [G loss: -1.231649]\n",
      "[Epoch 252] [Batch 1100/1563] [D loss: -1.338654] [G loss: -1.144033]\n",
      "[Epoch 252] [Batch 1200/1563] [D loss: 0.787532] [G loss: -1.410816]\n",
      "[Epoch 252] [Batch 1300/1563] [D loss: -0.666842] [G loss: -1.479059]\n",
      "[Epoch 252] [Batch 1400/1563] [D loss: 0.243996] [G loss: 0.047591]\n",
      "[Epoch 252] [Batch 1500/1563] [D loss: 1.213340] [G loss: -1.355981]\n"
     ]
    },
    {
     "name": "stderr",
     "output_type": "stream",
     "text": [
      "sample images: 100%|██████████| 256/256 [00:05<00:00, 48.02it/s]\n"
     ]
    },
    {
     "name": "stdout",
     "output_type": "stream",
     "text": [
      "Warning: number of images is not a multiple of the batch size. Some samples are going to be ignored.\n"
     ]
    },
    {
     "name": "stderr",
     "output_type": "stream",
     "text": [
      "100%|██████████| 81/81 [00:04<00:00, 19.80it/s]\n"
     ]
    },
    {
     "name": "stdout",
     "output_type": "stream",
     "text": [
      "FID score: 54.504852294921875\n"
     ]
    },
    {
     "name": "stderr",
     "output_type": "stream",
     "text": [
      "sample images: 100%|██████████| 256/256 [00:05<00:00, 48.03it/s]\n"
     ]
    },
    {
     "name": "stdout",
     "output_type": "stream",
     "text": [
      "Inception score: 5.561502945100302\n",
      "----- Epoch Summary -----\n",
      "Dis Loss: -0.030452 - Gen Loss: -0.696601 - Dis LR: 6.43931e-06 - Gen LR: 6.43931e-06\n",
      "FID score: 54.504852294921875 - Inception score: 5.561502945100302 || @ epoch 252.\n",
      "Best FID score: 46.537933349609375 @ epoch 217\n",
      "-----      End      -----\n",
      "\n",
      "------- Epoch 253 -------\n",
      "[Epoch 253] [Batch 100/1563] [D loss: -0.139783] [G loss: -0.739631]\n",
      "[Epoch 253] [Batch 200/1563] [D loss: -0.097791] [G loss: -1.754582]\n",
      "[Epoch 253] [Batch 300/1563] [D loss: -0.230959] [G loss: 0.056567]\n",
      "[Epoch 253] [Batch 400/1563] [D loss: -1.074959] [G loss: -1.112756]\n",
      "[Epoch 253] [Batch 500/1563] [D loss: -1.333300] [G loss: -0.092266]\n",
      "[Epoch 253] [Batch 600/1563] [D loss: 0.041692] [G loss: -0.863831]\n",
      "[Epoch 253] [Batch 700/1563] [D loss: -1.158744] [G loss: -1.715738]\n",
      "[Epoch 253] [Batch 800/1563] [D loss: -0.090954] [G loss: 2.007376]\n",
      "[Epoch 253] [Batch 900/1563] [D loss: 0.018742] [G loss: 0.625485]\n",
      "[Epoch 253] [Batch 1000/1563] [D loss: 0.394981] [G loss: -0.617711]\n",
      "[Epoch 253] [Batch 1100/1563] [D loss: 0.986506] [G loss: -1.453510]\n",
      "[Epoch 253] [Batch 1200/1563] [D loss: -0.060011] [G loss: -1.911840]\n",
      "[Epoch 253] [Batch 1300/1563] [D loss: -0.502340] [G loss: 0.127185]\n",
      "[Epoch 253] [Batch 1400/1563] [D loss: 0.120395] [G loss: 0.677475]\n",
      "[Epoch 253] [Batch 1500/1563] [D loss: 0.409296] [G loss: -2.193942]\n"
     ]
    },
    {
     "name": "stderr",
     "output_type": "stream",
     "text": [
      "sample images: 100%|██████████| 256/256 [00:05<00:00, 48.03it/s]\n"
     ]
    },
    {
     "name": "stdout",
     "output_type": "stream",
     "text": [
      "Warning: number of images is not a multiple of the batch size. Some samples are going to be ignored.\n"
     ]
    },
    {
     "name": "stderr",
     "output_type": "stream",
     "text": [
      "100%|██████████| 81/81 [00:04<00:00, 19.76it/s]\n"
     ]
    },
    {
     "name": "stdout",
     "output_type": "stream",
     "text": [
      "FID score: 49.117279052734375\n"
     ]
    },
    {
     "name": "stderr",
     "output_type": "stream",
     "text": [
      "sample images: 100%|██████████| 256/256 [00:05<00:00, 48.06it/s]\n"
     ]
    },
    {
     "name": "stdout",
     "output_type": "stream",
     "text": [
      "Inception score: 5.500275782310691\n",
      "----- Epoch Summary -----\n",
      "Dis Loss: -0.018223 - Gen Loss: -0.705062 - Dis LR: 6.18467e-06 - Gen LR: 6.18467e-06\n",
      "FID score: 49.117279052734375 - Inception score: 5.500275782310691 || @ epoch 253.\n",
      "Best FID score: 46.537933349609375 @ epoch 217\n",
      "-----      End      -----\n",
      "\n",
      "------- Epoch 254 -------\n",
      "[Epoch 254] [Batch 100/1563] [D loss: -1.594978] [G loss: 0.130189]\n",
      "[Epoch 254] [Batch 200/1563] [D loss: 0.047806] [G loss: 0.092677]\n",
      "[Epoch 254] [Batch 300/1563] [D loss: -1.611333] [G loss: -0.800854]\n",
      "[Epoch 254] [Batch 400/1563] [D loss: -1.485669] [G loss: -1.866154]\n",
      "[Epoch 254] [Batch 500/1563] [D loss: 1.624743] [G loss: -0.687844]\n",
      "[Epoch 254] [Batch 600/1563] [D loss: 0.325108] [G loss: -1.253274]\n",
      "[Epoch 254] [Batch 700/1563] [D loss: -1.176630] [G loss: 0.145194]\n",
      "[Epoch 254] [Batch 800/1563] [D loss: 0.018704] [G loss: -1.319348]\n",
      "[Epoch 254] [Batch 900/1563] [D loss: -0.216897] [G loss: -0.601367]\n",
      "[Epoch 254] [Batch 1000/1563] [D loss: 1.035982] [G loss: 0.085822]\n",
      "[Epoch 254] [Batch 1100/1563] [D loss: 1.108085] [G loss: 1.037002]\n",
      "[Epoch 254] [Batch 1200/1563] [D loss: -1.636408] [G loss: -1.332837]\n",
      "[Epoch 254] [Batch 1300/1563] [D loss: -1.920285] [G loss: -0.867293]\n",
      "[Epoch 254] [Batch 1400/1563] [D loss: 0.515875] [G loss: -0.583116]\n",
      "[Epoch 254] [Batch 1500/1563] [D loss: -1.333892] [G loss: 0.783437]\n"
     ]
    },
    {
     "name": "stderr",
     "output_type": "stream",
     "text": [
      "sample images: 100%|██████████| 256/256 [00:05<00:00, 48.15it/s]\n"
     ]
    },
    {
     "name": "stdout",
     "output_type": "stream",
     "text": [
      "Warning: number of images is not a multiple of the batch size. Some samples are going to be ignored.\n"
     ]
    },
    {
     "name": "stderr",
     "output_type": "stream",
     "text": [
      "100%|██████████| 81/81 [00:04<00:00, 19.77it/s]\n"
     ]
    },
    {
     "name": "stdout",
     "output_type": "stream",
     "text": [
      "FID score: 48.70892333984375\n"
     ]
    },
    {
     "name": "stderr",
     "output_type": "stream",
     "text": [
      "sample images: 100%|██████████| 256/256 [00:05<00:00, 48.09it/s]\n"
     ]
    },
    {
     "name": "stdout",
     "output_type": "stream",
     "text": [
      "Inception score: 5.523517920145776\n",
      "----- Epoch Summary -----\n",
      "Dis Loss: -0.048575 - Gen Loss: -0.660727 - Dis LR: 5.93483e-06 - Gen LR: 5.93483e-06\n",
      "FID score: 48.70892333984375 - Inception score: 5.523517920145776 || @ epoch 254.\n",
      "Best FID score: 46.537933349609375 @ epoch 217\n",
      "-----      End      -----\n",
      "\n",
      "------- Epoch 255 -------\n",
      "[Epoch 255] [Batch 100/1563] [D loss: -1.789361] [G loss: 0.572232]\n",
      "[Epoch 255] [Batch 200/1563] [D loss: 0.028862] [G loss: 1.536139]\n",
      "[Epoch 255] [Batch 300/1563] [D loss: -1.037048] [G loss: -0.000808]\n",
      "[Epoch 255] [Batch 400/1563] [D loss: -0.415575] [G loss: 0.295911]\n",
      "[Epoch 255] [Batch 500/1563] [D loss: -0.082860] [G loss: -0.465996]\n",
      "[Epoch 255] [Batch 600/1563] [D loss: 1.633789] [G loss: -0.137012]\n",
      "[Epoch 255] [Batch 700/1563] [D loss: -0.397295] [G loss: -0.166237]\n",
      "[Epoch 255] [Batch 800/1563] [D loss: -0.161630] [G loss: -0.348099]\n",
      "[Epoch 255] [Batch 900/1563] [D loss: -0.431406] [G loss: -1.141906]\n",
      "[Epoch 255] [Batch 1000/1563] [D loss: -0.401247] [G loss: -2.362049]\n",
      "[Epoch 255] [Batch 1100/1563] [D loss: 1.853906] [G loss: -2.232854]\n",
      "[Epoch 255] [Batch 1200/1563] [D loss: 0.736938] [G loss: -1.306062]\n",
      "[Epoch 255] [Batch 1300/1563] [D loss: -0.927458] [G loss: 0.743284]\n",
      "[Epoch 255] [Batch 1400/1563] [D loss: 0.387946] [G loss: -0.393177]\n",
      "[Epoch 255] [Batch 1500/1563] [D loss: 0.518612] [G loss: -0.673039]\n"
     ]
    },
    {
     "name": "stderr",
     "output_type": "stream",
     "text": [
      "sample images: 100%|██████████| 256/256 [00:05<00:00, 48.15it/s]\n"
     ]
    },
    {
     "name": "stdout",
     "output_type": "stream",
     "text": [
      "Warning: number of images is not a multiple of the batch size. Some samples are going to be ignored.\n"
     ]
    },
    {
     "name": "stderr",
     "output_type": "stream",
     "text": [
      "100%|██████████| 81/81 [00:04<00:00, 19.77it/s]\n"
     ]
    },
    {
     "name": "stdout",
     "output_type": "stream",
     "text": [
      "FID score: 51.734283447265625\n"
     ]
    },
    {
     "name": "stderr",
     "output_type": "stream",
     "text": [
      "sample images: 100%|██████████| 256/256 [00:05<00:00, 48.09it/s]\n"
     ]
    },
    {
     "name": "stdout",
     "output_type": "stream",
     "text": [
      "Inception score: 5.429722247453807\n",
      "----- Epoch Summary -----\n",
      "Dis Loss: -0.007903 - Gen Loss: -0.720387 - Dis LR: 5.68982e-06 - Gen LR: 5.68982e-06\n",
      "FID score: 51.734283447265625 - Inception score: 5.429722247453807 || @ epoch 255.\n",
      "Best FID score: 46.537933349609375 @ epoch 217\n",
      "-----      End      -----\n",
      "\n",
      "------- Epoch 256 -------\n",
      "[Epoch 256] [Batch 0/1563] [D loss: 1.117504] [G loss: -0.981460]\n",
      "[Epoch 256] [Batch 100/1563] [D loss: -0.350271] [G loss: -1.340909]\n",
      "[Epoch 256] [Batch 200/1563] [D loss: -2.000125] [G loss: 0.036645]\n",
      "[Epoch 256] [Batch 300/1563] [D loss: 0.037957] [G loss: 0.395602]\n",
      "[Epoch 256] [Batch 400/1563] [D loss: 0.168320] [G loss: -0.513082]\n",
      "[Epoch 256] [Batch 500/1563] [D loss: 0.592912] [G loss: 0.804333]\n",
      "[Epoch 256] [Batch 600/1563] [D loss: -1.431559] [G loss: -1.654473]\n",
      "[Epoch 256] [Batch 700/1563] [D loss: 0.381440] [G loss: -0.841329]\n",
      "[Epoch 256] [Batch 800/1563] [D loss: -0.132336] [G loss: -0.296249]\n",
      "[Epoch 256] [Batch 900/1563] [D loss: 0.532391] [G loss: -2.250069]\n",
      "[Epoch 256] [Batch 1000/1563] [D loss: 2.313914] [G loss: 0.919612]\n",
      "[Epoch 256] [Batch 1100/1563] [D loss: -1.652109] [G loss: -0.487686]\n",
      "[Epoch 256] [Batch 1200/1563] [D loss: 1.391477] [G loss: -1.758682]\n",
      "[Epoch 256] [Batch 1300/1563] [D loss: -0.343247] [G loss: -0.547034]\n",
      "[Epoch 256] [Batch 1400/1563] [D loss: -1.687095] [G loss: -0.123808]\n",
      "[Epoch 256] [Batch 1500/1563] [D loss: -1.040806] [G loss: -0.157506]\n"
     ]
    },
    {
     "name": "stderr",
     "output_type": "stream",
     "text": [
      "sample images: 100%|██████████| 256/256 [00:05<00:00, 48.00it/s]\n"
     ]
    },
    {
     "name": "stdout",
     "output_type": "stream",
     "text": [
      "Warning: number of images is not a multiple of the batch size. Some samples are going to be ignored.\n"
     ]
    },
    {
     "name": "stderr",
     "output_type": "stream",
     "text": [
      "100%|██████████| 81/81 [00:04<00:00, 19.76it/s]\n"
     ]
    },
    {
     "name": "stdout",
     "output_type": "stream",
     "text": [
      "FID score: 51.2298583984375\n"
     ]
    },
    {
     "name": "stderr",
     "output_type": "stream",
     "text": [
      "sample images: 100%|██████████| 256/256 [00:05<00:00, 48.01it/s]\n"
     ]
    },
    {
     "name": "stdout",
     "output_type": "stream",
     "text": [
      "Inception score: 5.428513201112418\n",
      "----- Epoch Summary -----\n",
      "Dis Loss: -0.069289 - Gen Loss: -0.688754 - Dis LR: 5.44967e-06 - Gen LR: 5.44967e-06\n",
      "FID score: 51.2298583984375 - Inception score: 5.428513201112418 || @ epoch 256.\n",
      "Best FID score: 46.537933349609375 @ epoch 217\n",
      "-----      End      -----\n",
      "\n",
      "------- Epoch 257 -------\n",
      "[Epoch 257] [Batch 100/1563] [D loss: -1.463125] [G loss: -0.094197]\n",
      "[Epoch 257] [Batch 200/1563] [D loss: -0.246840] [G loss: -0.352578]\n",
      "[Epoch 257] [Batch 300/1563] [D loss: 0.960949] [G loss: -0.736295]\n",
      "[Epoch 257] [Batch 400/1563] [D loss: 2.148375] [G loss: -1.029012]\n",
      "[Epoch 257] [Batch 500/1563] [D loss: 2.276574] [G loss: -0.082796]\n",
      "[Epoch 257] [Batch 600/1563] [D loss: -0.458302] [G loss: -0.958007]\n",
      "[Epoch 257] [Batch 700/1563] [D loss: 0.838824] [G loss: -1.108916]\n",
      "[Epoch 257] [Batch 800/1563] [D loss: -0.712418] [G loss: -1.079680]\n",
      "[Epoch 257] [Batch 900/1563] [D loss: 0.274229] [G loss: -1.367340]\n",
      "[Epoch 257] [Batch 1000/1563] [D loss: 0.532663] [G loss: -0.584971]\n",
      "[Epoch 257] [Batch 1100/1563] [D loss: -0.716711] [G loss: 0.111791]\n",
      "[Epoch 257] [Batch 1200/1563] [D loss: -0.080360] [G loss: -1.465850]\n",
      "[Epoch 257] [Batch 1300/1563] [D loss: -1.565104] [G loss: -0.832047]\n",
      "[Epoch 257] [Batch 1400/1563] [D loss: 1.437390] [G loss: -0.003041]\n",
      "[Epoch 257] [Batch 1500/1563] [D loss: 2.499732] [G loss: -0.749091]\n"
     ]
    },
    {
     "name": "stderr",
     "output_type": "stream",
     "text": [
      "sample images: 100%|██████████| 256/256 [00:05<00:00, 48.10it/s]\n"
     ]
    },
    {
     "name": "stdout",
     "output_type": "stream",
     "text": [
      "Warning: number of images is not a multiple of the batch size. Some samples are going to be ignored.\n"
     ]
    },
    {
     "name": "stderr",
     "output_type": "stream",
     "text": [
      "100%|██████████| 81/81 [00:04<00:00, 19.78it/s]\n"
     ]
    },
    {
     "name": "stdout",
     "output_type": "stream",
     "text": [
      "FID score: 52.93853759765625\n"
     ]
    },
    {
     "name": "stderr",
     "output_type": "stream",
     "text": [
      "sample images: 100%|██████████| 256/256 [00:05<00:00, 48.05it/s]\n"
     ]
    },
    {
     "name": "stdout",
     "output_type": "stream",
     "text": [
      "Inception score: 5.482239798615276\n",
      "----- Epoch Summary -----\n",
      "Dis Loss: -0.040374 - Gen Loss: -0.690545 - Dis LR: 5.21441e-06 - Gen LR: 5.21441e-06\n",
      "FID score: 52.93853759765625 - Inception score: 5.482239798615276 || @ epoch 257.\n",
      "Best FID score: 46.537933349609375 @ epoch 217\n",
      "-----      End      -----\n",
      "\n",
      "------- Epoch 258 -------\n",
      "[Epoch 258] [Batch 100/1563] [D loss: -0.540463] [G loss: -0.945572]\n",
      "[Epoch 258] [Batch 200/1563] [D loss: 0.264341] [G loss: 0.345392]\n",
      "[Epoch 258] [Batch 300/1563] [D loss: 0.096474] [G loss: -0.389335]\n",
      "[Epoch 258] [Batch 400/1563] [D loss: 0.433371] [G loss: -0.296969]\n",
      "[Epoch 258] [Batch 500/1563] [D loss: -0.901190] [G loss: 0.544666]\n",
      "[Epoch 258] [Batch 600/1563] [D loss: -1.316314] [G loss: -0.377124]\n",
      "[Epoch 258] [Batch 700/1563] [D loss: 0.458681] [G loss: 0.597954]\n",
      "[Epoch 258] [Batch 800/1563] [D loss: 1.167810] [G loss: 0.781830]\n",
      "[Epoch 258] [Batch 900/1563] [D loss: -1.276057] [G loss: -2.609088]\n",
      "[Epoch 258] [Batch 1000/1563] [D loss: 0.762092] [G loss: 0.222677]\n",
      "[Epoch 258] [Batch 1100/1563] [D loss: 0.016006] [G loss: -0.756614]\n",
      "[Epoch 258] [Batch 1200/1563] [D loss: -1.058011] [G loss: -0.300880]\n",
      "[Epoch 258] [Batch 1300/1563] [D loss: -0.738472] [G loss: -1.880242]\n",
      "[Epoch 258] [Batch 1400/1563] [D loss: -2.531610] [G loss: 0.393695]\n",
      "[Epoch 258] [Batch 1500/1563] [D loss: 0.120992] [G loss: -1.920371]\n"
     ]
    },
    {
     "name": "stderr",
     "output_type": "stream",
     "text": [
      "sample images: 100%|██████████| 256/256 [00:05<00:00, 48.10it/s]\n"
     ]
    },
    {
     "name": "stdout",
     "output_type": "stream",
     "text": [
      "Warning: number of images is not a multiple of the batch size. Some samples are going to be ignored.\n"
     ]
    },
    {
     "name": "stderr",
     "output_type": "stream",
     "text": [
      "100%|██████████| 81/81 [00:04<00:00, 19.78it/s]\n"
     ]
    },
    {
     "name": "stdout",
     "output_type": "stream",
     "text": [
      "FID score: 50.246612548828125\n"
     ]
    },
    {
     "name": "stderr",
     "output_type": "stream",
     "text": [
      "sample images: 100%|██████████| 256/256 [00:05<00:00, 48.05it/s]\n"
     ]
    },
    {
     "name": "stdout",
     "output_type": "stream",
     "text": [
      "Inception score: 5.595905619116252\n",
      "----- Epoch Summary -----\n",
      "Dis Loss: -0.028783 - Gen Loss: -0.744765 - Dis LR: 4.98406e-06 - Gen LR: 4.98406e-06\n",
      "FID score: 50.246612548828125 - Inception score: 5.595905619116252 || @ epoch 258.\n",
      "Best FID score: 46.537933349609375 @ epoch 217\n",
      "-----      End      -----\n",
      "\n",
      "------- Epoch 259 -------\n",
      "[Epoch 259] [Batch 100/1563] [D loss: 1.713268] [G loss: -0.551059]\n",
      "[Epoch 259] [Batch 200/1563] [D loss: 0.997719] [G loss: 0.107377]\n",
      "[Epoch 259] [Batch 300/1563] [D loss: 0.258857] [G loss: 0.103028]\n",
      "[Epoch 259] [Batch 400/1563] [D loss: -0.179149] [G loss: -1.139417]\n",
      "[Epoch 259] [Batch 500/1563] [D loss: -0.133920] [G loss: -2.672793]\n",
      "[Epoch 259] [Batch 600/1563] [D loss: 1.634329] [G loss: -1.346845]\n",
      "[Epoch 259] [Batch 700/1563] [D loss: 0.002818] [G loss: -1.320603]\n",
      "[Epoch 259] [Batch 800/1563] [D loss: 1.664524] [G loss: -1.471534]\n",
      "[Epoch 259] [Batch 900/1563] [D loss: -0.025984] [G loss: -1.075909]\n",
      "[Epoch 259] [Batch 1000/1563] [D loss: -0.933281] [G loss: -1.729446]\n",
      "[Epoch 259] [Batch 1100/1563] [D loss: 2.511330] [G loss: -0.586171]\n",
      "[Epoch 259] [Batch 1200/1563] [D loss: -0.708357] [G loss: -0.558314]\n",
      "[Epoch 259] [Batch 1300/1563] [D loss: -1.735290] [G loss: -0.464012]\n",
      "[Epoch 259] [Batch 1400/1563] [D loss: -1.015136] [G loss: -0.994455]\n",
      "[Epoch 259] [Batch 1500/1563] [D loss: 1.653946] [G loss: -0.939077]\n"
     ]
    },
    {
     "name": "stderr",
     "output_type": "stream",
     "text": [
      "sample images: 100%|██████████| 256/256 [00:05<00:00, 48.10it/s]\n"
     ]
    },
    {
     "name": "stdout",
     "output_type": "stream",
     "text": [
      "Warning: number of images is not a multiple of the batch size. Some samples are going to be ignored.\n"
     ]
    },
    {
     "name": "stderr",
     "output_type": "stream",
     "text": [
      "100%|██████████| 81/81 [00:04<00:00, 19.79it/s]\n"
     ]
    },
    {
     "name": "stdout",
     "output_type": "stream",
     "text": [
      "FID score: 53.2657470703125\n"
     ]
    },
    {
     "name": "stderr",
     "output_type": "stream",
     "text": [
      "sample images: 100%|██████████| 256/256 [00:05<00:00, 48.05it/s]\n"
     ]
    },
    {
     "name": "stdout",
     "output_type": "stream",
     "text": [
      "Inception score: 5.503056988258292\n",
      "----- Epoch Summary -----\n",
      "Dis Loss: -0.094603 - Gen Loss: -0.801581 - Dis LR: 4.75865e-06 - Gen LR: 4.75865e-06\n",
      "FID score: 53.2657470703125 - Inception score: 5.503056988258292 || @ epoch 259.\n",
      "Best FID score: 46.537933349609375 @ epoch 217\n",
      "-----      End      -----\n",
      "\n",
      "------- Epoch 260 -------\n",
      "[Epoch 260] [Batch 100/1563] [D loss: -1.081808] [G loss: -0.535030]\n",
      "[Epoch 260] [Batch 200/1563] [D loss: 1.345369] [G loss: 0.141084]\n",
      "[Epoch 260] [Batch 300/1563] [D loss: 0.606944] [G loss: -0.632182]\n",
      "[Epoch 260] [Batch 400/1563] [D loss: 0.485684] [G loss: -1.600371]\n",
      "[Epoch 260] [Batch 500/1563] [D loss: 2.817633] [G loss: -0.056331]\n",
      "[Epoch 260] [Batch 600/1563] [D loss: -2.023343] [G loss: -0.345420]\n",
      "[Epoch 260] [Batch 700/1563] [D loss: 0.555191] [G loss: -0.904421]\n",
      "[Epoch 260] [Batch 800/1563] [D loss: 0.414127] [G loss: -0.355540]\n",
      "[Epoch 260] [Batch 900/1563] [D loss: 1.505434] [G loss: 0.381392]\n",
      "[Epoch 260] [Batch 1000/1563] [D loss: -0.185833] [G loss: 0.120841]\n",
      "[Epoch 260] [Batch 1100/1563] [D loss: 1.005962] [G loss: -0.654832]\n",
      "[Epoch 260] [Batch 1200/1563] [D loss: -1.465096] [G loss: -0.491197]\n",
      "[Epoch 260] [Batch 1300/1563] [D loss: 1.265914] [G loss: -1.503735]\n",
      "[Epoch 260] [Batch 1400/1563] [D loss: -2.016328] [G loss: -0.456131]\n",
      "[Epoch 260] [Batch 1500/1563] [D loss: 0.492514] [G loss: 0.394069]\n"
     ]
    },
    {
     "name": "stderr",
     "output_type": "stream",
     "text": [
      "sample images: 100%|██████████| 256/256 [00:05<00:00, 48.10it/s]\n"
     ]
    },
    {
     "name": "stdout",
     "output_type": "stream",
     "text": [
      "Warning: number of images is not a multiple of the batch size. Some samples are going to be ignored.\n"
     ]
    },
    {
     "name": "stderr",
     "output_type": "stream",
     "text": [
      "100%|██████████| 81/81 [00:04<00:00, 19.79it/s]\n"
     ]
    },
    {
     "name": "stdout",
     "output_type": "stream",
     "text": [
      "FID score: 50.876434326171875\n"
     ]
    },
    {
     "name": "stderr",
     "output_type": "stream",
     "text": [
      "sample images: 100%|██████████| 256/256 [00:05<00:00, 48.09it/s]\n"
     ]
    },
    {
     "name": "stdout",
     "output_type": "stream",
     "text": [
      "Inception score: 5.372663879664446\n",
      "----- Epoch Summary -----\n",
      "Dis Loss: 0.000275 - Gen Loss: -0.833650 - Dis LR: 4.53819e-06 - Gen LR: 4.53819e-06\n",
      "FID score: 50.876434326171875 - Inception score: 5.372663879664446 || @ epoch 260.\n",
      "Best FID score: 46.537933349609375 @ epoch 217\n",
      "-----      End      -----\n",
      "\n",
      "------- Epoch 261 -------\n",
      "[Epoch 261] [Batch 0/1563] [D loss: 0.629235] [G loss: -1.396739]\n",
      "[Epoch 261] [Batch 100/1563] [D loss: 0.084112] [G loss: -1.602344]\n",
      "[Epoch 261] [Batch 200/1563] [D loss: 1.405131] [G loss: 0.568923]\n",
      "[Epoch 261] [Batch 300/1563] [D loss: -0.221304] [G loss: -0.515579]\n",
      "[Epoch 261] [Batch 400/1563] [D loss: -0.978691] [G loss: 1.129485]\n",
      "[Epoch 261] [Batch 500/1563] [D loss: 1.874731] [G loss: -0.914152]\n",
      "[Epoch 261] [Batch 600/1563] [D loss: 0.483553] [G loss: -1.177395]\n",
      "[Epoch 261] [Batch 700/1563] [D loss: -0.043486] [G loss: 0.239497]\n",
      "[Epoch 261] [Batch 800/1563] [D loss: 1.049447] [G loss: -1.137095]\n",
      "[Epoch 261] [Batch 900/1563] [D loss: 2.027304] [G loss: 0.232924]\n",
      "[Epoch 261] [Batch 1000/1563] [D loss: -1.166142] [G loss: 0.147269]\n",
      "[Epoch 261] [Batch 1100/1563] [D loss: 3.094532] [G loss: 1.138176]\n",
      "[Epoch 261] [Batch 1200/1563] [D loss: 1.826508] [G loss: -0.519542]\n",
      "[Epoch 261] [Batch 1300/1563] [D loss: 1.611791] [G loss: 0.710011]\n",
      "[Epoch 261] [Batch 1400/1563] [D loss: -1.026619] [G loss: -2.398329]\n",
      "[Epoch 261] [Batch 1500/1563] [D loss: 0.382747] [G loss: -1.263347]\n"
     ]
    },
    {
     "name": "stderr",
     "output_type": "stream",
     "text": [
      "sample images: 100%|██████████| 256/256 [00:05<00:00, 48.11it/s]\n"
     ]
    },
    {
     "name": "stdout",
     "output_type": "stream",
     "text": [
      "Warning: number of images is not a multiple of the batch size. Some samples are going to be ignored.\n"
     ]
    },
    {
     "name": "stderr",
     "output_type": "stream",
     "text": [
      "100%|██████████| 81/81 [00:04<00:00, 19.74it/s]\n"
     ]
    },
    {
     "name": "stdout",
     "output_type": "stream",
     "text": [
      "FID score: 51.2667236328125\n"
     ]
    },
    {
     "name": "stderr",
     "output_type": "stream",
     "text": [
      "sample images: 100%|██████████| 256/256 [00:05<00:00, 48.01it/s]\n"
     ]
    },
    {
     "name": "stdout",
     "output_type": "stream",
     "text": [
      "Inception score: 5.461043532678257\n",
      "----- Epoch Summary -----\n",
      "Dis Loss: -0.036538 - Gen Loss: -0.788387 - Dis LR: 4.32273e-06 - Gen LR: 4.32273e-06\n",
      "FID score: 51.2667236328125 - Inception score: 5.461043532678257 || @ epoch 261.\n",
      "Best FID score: 46.537933349609375 @ epoch 217\n",
      "-----      End      -----\n",
      "\n",
      "------- Epoch 262 -------\n",
      "[Epoch 262] [Batch 100/1563] [D loss: -0.006487] [G loss: -0.325306]\n",
      "[Epoch 262] [Batch 200/1563] [D loss: 1.798653] [G loss: -0.489598]\n",
      "[Epoch 262] [Batch 300/1563] [D loss: 3.454263] [G loss: -0.562411]\n",
      "[Epoch 262] [Batch 400/1563] [D loss: -0.448429] [G loss: 0.401015]\n",
      "[Epoch 262] [Batch 500/1563] [D loss: 0.935318] [G loss: -1.457962]\n",
      "[Epoch 262] [Batch 600/1563] [D loss: -1.404356] [G loss: -0.152979]\n",
      "[Epoch 262] [Batch 700/1563] [D loss: -2.444619] [G loss: -0.121217]\n",
      "[Epoch 262] [Batch 800/1563] [D loss: 2.362104] [G loss: -0.487170]\n",
      "[Epoch 262] [Batch 900/1563] [D loss: 1.078007] [G loss: -0.912531]\n",
      "[Epoch 262] [Batch 1000/1563] [D loss: -0.093186] [G loss: -2.402118]\n",
      "[Epoch 262] [Batch 1100/1563] [D loss: 1.602316] [G loss: -0.696251]\n",
      "[Epoch 262] [Batch 1200/1563] [D loss: 1.255073] [G loss: -0.642239]\n",
      "[Epoch 262] [Batch 1300/1563] [D loss: 1.619738] [G loss: 1.425336]\n",
      "[Epoch 262] [Batch 1400/1563] [D loss: -0.481637] [G loss: -2.798687]\n",
      "[Epoch 262] [Batch 1500/1563] [D loss: 0.298269] [G loss: -0.758772]\n"
     ]
    },
    {
     "name": "stderr",
     "output_type": "stream",
     "text": [
      "sample images: 100%|██████████| 256/256 [00:05<00:00, 48.10it/s]\n"
     ]
    },
    {
     "name": "stdout",
     "output_type": "stream",
     "text": [
      "Warning: number of images is not a multiple of the batch size. Some samples are going to be ignored.\n"
     ]
    },
    {
     "name": "stderr",
     "output_type": "stream",
     "text": [
      "100%|██████████| 81/81 [00:04<00:00, 19.81it/s]\n"
     ]
    },
    {
     "name": "stdout",
     "output_type": "stream",
     "text": [
      "FID score: 56.292724609375\n"
     ]
    },
    {
     "name": "stderr",
     "output_type": "stream",
     "text": [
      "sample images: 100%|██████████| 256/256 [00:05<00:00, 48.05it/s]\n"
     ]
    },
    {
     "name": "stdout",
     "output_type": "stream",
     "text": [
      "Inception score: 5.46937243282196\n",
      "----- Epoch Summary -----\n",
      "Dis Loss: -0.018932 - Gen Loss: -0.720827 - Dis LR: 4.11227e-06 - Gen LR: 4.11227e-06\n",
      "FID score: 56.292724609375 - Inception score: 5.46937243282196 || @ epoch 262.\n",
      "Best FID score: 46.537933349609375 @ epoch 217\n",
      "-----      End      -----\n",
      "\n",
      "------- Epoch 263 -------\n",
      "[Epoch 263] [Batch 100/1563] [D loss: 0.669489] [G loss: -1.769095]\n",
      "[Epoch 263] [Batch 200/1563] [D loss: 0.412103] [G loss: -0.006912]\n",
      "[Epoch 263] [Batch 300/1563] [D loss: -0.729315] [G loss: 0.593914]\n",
      "[Epoch 263] [Batch 400/1563] [D loss: 0.344358] [G loss: 0.607133]\n",
      "[Epoch 263] [Batch 500/1563] [D loss: 0.932081] [G loss: -0.251863]\n",
      "[Epoch 263] [Batch 600/1563] [D loss: 1.531663] [G loss: 0.432379]\n",
      "[Epoch 263] [Batch 700/1563] [D loss: 1.087478] [G loss: -1.931521]\n",
      "[Epoch 263] [Batch 800/1563] [D loss: -1.017970] [G loss: -1.458961]\n",
      "[Epoch 263] [Batch 900/1563] [D loss: 1.288976] [G loss: -1.608139]\n",
      "[Epoch 263] [Batch 1000/1563] [D loss: -0.793934] [G loss: -0.851430]\n",
      "[Epoch 263] [Batch 1100/1563] [D loss: -1.028448] [G loss: 0.606835]\n",
      "[Epoch 263] [Batch 1200/1563] [D loss: -0.498700] [G loss: -0.927509]\n",
      "[Epoch 263] [Batch 1300/1563] [D loss: 0.948750] [G loss: -0.194584]\n",
      "[Epoch 263] [Batch 1400/1563] [D loss: -0.211453] [G loss: -0.952509]\n",
      "[Epoch 263] [Batch 1500/1563] [D loss: 2.264326] [G loss: -1.614560]\n"
     ]
    },
    {
     "name": "stderr",
     "output_type": "stream",
     "text": [
      "sample images: 100%|██████████| 256/256 [00:05<00:00, 48.09it/s]\n"
     ]
    },
    {
     "name": "stdout",
     "output_type": "stream",
     "text": [
      "Warning: number of images is not a multiple of the batch size. Some samples are going to be ignored.\n"
     ]
    },
    {
     "name": "stderr",
     "output_type": "stream",
     "text": [
      "100%|██████████| 81/81 [00:04<00:00, 19.82it/s]\n"
     ]
    },
    {
     "name": "stdout",
     "output_type": "stream",
     "text": [
      "FID score: 50.951080322265625\n"
     ]
    },
    {
     "name": "stderr",
     "output_type": "stream",
     "text": [
      "sample images: 100%|██████████| 256/256 [00:05<00:00, 48.07it/s]\n"
     ]
    },
    {
     "name": "stdout",
     "output_type": "stream",
     "text": [
      "Inception score: 5.460158820482722\n",
      "----- Epoch Summary -----\n",
      "Dis Loss: -0.019391 - Gen Loss: -0.821946 - Dis LR: 3.90684e-06 - Gen LR: 3.90684e-06\n",
      "FID score: 50.951080322265625 - Inception score: 5.460158820482722 || @ epoch 263.\n",
      "Best FID score: 46.537933349609375 @ epoch 217\n",
      "-----      End      -----\n",
      "\n",
      "------- Epoch 264 -------\n",
      "[Epoch 264] [Batch 100/1563] [D loss: 0.458478] [G loss: -1.972601]\n",
      "[Epoch 264] [Batch 200/1563] [D loss: -0.395799] [G loss: -1.661213]\n",
      "[Epoch 264] [Batch 300/1563] [D loss: -1.469309] [G loss: -1.899252]\n",
      "[Epoch 264] [Batch 400/1563] [D loss: 1.300348] [G loss: -0.908359]\n",
      "[Epoch 264] [Batch 500/1563] [D loss: 0.753514] [G loss: -1.092307]\n",
      "[Epoch 264] [Batch 600/1563] [D loss: -2.674041] [G loss: -1.331542]\n",
      "[Epoch 264] [Batch 700/1563] [D loss: -1.377981] [G loss: -0.719808]\n",
      "[Epoch 264] [Batch 800/1563] [D loss: 2.120316] [G loss: -0.827460]\n",
      "[Epoch 264] [Batch 900/1563] [D loss: 0.694501] [G loss: -0.324483]\n",
      "[Epoch 264] [Batch 1000/1563] [D loss: 0.494217] [G loss: -2.127523]\n",
      "[Epoch 264] [Batch 1100/1563] [D loss: -1.211076] [G loss: 0.133517]\n",
      "[Epoch 264] [Batch 1200/1563] [D loss: -0.991655] [G loss: -1.958890]\n",
      "[Epoch 264] [Batch 1300/1563] [D loss: -0.563859] [G loss: -0.319934]\n",
      "[Epoch 264] [Batch 1400/1563] [D loss: 2.549745] [G loss: -0.995226]\n",
      "[Epoch 264] [Batch 1500/1563] [D loss: -0.000060] [G loss: -0.453106]\n"
     ]
    },
    {
     "name": "stderr",
     "output_type": "stream",
     "text": [
      "sample images: 100%|██████████| 256/256 [00:05<00:00, 48.05it/s]\n"
     ]
    },
    {
     "name": "stdout",
     "output_type": "stream",
     "text": [
      "Warning: number of images is not a multiple of the batch size. Some samples are going to be ignored.\n"
     ]
    },
    {
     "name": "stderr",
     "output_type": "stream",
     "text": [
      "100%|██████████| 81/81 [00:04<00:00, 19.80it/s]\n"
     ]
    },
    {
     "name": "stdout",
     "output_type": "stream",
     "text": [
      "FID score: 51.998260498046875\n"
     ]
    },
    {
     "name": "stderr",
     "output_type": "stream",
     "text": [
      "sample images: 100%|██████████| 256/256 [00:05<00:00, 48.00it/s]\n"
     ]
    },
    {
     "name": "stdout",
     "output_type": "stream",
     "text": [
      "Inception score: 5.560260816718562\n",
      "----- Epoch Summary -----\n",
      "Dis Loss: 0.022473 - Gen Loss: -0.819057 - Dis LR: 3.70647e-06 - Gen LR: 3.70647e-06\n",
      "FID score: 51.998260498046875 - Inception score: 5.560260816718562 || @ epoch 264.\n",
      "Best FID score: 46.537933349609375 @ epoch 217\n",
      "-----      End      -----\n",
      "\n",
      "------- Epoch 265 -------\n",
      "[Epoch 265] [Batch 100/1563] [D loss: 3.100289] [G loss: -1.300577]\n",
      "[Epoch 265] [Batch 200/1563] [D loss: 0.310655] [G loss: -0.361561]\n",
      "[Epoch 265] [Batch 300/1563] [D loss: -0.215936] [G loss: -1.864100]\n",
      "[Epoch 265] [Batch 400/1563] [D loss: -0.736265] [G loss: -2.062976]\n",
      "[Epoch 265] [Batch 500/1563] [D loss: -1.085875] [G loss: -1.260965]\n",
      "[Epoch 265] [Batch 600/1563] [D loss: -0.224490] [G loss: 0.276443]\n",
      "[Epoch 265] [Batch 700/1563] [D loss: -0.941227] [G loss: -0.145576]\n",
      "[Epoch 265] [Batch 800/1563] [D loss: 0.500951] [G loss: -1.161233]\n",
      "[Epoch 265] [Batch 900/1563] [D loss: -2.888942] [G loss: -0.826758]\n",
      "[Epoch 265] [Batch 1000/1563] [D loss: 1.840714] [G loss: -0.673039]\n",
      "[Epoch 265] [Batch 1100/1563] [D loss: -0.750777] [G loss: -1.156365]\n",
      "[Epoch 265] [Batch 1200/1563] [D loss: 1.045285] [G loss: -1.508324]\n",
      "[Epoch 265] [Batch 1300/1563] [D loss: 0.388079] [G loss: -1.412901]\n",
      "[Epoch 265] [Batch 1400/1563] [D loss: -0.003105] [G loss: -0.820588]\n",
      "[Epoch 265] [Batch 1500/1563] [D loss: 0.215539] [G loss: 0.104013]\n"
     ]
    },
    {
     "name": "stderr",
     "output_type": "stream",
     "text": [
      "sample images: 100%|██████████| 256/256 [00:05<00:00, 48.06it/s]\n"
     ]
    },
    {
     "name": "stdout",
     "output_type": "stream",
     "text": [
      "Warning: number of images is not a multiple of the batch size. Some samples are going to be ignored.\n"
     ]
    },
    {
     "name": "stderr",
     "output_type": "stream",
     "text": [
      "100%|██████████| 81/81 [00:04<00:00, 19.78it/s]\n"
     ]
    },
    {
     "name": "stdout",
     "output_type": "stream",
     "text": [
      "FID score: 52.009246826171875\n"
     ]
    },
    {
     "name": "stderr",
     "output_type": "stream",
     "text": [
      "sample images: 100%|██████████| 256/256 [00:05<00:00, 48.04it/s]\n"
     ]
    },
    {
     "name": "stdout",
     "output_type": "stream",
     "text": [
      "Inception score: 5.226759187821153\n",
      "----- Epoch Summary -----\n",
      "Dis Loss: -0.067025 - Gen Loss: -0.735914 - Dis LR: 3.51118e-06 - Gen LR: 3.51118e-06\n",
      "FID score: 52.009246826171875 - Inception score: 5.226759187821153 || @ epoch 265.\n",
      "Best FID score: 46.537933349609375 @ epoch 217\n",
      "-----      End      -----\n",
      "\n",
      "------- Epoch 266 -------\n",
      "[Epoch 266] [Batch 0/1563] [D loss: 0.753884] [G loss: 1.070588]\n",
      "[Epoch 266] [Batch 100/1563] [D loss: -0.785203] [G loss: -0.359962]\n",
      "[Epoch 266] [Batch 200/1563] [D loss: 1.217749] [G loss: -0.394245]\n",
      "[Epoch 266] [Batch 300/1563] [D loss: 0.773905] [G loss: 0.224815]\n",
      "[Epoch 266] [Batch 400/1563] [D loss: -0.921213] [G loss: -0.910914]\n",
      "[Epoch 266] [Batch 500/1563] [D loss: 2.499344] [G loss: -0.488351]\n",
      "[Epoch 266] [Batch 600/1563] [D loss: 0.499673] [G loss: -1.731754]\n",
      "[Epoch 266] [Batch 700/1563] [D loss: -0.194729] [G loss: -1.498585]\n",
      "[Epoch 266] [Batch 800/1563] [D loss: 0.542894] [G loss: -1.422875]\n",
      "[Epoch 266] [Batch 900/1563] [D loss: 0.213562] [G loss: 0.433894]\n",
      "[Epoch 266] [Batch 1000/1563] [D loss: -0.295201] [G loss: -0.766877]\n",
      "[Epoch 266] [Batch 1100/1563] [D loss: -1.116641] [G loss: -0.416579]\n",
      "[Epoch 266] [Batch 1200/1563] [D loss: -0.496734] [G loss: 0.322246]\n",
      "[Epoch 266] [Batch 1300/1563] [D loss: -0.251272] [G loss: -0.911102]\n",
      "[Epoch 266] [Batch 1400/1563] [D loss: -1.671670] [G loss: -1.093604]\n",
      "[Epoch 266] [Batch 1500/1563] [D loss: -1.591689] [G loss: -2.059310]\n"
     ]
    },
    {
     "name": "stderr",
     "output_type": "stream",
     "text": [
      "sample images: 100%|██████████| 256/256 [00:05<00:00, 48.06it/s]\n"
     ]
    },
    {
     "name": "stdout",
     "output_type": "stream",
     "text": [
      "Warning: number of images is not a multiple of the batch size. Some samples are going to be ignored.\n"
     ]
    },
    {
     "name": "stderr",
     "output_type": "stream",
     "text": [
      "100%|██████████| 81/81 [00:04<00:00, 19.76it/s]\n"
     ]
    },
    {
     "name": "stdout",
     "output_type": "stream",
     "text": [
      "FID score: 52.45416259765625\n"
     ]
    },
    {
     "name": "stderr",
     "output_type": "stream",
     "text": [
      "sample images: 100%|██████████| 256/256 [00:05<00:00, 48.02it/s]\n"
     ]
    },
    {
     "name": "stdout",
     "output_type": "stream",
     "text": [
      "Inception score: 5.518548284713154\n",
      "----- Epoch Summary -----\n",
      "Dis Loss: -0.011396 - Gen Loss: -0.845506 - Dis LR: 3.32098e-06 - Gen LR: 3.32098e-06\n",
      "FID score: 52.45416259765625 - Inception score: 5.518548284713154 || @ epoch 266.\n",
      "Best FID score: 46.537933349609375 @ epoch 217\n",
      "-----      End      -----\n",
      "\n",
      "------- Epoch 267 -------\n",
      "[Epoch 267] [Batch 100/1563] [D loss: 0.759693] [G loss: -2.013437]\n",
      "[Epoch 267] [Batch 200/1563] [D loss: 0.220422] [G loss: -0.825306]\n",
      "[Epoch 267] [Batch 300/1563] [D loss: -1.414069] [G loss: -0.865439]\n",
      "[Epoch 267] [Batch 400/1563] [D loss: -0.109294] [G loss: -0.216281]\n",
      "[Epoch 267] [Batch 500/1563] [D loss: -1.727782] [G loss: 0.571643]\n",
      "[Epoch 267] [Batch 600/1563] [D loss: 0.969066] [G loss: -0.455515]\n",
      "[Epoch 267] [Batch 700/1563] [D loss: 1.049578] [G loss: 0.205459]\n",
      "[Epoch 267] [Batch 800/1563] [D loss: 0.277670] [G loss: 0.311012]\n",
      "[Epoch 267] [Batch 900/1563] [D loss: 0.902063] [G loss: -1.228819]\n",
      "[Epoch 267] [Batch 1000/1563] [D loss: 0.575126] [G loss: -1.303264]\n",
      "[Epoch 267] [Batch 1100/1563] [D loss: -0.112844] [G loss: -1.705637]\n",
      "[Epoch 267] [Batch 1200/1563] [D loss: -0.129496] [G loss: -0.710395]\n",
      "[Epoch 267] [Batch 1300/1563] [D loss: -0.363823] [G loss: -0.802271]\n",
      "[Epoch 267] [Batch 1400/1563] [D loss: -0.405795] [G loss: -1.532450]\n",
      "[Epoch 267] [Batch 1500/1563] [D loss: -1.245714] [G loss: -0.976949]\n"
     ]
    },
    {
     "name": "stderr",
     "output_type": "stream",
     "text": [
      "sample images: 100%|██████████| 256/256 [00:05<00:00, 48.11it/s]\n"
     ]
    },
    {
     "name": "stdout",
     "output_type": "stream",
     "text": [
      "Warning: number of images is not a multiple of the batch size. Some samples are going to be ignored.\n"
     ]
    },
    {
     "name": "stderr",
     "output_type": "stream",
     "text": [
      "100%|██████████| 81/81 [00:04<00:00, 19.74it/s]\n"
     ]
    },
    {
     "name": "stdout",
     "output_type": "stream",
     "text": [
      "FID score: 51.718048095703125\n"
     ]
    },
    {
     "name": "stderr",
     "output_type": "stream",
     "text": [
      "sample images: 100%|██████████| 256/256 [00:05<00:00, 48.02it/s]\n"
     ]
    },
    {
     "name": "stdout",
     "output_type": "stream",
     "text": [
      "Inception score: 5.4111746654491295\n",
      "----- Epoch Summary -----\n",
      "Dis Loss: -0.005523 - Gen Loss: -0.795283 - Dis LR: 3.1359e-06 - Gen LR: 3.1359e-06\n",
      "FID score: 51.718048095703125 - Inception score: 5.4111746654491295 || @ epoch 267.\n",
      "Best FID score: 46.537933349609375 @ epoch 217\n",
      "-----      End      -----\n",
      "\n",
      "------- Epoch 268 -------\n",
      "[Epoch 268] [Batch 100/1563] [D loss: -0.683046] [G loss: -1.266378]\n",
      "[Epoch 268] [Batch 200/1563] [D loss: -0.785699] [G loss: -2.236809]\n",
      "[Epoch 268] [Batch 300/1563] [D loss: -0.252213] [G loss: 0.522900]\n",
      "[Epoch 268] [Batch 400/1563] [D loss: -2.809662] [G loss: -2.535524]\n",
      "[Epoch 268] [Batch 500/1563] [D loss: -0.978639] [G loss: 0.176207]\n",
      "[Epoch 268] [Batch 600/1563] [D loss: -1.743791] [G loss: -0.315496]\n",
      "[Epoch 268] [Batch 700/1563] [D loss: -1.466990] [G loss: -0.102990]\n",
      "[Epoch 268] [Batch 800/1563] [D loss: 0.555246] [G loss: 0.418022]\n",
      "[Epoch 268] [Batch 900/1563] [D loss: -0.994107] [G loss: -1.070008]\n",
      "[Epoch 268] [Batch 1000/1563] [D loss: 1.958259] [G loss: -0.782286]\n",
      "[Epoch 268] [Batch 1100/1563] [D loss: 0.954655] [G loss: -2.016035]\n",
      "[Epoch 268] [Batch 1200/1563] [D loss: -0.924672] [G loss: -1.020094]\n",
      "[Epoch 268] [Batch 1300/1563] [D loss: -0.261077] [G loss: -0.870640]\n",
      "[Epoch 268] [Batch 1400/1563] [D loss: 0.086429] [G loss: -0.649188]\n",
      "[Epoch 268] [Batch 1500/1563] [D loss: -1.107845] [G loss: -1.139616]\n"
     ]
    },
    {
     "name": "stderr",
     "output_type": "stream",
     "text": [
      "sample images: 100%|██████████| 256/256 [00:05<00:00, 48.09it/s]\n"
     ]
    },
    {
     "name": "stdout",
     "output_type": "stream",
     "text": [
      "Warning: number of images is not a multiple of the batch size. Some samples are going to be ignored.\n"
     ]
    },
    {
     "name": "stderr",
     "output_type": "stream",
     "text": [
      "100%|██████████| 81/81 [00:04<00:00, 19.81it/s]\n"
     ]
    },
    {
     "name": "stdout",
     "output_type": "stream",
     "text": [
      "FID score: 51.63623046875\n"
     ]
    },
    {
     "name": "stderr",
     "output_type": "stream",
     "text": [
      "sample images: 100%|██████████| 256/256 [00:05<00:00, 48.04it/s]\n"
     ]
    },
    {
     "name": "stdout",
     "output_type": "stream",
     "text": [
      "Inception score: 5.392783959629105\n",
      "----- Epoch Summary -----\n",
      "Dis Loss: 0.016476 - Gen Loss: -0.885410 - Dis LR: 2.95596e-06 - Gen LR: 2.95596e-06\n",
      "FID score: 51.63623046875 - Inception score: 5.392783959629105 || @ epoch 268.\n",
      "Best FID score: 46.537933349609375 @ epoch 217\n",
      "-----      End      -----\n",
      "\n",
      "------- Epoch 269 -------\n",
      "[Epoch 269] [Batch 100/1563] [D loss: 2.185761] [G loss: -0.379779]\n",
      "[Epoch 269] [Batch 200/1563] [D loss: 0.391268] [G loss: -0.539180]\n",
      "[Epoch 269] [Batch 300/1563] [D loss: 1.369285] [G loss: -1.940183]\n",
      "[Epoch 269] [Batch 400/1563] [D loss: -1.836703] [G loss: -0.547919]\n",
      "[Epoch 269] [Batch 500/1563] [D loss: 0.639794] [G loss: -0.640216]\n",
      "[Epoch 269] [Batch 600/1563] [D loss: 0.200613] [G loss: 0.227070]\n",
      "[Epoch 269] [Batch 700/1563] [D loss: 0.608961] [G loss: -1.279541]\n",
      "[Epoch 269] [Batch 800/1563] [D loss: -1.205546] [G loss: -1.346058]\n",
      "[Epoch 269] [Batch 900/1563] [D loss: 1.537231] [G loss: -1.428422]\n",
      "[Epoch 269] [Batch 1000/1563] [D loss: -0.435188] [G loss: -0.766147]\n",
      "[Epoch 269] [Batch 1100/1563] [D loss: -0.192267] [G loss: -0.895753]\n",
      "[Epoch 269] [Batch 1200/1563] [D loss: 1.653065] [G loss: -1.195606]\n",
      "[Epoch 269] [Batch 1300/1563] [D loss: -1.202374] [G loss: -0.876584]\n",
      "[Epoch 269] [Batch 1400/1563] [D loss: 0.527443] [G loss: -0.602541]\n",
      "[Epoch 269] [Batch 1500/1563] [D loss: -0.205119] [G loss: -0.009838]\n"
     ]
    },
    {
     "name": "stderr",
     "output_type": "stream",
     "text": [
      "sample images: 100%|██████████| 256/256 [00:05<00:00, 48.05it/s]\n"
     ]
    },
    {
     "name": "stdout",
     "output_type": "stream",
     "text": [
      "Warning: number of images is not a multiple of the batch size. Some samples are going to be ignored.\n"
     ]
    },
    {
     "name": "stderr",
     "output_type": "stream",
     "text": [
      "100%|██████████| 81/81 [00:04<00:00, 19.75it/s]\n"
     ]
    },
    {
     "name": "stdout",
     "output_type": "stream",
     "text": [
      "FID score: 50.3291015625\n"
     ]
    },
    {
     "name": "stderr",
     "output_type": "stream",
     "text": [
      "sample images: 100%|██████████| 256/256 [00:05<00:00, 47.97it/s]\n"
     ]
    },
    {
     "name": "stdout",
     "output_type": "stream",
     "text": [
      "Inception score: 5.5002120915895025\n",
      "----- Epoch Summary -----\n",
      "Dis Loss: -0.038940 - Gen Loss: -0.782229 - Dis LR: 2.78118e-06 - Gen LR: 2.78118e-06\n",
      "FID score: 50.3291015625 - Inception score: 5.5002120915895025 || @ epoch 269.\n",
      "Best FID score: 46.537933349609375 @ epoch 217\n",
      "-----      End      -----\n",
      "\n",
      "------- Epoch 270 -------\n",
      "[Epoch 270] [Batch 100/1563] [D loss: 0.269584] [G loss: -0.314583]\n",
      "[Epoch 270] [Batch 200/1563] [D loss: -0.371751] [G loss: -0.810864]\n",
      "[Epoch 270] [Batch 300/1563] [D loss: -1.361394] [G loss: -1.187939]\n",
      "[Epoch 270] [Batch 400/1563] [D loss: 1.900771] [G loss: -1.795358]\n",
      "[Epoch 270] [Batch 500/1563] [D loss: 0.384252] [G loss: -1.384553]\n",
      "[Epoch 270] [Batch 600/1563] [D loss: -2.338094] [G loss: -1.483371]\n",
      "[Epoch 270] [Batch 700/1563] [D loss: -1.743958] [G loss: -1.362086]\n",
      "[Epoch 270] [Batch 800/1563] [D loss: 0.252644] [G loss: -0.029173]\n",
      "[Epoch 270] [Batch 900/1563] [D loss: -0.046068] [G loss: -0.802450]\n",
      "[Epoch 270] [Batch 1000/1563] [D loss: -0.031463] [G loss: -0.317736]\n",
      "[Epoch 270] [Batch 1100/1563] [D loss: 1.713481] [G loss: -1.158881]\n",
      "[Epoch 270] [Batch 1200/1563] [D loss: 0.359934] [G loss: -0.571933]\n",
      "[Epoch 270] [Batch 1300/1563] [D loss: -0.267700] [G loss: -0.857986]\n",
      "[Epoch 270] [Batch 1400/1563] [D loss: 1.161143] [G loss: -1.744869]\n",
      "[Epoch 270] [Batch 1500/1563] [D loss: 0.652183] [G loss: 0.184264]\n"
     ]
    },
    {
     "name": "stderr",
     "output_type": "stream",
     "text": [
      "sample images: 100%|██████████| 256/256 [00:05<00:00, 48.00it/s]\n"
     ]
    },
    {
     "name": "stdout",
     "output_type": "stream",
     "text": [
      "Warning: number of images is not a multiple of the batch size. Some samples are going to be ignored.\n"
     ]
    },
    {
     "name": "stderr",
     "output_type": "stream",
     "text": [
      "100%|██████████| 81/81 [00:04<00:00, 19.81it/s]\n"
     ]
    },
    {
     "name": "stdout",
     "output_type": "stream",
     "text": [
      "FID score: 51.178802490234375\n"
     ]
    },
    {
     "name": "stderr",
     "output_type": "stream",
     "text": [
      "sample images: 100%|██████████| 256/256 [00:05<00:00, 47.97it/s]\n"
     ]
    },
    {
     "name": "stdout",
     "output_type": "stream",
     "text": [
      "Inception score: 5.361965552066202\n",
      "----- Epoch Summary -----\n",
      "Dis Loss: 0.012916 - Gen Loss: -0.907573 - Dis LR: 2.61158e-06 - Gen LR: 2.61158e-06\n",
      "FID score: 51.178802490234375 - Inception score: 5.361965552066202 || @ epoch 270.\n",
      "Best FID score: 46.537933349609375 @ epoch 217\n",
      "-----      End      -----\n",
      "\n",
      "------- Epoch 271 -------\n",
      "[Epoch 271] [Batch 0/1563] [D loss: 0.610387] [G loss: -0.663809]\n",
      "[Epoch 271] [Batch 100/1563] [D loss: 1.022974] [G loss: -1.515640]\n",
      "[Epoch 271] [Batch 200/1563] [D loss: 0.074160] [G loss: -2.156345]\n",
      "[Epoch 271] [Batch 300/1563] [D loss: 0.862087] [G loss: -0.192699]\n",
      "[Epoch 271] [Batch 400/1563] [D loss: 0.568649] [G loss: -0.864872]\n",
      "[Epoch 271] [Batch 500/1563] [D loss: -0.942709] [G loss: -0.634046]\n",
      "[Epoch 271] [Batch 600/1563] [D loss: 1.439238] [G loss: -1.802081]\n",
      "[Epoch 271] [Batch 700/1563] [D loss: 0.046547] [G loss: -0.948559]\n",
      "[Epoch 271] [Batch 800/1563] [D loss: 2.796216] [G loss: -2.117505]\n",
      "[Epoch 271] [Batch 900/1563] [D loss: -0.674867] [G loss: -0.728328]\n",
      "[Epoch 271] [Batch 1000/1563] [D loss: 0.346176] [G loss: -0.968044]\n",
      "[Epoch 271] [Batch 1100/1563] [D loss: 1.188751] [G loss: 0.314381]\n",
      "[Epoch 271] [Batch 1200/1563] [D loss: -0.730766] [G loss: -0.901542]\n",
      "[Epoch 271] [Batch 1300/1563] [D loss: -0.342119] [G loss: -1.982488]\n",
      "[Epoch 271] [Batch 1400/1563] [D loss: 1.711030] [G loss: -0.507255]\n",
      "[Epoch 271] [Batch 1500/1563] [D loss: -0.779663] [G loss: -0.176765]\n"
     ]
    },
    {
     "name": "stderr",
     "output_type": "stream",
     "text": [
      "sample images: 100%|██████████| 256/256 [00:05<00:00, 48.13it/s]\n"
     ]
    },
    {
     "name": "stdout",
     "output_type": "stream",
     "text": [
      "Warning: number of images is not a multiple of the batch size. Some samples are going to be ignored.\n"
     ]
    },
    {
     "name": "stderr",
     "output_type": "stream",
     "text": [
      "100%|██████████| 81/81 [00:04<00:00, 19.81it/s]\n"
     ]
    },
    {
     "name": "stdout",
     "output_type": "stream",
     "text": [
      "FID score: 50.5401611328125\n"
     ]
    },
    {
     "name": "stderr",
     "output_type": "stream",
     "text": [
      "sample images: 100%|██████████| 256/256 [00:05<00:00, 48.04it/s]\n"
     ]
    },
    {
     "name": "stdout",
     "output_type": "stream",
     "text": [
      "Inception score: 5.344235370521037\n",
      "----- Epoch Summary -----\n",
      "Dis Loss: -0.006731 - Gen Loss: -0.811418 - Dis LR: 2.44717e-06 - Gen LR: 2.44717e-06\n",
      "FID score: 50.5401611328125 - Inception score: 5.344235370521037 || @ epoch 271.\n",
      "Best FID score: 46.537933349609375 @ epoch 217\n",
      "-----      End      -----\n",
      "\n",
      "------- Epoch 272 -------\n",
      "[Epoch 272] [Batch 100/1563] [D loss: -1.675144] [G loss: 0.167383]\n",
      "[Epoch 272] [Batch 200/1563] [D loss: -0.251179] [G loss: 0.363623]\n",
      "[Epoch 272] [Batch 300/1563] [D loss: 1.261864] [G loss: -0.611335]\n",
      "[Epoch 272] [Batch 400/1563] [D loss: 2.260597] [G loss: -1.437632]\n",
      "[Epoch 272] [Batch 500/1563] [D loss: -0.831264] [G loss: -1.481045]\n",
      "[Epoch 272] [Batch 600/1563] [D loss: 0.964646] [G loss: -1.492577]\n",
      "[Epoch 272] [Batch 700/1563] [D loss: -1.613678] [G loss: -0.698639]\n",
      "[Epoch 272] [Batch 800/1563] [D loss: 0.277654] [G loss: 0.105067]\n",
      "[Epoch 272] [Batch 900/1563] [D loss: 0.065022] [G loss: -1.539943]\n",
      "[Epoch 272] [Batch 1000/1563] [D loss: -2.150827] [G loss: -0.044789]\n",
      "[Epoch 272] [Batch 1100/1563] [D loss: -0.283456] [G loss: -0.635292]\n",
      "[Epoch 272] [Batch 1200/1563] [D loss: -0.063692] [G loss: -1.803645]\n",
      "[Epoch 272] [Batch 1300/1563] [D loss: 1.421318] [G loss: 0.122781]\n",
      "[Epoch 272] [Batch 1400/1563] [D loss: -0.743027] [G loss: -0.060862]\n",
      "[Epoch 272] [Batch 1500/1563] [D loss: 0.844730] [G loss: -1.791436]\n"
     ]
    },
    {
     "name": "stderr",
     "output_type": "stream",
     "text": [
      "sample images: 100%|██████████| 256/256 [00:05<00:00, 48.12it/s]\n"
     ]
    },
    {
     "name": "stdout",
     "output_type": "stream",
     "text": [
      "Warning: number of images is not a multiple of the batch size. Some samples are going to be ignored.\n"
     ]
    },
    {
     "name": "stderr",
     "output_type": "stream",
     "text": [
      "100%|██████████| 81/81 [00:04<00:00, 19.79it/s]\n"
     ]
    },
    {
     "name": "stdout",
     "output_type": "stream",
     "text": [
      "FID score: 49.2264404296875\n"
     ]
    },
    {
     "name": "stderr",
     "output_type": "stream",
     "text": [
      "sample images: 100%|██████████| 256/256 [00:05<00:00, 48.00it/s]\n"
     ]
    },
    {
     "name": "stdout",
     "output_type": "stream",
     "text": [
      "Inception score: 5.336054966602576\n",
      "----- Epoch Summary -----\n",
      "Dis Loss: -0.017925 - Gen Loss: -0.749575 - Dis LR: 2.28798e-06 - Gen LR: 2.28798e-06\n",
      "FID score: 49.2264404296875 - Inception score: 5.336054966602576 || @ epoch 272.\n",
      "Best FID score: 46.537933349609375 @ epoch 217\n",
      "-----      End      -----\n",
      "\n",
      "------- Epoch 273 -------\n",
      "[Epoch 273] [Batch 100/1563] [D loss: 0.740866] [G loss: 0.091692]\n",
      "[Epoch 273] [Batch 200/1563] [D loss: -0.556446] [G loss: -0.898365]\n",
      "[Epoch 273] [Batch 300/1563] [D loss: -0.200738] [G loss: -1.305702]\n",
      "[Epoch 273] [Batch 400/1563] [D loss: -0.044211] [G loss: -0.249392]\n",
      "[Epoch 273] [Batch 500/1563] [D loss: -0.096931] [G loss: -1.295011]\n",
      "[Epoch 273] [Batch 600/1563] [D loss: -2.017864] [G loss: -1.492347]\n",
      "[Epoch 273] [Batch 700/1563] [D loss: -1.537330] [G loss: -1.340140]\n",
      "[Epoch 273] [Batch 800/1563] [D loss: 1.606808] [G loss: -1.655573]\n",
      "[Epoch 273] [Batch 900/1563] [D loss: -1.964552] [G loss: -1.347681]\n",
      "[Epoch 273] [Batch 1000/1563] [D loss: -2.815279] [G loss: -0.469530]\n",
      "[Epoch 273] [Batch 1100/1563] [D loss: 0.760483] [G loss: 0.193767]\n",
      "[Epoch 273] [Batch 1200/1563] [D loss: 2.092167] [G loss: -0.788735]\n",
      "[Epoch 273] [Batch 1300/1563] [D loss: 0.008462] [G loss: -1.145269]\n",
      "[Epoch 273] [Batch 1400/1563] [D loss: -1.484156] [G loss: 0.122397]\n",
      "[Epoch 273] [Batch 1500/1563] [D loss: -0.342491] [G loss: -1.251184]\n"
     ]
    },
    {
     "name": "stderr",
     "output_type": "stream",
     "text": [
      "sample images: 100%|██████████| 256/256 [00:05<00:00, 48.04it/s]\n"
     ]
    },
    {
     "name": "stdout",
     "output_type": "stream",
     "text": [
      "Warning: number of images is not a multiple of the batch size. Some samples are going to be ignored.\n"
     ]
    },
    {
     "name": "stderr",
     "output_type": "stream",
     "text": [
      "100%|██████████| 81/81 [00:04<00:00, 19.74it/s]\n"
     ]
    },
    {
     "name": "stdout",
     "output_type": "stream",
     "text": [
      "FID score: 53.171051025390625\n"
     ]
    },
    {
     "name": "stderr",
     "output_type": "stream",
     "text": [
      "sample images: 100%|██████████| 256/256 [00:05<00:00, 47.98it/s]\n"
     ]
    },
    {
     "name": "stdout",
     "output_type": "stream",
     "text": [
      "Inception score: 5.381518468856948\n",
      "----- Epoch Summary -----\n",
      "Dis Loss: -0.013561 - Gen Loss: -0.871641 - Dis LR: 2.13403e-06 - Gen LR: 2.13403e-06\n",
      "FID score: 53.171051025390625 - Inception score: 5.381518468856948 || @ epoch 273.\n",
      "Best FID score: 46.537933349609375 @ epoch 217\n",
      "-----      End      -----\n",
      "\n",
      "------- Epoch 274 -------\n",
      "[Epoch 274] [Batch 100/1563] [D loss: 1.863450] [G loss: 0.396220]\n",
      "[Epoch 274] [Batch 200/1563] [D loss: -0.604297] [G loss: -0.916392]\n",
      "[Epoch 274] [Batch 300/1563] [D loss: 2.266868] [G loss: -1.063610]\n",
      "[Epoch 274] [Batch 400/1563] [D loss: 0.659992] [G loss: -0.316744]\n",
      "[Epoch 274] [Batch 500/1563] [D loss: 1.821412] [G loss: -0.290603]\n",
      "[Epoch 274] [Batch 600/1563] [D loss: 0.934466] [G loss: -0.579429]\n",
      "[Epoch 274] [Batch 700/1563] [D loss: 1.074878] [G loss: -0.008807]\n",
      "[Epoch 274] [Batch 800/1563] [D loss: 1.651749] [G loss: -2.475128]\n",
      "[Epoch 274] [Batch 900/1563] [D loss: 2.365773] [G loss: -0.878603]\n",
      "[Epoch 274] [Batch 1000/1563] [D loss: 1.146859] [G loss: -0.703859]\n",
      "[Epoch 274] [Batch 1100/1563] [D loss: 2.289588] [G loss: -1.261371]\n",
      "[Epoch 274] [Batch 1200/1563] [D loss: 0.095943] [G loss: -1.159918]\n",
      "[Epoch 274] [Batch 1300/1563] [D loss: -1.216117] [G loss: 0.259386]\n",
      "[Epoch 274] [Batch 1400/1563] [D loss: 1.019383] [G loss: -1.769035]\n",
      "[Epoch 274] [Batch 1500/1563] [D loss: -1.143403] [G loss: -2.202057]\n"
     ]
    },
    {
     "name": "stderr",
     "output_type": "stream",
     "text": [
      "sample images: 100%|██████████| 256/256 [00:05<00:00, 48.10it/s]\n"
     ]
    },
    {
     "name": "stdout",
     "output_type": "stream",
     "text": [
      "Warning: number of images is not a multiple of the batch size. Some samples are going to be ignored.\n"
     ]
    },
    {
     "name": "stderr",
     "output_type": "stream",
     "text": [
      "100%|██████████| 81/81 [00:04<00:00, 19.77it/s]\n"
     ]
    },
    {
     "name": "stdout",
     "output_type": "stream",
     "text": [
      "FID score: 51.33197021484375\n"
     ]
    },
    {
     "name": "stderr",
     "output_type": "stream",
     "text": [
      "sample images: 100%|██████████| 256/256 [00:05<00:00, 48.03it/s]\n"
     ]
    },
    {
     "name": "stdout",
     "output_type": "stream",
     "text": [
      "Inception score: 5.54292727977361\n",
      "----- Epoch Summary -----\n",
      "Dis Loss: -0.018090 - Gen Loss: -0.846604 - Dis LR: 1.98532e-06 - Gen LR: 1.98532e-06\n",
      "FID score: 51.33197021484375 - Inception score: 5.54292727977361 || @ epoch 274.\n",
      "Best FID score: 46.537933349609375 @ epoch 217\n",
      "-----      End      -----\n",
      "\n",
      "------- Epoch 275 -------\n",
      "[Epoch 275] [Batch 100/1563] [D loss: -2.313899] [G loss: -0.803909]\n",
      "[Epoch 275] [Batch 200/1563] [D loss: -1.633980] [G loss: -0.362950]\n",
      "[Epoch 275] [Batch 300/1563] [D loss: -0.183524] [G loss: 0.059158]\n",
      "[Epoch 275] [Batch 400/1563] [D loss: 0.081995] [G loss: -0.488831]\n",
      "[Epoch 275] [Batch 500/1563] [D loss: -1.275422] [G loss: -0.153014]\n",
      "[Epoch 275] [Batch 600/1563] [D loss: -0.492146] [G loss: -0.942028]\n",
      "[Epoch 275] [Batch 700/1563] [D loss: 1.292429] [G loss: -0.677586]\n",
      "[Epoch 275] [Batch 800/1563] [D loss: -1.165800] [G loss: -1.854482]\n",
      "[Epoch 275] [Batch 900/1563] [D loss: 0.083549] [G loss: 0.737631]\n",
      "[Epoch 275] [Batch 1000/1563] [D loss: -0.998866] [G loss: -0.532631]\n",
      "[Epoch 275] [Batch 1100/1563] [D loss: -0.562877] [G loss: -0.511315]\n",
      "[Epoch 275] [Batch 1200/1563] [D loss: 1.110720] [G loss: 0.573313]\n",
      "[Epoch 275] [Batch 1300/1563] [D loss: -2.127790] [G loss: -1.381584]\n",
      "[Epoch 275] [Batch 1400/1563] [D loss: 3.016700] [G loss: -0.763573]\n",
      "[Epoch 275] [Batch 1500/1563] [D loss: 1.384808] [G loss: -0.122779]\n"
     ]
    },
    {
     "name": "stderr",
     "output_type": "stream",
     "text": [
      "sample images: 100%|██████████| 256/256 [00:05<00:00, 47.97it/s]\n"
     ]
    },
    {
     "name": "stdout",
     "output_type": "stream",
     "text": [
      "Warning: number of images is not a multiple of the batch size. Some samples are going to be ignored.\n"
     ]
    },
    {
     "name": "stderr",
     "output_type": "stream",
     "text": [
      "100%|██████████| 81/81 [00:04<00:00, 19.81it/s]\n"
     ]
    },
    {
     "name": "stdout",
     "output_type": "stream",
     "text": [
      "FID score: 52.989959716796875\n"
     ]
    },
    {
     "name": "stderr",
     "output_type": "stream",
     "text": [
      "sample images: 100%|██████████| 256/256 [00:05<00:00, 47.93it/s]\n"
     ]
    },
    {
     "name": "stdout",
     "output_type": "stream",
     "text": [
      "Inception score: 5.484415612702446\n",
      "----- Epoch Summary -----\n",
      "Dis Loss: -0.050374 - Gen Loss: -0.880149 - Dis LR: 1.84187e-06 - Gen LR: 1.84187e-06\n",
      "FID score: 52.989959716796875 - Inception score: 5.484415612702446 || @ epoch 275.\n",
      "Best FID score: 46.537933349609375 @ epoch 217\n",
      "-----      End      -----\n",
      "\n",
      "------- Epoch 276 -------\n",
      "[Epoch 276] [Batch 0/1563] [D loss: 0.206574] [G loss: -1.953760]\n",
      "[Epoch 276] [Batch 100/1563] [D loss: -0.097727] [G loss: -0.808683]\n",
      "[Epoch 276] [Batch 200/1563] [D loss: 0.167228] [G loss: -0.874310]\n",
      "[Epoch 276] [Batch 300/1563] [D loss: 0.075783] [G loss: -1.464306]\n",
      "[Epoch 276] [Batch 400/1563] [D loss: 0.191389] [G loss: -0.611263]\n",
      "[Epoch 276] [Batch 500/1563] [D loss: -0.099196] [G loss: -0.731226]\n",
      "[Epoch 276] [Batch 600/1563] [D loss: 2.234496] [G loss: -1.165430]\n",
      "[Epoch 276] [Batch 700/1563] [D loss: -0.767315] [G loss: -1.750582]\n",
      "[Epoch 276] [Batch 800/1563] [D loss: -2.028913] [G loss: -1.054307]\n",
      "[Epoch 276] [Batch 900/1563] [D loss: 0.499952] [G loss: -0.658685]\n",
      "[Epoch 276] [Batch 1000/1563] [D loss: -3.435580] [G loss: -0.995308]\n",
      "[Epoch 276] [Batch 1100/1563] [D loss: -1.342186] [G loss: -0.728370]\n",
      "[Epoch 276] [Batch 1200/1563] [D loss: 2.014190] [G loss: -0.829468]\n",
      "[Epoch 276] [Batch 1300/1563] [D loss: -2.285414] [G loss: -0.336748]\n",
      "[Epoch 276] [Batch 1400/1563] [D loss: 0.550066] [G loss: -1.208488]\n",
      "[Epoch 276] [Batch 1500/1563] [D loss: 0.300219] [G loss: -0.691878]\n"
     ]
    },
    {
     "name": "stderr",
     "output_type": "stream",
     "text": [
      "sample images: 100%|██████████| 256/256 [00:05<00:00, 47.99it/s]\n"
     ]
    },
    {
     "name": "stdout",
     "output_type": "stream",
     "text": [
      "Warning: number of images is not a multiple of the batch size. Some samples are going to be ignored.\n"
     ]
    },
    {
     "name": "stderr",
     "output_type": "stream",
     "text": [
      "100%|██████████| 81/81 [00:04<00:00, 19.76it/s]\n"
     ]
    },
    {
     "name": "stdout",
     "output_type": "stream",
     "text": [
      "FID score: 51.555450439453125\n"
     ]
    },
    {
     "name": "stderr",
     "output_type": "stream",
     "text": [
      "sample images: 100%|██████████| 256/256 [00:05<00:00, 47.96it/s]\n"
     ]
    },
    {
     "name": "stdout",
     "output_type": "stream",
     "text": [
      "Inception score: 5.4906175885033255\n",
      "----- Epoch Summary -----\n",
      "Dis Loss: -0.052313 - Gen Loss: -0.841129 - Dis LR: 1.70371e-06 - Gen LR: 1.70371e-06\n",
      "FID score: 51.555450439453125 - Inception score: 5.4906175885033255 || @ epoch 276.\n",
      "Best FID score: 46.537933349609375 @ epoch 217\n",
      "-----      End      -----\n",
      "\n",
      "------- Epoch 277 -------\n",
      "[Epoch 277] [Batch 100/1563] [D loss: -0.717949] [G loss: -0.987273]\n",
      "[Epoch 277] [Batch 200/1563] [D loss: -1.185651] [G loss: -0.538298]\n",
      "[Epoch 277] [Batch 300/1563] [D loss: 0.381600] [G loss: -1.233918]\n",
      "[Epoch 277] [Batch 400/1563] [D loss: -0.528801] [G loss: -0.566347]\n",
      "[Epoch 277] [Batch 500/1563] [D loss: -1.653818] [G loss: 0.136814]\n",
      "[Epoch 277] [Batch 600/1563] [D loss: -1.351025] [G loss: -1.514081]\n",
      "[Epoch 277] [Batch 700/1563] [D loss: -0.648219] [G loss: -0.603908]\n",
      "[Epoch 277] [Batch 800/1563] [D loss: 0.380382] [G loss: -1.048837]\n",
      "[Epoch 277] [Batch 900/1563] [D loss: -0.756856] [G loss: -0.342711]\n",
      "[Epoch 277] [Batch 1000/1563] [D loss: 0.343329] [G loss: -2.030066]\n",
      "[Epoch 277] [Batch 1100/1563] [D loss: 0.927911] [G loss: -1.279671]\n",
      "[Epoch 277] [Batch 1200/1563] [D loss: -1.409376] [G loss: -0.164164]\n",
      "[Epoch 277] [Batch 1300/1563] [D loss: -1.177583] [G loss: -0.974768]\n",
      "[Epoch 277] [Batch 1400/1563] [D loss: 0.250405] [G loss: -0.375397]\n",
      "[Epoch 277] [Batch 1500/1563] [D loss: -0.551848] [G loss: 0.130068]\n"
     ]
    },
    {
     "name": "stderr",
     "output_type": "stream",
     "text": [
      "sample images: 100%|██████████| 256/256 [00:05<00:00, 47.82it/s]\n"
     ]
    },
    {
     "name": "stdout",
     "output_type": "stream",
     "text": [
      "Warning: number of images is not a multiple of the batch size. Some samples are going to be ignored.\n"
     ]
    },
    {
     "name": "stderr",
     "output_type": "stream",
     "text": [
      "100%|██████████| 81/81 [00:04<00:00, 19.78it/s]\n"
     ]
    },
    {
     "name": "stdout",
     "output_type": "stream",
     "text": [
      "FID score: 49.096710205078125\n"
     ]
    },
    {
     "name": "stderr",
     "output_type": "stream",
     "text": [
      "sample images: 100%|██████████| 256/256 [00:05<00:00, 47.88it/s]\n"
     ]
    },
    {
     "name": "stdout",
     "output_type": "stream",
     "text": [
      "Inception score: 5.571991227941977\n",
      "----- Epoch Summary -----\n",
      "Dis Loss: -0.025608 - Gen Loss: -0.803048 - Dis LR: 1.57084e-06 - Gen LR: 1.57084e-06\n",
      "FID score: 49.096710205078125 - Inception score: 5.571991227941977 || @ epoch 277.\n",
      "Best FID score: 46.537933349609375 @ epoch 217\n",
      "-----      End      -----\n",
      "\n",
      "------- Epoch 278 -------\n",
      "[Epoch 278] [Batch 100/1563] [D loss: -0.376251] [G loss: 0.110020]\n",
      "[Epoch 278] [Batch 200/1563] [D loss: 0.021914] [G loss: -0.220206]\n",
      "[Epoch 278] [Batch 300/1563] [D loss: -0.117091] [G loss: -1.772070]\n",
      "[Epoch 278] [Batch 400/1563] [D loss: -0.641923] [G loss: -0.807123]\n",
      "[Epoch 278] [Batch 500/1563] [D loss: -0.993485] [G loss: -0.528399]\n",
      "[Epoch 278] [Batch 600/1563] [D loss: -0.270857] [G loss: 0.863782]\n",
      "[Epoch 278] [Batch 700/1563] [D loss: -0.115453] [G loss: -0.848990]\n",
      "[Epoch 278] [Batch 800/1563] [D loss: 0.334308] [G loss: -1.554661]\n",
      "[Epoch 278] [Batch 900/1563] [D loss: -0.685174] [G loss: -2.101686]\n",
      "[Epoch 278] [Batch 1000/1563] [D loss: 0.543196] [G loss: -1.798737]\n",
      "[Epoch 278] [Batch 1100/1563] [D loss: 0.320174] [G loss: -1.320267]\n",
      "[Epoch 278] [Batch 1200/1563] [D loss: -0.499309] [G loss: -1.724225]\n",
      "[Epoch 278] [Batch 1300/1563] [D loss: -0.014361] [G loss: -1.356991]\n",
      "[Epoch 278] [Batch 1400/1563] [D loss: -0.517507] [G loss: -1.100420]\n",
      "[Epoch 278] [Batch 1500/1563] [D loss: 0.778809] [G loss: -1.391763]\n"
     ]
    },
    {
     "name": "stderr",
     "output_type": "stream",
     "text": [
      "sample images: 100%|██████████| 256/256 [00:05<00:00, 47.95it/s]\n"
     ]
    },
    {
     "name": "stdout",
     "output_type": "stream",
     "text": [
      "Warning: number of images is not a multiple of the batch size. Some samples are going to be ignored.\n"
     ]
    },
    {
     "name": "stderr",
     "output_type": "stream",
     "text": [
      "100%|██████████| 81/81 [00:04<00:00, 19.79it/s]\n"
     ]
    },
    {
     "name": "stdout",
     "output_type": "stream",
     "text": [
      "FID score: 50.169097900390625\n"
     ]
    },
    {
     "name": "stderr",
     "output_type": "stream",
     "text": [
      "sample images: 100%|██████████| 256/256 [00:05<00:00, 47.94it/s]\n"
     ]
    },
    {
     "name": "stdout",
     "output_type": "stream",
     "text": [
      "Inception score: 5.327818110364469\n",
      "----- Epoch Summary -----\n",
      "Dis Loss: -0.050421 - Gen Loss: -0.773371 - Dis LR: 1.44329e-06 - Gen LR: 1.44329e-06\n",
      "FID score: 50.169097900390625 - Inception score: 5.327818110364469 || @ epoch 278.\n",
      "Best FID score: 46.537933349609375 @ epoch 217\n",
      "-----      End      -----\n",
      "\n",
      "------- Epoch 279 -------\n",
      "[Epoch 279] [Batch 100/1563] [D loss: -0.053711] [G loss: -1.002761]\n",
      "[Epoch 279] [Batch 200/1563] [D loss: 0.851987] [G loss: -0.431241]\n",
      "[Epoch 279] [Batch 300/1563] [D loss: -1.393432] [G loss: -0.776101]\n",
      "[Epoch 279] [Batch 400/1563] [D loss: 2.003674] [G loss: -1.387147]\n",
      "[Epoch 279] [Batch 500/1563] [D loss: -1.042083] [G loss: -0.454304]\n",
      "[Epoch 279] [Batch 600/1563] [D loss: -0.614027] [G loss: -0.218735]\n",
      "[Epoch 279] [Batch 700/1563] [D loss: 0.095660] [G loss: 0.180564]\n",
      "[Epoch 279] [Batch 800/1563] [D loss: 1.155588] [G loss: 0.135515]\n",
      "[Epoch 279] [Batch 900/1563] [D loss: -1.245779] [G loss: -0.653798]\n",
      "[Epoch 279] [Batch 1000/1563] [D loss: 0.915279] [G loss: -1.218613]\n",
      "[Epoch 279] [Batch 1100/1563] [D loss: 2.290456] [G loss: -0.603289]\n",
      "[Epoch 279] [Batch 1200/1563] [D loss: 0.633273] [G loss: -2.085047]\n",
      "[Epoch 279] [Batch 1300/1563] [D loss: 0.737319] [G loss: -0.801637]\n",
      "[Epoch 279] [Batch 1400/1563] [D loss: -0.579174] [G loss: -1.297111]\n",
      "[Epoch 279] [Batch 1500/1563] [D loss: -0.092578] [G loss: -0.165191]\n"
     ]
    },
    {
     "name": "stderr",
     "output_type": "stream",
     "text": [
      "sample images: 100%|██████████| 256/256 [00:05<00:00, 48.03it/s]\n"
     ]
    },
    {
     "name": "stdout",
     "output_type": "stream",
     "text": [
      "Warning: number of images is not a multiple of the batch size. Some samples are going to be ignored.\n"
     ]
    },
    {
     "name": "stderr",
     "output_type": "stream",
     "text": [
      "100%|██████████| 81/81 [00:04<00:00, 19.78it/s]\n"
     ]
    },
    {
     "name": "stdout",
     "output_type": "stream",
     "text": [
      "FID score: 50.0372314453125\n"
     ]
    },
    {
     "name": "stderr",
     "output_type": "stream",
     "text": [
      "sample images: 100%|██████████| 256/256 [00:05<00:00, 47.96it/s]\n"
     ]
    },
    {
     "name": "stdout",
     "output_type": "stream",
     "text": [
      "Inception score: 5.4754064519384045\n",
      "----- Epoch Summary -----\n",
      "Dis Loss: -0.039383 - Gen Loss: -0.774979 - Dis LR: 1.32105e-06 - Gen LR: 1.32105e-06\n",
      "FID score: 50.0372314453125 - Inception score: 5.4754064519384045 || @ epoch 279.\n",
      "Best FID score: 46.537933349609375 @ epoch 217\n",
      "-----      End      -----\n",
      "\n",
      "------- Epoch 280 -------\n",
      "[Epoch 280] [Batch 100/1563] [D loss: 0.350165] [G loss: -0.812612]\n",
      "[Epoch 280] [Batch 200/1563] [D loss: 0.276848] [G loss: -1.056747]\n",
      "[Epoch 280] [Batch 300/1563] [D loss: -1.030893] [G loss: -0.306622]\n",
      "[Epoch 280] [Batch 400/1563] [D loss: -1.173715] [G loss: -0.456267]\n",
      "[Epoch 280] [Batch 500/1563] [D loss: -0.814422] [G loss: -0.675613]\n",
      "[Epoch 280] [Batch 600/1563] [D loss: -1.855173] [G loss: -0.981503]\n",
      "[Epoch 280] [Batch 700/1563] [D loss: 0.045303] [G loss: -0.792126]\n",
      "[Epoch 280] [Batch 800/1563] [D loss: -1.390781] [G loss: -0.993810]\n",
      "[Epoch 280] [Batch 900/1563] [D loss: -0.687884] [G loss: -0.321647]\n",
      "[Epoch 280] [Batch 1000/1563] [D loss: 1.683266] [G loss: -0.794041]\n",
      "[Epoch 280] [Batch 1100/1563] [D loss: -0.135576] [G loss: -0.345459]\n",
      "[Epoch 280] [Batch 1200/1563] [D loss: -0.976502] [G loss: -1.991755]\n",
      "[Epoch 280] [Batch 1300/1563] [D loss: 0.328497] [G loss: -1.158339]\n",
      "[Epoch 280] [Batch 1400/1563] [D loss: -0.170562] [G loss: -0.664198]\n",
      "[Epoch 280] [Batch 1500/1563] [D loss: -0.838918] [G loss: -0.365395]\n"
     ]
    },
    {
     "name": "stderr",
     "output_type": "stream",
     "text": [
      "sample images: 100%|██████████| 256/256 [00:05<00:00, 47.85it/s]\n"
     ]
    },
    {
     "name": "stdout",
     "output_type": "stream",
     "text": [
      "Warning: number of images is not a multiple of the batch size. Some samples are going to be ignored.\n"
     ]
    },
    {
     "name": "stderr",
     "output_type": "stream",
     "text": [
      "100%|██████████| 81/81 [00:04<00:00, 19.73it/s]\n"
     ]
    },
    {
     "name": "stdout",
     "output_type": "stream",
     "text": [
      "FID score: 50.302978515625\n"
     ]
    },
    {
     "name": "stderr",
     "output_type": "stream",
     "text": [
      "sample images: 100%|██████████| 256/256 [00:05<00:00, 47.94it/s]\n"
     ]
    },
    {
     "name": "stdout",
     "output_type": "stream",
     "text": [
      "Inception score: 5.409374413190294\n",
      "----- Epoch Summary -----\n",
      "Dis Loss: -0.002156 - Gen Loss: -0.811852 - Dis LR: 1.20416e-06 - Gen LR: 1.20416e-06\n",
      "FID score: 50.302978515625 - Inception score: 5.409374413190294 || @ epoch 280.\n",
      "Best FID score: 46.537933349609375 @ epoch 217\n",
      "-----      End      -----\n",
      "\n",
      "------- Epoch 281 -------\n",
      "[Epoch 281] [Batch 0/1563] [D loss: 0.489586] [G loss: -2.097897]\n",
      "[Epoch 281] [Batch 100/1563] [D loss: 1.057642] [G loss: -0.575239]\n",
      "[Epoch 281] [Batch 200/1563] [D loss: 0.194819] [G loss: -1.695741]\n",
      "[Epoch 281] [Batch 300/1563] [D loss: 1.091913] [G loss: -3.112534]\n",
      "[Epoch 281] [Batch 400/1563] [D loss: 1.188363] [G loss: -0.094267]\n",
      "[Epoch 281] [Batch 500/1563] [D loss: -1.115087] [G loss: -1.286659]\n",
      "[Epoch 281] [Batch 600/1563] [D loss: 1.970459] [G loss: 1.438594]\n",
      "[Epoch 281] [Batch 700/1563] [D loss: 0.621338] [G loss: -1.297355]\n",
      "[Epoch 281] [Batch 800/1563] [D loss: 1.749973] [G loss: 1.107037]\n",
      "[Epoch 281] [Batch 900/1563] [D loss: 0.657848] [G loss: -0.768605]\n",
      "[Epoch 281] [Batch 1000/1563] [D loss: -0.648798] [G loss: -0.891422]\n",
      "[Epoch 281] [Batch 1100/1563] [D loss: 0.193635] [G loss: -0.112005]\n",
      "[Epoch 281] [Batch 1200/1563] [D loss: -1.545094] [G loss: -0.265612]\n",
      "[Epoch 281] [Batch 1300/1563] [D loss: 0.453279] [G loss: -1.102732]\n",
      "[Epoch 281] [Batch 1400/1563] [D loss: 1.249986] [G loss: -0.458477]\n",
      "[Epoch 281] [Batch 1500/1563] [D loss: 0.026784] [G loss: -1.474308]\n"
     ]
    },
    {
     "name": "stderr",
     "output_type": "stream",
     "text": [
      "sample images: 100%|██████████| 256/256 [00:05<00:00, 47.85it/s]\n"
     ]
    },
    {
     "name": "stdout",
     "output_type": "stream",
     "text": [
      "Warning: number of images is not a multiple of the batch size. Some samples are going to be ignored.\n"
     ]
    },
    {
     "name": "stderr",
     "output_type": "stream",
     "text": [
      "100%|██████████| 81/81 [00:04<00:00, 19.72it/s]\n"
     ]
    },
    {
     "name": "stdout",
     "output_type": "stream",
     "text": [
      "FID score: 50.476318359375\n"
     ]
    },
    {
     "name": "stderr",
     "output_type": "stream",
     "text": [
      "sample images: 100%|██████████| 256/256 [00:05<00:00, 47.87it/s]\n"
     ]
    },
    {
     "name": "stdout",
     "output_type": "stream",
     "text": [
      "Inception score: 5.4743899993973875\n",
      "----- Epoch Summary -----\n",
      "Dis Loss: -0.056718 - Gen Loss: -0.842900 - Dis LR: 1.09262e-06 - Gen LR: 1.09262e-06\n",
      "FID score: 50.476318359375 - Inception score: 5.4743899993973875 || @ epoch 281.\n",
      "Best FID score: 46.537933349609375 @ epoch 217\n",
      "-----      End      -----\n",
      "\n",
      "------- Epoch 282 -------\n",
      "[Epoch 282] [Batch 100/1563] [D loss: -0.195499] [G loss: -0.469258]\n",
      "[Epoch 282] [Batch 200/1563] [D loss: -0.839699] [G loss: -0.769323]\n",
      "[Epoch 282] [Batch 300/1563] [D loss: 2.186988] [G loss: -1.521309]\n",
      "[Epoch 282] [Batch 400/1563] [D loss: -0.289337] [G loss: -2.088625]\n",
      "[Epoch 282] [Batch 500/1563] [D loss: -0.549880] [G loss: -0.707400]\n",
      "[Epoch 282] [Batch 600/1563] [D loss: -1.548783] [G loss: -1.513762]\n",
      "[Epoch 282] [Batch 700/1563] [D loss: -0.688618] [G loss: -0.189145]\n",
      "[Epoch 282] [Batch 800/1563] [D loss: 1.112482] [G loss: -0.552792]\n",
      "[Epoch 282] [Batch 900/1563] [D loss: -0.095485] [G loss: -0.616823]\n",
      "[Epoch 282] [Batch 1000/1563] [D loss: 0.571203] [G loss: -1.606437]\n",
      "[Epoch 282] [Batch 1100/1563] [D loss: 0.848723] [G loss: -0.828883]\n",
      "[Epoch 282] [Batch 1200/1563] [D loss: -0.743846] [G loss: 0.869327]\n",
      "[Epoch 282] [Batch 1300/1563] [D loss: -1.344122] [G loss: -0.249714]\n",
      "[Epoch 282] [Batch 1400/1563] [D loss: -0.427111] [G loss: -0.030143]\n",
      "[Epoch 282] [Batch 1500/1563] [D loss: 0.258343] [G loss: -0.263870]\n"
     ]
    },
    {
     "name": "stderr",
     "output_type": "stream",
     "text": [
      "sample images: 100%|██████████| 256/256 [00:05<00:00, 47.85it/s]\n"
     ]
    },
    {
     "name": "stdout",
     "output_type": "stream",
     "text": [
      "Warning: number of images is not a multiple of the batch size. Some samples are going to be ignored.\n"
     ]
    },
    {
     "name": "stderr",
     "output_type": "stream",
     "text": [
      "100%|██████████| 81/81 [00:04<00:00, 19.75it/s]\n"
     ]
    },
    {
     "name": "stdout",
     "output_type": "stream",
     "text": [
      "FID score: 49.896484375\n"
     ]
    },
    {
     "name": "stderr",
     "output_type": "stream",
     "text": [
      "sample images: 100%|██████████| 256/256 [00:05<00:00, 47.95it/s]\n"
     ]
    },
    {
     "name": "stdout",
     "output_type": "stream",
     "text": [
      "Inception score: 5.542604244259639\n",
      "----- Epoch Summary -----\n",
      "Dis Loss: -0.003799 - Gen Loss: -0.795109 - Dis LR: 9.86441e-07 - Gen LR: 9.86441e-07\n",
      "FID score: 49.896484375 - Inception score: 5.542604244259639 || @ epoch 282.\n",
      "Best FID score: 46.537933349609375 @ epoch 217\n",
      "-----      End      -----\n",
      "\n",
      "------- Epoch 283 -------\n",
      "[Epoch 283] [Batch 100/1563] [D loss: 1.145128] [G loss: -1.067125]\n",
      "[Epoch 283] [Batch 200/1563] [D loss: 0.871670] [G loss: -0.555428]\n",
      "[Epoch 283] [Batch 300/1563] [D loss: -0.323931] [G loss: -1.126151]\n",
      "[Epoch 283] [Batch 400/1563] [D loss: -0.812121] [G loss: -3.143672]\n",
      "[Epoch 283] [Batch 500/1563] [D loss: -0.145872] [G loss: 0.104121]\n",
      "[Epoch 283] [Batch 600/1563] [D loss: 2.401001] [G loss: -2.433955]\n",
      "[Epoch 283] [Batch 700/1563] [D loss: -0.183612] [G loss: -1.168959]\n",
      "[Epoch 283] [Batch 800/1563] [D loss: 0.418116] [G loss: -0.521243]\n",
      "[Epoch 283] [Batch 900/1563] [D loss: 0.253340] [G loss: -1.273573]\n",
      "[Epoch 283] [Batch 1000/1563] [D loss: -0.362073] [G loss: -1.261518]\n",
      "[Epoch 283] [Batch 1100/1563] [D loss: 2.009727] [G loss: -1.030286]\n",
      "[Epoch 283] [Batch 1200/1563] [D loss: 1.738209] [G loss: -0.669175]\n",
      "[Epoch 283] [Batch 1300/1563] [D loss: -0.730449] [G loss: -1.523293]\n",
      "[Epoch 283] [Batch 1400/1563] [D loss: -0.629032] [G loss: -0.255457]\n",
      "[Epoch 283] [Batch 1500/1563] [D loss: 0.775352] [G loss: -0.508272]\n"
     ]
    },
    {
     "name": "stderr",
     "output_type": "stream",
     "text": [
      "sample images: 100%|██████████| 256/256 [00:05<00:00, 47.89it/s]\n"
     ]
    },
    {
     "name": "stdout",
     "output_type": "stream",
     "text": [
      "Warning: number of images is not a multiple of the batch size. Some samples are going to be ignored.\n"
     ]
    },
    {
     "name": "stderr",
     "output_type": "stream",
     "text": [
      "100%|██████████| 81/81 [00:04<00:00, 19.75it/s]\n"
     ]
    },
    {
     "name": "stdout",
     "output_type": "stream",
     "text": [
      "FID score: 50.722503662109375\n"
     ]
    },
    {
     "name": "stderr",
     "output_type": "stream",
     "text": [
      "sample images: 100%|██████████| 256/256 [00:05<00:00, 47.96it/s]\n"
     ]
    },
    {
     "name": "stdout",
     "output_type": "stream",
     "text": [
      "Inception score: 5.425542533742055\n",
      "----- Epoch Summary -----\n",
      "Dis Loss: -0.023024 - Gen Loss: -0.757082 - Dis LR: 8.85637e-07 - Gen LR: 8.85637e-07\n",
      "FID score: 50.722503662109375 - Inception score: 5.425542533742055 || @ epoch 283.\n",
      "Best FID score: 46.537933349609375 @ epoch 217\n",
      "-----      End      -----\n",
      "\n",
      "------- Epoch 284 -------\n",
      "[Epoch 284] [Batch 100/1563] [D loss: -1.462987] [G loss: -1.488119]\n",
      "[Epoch 284] [Batch 200/1563] [D loss: 1.058716] [G loss: -0.089290]\n",
      "[Epoch 284] [Batch 300/1563] [D loss: 1.425121] [G loss: -0.305941]\n",
      "[Epoch 284] [Batch 400/1563] [D loss: -1.378822] [G loss: -2.428369]\n",
      "[Epoch 284] [Batch 500/1563] [D loss: 0.411531] [G loss: 0.816167]\n",
      "[Epoch 284] [Batch 600/1563] [D loss: 1.298497] [G loss: -0.822385]\n",
      "[Epoch 284] [Batch 700/1563] [D loss: -0.230998] [G loss: -0.849165]\n",
      "[Epoch 284] [Batch 800/1563] [D loss: -0.412382] [G loss: -0.190962]\n",
      "[Epoch 284] [Batch 900/1563] [D loss: -0.965180] [G loss: -2.176129]\n",
      "[Epoch 284] [Batch 1000/1563] [D loss: -0.055281] [G loss: -1.522146]\n",
      "[Epoch 284] [Batch 1100/1563] [D loss: 1.632788] [G loss: -1.139169]\n",
      "[Epoch 284] [Batch 1200/1563] [D loss: 1.753556] [G loss: -1.088537]\n",
      "[Epoch 284] [Batch 1300/1563] [D loss: -1.059929] [G loss: -0.385395]\n",
      "[Epoch 284] [Batch 1400/1563] [D loss: -0.662024] [G loss: -1.644479]\n",
      "[Epoch 284] [Batch 1500/1563] [D loss: -2.334216] [G loss: -1.061106]\n"
     ]
    },
    {
     "name": "stderr",
     "output_type": "stream",
     "text": [
      "sample images: 100%|██████████| 256/256 [00:05<00:00, 47.99it/s]\n"
     ]
    },
    {
     "name": "stdout",
     "output_type": "stream",
     "text": [
      "Warning: number of images is not a multiple of the batch size. Some samples are going to be ignored.\n"
     ]
    },
    {
     "name": "stderr",
     "output_type": "stream",
     "text": [
      "100%|██████████| 81/81 [00:04<00:00, 19.77it/s]\n"
     ]
    },
    {
     "name": "stdout",
     "output_type": "stream",
     "text": [
      "FID score: 50.0694580078125\n"
     ]
    },
    {
     "name": "stderr",
     "output_type": "stream",
     "text": [
      "sample images: 100%|██████████| 256/256 [00:05<00:00, 48.05it/s]\n"
     ]
    },
    {
     "name": "stdout",
     "output_type": "stream",
     "text": [
      "Inception score: 5.606234641334979\n",
      "----- Epoch Summary -----\n",
      "Dis Loss: 0.004879 - Gen Loss: -0.785087 - Dis LR: 7.9022e-07 - Gen LR: 7.9022e-07\n",
      "FID score: 50.0694580078125 - Inception score: 5.606234641334979 || @ epoch 284.\n",
      "Best FID score: 46.537933349609375 @ epoch 217\n",
      "-----      End      -----\n",
      "\n",
      "------- Epoch 285 -------\n",
      "[Epoch 285] [Batch 100/1563] [D loss: 0.180635] [G loss: -1.089783]\n",
      "[Epoch 285] [Batch 200/1563] [D loss: 1.687092] [G loss: -1.599082]\n",
      "[Epoch 285] [Batch 300/1563] [D loss: -1.426111] [G loss: 0.755861]\n",
      "[Epoch 285] [Batch 400/1563] [D loss: 1.519083] [G loss: -1.484341]\n",
      "[Epoch 285] [Batch 500/1563] [D loss: 0.933849] [G loss: -1.163840]\n",
      "[Epoch 285] [Batch 600/1563] [D loss: -0.654093] [G loss: -0.343270]\n",
      "[Epoch 285] [Batch 700/1563] [D loss: 1.716857] [G loss: -0.368916]\n",
      "[Epoch 285] [Batch 800/1563] [D loss: -0.121008] [G loss: -0.436993]\n",
      "[Epoch 285] [Batch 900/1563] [D loss: 0.659965] [G loss: 0.529708]\n",
      "[Epoch 285] [Batch 1000/1563] [D loss: -2.267930] [G loss: -0.530243]\n",
      "[Epoch 285] [Batch 1100/1563] [D loss: 1.123422] [G loss: -1.978629]\n",
      "[Epoch 285] [Batch 1200/1563] [D loss: 1.646743] [G loss: -0.763736]\n",
      "[Epoch 285] [Batch 1300/1563] [D loss: -0.963043] [G loss: -1.081798]\n",
      "[Epoch 285] [Batch 1400/1563] [D loss: 1.117159] [G loss: 0.099363]\n",
      "[Epoch 285] [Batch 1500/1563] [D loss: -0.655737] [G loss: -1.046182]\n"
     ]
    },
    {
     "name": "stderr",
     "output_type": "stream",
     "text": [
      "sample images: 100%|██████████| 256/256 [00:05<00:00, 48.01it/s]\n"
     ]
    },
    {
     "name": "stdout",
     "output_type": "stream",
     "text": [
      "Warning: number of images is not a multiple of the batch size. Some samples are going to be ignored.\n"
     ]
    },
    {
     "name": "stderr",
     "output_type": "stream",
     "text": [
      "100%|██████████| 81/81 [00:04<00:00, 19.80it/s]\n"
     ]
    },
    {
     "name": "stdout",
     "output_type": "stream",
     "text": [
      "FID score: 48.57427978515625\n"
     ]
    },
    {
     "name": "stderr",
     "output_type": "stream",
     "text": [
      "sample images: 100%|██████████| 256/256 [00:05<00:00, 47.96it/s]\n"
     ]
    },
    {
     "name": "stdout",
     "output_type": "stream",
     "text": [
      "Inception score: 5.415688083643557\n",
      "----- Epoch Summary -----\n",
      "Dis Loss: -0.047850 - Gen Loss: -0.832831 - Dis LR: 7.00198e-07 - Gen LR: 7.00198e-07\n",
      "FID score: 48.57427978515625 - Inception score: 5.415688083643557 || @ epoch 285.\n",
      "Best FID score: 46.537933349609375 @ epoch 217\n",
      "-----      End      -----\n",
      "\n",
      "------- Epoch 286 -------\n",
      "[Epoch 286] [Batch 0/1563] [D loss: 0.207869] [G loss: 0.628977]\n",
      "[Epoch 286] [Batch 100/1563] [D loss: 1.629524] [G loss: -0.750511]\n",
      "[Epoch 286] [Batch 200/1563] [D loss: 1.566161] [G loss: 0.469716]\n",
      "[Epoch 286] [Batch 300/1563] [D loss: -0.501060] [G loss: -0.580833]\n",
      "[Epoch 286] [Batch 400/1563] [D loss: -1.383533] [G loss: -0.520259]\n",
      "[Epoch 286] [Batch 500/1563] [D loss: -1.298237] [G loss: -1.607651]\n",
      "[Epoch 286] [Batch 600/1563] [D loss: 0.290970] [G loss: 0.037145]\n",
      "[Epoch 286] [Batch 700/1563] [D loss: 1.528485] [G loss: -1.700214]\n",
      "[Epoch 286] [Batch 800/1563] [D loss: -0.026786] [G loss: -0.589740]\n",
      "[Epoch 286] [Batch 900/1563] [D loss: 0.074906] [G loss: -1.111847]\n",
      "[Epoch 286] [Batch 1000/1563] [D loss: 0.291922] [G loss: -0.778614]\n",
      "[Epoch 286] [Batch 1100/1563] [D loss: -0.766133] [G loss: -1.062413]\n",
      "[Epoch 286] [Batch 1200/1563] [D loss: -0.382990] [G loss: -0.159171]\n",
      "[Epoch 286] [Batch 1300/1563] [D loss: -0.535372] [G loss: -0.102781]\n",
      "[Epoch 286] [Batch 1400/1563] [D loss: -2.082814] [G loss: -0.569112]\n",
      "[Epoch 286] [Batch 1500/1563] [D loss: -0.878982] [G loss: -0.850208]\n"
     ]
    },
    {
     "name": "stderr",
     "output_type": "stream",
     "text": [
      "sample images: 100%|██████████| 256/256 [00:05<00:00, 47.98it/s]\n"
     ]
    },
    {
     "name": "stdout",
     "output_type": "stream",
     "text": [
      "Warning: number of images is not a multiple of the batch size. Some samples are going to be ignored.\n"
     ]
    },
    {
     "name": "stderr",
     "output_type": "stream",
     "text": [
      "100%|██████████| 81/81 [00:04<00:00, 19.80it/s]\n"
     ]
    },
    {
     "name": "stdout",
     "output_type": "stream",
     "text": [
      "FID score: 50.16522216796875\n"
     ]
    },
    {
     "name": "stderr",
     "output_type": "stream",
     "text": [
      "sample images: 100%|██████████| 256/256 [00:05<00:00, 47.94it/s]\n"
     ]
    },
    {
     "name": "stdout",
     "output_type": "stream",
     "text": [
      "Inception score: 5.478871556245963\n",
      "----- Epoch Summary -----\n",
      "Dis Loss: 0.029384 - Gen Loss: -0.732681 - Dis LR: 6.15583e-07 - Gen LR: 6.15583e-07\n",
      "FID score: 50.16522216796875 - Inception score: 5.478871556245963 || @ epoch 286.\n",
      "Best FID score: 46.537933349609375 @ epoch 217\n",
      "-----      End      -----\n",
      "\n",
      "------- Epoch 287 -------\n",
      "[Epoch 287] [Batch 100/1563] [D loss: -1.593434] [G loss: -1.236631]\n",
      "[Epoch 287] [Batch 200/1563] [D loss: -0.877236] [G loss: -0.413843]\n",
      "[Epoch 287] [Batch 300/1563] [D loss: 0.107368] [G loss: 0.437130]\n",
      "[Epoch 287] [Batch 400/1563] [D loss: -0.209492] [G loss: -1.118401]\n",
      "[Epoch 287] [Batch 500/1563] [D loss: 0.492040] [G loss: -0.250846]\n",
      "[Epoch 287] [Batch 600/1563] [D loss: 0.029568] [G loss: -0.861428]\n",
      "[Epoch 287] [Batch 700/1563] [D loss: -0.034660] [G loss: -0.086506]\n",
      "[Epoch 287] [Batch 800/1563] [D loss: -0.154287] [G loss: -0.179673]\n",
      "[Epoch 287] [Batch 900/1563] [D loss: -1.538273] [G loss: 0.451280]\n",
      "[Epoch 287] [Batch 1000/1563] [D loss: -0.630523] [G loss: -1.421833]\n",
      "[Epoch 287] [Batch 1100/1563] [D loss: -0.566241] [G loss: -0.407142]\n",
      "[Epoch 287] [Batch 1200/1563] [D loss: -0.631911] [G loss: -1.169470]\n",
      "[Epoch 287] [Batch 1300/1563] [D loss: -0.310484] [G loss: -2.002591]\n",
      "[Epoch 287] [Batch 1400/1563] [D loss: -1.818417] [G loss: -0.261435]\n",
      "[Epoch 287] [Batch 1500/1563] [D loss: 0.636957] [G loss: -0.053021]\n"
     ]
    },
    {
     "name": "stderr",
     "output_type": "stream",
     "text": [
      "sample images: 100%|██████████| 256/256 [00:05<00:00, 47.97it/s]\n"
     ]
    },
    {
     "name": "stdout",
     "output_type": "stream",
     "text": [
      "Warning: number of images is not a multiple of the batch size. Some samples are going to be ignored.\n"
     ]
    },
    {
     "name": "stderr",
     "output_type": "stream",
     "text": [
      "100%|██████████| 81/81 [00:04<00:00, 19.78it/s]\n"
     ]
    },
    {
     "name": "stdout",
     "output_type": "stream",
     "text": [
      "FID score: 50.476318359375\n"
     ]
    },
    {
     "name": "stderr",
     "output_type": "stream",
     "text": [
      "sample images: 100%|██████████| 256/256 [00:05<00:00, 47.98it/s]\n"
     ]
    },
    {
     "name": "stdout",
     "output_type": "stream",
     "text": [
      "Inception score: 5.418870982720027\n",
      "----- Epoch Summary -----\n",
      "Dis Loss: -0.027834 - Gen Loss: -0.736330 - Dis LR: 5.36383e-07 - Gen LR: 5.36383e-07\n",
      "FID score: 50.476318359375 - Inception score: 5.418870982720027 || @ epoch 287.\n",
      "Best FID score: 46.537933349609375 @ epoch 217\n",
      "-----      End      -----\n",
      "\n",
      "------- Epoch 288 -------\n",
      "[Epoch 288] [Batch 100/1563] [D loss: -1.663643] [G loss: -0.397549]\n",
      "[Epoch 288] [Batch 200/1563] [D loss: -0.742736] [G loss: -0.989964]\n",
      "[Epoch 288] [Batch 300/1563] [D loss: -2.001092] [G loss: 0.006170]\n",
      "[Epoch 288] [Batch 400/1563] [D loss: 1.071981] [G loss: 1.339889]\n",
      "[Epoch 288] [Batch 500/1563] [D loss: 1.066059] [G loss: -2.712845]\n",
      "[Epoch 288] [Batch 600/1563] [D loss: 1.470155] [G loss: -1.207347]\n",
      "[Epoch 288] [Batch 700/1563] [D loss: 0.596775] [G loss: -0.449937]\n",
      "[Epoch 288] [Batch 800/1563] [D loss: 0.552931] [G loss: -1.459113]\n",
      "[Epoch 288] [Batch 900/1563] [D loss: -2.879376] [G loss: -1.911377]\n",
      "[Epoch 288] [Batch 1000/1563] [D loss: 2.094233] [G loss: -0.383186]\n",
      "[Epoch 288] [Batch 1100/1563] [D loss: -1.803127] [G loss: 0.342202]\n",
      "[Epoch 288] [Batch 1200/1563] [D loss: 0.633084] [G loss: -1.358866]\n",
      "[Epoch 288] [Batch 1300/1563] [D loss: -0.937257] [G loss: -0.578812]\n",
      "[Epoch 288] [Batch 1400/1563] [D loss: -0.824590] [G loss: -1.418984]\n",
      "[Epoch 288] [Batch 1500/1563] [D loss: -1.001863] [G loss: -0.150262]\n"
     ]
    },
    {
     "name": "stderr",
     "output_type": "stream",
     "text": [
      "sample images: 100%|██████████| 256/256 [00:05<00:00, 47.99it/s]\n"
     ]
    },
    {
     "name": "stdout",
     "output_type": "stream",
     "text": [
      "Warning: number of images is not a multiple of the batch size. Some samples are going to be ignored.\n"
     ]
    },
    {
     "name": "stderr",
     "output_type": "stream",
     "text": [
      "100%|██████████| 81/81 [00:04<00:00, 19.80it/s]\n"
     ]
    },
    {
     "name": "stdout",
     "output_type": "stream",
     "text": [
      "FID score: 50.79241943359375\n"
     ]
    },
    {
     "name": "stderr",
     "output_type": "stream",
     "text": [
      "sample images: 100%|██████████| 256/256 [00:05<00:00, 47.99it/s]\n"
     ]
    },
    {
     "name": "stdout",
     "output_type": "stream",
     "text": [
      "Inception score: 5.375678258624676\n",
      "----- Epoch Summary -----\n",
      "Dis Loss: -0.036765 - Gen Loss: -0.652914 - Dis LR: 4.62608e-07 - Gen LR: 4.62608e-07\n",
      "FID score: 50.79241943359375 - Inception score: 5.375678258624676 || @ epoch 288.\n",
      "Best FID score: 46.537933349609375 @ epoch 217\n",
      "-----      End      -----\n",
      "\n",
      "------- Epoch 289 -------\n",
      "[Epoch 289] [Batch 100/1563] [D loss: -0.803344] [G loss: -0.096298]\n",
      "[Epoch 289] [Batch 200/1563] [D loss: 0.199184] [G loss: 0.783440]\n",
      "[Epoch 289] [Batch 300/1563] [D loss: -1.923497] [G loss: -2.149997]\n",
      "[Epoch 289] [Batch 400/1563] [D loss: -0.624800] [G loss: -0.470058]\n",
      "[Epoch 289] [Batch 500/1563] [D loss: -0.996950] [G loss: -1.713776]\n",
      "[Epoch 289] [Batch 600/1563] [D loss: -2.316951] [G loss: -1.400644]\n",
      "[Epoch 289] [Batch 700/1563] [D loss: 0.744521] [G loss: -0.143084]\n",
      "[Epoch 289] [Batch 800/1563] [D loss: -0.487019] [G loss: -1.002854]\n",
      "[Epoch 289] [Batch 900/1563] [D loss: 0.990124] [G loss: 0.142866]\n",
      "[Epoch 289] [Batch 1000/1563] [D loss: 0.037656] [G loss: -0.796047]\n",
      "[Epoch 289] [Batch 1100/1563] [D loss: -1.734318] [G loss: -1.142264]\n",
      "[Epoch 289] [Batch 1200/1563] [D loss: -1.903831] [G loss: -1.088973]\n",
      "[Epoch 289] [Batch 1300/1563] [D loss: 0.850051] [G loss: -1.787084]\n",
      "[Epoch 289] [Batch 1400/1563] [D loss: -1.678372] [G loss: -1.301100]\n",
      "[Epoch 289] [Batch 1500/1563] [D loss: -0.171757] [G loss: 0.152578]\n"
     ]
    },
    {
     "name": "stderr",
     "output_type": "stream",
     "text": [
      "sample images: 100%|██████████| 256/256 [00:05<00:00, 48.12it/s]\n"
     ]
    },
    {
     "name": "stdout",
     "output_type": "stream",
     "text": [
      "Warning: number of images is not a multiple of the batch size. Some samples are going to be ignored.\n"
     ]
    },
    {
     "name": "stderr",
     "output_type": "stream",
     "text": [
      "100%|██████████| 81/81 [00:04<00:00, 19.79it/s]\n"
     ]
    },
    {
     "name": "stdout",
     "output_type": "stream",
     "text": [
      "FID score: 51.8031005859375\n"
     ]
    },
    {
     "name": "stderr",
     "output_type": "stream",
     "text": [
      "sample images: 100%|██████████| 256/256 [00:05<00:00, 48.06it/s]\n"
     ]
    },
    {
     "name": "stdout",
     "output_type": "stream",
     "text": [
      "Inception score: 5.370692923223606\n",
      "----- Epoch Summary -----\n",
      "Dis Loss: -0.008536 - Gen Loss: -0.740575 - Dis LR: 3.94265e-07 - Gen LR: 3.94265e-07\n",
      "FID score: 51.8031005859375 - Inception score: 5.370692923223606 || @ epoch 289.\n",
      "Best FID score: 46.537933349609375 @ epoch 217\n",
      "-----      End      -----\n",
      "\n",
      "------- Epoch 290 -------\n",
      "[Epoch 290] [Batch 100/1563] [D loss: -0.843912] [G loss: -0.192883]\n",
      "[Epoch 290] [Batch 200/1563] [D loss: 1.689259] [G loss: 0.845644]\n",
      "[Epoch 290] [Batch 300/1563] [D loss: 1.600689] [G loss: -0.442426]\n",
      "[Epoch 290] [Batch 400/1563] [D loss: 1.390622] [G loss: -0.697536]\n",
      "[Epoch 290] [Batch 500/1563] [D loss: -1.528305] [G loss: 0.267962]\n",
      "[Epoch 290] [Batch 600/1563] [D loss: -0.605563] [G loss: -0.578374]\n",
      "[Epoch 290] [Batch 700/1563] [D loss: -0.958615] [G loss: -1.690266]\n",
      "[Epoch 290] [Batch 800/1563] [D loss: 0.101851] [G loss: -1.865285]\n",
      "[Epoch 290] [Batch 900/1563] [D loss: 1.910117] [G loss: 0.127405]\n",
      "[Epoch 290] [Batch 1000/1563] [D loss: -0.128988] [G loss: -0.509077]\n",
      "[Epoch 290] [Batch 1100/1563] [D loss: -0.446251] [G loss: -0.743837]\n",
      "[Epoch 290] [Batch 1200/1563] [D loss: -1.635108] [G loss: -1.617685]\n",
      "[Epoch 290] [Batch 1300/1563] [D loss: 1.170666] [G loss: 0.623457]\n",
      "[Epoch 290] [Batch 1400/1563] [D loss: -0.612687] [G loss: -0.766230]\n",
      "[Epoch 290] [Batch 1500/1563] [D loss: 0.350874] [G loss: -1.251123]\n"
     ]
    },
    {
     "name": "stderr",
     "output_type": "stream",
     "text": [
      "sample images: 100%|██████████| 256/256 [00:05<00:00, 48.07it/s]\n"
     ]
    },
    {
     "name": "stdout",
     "output_type": "stream",
     "text": [
      "Warning: number of images is not a multiple of the batch size. Some samples are going to be ignored.\n"
     ]
    },
    {
     "name": "stderr",
     "output_type": "stream",
     "text": [
      "100%|██████████| 81/81 [00:04<00:00, 19.79it/s]\n"
     ]
    },
    {
     "name": "stdout",
     "output_type": "stream",
     "text": [
      "FID score: 50.806610107421875\n"
     ]
    },
    {
     "name": "stderr",
     "output_type": "stream",
     "text": [
      "sample images: 100%|██████████| 256/256 [00:05<00:00, 47.95it/s]\n"
     ]
    },
    {
     "name": "stdout",
     "output_type": "stream",
     "text": [
      "Inception score: 5.520230734251887\n",
      "----- Epoch Summary -----\n",
      "Dis Loss: 0.025236 - Gen Loss: -0.604761 - Dis LR: 3.31362e-07 - Gen LR: 3.31362e-07\n",
      "FID score: 50.806610107421875 - Inception score: 5.520230734251887 || @ epoch 290.\n",
      "Best FID score: 46.537933349609375 @ epoch 217\n",
      "-----      End      -----\n",
      "\n",
      "------- Epoch 291 -------\n",
      "[Epoch 291] [Batch 0/1563] [D loss: 1.277068] [G loss: -0.653942]\n",
      "[Epoch 291] [Batch 100/1563] [D loss: -0.755050] [G loss: -0.660064]\n",
      "[Epoch 291] [Batch 200/1563] [D loss: 0.509622] [G loss: -0.733479]\n",
      "[Epoch 291] [Batch 300/1563] [D loss: 0.950919] [G loss: 0.651247]\n",
      "[Epoch 291] [Batch 400/1563] [D loss: -1.051120] [G loss: -0.726747]\n",
      "[Epoch 291] [Batch 500/1563] [D loss: 2.114833] [G loss: -0.320281]\n",
      "[Epoch 291] [Batch 600/1563] [D loss: -2.084723] [G loss: -0.328720]\n",
      "[Epoch 291] [Batch 700/1563] [D loss: -1.752431] [G loss: -2.402933]\n",
      "[Epoch 291] [Batch 800/1563] [D loss: -0.237182] [G loss: -1.027615]\n",
      "[Epoch 291] [Batch 900/1563] [D loss: -0.815680] [G loss: -0.347857]\n",
      "[Epoch 291] [Batch 1000/1563] [D loss: -0.490985] [G loss: -0.586733]\n",
      "[Epoch 291] [Batch 1100/1563] [D loss: 0.773440] [G loss: -0.349726]\n",
      "[Epoch 291] [Batch 1200/1563] [D loss: 0.539583] [G loss: 0.749039]\n",
      "[Epoch 291] [Batch 1300/1563] [D loss: -1.851223] [G loss: -0.952782]\n",
      "[Epoch 291] [Batch 1400/1563] [D loss: 1.193122] [G loss: -0.322038]\n",
      "[Epoch 291] [Batch 1500/1563] [D loss: 0.459987] [G loss: -1.378360]\n"
     ]
    },
    {
     "name": "stderr",
     "output_type": "stream",
     "text": [
      "sample images: 100%|██████████| 256/256 [00:05<00:00, 48.03it/s]\n"
     ]
    },
    {
     "name": "stdout",
     "output_type": "stream",
     "text": [
      "Warning: number of images is not a multiple of the batch size. Some samples are going to be ignored.\n"
     ]
    },
    {
     "name": "stderr",
     "output_type": "stream",
     "text": [
      "100%|██████████| 81/81 [00:04<00:00, 19.79it/s]\n"
     ]
    },
    {
     "name": "stdout",
     "output_type": "stream",
     "text": [
      "FID score: 50.862548828125\n"
     ]
    },
    {
     "name": "stderr",
     "output_type": "stream",
     "text": [
      "sample images: 100%|██████████| 256/256 [00:05<00:00, 47.99it/s]\n"
     ]
    },
    {
     "name": "stdout",
     "output_type": "stream",
     "text": [
      "Inception score: 5.474332991631009\n",
      "----- Epoch Summary -----\n",
      "Dis Loss: -0.071888 - Gen Loss: -0.701269 - Dis LR: 2.73905e-07 - Gen LR: 2.73905e-07\n",
      "FID score: 50.862548828125 - Inception score: 5.474332991631009 || @ epoch 291.\n",
      "Best FID score: 46.537933349609375 @ epoch 217\n",
      "-----      End      -----\n",
      "\n",
      "------- Epoch 292 -------\n",
      "[Epoch 292] [Batch 100/1563] [D loss: 0.531733] [G loss: -0.211919]\n",
      "[Epoch 292] [Batch 200/1563] [D loss: -1.008500] [G loss: 0.834048]\n",
      "[Epoch 292] [Batch 300/1563] [D loss: -0.756046] [G loss: -0.930614]\n",
      "[Epoch 292] [Batch 400/1563] [D loss: 0.973188] [G loss: -1.739874]\n",
      "[Epoch 292] [Batch 500/1563] [D loss: 0.579194] [G loss: -1.003253]\n",
      "[Epoch 292] [Batch 600/1563] [D loss: -0.074597] [G loss: -0.715315]\n",
      "[Epoch 292] [Batch 700/1563] [D loss: -1.571987] [G loss: -1.790362]\n",
      "[Epoch 292] [Batch 800/1563] [D loss: 0.405504] [G loss: -0.339751]\n",
      "[Epoch 292] [Batch 900/1563] [D loss: -1.507390] [G loss: -1.426501]\n",
      "[Epoch 292] [Batch 1000/1563] [D loss: 0.523968] [G loss: -2.053789]\n",
      "[Epoch 292] [Batch 1100/1563] [D loss: 1.784562] [G loss: -0.781011]\n",
      "[Epoch 292] [Batch 1200/1563] [D loss: 0.346895] [G loss: -0.787636]\n",
      "[Epoch 292] [Batch 1300/1563] [D loss: -0.855588] [G loss: -0.883459]\n",
      "[Epoch 292] [Batch 1400/1563] [D loss: -1.116166] [G loss: -0.737101]\n",
      "[Epoch 292] [Batch 1500/1563] [D loss: -0.902832] [G loss: -0.374140]\n"
     ]
    },
    {
     "name": "stderr",
     "output_type": "stream",
     "text": [
      "sample images: 100%|██████████| 256/256 [00:05<00:00, 47.96it/s]\n"
     ]
    },
    {
     "name": "stdout",
     "output_type": "stream",
     "text": [
      "Warning: number of images is not a multiple of the batch size. Some samples are going to be ignored.\n"
     ]
    },
    {
     "name": "stderr",
     "output_type": "stream",
     "text": [
      "100%|██████████| 81/81 [00:04<00:00, 19.79it/s]\n"
     ]
    },
    {
     "name": "stdout",
     "output_type": "stream",
     "text": [
      "FID score: 52.196563720703125\n"
     ]
    },
    {
     "name": "stderr",
     "output_type": "stream",
     "text": [
      "sample images: 100%|██████████| 256/256 [00:05<00:00, 47.97it/s]\n"
     ]
    },
    {
     "name": "stdout",
     "output_type": "stream",
     "text": [
      "Inception score: 5.541602028499251\n",
      "----- Epoch Summary -----\n",
      "Dis Loss: -0.045050 - Gen Loss: -0.680848 - Dis LR: 2.21902e-07 - Gen LR: 2.21902e-07\n",
      "FID score: 52.196563720703125 - Inception score: 5.541602028499251 || @ epoch 292.\n",
      "Best FID score: 46.537933349609375 @ epoch 217\n",
      "-----      End      -----\n",
      "\n",
      "------- Epoch 293 -------\n",
      "[Epoch 293] [Batch 100/1563] [D loss: 0.701012] [G loss: 1.710376]\n",
      "[Epoch 293] [Batch 200/1563] [D loss: -0.410555] [G loss: -0.596294]\n",
      "[Epoch 293] [Batch 300/1563] [D loss: 0.486374] [G loss: -0.563645]\n",
      "[Epoch 293] [Batch 400/1563] [D loss: 1.059703] [G loss: -2.908676]\n",
      "[Epoch 293] [Batch 500/1563] [D loss: -2.257546] [G loss: -1.929317]\n",
      "[Epoch 293] [Batch 600/1563] [D loss: 0.618759] [G loss: -0.210631]\n",
      "[Epoch 293] [Batch 700/1563] [D loss: 1.276575] [G loss: -0.762488]\n",
      "[Epoch 293] [Batch 800/1563] [D loss: -0.109705] [G loss: 0.624859]\n",
      "[Epoch 293] [Batch 900/1563] [D loss: 0.660008] [G loss: 0.613140]\n",
      "[Epoch 293] [Batch 1000/1563] [D loss: -1.257743] [G loss: -0.367546]\n",
      "[Epoch 293] [Batch 1100/1563] [D loss: -0.244307] [G loss: -1.034752]\n",
      "[Epoch 293] [Batch 1200/1563] [D loss: -1.293946] [G loss: 0.126024]\n",
      "[Epoch 293] [Batch 1300/1563] [D loss: 0.655467] [G loss: -1.326423]\n",
      "[Epoch 293] [Batch 1400/1563] [D loss: 0.301198] [G loss: -0.253402]\n",
      "[Epoch 293] [Batch 1500/1563] [D loss: 0.675521] [G loss: -0.726351]\n"
     ]
    },
    {
     "name": "stderr",
     "output_type": "stream",
     "text": [
      "sample images: 100%|██████████| 256/256 [00:05<00:00, 48.04it/s]\n"
     ]
    },
    {
     "name": "stdout",
     "output_type": "stream",
     "text": [
      "Warning: number of images is not a multiple of the batch size. Some samples are going to be ignored.\n"
     ]
    },
    {
     "name": "stderr",
     "output_type": "stream",
     "text": [
      "100%|██████████| 81/81 [00:04<00:00, 19.78it/s]\n"
     ]
    },
    {
     "name": "stdout",
     "output_type": "stream",
     "text": [
      "FID score: 50.948974609375\n"
     ]
    },
    {
     "name": "stderr",
     "output_type": "stream",
     "text": [
      "sample images: 100%|██████████| 256/256 [00:05<00:00, 48.01it/s]\n"
     ]
    },
    {
     "name": "stdout",
     "output_type": "stream",
     "text": [
      "Inception score: 5.437732962380114\n",
      "----- Epoch Summary -----\n",
      "Dis Loss: -0.082296 - Gen Loss: -0.776682 - Dis LR: 1.75357e-07 - Gen LR: 1.75357e-07\n",
      "FID score: 50.948974609375 - Inception score: 5.437732962380114 || @ epoch 293.\n",
      "Best FID score: 46.537933349609375 @ epoch 217\n",
      "-----      End      -----\n",
      "\n",
      "------- Epoch 294 -------\n",
      "[Epoch 294] [Batch 100/1563] [D loss: 1.065739] [G loss: 0.025827]\n",
      "[Epoch 294] [Batch 200/1563] [D loss: 1.258807] [G loss: 0.080812]\n",
      "[Epoch 294] [Batch 300/1563] [D loss: -1.498367] [G loss: -0.769578]\n",
      "[Epoch 294] [Batch 400/1563] [D loss: -0.780470] [G loss: -1.313934]\n",
      "[Epoch 294] [Batch 500/1563] [D loss: 1.369694] [G loss: -1.410715]\n",
      "[Epoch 294] [Batch 600/1563] [D loss: -1.337576] [G loss: -0.753285]\n",
      "[Epoch 294] [Batch 700/1563] [D loss: 1.517801] [G loss: 0.586031]\n",
      "[Epoch 294] [Batch 800/1563] [D loss: 0.536834] [G loss: -0.692949]\n",
      "[Epoch 294] [Batch 900/1563] [D loss: 2.098549] [G loss: -0.335650]\n",
      "[Epoch 294] [Batch 1000/1563] [D loss: 0.008536] [G loss: 0.681680]\n",
      "[Epoch 294] [Batch 1100/1563] [D loss: -0.528035] [G loss: -2.494292]\n",
      "[Epoch 294] [Batch 1200/1563] [D loss: -0.987937] [G loss: 0.119243]\n",
      "[Epoch 294] [Batch 1300/1563] [D loss: -0.776571] [G loss: -0.374620]\n",
      "[Epoch 294] [Batch 1400/1563] [D loss: -1.510155] [G loss: -1.400742]\n",
      "[Epoch 294] [Batch 1500/1563] [D loss: 1.103577] [G loss: -0.061583]\n"
     ]
    },
    {
     "name": "stderr",
     "output_type": "stream",
     "text": [
      "sample images: 100%|██████████| 256/256 [00:05<00:00, 47.97it/s]\n"
     ]
    },
    {
     "name": "stdout",
     "output_type": "stream",
     "text": [
      "Warning: number of images is not a multiple of the batch size. Some samples are going to be ignored.\n"
     ]
    },
    {
     "name": "stderr",
     "output_type": "stream",
     "text": [
      "100%|██████████| 81/81 [00:04<00:00, 19.76it/s]\n"
     ]
    },
    {
     "name": "stdout",
     "output_type": "stream",
     "text": [
      "FID score: 50.642791748046875\n"
     ]
    },
    {
     "name": "stderr",
     "output_type": "stream",
     "text": [
      "sample images: 100%|██████████| 256/256 [00:05<00:00, 47.99it/s]\n"
     ]
    },
    {
     "name": "stdout",
     "output_type": "stream",
     "text": [
      "Inception score: 5.432248160040389\n",
      "----- Epoch Summary -----\n",
      "Dis Loss: -0.029280 - Gen Loss: -0.769352 - Dis LR: 1.34276e-07 - Gen LR: 1.34276e-07\n",
      "FID score: 50.642791748046875 - Inception score: 5.432248160040389 || @ epoch 294.\n",
      "Best FID score: 46.537933349609375 @ epoch 217\n",
      "-----      End      -----\n",
      "\n",
      "------- Epoch 295 -------\n",
      "[Epoch 295] [Batch 100/1563] [D loss: 1.107546] [G loss: 0.754233]\n",
      "[Epoch 295] [Batch 200/1563] [D loss: 0.190991] [G loss: -3.286865]\n",
      "[Epoch 295] [Batch 300/1563] [D loss: -1.110893] [G loss: -0.701328]\n",
      "[Epoch 295] [Batch 400/1563] [D loss: -0.757122] [G loss: -1.891106]\n",
      "[Epoch 295] [Batch 500/1563] [D loss: 1.099378] [G loss: -1.917847]\n",
      "[Epoch 295] [Batch 600/1563] [D loss: -2.671014] [G loss: -0.741328]\n",
      "[Epoch 295] [Batch 700/1563] [D loss: -0.388671] [G loss: -0.065686]\n",
      "[Epoch 295] [Batch 800/1563] [D loss: 0.159192] [G loss: 0.201600]\n",
      "[Epoch 295] [Batch 900/1563] [D loss: 0.093341] [G loss: -0.133936]\n",
      "[Epoch 295] [Batch 1000/1563] [D loss: -0.162961] [G loss: -0.822674]\n",
      "[Epoch 295] [Batch 1100/1563] [D loss: -0.540307] [G loss: 0.830448]\n",
      "[Epoch 295] [Batch 1200/1563] [D loss: -0.720722] [G loss: -0.159990]\n",
      "[Epoch 295] [Batch 1300/1563] [D loss: 0.643565] [G loss: -1.837409]\n",
      "[Epoch 295] [Batch 1400/1563] [D loss: 0.296051] [G loss: -0.090313]\n",
      "[Epoch 295] [Batch 1500/1563] [D loss: 0.054060] [G loss: -0.383342]\n"
     ]
    },
    {
     "name": "stderr",
     "output_type": "stream",
     "text": [
      "sample images: 100%|██████████| 256/256 [00:05<00:00, 47.94it/s]\n"
     ]
    },
    {
     "name": "stdout",
     "output_type": "stream",
     "text": [
      "Warning: number of images is not a multiple of the batch size. Some samples are going to be ignored.\n"
     ]
    },
    {
     "name": "stderr",
     "output_type": "stream",
     "text": [
      "100%|██████████| 81/81 [00:04<00:00, 19.77it/s]\n"
     ]
    },
    {
     "name": "stdout",
     "output_type": "stream",
     "text": [
      "FID score: 50.71063232421875\n"
     ]
    },
    {
     "name": "stderr",
     "output_type": "stream",
     "text": [
      "sample images: 100%|██████████| 256/256 [00:05<00:00, 47.99it/s]\n"
     ]
    },
    {
     "name": "stdout",
     "output_type": "stream",
     "text": [
      "Inception score: 5.473029273378777\n",
      "----- Epoch Summary -----\n",
      "Dis Loss: -0.031279 - Gen Loss: -0.780529 - Dis LR: 9.86636e-08 - Gen LR: 9.86636e-08\n",
      "FID score: 50.71063232421875 - Inception score: 5.473029273378777 || @ epoch 295.\n",
      "Best FID score: 46.537933349609375 @ epoch 217\n",
      "-----      End      -----\n",
      "\n",
      "------- Epoch 296 -------\n",
      "[Epoch 296] [Batch 0/1563] [D loss: -1.177862] [G loss: -1.185620]\n",
      "[Epoch 296] [Batch 100/1563] [D loss: -1.447371] [G loss: -1.513586]\n",
      "[Epoch 296] [Batch 200/1563] [D loss: 0.481057] [G loss: -0.234612]\n",
      "[Epoch 296] [Batch 300/1563] [D loss: 0.539005] [G loss: -0.063523]\n",
      "[Epoch 296] [Batch 400/1563] [D loss: -0.949038] [G loss: -1.481096]\n",
      "[Epoch 296] [Batch 500/1563] [D loss: 0.087419] [G loss: 0.397609]\n",
      "[Epoch 296] [Batch 600/1563] [D loss: -1.873399] [G loss: 0.697582]\n",
      "[Epoch 296] [Batch 700/1563] [D loss: 0.752805] [G loss: 0.333233]\n",
      "[Epoch 296] [Batch 800/1563] [D loss: -1.207630] [G loss: -1.312863]\n",
      "[Epoch 296] [Batch 900/1563] [D loss: 0.993715] [G loss: -1.178796]\n",
      "[Epoch 296] [Batch 1000/1563] [D loss: 0.703625] [G loss: 0.094105]\n",
      "[Epoch 296] [Batch 1100/1563] [D loss: -0.495865] [G loss: -0.537035]\n",
      "[Epoch 296] [Batch 1200/1563] [D loss: 0.192695] [G loss: -0.768757]\n",
      "[Epoch 296] [Batch 1300/1563] [D loss: 2.238198] [G loss: -0.996662]\n",
      "[Epoch 296] [Batch 1400/1563] [D loss: 1.390832] [G loss: -0.191317]\n",
      "[Epoch 296] [Batch 1500/1563] [D loss: -3.198168] [G loss: -0.410156]\n"
     ]
    },
    {
     "name": "stderr",
     "output_type": "stream",
     "text": [
      "sample images: 100%|██████████| 256/256 [00:05<00:00, 48.03it/s]\n"
     ]
    },
    {
     "name": "stdout",
     "output_type": "stream",
     "text": [
      "Warning: number of images is not a multiple of the batch size. Some samples are going to be ignored.\n"
     ]
    },
    {
     "name": "stderr",
     "output_type": "stream",
     "text": [
      "100%|██████████| 81/81 [00:04<00:00, 19.78it/s]\n"
     ]
    },
    {
     "name": "stdout",
     "output_type": "stream",
     "text": [
      "FID score: 50.784881591796875\n"
     ]
    },
    {
     "name": "stderr",
     "output_type": "stream",
     "text": [
      "sample images: 100%|██████████| 256/256 [00:05<00:00, 47.97it/s]\n"
     ]
    },
    {
     "name": "stdout",
     "output_type": "stream",
     "text": [
      "Inception score: 5.55487739429847\n",
      "----- Epoch Summary -----\n",
      "Dis Loss: -0.000692 - Gen Loss: -0.756845 - Dis LR: 6.85233e-08 - Gen LR: 6.85233e-08\n",
      "FID score: 50.784881591796875 - Inception score: 5.55487739429847 || @ epoch 296.\n",
      "Best FID score: 46.537933349609375 @ epoch 217\n",
      "-----      End      -----\n",
      "\n",
      "------- Epoch 297 -------\n",
      "[Epoch 297] [Batch 100/1563] [D loss: 0.031293] [G loss: 0.130233]\n",
      "[Epoch 297] [Batch 200/1563] [D loss: 1.510720] [G loss: -0.112893]\n",
      "[Epoch 297] [Batch 300/1563] [D loss: 0.568090] [G loss: -0.980989]\n",
      "[Epoch 297] [Batch 400/1563] [D loss: 0.196967] [G loss: -0.238782]\n",
      "[Epoch 297] [Batch 500/1563] [D loss: -0.372907] [G loss: -0.012500]\n",
      "[Epoch 297] [Batch 600/1563] [D loss: 0.719430] [G loss: -0.585531]\n",
      "[Epoch 297] [Batch 700/1563] [D loss: 0.203965] [G loss: -0.072075]\n",
      "[Epoch 297] [Batch 800/1563] [D loss: 2.062079] [G loss: 0.273542]\n",
      "[Epoch 297] [Batch 900/1563] [D loss: -0.492851] [G loss: -1.081872]\n",
      "[Epoch 297] [Batch 1000/1563] [D loss: -0.707431] [G loss: 0.141390]\n",
      "[Epoch 297] [Batch 1100/1563] [D loss: -0.145767] [G loss: -1.093921]\n",
      "[Epoch 297] [Batch 1200/1563] [D loss: -1.224360] [G loss: 0.213448]\n",
      "[Epoch 297] [Batch 1300/1563] [D loss: 1.099866] [G loss: -0.393765]\n",
      "[Epoch 297] [Batch 1400/1563] [D loss: 0.911804] [G loss: 0.525028]\n",
      "[Epoch 297] [Batch 1500/1563] [D loss: 1.151428] [G loss: -0.355742]\n"
     ]
    },
    {
     "name": "stderr",
     "output_type": "stream",
     "text": [
      "sample images: 100%|██████████| 256/256 [00:05<00:00, 48.04it/s]\n"
     ]
    },
    {
     "name": "stdout",
     "output_type": "stream",
     "text": [
      "Warning: number of images is not a multiple of the batch size. Some samples are going to be ignored.\n"
     ]
    },
    {
     "name": "stderr",
     "output_type": "stream",
     "text": [
      "100%|██████████| 81/81 [00:04<00:00, 19.76it/s]\n"
     ]
    },
    {
     "name": "stdout",
     "output_type": "stream",
     "text": [
      "FID score: 49.955108642578125\n"
     ]
    },
    {
     "name": "stderr",
     "output_type": "stream",
     "text": [
      "sample images: 100%|██████████| 256/256 [00:05<00:00, 47.94it/s]\n"
     ]
    },
    {
     "name": "stdout",
     "output_type": "stream",
     "text": [
      "Inception score: 5.420898759720398\n",
      "----- Epoch Summary -----\n",
      "Dis Loss: 0.029561 - Gen Loss: -0.747928 - Dis LR: 4.38585e-08 - Gen LR: 4.38585e-08\n",
      "FID score: 49.955108642578125 - Inception score: 5.420898759720398 || @ epoch 297.\n",
      "Best FID score: 46.537933349609375 @ epoch 217\n",
      "-----      End      -----\n",
      "\n",
      "------- Epoch 298 -------\n",
      "[Epoch 298] [Batch 100/1563] [D loss: 0.525092] [G loss: 0.074777]\n",
      "[Epoch 298] [Batch 200/1563] [D loss: -0.904582] [G loss: -1.778311]\n",
      "[Epoch 298] [Batch 300/1563] [D loss: -0.650989] [G loss: -0.310306]\n",
      "[Epoch 298] [Batch 400/1563] [D loss: -0.387399] [G loss: -2.619332]\n",
      "[Epoch 298] [Batch 500/1563] [D loss: 1.137451] [G loss: -0.849360]\n",
      "[Epoch 298] [Batch 600/1563] [D loss: -2.907153] [G loss: -1.051855]\n",
      "[Epoch 298] [Batch 700/1563] [D loss: -1.792228] [G loss: -0.214468]\n",
      "[Epoch 298] [Batch 800/1563] [D loss: 0.123935] [G loss: 1.759347]\n",
      "[Epoch 298] [Batch 900/1563] [D loss: -1.655090] [G loss: -2.438951]\n",
      "[Epoch 298] [Batch 1000/1563] [D loss: -0.542777] [G loss: -1.099029]\n",
      "[Epoch 298] [Batch 1100/1563] [D loss: 0.326109] [G loss: -1.601805]\n",
      "[Epoch 298] [Batch 1200/1563] [D loss: -0.377720] [G loss: -0.561378]\n",
      "[Epoch 298] [Batch 1300/1563] [D loss: -1.674270] [G loss: -1.231496]\n",
      "[Epoch 298] [Batch 1400/1563] [D loss: 0.854859] [G loss: -0.631972]\n",
      "[Epoch 298] [Batch 1500/1563] [D loss: 0.224234] [G loss: -0.713998]\n"
     ]
    },
    {
     "name": "stderr",
     "output_type": "stream",
     "text": [
      "sample images: 100%|██████████| 256/256 [00:05<00:00, 48.00it/s]\n"
     ]
    },
    {
     "name": "stdout",
     "output_type": "stream",
     "text": [
      "Warning: number of images is not a multiple of the batch size. Some samples are going to be ignored.\n"
     ]
    },
    {
     "name": "stderr",
     "output_type": "stream",
     "text": [
      "100%|██████████| 81/81 [00:04<00:00, 19.82it/s]\n"
     ]
    },
    {
     "name": "stdout",
     "output_type": "stream",
     "text": [
      "FID score: 49.95806884765625\n"
     ]
    },
    {
     "name": "stderr",
     "output_type": "stream",
     "text": [
      "sample images: 100%|██████████| 256/256 [00:05<00:00, 47.98it/s]\n"
     ]
    },
    {
     "name": "stdout",
     "output_type": "stream",
     "text": [
      "Inception score: 5.4804933000368905\n",
      "----- Epoch Summary -----\n",
      "Dis Loss: -0.049004 - Gen Loss: -0.701732 - Dis LR: 2.4672e-08 - Gen LR: 2.4672e-08\n",
      "FID score: 49.95806884765625 - Inception score: 5.4804933000368905 || @ epoch 298.\n",
      "Best FID score: 46.537933349609375 @ epoch 217\n",
      "-----      End      -----\n",
      "\n",
      "------- Epoch 299 -------\n",
      "[Epoch 299] [Batch 100/1563] [D loss: 0.921145] [G loss: -0.145116]\n",
      "[Epoch 299] [Batch 200/1563] [D loss: 1.167496] [G loss: 0.318244]\n",
      "[Epoch 299] [Batch 300/1563] [D loss: 1.372219] [G loss: 0.039753]\n",
      "[Epoch 299] [Batch 400/1563] [D loss: -0.156794] [G loss: 0.293922]\n",
      "[Epoch 299] [Batch 500/1563] [D loss: 1.527067] [G loss: -0.681810]\n",
      "[Epoch 299] [Batch 600/1563] [D loss: -0.969770] [G loss: -1.348156]\n",
      "[Epoch 299] [Batch 700/1563] [D loss: -1.022656] [G loss: -0.580487]\n",
      "[Epoch 299] [Batch 800/1563] [D loss: -0.935602] [G loss: -2.250042]\n",
      "[Epoch 299] [Batch 900/1563] [D loss: 0.800437] [G loss: -0.692903]\n",
      "[Epoch 299] [Batch 1000/1563] [D loss: -0.692487] [G loss: -0.491193]\n",
      "[Epoch 299] [Batch 1100/1563] [D loss: -1.685815] [G loss: -1.021915]\n",
      "[Epoch 299] [Batch 1200/1563] [D loss: 0.802698] [G loss: -0.098927]\n",
      "[Epoch 299] [Batch 1300/1563] [D loss: -0.401936] [G loss: -0.679299]\n",
      "[Epoch 299] [Batch 1400/1563] [D loss: 1.456774] [G loss: 0.055742]\n",
      "[Epoch 299] [Batch 1500/1563] [D loss: 0.166321] [G loss: 0.001262]\n"
     ]
    },
    {
     "name": "stderr",
     "output_type": "stream",
     "text": [
      "sample images: 100%|██████████| 256/256 [00:05<00:00, 48.02it/s]\n"
     ]
    },
    {
     "name": "stdout",
     "output_type": "stream",
     "text": [
      "Warning: number of images is not a multiple of the batch size. Some samples are going to be ignored.\n"
     ]
    },
    {
     "name": "stderr",
     "output_type": "stream",
     "text": [
      "100%|██████████| 81/81 [00:04<00:00, 19.72it/s]\n"
     ]
    },
    {
     "name": "stdout",
     "output_type": "stream",
     "text": [
      "FID score: 50.47265625\n"
     ]
    },
    {
     "name": "stderr",
     "output_type": "stream",
     "text": [
      "sample images: 100%|██████████| 256/256 [00:05<00:00, 47.95it/s]\n"
     ]
    },
    {
     "name": "stdout",
     "output_type": "stream",
     "text": [
      "Inception score: 5.484011887811273\n",
      "----- Epoch Summary -----\n",
      "Dis Loss: -0.039864 - Gen Loss: -0.652836 - Dis LR: 1.09658e-08 - Gen LR: 1.09658e-08\n",
      "FID score: 50.47265625 - Inception score: 5.484011887811273 || @ epoch 299.\n",
      "Best FID score: 46.537933349609375 @ epoch 217\n",
      "-----      End      -----\n",
      "\n",
      "------- Epoch 300 -------\n",
      "[Epoch 300] [Batch 100/1563] [D loss: -0.451411] [G loss: -1.001292]\n",
      "[Epoch 300] [Batch 200/1563] [D loss: 0.671989] [G loss: -1.198483]\n",
      "[Epoch 300] [Batch 300/1563] [D loss: 1.462822] [G loss: -0.978236]\n",
      "[Epoch 300] [Batch 400/1563] [D loss: 0.324467] [G loss: 0.268516]\n",
      "[Epoch 300] [Batch 500/1563] [D loss: -0.934613] [G loss: -1.275742]\n",
      "[Epoch 300] [Batch 600/1563] [D loss: 2.588436] [G loss: -0.170110]\n",
      "[Epoch 300] [Batch 700/1563] [D loss: -2.006279] [G loss: -0.996566]\n",
      "[Epoch 300] [Batch 800/1563] [D loss: -0.494775] [G loss: -0.559475]\n",
      "[Epoch 300] [Batch 900/1563] [D loss: 0.800503] [G loss: -1.102751]\n",
      "[Epoch 300] [Batch 1000/1563] [D loss: -0.213506] [G loss: -0.359827]\n",
      "[Epoch 300] [Batch 1100/1563] [D loss: 2.346906] [G loss: 0.155863]\n",
      "[Epoch 300] [Batch 1200/1563] [D loss: 0.738755] [G loss: -1.940893]\n",
      "[Epoch 300] [Batch 1300/1563] [D loss: -1.306600] [G loss: 0.514979]\n",
      "[Epoch 300] [Batch 1400/1563] [D loss: 1.758165] [G loss: -1.589635]\n",
      "[Epoch 300] [Batch 1500/1563] [D loss: 0.364031] [G loss: 0.782046]\n"
     ]
    },
    {
     "name": "stderr",
     "output_type": "stream",
     "text": [
      "sample images: 100%|██████████| 256/256 [00:05<00:00, 48.03it/s]\n"
     ]
    },
    {
     "name": "stdout",
     "output_type": "stream",
     "text": [
      "Warning: number of images is not a multiple of the batch size. Some samples are going to be ignored.\n"
     ]
    },
    {
     "name": "stderr",
     "output_type": "stream",
     "text": [
      "100%|██████████| 81/81 [00:04<00:00, 19.77it/s]\n"
     ]
    },
    {
     "name": "stdout",
     "output_type": "stream",
     "text": [
      "FID score: 51.16015625\n"
     ]
    },
    {
     "name": "stderr",
     "output_type": "stream",
     "text": [
      "sample images: 100%|██████████| 256/256 [00:05<00:00, 48.04it/s]\n"
     ]
    },
    {
     "name": "stdout",
     "output_type": "stream",
     "text": [
      "Inception score: 5.471022087962567\n",
      "----- Epoch Summary -----\n",
      "Dis Loss: -0.015091 - Gen Loss: -0.701516 - Dis LR: 2.74153e-09 - Gen LR: 2.74153e-09\n",
      "FID score: 51.16015625 - Inception score: 5.471022087962567 || @ epoch 300.\n",
      "Best FID score: 46.537933349609375 @ epoch 217\n",
      "-----      End      -----\n",
      "\n"
     ]
    },
    {
     "name": "stderr",
     "output_type": "stream",
     "text": [
      "sample images: 100%|██████████| 256/256 [00:05<00:00, 48.03it/s]\n"
     ]
    },
    {
     "name": "stdout",
     "output_type": "stream",
     "text": [
      "Warning: number of images is not a multiple of the batch size. Some samples are going to be ignored.\n"
     ]
    },
    {
     "name": "stderr",
     "output_type": "stream",
     "text": [
      "100%|██████████| 81/81 [00:04<00:00, 19.79it/s]\n"
     ]
    },
    {
     "name": "stdout",
     "output_type": "stream",
     "text": [
      "FID score: 50.919097900390625\n"
     ]
    },
    {
     "name": "stderr",
     "output_type": "stream",
     "text": [
      "sample images: 100%|██████████| 256/256 [00:05<00:00, 47.96it/s]\n"
     ]
    },
    {
     "name": "stdout",
     "output_type": "stream",
     "text": [
      "Inception score: 5.387210447091289\n"
     ]
    }
   ],
   "source": [
    "#Main training loop\n",
    "for epoch in range(epoch):\n",
    "    \n",
    "    print(f'------- Epoch {epoch+1:3} -------')\n",
    "    lr_schedulers = (gen_scheduler, dis_scheduler) if lr_decay else None\n",
    "    \n",
    "    epoch_record.append(epoch)\n",
    "    dis_lr.append(optim_dis.param_groups[0]['lr'])\n",
    "    gen_lr.append(optim_gen.param_groups[0]['lr'])\n",
    "    \n",
    "    gloss, dloss = train(noise, generator, discriminator, optim_gen, optim_dis, train_loader,\n",
    "                        epoch, writer, lr_schedulers,img_size=32, latent_dim = latent_dim,\n",
    "                        n_critic = n_critic,\n",
    "                        gener_batch_size=gener_batch_size)\n",
    "    \n",
    "    dis_loss.append(dloss)\n",
    "    gen_loss.append(gloss)\n",
    "    \n",
    "    checkpoint = {'epoch':epoch, 'best_fid':best}\n",
    "    checkpoint['generator_state_dict'] = generator.state_dict()\n",
    "    checkpoint['discriminator_state_dict'] = discriminator.state_dict()\n",
    "\n",
    "    fid_score, is_mean, is_std = validate(generator, writer_dict, fid_stat)\n",
    "    fid_record.append(fid_score)\n",
    "    is_record[0].append(is_mean)\n",
    "    is_record[1].append(is_std)\n",
    "\n",
    "    if fid_score < best:\n",
    "        save_checkpoint(checkpoint, is_best=True, output_dir=output_dir)\n",
    "        print(\"Saved Latest Model!\")\n",
    "        best = fid_score\n",
    "        best_epoch = epoch\n",
    "    \n",
    "    if epoch % 10 == 0:\n",
    "        checkpoint = {'epoch':epoch, 'best_fid':best}\n",
    "        checkpoint['generator_state_dict'] = generator.state_dict()\n",
    "        checkpoint['discriminator_state_dict'] = discriminator.state_dict()\n",
    "        save_checkpoint(checkpoint,is_best=(fid_score<best), output_dir=output_dir)\n",
    "        Record_Train(epoch_record,dis_lr,gen_lr,dis_loss,gen_loss,fid_record,is_record)\n",
    "    \n",
    "    print('----- Epoch Summary -----')\n",
    "    print(f'Dis Loss: {dloss:.6f} - Gen Loss: {gloss:.6f} - Dis LR: {dis_lr[len(dis_lr)-1]:.6} - Gen LR: {gen_lr[len(gen_lr)-1]:.6}')\n",
    "    print(f'FID score: {fid_score} - Inception score: {is_mean} || @ epoch {epoch+1}.')\n",
    "    print(f'Best FID score: {best} @ epoch {best_epoch+1}')\n",
    "    print('-----      End      -----')\n",
    "    print('')\n",
    "    \n",
    "    #torch.cuda.empty_cache()\n",
    "\n",
    "checkpoint = {'epoch':epoch, 'best_fid':best}\n",
    "checkpoint['generator_state_dict'] = generator.state_dict()\n",
    "checkpoint['discriminator_state_dict'] = discriminator.state_dict()\n",
    "fid_score,_,_ = validate(generator, writer_dict, fid_stat) ####CHECK AGAIN\n",
    "save_checkpoint(checkpoint,is_best=(fid_score<best), output_dir=output_dir)\n",
    "Record_Train(epoch_record,dis_lr,gen_lr,dis_loss,gen_loss,fid_record,is_record)"
   ]
  },
  {
   "cell_type": "code",
   "execution_count": 13,
   "id": "3deea802",
   "metadata": {},
   "outputs": [],
   "source": []
  },
  {
   "cell_type": "code",
   "execution_count": 18,
   "id": "68815f61",
   "metadata": {},
   "outputs": [],
   "source": []
  },
  {
   "cell_type": "code",
   "execution_count": null,
   "id": "7fecba25",
   "metadata": {},
   "outputs": [],
   "source": []
  },
  {
   "cell_type": "code",
   "execution_count": null,
   "id": "4c37bcab",
   "metadata": {},
   "outputs": [],
   "source": []
  }
 ],
 "metadata": {
  "kernelspec": {
   "display_name": "Python 3 (ipykernel)",
   "language": "python",
   "name": "python3"
  },
  "language_info": {
   "codemirror_mode": {
    "name": "ipython",
    "version": 3
   },
   "file_extension": ".py",
   "mimetype": "text/x-python",
   "name": "python",
   "nbconvert_exporter": "python",
   "pygments_lexer": "ipython3",
   "version": "3.9.13"
  }
 },
 "nbformat": 4,
 "nbformat_minor": 5
}
